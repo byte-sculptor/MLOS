{
 "cells": [
  {
   "cell_type": "code",
   "execution_count": 1,
   "metadata": {},
   "outputs": [
    {
     "data": {
      "text/html": [
       "<style>.container { width:100% !important; }</style>"
      ],
      "text/plain": [
       "<IPython.core.display.HTML object>"
      ]
     },
     "metadata": {},
     "output_type": "display_data"
    }
   ],
   "source": [
    "from IPython.core.display import display, HTML\n",
    "import math\n",
    "import pandas as pd\n",
    "\n",
    "import mlos.global_values as global_values\n",
    "from mlos.Optimizers.BayesianOptimizerFactory import BayesianOptimizerFactory\n",
    "from mlos.Optimizers.BayesianOptimizerConfigStore import bayesian_optimizer_config_store\n",
    "from mlos.Optimizers.OptimizationProblem import OptimizationProblem, Objective\n",
    "from mlos.Spaces import ContinuousDimension, Point, SimpleHypergrid\n",
    "from mlos.Tracer import Tracer\n",
    "\n",
    "display(HTML(\"<style>.container { width:100% !important; }</style>\"))\n",
    "\n",
    "global_values.declare_singletons()\n",
    "# global_values.tracer = Tracer(actor_id=\"OptimizerEvaluationTools\", thread_id=0)\n",
    "\n",
    "# Let's stand up the Optimizer Microservice\n",
    "#\n",
    "optimizer_factory = BayesianOptimizerFactory()"
   ]
  },
  {
   "cell_type": "code",
   "execution_count": 2,
   "metadata": {},
   "outputs": [
    {
     "name": "stderr",
     "output_type": "stream",
     "text": [
      "09/29/2020 18:55:57 -   BayesianOptimizerFactory -    INFO - [BayesianOptimizerFactory.py:  40 -    create_local_optimizer() ] Creating a bayesian optimizer with config: {\n",
      "  \"surrogate_model_implementation\": \"HomogeneousRandomForestRegressionModel\",\n",
      "  \"experiment_designer_implementation\": \"ExperimentDesigner\",\n",
      "  \"min_samples_required_for_guided_design_of_experiments\": 10,\n",
      "  \"homogeneous_random_forest_regression_model_config.n_estimators\": 100,\n",
      "  \"homogeneous_random_forest_regression_model_config.features_fraction_per_estimator\": 1,\n",
      "  \"homogeneous_random_forest_regression_model_config.samples_fraction_per_estimator\": 1,\n",
      "  \"homogeneous_random_forest_regression_model_config.regressor_implementation\": \"DecisionTreeRegressionModel\",\n",
      "  \"homogeneous_random_forest_regression_model_config.decision_tree_regression_model_config.criterion\": \"mse\",\n",
      "  \"homogeneous_random_forest_regression_model_config.decision_tree_regression_model_config.splitter\": \"best\",\n",
      "  \"homogeneous_random_forest_regression_model_config.decision_tree_regression_model_config.max_depth\": 0,\n",
      "  \"homogeneous_random_forest_regression_model_config.decision_tree_regression_model_config.min_samples_split\": 2,\n",
      "  \"homogeneous_random_forest_regression_model_config.decision_tree_regression_model_config.min_samples_leaf\": 3,\n",
      "  \"homogeneous_random_forest_regression_model_config.decision_tree_regression_model_config.min_weight_fraction_leaf\": 0,\n",
      "  \"homogeneous_random_forest_regression_model_config.decision_tree_regression_model_config.max_features\": \"auto\",\n",
      "  \"homogeneous_random_forest_regression_model_config.decision_tree_regression_model_config.max_leaf_nodes\": 0,\n",
      "  \"homogeneous_random_forest_regression_model_config.decision_tree_regression_model_config.min_impurity_decrease\": 0,\n",
      "  \"homogeneous_random_forest_regression_model_config.decision_tree_regression_model_config.ccp_alpha\": 0,\n",
      "  \"homogeneous_random_forest_regression_model_config.decision_tree_regression_model_config.min_samples_to_fit\": 10,\n",
      "  \"homogeneous_random_forest_regression_model_config.decision_tree_regression_model_config.n_new_samples_before_refit\": 1,\n",
      "  \"homogeneous_random_forest_regression_model_config.bootstrap\": 1,\n",
      "  \"experiment_designer_config.utility_function_implementation\": \"ConfidenceBoundUtilityFunction\",\n",
      "  \"experiment_designer_config.numeric_optimizer_implementation\": \"GlowWormSwarmOptimizer\",\n",
      "  \"experiment_designer_config.confidence_bound_utility_function_config.utility_function_name\": \"upper_confidence_bound_on_improvement\",\n",
      "  \"experiment_designer_config.confidence_bound_utility_function_config.alpha\": 0.01,\n",
      "  \"experiment_designer_config.glow_worm_swarm_optimizer_config.num_initial_points_multiplier\": 5,\n",
      "  \"experiment_designer_config.glow_worm_swarm_optimizer_config.num_worms\": 100,\n",
      "  \"experiment_designer_config.glow_worm_swarm_optimizer_config.num_iterations\": 10,\n",
      "  \"experiment_designer_config.glow_worm_swarm_optimizer_config.luciferin_decay_constant\": 0.2,\n",
      "  \"experiment_designer_config.glow_worm_swarm_optimizer_config.luciferin_enhancement_constant\": 0.2,\n",
      "  \"experiment_designer_config.glow_worm_swarm_optimizer_config.step_size\": 0.01,\n",
      "  \"experiment_designer_config.glow_worm_swarm_optimizer_config.initial_decision_radius\": 0.2,\n",
      "  \"experiment_designer_config.glow_worm_swarm_optimizer_config.max_sensory_radius\": 2,\n",
      "  \"experiment_designer_config.glow_worm_swarm_optimizer_config.desired_num_neighbors\": 10,\n",
      "  \"experiment_designer_config.glow_worm_swarm_optimizer_config.decision_radius_adjustment_constant\": 0.05,\n",
      "  \"experiment_designer_config.fraction_random_suggestions\": 0.2\n",
      "}.\n"
     ]
    }
   ],
   "source": [
    "# Let's make a meta optimizer.\n",
    "#\n",
    "meta_optimizer_config = bayesian_optimizer_config_store.get_config_by_name(\"default_with_glow_worm\")\n",
    "meta_optimizer_config.homogeneous_random_forest_regression_model_config.n_estimators = 100\n",
    "meta_optimizer_config.homogeneous_random_forest_regression_model_config.decision_tree_regression_model_config.n_new_samples_before_refit = 1\n",
    "meta_optimizer_config.experiment_designer_config.fraction_random_suggestions = 0.2\n",
    "\n",
    "meta_optimizer = optimizer_factory.create_local_optimizer(\n",
    "    optimizer_config=meta_optimizer_config,\n",
    "    optimization_problem=OptimizationProblem(\n",
    "        parameter_space=bayesian_optimizer_config_store.parameter_space,\n",
    "        objective_space=SimpleHypergrid(\n",
    "            name=\"predictions\",\n",
    "            dimensions=[\n",
    "                ContinuousDimension(name=\"optimum_value_after_100_iterations\", min=-math.inf, max=math.inf)\n",
    "            ]\n",
    "        ),\n",
    "        objectives=[Objective(name='optimum_value_after_100_iterations', minimize=True)]\n",
    "    )\n",
    ")"
   ]
  },
  {
   "cell_type": "code",
   "execution_count": 3,
   "metadata": {},
   "outputs": [
    {
     "name": "stdout",
     "output_type": "stream",
     "text": [
      "{\n",
      "  \"implementation\": \"ThreeLevelQuadratic\"\n",
      "}\n"
     ]
    }
   ],
   "source": [
    "from mlos.OptimizerEvaluationTools.ObjectiveFunctionFactory import ObjectiveFunctionFactory\n",
    "from mlos.OptimizerEvaluationTools.ObjectiveFunctionConfigStore import objective_function_config_store\n",
    "objective_function_config = objective_function_config_store.get_config_by_name('three_level_quadratic')\n",
    "objective_function = ObjectiveFunctionFactory.create_objective_function(objective_function_config)\n",
    "\n",
    "print(objective_function_config.to_json(indent=2))"
   ]
  },
  {
   "cell_type": "code",
   "execution_count": 4,
   "metadata": {},
   "outputs": [
    {
     "name": "stdout",
     "output_type": "stream",
     "text": [
      "  Name: three_level_quadratic_config\n",
      "  Dimensions:\n",
      "    vertex_height: {low, 5, 15}\n",
      "\n",
      "  IF vertex_height IN {low} THEN (\n",
      "    Name: low_quadratic_params\n",
      "    Dimensions:\n",
      "      x_1: [-100.00, 100.00]\n",
      "      x_2: [-100.00, 100.00]\n",
      "  )\n",
      "\n",
      "  IF vertex_height IN {5} THEN (\n",
      "    Name: medium_quadratic_params\n",
      "    Dimensions:\n",
      "      x_1: [-100.00, 100.00]\n",
      "      x_2: [-100.00, 100.00]\n",
      "  )\n",
      "\n",
      "  IF vertex_height IN {15} THEN (\n",
      "    Name: high_quadratic_params\n",
      "    Dimensions:\n",
      "      x_1: [-100.00, 100.00]\n",
      "      x_2: [-100.00, 100.00]\n",
      "  )\n"
     ]
    }
   ],
   "source": [
    "print(objective_function.parameter_space)"
   ]
  },
  {
   "cell_type": "code",
   "execution_count": 5,
   "metadata": {},
   "outputs": [],
   "source": [
    "from mlos.Logger import create_logger\n",
    "from mlos.Optimizers.RegressionModels.RegressionModelFitState import RegressionModelFitState\n",
    "\n",
    "# Let us set up the lists to track optima over time.\n",
    "#\n",
    "best_observation_num_observations = []\n",
    "best_observation_configs = []\n",
    "best_observations = []\n",
    "\n",
    "predicted_value_num_observations = []\n",
    "best_predicted_value_configs = []\n",
    "best_predicted_values = []\n",
    "\n",
    "regression_model_fit_state = RegressionModelFitState()"
   ]
  },
  {
   "cell_type": "code",
   "execution_count": 6,
   "metadata": {},
   "outputs": [],
   "source": [
    "logger = create_logger(\"Optimizer evaluation.\")\n",
    "i = 0"
   ]
  },
  {
   "cell_type": "code",
   "execution_count": null,
   "metadata": {
    "scrolled": true
   },
   "outputs": [
    {
     "name": "stderr",
     "output_type": "stream",
     "text": [
      "09/29/2020 18:55:57 -   BayesianOptimizerFactory -    INFO - [BayesianOptimizerFactory.py:  40 -    create_local_optimizer() ] Creating a bayesian optimizer with config: {\n",
      "  \"surrogate_model_implementation\": \"HomogeneousRandomForestRegressionModel\",\n",
      "  \"experiment_designer_implementation\": \"ExperimentDesigner\",\n",
      "  \"min_samples_required_for_guided_design_of_experiments\": 56,\n",
      "  \"homogeneous_random_forest_regression_model_config.n_estimators\": 126,\n",
      "  \"homogeneous_random_forest_regression_model_config.features_fraction_per_estimator\": 0.4507923548206544,\n",
      "  \"homogeneous_random_forest_regression_model_config.samples_fraction_per_estimator\": 0.3273192317976761,\n",
      "  \"homogeneous_random_forest_regression_model_config.regressor_implementation\": \"DecisionTreeRegressionModel\",\n",
      "  \"homogeneous_random_forest_regression_model_config.bootstrap\": 0,\n",
      "  \"homogeneous_random_forest_regression_model_config.decision_tree_regression_model_config.criterion\": \"mae\",\n",
      "  \"homogeneous_random_forest_regression_model_config.decision_tree_regression_model_config.splitter\": \"best\",\n",
      "  \"homogeneous_random_forest_regression_model_config.decision_tree_regression_model_config.max_depth\": 471,\n",
      "  \"homogeneous_random_forest_regression_model_config.decision_tree_regression_model_config.min_samples_split\": 833,\n",
      "  \"homogeneous_random_forest_regression_model_config.decision_tree_regression_model_config.min_samples_leaf\": 886,\n",
      "  \"homogeneous_random_forest_regression_model_config.decision_tree_regression_model_config.min_weight_fraction_leaf\": 0.19298453249213549,\n",
      "  \"homogeneous_random_forest_regression_model_config.decision_tree_regression_model_config.max_features\": \"auto\",\n",
      "  \"homogeneous_random_forest_regression_model_config.decision_tree_regression_model_config.max_leaf_nodes\": 741,\n",
      "  \"homogeneous_random_forest_regression_model_config.decision_tree_regression_model_config.min_impurity_decrease\": 682.2631208966042,\n",
      "  \"homogeneous_random_forest_regression_model_config.decision_tree_regression_model_config.ccp_alpha\": 748.2686241516402,\n",
      "  \"homogeneous_random_forest_regression_model_config.decision_tree_regression_model_config.min_samples_to_fit\": 247,\n",
      "  \"homogeneous_random_forest_regression_model_config.decision_tree_regression_model_config.n_new_samples_before_refit\": 693,\n",
      "  \"experiment_designer_config.utility_function_implementation\": \"ConfidenceBoundUtilityFunction\",\n",
      "  \"experiment_designer_config.numeric_optimizer_implementation\": \"RandomSearchOptimizer\",\n",
      "  \"experiment_designer_config.fraction_random_suggestions\": 0.2055365479448512,\n",
      "  \"experiment_designer_config.confidence_bound_utility_function_config.utility_function_name\": \"upper_confidence_bound_on_improvement\",\n",
      "  \"experiment_designer_config.confidence_bound_utility_function_config.alpha\": 0.3965436792504191,\n",
      "  \"experiment_designer_config.random_search_optimizer_config.num_samples_per_iteration\": 7068\n",
      "}.\n",
      "09/29/2020 18:55:57 -      Optimizer evaluation. -    INFO - [<ipython-input-7-9a4145fa58c9>:  27 -                  <module>() ] [1/100]Parameters: {\"vertex_height\": 5, \"medium_quadratic_params.x_1\": -70.56144861703083, \"medium_quadratic_params.x_2\": -60.084627715360206}, objectives: {\"y\": 8594.080518627314}\n",
      "09/29/2020 18:55:57 -      Optimizer evaluation. -    INFO - [<ipython-input-7-9a4145fa58c9>:  27 -                  <module>() ] [2/100]Parameters: {\"vertex_height\": 15, \"high_quadratic_params.x_1\": 89.72018565476984, \"high_quadratic_params.x_2\": -13.321861719476473}, objectives: {\"y\": 8242.18371359922}\n",
      "09/29/2020 18:55:57 -      Optimizer evaluation. -    INFO - [<ipython-input-7-9a4145fa58c9>:  27 -                  <module>() ] [3/100]Parameters: {\"vertex_height\": \"low\", \"low_quadratic_params.x_1\": 65.95348828102644, \"low_quadratic_params.x_2\": 67.12922752763998}, objectives: {\"y\": 8856.195804893148}\n",
      "09/29/2020 18:55:57 -      Optimizer evaluation. -    INFO - [<ipython-input-7-9a4145fa58c9>:  27 -                  <module>() ] [4/100]Parameters: {\"vertex_height\": 5, \"medium_quadratic_params.x_1\": 12.435800459031256, \"medium_quadratic_params.x_2\": 55.37420961787706}, objectives: {\"y\": 3225.95222386143}\n",
      "09/29/2020 18:55:57 -      Optimizer evaluation. -    INFO - [<ipython-input-7-9a4145fa58c9>:  27 -                  <module>() ] [5/100]Parameters: {\"vertex_height\": 15, \"high_quadratic_params.x_1\": -14.514664071174408, \"high_quadratic_params.x_2\": 68.30533248938636}, objectives: {\"y\": 4891.293919584661}\n",
      "09/29/2020 18:55:57 -      Optimizer evaluation. -    INFO - [<ipython-input-7-9a4145fa58c9>:  27 -                  <module>() ] [6/100]Parameters: {\"vertex_height\": \"low\", \"low_quadratic_params.x_1\": -1.9233640194627526, \"low_quadratic_params.x_2\": 92.48152529414696}, objectives: {\"y\": 8556.53184988331}\n",
      "09/29/2020 18:55:57 -      Optimizer evaluation. -    INFO - [<ipython-input-7-9a4145fa58c9>:  27 -                  <module>() ] [7/100]Parameters: {\"vertex_height\": 15, \"high_quadratic_params.x_1\": -64.38140381184583, \"high_quadratic_params.x_2\": -75.51860475141059}, objectives: {\"y\": 9863.024820383731}\n",
      "09/29/2020 18:55:57 -      Optimizer evaluation. -    INFO - [<ipython-input-7-9a4145fa58c9>:  27 -                  <module>() ] [8/100]Parameters: {\"vertex_height\": \"low\", \"low_quadratic_params.x_1\": -55.383457545313085, \"low_quadratic_params.x_2\": 68.37540383801041}, objectives: {\"y\": 7742.523219684506}\n",
      "09/29/2020 18:55:57 -      Optimizer evaluation. -    INFO - [<ipython-input-7-9a4145fa58c9>:  27 -                  <module>() ] [9/100]Parameters: {\"vertex_height\": 5, \"medium_quadratic_params.x_1\": 2.0214839277606416, \"medium_quadratic_params.x_2\": -28.33992344713367}, objectives: {\"y\": 812.2376582595914}\n",
      "09/29/2020 18:55:57 -      Optimizer evaluation. -    INFO - [<ipython-input-7-9a4145fa58c9>:  27 -                  <module>() ] [10/100]Parameters: {\"vertex_height\": 5, \"medium_quadratic_params.x_1\": 85.13582326940343, \"medium_quadratic_params.x_2\": -68.48653479318372}, objectives: {\"y\": 11943.513851737058}\n",
      "09/29/2020 18:55:57 -      Optimizer evaluation. -    INFO - [<ipython-input-7-9a4145fa58c9>:  27 -                  <module>() ] [11/100]Parameters: {\"vertex_height\": 5, \"medium_quadratic_params.x_1\": -66.69678725004056, \"medium_quadratic_params.x_2\": 55.69308700417858}, objectives: {\"y\": 7555.181369532178}\n",
      "09/29/2020 18:55:57 -      Optimizer evaluation. -    INFO - [<ipython-input-7-9a4145fa58c9>:  27 -                  <module>() ] [12/100]Parameters: {\"vertex_height\": \"low\", \"low_quadratic_params.x_1\": -55.44932603423762, \"low_quadratic_params.x_2\": -65.53031050503337}, objectives: {\"y\": 7368.849352537269}\n",
      "09/29/2020 18:55:57 -      Optimizer evaluation. -    INFO - [<ipython-input-7-9a4145fa58c9>:  27 -                  <module>() ] [13/100]Parameters: {\"vertex_height\": \"low\", \"low_quadratic_params.x_1\": 3.9098177360028785, \"low_quadratic_params.x_2\": -11.337912674447352}, objectives: {\"y\": 143.83493854215658}\n",
      "09/29/2020 18:55:57 -      Optimizer evaluation. -    INFO - [<ipython-input-7-9a4145fa58c9>:  27 -                  <module>() ] [14/100]Parameters: {\"vertex_height\": 5, \"medium_quadratic_params.x_1\": 29.97728541764718, \"medium_quadratic_params.x_2\": -17.464395672254042}, objectives: {\"y\": 1208.642757208128}\n",
      "09/29/2020 18:55:57 -      Optimizer evaluation. -    INFO - [<ipython-input-7-9a4145fa58c9>:  27 -                  <module>() ] [15/100]Parameters: {\"vertex_height\": 15, \"high_quadratic_params.x_1\": 82.74947618445992, \"high_quadratic_params.x_2\": -43.90393545851721}, objectives: {\"y\": 8790.031357548145}\n",
      "09/29/2020 18:55:57 -      Optimizer evaluation. -    INFO - [<ipython-input-7-9a4145fa58c9>:  27 -                  <module>() ] [16/100]Parameters: {\"vertex_height\": 5, \"medium_quadratic_params.x_1\": -23.362657954714066, \"medium_quadratic_params.x_2\": -88.42805387974266}, objectives: {\"y\": 8370.334499667635}\n",
      "09/29/2020 18:55:57 -      Optimizer evaluation. -    INFO - [<ipython-input-7-9a4145fa58c9>:  27 -                  <module>() ] [17/100]Parameters: {\"vertex_height\": \"low\", \"low_quadratic_params.x_1\": -63.87110646905045, \"low_quadratic_params.x_2\": -89.0410562710472}, objectives: {\"y\": 12007.827943444572}\n",
      "09/29/2020 18:55:57 -      Optimizer evaluation. -    INFO - [<ipython-input-7-9a4145fa58c9>:  27 -                  <module>() ] [18/100]Parameters: {\"vertex_height\": \"low\", \"low_quadratic_params.x_1\": -91.1302322384085, \"low_quadratic_params.x_2\": -41.586804898421214}, objectives: {\"y\": 10034.181569485618}\n"
     ]
    },
    {
     "name": "stderr",
     "output_type": "stream",
     "text": [
      "09/29/2020 18:55:57 -      Optimizer evaluation. -    INFO - [<ipython-input-7-9a4145fa58c9>:  27 -                  <module>() ] [19/100]Parameters: {\"vertex_height\": 5, \"medium_quadratic_params.x_1\": 69.88838830949854, \"medium_quadratic_params.x_2\": 25.844485090875068}, objectives: {\"y\": 5557.324230111716}\n",
      "09/29/2020 18:55:57 -      Optimizer evaluation. -    INFO - [<ipython-input-7-9a4145fa58c9>:  27 -                  <module>() ] [20/100]Parameters: {\"vertex_height\": 15, \"high_quadratic_params.x_1\": 76.47403632461328, \"high_quadratic_params.x_2\": -85.81013693467978}, objectives: {\"y\": 13226.657832526766}\n",
      "09/29/2020 18:55:57 -      Optimizer evaluation. -    INFO - [<ipython-input-7-9a4145fa58c9>:  27 -                  <module>() ] [21/100]Parameters: {\"vertex_height\": \"low\", \"low_quadratic_params.x_1\": -76.04097346406269, \"low_quadratic_params.x_2\": 74.70387856739299}, objectives: {\"y\": 11362.899118374084}\n",
      "09/29/2020 18:55:57 -      Optimizer evaluation. -    INFO - [<ipython-input-7-9a4145fa58c9>:  27 -                  <module>() ] [22/100]Parameters: {\"vertex_height\": 15, \"high_quadratic_params.x_1\": -55.81220085325451, \"high_quadratic_params.x_2\": 8.220200409196622}, objectives: {\"y\": 3197.5734588513797}\n",
      "09/29/2020 18:55:57 -      Optimizer evaluation. -    INFO - [<ipython-input-7-9a4145fa58c9>:  27 -                  <module>() ] [23/100]Parameters: {\"vertex_height\": \"low\", \"low_quadratic_params.x_1\": -33.939326135769505, \"low_quadratic_params.x_2\": 50.959774195261076}, objectives: {\"y\": 3748.776444582124}\n",
      "09/29/2020 18:55:57 -      Optimizer evaluation. -    INFO - [<ipython-input-7-9a4145fa58c9>:  27 -                  <module>() ] [24/100]Parameters: {\"vertex_height\": 15, \"high_quadratic_params.x_1\": -68.51046165261783, \"high_quadratic_params.x_2\": -70.71368860885721}, objectives: {\"y\": 9709.10911252524}\n",
      "09/29/2020 18:55:57 -      Optimizer evaluation. -    INFO - [<ipython-input-7-9a4145fa58c9>:  27 -                  <module>() ] [25/100]Parameters: {\"vertex_height\": \"low\", \"low_quadratic_params.x_1\": 64.61245101119664, \"low_quadratic_params.x_2\": -20.213478031522286}, objectives: {\"y\": 4583.3535198051195}\n",
      "09/29/2020 18:55:57 -      Optimizer evaluation. -    INFO - [<ipython-input-7-9a4145fa58c9>:  27 -                  <module>() ] [26/100]Parameters: {\"vertex_height\": 5, \"medium_quadratic_params.x_1\": -20.04622539923122, \"medium_quadratic_params.x_2\": 49.352580782951065}, objectives: {\"y\": 2842.5283826944938}\n",
      "09/29/2020 18:55:57 -      Optimizer evaluation. -    INFO - [<ipython-input-7-9a4145fa58c9>:  27 -                  <module>() ] [27/100]Parameters: {\"vertex_height\": 15, \"high_quadratic_params.x_1\": -38.38889862304702, \"high_quadratic_params.x_2\": -2.201032815888553}, objectives: {\"y\": 1493.5520829471998}\n",
      "09/29/2020 18:55:57 -      Optimizer evaluation. -    INFO - [<ipython-input-7-9a4145fa58c9>:  27 -                  <module>() ] [28/100]Parameters: {\"vertex_height\": 15, \"high_quadratic_params.x_1\": -53.50434099241197, \"high_quadratic_params.x_2\": 82.96108917498887}, objectives: {\"y\": 9760.256822132751}\n",
      "09/29/2020 18:55:57 -      Optimizer evaluation. -    INFO - [<ipython-input-7-9a4145fa58c9>:  27 -                  <module>() ] [29/100]Parameters: {\"vertex_height\": 15, \"high_quadratic_params.x_1\": 89.43119814747118, \"high_quadratic_params.x_2\": -40.73034309803678}, objectives: {\"y\": 9671.900050976044}\n",
      "09/29/2020 18:55:57 -      Optimizer evaluation. -    INFO - [<ipython-input-7-9a4145fa58c9>:  27 -                  <module>() ] [30/100]Parameters: {\"vertex_height\": \"low\", \"low_quadratic_params.x_1\": 5.464634070769264, \"low_quadratic_params.x_2\": 68.77708652553096}, objectives: {\"y\": 4760.149856467785}\n",
      "09/29/2020 18:55:57 -      Optimizer evaluation. -    INFO - [<ipython-input-7-9a4145fa58c9>:  27 -                  <module>() ] [31/100]Parameters: {\"vertex_height\": 15, \"high_quadratic_params.x_1\": 49.07371650471822, \"high_quadratic_params.x_2\": 37.74386427327957}, objectives: {\"y\": 3847.828941865204}\n",
      "09/29/2020 18:55:57 -      Optimizer evaluation. -    INFO - [<ipython-input-7-9a4145fa58c9>:  27 -                  <module>() ] [32/100]Parameters: {\"vertex_height\": 5, \"medium_quadratic_params.x_1\": 11.998267104049205, \"medium_quadratic_params.x_2\": -0.675576799647331}, objectives: {\"y\": 149.414817512331}\n",
      "09/29/2020 18:55:57 -      Optimizer evaluation. -    INFO - [<ipython-input-7-9a4145fa58c9>:  27 -                  <module>() ] [33/100]Parameters: {\"vertex_height\": \"low\", \"low_quadratic_params.x_1\": -17.407424416935797, \"low_quadratic_params.x_2\": -29.538646269109776}, objectives: {\"y\": 1175.5500482429254}\n",
      "09/29/2020 18:55:57 -      Optimizer evaluation. -    INFO - [<ipython-input-7-9a4145fa58c9>:  27 -                  <module>() ] [34/100]Parameters: {\"vertex_height\": \"low\", \"low_quadratic_params.x_1\": 84.22699903615953, \"low_quadratic_params.x_2\": 16.78575791749026}, objectives: {\"y\": 7375.949035501804}\n",
      "09/29/2020 18:55:57 -      Optimizer evaluation. -    INFO - [<ipython-input-7-9a4145fa58c9>:  27 -                  <module>() ] [35/100]Parameters: {\"vertex_height\": \"low\", \"low_quadratic_params.x_1\": -2.9439365320715893, \"low_quadratic_params.x_2\": -52.69209853538368}, objectives: {\"y\": 2785.1240103674486}\n",
      "09/29/2020 18:55:57 -      Optimizer evaluation. -    INFO - [<ipython-input-7-9a4145fa58c9>:  27 -                  <module>() ] [36/100]Parameters: {\"vertex_height\": \"low\", \"low_quadratic_params.x_1\": 65.24083744660942, \"low_quadratic_params.x_2\": 74.93268000842485}, objectives: {\"y\": 9871.273403979907}\n",
      "09/29/2020 18:55:57 -      Optimizer evaluation. -    INFO - [<ipython-input-7-9a4145fa58c9>:  27 -                  <module>() ] [37/100]Parameters: {\"vertex_height\": \"low\", \"low_quadratic_params.x_1\": -73.08396605212262, \"low_quadratic_params.x_2\": -1.1035891853051254}, objectives: {\"y\": 5342.484002997734}\n",
      "09/29/2020 18:55:57 -      Optimizer evaluation. -    INFO - [<ipython-input-7-9a4145fa58c9>:  27 -                  <module>() ] [38/100]Parameters: {\"vertex_height\": 15, \"high_quadratic_params.x_1\": 9.048495928777854, \"high_quadratic_params.x_2\": 74.00890003630579}, objectives: {\"y\": 5574.192563157012}\n",
      "09/29/2020 18:55:57 -      Optimizer evaluation. -    INFO - [<ipython-input-7-9a4145fa58c9>:  27 -                  <module>() ] [39/100]Parameters: {\"vertex_height\": 5, \"medium_quadratic_params.x_1\": 60.556097501974875, \"medium_quadratic_params.x_2\": -3.807177279080605}, objectives: {\"y\": 3686.535543503035}\n",
      "09/29/2020 18:55:57 -      Optimizer evaluation. -    INFO - [<ipython-input-7-9a4145fa58c9>:  27 -                  <module>() ] [40/100]Parameters: {\"vertex_height\": 15, \"high_quadratic_params.x_1\": 98.88314165247013, \"high_quadratic_params.x_2\": -38.93951263300666}, objectives: {\"y\": 11309.161347158559}\n",
      "09/29/2020 18:55:57 -      Optimizer evaluation. -    INFO - [<ipython-input-7-9a4145fa58c9>:  27 -                  <module>() ] [41/100]Parameters: {\"vertex_height\": \"low\", \"low_quadratic_params.x_1\": 52.65157029864699, \"low_quadratic_params.x_2\": -69.55089553151745}, objectives: {\"y\": 7609.51492414942}\n",
      "09/29/2020 18:55:57 -      Optimizer evaluation. -    INFO - [<ipython-input-7-9a4145fa58c9>:  27 -                  <module>() ] [42/100]Parameters: {\"vertex_height\": 5, \"medium_quadratic_params.x_1\": -30.096693982341222, \"medium_quadratic_params.x_2\": -61.36377517341636}, objectives: {\"y\": 4676.323892200284}\n",
      "09/29/2020 18:55:57 -      Optimizer evaluation. -    INFO - [<ipython-input-7-9a4145fa58c9>:  27 -                  <module>() ] [43/100]Parameters: {\"vertex_height\": 15, \"high_quadratic_params.x_1\": -85.80478680188452, \"high_quadratic_params.x_2\": -39.41000996594954}, objectives: {\"y\": 8930.610323633098}\n",
      "09/29/2020 18:55:57 -      Optimizer evaluation. -    INFO - [<ipython-input-7-9a4145fa58c9>:  27 -                  <module>() ] [44/100]Parameters: {\"vertex_height\": 15, \"high_quadratic_params.x_1\": -99.3578087057954, \"high_quadratic_params.x_2\": 72.64242812929822}, objectives: {\"y\": 15163.896515337692}\n",
      "09/29/2020 18:55:57 -      Optimizer evaluation. -    INFO - [<ipython-input-7-9a4145fa58c9>:  27 -                  <module>() ] [45/100]Parameters: {\"vertex_height\": 15, \"high_quadratic_params.x_1\": -48.657339245078376, \"high_quadratic_params.x_2\": -62.96904348707382}, objectives: {\"y\": 6347.637100087638}\n"
     ]
    },
    {
     "name": "stderr",
     "output_type": "stream",
     "text": [
      "09/29/2020 18:55:57 -      Optimizer evaluation. -    INFO - [<ipython-input-7-9a4145fa58c9>:  27 -                  <module>() ] [46/100]Parameters: {\"vertex_height\": 15, \"high_quadratic_params.x_1\": -42.540460241159714, \"high_quadratic_params.x_2\": 72.23111864315422}, objectives: {\"y\": 7042.0252579711105}\n",
      "09/29/2020 18:55:57 -      Optimizer evaluation. -    INFO - [<ipython-input-7-9a4145fa58c9>:  27 -                  <module>() ] [47/100]Parameters: {\"vertex_height\": 15, \"high_quadratic_params.x_1\": -10.138010334382173, \"high_quadratic_params.x_2\": 57.00765712217046}, objectives: {\"y\": 3367.652224098992}\n",
      "09/29/2020 18:55:57 -      Optimizer evaluation. -    INFO - [<ipython-input-7-9a4145fa58c9>:  27 -                  <module>() ] [48/100]Parameters: {\"vertex_height\": 5, \"medium_quadratic_params.x_1\": -49.88941551388662, \"medium_quadratic_params.x_2\": -27.27541634964024}, objectives: {\"y\": 3237.902117363453}\n",
      "09/29/2020 18:55:57 -      Optimizer evaluation. -    INFO - [<ipython-input-7-9a4145fa58c9>:  27 -                  <module>() ] [49/100]Parameters: {\"vertex_height\": 5, \"medium_quadratic_params.x_1\": 23.285631728692067, \"medium_quadratic_params.x_2\": -44.4332771390638}, objectives: {\"y\": 2521.53676232112}\n",
      "09/29/2020 18:55:57 -      Optimizer evaluation. -    INFO - [<ipython-input-7-9a4145fa58c9>:  27 -                  <module>() ] [50/100]Parameters: {\"vertex_height\": \"low\", \"low_quadratic_params.x_1\": 16.139918156243226, \"low_quadratic_params.x_2\": 7.677222986612662}, objectives: {\"y\": 319.4367108764036}\n",
      "09/29/2020 18:55:57 -      Optimizer evaluation. -    INFO - [<ipython-input-7-9a4145fa58c9>:  27 -                  <module>() ] [51/100]Parameters: {\"vertex_height\": 5, \"medium_quadratic_params.x_1\": -82.73968329273195, \"medium_quadratic_params.x_2\": 73.33555005259123}, objectives: {\"y\": 12228.958092897701}\n",
      "09/29/2020 18:55:57 -      Optimizer evaluation. -    INFO - [<ipython-input-7-9a4145fa58c9>:  27 -                  <module>() ] [52/100]Parameters: {\"vertex_height\": \"low\", \"low_quadratic_params.x_1\": -75.46597108302748, \"low_quadratic_params.x_2\": 76.21643339664706}, objectives: {\"y\": 11504.057511209878}\n",
      "09/29/2020 18:55:57 -      Optimizer evaluation. -    INFO - [<ipython-input-7-9a4145fa58c9>:  27 -                  <module>() ] [53/100]Parameters: {\"vertex_height\": \"low\", \"low_quadratic_params.x_1\": 38.115533559286604, \"low_quadratic_params.x_2\": 10.67088323167205}, objectives: {\"y\": 1566.661647453083}\n",
      "09/29/2020 18:55:57 -      Optimizer evaluation. -    INFO - [<ipython-input-7-9a4145fa58c9>:  27 -                  <module>() ] [54/100]Parameters: {\"vertex_height\": 5, \"medium_quadratic_params.x_1\": -27.95333595320308, \"medium_quadratic_params.x_2\": -39.035217168113}, objectives: {\"y\": 2310.13717027438}\n",
      "09/29/2020 18:55:57 -      Optimizer evaluation. -    INFO - [<ipython-input-7-9a4145fa58c9>:  27 -                  <module>() ] [55/100]Parameters: {\"vertex_height\": \"low\", \"low_quadratic_params.x_1\": 66.74950056413215, \"low_quadratic_params.x_2\": 38.20393984633972}, objectives: {\"y\": 5915.036845343822}\n",
      "09/29/2020 18:55:57 -      Optimizer evaluation. -    INFO - [<ipython-input-7-9a4145fa58c9>:  27 -                  <module>() ] [56/100]Parameters: {\"vertex_height\": 15, \"high_quadratic_params.x_1\": 13.925877947011173, \"high_quadratic_params.x_2\": 55.09205937845502}, objectives: {\"y\": 3244.0650831542657}\n",
      "09/29/2020 18:55:58 -      Optimizer evaluation. -    INFO - [<ipython-input-7-9a4145fa58c9>:  27 -                  <module>() ] [57/100]Parameters: {\"vertex_height\": 15, \"high_quadratic_params.x_1\": -26.97006049426247, \"high_quadratic_params.x_2\": -62.746252388939205}, objectives: {\"y\": 4679.476351920636}\n",
      "09/29/2020 18:55:59 -      Optimizer evaluation. -    INFO - [<ipython-input-7-9a4145fa58c9>:  27 -                  <module>() ] [58/100]Parameters: {\"vertex_height\": \"low\", \"low_quadratic_params.x_1\": 80.40726727212476, \"low_quadratic_params.x_2\": 32.00693908135494}, objectives: {\"y\": 7489.772779528472}\n",
      "09/29/2020 18:56:00 -      Optimizer evaluation. -    INFO - [<ipython-input-7-9a4145fa58c9>:  27 -                  <module>() ] [59/100]Parameters: {\"vertex_height\": 15, \"high_quadratic_params.x_1\": -85.8067481811694, \"high_quadratic_params.x_2\": 43.24766842541325}, objectives: {\"y\": 9248.158857661105}\n",
      "09/29/2020 18:56:01 -      Optimizer evaluation. -    INFO - [<ipython-input-7-9a4145fa58c9>:  27 -                  <module>() ] [60/100]Parameters: {\"vertex_height\": 15, \"high_quadratic_params.x_1\": 78.33404517519426, \"high_quadratic_params.x_2\": 57.72837951280897}, objectives: {\"y\": 9483.788434684278}\n",
      "09/29/2020 18:56:01 -      Optimizer evaluation. -    INFO - [<ipython-input-7-9a4145fa58c9>:  27 -                  <module>() ] [61/100]Parameters: {\"vertex_height\": \"low\", \"low_quadratic_params.x_1\": 34.30919467644145, \"low_quadratic_params.x_2\": 21.50973969045313}, objectives: {\"y\": 1639.789740897013}\n",
      "09/29/2020 18:56:01 -      Optimizer evaluation. -    INFO - [<ipython-input-7-9a4145fa58c9>:  27 -                  <module>() ] [62/100]Parameters: {\"vertex_height\": 5, \"medium_quadratic_params.x_1\": 18.31697248478288, \"medium_quadratic_params.x_2\": -76.82616554418107}, objectives: {\"y\": 6242.771193230207}\n",
      "09/29/2020 18:56:02 -      Optimizer evaluation. -    INFO - [<ipython-input-7-9a4145fa58c9>:  27 -                  <module>() ] [63/100]Parameters: {\"vertex_height\": \"low\", \"low_quadratic_params.x_1\": -27.127338598926684, \"low_quadratic_params.x_2\": 84.21318015078506}, objectives: {\"y\": 7827.752210569397}\n",
      "09/29/2020 18:56:03 -      Optimizer evaluation. -    INFO - [<ipython-input-7-9a4145fa58c9>:  27 -                  <module>() ] [64/100]Parameters: {\"vertex_height\": 15, \"high_quadratic_params.x_1\": 8.164881216263908, \"high_quadratic_params.x_2\": -17.04473729892561}, objectives: {\"y\": 372.18835486508516}\n",
      "09/29/2020 18:56:04 -      Optimizer evaluation. -    INFO - [<ipython-input-7-9a4145fa58c9>:  27 -                  <module>() ] [65/100]Parameters: {\"vertex_height\": \"low\", \"low_quadratic_params.x_1\": 0.9372875858281589, \"low_quadratic_params.x_2\": 22.247955970221668}, objectives: {\"y\": 495.85005287146953}\n",
      "09/29/2020 18:56:05 -      Optimizer evaluation. -    INFO - [<ipython-input-7-9a4145fa58c9>:  27 -                  <module>() ] [66/100]Parameters: {\"vertex_height\": 15, \"high_quadratic_params.x_1\": -89.20677331183855, \"high_quadratic_params.x_2\": -4.029173566976695}, objectives: {\"y\": 7989.082644342574}\n",
      "09/29/2020 18:56:06 -      Optimizer evaluation. -    INFO - [<ipython-input-7-9a4145fa58c9>:  27 -                  <module>() ] [67/100]Parameters: {\"vertex_height\": \"low\", \"low_quadratic_params.x_1\": 32.578168273552876, \"low_quadratic_params.x_2\": 52.0341523997848}, objectives: {\"y\": 3768.890064023957}\n"
     ]
    }
   ],
   "source": [
    "from mlos.Optimizers.OptimumDefinition import OptimumDefinition\n",
    "from mlos.Optimizers.RegressionModels.GoodnessOfFitMetrics import GoodnessOfFitMetrics, DataSetType\n",
    "\n",
    "\n",
    "\n",
    "start_iteration_num = i\n",
    "end_iteration_num = start_iteration_num + 20\n",
    "\n",
    "for outer_loop_iteration in range(start_iteration_num, end_iteration_num):\n",
    "    inner_optimizer_config = meta_optimizer.suggest()\n",
    "    \n",
    "    inner_optimizer = optimizer_factory.create_local_optimizer(\n",
    "        optimizer_config=inner_optimizer_config,\n",
    "        optimization_problem=OptimizationProblem(\n",
    "            parameter_space=objective_function.parameter_space,\n",
    "            objective_space=objective_function.output_space,\n",
    "            objectives=[Objective(name='y', minimize=True)]\n",
    "        )\n",
    "    )\n",
    "    \n",
    "    ############################################# INNER OPTIMIZATION #############################################\n",
    "    \n",
    "    try:\n",
    "        for i in range(100):\n",
    "            parameters = inner_optimizer.suggest()\n",
    "            objectives = objective_function.evaluate_point(parameters)\n",
    "            logger.info(f\"[{i+1}/{100}]Parameters: {parameters}, objectives: {objectives}\")\n",
    "            inner_optimizer.register(parameters.to_dataframe(), objectives.to_dataframe())\n",
    "        best_observation_config, best_observation = inner_optimizer.optimum(OptimumDefinition.BEST_OBSERVATION)\n",
    "        \n",
    "        logger.info(f\"[{outer_loop_iteration+1}/{end_iteration_num}] {best_observation}\")\n",
    "        meta_optimizer.register(inner_optimizer_config.to_dataframe(), Point(optimum_value_after_100_iterations=best_observation.y).to_dataframe())\n",
    "    \n",
    "    except:\n",
    "        logger.error(\"Failed to complete inner optimization.\", exc_info=True)\n",
    "    \n",
    "    ############################################# INNER OPTIMIZATION #############################################\n",
    "    \n",
    "    \n",
    "    if meta_optimizer.trained:\n",
    "        gof_metrics = meta_optimizer.compute_surrogate_model_goodness_of_fit()\n",
    "        regression_model_fit_state.set_gof_metrics(data_set_type=DataSetType.TRAIN, gof_metrics=gof_metrics)\n",
    "        \n",
    "    best_observation_num_observations.append(outer_loop_iteration)\n",
    "    \n",
    "    best_observation_config, best_observation = meta_optimizer.optimum(OptimumDefinition.BEST_OBSERVATION)    \n",
    "    best_observation_configs.append(best_observation_config)\n",
    "    best_observations.append(best_observation)\n",
    "    \n",
    "    try:\n",
    "        best_predicted_value_config, best_predicted_value = meta_optimizer.optimum(OptimumDefinition.PREDICTED_VALUE_FOR_OBSERVED_CONFIG)\n",
    "        best_predicted_value_configs.append(best_predicted_value_config)\n",
    "        best_predicted_values.append(best_predicted_value)\n",
    "        predicted_value_num_observations.append(outer_loop_iteration)\n",
    "    except:\n",
    "        pass\n",
    "    "
   ]
  },
  {
   "cell_type": "code",
   "execution_count": null,
   "metadata": {},
   "outputs": [],
   "source": [
    "best_observation_config, best_observation"
   ]
  },
  {
   "cell_type": "code",
   "execution_count": null,
   "metadata": {},
   "outputs": [],
   "source": [
    "best_predicted_value_config, best_predicted_value"
   ]
  },
  {
   "cell_type": "code",
   "execution_count": null,
   "metadata": {},
   "outputs": [],
   "source": [
    "# Best observation dataframe\n",
    "#\n",
    "best_observation_df = pd.DataFrame([observation.to_dict() for observation in best_observations])\n",
    "best_observation_df['num_observations'] = best_observation_num_observations\n",
    "best_observation_df = pd.concat([best_observation_df.drop_duplicates(subset=['optimum_value_after_100_iterations'], keep='last'), best_observation_df.drop_duplicates(subset=['optimum_value_after_100_iterations'], keep='first')]).sort_index()"
   ]
  },
  {
   "cell_type": "code",
   "execution_count": null,
   "metadata": {},
   "outputs": [],
   "source": [
    "best_predicted_value_df = pd.DataFrame([predicted_value.to_dict() for predicted_value in best_predicted_values])\n",
    "best_predicted_value_df['num_observations'] = predicted_value_num_observations\n",
    "best_predicted_value_df = pd.concat([best_predicted_value_df.drop_duplicates(subset=['predicted_value'], keep='last'), best_predicted_value_df.drop_duplicates(subset=['predicted_value'], keep='first')]).sort_index()"
   ]
  },
  {
   "cell_type": "code",
   "execution_count": null,
   "metadata": {
    "scrolled": false
   },
   "outputs": [],
   "source": [
    "import matplotlib.pyplot as plt\n",
    "import matplotlib.ticker as mtick\n",
    "%matplotlib inline\n",
    "\n",
    "fig, axs = plt.subplots(1, figsize=(11, 20), dpi=80, sharex=True)\n",
    "\n",
    "axs.plot(best_observation_df['num_observations'], best_observation_df['optimum_value_after_100_iterations'], label='optimum_value_after_100_iterations')\n",
    "axs.plot(best_predicted_value_df['num_observations'], best_predicted_value_df['predicted_value'], label='predicted_value')\n",
    "axs.set_ylabel('y')\n",
    "axs.yaxis.set_major_formatter(mtick.FormatStrFormatter('%.2f'))\n",
    "axs.set_xticks(best_observation_df['num_observations'][::2])\n",
    "axs.grid(True)\n",
    "axs.set_xlabel('num_observations')\n",
    "axs.legend()  \n",
    "fig.show()"
   ]
  },
  {
   "cell_type": "code",
   "execution_count": null,
   "metadata": {},
   "outputs": [],
   "source": [
    "from mlos.Optimizers.RegressionModels.GoodnessOfFitMetrics import DataSetType\n",
    "\n",
    "# Let's take a look at goodness of fit data.\n",
    "#\n",
    "goodness_of_fit_dataframe = regression_model_fit_state.get_goodness_of_fit_dataframe(data_set_type=DataSetType.TRAIN) # TODO: add support to evaluate GoF on test data"
   ]
  },
  {
   "cell_type": "code",
   "execution_count": null,
   "metadata": {},
   "outputs": [],
   "source": [
    "import matplotlib.pyplot as plt\n",
    "import matplotlib.ticker as mtick\n",
    "%matplotlib inline\n",
    "\n",
    "gof_df = goodness_of_fit_dataframe\n",
    "columns_to_plot = [name for name in gof_df.columns.values if name not in ('observation_count', 'prediction_count', 'last_refit_iteration_number')]\n",
    "num_plots = len(columns_to_plot)\n",
    "fig, axs = plt.subplots(num_plots, figsize=(11, 20), dpi=80, sharex=True)\n",
    "\n",
    "for i, column in enumerate(columns_to_plot):\n",
    "    axs[i].plot(gof_df['last_refit_iteration_number'], gof_df[column], marker='o', label=column)\n",
    "    axs[i].set_ylabel(column)\n",
    "    axs[i].yaxis.set_major_formatter(mtick.FormatStrFormatter('%.2f'))\n",
    "    axs[i].set_xticks(gof_df['last_refit_iteration_number'])\n",
    "    axs[i].grid(True)\n",
    "    if i == num_plots - 1:\n",
    "        axs[i].set_xlabel('last_refit_iteration_number')\n",
    "        \n",
    "fig.show()"
   ]
  }
 ],
 "metadata": {
  "kernelspec": {
   "display_name": "Python 3",
   "language": "python",
   "name": "python3"
  },
  "language_info": {
   "codemirror_mode": {
    "name": "ipython",
    "version": 3
   },
   "file_extension": ".py",
   "mimetype": "text/x-python",
   "name": "python",
   "nbconvert_exporter": "python",
   "pygments_lexer": "ipython3",
   "version": "3.7.4"
  }
 },
 "nbformat": 4,
 "nbformat_minor": 2
}
