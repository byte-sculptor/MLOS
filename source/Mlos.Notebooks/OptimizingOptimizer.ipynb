{
 "cells": [
  {
   "cell_type": "code",
   "execution_count": 1,
   "metadata": {},
   "outputs": [
    {
     "data": {
      "text/html": [
       "<style>.container { width:100% !important; }</style>"
      ],
      "text/plain": [
       "<IPython.core.display.HTML object>"
      ]
     },
     "metadata": {},
     "output_type": "display_data"
    }
   ],
   "source": [
    "from IPython.core.display import display, HTML\n",
    "import math\n",
    "import pandas as pd\n",
    "\n",
    "import mlos.global_values as global_values\n",
    "from mlos.Optimizers.BayesianOptimizerFactory import BayesianOptimizerFactory\n",
    "from mlos.Optimizers.BayesianOptimizerConfigStore import bayesian_optimizer_config_store\n",
    "from mlos.Optimizers.OptimizationProblem import OptimizationProblem, Objective\n",
    "from mlos.Spaces import ContinuousDimension, SimpleHypergrid\n",
    "from mlos.Tracer import Tracer\n",
    "\n",
    "display(HTML(\"<style>.container { width:100% !important; }</style>\"))\n",
    "\n",
    "global_values.declare_singletons()\n",
    "global_values.tracer = Tracer(actor_id=\"OptimizerEvaluationTools\", thread_id=0)\n",
    "\n",
    "# Let's stand up the Optimizer Microservice\n",
    "#\n",
    "optimizer_factory = BayesianOptimizerFactory()"
   ]
  },
  {
   "cell_type": "code",
   "execution_count": 2,
   "metadata": {},
   "outputs": [
    {
     "name": "stderr",
     "output_type": "stream",
     "text": [
      "09/29/2020 18:19:15 -   BayesianOptimizerFactory -    INFO - [BayesianOptimizerFactory.py:  40 -    create_local_optimizer() ] Creating a bayesian optimizer with config: {\"surrogate_model_implementation\": \"HomogeneousRandomForestRegressionModel\", \"experiment_designer_implementation\": \"ExperimentDesigner\", \"min_samples_required_for_guided_design_of_experiments\": 10, \"homogeneous_random_forest_regression_model_config.n_estimators\": 100, \"homogeneous_random_forest_regression_model_config.features_fraction_per_estimator\": 1, \"homogeneous_random_forest_regression_model_config.samples_fraction_per_estimator\": 1, \"homogeneous_random_forest_regression_model_config.regressor_implementation\": \"DecisionTreeRegressionModel\", \"homogeneous_random_forest_regression_model_config.decision_tree_regression_model_config.criterion\": \"mse\", \"homogeneous_random_forest_regression_model_config.decision_tree_regression_model_config.splitter\": \"best\", \"homogeneous_random_forest_regression_model_config.decision_tree_regression_model_config.max_depth\": 0, \"homogeneous_random_forest_regression_model_config.decision_tree_regression_model_config.min_samples_split\": 2, \"homogeneous_random_forest_regression_model_config.decision_tree_regression_model_config.min_samples_leaf\": 3, \"homogeneous_random_forest_regression_model_config.decision_tree_regression_model_config.min_weight_fraction_leaf\": 0, \"homogeneous_random_forest_regression_model_config.decision_tree_regression_model_config.max_features\": \"auto\", \"homogeneous_random_forest_regression_model_config.decision_tree_regression_model_config.max_leaf_nodes\": 0, \"homogeneous_random_forest_regression_model_config.decision_tree_regression_model_config.min_impurity_decrease\": 0, \"homogeneous_random_forest_regression_model_config.decision_tree_regression_model_config.ccp_alpha\": 0, \"homogeneous_random_forest_regression_model_config.decision_tree_regression_model_config.min_samples_to_fit\": 10, \"homogeneous_random_forest_regression_model_config.decision_tree_regression_model_config.n_new_samples_before_refit\": 1, \"homogeneous_random_forest_regression_model_config.bootstrap\": 1, \"experiment_designer_config.utility_function_implementation\": \"ConfidenceBoundUtilityFunction\", \"experiment_designer_config.numeric_optimizer_implementation\": \"GlowWormSwarmOptimizer\", \"experiment_designer_config.confidence_bound_utility_function_config.utility_function_name\": \"upper_confidence_bound_on_improvement\", \"experiment_designer_config.confidence_bound_utility_function_config.alpha\": 0.01, \"experiment_designer_config.glow_worm_swarm_optimizer_config.num_initial_points_multiplier\": 5, \"experiment_designer_config.glow_worm_swarm_optimizer_config.num_worms\": 100, \"experiment_designer_config.glow_worm_swarm_optimizer_config.num_iterations\": 10, \"experiment_designer_config.glow_worm_swarm_optimizer_config.luciferin_decay_constant\": 0.2, \"experiment_designer_config.glow_worm_swarm_optimizer_config.luciferin_enhancement_constant\": 0.2, \"experiment_designer_config.glow_worm_swarm_optimizer_config.step_size\": 0.01, \"experiment_designer_config.glow_worm_swarm_optimizer_config.initial_decision_radius\": 0.2, \"experiment_designer_config.glow_worm_swarm_optimizer_config.max_sensory_radius\": 2, \"experiment_designer_config.glow_worm_swarm_optimizer_config.desired_num_neighbors\": 10, \"experiment_designer_config.glow_worm_swarm_optimizer_config.decision_radius_adjustment_constant\": 0.05, \"experiment_designer_config.fraction_random_suggestions\": 0.2}.\n"
     ]
    },
    {
     "name": "stdout",
     "output_type": "stream",
     "text": [
      "{\n",
      "  \"surrogate_model_implementation\": \"HomogeneousRandomForestRegressionModel\",\n",
      "  \"experiment_designer_implementation\": \"ExperimentDesigner\",\n",
      "  \"min_samples_required_for_guided_design_of_experiments\": 10,\n",
      "  \"homogeneous_random_forest_regression_model_config.n_estimators\": 100,\n",
      "  \"homogeneous_random_forest_regression_model_config.features_fraction_per_estimator\": 1,\n",
      "  \"homogeneous_random_forest_regression_model_config.samples_fraction_per_estimator\": 1,\n",
      "  \"homogeneous_random_forest_regression_model_config.regressor_implementation\": \"DecisionTreeRegressionModel\",\n",
      "  \"homogeneous_random_forest_regression_model_config.decision_tree_regression_model_config.criterion\": \"mse\",\n",
      "  \"homogeneous_random_forest_regression_model_config.decision_tree_regression_model_config.splitter\": \"best\",\n",
      "  \"homogeneous_random_forest_regression_model_config.decision_tree_regression_model_config.max_depth\": 0,\n",
      "  \"homogeneous_random_forest_regression_model_config.decision_tree_regression_model_config.min_samples_split\": 2,\n",
      "  \"homogeneous_random_forest_regression_model_config.decision_tree_regression_model_config.min_samples_leaf\": 3,\n",
      "  \"homogeneous_random_forest_regression_model_config.decision_tree_regression_model_config.min_weight_fraction_leaf\": 0,\n",
      "  \"homogeneous_random_forest_regression_model_config.decision_tree_regression_model_config.max_features\": \"auto\",\n",
      "  \"homogeneous_random_forest_regression_model_config.decision_tree_regression_model_config.max_leaf_nodes\": 0,\n",
      "  \"homogeneous_random_forest_regression_model_config.decision_tree_regression_model_config.min_impurity_decrease\": 0,\n",
      "  \"homogeneous_random_forest_regression_model_config.decision_tree_regression_model_config.ccp_alpha\": 0,\n",
      "  \"homogeneous_random_forest_regression_model_config.decision_tree_regression_model_config.min_samples_to_fit\": 10,\n",
      "  \"homogeneous_random_forest_regression_model_config.decision_tree_regression_model_config.n_new_samples_before_refit\": 1,\n",
      "  \"homogeneous_random_forest_regression_model_config.bootstrap\": 1,\n",
      "  \"experiment_designer_config.utility_function_implementation\": \"ConfidenceBoundUtilityFunction\",\n",
      "  \"experiment_designer_config.numeric_optimizer_implementation\": \"GlowWormSwarmOptimizer\",\n",
      "  \"experiment_designer_config.confidence_bound_utility_function_config.utility_function_name\": \"upper_confidence_bound_on_improvement\",\n",
      "  \"experiment_designer_config.confidence_bound_utility_function_config.alpha\": 0.01,\n",
      "  \"experiment_designer_config.glow_worm_swarm_optimizer_config.num_initial_points_multiplier\": 5,\n",
      "  \"experiment_designer_config.glow_worm_swarm_optimizer_config.num_worms\": 100,\n",
      "  \"experiment_designer_config.glow_worm_swarm_optimizer_config.num_iterations\": 10,\n",
      "  \"experiment_designer_config.glow_worm_swarm_optimizer_config.luciferin_decay_constant\": 0.2,\n",
      "  \"experiment_designer_config.glow_worm_swarm_optimizer_config.luciferin_enhancement_constant\": 0.2,\n",
      "  \"experiment_designer_config.glow_worm_swarm_optimizer_config.step_size\": 0.01,\n",
      "  \"experiment_designer_config.glow_worm_swarm_optimizer_config.initial_decision_radius\": 0.2,\n",
      "  \"experiment_designer_config.glow_worm_swarm_optimizer_config.max_sensory_radius\": 2,\n",
      "  \"experiment_designer_config.glow_worm_swarm_optimizer_config.desired_num_neighbors\": 10,\n",
      "  \"experiment_designer_config.glow_worm_swarm_optimizer_config.decision_radius_adjustment_constant\": 0.05,\n",
      "  \"experiment_designer_config.fraction_random_suggestions\": 0.2\n",
      "}\n"
     ]
    }
   ],
   "source": [
    "# Let's make a meta optimizer.\n",
    "#\n",
    "meta_optimizer_config = bayesian_optimizer_config_store.get_config_by_name(\"default_with_glow_worm\")\n",
    "meta_optimizer_config.homogeneous_random_forest_regression_model_config.n_estimators = 100\n",
    "meta_optimizer_config.homogeneous_random_forest_regression_model_config.decision_tree_regression_model_config.n_new_samples_before_refit = 1\n",
    "meta_optimizer_config.experiment_designer_config.fraction_random_suggestions = 0.2\n",
    "\n",
    "meta_optimizer = optimizer_factory.create_local_optimizer(\n",
    "    optimizer_config=meta_optimizer_config,\n",
    "    optimization_problem=OptimizationProblem(\n",
    "        parameter_space=bayesian_optimizer_config_store.parameter_space,\n",
    "        objective_space=SimpleHypergrid(\n",
    "            name=\"predictions\",\n",
    "            dimensions=[\n",
    "                ContinuousDimension(name=\"optimum_value_after_100_iterations\", min=-math.inf, max=math.inf)\n",
    "            ]\n",
    "        ),\n",
    "        objectives=[Objective(name='optimum_value_after_100_iterations', minimize=True)]\n",
    "    )\n",
    ")\n",
    "\n",
    "print(meta_optimizer_config.to_json(indent=2))"
   ]
  },
  {
   "cell_type": "code",
   "execution_count": 3,
   "metadata": {},
   "outputs": [
    {
     "name": "stdout",
     "output_type": "stream",
     "text": [
      "{\n",
      "  \"implementation\": \"Flower\"\n",
      "}\n"
     ]
    }
   ],
   "source": [
    "from mlos.OptimizerEvaluationTools.ObjectiveFunctionFactory import ObjectiveFunctionFactory\n",
    "from mlos.OptimizerEvaluationTools.ObjectiveFunctionConfigStore import objective_function_config_store\n",
    "objective_function_config = objective_function_config_store.get_config_by_name('flower')\n",
    "objective_function = ObjectiveFunctionFactory.create_objective_function(objective_function_config)\n",
    "\n",
    "print(objective_function_config.to_json(indent=2))"
   ]
  },
  {
   "cell_type": "code",
   "execution_count": 4,
   "metadata": {},
   "outputs": [
    {
     "name": "stdout",
     "output_type": "stream",
     "text": [
      "  Name: flower\n",
      "  Dimensions:\n",
      "    x1: [-100.00, 100.00]\n",
      "    x2: [-100.00, 100.00]\n"
     ]
    }
   ],
   "source": [
    "print(objective_function.parameter_space)"
   ]
  },
  {
   "cell_type": "code",
   "execution_count": 9,
   "metadata": {},
   "outputs": [
    {
     "name": "stdout",
     "output_type": "stream",
     "text": [
      "{\n",
      "  \"surrogate_model_implementation\": \"HomogeneousRandomForestRegressionModel\",\n",
      "  \"experiment_designer_implementation\": \"ExperimentDesigner\",\n",
      "  \"min_samples_required_for_guided_design_of_experiments\": 61,\n",
      "  \"homogeneous_random_forest_regression_model_config.n_estimators\": 47,\n",
      "  \"homogeneous_random_forest_regression_model_config.features_fraction_per_estimator\": 0.7864440126725781,\n",
      "  \"homogeneous_random_forest_regression_model_config.samples_fraction_per_estimator\": 0.933034217569657,\n",
      "  \"homogeneous_random_forest_regression_model_config.regressor_implementation\": \"DecisionTreeRegressionModel\",\n",
      "  \"homogeneous_random_forest_regression_model_config.bootstrap\": 1,\n",
      "  \"homogeneous_random_forest_regression_model_config.decision_tree_regression_model_config.criterion\": \"friedman_mse\",\n",
      "  \"homogeneous_random_forest_regression_model_config.decision_tree_regression_model_config.splitter\": \"random\",\n",
      "  \"homogeneous_random_forest_regression_model_config.decision_tree_regression_model_config.max_depth\": 645,\n",
      "  \"homogeneous_random_forest_regression_model_config.decision_tree_regression_model_config.min_samples_split\": 474,\n",
      "  \"homogeneous_random_forest_regression_model_config.decision_tree_regression_model_config.min_samples_leaf\": 498,\n",
      "  \"homogeneous_random_forest_regression_model_config.decision_tree_regression_model_config.min_weight_fraction_leaf\": 0.4261657245728894,\n",
      "  \"homogeneous_random_forest_regression_model_config.decision_tree_regression_model_config.max_features\": \"log2\",\n",
      "  \"homogeneous_random_forest_regression_model_config.decision_tree_regression_model_config.max_leaf_nodes\": 390,\n",
      "  \"homogeneous_random_forest_regression_model_config.decision_tree_regression_model_config.min_impurity_decrease\": 743.5868959108017,\n",
      "  \"homogeneous_random_forest_regression_model_config.decision_tree_regression_model_config.ccp_alpha\": 752.4956528392729,\n",
      "  \"homogeneous_random_forest_regression_model_config.decision_tree_regression_model_config.min_samples_to_fit\": 2688275271,\n",
      "  \"homogeneous_random_forest_regression_model_config.decision_tree_regression_model_config.n_new_samples_before_refit\": 1623123427,\n",
      "  \"experiment_designer_config.utility_function_implementation\": \"ConfidenceBoundUtilityFunction\",\n",
      "  \"experiment_designer_config.numeric_optimizer_implementation\": \"GlowWormSwarmOptimizer\",\n",
      "  \"experiment_designer_config.fraction_random_suggestions\": 0.19375210090159423,\n",
      "  \"experiment_designer_config.confidence_bound_utility_function_config.utility_function_name\": \"lower_confidence_bound_on_improvement\",\n",
      "  \"experiment_designer_config.confidence_bound_utility_function_config.alpha\": 0.3340182395173042,\n",
      "  \"experiment_designer_config.glow_worm_swarm_optimizer_config.num_initial_points_multiplier\": 10,\n",
      "  \"experiment_designer_config.glow_worm_swarm_optimizer_config.num_worms\": 582,\n",
      "  \"experiment_designer_config.glow_worm_swarm_optimizer_config.num_iterations\": 12,\n",
      "  \"experiment_designer_config.glow_worm_swarm_optimizer_config.luciferin_decay_constant\": 0.12185119657432097,\n",
      "  \"experiment_designer_config.glow_worm_swarm_optimizer_config.luciferin_enhancement_constant\": 0.6778355227041997,\n",
      "  \"experiment_designer_config.glow_worm_swarm_optimizer_config.step_size\": 0.7099814694913678,\n",
      "  \"experiment_designer_config.glow_worm_swarm_optimizer_config.initial_decision_radius\": 0.516476772305309,\n",
      "  \"experiment_designer_config.glow_worm_swarm_optimizer_config.max_sensory_radius\": 6.01138220244273,\n",
      "  \"experiment_designer_config.glow_worm_swarm_optimizer_config.desired_num_neighbors\": 62,\n",
      "  \"experiment_designer_config.glow_worm_swarm_optimizer_config.decision_radius_adjustment_constant\": 0.8778267617856919\n",
      "}\n"
     ]
    },
    {
     "ename": "AssertionError",
     "evalue": "",
     "output_type": "error",
     "traceback": [
      "\u001b[1;31m---------------------------------------------------------------------------\u001b[0m",
      "\u001b[1;31mAssertionError\u001b[0m                            Traceback (most recent call last)",
      "\u001b[1;32m<ipython-input-9-ff4a9574420b>\u001b[0m in \u001b[0;36m<module>\u001b[1;34m\u001b[0m\n\u001b[0;32m      1\u001b[0m \u001b[0moptimizer_config\u001b[0m \u001b[1;33m=\u001b[0m \u001b[0mmeta_optimizer\u001b[0m\u001b[1;33m.\u001b[0m\u001b[0msuggest\u001b[0m\u001b[1;33m(\u001b[0m\u001b[1;33m)\u001b[0m\u001b[1;33m\u001b[0m\u001b[1;33m\u001b[0m\u001b[0m\n\u001b[0;32m      2\u001b[0m \u001b[0mprint\u001b[0m\u001b[1;33m(\u001b[0m\u001b[0moptimizer_config\u001b[0m\u001b[1;33m.\u001b[0m\u001b[0mto_json\u001b[0m\u001b[1;33m(\u001b[0m\u001b[0mindent\u001b[0m\u001b[1;33m=\u001b[0m\u001b[1;36m2\u001b[0m\u001b[1;33m)\u001b[0m\u001b[1;33m)\u001b[0m\u001b[1;33m\u001b[0m\u001b[1;33m\u001b[0m\u001b[0m\n\u001b[1;32m----> 3\u001b[1;33m \u001b[1;32massert\u001b[0m \u001b[1;32mFalse\u001b[0m\u001b[1;33m\u001b[0m\u001b[1;33m\u001b[0m\u001b[0m\n\u001b[0m",
      "\u001b[1;31mAssertionError\u001b[0m: "
     ]
    }
   ],
   "source": [
    "optimizer_config = meta_optimizer.suggest()\n",
    "print(optimizer_config.to_json(indent=2))\n",
    "assert False"
   ]
  },
  {
   "cell_type": "code",
   "execution_count": 10,
   "metadata": {},
   "outputs": [
    {
     "name": "stderr",
     "output_type": "stream",
     "text": [
      "09/29/2020 18:20:22 -   BayesianOptimizerFactory -    INFO - [BayesianOptimizerFactory.py:  40 -    create_local_optimizer() ] Creating a bayesian optimizer with config: {\"surrogate_model_implementation\": \"HomogeneousRandomForestRegressionModel\", \"experiment_designer_implementation\": \"ExperimentDesigner\", \"min_samples_required_for_guided_design_of_experiments\": 61, \"homogeneous_random_forest_regression_model_config.n_estimators\": 47, \"homogeneous_random_forest_regression_model_config.features_fraction_per_estimator\": 0.7864440126725781, \"homogeneous_random_forest_regression_model_config.samples_fraction_per_estimator\": 0.933034217569657, \"homogeneous_random_forest_regression_model_config.regressor_implementation\": \"DecisionTreeRegressionModel\", \"homogeneous_random_forest_regression_model_config.bootstrap\": 1, \"homogeneous_random_forest_regression_model_config.decision_tree_regression_model_config.criterion\": \"friedman_mse\", \"homogeneous_random_forest_regression_model_config.decision_tree_regression_model_config.splitter\": \"random\", \"homogeneous_random_forest_regression_model_config.decision_tree_regression_model_config.max_depth\": 645, \"homogeneous_random_forest_regression_model_config.decision_tree_regression_model_config.min_samples_split\": 474, \"homogeneous_random_forest_regression_model_config.decision_tree_regression_model_config.min_samples_leaf\": 498, \"homogeneous_random_forest_regression_model_config.decision_tree_regression_model_config.min_weight_fraction_leaf\": 0.4261657245728894, \"homogeneous_random_forest_regression_model_config.decision_tree_regression_model_config.max_features\": \"log2\", \"homogeneous_random_forest_regression_model_config.decision_tree_regression_model_config.max_leaf_nodes\": 390, \"homogeneous_random_forest_regression_model_config.decision_tree_regression_model_config.min_impurity_decrease\": 743.5868959108017, \"homogeneous_random_forest_regression_model_config.decision_tree_regression_model_config.ccp_alpha\": 752.4956528392729, \"homogeneous_random_forest_regression_model_config.decision_tree_regression_model_config.min_samples_to_fit\": 2688275271, \"homogeneous_random_forest_regression_model_config.decision_tree_regression_model_config.n_new_samples_before_refit\": 1623123427, \"experiment_designer_config.utility_function_implementation\": \"ConfidenceBoundUtilityFunction\", \"experiment_designer_config.numeric_optimizer_implementation\": \"GlowWormSwarmOptimizer\", \"experiment_designer_config.fraction_random_suggestions\": 0.19375210090159423, \"experiment_designer_config.confidence_bound_utility_function_config.utility_function_name\": \"lower_confidence_bound_on_improvement\", \"experiment_designer_config.confidence_bound_utility_function_config.alpha\": 0.3340182395173042, \"experiment_designer_config.glow_worm_swarm_optimizer_config.num_initial_points_multiplier\": 10, \"experiment_designer_config.glow_worm_swarm_optimizer_config.num_worms\": 582, \"experiment_designer_config.glow_worm_swarm_optimizer_config.num_iterations\": 12, \"experiment_designer_config.glow_worm_swarm_optimizer_config.luciferin_decay_constant\": 0.12185119657432097, \"experiment_designer_config.glow_worm_swarm_optimizer_config.luciferin_enhancement_constant\": 0.6778355227041997, \"experiment_designer_config.glow_worm_swarm_optimizer_config.step_size\": 0.7099814694913678, \"experiment_designer_config.glow_worm_swarm_optimizer_config.initial_decision_radius\": 0.516476772305309, \"experiment_designer_config.glow_worm_swarm_optimizer_config.max_sensory_radius\": 6.01138220244273, \"experiment_designer_config.glow_worm_swarm_optimizer_config.desired_num_neighbors\": 62, \"experiment_designer_config.glow_worm_swarm_optimizer_config.decision_radius_adjustment_constant\": 0.8778267617856919}.\n"
     ]
    }
   ],
   "source": [
    "# Let's instantiate the optimizer. \n",
    "#\n",
    "optimizer = optimizer_factory.create_local_optimizer(\n",
    "    optimizer_config=optimizer_config,\n",
    "    optimization_problem=OptimizationProblem(\n",
    "        parameter_space=objective_function.parameter_space,\n",
    "        objective_space=objective_function.output_space,\n",
    "        objectives=[Objective(name='y', minimize=True)]\n",
    "    )\n",
    ")"
   ]
  },
  {
   "cell_type": "code",
   "execution_count": 11,
   "metadata": {},
   "outputs": [],
   "source": [
    "from mlos.Logger import create_logger\n",
    "from mlos.Optimizers.RegressionModels.RegressionModelFitState import RegressionModelFitState\n",
    "\n",
    "# Let us set up the lists to track optima over time.\n",
    "#\n",
    "best_observation_num_observations = []\n",
    "best_observation_configs = []\n",
    "best_observations = []\n",
    "\n",
    "predicted_value_num_observations = []\n",
    "best_predicted_value_configs = []\n",
    "best_predicted_values = []\n",
    "\n",
    "regression_model_fit_state = RegressionModelFitState()"
   ]
  },
  {
   "cell_type": "code",
   "execution_count": 12,
   "metadata": {},
   "outputs": [],
   "source": [
    "logger = create_logger(\"Optimizer evaluation.\")\n",
    "i = 0"
   ]
  },
  {
   "cell_type": "code",
   "execution_count": 13,
   "metadata": {
    "scrolled": false
   },
   "outputs": [
    {
     "name": "stderr",
     "output_type": "stream",
     "text": [
      "09/29/2020 18:20:33 -      Optimizer evaluation. -    INFO - [<ipython-input-13-3f5cb82cb528>:  12 -                  <module>() ] [1/100]Parameters: {\"x1\": -44.649588100244756, \"x2\": -98.85188083247482}, objectives: {\"y\": 110.45196789361161}\n",
      "09/29/2020 18:20:34 -      Optimizer evaluation. -    INFO - [<ipython-input-13-3f5cb82cb528>:  12 -                  <module>() ] [2/100]Parameters: {\"x1\": 69.71640523177786, \"x2\": -78.74695709365203}, objectives: {\"y\": 104.6922313985914}\n",
      "09/29/2020 18:20:34 -      Optimizer evaluation. -    INFO - [<ipython-input-13-3f5cb82cb528>:  12 -                  <module>() ] [3/100]Parameters: {\"x1\": 59.77436365943146, \"x2\": -87.37737346161674}, objectives: {\"y\": 104.51570569600973}\n",
      "09/29/2020 18:20:34 -      Optimizer evaluation. -    INFO - [<ipython-input-13-3f5cb82cb528>:  12 -                  <module>() ] [4/100]Parameters: {\"x1\": 50.93984086563228, \"x2\": -24.058733570960072}, objectives: {\"y\": 58.29793101682778}\n",
      "09/29/2020 18:20:34 -      Optimizer evaluation. -    INFO - [<ipython-input-13-3f5cb82cb528>:  12 -                  <module>() ] [5/100]Parameters: {\"x1\": -46.50091102715215, \"x2\": 74.03384977880717}, objectives: {\"y\": 85.86171494751615}\n",
      "09/29/2020 18:20:34 -      Optimizer evaluation. -    INFO - [<ipython-input-13-3f5cb82cb528>:  12 -                  <module>() ] [6/100]Parameters: {\"x1\": 35.663607338767605, \"x2\": 28.716713897415673}, objectives: {\"y\": 44.95436238217614}\n",
      "09/29/2020 18:20:35 -      Optimizer evaluation. -    INFO - [<ipython-input-13-3f5cb82cb528>:  12 -                  <module>() ] [7/100]Parameters: {\"x1\": -99.89523739874365, \"x2\": -28.451648646394688}, objectives: {\"y\": 102.07668470028881}\n",
      "09/29/2020 18:20:35 -      Optimizer evaluation. -    INFO - [<ipython-input-13-3f5cb82cb528>:  12 -                  <module>() ] [8/100]Parameters: {\"x1\": -91.47279291840465, \"x2\": -2.7969376085707864}, objectives: {\"y\": 91.27161481062596}\n",
      "09/29/2020 18:20:35 -      Optimizer evaluation. -    INFO - [<ipython-input-13-3f5cb82cb528>:  12 -                  <module>() ] [9/100]Parameters: {\"x1\": -12.914758440714081, \"x2\": 51.94354706354045}, objectives: {\"y\": 51.869844168241656}\n",
      "09/29/2020 18:20:35 -      Optimizer evaluation. -    INFO - [<ipython-input-13-3f5cb82cb528>:  12 -                  <module>() ] [10/100]Parameters: {\"x1\": -44.12326285305335, \"x2\": -45.72397120991152}, objectives: {\"y\": 63.68406179508682}\n",
      "09/29/2020 18:20:35 -      Optimizer evaluation. -    INFO - [<ipython-input-13-3f5cb82cb528>:  12 -                  <module>() ] [11/100]Parameters: {\"x1\": -5.089816476192425, \"x2\": 7.288893088599082}, objectives: {\"y\": 7.596698404456648}\n",
      "09/29/2020 18:20:35 -      Optimizer evaluation. -    INFO - [<ipython-input-13-3f5cb82cb528>:  12 -                  <module>() ] [12/100]Parameters: {\"x1\": 62.6313257159716, \"x2\": 74.57830306625996}, objectives: {\"y\": 98.06986631767907}\n",
      "09/29/2020 18:20:36 -      Optimizer evaluation. -    INFO - [<ipython-input-13-3f5cb82cb528>:  12 -                  <module>() ] [13/100]Parameters: {\"x1\": -58.40008740795304, \"x2\": 91.04622630769197}, objectives: {\"y\": 106.6504273619508}\n",
      "09/29/2020 18:20:36 -      Optimizer evaluation. -    INFO - [<ipython-input-13-3f5cb82cb528>:  12 -                  <module>() ] [14/100]Parameters: {\"x1\": 47.92621348103586, \"x2\": 30.112835641979473}, objectives: {\"y\": 55.03752670212615}\n",
      "09/29/2020 18:20:36 -      Optimizer evaluation. -    INFO - [<ipython-input-13-3f5cb82cb528>:  12 -                  <module>() ] [15/100]Parameters: {\"x1\": -8.436597933357277, \"x2\": -21.63507018388684}, objectives: {\"y\": 25.214833965987033}\n",
      "09/29/2020 18:20:36 -      Optimizer evaluation. -    INFO - [<ipython-input-13-3f5cb82cb528>:  12 -                  <module>() ] [16/100]Parameters: {\"x1\": -49.75163551377031, \"x2\": -85.73458624303751}, objectives: {\"y\": 100.84753962415215}\n",
      "09/29/2020 18:20:36 -      Optimizer evaluation. -    INFO - [<ipython-input-13-3f5cb82cb528>:  12 -                  <module>() ] [17/100]Parameters: {\"x1\": -58.11369827075621, \"x2\": 30.198034451205018}, objectives: {\"y\": 67.37277789017908}\n",
      "09/29/2020 18:20:37 -      Optimizer evaluation. -    INFO - [<ipython-input-13-3f5cb82cb528>:  12 -                  <module>() ] [18/100]Parameters: {\"x1\": -70.21261331816166, \"x2\": -87.96445019728947}, objectives: {\"y\": 113.41483228128598}\n",
      "09/29/2020 18:20:37 -      Optimizer evaluation. -    INFO - [<ipython-input-13-3f5cb82cb528>:  12 -                  <module>() ] [19/100]Parameters: {\"x1\": -51.28098220937345, \"x2\": -58.29181349858554}, objectives: {\"y\": 78.14372322564465}\n",
      "09/29/2020 18:20:37 -      Optimizer evaluation. -    INFO - [<ipython-input-13-3f5cb82cb528>:  12 -                  <module>() ] [20/100]Parameters: {\"x1\": 7.022641524614315, \"x2\": -30.236380462010132}, objectives: {\"y\": 29.45870518641904}\n",
      "09/29/2020 18:20:37 -      Optimizer evaluation. -    INFO - [<ipython-input-13-3f5cb82cb528>:  12 -                  <module>() ] [21/100]Parameters: {\"x1\": 29.39528060490221, \"x2\": -5.063661656385122}, objectives: {\"y\": 31.08946132073681}\n",
      "09/29/2020 18:20:37 -      Optimizer evaluation. -    INFO - [<ipython-input-13-3f5cb82cb528>:  12 -                  <module>() ] [22/100]Parameters: {\"x1\": 7.045373380358782, \"x2\": 25.52248438948392}, objectives: {\"y\": 28.23846996982257}\n",
      "09/29/2020 18:20:38 -      Optimizer evaluation. -    INFO - [<ipython-input-13-3f5cb82cb528>:  12 -                  <module>() ] [23/100]Parameters: {\"x1\": 31.5479770157377, \"x2\": 24.952303877962237}, objectives: {\"y\": 39.326465431097226}\n",
      "09/29/2020 18:20:38 -      Optimizer evaluation. -    INFO - [<ipython-input-13-3f5cb82cb528>:  12 -                  <module>() ] [24/100]Parameters: {\"x1\": 11.819917680310581, \"x2\": 37.16962933249738}, objectives: {\"y\": 40.88975116558632}\n",
      "09/29/2020 18:20:38 -      Optimizer evaluation. -    INFO - [<ipython-input-13-3f5cb82cb528>:  12 -                  <module>() ] [25/100]Parameters: {\"x1\": 72.78277931050934, \"x2\": -92.11653149921406}, objectives: {\"y\": 116.4999662851821}\n",
      "09/29/2020 18:20:38 -      Optimizer evaluation. -    INFO - [<ipython-input-13-3f5cb82cb528>:  12 -                  <module>() ] [26/100]Parameters: {\"x1\": 72.20403645355177, \"x2\": 26.754862202336938}, objectives: {\"y\": 75.02446008002035}\n",
      "09/29/2020 18:20:38 -      Optimizer evaluation. -    INFO - [<ipython-input-13-3f5cb82cb528>:  12 -                  <module>() ] [27/100]Parameters: {\"x1\": -96.41791523952632, \"x2\": -49.08106700375387}, objectives: {\"y\": 106.28828378716231}\n",
      "09/29/2020 18:20:39 -      Optimizer evaluation. -    INFO - [<ipython-input-13-3f5cb82cb528>:  12 -                  <module>() ] [28/100]Parameters: {\"x1\": -3.6459806176163596, \"x2\": 45.275607877388836}, objectives: {\"y\": 44.79034374455014}\n",
      "09/29/2020 18:20:39 -      Optimizer evaluation. -    INFO - [<ipython-input-13-3f5cb82cb528>:  12 -                  <module>() ] [29/100]Parameters: {\"x1\": 95.04905979148188, \"x2\": -76.36932254990847}, objectives: {\"y\": 122.76997721699018}\n",
      "09/29/2020 18:20:39 -      Optimizer evaluation. -    INFO - [<ipython-input-13-3f5cb82cb528>:  12 -                  <module>() ] [30/100]Parameters: {\"x1\": -47.47208353146761, \"x2\": 98.34489143675529}, objectives: {\"y\": 107.25489463219245}\n",
      "09/29/2020 18:20:39 -      Optimizer evaluation. -    INFO - [<ipython-input-13-3f5cb82cb528>:  12 -                  <module>() ] [31/100]Parameters: {\"x1\": 66.79278956550272, \"x2\": -45.91707781209173}, objectives: {\"y\": 82.39096282364005}\n",
      "09/29/2020 18:20:39 -      Optimizer evaluation. -    INFO - [<ipython-input-13-3f5cb82cb528>:  12 -                  <module>() ] [32/100]Parameters: {\"x1\": 29.319275864814017, \"x2\": -39.991291565867314}, objectives: {\"y\": 48.440000656389614}\n",
      "09/29/2020 18:20:40 -      Optimizer evaluation. -    INFO - [<ipython-input-13-3f5cb82cb528>:  12 -                  <module>() ] [33/100]Parameters: {\"x1\": -77.25563612020731, \"x2\": 84.45548280225015}, objectives: {\"y\": 114.1062350979806}\n",
      "09/29/2020 18:20:40 -      Optimizer evaluation. -    INFO - [<ipython-input-13-3f5cb82cb528>:  12 -                  <module>() ] [34/100]Parameters: {\"x1\": 33.7850717342599, \"x2\": -41.184475408458844}, objectives: {\"y\": 52.502169084011044}\n"
     ]
    },
    {
     "name": "stderr",
     "output_type": "stream",
     "text": [
      "09/29/2020 18:20:40 -      Optimizer evaluation. -    INFO - [<ipython-input-13-3f5cb82cb528>:  12 -                  <module>() ] [35/100]Parameters: {\"x1\": 15.07157321111498, \"x2\": 84.45795045641097}, objectives: {\"y\": 87.09032630301527}\n",
      "09/29/2020 18:20:40 -      Optimizer evaluation. -    INFO - [<ipython-input-13-3f5cb82cb528>:  12 -                  <module>() ] [36/100]Parameters: {\"x1\": 48.38426108716567, \"x2\": -68.77402305495026}, objectives: {\"y\": 82.81675852459377}\n",
      "09/29/2020 18:20:40 -      Optimizer evaluation. -    INFO - [<ipython-input-13-3f5cb82cb528>:  12 -                  <module>() ] [37/100]Parameters: {\"x1\": 30.54227740078528, \"x2\": 41.96648117954135}, objectives: {\"y\": 53.07424798328956}\n",
      "09/29/2020 18:20:40 -      Optimizer evaluation. -    INFO - [<ipython-input-13-3f5cb82cb528>:  12 -                  <module>() ] [38/100]Parameters: {\"x1\": -24.595520026137535, \"x2\": -63.60498448527605}, objectives: {\"y\": 70.18582757408507}\n",
      "09/29/2020 18:20:41 -      Optimizer evaluation. -    INFO - [<ipython-input-13-3f5cb82cb528>:  12 -                  <module>() ] [39/100]Parameters: {\"x1\": -48.50295932128825, \"x2\": -40.82369823420529}, objectives: {\"y\": 62.72377820416564}\n",
      "09/29/2020 18:20:41 -      Optimizer evaluation. -    INFO - [<ipython-input-13-3f5cb82cb528>:  12 -                  <module>() ] [40/100]Parameters: {\"x1\": -47.347969550084265, \"x2\": 35.63000057753328}, objectives: {\"y\": 60.32079089747069}\n",
      "09/29/2020 18:20:41 -      Optimizer evaluation. -    INFO - [<ipython-input-13-3f5cb82cb528>:  12 -                  <module>() ] [41/100]Parameters: {\"x1\": 24.630717913830495, \"x2\": -42.248210847885545}, objectives: {\"y\": 47.18892421653369}\n",
      "09/29/2020 18:20:41 -      Optimizer evaluation. -    INFO - [<ipython-input-13-3f5cb82cb528>:  12 -                  <module>() ] [42/100]Parameters: {\"x1\": -14.403440433168967, \"x2\": 82.04854231898065}, objectives: {\"y\": 82.02225799727948}\n",
      "09/29/2020 18:20:41 -      Optimizer evaluation. -    INFO - [<ipython-input-13-3f5cb82cb528>:  12 -                  <module>() ] [43/100]Parameters: {\"x1\": -81.24067522122033, \"x2\": -55.92700322720954}, objectives: {\"y\": 97.2963075590642}\n",
      "09/29/2020 18:20:42 -      Optimizer evaluation. -    INFO - [<ipython-input-13-3f5cb82cb528>:  12 -                  <module>() ] [44/100]Parameters: {\"x1\": -18.806933306827077, \"x2\": 8.718148689898328}, objectives: {\"y\": 22.702045055052025}\n",
      "09/29/2020 18:20:42 -      Optimizer evaluation. -    INFO - [<ipython-input-13-3f5cb82cb528>:  12 -                  <module>() ] [45/100]Parameters: {\"x1\": -0.6066318571157296, \"x2\": -9.48501177048638}, objectives: {\"y\": 10.009810049172462}\n",
      "09/29/2020 18:20:42 -      Optimizer evaluation. -    INFO - [<ipython-input-13-3f5cb82cb528>:  12 -                  <module>() ] [46/100]Parameters: {\"x1\": -38.196811388120636, \"x2\": 85.02207393308831}, objectives: {\"y\": 91.22204057048343}\n",
      "09/29/2020 18:20:42 -      Optimizer evaluation. -    INFO - [<ipython-input-13-3f5cb82cb528>:  12 -                  <module>() ] [47/100]Parameters: {\"x1\": 19.423754078614607, \"x2\": 7.865566991291331}, objectives: {\"y\": 18.956898673808492}\n",
      "09/29/2020 18:20:42 -      Optimizer evaluation. -    INFO - [<ipython-input-13-3f5cb82cb528>:  12 -                  <module>() ] [48/100]Parameters: {\"x1\": -32.76994381028189, \"x2\": 74.79772203473175}, objectives: {\"y\": 79.66784557374243}\n",
      "09/29/2020 18:20:43 -      Optimizer evaluation. -    INFO - [<ipython-input-13-3f5cb82cb528>:  12 -                  <module>() ] [49/100]Parameters: {\"x1\": -93.72256365037133, \"x2\": -98.85187964552786}, objectives: {\"y\": 136.43162029685917}\n",
      "09/29/2020 18:20:43 -      Optimizer evaluation. -    INFO - [<ipython-input-13-3f5cb82cb528>:  12 -                  <module>() ] [50/100]Parameters: {\"x1\": 90.95409342099762, \"x2\": -1.1252546434284056}, objectives: {\"y\": 91.05998177753483}\n",
      "09/29/2020 18:20:43 -      Optimizer evaluation. -    INFO - [<ipython-input-13-3f5cb82cb528>:  12 -                  <module>() ] [51/100]Parameters: {\"x1\": 39.74037356242394, \"x2\": -53.195109157672185}, objectives: {\"y\": 65.31258415653406}\n",
      "09/29/2020 18:20:43 -      Optimizer evaluation. -    INFO - [<ipython-input-13-3f5cb82cb528>:  12 -                  <module>() ] [52/100]Parameters: {\"x1\": -31.024561190959105, \"x2\": 49.598825838445606}, objectives: {\"y\": 56.92895845967448}\n",
      "09/29/2020 18:20:43 -      Optimizer evaluation. -    INFO - [<ipython-input-13-3f5cb82cb528>:  12 -                  <module>() ] [53/100]Parameters: {\"x1\": -52.56980206708872, \"x2\": 83.1213669988237}, objectives: {\"y\": 96.80121413554535}\n",
      "09/29/2020 18:20:43 -      Optimizer evaluation. -    INFO - [<ipython-input-13-3f5cb82cb528>:  12 -                  <module>() ] [54/100]Parameters: {\"x1\": 90.18328394269767, \"x2\": -69.73534924678347}, objectives: {\"y\": 114.97427269991113}\n",
      "09/29/2020 18:20:44 -      Optimizer evaluation. -    INFO - [<ipython-input-13-3f5cb82cb528>:  12 -                  <module>() ] [55/100]Parameters: {\"x1\": 17.07975710172316, \"x2\": -89.88540810205761}, objectives: {\"y\": 90.1288351555195}\n",
      "09/29/2020 18:20:44 -      Optimizer evaluation. -    INFO - [<ipython-input-13-3f5cb82cb528>:  12 -                  <module>() ] [56/100]Parameters: {\"x1\": -71.76170366090844, \"x2\": -31.27709736987447}, objectives: {\"y\": 76.28690552643545}\n",
      "09/29/2020 18:20:44 -      Optimizer evaluation. -    INFO - [<ipython-input-13-3f5cb82cb528>:  12 -                  <module>() ] [57/100]Parameters: {\"x1\": 26.314674530788835, \"x2\": 4.222239457097203}, objectives: {\"y\": 25.46267380520388}\n",
      "09/29/2020 18:20:44 -      Optimizer evaluation. -    INFO - [<ipython-input-13-3f5cb82cb528>:  12 -                  <module>() ] [58/100]Parameters: {\"x1\": -34.28207998118937, \"x2\": -56.65344436720583}, objectives: {\"y\": 67.86235481487395}\n",
      "09/29/2020 18:20:44 -      Optimizer evaluation. -    INFO - [<ipython-input-13-3f5cb82cb528>:  12 -                  <module>() ] [59/100]Parameters: {\"x1\": 65.0241728915023, \"x2\": 26.73249047774722}, objectives: {\"y\": 68.30494197672292}\n",
      "09/29/2020 18:20:45 -      Optimizer evaluation. -    INFO - [<ipython-input-13-3f5cb82cb528>:  12 -                  <module>() ] [60/100]Parameters: {\"x1\": -40.99504874538218, \"x2\": 32.73593499967075}, objectives: {\"y\": 53.324847066390795}\n",
      "09/29/2020 18:20:45 -      Optimizer evaluation. -    INFO - [<ipython-input-13-3f5cb82cb528>:  12 -                  <module>() ] [61/100]Parameters: {\"x1\": 66.30680870787472, \"x2\": 60.059325831735634}, objectives: {\"y\": 89.07085915919247}\n",
      "09/29/2020 18:20:45 -      Optimizer evaluation. -    INFO - [<ipython-input-13-3f5cb82cb528>:  12 -                  <module>() ] [62/100]Parameters: {\"x1\": 82.27744185440068, \"x2\": 89.25743883033093}, objectives: {\"y\": 121.71777288147676}\n",
      "09/29/2020 18:20:46 -      Optimizer evaluation. -    INFO - [<ipython-input-13-3f5cb82cb528>:  12 -                  <module>() ] [63/100]Parameters: {\"x1\": -30.350414200679836, \"x2\": 65.61729859942992}, objectives: {\"y\": 70.32268294587492}\n",
      "09/29/2020 18:20:46 -      Optimizer evaluation. -    INFO - [<ipython-input-13-3f5cb82cb528>:  12 -                  <module>() ] [64/100]Parameters: {\"x1\": 36.596351524395686, \"x2\": 83.11590151460041}, objectives: {\"y\": 92.80821735418037}\n",
      "09/29/2020 18:20:47 -      Optimizer evaluation. -    INFO - [<ipython-input-13-3f5cb82cb528>:  12 -                  <module>() ] [65/100]Parameters: {\"x1\": 17.895051673331636, \"x2\": 62.363194811563716}, objectives: {\"y\": 66.67814340164682}\n",
      "09/29/2020 18:20:47 -      Optimizer evaluation. -    INFO - [<ipython-input-13-3f5cb82cb528>:  12 -                  <module>() ] [66/100]Parameters: {\"x1\": -0.18620688726814194, \"x2\": -78.88914957496044}, objectives: {\"y\": 78.90825190635599}\n",
      "09/29/2020 18:20:48 -      Optimizer evaluation. -    INFO - [<ipython-input-13-3f5cb82cb528>:  12 -                  <module>() ] [67/100]Parameters: {\"x1\": 8.514722128682834, \"x2\": -2.0423891051712104}, objectives: {\"y\": 10.373331921496629}\n",
      "09/29/2020 18:20:48 -      Optimizer evaluation. -    INFO - [<ipython-input-13-3f5cb82cb528>:  12 -                  <module>() ] [68/100]Parameters: {\"x1\": -80.74801388191877, \"x2\": -81.03994532307861}, objectives: {\"y\": 114.4159844276919}\n"
     ]
    },
    {
     "name": "stderr",
     "output_type": "stream",
     "text": [
      "09/29/2020 18:20:48 -      Optimizer evaluation. -    INFO - [<ipython-input-13-3f5cb82cb528>:  12 -                  <module>() ] [69/100]Parameters: {\"x1\": -96.71754490801294, \"x2\": -88.57151561687728}, objectives: {\"y\": 130.79603020708728}\n",
      "09/29/2020 18:20:49 -      Optimizer evaluation. -    INFO - [<ipython-input-13-3f5cb82cb528>:  12 -                  <module>() ] [70/100]Parameters: {\"x1\": -3.525225503859346, \"x2\": -93.03181174337993}, objectives: {\"y\": 93.40041674964517}\n",
      "09/29/2020 18:20:49 -      Optimizer evaluation. -    INFO - [<ipython-input-13-3f5cb82cb528>:  12 -                  <module>() ] [71/100]Parameters: {\"x1\": 50.67447958351215, \"x2\": -92.77930632008291}, objectives: {\"y\": 103.89724032463677}\n",
      "09/29/2020 18:20:50 -      Optimizer evaluation. -    INFO - [<ipython-input-13-3f5cb82cb528>:  12 -                  <module>() ] [72/100]Parameters: {\"x1\": -7.308417761738738, \"x2\": -77.37655987847572}, objectives: {\"y\": 78.45663753847337}\n",
      "09/29/2020 18:20:50 -      Optimizer evaluation. -    INFO - [<ipython-input-13-3f5cb82cb528>:  12 -                  <module>() ] [73/100]Parameters: {\"x1\": 50.017673422905176, \"x2\": 45.47710907283303}, objectives: {\"y\": 67.22348314770765}\n",
      "09/29/2020 18:20:51 -      Optimizer evaluation. -    INFO - [<ipython-input-13-3f5cb82cb528>:  12 -                  <module>() ] [74/100]Parameters: {\"x1\": 26.589072449868056, \"x2\": 88.62711360705265}, objectives: {\"y\": 94.36795246844312}\n",
      "09/29/2020 18:20:51 -      Optimizer evaluation. -    INFO - [<ipython-input-13-3f5cb82cb528>:  12 -                  <module>() ] [75/100]Parameters: {\"x1\": 61.175209144060375, \"x2\": -45.234025994784034}, objectives: {\"y\": 77.20306016341532}\n",
      "09/29/2020 18:20:52 -      Optimizer evaluation. -    INFO - [<ipython-input-13-3f5cb82cb528>:  12 -                  <module>() ] [76/100]Parameters: {\"x1\": 71.01463628870675, \"x2\": 37.84825608701675}, objectives: {\"y\": 78.61949697048068}\n",
      "09/29/2020 18:20:52 -      Optimizer evaluation. -    INFO - [<ipython-input-13-3f5cb82cb528>:  12 -                  <module>() ] [77/100]Parameters: {\"x1\": -44.43153419274102, \"x2\": -62.44266087364676}, objectives: {\"y\": 77.87568133898701}\n",
      "09/29/2020 18:20:53 -      Optimizer evaluation. -    INFO - [<ipython-input-13-3f5cb82cb528>:  12 -                  <module>() ] [78/100]Parameters: {\"x1\": -95.7849613608746, \"x2\": -84.77961452934571}, objectives: {\"y\": 127.43317335601708}\n",
      "09/29/2020 18:20:53 -      Optimizer evaluation. -    INFO - [<ipython-input-13-3f5cb82cb528>:  12 -                  <module>() ] [79/100]Parameters: {\"x1\": 46.846118408691495, \"x2\": 35.83758215798974}, objectives: {\"y\": 57.97201194471931}\n",
      "09/29/2020 18:20:54 -      Optimizer evaluation. -    INFO - [<ipython-input-13-3f5cb82cb528>:  12 -                  <module>() ] [80/100]Parameters: {\"x1\": 28.145136119455486, \"x2\": 77.01510627159286}, objectives: {\"y\": 83.96820285845493}\n",
      "09/29/2020 18:20:54 -      Optimizer evaluation. -    INFO - [<ipython-input-13-3f5cb82cb528>:  12 -                  <module>() ] [81/100]Parameters: {\"x1\": 69.73323017760828, \"x2\": 49.496599745719095}, objectives: {\"y\": 84.26806502928837}\n",
      "09/29/2020 18:20:55 -      Optimizer evaluation. -    INFO - [<ipython-input-13-3f5cb82cb528>:  12 -                  <module>() ] [82/100]Parameters: {\"x1\": -2.462293292323082, \"x2\": 12.394480969926619}, objectives: {\"y\": 11.22385239049936}\n",
      "09/29/2020 18:20:55 -      Optimizer evaluation. -    INFO - [<ipython-input-13-3f5cb82cb528>:  12 -                  <module>() ] [83/100]Parameters: {\"x1\": -67.22246164925612, \"x2\": 70.19097132400631}, objectives: {\"y\": 97.01605998567642}\n",
      "09/29/2020 18:20:56 -      Optimizer evaluation. -    INFO - [<ipython-input-13-3f5cb82cb528>:  12 -                  <module>() ] [84/100]Parameters: {\"x1\": -36.38660487679714, \"x2\": -31.926552074514163}, objectives: {\"y\": 47.89186326151857}\n",
      "09/29/2020 18:20:56 -      Optimizer evaluation. -    INFO - [<ipython-input-13-3f5cb82cb528>:  12 -                  <module>() ] [85/100]Parameters: {\"x1\": 73.59890472388582, \"x2\": 90.78685544781766}, objectives: {\"y\": 117.68147387959122}\n",
      "09/29/2020 18:20:57 -      Optimizer evaluation. -    INFO - [<ipython-input-13-3f5cb82cb528>:  12 -                  <module>() ] [86/100]Parameters: {\"x1\": 33.66322891104858, \"x2\": 72.77419008693491}, objectives: {\"y\": 82.15662565208048}\n",
      "09/29/2020 18:20:57 -      Optimizer evaluation. -    INFO - [<ipython-input-13-3f5cb82cb528>:  12 -                  <module>() ] [87/100]Parameters: {\"x1\": 44.271354528716586, \"x2\": -18.844923763593584}, objectives: {\"y\": 50.113802658800125}\n",
      "09/29/2020 18:20:58 -      Optimizer evaluation. -    INFO - [<ipython-input-13-3f5cb82cb528>:  12 -                  <module>() ] [88/100]Parameters: {\"x1\": -14.090399752332814, \"x2\": -69.37299129194336}, objectives: {\"y\": 72.22634126487104}\n",
      "09/29/2020 18:20:58 -      Optimizer evaluation. -    INFO - [<ipython-input-13-3f5cb82cb528>:  12 -                  <module>() ] [89/100]Parameters: {\"x1\": 9.175857552025548, \"x2\": 23.24821734711591}, objectives: {\"y\": 26.989016282742245}\n",
      "09/29/2020 18:20:59 -      Optimizer evaluation. -    INFO - [<ipython-input-13-3f5cb82cb528>:  12 -                  <module>() ] [90/100]Parameters: {\"x1\": -72.85971986190584, \"x2\": -38.63297137331263}, objectives: {\"y\": 80.61066139489542}\n",
      "09/29/2020 18:21:00 -      Optimizer evaluation. -    INFO - [<ipython-input-13-3f5cb82cb528>:  12 -                  <module>() ] [91/100]Parameters: {\"x1\": 67.14391235749824, \"x2\": -20.20359124389182}, objectives: {\"y\": 71.95850768192133}\n",
      "09/29/2020 18:21:00 -      Optimizer evaluation. -    INFO - [<ipython-input-13-3f5cb82cb528>:  12 -                  <module>() ] [92/100]Parameters: {\"x1\": 47.89281777924995, \"x2\": -18.588412685876122}, objectives: {\"y\": 53.36556799965073}\n",
      "09/29/2020 18:21:00 -      Optimizer evaluation. -    INFO - [<ipython-input-13-3f5cb82cb528>:  12 -                  <module>() ] [93/100]Parameters: {\"x1\": -3.617506141891937, \"x2\": 81.56875922173691}, objectives: {\"y\": 81.29622983198344}\n",
      "09/29/2020 18:21:01 -      Optimizer evaluation. -    INFO - [<ipython-input-13-3f5cb82cb528>:  12 -                  <module>() ] [94/100]Parameters: {\"x1\": 63.804816679099645, \"x2\": 91.37332757230567}, objectives: {\"y\": 112.73914251820733}\n",
      "09/29/2020 18:21:01 -      Optimizer evaluation. -    INFO - [<ipython-input-13-3f5cb82cb528>:  12 -                  <module>() ] [95/100]Parameters: {\"x1\": -53.70211215975509, \"x2\": -86.63727387412692}, objectives: {\"y\": 103.52470165731258}\n",
      "09/29/2020 18:21:02 -      Optimizer evaluation. -    INFO - [<ipython-input-13-3f5cb82cb528>:  12 -                  <module>() ] [96/100]Parameters: {\"x1\": -92.63192920245282, \"x2\": -61.6838959496484}, objectives: {\"y\": 109.86741498334159}\n",
      "09/29/2020 18:21:02 -      Optimizer evaluation. -    INFO - [<ipython-input-13-3f5cb82cb528>:  12 -                  <module>() ] [97/100]Parameters: {\"x1\": -72.42637536929186, \"x2\": -76.3535357560561}, objectives: {\"y\": 105.4506524682541}\n",
      "09/29/2020 18:21:03 -      Optimizer evaluation. -    INFO - [<ipython-input-13-3f5cb82cb528>:  12 -                  <module>() ] [98/100]Parameters: {\"x1\": 25.11383741787172, \"x2\": 29.64637011000761}, objectives: {\"y\": 39.50243580743035}\n",
      "09/29/2020 18:21:04 -      Optimizer evaluation. -    INFO - [<ipython-input-13-3f5cb82cb528>:  12 -                  <module>() ] [99/100]Parameters: {\"x1\": -51.96357611723115, \"x2\": 31.801461947453532}, objectives: {\"y\": 62.54324503984282}\n",
      "09/29/2020 18:21:04 -      Optimizer evaluation. -    INFO - [<ipython-input-13-3f5cb82cb528>:  12 -                  <module>() ] [100/100]Parameters: {\"x1\": 36.33138530888681, \"x2\": -48.95816297032869}, objectives: {\"y\": 59.85689627356617}\n"
     ]
    }
   ],
   "source": [
    "from mlos.Optimizers.OptimumDefinition import OptimumDefinition\n",
    "from mlos.Optimizers.RegressionModels.GoodnessOfFitMetrics import GoodnessOfFitMetrics, DataSetType\n",
    "\n",
    "\n",
    "\n",
    "start_iteration_num = i\n",
    "end_iteration_num = start_iteration_num + 100\n",
    "\n",
    "for i in range(start_iteration_num, end_iteration_num):\n",
    "    parameters = optimizer.suggest()\n",
    "    objectives = objective_function.evaluate_point(parameters)\n",
    "    logger.info(f\"[{i+1}/{end_iteration_num}]Parameters: {parameters}, objectives: {objectives}\")\n",
    "    \n",
    "    optimizer.register(parameters.to_dataframe(), objectives.to_dataframe())\n",
    "    \n",
    "    if optimizer.trained:\n",
    "        gof_metrics = optimizer.compute_surrogate_model_goodness_of_fit()\n",
    "        regression_model_fit_state.set_gof_metrics(data_set_type=DataSetType.TRAIN, gof_metrics=gof_metrics)\n",
    "        \n",
    "        \n",
    "    \n",
    "    best_observation_num_observations.append(i)\n",
    "    \n",
    "    best_observation_config, best_observation = optimizer.optimum(OptimumDefinition.BEST_OBSERVATION)    \n",
    "    best_observation_configs.append(best_observation_config)\n",
    "    best_observations.append(best_observation)\n",
    "    \n",
    "    try:\n",
    "        best_predicted_value_config, best_predicted_value = optimizer.optimum(OptimumDefinition.PREDICTED_VALUE_FOR_OBSERVED_CONFIG)\n",
    "        best_predicted_value_configs.append(best_predicted_value_config)\n",
    "        best_predicted_values.append(best_predicted_value)\n",
    "        predicted_value_num_observations.append(i)\n",
    "    except:\n",
    "        pass\n",
    "    "
   ]
  },
  {
   "cell_type": "code",
   "execution_count": 14,
   "metadata": {},
   "outputs": [
    {
     "data": {
      "text/plain": [
       "({\"x1\": -5.089816476192425, \"x2\": 7.288893088599082}, {\"y\": 7.596698404456648})"
      ]
     },
     "execution_count": 14,
     "metadata": {},
     "output_type": "execute_result"
    }
   ],
   "source": [
    "best_observation_config, best_observation"
   ]
  },
  {
   "cell_type": "code",
   "execution_count": 15,
   "metadata": {},
   "outputs": [
    {
     "ename": "NameError",
     "evalue": "name 'best_predicted_value_config' is not defined",
     "output_type": "error",
     "traceback": [
      "\u001b[1;31m---------------------------------------------------------------------------\u001b[0m",
      "\u001b[1;31mNameError\u001b[0m                                 Traceback (most recent call last)",
      "\u001b[1;32m<ipython-input-15-b498310ff45a>\u001b[0m in \u001b[0;36m<module>\u001b[1;34m\u001b[0m\n\u001b[1;32m----> 1\u001b[1;33m \u001b[0mbest_predicted_value_config\u001b[0m\u001b[1;33m,\u001b[0m \u001b[0mbest_predicted_value\u001b[0m\u001b[1;33m\u001b[0m\u001b[1;33m\u001b[0m\u001b[0m\n\u001b[0m",
      "\u001b[1;31mNameError\u001b[0m: name 'best_predicted_value_config' is not defined"
     ]
    }
   ],
   "source": [
    "best_predicted_value_config, best_predicted_value"
   ]
  },
  {
   "cell_type": "code",
   "execution_count": 16,
   "metadata": {},
   "outputs": [],
   "source": [
    "# Best observation dataframe\n",
    "#\n",
    "best_observation_df = pd.DataFrame([observation.to_dict() for observation in best_observations])\n",
    "best_observation_df['num_observations'] = best_observation_num_observations\n",
    "best_observation_df = pd.concat([best_observation_df.drop_duplicates(subset=['y'], keep='last'), best_observation_df.drop_duplicates(subset=['y'], keep='first')]).sort_index()"
   ]
  },
  {
   "cell_type": "code",
   "execution_count": 17,
   "metadata": {},
   "outputs": [],
   "source": [
    "best_predicted_value_df = pd.DataFrame([predicted_value.to_dict() for predicted_value in best_predicted_values])\n",
    "best_predicted_value_df['num_observations'] = predicted_value_num_observations\n",
    "best_predicted_value_df = pd.concat([best_predicted_value_df.drop_duplicates(subset=['predicted_value'], keep='last'), best_predicted_value_df.drop_duplicates(subset=['predicted_value'], keep='first')]).sort_index()"
   ]
  },
  {
   "cell_type": "code",
   "execution_count": 18,
   "metadata": {
    "scrolled": false
   },
   "outputs": [
    {
     "ename": "KeyError",
     "evalue": "'predicted_value'",
     "output_type": "error",
     "traceback": [
      "\u001b[1;31m---------------------------------------------------------------------------\u001b[0m",
      "\u001b[1;31mKeyError\u001b[0m                                  Traceback (most recent call last)",
      "\u001b[1;32m~\\AppData\\Roaming\\Python\\Python37\\site-packages\\pandas\\core\\indexes\\base.py\u001b[0m in \u001b[0;36mget_loc\u001b[1;34m(self, key, method, tolerance)\u001b[0m\n\u001b[0;32m   2645\u001b[0m             \u001b[1;32mtry\u001b[0m\u001b[1;33m:\u001b[0m\u001b[1;33m\u001b[0m\u001b[1;33m\u001b[0m\u001b[0m\n\u001b[1;32m-> 2646\u001b[1;33m                 \u001b[1;32mreturn\u001b[0m \u001b[0mself\u001b[0m\u001b[1;33m.\u001b[0m\u001b[0m_engine\u001b[0m\u001b[1;33m.\u001b[0m\u001b[0mget_loc\u001b[0m\u001b[1;33m(\u001b[0m\u001b[0mkey\u001b[0m\u001b[1;33m)\u001b[0m\u001b[1;33m\u001b[0m\u001b[1;33m\u001b[0m\u001b[0m\n\u001b[0m\u001b[0;32m   2647\u001b[0m             \u001b[1;32mexcept\u001b[0m \u001b[0mKeyError\u001b[0m\u001b[1;33m:\u001b[0m\u001b[1;33m\u001b[0m\u001b[1;33m\u001b[0m\u001b[0m\n",
      "\u001b[1;32mpandas\\_libs\\index.pyx\u001b[0m in \u001b[0;36mpandas._libs.index.IndexEngine.get_loc\u001b[1;34m()\u001b[0m\n",
      "\u001b[1;32mpandas\\_libs\\index.pyx\u001b[0m in \u001b[0;36mpandas._libs.index.IndexEngine.get_loc\u001b[1;34m()\u001b[0m\n",
      "\u001b[1;32mpandas\\_libs\\hashtable_class_helper.pxi\u001b[0m in \u001b[0;36mpandas._libs.hashtable.PyObjectHashTable.get_item\u001b[1;34m()\u001b[0m\n",
      "\u001b[1;32mpandas\\_libs\\hashtable_class_helper.pxi\u001b[0m in \u001b[0;36mpandas._libs.hashtable.PyObjectHashTable.get_item\u001b[1;34m()\u001b[0m\n",
      "\u001b[1;31mKeyError\u001b[0m: 'predicted_value'",
      "\nDuring handling of the above exception, another exception occurred:\n",
      "\u001b[1;31mKeyError\u001b[0m                                  Traceback (most recent call last)",
      "\u001b[1;32m<ipython-input-18-0a0d41fe76d2>\u001b[0m in \u001b[0;36m<module>\u001b[1;34m\u001b[0m\n\u001b[0;32m      6\u001b[0m \u001b[1;33m\u001b[0m\u001b[0m\n\u001b[0;32m      7\u001b[0m \u001b[0maxs\u001b[0m\u001b[1;33m.\u001b[0m\u001b[0mplot\u001b[0m\u001b[1;33m(\u001b[0m\u001b[0mbest_observation_df\u001b[0m\u001b[1;33m[\u001b[0m\u001b[1;34m'num_observations'\u001b[0m\u001b[1;33m]\u001b[0m\u001b[1;33m,\u001b[0m \u001b[0mbest_observation_df\u001b[0m\u001b[1;33m[\u001b[0m\u001b[1;34m'y'\u001b[0m\u001b[1;33m]\u001b[0m\u001b[1;33m,\u001b[0m \u001b[0mlabel\u001b[0m\u001b[1;33m=\u001b[0m\u001b[1;34m'y'\u001b[0m\u001b[1;33m)\u001b[0m\u001b[1;33m\u001b[0m\u001b[1;33m\u001b[0m\u001b[0m\n\u001b[1;32m----> 8\u001b[1;33m \u001b[0maxs\u001b[0m\u001b[1;33m.\u001b[0m\u001b[0mplot\u001b[0m\u001b[1;33m(\u001b[0m\u001b[0mbest_predicted_value_df\u001b[0m\u001b[1;33m[\u001b[0m\u001b[1;34m'num_observations'\u001b[0m\u001b[1;33m]\u001b[0m\u001b[1;33m,\u001b[0m \u001b[0mbest_predicted_value_df\u001b[0m\u001b[1;33m[\u001b[0m\u001b[1;34m'predicted_value'\u001b[0m\u001b[1;33m]\u001b[0m\u001b[1;33m,\u001b[0m \u001b[0mlabel\u001b[0m\u001b[1;33m=\u001b[0m\u001b[1;34m'predicted_value'\u001b[0m\u001b[1;33m)\u001b[0m\u001b[1;33m\u001b[0m\u001b[1;33m\u001b[0m\u001b[0m\n\u001b[0m\u001b[0;32m      9\u001b[0m \u001b[0maxs\u001b[0m\u001b[1;33m.\u001b[0m\u001b[0mset_ylabel\u001b[0m\u001b[1;33m(\u001b[0m\u001b[1;34m'y'\u001b[0m\u001b[1;33m)\u001b[0m\u001b[1;33m\u001b[0m\u001b[1;33m\u001b[0m\u001b[0m\n\u001b[0;32m     10\u001b[0m \u001b[0maxs\u001b[0m\u001b[1;33m.\u001b[0m\u001b[0myaxis\u001b[0m\u001b[1;33m.\u001b[0m\u001b[0mset_major_formatter\u001b[0m\u001b[1;33m(\u001b[0m\u001b[0mmtick\u001b[0m\u001b[1;33m.\u001b[0m\u001b[0mFormatStrFormatter\u001b[0m\u001b[1;33m(\u001b[0m\u001b[1;34m'%.2f'\u001b[0m\u001b[1;33m)\u001b[0m\u001b[1;33m)\u001b[0m\u001b[1;33m\u001b[0m\u001b[1;33m\u001b[0m\u001b[0m\n",
      "\u001b[1;32m~\\AppData\\Roaming\\Python\\Python37\\site-packages\\pandas\\core\\frame.py\u001b[0m in \u001b[0;36m__getitem__\u001b[1;34m(self, key)\u001b[0m\n\u001b[0;32m   2798\u001b[0m             \u001b[1;32mif\u001b[0m \u001b[0mself\u001b[0m\u001b[1;33m.\u001b[0m\u001b[0mcolumns\u001b[0m\u001b[1;33m.\u001b[0m\u001b[0mnlevels\u001b[0m \u001b[1;33m>\u001b[0m \u001b[1;36m1\u001b[0m\u001b[1;33m:\u001b[0m\u001b[1;33m\u001b[0m\u001b[1;33m\u001b[0m\u001b[0m\n\u001b[0;32m   2799\u001b[0m                 \u001b[1;32mreturn\u001b[0m \u001b[0mself\u001b[0m\u001b[1;33m.\u001b[0m\u001b[0m_getitem_multilevel\u001b[0m\u001b[1;33m(\u001b[0m\u001b[0mkey\u001b[0m\u001b[1;33m)\u001b[0m\u001b[1;33m\u001b[0m\u001b[1;33m\u001b[0m\u001b[0m\n\u001b[1;32m-> 2800\u001b[1;33m             \u001b[0mindexer\u001b[0m \u001b[1;33m=\u001b[0m \u001b[0mself\u001b[0m\u001b[1;33m.\u001b[0m\u001b[0mcolumns\u001b[0m\u001b[1;33m.\u001b[0m\u001b[0mget_loc\u001b[0m\u001b[1;33m(\u001b[0m\u001b[0mkey\u001b[0m\u001b[1;33m)\u001b[0m\u001b[1;33m\u001b[0m\u001b[1;33m\u001b[0m\u001b[0m\n\u001b[0m\u001b[0;32m   2801\u001b[0m             \u001b[1;32mif\u001b[0m \u001b[0mis_integer\u001b[0m\u001b[1;33m(\u001b[0m\u001b[0mindexer\u001b[0m\u001b[1;33m)\u001b[0m\u001b[1;33m:\u001b[0m\u001b[1;33m\u001b[0m\u001b[1;33m\u001b[0m\u001b[0m\n\u001b[0;32m   2802\u001b[0m                 \u001b[0mindexer\u001b[0m \u001b[1;33m=\u001b[0m \u001b[1;33m[\u001b[0m\u001b[0mindexer\u001b[0m\u001b[1;33m]\u001b[0m\u001b[1;33m\u001b[0m\u001b[1;33m\u001b[0m\u001b[0m\n",
      "\u001b[1;32m~\\AppData\\Roaming\\Python\\Python37\\site-packages\\pandas\\core\\indexes\\base.py\u001b[0m in \u001b[0;36mget_loc\u001b[1;34m(self, key, method, tolerance)\u001b[0m\n\u001b[0;32m   2646\u001b[0m                 \u001b[1;32mreturn\u001b[0m \u001b[0mself\u001b[0m\u001b[1;33m.\u001b[0m\u001b[0m_engine\u001b[0m\u001b[1;33m.\u001b[0m\u001b[0mget_loc\u001b[0m\u001b[1;33m(\u001b[0m\u001b[0mkey\u001b[0m\u001b[1;33m)\u001b[0m\u001b[1;33m\u001b[0m\u001b[1;33m\u001b[0m\u001b[0m\n\u001b[0;32m   2647\u001b[0m             \u001b[1;32mexcept\u001b[0m \u001b[0mKeyError\u001b[0m\u001b[1;33m:\u001b[0m\u001b[1;33m\u001b[0m\u001b[1;33m\u001b[0m\u001b[0m\n\u001b[1;32m-> 2648\u001b[1;33m                 \u001b[1;32mreturn\u001b[0m \u001b[0mself\u001b[0m\u001b[1;33m.\u001b[0m\u001b[0m_engine\u001b[0m\u001b[1;33m.\u001b[0m\u001b[0mget_loc\u001b[0m\u001b[1;33m(\u001b[0m\u001b[0mself\u001b[0m\u001b[1;33m.\u001b[0m\u001b[0m_maybe_cast_indexer\u001b[0m\u001b[1;33m(\u001b[0m\u001b[0mkey\u001b[0m\u001b[1;33m)\u001b[0m\u001b[1;33m)\u001b[0m\u001b[1;33m\u001b[0m\u001b[1;33m\u001b[0m\u001b[0m\n\u001b[0m\u001b[0;32m   2649\u001b[0m         \u001b[0mindexer\u001b[0m \u001b[1;33m=\u001b[0m \u001b[0mself\u001b[0m\u001b[1;33m.\u001b[0m\u001b[0mget_indexer\u001b[0m\u001b[1;33m(\u001b[0m\u001b[1;33m[\u001b[0m\u001b[0mkey\u001b[0m\u001b[1;33m]\u001b[0m\u001b[1;33m,\u001b[0m \u001b[0mmethod\u001b[0m\u001b[1;33m=\u001b[0m\u001b[0mmethod\u001b[0m\u001b[1;33m,\u001b[0m \u001b[0mtolerance\u001b[0m\u001b[1;33m=\u001b[0m\u001b[0mtolerance\u001b[0m\u001b[1;33m)\u001b[0m\u001b[1;33m\u001b[0m\u001b[1;33m\u001b[0m\u001b[0m\n\u001b[0;32m   2650\u001b[0m         \u001b[1;32mif\u001b[0m \u001b[0mindexer\u001b[0m\u001b[1;33m.\u001b[0m\u001b[0mndim\u001b[0m \u001b[1;33m>\u001b[0m \u001b[1;36m1\u001b[0m \u001b[1;32mor\u001b[0m \u001b[0mindexer\u001b[0m\u001b[1;33m.\u001b[0m\u001b[0msize\u001b[0m \u001b[1;33m>\u001b[0m \u001b[1;36m1\u001b[0m\u001b[1;33m:\u001b[0m\u001b[1;33m\u001b[0m\u001b[1;33m\u001b[0m\u001b[0m\n",
      "\u001b[1;32mpandas\\_libs\\index.pyx\u001b[0m in \u001b[0;36mpandas._libs.index.IndexEngine.get_loc\u001b[1;34m()\u001b[0m\n",
      "\u001b[1;32mpandas\\_libs\\index.pyx\u001b[0m in \u001b[0;36mpandas._libs.index.IndexEngine.get_loc\u001b[1;34m()\u001b[0m\n",
      "\u001b[1;32mpandas\\_libs\\hashtable_class_helper.pxi\u001b[0m in \u001b[0;36mpandas._libs.hashtable.PyObjectHashTable.get_item\u001b[1;34m()\u001b[0m\n",
      "\u001b[1;32mpandas\\_libs\\hashtable_class_helper.pxi\u001b[0m in \u001b[0;36mpandas._libs.hashtable.PyObjectHashTable.get_item\u001b[1;34m()\u001b[0m\n",
      "\u001b[1;31mKeyError\u001b[0m: 'predicted_value'"
     ]
    },
    {
     "data": {
      "image/png": "[encoded data removed]",
      "text/plain": [
       "<Figure size 880x1600 with 1 Axes>"
      ]
     },
     "metadata": {
      "needs_background": "light"
     },
     "output_type": "display_data"
    }
   ],
   "source": [
    "import matplotlib.pyplot as plt\n",
    "import matplotlib.ticker as mtick\n",
    "%matplotlib inline\n",
    "\n",
    "fig, axs = plt.subplots(1, figsize=(11, 20), dpi=80, sharex=True)\n",
    "\n",
    "axs.plot(best_observation_df['num_observations'], best_observation_df['y'], label='y')\n",
    "axs.plot(best_predicted_value_df['num_observations'], best_predicted_value_df['predicted_value'], label='predicted_value')\n",
    "axs.set_ylabel('y')\n",
    "axs.yaxis.set_major_formatter(mtick.FormatStrFormatter('%.2f'))\n",
    "axs.set_xticks(best_observation_df['num_observations'][::2])\n",
    "axs.grid(True)\n",
    "axs.set_xlabel('num_observations')\n",
    "axs.legend()  \n",
    "fig.show()"
   ]
  },
  {
   "cell_type": "code",
   "execution_count": 19,
   "metadata": {},
   "outputs": [],
   "source": [
    "from mlos.Optimizers.RegressionModels.GoodnessOfFitMetrics import DataSetType\n",
    "\n",
    "# Let's take a look at goodness of fit data.\n",
    "#\n",
    "goodness_of_fit_dataframe = regression_model_fit_state.get_goodness_of_fit_dataframe(data_set_type=DataSetType.TRAIN) # TODO: add support to evaluate GoF on test data"
   ]
  },
  {
   "cell_type": "code",
   "execution_count": 20,
   "metadata": {},
   "outputs": [
    {
     "name": "stderr",
     "output_type": "stream",
     "text": [
      "C:\\Users\\adsmiech\\AppData\\Local\\Continuum\\miniconda3\\lib\\site-packages\\ipykernel_launcher.py:19: UserWarning: Matplotlib is currently using module://ipykernel.pylab.backend_inline, which is a non-GUI backend, so cannot show the figure.\n"
     ]
    },
    {
     "data": {
      "image/png": "[encoded data removed]",
      "text/plain": [
       "<Figure size 880x1600 with 7 Axes>"
      ]
     },
     "metadata": {
      "needs_background": "light"
     },
     "output_type": "display_data"
    }
   ],
   "source": [
    "import matplotlib.pyplot as plt\n",
    "import matplotlib.ticker as mtick\n",
    "%matplotlib inline\n",
    "\n",
    "gof_df = goodness_of_fit_dataframe\n",
    "columns_to_plot = [name for name in gof_df.columns.values if name not in ('observation_count', 'prediction_count', 'last_refit_iteration_number')]\n",
    "num_plots = len(columns_to_plot)\n",
    "fig, axs = plt.subplots(num_plots, figsize=(11, 20), dpi=80, sharex=True)\n",
    "\n",
    "for i, column in enumerate(columns_to_plot):\n",
    "    axs[i].plot(gof_df['last_refit_iteration_number'], gof_df[column], marker='o', label=column)\n",
    "    axs[i].set_ylabel(column)\n",
    "    axs[i].yaxis.set_major_formatter(mtick.FormatStrFormatter('%.2f'))\n",
    "    axs[i].set_xticks(gof_df['last_refit_iteration_number'])\n",
    "    axs[i].grid(True)\n",
    "    if i == num_plots - 1:\n",
    "        axs[i].set_xlabel('last_refit_iteration_number')\n",
    "        \n",
    "fig.show()"
   ]
  },
  {
   "cell_type": "code",
   "execution_count": null,
   "metadata": {},
   "outputs": [],
   "source": [
    "global_values.tracer.dump_trace_to_file(r\"E:\\code\\new_mlos\\source\\Mlos.Python\\temp\\optimizer_evaluation_tools.json\")"
   ]
  },
  {
   "cell_type": "markdown",
   "metadata": {},
   "source": [
    "## TODO: Bayesian Optimizer Evaluation\n",
    "\n",
    "1. Perform optimizer convergence evaluation on some functions out of the factory:\n",
    "    1. Define some named configurations for the BayesianOptimizer (surrogate model config, utility function, utility function optimizer config).\n",
    "    2. Write the optimum object to:\n",
    "        1. Include all observations (at first - once we know what we don't need, we can remove them)\n",
    "        2. Include surrogate model predictions for all observations.\n",
    "        3. Include a dataframe with the various definitions of optimum:\n",
    "            1. Best observed observation.\n",
    "            2. Observation with the highest:\n",
    "                1. predicted mean\n",
    "                2. upper confidence bound\n",
    "                3. lower confidence bound\n",
    "            3. Speculative optima - kick of the utility function optimizer to find configurations with:\n",
    "                1. maximum predicted mean\n",
    "                2. maximum upper confidence bound\n",
    "                3. maximum lower confidence bound\n",
    "        1. Include a dataframe with cummax of all of the 7 optima.\n",
    "        2. Compare the number of iterations needed to reach the same optimum for the various optimizers.\n",
    "        \n",
    "    3. Train the various models on the various functions and plot all 7 optima as a function of a number of observations (repeat each experiment a few times to get the idea of stability).\n",
    "    4. Progressively increase the difficulty of the optimization problems:\n",
    "        1. Amount of noise.\n",
    "        2. Number of dimensions.\n",
    "        3. Discontinuous functions.\n",
    "        4. Search spaces with more branching and nesting.\n",
    "        "
   ]
  },
  {
   "cell_type": "markdown",
   "metadata": {},
   "source": [
    "## TODO: Utility Function Optimizer Evaluation\n",
    "\n",
    "This is a two-step process.\n",
    "1. Evaluate these model-free optimizers on the ObjectiveFunctionBase subclasses. This should allow us to capture any bugs, and get a sense of how quickly these optimizers converge on a variety of functions.\n",
    "2. Evaluate these model-free optimizers as part of the bayesian optimizer. The key difference is that the model gets refit, so the underlying function changes between optimizer invocations, but we get to use prior invocations as starting points.\n",
    "\n",
    "3. Plot all of this :)"
   ]
  }
 ],
 "metadata": {
  "kernelspec": {
   "display_name": "Python 3",
   "language": "python",
   "name": "python3"
  },
  "language_info": {
   "codemirror_mode": {
    "name": "ipython",
    "version": 3
   },
   "file_extension": ".py",
   "mimetype": "text/x-python",
   "name": "python",
   "nbconvert_exporter": "python",
   "pygments_lexer": "ipython3",
   "version": "3.7.4"
  }
 },
 "nbformat": 4,
 "nbformat_minor": 2
}
