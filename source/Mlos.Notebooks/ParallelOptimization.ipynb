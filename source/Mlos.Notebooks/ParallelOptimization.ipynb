{
 "cells": [
  {
   "cell_type": "code",
   "execution_count": null,
   "metadata": {},
   "outputs": [],
   "source": [
    "# Let's see if we can leverage the ProcessPoolExecutor to launch a bunch of optimizations simultaneously.\n",
    "#\n",
    "import concurrent.futures\n",
    "\n",
    "from mlos.Optimizers.BayesianOptimizerConfigStore import bayesian_optimizer_config_store\n",
    "from mlos.Optimizers.BayesianOptimizerFactory import BayesianOptimizerFactory\n",
    "from mlos.Optimizers.OptimizationProblem import OptimizationProblem, Objective\n",
    "from mlos.Optimizers.OptimumDefinition import OptimumDefinition\n",
    "\n",
    "from mlos.OptimizerEvaluationTools.ObjectiveFunctionFactory import ObjectiveFunctionFactory\n",
    "from mlos.OptimizerEvaluationTools.ObjectiveFunctionConfigStore import objective_function_config_store\n",
    "\n",
    "\n",
    "def run_optimization(optimizer_config, objective_function_config, num_iterations):\n",
    "    objective_function = ObjectiveFunctionFactory.create_objective_function(objective_function_config)\n",
    "    optimizer_factory = BayesianOptimizerFactory()\n",
    "    optimizer = optimizer_factory.create_local_optimizer(\n",
    "        optimizer_config=optimizer_config,\n",
    "        optimization_problem=OptimizationProblem(\n",
    "            parameter_space=objective_function.parameter_space,\n",
    "            objective_space=objective_function.output_space,\n",
    "            objectives=[Objective(name='y', minimize=True)]\n",
    "        )\n",
    "    )\n",
    "    for i in range(num_iterations):\n",
    "        parameters = optimizer.suggest()\n",
    "        objectives = objective_function.evaluate_point(parameters)\n",
    "        optimizer.register(parameters.to_dataframe(), objectives.to_dataframe())\n",
    "    return optimizer.optimum(OptimumDefinition.BEST_OBSERVATION)\n",
    "        \n",
    "\n",
    "with concurrent.futures.ProcessPoolExecutor(max_workers=8) as executor:\n",
    "    future = executor.submit(\n",
    "        run_optimization,\n",
    "        bayesian_optimizer_config_store.default,\n",
    "        objective_function_config_store.get_config_by_name('three_level_quadratic'),\n",
    "        num_iterations=10\n",
    "    )\n",
    "    "
   ]
  }
 ],
 "metadata": {
  "kernelspec": {
   "display_name": "Python 3",
   "language": "python",
   "name": "python3"
  },
  "language_info": {
   "codemirror_mode": {
    "name": "ipython",
    "version": 3
   },
   "file_extension": ".py",
   "mimetype": "text/x-python",
   "name": "python",
   "nbconvert_exporter": "python",
   "pygments_lexer": "ipython3",
   "version": "3.7.4"
  }
 },
 "nbformat": 4,
 "nbformat_minor": 2
}
