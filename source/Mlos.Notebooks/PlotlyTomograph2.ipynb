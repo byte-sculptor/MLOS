{
 "cells": [
  {
   "cell_type": "markdown",
   "metadata": {},
   "source": [
    "# Goal\n",
    "The goal of this notebook is to help with the incremental development of the newer Tomograph using plotly.\n",
    "\n",
    "## Why Plotly?\n",
    "I've done a bit of research on the viable libraries we could use and came back with two: plotly or bokeh, however bokeh has no capability to produce 3D plots, and we need that for displaying the pareto frontier, as well as to plot 2-parameter and 3-parameter interactions. \n",
    "\n",
    "## Strategy\n",
    "\n",
    "The ultimate goal is to have the tomograph connect to the optimizer and automatically plot a grid of diagrams, where each row and each column correspond to one of the dimensions in the feature space (either parameters or context). On the diagonal (where the row and column dimensions are the same) we should plot parameter importance.\n",
    "\n",
    "Each of the plots should be tailor made for the type of data it's displaying so for 2-feature interactions we have:\n",
    "1. ContinuousDimension/DiscreteDimension x ContinuousDimension/DiscreteDimension - should produce a heatmap with appropriate resolution. \n",
    "2. ContinuousDimension x CategoricalDimension should also produce a heatmap with a suitably smaller resolution.\n",
    "3. Categorical x Categorical - heatmap.\n",
    "\n",
    "For single params:\n",
    "    1. ContinuousDimension - line plot\n",
    "    2. DiscreteDimension - line/scatter plot depending on size\n",
    "    3. CategoricalDimension - violin-plot? Box and whisker plot?\n",
    "All of the above must include uncertainty.\n",
    "\n",
    "Each of the heatmaps should be replaceable by a surface plot. Two surface plots could be overlaid on top of each other to show an effect of toggling a categorical parameter.\n",
    "\n",
    "## Architecture\n",
    "\n",
    "### Plotting Features\n",
    "Each of the plots in the grid, should be able to:\n",
    "* formulate a query to the optimizer (a meshgrid of it's plottable axes with constant columns for the remaining features)\n",
    "* cache the predictions locally\n",
    "* implement a .get_values(x_resolution, y_resolution) downsampling or upsampling as needed (possibly by querying the optimizer again. This function should return all the data and metada as well: z-values for heatmaps along with axis titles, and ticks. For 1-D plots, naturally the \"z-values\" become \"y-values\" and correspond to the predictions.\n",
    "\n",
    "In such an architecture, we could first display the entire grid, and then the user can re-plot the interesting one of the subplots as an independent figure with the same code and without need to query the optimizer.\n",
    "\n",
    "Lastly, in theory, these data and metadata are not plotly specific. Thus we could replace the front-end with plotly, matplotlib, or bukeh. \n",
    "\n",
    "### Volume Plots\n",
    "Outside of the grid, we could try to understand higher-degree interactions by plotting 3-D surface plots (if one of the parameters is categorical), or 3-D volume plots if all dimensions are continuous/discrete. \n",
    "\n",
    "\n",
    "### Plotting Pareto\n",
    "We should be able to plot the pareto of 2D and 3D objective spaces, perhaps even recomputing the pareto if the user decides to \"stop caring\" about one of the objectives, or start caring about a previously neglected one.\n",
    "\n",
    "Further, we can always plot radar plots there. Parallel plots are also available. \n",
    "\n",
    "\n",
    "Nice to haves:\n",
    "1. Zooming callbacks - would be dope if upon zooming, the tomograph would issue another, more detailed query to the optimizer. This might be tricky, but we can give it a shot.\n",
    "\n",
    "### Other Plots\n",
    "Violin plots would be nice for bivariate analysis of binary dimensions vs objective.\n",
    "We should also look at all the content that the cave reports have, and move it over so we don't have a dependency on an orphaned repo.\n",
    "\n",
    "\n",
    "## Plan of attack\n",
    "1. Train an optimizer on one of the synthetic functions - something high-dimensional perhaps with conditional sub-spaces.\n",
    "2. Write individual plot types and polish each with the right scale, etc.\n",
    "3. Write the function that produces the grid.\n",
    "4. Test on a bunch of different synthetic functions.\n"
   ]
  }
 ],
 "metadata": {
  "kernelspec": {
   "display_name": "Python 3",
   "language": "python",
   "name": "python3"
  },
  "language_info": {
   "codemirror_mode": {
    "name": "ipython",
    "version": 3
   },
   "file_extension": ".py",
   "mimetype": "text/x-python",
   "name": "python",
   "nbconvert_exporter": "python",
   "pygments_lexer": "ipython3",
   "version": "3.8.3"
  }
 },
 "nbformat": 4,
 "nbformat_minor": 4
}
