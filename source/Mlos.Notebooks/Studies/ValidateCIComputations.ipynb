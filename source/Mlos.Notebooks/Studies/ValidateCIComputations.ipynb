{
 "cells": [
  {
   "cell_type": "markdown",
   "metadata": {},
   "source": [
    "# Goal\n",
    "\n",
    "The goal of this notebook is to check if our variance estimators are biased.\n",
    "\n",
    "# Method\n",
    "\n",
    "Generate a sequence of observations from a normal distribution with a known mean and variance. Register them with the optimizer and check how well the predicted variance approximates the true variance."
   ]
  },
  {
   "cell_type": "code",
   "execution_count": 1,
   "metadata": {},
   "outputs": [
    {
     "data": {
      "text/html": [
       "<style>.container { width:100% !important; }</style>"
      ],
      "text/plain": [
       "<IPython.core.display.HTML object>"
      ]
     },
     "metadata": {},
     "output_type": "display_data"
    }
   ],
   "source": [
    "from IPython.core.display import display, HTML\n",
    "import warnings\n",
    "display(HTML(\"<style>.container { width:100% !important; }</style>\"))\n",
    "warnings.simplefilter(\"ignore\")"
   ]
  },
  {
   "cell_type": "code",
   "execution_count": 19,
   "metadata": {},
   "outputs": [
    {
     "name": "stderr",
     "output_type": "stream",
     "text": [
      "11/11/2020 19:25:44 -   BayesianOptimizerFactory -    INFO - [BayesianOptimizerFactory.py:  37 -    create_local_optimizer() ] Optimizer config not specified. Using default.\n",
      "11/11/2020 19:25:44 -   BayesianOptimizerFactory -    INFO - [BayesianOptimizerFactory.py:  37 -    create_local_optimizer() ] Optimizer config not specified. Using default.\n"
     ]
    }
   ],
   "source": [
    "from mlos.Optimizers.BayesianOptimizer import BayesianOptimizer\n",
    "from mlos.Optimizers.BayesianOptimizerConfigStore import bayesian_optimizer_config_store\n",
    "from mlos.Optimizers.BayesianOptimizerFactory import BayesianOptimizerFactory\n",
    "from mlos.Optimizers.OptimizationProblem import OptimizationProblem, Objective\n",
    "from mlos.Spaces import SimpleHypergrid, ContinuousDimension\n",
    "\n",
    "input_space = SimpleHypergrid(\n",
    "    name=\"input\",\n",
    "    dimensions=[\n",
    "        ContinuousDimension(name=\"x\", min=-10, max=10)\n",
    "    ]\n",
    ")\n",
    "\n",
    "output_space = SimpleHypergrid(\n",
    "    name=\"objective\",\n",
    "    dimensions=[\n",
    "        ContinuousDimension(name=\"y\", min=-100, max=100)\n",
    "    ]\n",
    ")\n",
    "\n",
    "optimization_problem = OptimizationProblem(\n",
    "    parameter_space=input_space,\n",
    "    objective_space=output_space,\n",
    "    objectives=[Objective(name=\"y\", minimize=False)]\n",
    ")\n",
    "\n",
    "optimizer_config = bayesian_optimizer_config_store.default\n",
    "optimizer_config.homogeneous_random_forest_regression_model_config.samples_fraction_per_estimator = 0.5\n",
    "optimizer_config.homogeneous_random_forest_regression_model_config.n_estimators = 100\n",
    "\n",
    "optimizer_factory = BayesianOptimizerFactory()\n",
    "optimizer = optimizer_factory.create_local_optimizer(\n",
    "    optimization_problem=optimization_problem\n",
    ")"
   ]
  },
  {
   "cell_type": "code",
   "execution_count": 23,
   "metadata": {},
   "outputs": [],
   "source": [
    "import numpy as np\n",
    "import pandas as pd\n",
    "\n",
    "num_observations = 1000\n",
    "\n",
    "mean = 0.0\n",
    "standard_deviation = 5.0\n",
    "\n",
    "parameters_df = pd.DataFrame({'x': np.zeros(num_observations)})\n",
    "targets_df = pd.DataFrame({'y': np.random.normal(mean, standard_deviation, num_observations)})"
   ]
  },
  {
   "cell_type": "code",
   "execution_count": 24,
   "metadata": {},
   "outputs": [],
   "source": [
    "optimizer.register(parameters_df, targets_df)"
   ]
  },
  {
   "cell_type": "code",
   "execution_count": 25,
   "metadata": {},
   "outputs": [
    {
     "data": {
      "text/html": [
       "<div>\n",
       "<style scoped>\n",
       "    .dataframe tbody tr th:only-of-type {\n",
       "        vertical-align: middle;\n",
       "    }\n",
       "\n",
       "    .dataframe tbody tr th {\n",
       "        vertical-align: top;\n",
       "    }\n",
       "\n",
       "    .dataframe thead th {\n",
       "        text-align: right;\n",
       "    }\n",
       "</style>\n",
       "<table border=\"1\" class=\"dataframe\">\n",
       "  <thead>\n",
       "    <tr style=\"text-align: right;\">\n",
       "      <th></th>\n",
       "      <th>is_valid_input</th>\n",
       "      <th>predicted_value</th>\n",
       "      <th>predicted_value_variance</th>\n",
       "      <th>sample_variance</th>\n",
       "      <th>sample_size</th>\n",
       "      <th>predicted_value_degrees_of_freedom</th>\n",
       "    </tr>\n",
       "  </thead>\n",
       "  <tbody>\n",
       "    <tr>\n",
       "      <th>0</th>\n",
       "      <td>True</td>\n",
       "      <td>-0.005183</td>\n",
       "      <td>0.012579</td>\n",
       "      <td>25.157765</td>\n",
       "      <td>10</td>\n",
       "      <td>19990</td>\n",
       "    </tr>\n",
       "  </tbody>\n",
       "</table>\n",
       "</div>"
      ],
      "text/plain": [
       "   is_valid_input  predicted_value  predicted_value_variance  sample_variance  \\\n",
       "0            True        -0.005183                  0.012579        25.157765   \n",
       "\n",
       "   sample_size  predicted_value_degrees_of_freedom  \n",
       "0           10                               19990  "
      ]
     },
     "execution_count": 25,
     "metadata": {},
     "output_type": "execute_result"
    }
   ],
   "source": [
    "parameters_for_prediction = pd.DataFrame({'x': [0]})\n",
    "prediction = optimizer.predict(parameters_for_prediction)\n",
    "prediction.get_dataframe()"
   ]
  }
 ],
 "metadata": {
  "kernelspec": {
   "display_name": "Python 3",
   "language": "python",
   "name": "python3"
  },
  "language_info": {
   "codemirror_mode": {
    "name": "ipython",
    "version": 3
   },
   "file_extension": ".py",
   "mimetype": "text/x-python",
   "name": "python",
   "nbconvert_exporter": "python",
   "pygments_lexer": "ipython3",
   "version": "3.7.4"
  }
 },
 "nbformat": 4,
 "nbformat_minor": 2
}
