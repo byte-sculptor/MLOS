{
 "cells": [
  {
   "cell_type": "markdown",
   "metadata": {},
   "source": [
    "# Goal\n",
    "\n",
    "The goal of this demo is to demonstrate how the RandomNearIncumbentOptimizer works.\n",
    "\n",
    "# Method\n",
    "\n",
    "1. We create a 2-parameter single-objective synthetic function for the BayesianOptimizer to maximize.\n",
    "2. We either use the pass-through model or train the initial model on a bunch of random parameters.\n",
    "3. We plot:\n",
    "    1. The original function\n",
    "    2. The models predictions\n",
    "    3. The utility function values\n",
    "    \n",
    "4. We create the RandomNearIncumbentTracer and subscribe to all RandomNearIncumbentOptimizer events.\n",
    "5. For each call to .suggest():\n",
    "    1. We capture the initial incumbents and their utility values.\n",
    "    2. For each call to _run_iteration():\n",
    "        1. We capture the random neighbors and their utility values.\n",
    "        2. We capture the new incumbents (and maybe even draw an arrow??)\n",
    "\n",
    "6. We visualize all the data captured in 5. \n",
    "\n",
    "So for each scene we will need:\n",
    "    1. Optionally the true objective function surface plot.\n",
    "    2. Utility function surface plot.\n",
    "    3. All past incumbents 3D scatter plot.\n",
    "    5. All current incumbents 3D scatter plot.\n",
    "    4. All current neighbors 3D scatter plot."
   ]
  }
 ],
 "metadata": {
  "kernelspec": {
   "display_name": "Python 3",
   "language": "python",
   "name": "python3"
  },
  "language_info": {
   "codemirror_mode": {
    "name": "ipython",
    "version": 3
   },
   "file_extension": ".py",
   "mimetype": "text/x-python",
   "name": "python",
   "nbconvert_exporter": "python",
   "pygments_lexer": "ipython3",
   "version": "3.8.3"
  }
 },
 "nbformat": 4,
 "nbformat_minor": 4
}
