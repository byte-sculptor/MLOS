{
 "cells": [
  {
   "cell_type": "markdown",
   "metadata": {},
   "source": [
    "# Optimizing Smart Cache with Bayesian Optimization\n",
    "\n",
    "The goal of this notebook is to optimize SmartCache using Bayesian Optimization approach.\n",
    "\n",
    "We're using a sequential model-based optimization approach, that consists of the following loop:\n",
    "1. Get suggested config from optimizer,\n",
    "2. Apply suggested config to ``SmartCache``,\n",
    "3. Execute a fixed workload,\n",
    "4. Collect the metrics from ``SmartCache``,\n",
    "5. Register an observation with the optimizer.\n"
   ]
  },
  {
   "cell_type": "code",
   "execution_count": 1,
   "metadata": {},
   "outputs": [],
   "source": [
    "# import the required classes and tools\n",
    "import grpc\n",
    "import pandas as pd\n",
    "import logging\n",
    "\n",
    "from mlos.Logger import create_logger\n",
    "\n",
    "from mlos.Examples.SmartCache import HitRateMonitor, SmartCache, SmartCacheWorkloadGenerator, SmartCacheWorkloadLauncher\n",
    "from mlos.Mlos.SDK import MlosExperiment\n",
    "from mlos.Optimizers.BayesianOptimizerFactory import BayesianOptimizerFactory\n",
    "from mlos.Optimizers.OptimizationProblem import OptimizationProblem, Objective\n",
    "from mlos.Spaces import Point, SimpleHypergrid, ContinuousDimension\n",
    "\n",
    "# The optimizer will be in a remote process via grpc, we pick the port here:\n",
    "grpc_port = 50051"
   ]
  },
  {
   "cell_type": "markdown",
   "metadata": {},
   "source": [
    "Launch the optimizer service in a different process:"
   ]
  },
  {
   "cell_type": "code",
   "execution_count": 2,
   "metadata": {},
   "outputs": [],
   "source": [
    "import subprocess\n",
    "optimizer_microservice = subprocess.Popen(f\"start_optimizer_microservice launch --port {grpc_port}\", shell=True)"
   ]
  },
  {
   "cell_type": "markdown",
   "metadata": {},
   "source": [
    "Now the optimizer service that runs the surrogate model and suggests new points is started in the background.\n",
    "Next, we instantiate an object that connects to it over grpc using the ``BayesianOptimizerFactory``."
   ]
  },
  {
   "cell_type": "code",
   "execution_count": 3,
   "metadata": {},
   "outputs": [],
   "source": [
    "logger = create_logger('Optimizing Smart Cache', logging_level=logging.WARN)\n",
    "optimizer_service_grpc_channel = grpc.insecure_channel(f'localhost:{grpc_port}')\n",
    "bayesian_optimizer_factory = BayesianOptimizerFactory(grpc_channel=optimizer_service_grpc_channel, logger=logger)"
   ]
  },
  {
   "cell_type": "markdown",
   "metadata": {},
   "source": [
    "# The optimization problem"
   ]
  },
  {
   "cell_type": "markdown",
   "metadata": {},
   "source": [
    "Then we can instantiate our optimization problem. We want to optimize the configuration of the ``SmartCache`` component that contains two implementations: an LRU (least recently used) cache and an MRU cache (most recently used).\n",
    "The ``SmartCache`` component has two parameters that we can adjust, the type of cache and the cache size. We are using some synthetic workloads for the cache and try to find what the optimum configuration for each workload is.\n",
    "\n",
    "Here, we measure 'optimum' by the number of cache hits. Another option would be to measure runtime; however, this is a toy example with a trivial workload and there is likely substantial runtime difference.\n",
    "The parameter search space is declared in ``SmartCache.parameter_search_space``:"
   ]
  },
  {
   "cell_type": "code",
   "execution_count": 4,
   "metadata": {},
   "outputs": [
    {
     "data": {
      "text/plain": [
       "  Name: smart_cache_config\n",
       "  Dimensions:\n",
       "    implementation: {LRU, MRU}\n",
       "\n",
       "  IF implementation IN {LRU} THEN (\n",
       "    Name: lru_cache_config\n",
       "    Dimensions:\n",
       "      cache_size: {1, 2, ... , 4096}\n",
       "  )\n",
       "\n",
       "  IF implementation IN {MRU} THEN (\n",
       "    Name: mru_cache_config\n",
       "    Dimensions:\n",
       "      cache_size: {1, 2, ... , 4096}\n",
       "  )"
      ]
     },
     "execution_count": 4,
     "metadata": {},
     "output_type": "execute_result"
    }
   ],
   "source": [
    "SmartCache.parameter_search_space"
   ]
  },
  {
   "cell_type": "markdown",
   "metadata": {},
   "source": [
    "The optimization problem is constructed using this parameter space as the input to optimize, and defines a single continuous objective, 'hit_rate' between 0 and 1."
   ]
  },
  {
   "cell_type": "code",
   "execution_count": 5,
   "metadata": {},
   "outputs": [],
   "source": [
    "# Optimization Problem\n",
    "#\n",
    "optimization_problem = OptimizationProblem(\n",
    "    parameter_space=SmartCache.parameter_search_space,\n",
    "    objective_space=SimpleHypergrid(name=\"objectives\", dimensions=[ContinuousDimension(name=\"hit_rate\", min=0, max=1)]),\n",
    "    objectives=[Objective(name=\"hit_rate\", minimize=False)]\n",
    ")\n",
    "# create an optimizer proxy that connects to the remote optimizer via grpc:\n",
    "optimizer = bayesian_optimizer_factory.create_remote_optimizer(optimization_problem=optimization_problem)"
   ]
  },
  {
   "cell_type": "markdown",
   "metadata": {},
   "source": [
    "# Defining workloads\n",
    "Now we can instantiate our workloads and stand up the MLOS infrastructure, both of which are orchestrated by``SmartCacheWorkloadLauncher``. The MLOS infrastructure consists of the MlosAgent and a communication channel, which are available to both the ``SmartCacheWorkloadGenerator`` and the ``SmartCache``.\n",
    "The ``SmartCacheWorkloadLauncher`` launches workloads in ``SmartCacheWorkloadGenerator`` in a separate thread, which will actually generate and run the workloads for the smart cache.\n",
    "The SmartCacheWorkloadLauncher also connects the ``SmartCacheWorkLloadGenerator`` to the optimization problem via a ``MlosAgent`` that will consume the configurations."
   ]
  },
  {
   "cell_type": "code",
   "execution_count": 6,
   "metadata": {},
   "outputs": [],
   "source": [
    "workload_launcher = SmartCacheWorkloadLauncher(logger=logger)\n",
    "mlos_agent = workload_launcher.mlos_agent"
   ]
  },
  {
   "cell_type": "markdown",
   "metadata": {},
   "source": [
    "We set up the agent to consume configurations for the ``SmartCacheWorkloadGenerator``, and we configure the workload to be sequential keys from a range from 0 to 2048."
   ]
  },
  {
   "cell_type": "code",
   "execution_count": 7,
   "metadata": {},
   "outputs": [],
   "source": [
    "mlos_agent.set_configuration(\n",
    "    component_type=SmartCacheWorkloadGenerator,\n",
    "    new_config_values=Point(\n",
    "        workload_type='cyclical_key_from_range',\n",
    "        cyclical_key_from_range_config=Point(\n",
    "            min=0,\n",
    "            range_width=2048\n",
    "        )\n",
    "    )\n",
    ")"
   ]
  },
  {
   "cell_type": "markdown",
   "metadata": {},
   "source": [
    "# Launching the experiment (measurement)\n",
    "Now we build the experiment, which collects hit-rate statistics from the ``SmartCacheWorkloadGenerator`` via the ``HitRateMonitor``. This architecture reflects the native architecture for the C++ interface in which communication is done via shared memory between MLOS and the worker."
   ]
  },
  {
   "cell_type": "code",
   "execution_count": 8,
   "metadata": {},
   "outputs": [],
   "source": [
    "hit_rate_monitor = HitRateMonitor()\n",
    "smart_cache_experiment = MlosExperiment(\n",
    "    smart_component_types=[SmartCache],\n",
    "    telemetry_aggregators=[hit_rate_monitor]\n",
    ")\n",
    "mlos_agent.start_experiment(smart_cache_experiment)"
   ]
  },
  {
   "cell_type": "markdown",
   "metadata": {},
   "source": [
    "# Performing the optimization\n",
    "Now that we have all the pieces in place, we can iterate our main optimization loop.\n",
    "Our workload will run in the same process as this notebook, but in a separate thread, which we block on.\n",
    "In a real example, the workload might run completely independent of our optimization procedure.\n",
    "\n",
    "We run the optimization for 20 iterations, in each of which we obtain a new configuration from the optimizer (that interfaces the remote optimizer service).\n",
    "The configuration is passed to ``SmartCacheWorkloadGenerator`` via the ``MlosAgent``, after which we start a blocking workload for 0.2 seconds.\n",
    "Then, the hit-rate (our objective) is read from the ``HitRateMonitor`` and the suggested configuration together with the resulting hit-rate are passed to the optimizer."
   ]
  },
  {
   "cell_type": "code",
   "execution_count": 9,
   "metadata": {
    "scrolled": true
   },
   "outputs": [
    {
     "name": "stdout",
     "output_type": "stream",
     "text": [
      "[1/100] current_config: {\"implementation\": \"LRU\", \"lru_cache_config.cache_size\": 2646}, hit_rate: 0.953\n",
      "[2/100] current_config: {\"implementation\": \"LRU\", \"lru_cache_config.cache_size\": 1980}, hit_rate: 0.000\n",
      "[3/100] current_config: {\"implementation\": \"MRU\", \"mru_cache_config.cache_size\": 2662}, hit_rate: 0.936\n",
      "[4/100] current_config: {\"implementation\": \"LRU\", \"lru_cache_config.cache_size\": 312}, hit_rate: 0.000\n",
      "[5/100] current_config: {\"implementation\": \"LRU\", \"lru_cache_config.cache_size\": 847}, hit_rate: 0.000\n",
      "[6/100] current_config: {\"implementation\": \"LRU\", \"lru_cache_config.cache_size\": 1361}, hit_rate: 0.000\n",
      "[7/100] current_config: {\"implementation\": \"MRU\", \"mru_cache_config.cache_size\": 507}, hit_rate: 0.230\n",
      "[8/100] current_config: {\"implementation\": \"MRU\", \"mru_cache_config.cache_size\": 1962}, hit_rate: 0.903\n",
      "[9/100] current_config: {\"implementation\": \"MRU\", \"mru_cache_config.cache_size\": 2689}, hit_rate: 0.939\n",
      "[10/100] current_config: {\"implementation\": \"MRU\", \"mru_cache_config.cache_size\": 1307}, hit_rate: 0.585\n",
      "[11/100] current_config: {\"implementation\": \"LRU\", \"lru_cache_config.cache_size\": 3481}, hit_rate: 0.952\n",
      "[12/100] current_config: {\"implementation\": \"MRU\", \"mru_cache_config.cache_size\": 3246}, hit_rate: 0.944\n",
      "[13/100] current_config: {\"implementation\": \"MRU\", \"mru_cache_config.cache_size\": 2729}, hit_rate: 0.952\n",
      "[14/100] current_config: {\"implementation\": \"MRU\", \"mru_cache_config.cache_size\": 3755}, hit_rate: 0.946\n",
      "[15/100] current_config: {\"implementation\": \"LRU\", \"lru_cache_config.cache_size\": 1255}, hit_rate: 0.000\n",
      "[16/100] current_config: {\"implementation\": \"LRU\", \"lru_cache_config.cache_size\": 748}, hit_rate: 0.000\n",
      "[17/100] current_config: {\"implementation\": \"LRU\", \"lru_cache_config.cache_size\": 790}, hit_rate: 0.000\n",
      "[18/100] current_config: {\"implementation\": \"MRU\", \"mru_cache_config.cache_size\": 3184}, hit_rate: 0.932\n",
      "[19/100] current_config: {\"implementation\": \"MRU\", \"mru_cache_config.cache_size\": 606}, hit_rate: 0.258\n",
      "[20/100] current_config: {\"implementation\": \"LRU\", \"lru_cache_config.cache_size\": 1683}, hit_rate: 0.000\n",
      "[21/100] current_config: {\"implementation\": \"LRU\", \"lru_cache_config.cache_size\": 1364}, hit_rate: 0.000\n",
      "[22/100] current_config: {\"implementation\": \"LRU\", \"lru_cache_config.cache_size\": 1311}, hit_rate: 0.000\n",
      "[23/100] current_config: {\"implementation\": \"LRU\", \"lru_cache_config.cache_size\": 1092}, hit_rate: 0.000\n",
      "[24/100] current_config: {\"implementation\": \"MRU\", \"mru_cache_config.cache_size\": 200}, hit_rate: 0.088\n",
      "[25/100] current_config: {\"implementation\": \"MRU\", \"mru_cache_config.cache_size\": 1238}, hit_rate: 0.569\n",
      "[26/100] current_config: {\"implementation\": \"LRU\", \"lru_cache_config.cache_size\": 2473}, hit_rate: 0.942\n",
      "[27/100] current_config: {\"implementation\": \"MRU\", \"mru_cache_config.cache_size\": 1243}, hit_rate: 0.555\n",
      "[28/100] current_config: {\"implementation\": \"MRU\", \"mru_cache_config.cache_size\": 1068}, hit_rate: 0.492\n",
      "[29/100] current_config: {\"implementation\": \"MRU\", \"mru_cache_config.cache_size\": 1071}, hit_rate: 0.477\n",
      "[30/100] current_config: {\"implementation\": \"MRU\", \"mru_cache_config.cache_size\": 73}, hit_rate: 0.034\n",
      "[31/100] current_config: {\"implementation\": \"LRU\", \"lru_cache_config.cache_size\": 2291}, hit_rate: 0.951\n",
      "[32/100] current_config: {\"implementation\": \"MRU\", \"mru_cache_config.cache_size\": 1073}, hit_rate: 0.486\n",
      "[33/100] current_config: {\"implementation\": \"MRU\", \"mru_cache_config.cache_size\": 1121}, hit_rate: 0.499\n",
      "[34/100] current_config: {\"implementation\": \"LRU\", \"lru_cache_config.cache_size\": 1412}, hit_rate: 0.000\n",
      "[35/100] current_config: {\"implementation\": \"MRU\", \"mru_cache_config.cache_size\": 1085}, hit_rate: 0.491\n",
      "[36/100] current_config: {\"implementation\": \"MRU\", \"mru_cache_config.cache_size\": 2556}, hit_rate: 0.950\n",
      "[37/100] current_config: {\"implementation\": \"LRU\", \"lru_cache_config.cache_size\": 2077}, hit_rate: 0.938\n",
      "[38/100] current_config: {\"implementation\": \"MRU\", \"mru_cache_config.cache_size\": 1097}, hit_rate: 0.498\n",
      "[39/100] current_config: {\"implementation\": \"LRU\", \"lru_cache_config.cache_size\": 3239}, hit_rate: 0.953\n",
      "[40/100] current_config: {\"implementation\": \"MRU\", \"mru_cache_config.cache_size\": 1981}, hit_rate: 0.904\n",
      "[41/100] current_config: {\"implementation\": \"MRU\", \"mru_cache_config.cache_size\": 1950}, hit_rate: 0.898\n",
      "[42/100] current_config: {\"implementation\": \"MRU\", \"mru_cache_config.cache_size\": 1482}, hit_rate: 0.658\n",
      "[43/100] current_config: {\"implementation\": \"MRU\", \"mru_cache_config.cache_size\": 2004}, hit_rate: 0.922\n",
      "[44/100] current_config: {\"implementation\": \"LRU\", \"lru_cache_config.cache_size\": 3539}, hit_rate: 0.945\n",
      "[45/100] current_config: {\"implementation\": \"LRU\", \"lru_cache_config.cache_size\": 492}, hit_rate: 0.000\n",
      "[46/100] current_config: {\"implementation\": \"LRU\", \"lru_cache_config.cache_size\": 1271}, hit_rate: 0.000\n",
      "[47/100] current_config: {\"implementation\": \"LRU\", \"lru_cache_config.cache_size\": 2204}, hit_rate: 0.942\n",
      "[48/100] current_config: {\"implementation\": \"MRU\", \"mru_cache_config.cache_size\": 305}, hit_rate: 0.143\n",
      "[49/100] current_config: {\"implementation\": \"LRU\", \"lru_cache_config.cache_size\": 3722}, hit_rate: 0.951\n",
      "[50/100] current_config: {\"implementation\": \"LRU\", \"lru_cache_config.cache_size\": 3173}, hit_rate: 0.945\n",
      "[51/100] current_config: {\"implementation\": \"LRU\", \"lru_cache_config.cache_size\": 1416}, hit_rate: 0.000\n",
      "[52/100] current_config: {\"implementation\": \"MRU\", \"mru_cache_config.cache_size\": 1072}, hit_rate: 0.475\n",
      "[53/100] current_config: {\"implementation\": \"LRU\", \"lru_cache_config.cache_size\": 3925}, hit_rate: 0.947\n",
      "[54/100] current_config: {\"implementation\": \"LRU\", \"lru_cache_config.cache_size\": 2140}, hit_rate: 0.926\n",
      "[55/100] current_config: {\"implementation\": \"LRU\", \"lru_cache_config.cache_size\": 3829}, hit_rate: 0.952\n",
      "[56/100] current_config: {\"implementation\": \"LRU\", \"lru_cache_config.cache_size\": 2179}, hit_rate: 0.945\n",
      "[57/100] current_config: {\"implementation\": \"MRU\", \"mru_cache_config.cache_size\": 3109}, hit_rate: 0.953\n",
      "[58/100] current_config: {\"implementation\": \"MRU\", \"mru_cache_config.cache_size\": 102}, hit_rate: 0.045\n",
      "[59/100] current_config: {\"implementation\": \"MRU\", \"mru_cache_config.cache_size\": 2422}, hit_rate: 0.938\n",
      "[60/100] current_config: {\"implementation\": \"MRU\", \"mru_cache_config.cache_size\": 1983}, hit_rate: 0.914\n",
      "[61/100] current_config: {\"implementation\": \"LRU\", \"lru_cache_config.cache_size\": 2181}, hit_rate: 0.951\n",
      "[62/100] current_config: {\"implementation\": \"MRU\", \"mru_cache_config.cache_size\": 3622}, hit_rate: 0.944\n",
      "[63/100] current_config: {\"implementation\": \"LRU\", \"lru_cache_config.cache_size\": 2197}, hit_rate: 0.949\n",
      "[64/100] current_config: {\"implementation\": \"LRU\", \"lru_cache_config.cache_size\": 2077}, hit_rate: 0.935\n",
      "[65/100] current_config: {\"implementation\": \"LRU\", \"lru_cache_config.cache_size\": 2077}, hit_rate: 0.951\n",
      "[66/100] current_config: {\"implementation\": \"MRU\", \"mru_cache_config.cache_size\": 1472}, hit_rate: 0.646\n",
      "[67/100] current_config: {\"implementation\": \"LRU\", \"lru_cache_config.cache_size\": 2071}, hit_rate: 0.944\n",
      "[68/100] current_config: {\"implementation\": \"LRU\", \"lru_cache_config.cache_size\": 536}, hit_rate: 0.000\n",
      "[69/100] current_config: {\"implementation\": \"MRU\", \"mru_cache_config.cache_size\": 2322}, hit_rate: 0.950\n",
      "[70/100] current_config: {\"implementation\": \"LRU\", \"lru_cache_config.cache_size\": 2064}, hit_rate: 0.933\n",
      "[71/100] current_config: {\"implementation\": \"LRU\", \"lru_cache_config.cache_size\": 2063}, hit_rate: 0.944\n",
      "[72/100] current_config: {\"implementation\": \"LRU\", \"lru_cache_config.cache_size\": 769}, hit_rate: 0.000\n",
      "[73/100] current_config: {\"implementation\": \"LRU\", \"lru_cache_config.cache_size\": 2067}, hit_rate: 0.944\n",
      "[74/100] current_config: {\"implementation\": \"LRU\", \"lru_cache_config.cache_size\": 2065}, hit_rate: 0.943\n",
      "[75/100] current_config: {\"implementation\": \"LRU\", \"lru_cache_config.cache_size\": 2002}, hit_rate: 0.000\n",
      "[76/100] current_config: {\"implementation\": \"LRU\", \"lru_cache_config.cache_size\": 1903}, hit_rate: 0.000\n",
      "[77/100] current_config: {\"implementation\": \"LRU\", \"lru_cache_config.cache_size\": 3502}, hit_rate: 0.931\n",
      "[78/100] current_config: {\"implementation\": \"LRU\", \"lru_cache_config.cache_size\": 2032}, hit_rate: 0.000\n",
      "[79/100] current_config: {\"implementation\": \"LRU\", \"lru_cache_config.cache_size\": 2031}, hit_rate: 0.000\n"
     ]
    },
    {
     "name": "stdout",
     "output_type": "stream",
     "text": [
      "[80/100] current_config: {\"implementation\": \"MRU\", \"mru_cache_config.cache_size\": 3755}, hit_rate: 0.951\n",
      "[81/100] current_config: {\"implementation\": \"LRU\", \"lru_cache_config.cache_size\": 2212}, hit_rate: 0.943\n",
      "[82/100] current_config: {\"implementation\": \"MRU\", \"mru_cache_config.cache_size\": 3357}, hit_rate: 0.950\n",
      "[83/100] current_config: {\"implementation\": \"MRU\", \"mru_cache_config.cache_size\": 1947}, hit_rate: 0.898\n",
      "[84/100] current_config: {\"implementation\": \"LRU\", \"lru_cache_config.cache_size\": 1752}, hit_rate: 0.000\n",
      "[85/100] current_config: {\"implementation\": \"MRU\", \"mru_cache_config.cache_size\": 1985}, hit_rate: 0.904\n",
      "[86/100] current_config: {\"implementation\": \"LRU\", \"lru_cache_config.cache_size\": 2029}, hit_rate: 0.000\n",
      "[87/100] current_config: {\"implementation\": \"LRU\", \"lru_cache_config.cache_size\": 2028}, hit_rate: 0.000\n",
      "[88/100] current_config: {\"implementation\": \"MRU\", \"mru_cache_config.cache_size\": 3520}, hit_rate: 0.949\n",
      "[89/100] current_config: {\"implementation\": \"LRU\", \"lru_cache_config.cache_size\": 2029}, hit_rate: 0.000\n",
      "[90/100] current_config: {\"implementation\": \"LRU\", \"lru_cache_config.cache_size\": 2030}, hit_rate: 0.000\n",
      "[91/100] current_config: {\"implementation\": \"LRU\", \"lru_cache_config.cache_size\": 1848}, hit_rate: 0.000\n",
      "[92/100] current_config: {\"implementation\": \"LRU\", \"lru_cache_config.cache_size\": 3272}, hit_rate: 0.947\n",
      "[93/100] current_config: {\"implementation\": \"MRU\", \"mru_cache_config.cache_size\": 1625}, hit_rate: 0.736\n",
      "[94/100] current_config: {\"implementation\": \"MRU\", \"mru_cache_config.cache_size\": 1615}, hit_rate: 0.730\n",
      "[95/100] current_config: {\"implementation\": \"LRU\", \"lru_cache_config.cache_size\": 2049}, hit_rate: 0.950\n",
      "[96/100] current_config: {\"implementation\": \"LRU\", \"lru_cache_config.cache_size\": 2429}, hit_rate: 0.943\n",
      "[97/100] current_config: {\"implementation\": \"MRU\", \"mru_cache_config.cache_size\": 2891}, hit_rate: 0.951\n",
      "[98/100] current_config: {\"implementation\": \"LRU\", \"lru_cache_config.cache_size\": 3690}, hit_rate: 0.941\n",
      "[99/100] current_config: {\"implementation\": \"MRU\", \"mru_cache_config.cache_size\": 1794}, hit_rate: 0.820\n",
      "[100/100] current_config: {\"implementation\": \"LRU\", \"lru_cache_config.cache_size\": 2049}, hit_rate: 0.934\n"
     ]
    }
   ],
   "source": [
    "num_iterations = 100\n",
    "data = []\n",
    "for i in range(num_iterations):\n",
    "    # suggest runs a 'cheap' search on the surrogate model to find a good candidate configuration\n",
    "    new_config_values = optimizer.suggest()\n",
    "    # set_configuration communicates the proposed configuration to the SmartCache\n",
    "    mlos_agent.set_configuration(component_type=SmartCache, new_config_values=new_config_values)\n",
    "    hit_rate_monitor.reset()\n",
    "    # start_workload will actually run the worker, here for 0.2 seconds\n",
    "    workload_launcher.start_workload(duration_s=0.2, block=True)\n",
    "    # obtain hit-rate as quality measure for configuration\n",
    "    hit_rate = hit_rate_monitor.get_hit_rate()\n",
    "    objectives_df = pd.DataFrame({'hit_rate': [hit_rate]})\n",
    "    # pass configuration and observed hit-rate to the optimizer to update the surrogate model\n",
    "    features_df = new_config_values.to_dataframe()\n",
    "    optimizer.register(features_df, objectives_df)\n",
    "    data.append((features_df, objectives_df))\n",
    "    print(f\"[{i+1}/{num_iterations}] current_config: {new_config_values.to_json()}, hit_rate: {hit_rate:.3f}\")"
   ]
  },
  {
   "cell_type": "markdown",
   "metadata": {},
   "source": [
    "# Analyzing results\n",
    "\n",
    "For a cyclical workload with 2048 keys, we assume that a MRU cache with a size of at least 2048 will perform best, and get 100% hits once the cache is filled.\n",
    "Now lets see the suggestions and results from the current experiment."
   ]
  },
  {
   "cell_type": "code",
   "execution_count": 10,
   "metadata": {},
   "outputs": [
    {
     "data": {
      "text/html": [
       "<div>\n",
       "<style scoped>\n",
       "    .dataframe tbody tr th:only-of-type {\n",
       "        vertical-align: middle;\n",
       "    }\n",
       "\n",
       "    .dataframe tbody tr th {\n",
       "        vertical-align: top;\n",
       "    }\n",
       "\n",
       "    .dataframe thead th {\n",
       "        text-align: right;\n",
       "    }\n",
       "</style>\n",
       "<table border=\"1\" class=\"dataframe\">\n",
       "  <thead>\n",
       "    <tr style=\"text-align: right;\">\n",
       "      <th></th>\n",
       "      <th>implementation</th>\n",
       "      <th>lru_cache_config.cache_size</th>\n",
       "      <th>mru_cache_config.cache_size</th>\n",
       "      <th>hit_rate</th>\n",
       "    </tr>\n",
       "  </thead>\n",
       "  <tbody>\n",
       "    <tr>\n",
       "      <th>0</th>\n",
       "      <td>LRU</td>\n",
       "      <td>2646.0</td>\n",
       "      <td>NaN</td>\n",
       "      <td>9.534323e-01</td>\n",
       "    </tr>\n",
       "    <tr>\n",
       "      <th>1</th>\n",
       "      <td>LRU</td>\n",
       "      <td>1980.0</td>\n",
       "      <td>NaN</td>\n",
       "      <td>4.019297e-04</td>\n",
       "    </tr>\n",
       "    <tr>\n",
       "      <th>2</th>\n",
       "      <td>MRU</td>\n",
       "      <td>NaN</td>\n",
       "      <td>2662.0</td>\n",
       "      <td>9.357813e-01</td>\n",
       "    </tr>\n",
       "    <tr>\n",
       "      <th>3</th>\n",
       "      <td>LRU</td>\n",
       "      <td>312.0</td>\n",
       "      <td>NaN</td>\n",
       "      <td>3.321156e-10</td>\n",
       "    </tr>\n",
       "    <tr>\n",
       "      <th>4</th>\n",
       "      <td>LRU</td>\n",
       "      <td>847.0</td>\n",
       "      <td>NaN</td>\n",
       "      <td>5.120328e-10</td>\n",
       "    </tr>\n",
       "    <tr>\n",
       "      <th>...</th>\n",
       "      <td>...</td>\n",
       "      <td>...</td>\n",
       "      <td>...</td>\n",
       "      <td>...</td>\n",
       "    </tr>\n",
       "    <tr>\n",
       "      <th>95</th>\n",
       "      <td>LRU</td>\n",
       "      <td>2429.0</td>\n",
       "      <td>NaN</td>\n",
       "      <td>9.430359e-01</td>\n",
       "    </tr>\n",
       "    <tr>\n",
       "      <th>96</th>\n",
       "      <td>MRU</td>\n",
       "      <td>NaN</td>\n",
       "      <td>2891.0</td>\n",
       "      <td>9.513100e-01</td>\n",
       "    </tr>\n",
       "    <tr>\n",
       "      <th>97</th>\n",
       "      <td>LRU</td>\n",
       "      <td>3690.0</td>\n",
       "      <td>NaN</td>\n",
       "      <td>9.409253e-01</td>\n",
       "    </tr>\n",
       "    <tr>\n",
       "      <th>98</th>\n",
       "      <td>MRU</td>\n",
       "      <td>NaN</td>\n",
       "      <td>1794.0</td>\n",
       "      <td>8.196099e-01</td>\n",
       "    </tr>\n",
       "    <tr>\n",
       "      <th>99</th>\n",
       "      <td>LRU</td>\n",
       "      <td>2049.0</td>\n",
       "      <td>NaN</td>\n",
       "      <td>9.342937e-01</td>\n",
       "    </tr>\n",
       "  </tbody>\n",
       "</table>\n",
       "<p>100 rows × 4 columns</p>\n",
       "</div>"
      ],
      "text/plain": [
       "   implementation  lru_cache_config.cache_size  mru_cache_config.cache_size  \\\n",
       "0             LRU                       2646.0                          NaN   \n",
       "1             LRU                       1980.0                          NaN   \n",
       "2             MRU                          NaN                       2662.0   \n",
       "3             LRU                        312.0                          NaN   \n",
       "4             LRU                        847.0                          NaN   \n",
       "..            ...                          ...                          ...   \n",
       "95            LRU                       2429.0                          NaN   \n",
       "96            MRU                          NaN                       2891.0   \n",
       "97            LRU                       3690.0                          NaN   \n",
       "98            MRU                          NaN                       1794.0   \n",
       "99            LRU                       2049.0                          NaN   \n",
       "\n",
       "        hit_rate  \n",
       "0   9.534323e-01  \n",
       "1   4.019297e-04  \n",
       "2   9.357813e-01  \n",
       "3   3.321156e-10  \n",
       "4   5.120328e-10  \n",
       "..           ...  \n",
       "95  9.430359e-01  \n",
       "96  9.513100e-01  \n",
       "97  9.409253e-01  \n",
       "98  8.196099e-01  \n",
       "99  9.342937e-01  \n",
       "\n",
       "[100 rows x 4 columns]"
      ]
     },
     "execution_count": 10,
     "metadata": {},
     "output_type": "execute_result"
    }
   ],
   "source": [
    "# some pandas wrangling\n",
    "\n",
    "features, targets = zip(*data)\n",
    "data = pd.concat(features, ignore_index=True)\n",
    "data['hit_rate'] = pd.concat(targets, ignore_index=True)\n",
    "data"
   ]
  },
  {
   "cell_type": "code",
   "execution_count": 13,
   "metadata": {},
   "outputs": [
    {
     "data": {
      "text/plain": [
       "<matplotlib.legend.Legend at 0x13f570169e8>"
      ]
     },
     "execution_count": 13,
     "metadata": {},
     "output_type": "execute_result"
    },
    {
     "data": {
      "image/png": "[encoded data removed]",
      "text/plain": [
       "<Figure size 432x288 with 1 Axes>"
      ]
     },
     "metadata": {},
     "output_type": "display_data"
    }
   ],
   "source": [
    "# group by implementation, then plot\n",
    "lru_data, mru_data = data.groupby('implementation')\n",
    "\n",
    "import matplotlib.pyplot as plt\n",
    "line_lru = lru_data[1].plot(x='lru_cache_config.cache_size', y='hit_rate', label='LRU', marker='o', linestyle='none', alpha=.6)\n",
    "mru_data[1].plot(x='mru_cache_config.cache_size', y='hit_rate', label='MRU', marker='o', linestyle='none', alpha=.6, ax=plt.gca())\n",
    "plt.ylabel(\"Cache hitrate\")\n",
    "plt.xlabel(\"Cache Size\")\n",
    "plt.legend()"
   ]
  },
  {
   "cell_type": "markdown",
   "metadata": {},
   "source": [
    "We can see that if the cache size is over 2048 keys, it means everything can fit into the cache and the strategy does not matter.\n",
    "However, for smaller cache sizes, the MRU strategy has an obvious advantage over the LRU strategy."
   ]
  },
  {
   "cell_type": "markdown",
   "metadata": {},
   "source": [
    "# Going Further\n",
    "\n",
    "1) Log how the optimum evolves over time. How many iterations are needed?\n",
    "\n",
    "2) Can you adjust options in the Optimizer to improve convergence (see the BayesianOptimization notebook for suggestions).\n",
    "\n",
    "3) Choose a different workload in the ``SmartCacheWorkloadGenerator``. How do the workloads change the optimum strategy?"
   ]
  },
  {
   "cell_type": "markdown",
   "metadata": {},
   "source": [
    "# Clean up\n",
    "We need to stop all processes & separate threads after running the experiments:"
   ]
  },
  {
   "cell_type": "code",
   "execution_count": 12,
   "metadata": {},
   "outputs": [],
   "source": [
    "# Clean up\n",
    "#\n",
    "mlos_agent.stop_experiment(smart_cache_experiment)\n",
    "mlos_agent.stop_all()\n",
    "\n",
    "# Stop the optimizer service\n",
    "import signal\n",
    "optimizer_microservice.send_signal(signal.SIGTERM)"
   ]
  }
 ],
 "metadata": {
  "kernelspec": {
   "display_name": "Python 3",
   "language": "python",
   "name": "python3"
  },
  "language_info": {
   "codemirror_mode": {
    "name": "ipython",
    "version": 3
   },
   "file_extension": ".py",
   "mimetype": "text/x-python",
   "name": "python",
   "nbconvert_exporter": "python",
   "pygments_lexer": "ipython3",
   "version": "3.6.6"
  }
 },
 "nbformat": 4,
 "nbformat_minor": 4
}
