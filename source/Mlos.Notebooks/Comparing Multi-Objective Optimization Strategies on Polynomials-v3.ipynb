{
 "cells": [
  {
   "cell_type": "markdown",
   "metadata": {},
   "source": [
    "# Goal\n",
    "The goal of this notebook is to compare the performance of multi-objective probability of improvement backed by a multi-\n",
    "objective homogeneous random forest to random search.\n",
    "\n",
    "# Methodology\n",
    "We only need to allow each strategy to execute for some fixed number of iterations. We can subsequently process the resulting observations to estimate the size of the pareto frontier over time. \n",
    "\n",
    "Specifically, let's first run both strategies on a 2D hypersphere, 10 times each and compare their average performance."
   ]
  },
  {
   "cell_type": "code",
   "execution_count": 1,
   "metadata": {},
   "outputs": [
    {
     "data": {
      "text/html": [
       "<style>.container { width:100% !important; }</style>"
      ],
      "text/plain": [
       "<IPython.core.display.HTML object>"
      ]
     },
     "metadata": {},
     "output_type": "display_data"
    }
   ],
   "source": [
    "from IPython.core.display import display, HTML\n",
    "display(HTML(\"<style>.container { width:100% !important; }</style>\"))"
   ]
  },
  {
   "cell_type": "code",
   "execution_count": 2,
   "metadata": {},
   "outputs": [
    {
     "data": {
      "text/plain": [
       "{\n",
       "  \"implementation\": \"MultiObjectiveNestedPolynomialObjective\",\n",
       "  \"multi_objective_nested_polynomial_config.num_objectives\": 4,\n",
       "  \"multi_objective_nested_polynomial_config.objective_function_implementation\": \"NestedPolynomialObjective\",\n",
       "  \"multi_objective_nested_polynomial_config.nested_polynomial_objective_config.num_nested_polynomials\": 2,\n",
       "  \"multi_objective_nested_polynomial_config.nested_polynomial_objective_config.nested_function_implementation\": \"PolynomialObjective\",\n",
       "  \"multi_objective_nested_polynomial_config.nested_polynomial_objective_config.polynomial_objective_config.seed\": 17,\n",
       "  \"multi_objective_nested_polynomial_config.nested_polynomial_objective_config.polynomial_objective_config.input_domain_dimension\": 2,\n",
       "  \"multi_objective_nested_polynomial_config.nested_polynomial_objective_config.polynomial_objective_config.input_domain_min\": -1024,\n",
       "  \"multi_objective_nested_polynomial_config.nested_polynomial_objective_config.polynomial_objective_config.input_domain_width\": 2048,\n",
       "  \"multi_objective_nested_polynomial_config.nested_polynomial_objective_config.polynomial_objective_config.max_degree\": 2,\n",
       "  \"multi_objective_nested_polynomial_config.nested_polynomial_objective_config.polynomial_objective_config.include_mixed_coefficients\": true,\n",
       "  \"multi_objective_nested_polynomial_config.nested_polynomial_objective_config.polynomial_objective_config.percent_coefficients_zeroed\": 0,\n",
       "  \"multi_objective_nested_polynomial_config.nested_polynomial_objective_config.polynomial_objective_config.coefficient_domain_min\": -10,\n",
       "  \"multi_objective_nested_polynomial_config.nested_polynomial_objective_config.polynomial_objective_config.coefficient_domain_width\": 9,\n",
       "  \"multi_objective_nested_polynomial_config.nested_polynomial_objective_config.polynomial_objective_config.include_noise\": false,\n",
       "  \"multi_objective_nested_polynomial_config.nested_polynomial_objective_config.polynomial_objective_config.noise_coefficient_of_variation\": 0\n",
       "}"
      ]
     },
     "execution_count": 2,
     "metadata": {},
     "output_type": "execute_result"
    }
   ],
   "source": [
    "from mlos.OptimizerEvaluationTools.ObjectiveFunctionConfigStore import objective_function_config_store\n",
    "from mlos.OptimizerEvaluationTools.ObjectiveFunctionFactory import ObjectiveFunctionFactory\n",
    "from mlos.OptimizerEvaluationTools.SyntheticFunctions.Hypersphere import Hypersphere\n",
    "\n",
    "from mlos.Optimizers.BayesianOptimizerFactory import BayesianOptimizerFactory, bayesian_optimizer_config_store\n",
    "from mlos.Optimizers.OptimizationProblem import OptimizationProblem, Objective\n",
    "from mlos.Optimizers.ParetoFrontier import ParetoFrontier\n",
    "\n",
    "from mlos.Spaces import Point\n",
    "\n",
    "objective_function_config = objective_function_config_store.get_config_by_name(\"multi_objective_2_mutually_exclusive_polynomials\")\n",
    "objective_function_config.multi_objective_nested_polynomial_config.num_objectives = 4\n",
    "objective_function_config"
   ]
  },
  {
   "cell_type": "code",
   "execution_count": 3,
   "metadata": {
    "scrolled": false
   },
   "outputs": [],
   "source": [
    "objective_function = ObjectiveFunctionFactory.create_objective_function(objective_function_config)"
   ]
  },
  {
   "cell_type": "code",
   "execution_count": 4,
   "metadata": {},
   "outputs": [
    {
     "data": {
      "text/plain": [
       "  Name: domain\n",
       "  Dimensions:\n",
       "    polynomial_id: {0, 1}\n",
       "\n",
       "  IF polynomial_id IN {1} THEN (\n",
       "    Name: domain_1\n",
       "    Dimensions:\n",
       "      x_0: [-1024.00, 1024.00]\n",
       "      x_1: [-1024.00, 1024.00]\n",
       "  )\n",
       "\n",
       "  IF polynomial_id IN {0} THEN (\n",
       "    Name: domain_0\n",
       "    Dimensions:\n",
       "      x_0: [-1024.00, 1024.00]\n",
       "      x_1: [-1024.00, 1024.00]\n",
       "  )"
      ]
     },
     "execution_count": 4,
     "metadata": {},
     "output_type": "execute_result"
    }
   ],
   "source": [
    "objective_function.parameter_space"
   ]
  },
  {
   "cell_type": "code",
   "execution_count": 5,
   "metadata": {},
   "outputs": [
    {
     "data": {
      "text/plain": [
       "  Name: output_space\n",
       "  Dimensions:\n",
       "    y0: [-inf, inf]\n",
       "    y1: [-inf, inf]\n",
       "    y2: [-inf, inf]\n",
       "    y3: [-inf, inf]"
      ]
     },
     "execution_count": 5,
     "metadata": {},
     "output_type": "execute_result"
    }
   ],
   "source": [
    "objective_function.output_space"
   ]
  },
  {
   "cell_type": "code",
   "execution_count": 6,
   "metadata": {},
   "outputs": [
    {
     "name": "stdout",
     "output_type": "stream",
     "text": [
      "{\n",
      "  \"surrogate_model_implementation\": \"MultiObjectiveHomogeneousRandomForest\",\n",
      "  \"experiment_designer_implementation\": \"ExperimentDesigner\",\n",
      "  \"min_samples_required_for_guided_design_of_experiments\": 10,\n",
      "  \"homogeneous_random_forest_regression_model_config.n_estimators\": 10,\n",
      "  \"homogeneous_random_forest_regression_model_config.features_fraction_per_estimator\": 0.7,\n",
      "  \"homogeneous_random_forest_regression_model_config.samples_fraction_per_estimator\": 0.7,\n",
      "  \"homogeneous_random_forest_regression_model_config.regressor_implementation\": \"DecisionTreeRegressionModel\",\n",
      "  \"homogeneous_random_forest_regression_model_config.decision_tree_regression_model_config.criterion\": \"mse\",\n",
      "  \"homogeneous_random_forest_regression_model_config.decision_tree_regression_model_config.splitter\": \"best\",\n",
      "  \"homogeneous_random_forest_regression_model_config.decision_tree_regression_model_config.max_depth\": 0,\n",
      "  \"homogeneous_random_forest_regression_model_config.decision_tree_regression_model_config.min_samples_split\": 2,\n",
      "  \"homogeneous_random_forest_regression_model_config.decision_tree_regression_model_config.min_samples_leaf\": 3,\n",
      "  \"homogeneous_random_forest_regression_model_config.decision_tree_regression_model_config.min_weight_fraction_leaf\": 0,\n",
      "  \"homogeneous_random_forest_regression_model_config.decision_tree_regression_model_config.max_features\": \"auto\",\n",
      "  \"homogeneous_random_forest_regression_model_config.decision_tree_regression_model_config.max_leaf_nodes\": 0,\n",
      "  \"homogeneous_random_forest_regression_model_config.decision_tree_regression_model_config.min_impurity_decrease\": 0,\n",
      "  \"homogeneous_random_forest_regression_model_config.decision_tree_regression_model_config.ccp_alpha\": 0,\n",
      "  \"homogeneous_random_forest_regression_model_config.decision_tree_regression_model_config.min_samples_to_fit\": 10,\n",
      "  \"homogeneous_random_forest_regression_model_config.decision_tree_regression_model_config.n_new_samples_before_refit\": 1,\n",
      "  \"homogeneous_random_forest_regression_model_config.bootstrap\": true,\n",
      "  \"experiment_designer_config.utility_function_implementation\": \"MultiObjectiveProbabilityOfImprovementUtilityFunction\",\n",
      "  \"experiment_designer_config.numeric_optimizer_implementation\": \"RandomSearchOptimizer\",\n",
      "  \"experiment_designer_config.multi_objective_probability_of_improvement_config.num_monte_carlo_samples\": 100,\n",
      "  \"experiment_designer_config.random_search_optimizer_config.num_samples_per_iteration\": 10000,\n",
      "  \"experiment_designer_config.fraction_random_suggestions\": 0.3\n",
      "}\n"
     ]
    }
   ],
   "source": [
    "optimization_problem = objective_function.default_optimization_problem\n",
    "\n",
    "optimizer_config = bayesian_optimizer_config_store.get_config_by_name(\"default_multi_objective_optimizer_config\")\n",
    "optimizer_config.experiment_designer_config.random_search_optimizer_config.num_samples_per_iteration = 10000\n",
    "optimizer_config.experiment_designer_config.fraction_random_suggestions = 0.3\n",
    "optimizer_config.homogeneous_random_forest_regression_model_config.decision_tree_regression_model_config.n_new_samples_before_refit = 1\n",
    "print(optimizer_config)"
   ]
  },
  {
   "cell_type": "code",
   "execution_count": 7,
   "metadata": {},
   "outputs": [
    {
     "name": "stdout",
     "output_type": "stream",
     "text": [
      "Completed 10 futures\n"
     ]
    }
   ],
   "source": [
    "import concurrent.futures\n",
    "from run_optimization import run_optimization\n",
    "\n",
    "num_runs = 10\n",
    "num_iterations_per_run = 200\n",
    "max_workers = 10\n",
    "optimizers = []\n",
    "\n",
    "with concurrent.futures.ProcessPoolExecutor(max_workers=max_workers) as executor:\n",
    "    outstanding_futures = set()\n",
    "    for run_id in range(num_runs):\n",
    "        future = executor.submit(run_optimization, optimization_problem, optimizer_config, objective_function, run_id, num_iterations_per_run)\n",
    "        outstanding_futures.add(future)\n",
    "        \n",
    "    done_futures, outstanding_futures = concurrent.futures.wait(outstanding_futures, return_when=concurrent.futures.ALL_COMPLETED)\n",
    "    print(f\"Completed {len(done_futures)} futures\")\n",
    "    for future in done_futures:\n",
    "        optimizer = future.result()\n",
    "        optimizers.append(optimizer)"
   ]
  },
  {
   "cell_type": "code",
   "execution_count": 8,
   "metadata": {},
   "outputs": [],
   "source": [
    "objectives_dfs_by_run = []\n",
    "for optimizer in optimizers:\n",
    "    _, objectives_df, _ = optimizer.get_all_observations()\n",
    "    objectives_dfs_by_run.append(objectives_df)"
   ]
  },
  {
   "cell_type": "code",
   "execution_count": 9,
   "metadata": {},
   "outputs": [],
   "source": [
    "pareto_volumes_over_time_per_run = [[] for i in range(10, num_iterations_per_run, 10)]\n",
    "for run_id, objectives_df in enumerate(objectives_dfs_by_run):\n",
    "    for i, j in enumerate(range(10, num_iterations_per_run, 10)):\n",
    "        pareto_frontier = ParetoFrontier(optimization_problem=optimization_problem, objectives_df=objectives_df[:j])\n",
    "        pareto_volume_estimator = pareto_frontier.approximate_pareto_volume(num_samples=1000000)\n",
    "        lower_bound, upper_bound = pareto_volume_estimator.get_two_sided_confidence_interval_on_pareto_volume(alpha=0.05)\n",
    "        pareto_volume = (lower_bound + upper_bound) / 2\n",
    "        pareto_volumes_over_time_per_run[i].append(pareto_volume)\n"
   ]
  },
  {
   "cell_type": "code",
   "execution_count": 10,
   "metadata": {},
   "outputs": [
    {
     "data": {
      "text/plain": [
       "[               y0            y1            y2            y3\n",
       " 0   -3.014268e+06 -6.507907e+06 -1.914695e+06 -6.773102e+06\n",
       " 1   -1.348892e+07 -1.450022e+07 -1.199847e+07 -1.611669e+07\n",
       " 2   -7.729165e+06 -1.083064e+07 -6.737699e+06 -9.923122e+06\n",
       " 3    1.424216e+06 -3.978612e+06 -1.098041e+06 -7.144029e+06\n",
       " 4   -4.512520e+06 -1.424680e+06  1.821611e+06 -8.069914e+06\n",
       " ..            ...           ...           ...           ...\n",
       " 195 -1.098632e+07 -1.286445e+07 -9.586594e+06 -1.307947e+07\n",
       " 196 -1.087003e+07 -1.263525e+07 -9.495581e+06 -1.292930e+07\n",
       " 197 -1.076186e+07 -1.255144e+07 -9.396178e+06 -1.280555e+07\n",
       " 198 -1.143540e+07 -1.293228e+07 -1.003957e+07 -1.358158e+07\n",
       " 199 -4.407753e+06 -6.425547e+06 -3.860822e+06 -5.814113e+06\n",
       " \n",
       " [200 rows x 4 columns],\n",
       "                y0            y1            y2            y3\n",
       " 0   -3.014268e+06 -6.507907e+06 -1.914695e+06 -6.773102e+06\n",
       " 1   -1.348892e+07 -1.450022e+07 -1.199847e+07 -1.611669e+07\n",
       " 2   -7.729165e+06 -1.083064e+07 -6.737699e+06 -9.923122e+06\n",
       " 3    1.424216e+06 -3.978612e+06 -1.098041e+06 -7.144029e+06\n",
       " 4   -4.512520e+06 -1.424680e+06  1.821611e+06 -8.069914e+06\n",
       " ..            ...           ...           ...           ...\n",
       " 195 -1.628345e+07 -1.830922e+07 -1.431584e+07 -1.934310e+07\n",
       " 196 -1.621000e+07 -1.807168e+07 -1.427861e+07 -1.926324e+07\n",
       " 197 -1.613515e+07 -1.801844e+07 -1.420713e+07 -1.917233e+07\n",
       " 198 -8.424170e+06 -1.152120e+07 -7.310403e+06 -1.064022e+07\n",
       " 199 -1.646245e+07 -1.850517e+07 -1.447420e+07 -1.955595e+07\n",
       " \n",
       " [200 rows x 4 columns],\n",
       "                y0            y1            y2            y3\n",
       " 0   -3.014268e+06 -6.507907e+06 -1.914695e+06 -6.773102e+06\n",
       " 1   -1.348892e+07 -1.450022e+07 -1.199847e+07 -1.611669e+07\n",
       " 2   -7.729165e+06 -1.083064e+07 -6.737699e+06 -9.923122e+06\n",
       " 3    1.424216e+06 -3.978612e+06 -1.098041e+06 -7.144029e+06\n",
       " 4   -4.512520e+06 -1.424680e+06  1.821611e+06 -8.069914e+06\n",
       " ..            ...           ...           ...           ...\n",
       " 195  4.326011e+04 -1.691794e+06 -2.711988e+06 -8.195105e+06\n",
       " 196 -1.589382e+07 -1.774634e+07 -1.399501e+07 -1.888565e+07\n",
       " 197 -1.645188e+07 -1.845968e+07 -1.447066e+07 -1.954451e+07\n",
       " 198 -1.380793e+07 -1.543088e+07 -1.215503e+07 -1.640566e+07\n",
       " 199 -1.660907e+07 -1.876536e+07 -1.458738e+07 -1.972850e+07\n",
       " \n",
       " [200 rows x 4 columns],\n",
       "                y0            y1            y2            y3\n",
       " 0   -3.014268e+06 -6.507907e+06 -1.914695e+06 -6.773102e+06\n",
       " 1   -1.348892e+07 -1.450022e+07 -1.199847e+07 -1.611669e+07\n",
       " 2   -7.729165e+06 -1.083064e+07 -6.737699e+06 -9.923122e+06\n",
       " 3    1.424216e+06 -3.978612e+06 -1.098041e+06 -7.144029e+06\n",
       " 4   -4.512520e+06 -1.424680e+06  1.821611e+06 -8.069914e+06\n",
       " ..            ...           ...           ...           ...\n",
       " 195 -1.661997e+07 -1.872476e+07 -1.460562e+07 -1.974211e+07\n",
       " 196 -1.563282e+07 -1.800437e+07 -1.367962e+07 -1.858077e+07\n",
       " 197 -7.757953e+06 -8.689422e+06 -6.842061e+06 -9.229251e+06\n",
       " 198 -2.963805e+06 -6.378912e+06 -1.904502e+06 -6.609490e+06\n",
       " 199 -1.166031e+07 -1.483581e+07 -1.010572e+07 -1.420609e+07\n",
       " \n",
       " [200 rows x 4 columns],\n",
       "                y0            y1            y2            y3\n",
       " 0   -3.014268e+06 -6.507907e+06 -1.914695e+06 -6.773102e+06\n",
       " 1   -1.348892e+07 -1.450022e+07 -1.199847e+07 -1.611669e+07\n",
       " 2   -7.729165e+06 -1.083064e+07 -6.737699e+06 -9.923122e+06\n",
       " 3    1.424216e+06 -3.978612e+06 -1.098041e+06 -7.144029e+06\n",
       " 4   -4.512520e+06 -1.424680e+06  1.821611e+06 -8.069914e+06\n",
       " ..            ...           ...           ...           ...\n",
       " 195  9.182115e+05 -3.052223e+06 -8.181687e+05 -5.118986e+06\n",
       " 196  1.512985e+06 -2.127836e+06 -1.105413e+06 -6.511850e+06\n",
       " 197 -6.450774e+06 -1.506570e+06 -1.496339e+06 -5.912978e+06\n",
       " 198 -7.836408e+06 -5.847912e+06 -4.193696e+06 -8.041978e+06\n",
       " 199 -2.481290e+06  4.367920e+04  6.174827e+05 -3.173689e+06\n",
       " \n",
       " [200 rows x 4 columns],\n",
       "                y0            y1            y2            y3\n",
       " 0   -3.014268e+06 -6.507907e+06 -1.914695e+06 -6.773102e+06\n",
       " 1   -1.348892e+07 -1.450022e+07 -1.199847e+07 -1.611669e+07\n",
       " 2   -7.729165e+06 -1.083064e+07 -6.737699e+06 -9.923122e+06\n",
       " 3    1.424216e+06 -3.978612e+06 -1.098041e+06 -7.144029e+06\n",
       " 4   -4.512520e+06 -1.424680e+06  1.821611e+06 -8.069914e+06\n",
       " ..            ...           ...           ...           ...\n",
       " 195 -1.077469e+07 -1.371788e+07 -9.337615e+06 -1.313025e+07\n",
       " 196 -8.271192e+06 -7.149451e+06 -4.835342e+06 -8.907857e+06\n",
       " 197 -1.184049e+07 -1.499949e+07 -1.026318e+07 -1.440052e+07\n",
       " 198 -1.660907e+07 -1.876536e+07 -1.458738e+07 -1.972850e+07\n",
       " 199 -2.712910e+05 -1.636668e+05 -1.269149e+05 -2.644241e+05\n",
       " \n",
       " [200 rows x 4 columns],\n",
       "                y0            y1            y2            y3\n",
       " 0   -3.014268e+06 -6.507907e+06 -1.914695e+06 -6.773102e+06\n",
       " 1   -1.348892e+07 -1.450022e+07 -1.199847e+07 -1.611669e+07\n",
       " 2   -7.729165e+06 -1.083064e+07 -6.737699e+06 -9.923122e+06\n",
       " 3    1.424216e+06 -3.978612e+06 -1.098041e+06 -7.144029e+06\n",
       " 4   -4.512520e+06 -1.424680e+06  1.821611e+06 -8.069914e+06\n",
       " ..            ...           ...           ...           ...\n",
       " 195 -9.292882e+06 -9.690088e+06 -8.352484e+06 -1.121234e+07\n",
       " 196 -8.444685e+06 -7.743702e+06 -8.253729e+06 -1.153925e+07\n",
       " 197 -1.976656e+06 -1.740279e+06 -2.648208e+06 -4.607878e+06\n",
       " 198 -1.653731e+07 -1.860946e+07 -1.453664e+07 -1.964436e+07\n",
       " 199  2.265116e+06 -3.842921e+06 -1.420629e+06 -9.391073e+06\n",
       " \n",
       " [200 rows x 4 columns],\n",
       "                y0            y1            y2            y3\n",
       " 0   -3.014268e+06 -6.507907e+06 -1.914695e+06 -6.773102e+06\n",
       " 1   -1.348892e+07 -1.450022e+07 -1.199847e+07 -1.611669e+07\n",
       " 2   -7.729165e+06 -1.083064e+07 -6.737699e+06 -9.923122e+06\n",
       " 3    1.424216e+06 -3.978612e+06 -1.098041e+06 -7.144029e+06\n",
       " 4   -4.512520e+06 -1.424680e+06  1.821611e+06 -8.069914e+06\n",
       " ..            ...           ...           ...           ...\n",
       " 195 -2.538238e+06 -4.425563e+06 -2.311269e+06 -3.900342e+06\n",
       " 196 -1.649454e+07 -1.843531e+07 -1.452093e+07 -1.959858e+07\n",
       " 197 -1.589557e+07 -1.782090e+07 -1.398364e+07 -1.888402e+07\n",
       " 198 -6.595841e+06  2.138578e+05  1.370748e+06 -7.997479e+06\n",
       " 199 -8.866909e+06 -9.070560e+06 -8.033116e+06 -1.079595e+07\n",
       " \n",
       " [200 rows x 4 columns],\n",
       "                y0            y1            y2            y3\n",
       " 0   -3.014268e+06 -6.507907e+06 -1.914695e+06 -6.773102e+06\n",
       " 1   -1.348892e+07 -1.450022e+07 -1.199847e+07 -1.611669e+07\n",
       " 2   -7.729165e+06 -1.083064e+07 -6.737699e+06 -9.923122e+06\n",
       " 3    1.424216e+06 -3.978612e+06 -1.098041e+06 -7.144029e+06\n",
       " 4   -4.512520e+06 -1.424680e+06  1.821611e+06 -8.069914e+06\n",
       " ..            ...           ...           ...           ...\n",
       " 195 -2.334050e+06 -1.434052e+06 -1.102895e+06 -2.284663e+06\n",
       " 196 -1.129130e+07 -1.297060e+07 -9.883345e+06 -1.341688e+07\n",
       " 197 -1.178005e+07 -1.355330e+07 -1.030855e+07 -1.399928e+07\n",
       " 198 -9.958657e+06 -1.121543e+07 -8.750012e+06 -1.182765e+07\n",
       " 199  2.265116e+06 -3.842921e+06 -1.420629e+06 -9.391073e+06\n",
       " \n",
       " [200 rows x 4 columns],\n",
       "                y0            y1            y2            y3\n",
       " 0   -3.014268e+06 -6.507907e+06 -1.914695e+06 -6.773102e+06\n",
       " 1   -1.348892e+07 -1.450022e+07 -1.199847e+07 -1.611669e+07\n",
       " 2   -7.729165e+06 -1.083064e+07 -6.737699e+06 -9.923122e+06\n",
       " 3    1.424216e+06 -3.978612e+06 -1.098041e+06 -7.144029e+06\n",
       " 4   -4.512520e+06 -1.424680e+06  1.821611e+06 -8.069914e+06\n",
       " ..            ...           ...           ...           ...\n",
       " 195 -3.613271e+06 -3.105731e+06 -4.058816e+06 -6.290218e+06\n",
       " 196  1.976966e+06 -5.156951e+06 -1.449006e+06 -9.551988e+06\n",
       " 197 -1.645642e+07 -1.840953e+07 -1.448434e+07 -1.955236e+07\n",
       " 198 -1.655214e+07 -1.855296e+07 -1.456222e+07 -1.966442e+07\n",
       " 199 -1.038729e+07 -1.152508e+07 -9.157907e+06 -1.234651e+07\n",
       " \n",
       " [200 rows x 4 columns]]"
      ]
     },
     "execution_count": 10,
     "metadata": {},
     "output_type": "execute_result"
    }
   ],
   "source": [
    "objectives_dfs_by_run"
   ]
  },
  {
   "cell_type": "code",
   "execution_count": 11,
   "metadata": {},
   "outputs": [],
   "source": [
    "average_pareto_volume_by_iteration = [sum(pareto_volumes) / len(pareto_volumes) for pareto_volumes in pareto_volumes_over_time_per_run]"
   ]
  },
  {
   "cell_type": "code",
   "execution_count": 12,
   "metadata": {},
   "outputs": [],
   "source": [
    "pareto_volumes_per_run_over_time = [[0 for i in range(10, num_iterations_per_run, 10)] for objectives_df in objectives_dfs_by_run]\n",
    "for run_id, objectives_df in enumerate(objectives_dfs_by_run):\n",
    "    for col, iteration_number in enumerate(range(10, num_iterations_per_run, 10)):\n",
    "        pareto_volumes_per_run_over_time[run_id][col] = pareto_volumes_over_time_per_run[col][run_id]"
   ]
  },
  {
   "cell_type": "code",
   "execution_count": 13,
   "metadata": {},
   "outputs": [
    {
     "data": {
      "text/plain": [
       "[3.782277545826766e+28,\n",
       " 4.243461224512427e+28,\n",
       " 5.554352292050646e+28,\n",
       " 7.296516207827884e+28,\n",
       " 7.505288137486274e+28,\n",
       " 7.588378949135266e+28,\n",
       " 7.761055564577536e+28,\n",
       " 8.114979162953544e+28,\n",
       " 8.2257700424737e+28,\n",
       " 8.34045425567324e+28,\n",
       " 8.4012442186738e+28,\n",
       " 8.439838749396881e+28,\n",
       " 8.573911774012036e+28,\n",
       " 8.678028786187654e+28,\n",
       " 8.68904140309881e+28,\n",
       " 8.802025469717717e+28,\n",
       " 8.819323017759922e+28,\n",
       " 8.819320299057006e+28,\n",
       " 8.867822113542577e+28]"
      ]
     },
     "execution_count": 13,
     "metadata": {},
     "output_type": "execute_result"
    }
   ],
   "source": [
    "average_pareto_volume_by_iteration"
   ]
  },
  {
   "cell_type": "code",
   "execution_count": 14,
   "metadata": {},
   "outputs": [],
   "source": [
    "# Now let's do the random ones :)\n",
    "#\n",
    "num_runs = 10\n",
    "objectives_dfs_by_random_run = []\n",
    "\n",
    "for run_id in range(num_runs):\n",
    "    suggestions_df = objective_function.parameter_space.random_dataframe(num_iterations_per_run)\n",
    "    objectives_df = objective_function.evaluate_dataframe(suggestions_df)\n",
    "    objectives_dfs_by_random_run.append(objectives_df)\n",
    "    \n",
    "pareto_volumes_over_time_per_random_run = [[] for i in range(10, num_iterations_per_run, 10)]\n",
    "for run_id, objectives_df in enumerate(objectives_dfs_by_random_run):\n",
    "    for i, j in enumerate(range(10, num_iterations_per_run, 10)):\n",
    "        pareto_frontier = ParetoFrontier(optimization_problem=optimization_problem, objectives_df=objectives_df[:j])\n",
    "        pareto_volume_estimator = pareto_frontier.approximate_pareto_volume(num_samples=1000000)\n",
    "        lower_bound, upper_bound = pareto_volume_estimator.get_two_sided_confidence_interval_on_pareto_volume(alpha=0.05)\n",
    "        pareto_volume = (lower_bound + upper_bound) / 2\n",
    "        pareto_volumes_over_time_per_random_run[i].append(pareto_volume)\n",
    "\n",
    "average_random_pareto_volume_by_iteration = [sum(pareto_volumes) / len(pareto_volumes) for pareto_volumes in pareto_volumes_over_time_per_random_run]"
   ]
  },
  {
   "cell_type": "code",
   "execution_count": 15,
   "metadata": {},
   "outputs": [],
   "source": [
    "pareto_volumes_per_random_run_over_time = [[0 for i in range(10, num_iterations_per_run, 10)] for run_id in range(num_runs)]\n",
    "for run_id in range(num_runs):\n",
    "    for col, iteration in enumerate(range(10, num_iterations_per_run, 10)):\n",
    "        pareto_volumes_per_random_run_over_time[run_id][col] = pareto_volumes_over_time_per_random_run[col][run_id]"
   ]
  },
  {
   "cell_type": "code",
   "execution_count": 16,
   "metadata": {},
   "outputs": [
    {
     "data": {
      "text/plain": [
       "[4.638207003197431e+27,\n",
       " 8.421370727843991e+27,\n",
       " 1.4653899105679262e+28,\n",
       " 1.8532396431137674e+28,\n",
       " 2.534120909154592e+28,\n",
       " 2.925359915889117e+28,\n",
       " 3.0171270740893833e+28,\n",
       " 3.870654443943665e+28,\n",
       " 4.499221884435526e+28,\n",
       " 4.499351067725514e+28,\n",
       " 4.983093693324612e+28,\n",
       " 5.1110221416228124e+28,\n",
       " 5.39298569257736e+28,\n",
       " 5.542945900771974e+28,\n",
       " 5.589534775088396e+28,\n",
       " 5.589956269722926e+28,\n",
       " 5.590307144183719e+28,\n",
       " 5.5921765165125105e+28,\n",
       " 5.592015434303628e+28]"
      ]
     },
     "execution_count": 16,
     "metadata": {},
     "output_type": "execute_result"
    }
   ],
   "source": [
    "average_random_pareto_volume_by_iteration"
   ]
  },
  {
   "cell_type": "code",
   "execution_count": 27,
   "metadata": {},
   "outputs": [
    {
     "data": {
      "application/vnd.plotly.v1+json": {
       "config": {
        "plotlyServerURL": "https://plot.ly"
       },
       "data": [
        {
         "name": "Guided Optimization: Average Pareto Volume vs. Iteration",
         "type": "scatter",
         "x": [
          10,
          20,
          30,
          40,
          50,
          60,
          70,
          80,
          90,
          100,
          110,
          120,
          130,
          140,
          150,
          160,
          170,
          180,
          190
         ],
         "y": [
          3.782277545826766e+28,
          4.243461224512427e+28,
          5.554352292050646e+28,
          7.296516207827884e+28,
          7.505288137486274e+28,
          7.588378949135266e+28,
          7.761055564577536e+28,
          8.114979162953544e+28,
          8.2257700424737e+28,
          8.34045425567324e+28,
          8.4012442186738e+28,
          8.439838749396881e+28,
          8.573911774012036e+28,
          8.678028786187654e+28,
          8.68904140309881e+28,
          8.802025469717717e+28,
          8.819323017759922e+28,
          8.819320299057006e+28,
          8.867822113542577e+28
         ]
        },
        {
         "name": "Random Search: Average Pareto Volume vs. Iteration",
         "type": "scatter",
         "x": [
          10,
          20,
          30,
          40,
          50,
          60,
          70,
          80,
          90,
          100,
          110,
          120,
          130,
          140,
          150,
          160,
          170,
          180,
          190
         ],
         "y": [
          4.638207003197431e+27,
          8.421370727843991e+27,
          1.4653899105679262e+28,
          1.8532396431137674e+28,
          2.534120909154592e+28,
          2.925359915889117e+28,
          3.0171270740893833e+28,
          3.870654443943665e+28,
          4.499221884435526e+28,
          4.499351067725514e+28,
          4.983093693324612e+28,
          5.1110221416228124e+28,
          5.39298569257736e+28,
          5.542945900771974e+28,
          5.589534775088396e+28,
          5.589956269722926e+28,
          5.590307144183719e+28,
          5.5921765165125105e+28,
          5.592015434303628e+28
         ]
        },
        {
         "marker": {
          "color": "LightSkyBlue"
         },
         "name": "Guided Run 0",
         "type": "scatter",
         "x": [
          10,
          20,
          30,
          40,
          50,
          60,
          70,
          80,
          90,
          100,
          110,
          120,
          130,
          140,
          150,
          160,
          170,
          180,
          190
         ],
         "y": [
          3.782277545826766e+28,
          8.394114332683374e+28,
          8.394114332683374e+28,
          8.394114332683374e+28,
          8.394114332683374e+28,
          8.394114332683374e+28,
          9.011639032939398e+28,
          9.011639032939398e+28,
          9.011639032939398e+28,
          9.011639032939398e+28,
          9.011639032939398e+28,
          9.011639032939398e+28,
          9.011639032939398e+28,
          9.011639032939398e+28,
          9.011639032939398e+28,
          9.011639032939398e+28,
          9.011639032939398e+28,
          9.011639032939398e+28,
          9.011639032939398e+28
         ]
        },
        {
         "marker": {
          "color": "LightSkyBlue"
         },
         "name": "Guided Run 1",
         "type": "scatter",
         "x": [
          10,
          20,
          30,
          40,
          50,
          60,
          70,
          80,
          90,
          100,
          110,
          120,
          130,
          140,
          150,
          160,
          170,
          180,
          190
         ],
         "y": [
          3.782277545826766e+28,
          3.782277545826766e+28,
          3.782277545826766e+28,
          6.639986799787536e+28,
          8.106610649427108e+28,
          8.106610649427108e+28,
          8.106610649427108e+28,
          8.969477866250521e+28,
          8.969477866250521e+28,
          8.969477866250521e+28,
          8.969477866250521e+28,
          8.969477866250521e+28,
          8.969477866250521e+28,
          8.973981512200508e+28,
          9.08408955662595e+28,
          9.08408955662595e+28,
          9.08408955662595e+28,
          9.08408955662595e+28,
          9.08408955662595e+28
         ]
        },
        {
         "marker": {
          "color": "LightSkyBlue"
         },
         "name": "Guided Run 2",
         "type": "scatter",
         "x": [
          10,
          20,
          30,
          40,
          50,
          60,
          70,
          80,
          90,
          100,
          110,
          120,
          130,
          140,
          150,
          160,
          170,
          180,
          190
         ],
         "y": [
          3.782277545826766e+28,
          3.782277545826766e+28,
          7.200194258638908e+28,
          8.053577196601777e+28,
          8.053577196601777e+28,
          8.053577196601777e+28,
          8.053577196601777e+28,
          8.053577196601777e+28,
          8.563098769299196e+28,
          8.563098769299196e+28,
          8.563098769299196e+28,
          8.563098769299196e+28,
          9.005840486145096e+28,
          9.062288684001804e+28,
          9.06230680868792e+28,
          9.06230680868792e+28,
          9.062288684001804e+28,
          9.06226149697263e+28,
          9.06226149697263e+28
         ]
        },
        {
         "marker": {
          "color": "LightSkyBlue"
         },
         "name": "Guided Run 3",
         "type": "scatter",
         "x": [
          10,
          20,
          30,
          40,
          50,
          60,
          70,
          80,
          90,
          100,
          110,
          120,
          130,
          140,
          150,
          160,
          170,
          180,
          190
         ],
         "y": [
          3.782277545826766e+28,
          3.782277545826766e+28,
          5.09742875331232e+28,
          5.772948234958412e+28,
          5.772948234958412e+28,
          5.772948234958412e+28,
          5.772948234958412e+28,
          5.772948234958412e+28,
          5.772948234958412e+28,
          5.772948234958412e+28,
          5.772948234958412e+28,
          5.995264815278893e+28,
          5.99530081256985e+28,
          6.975519090519346e+28,
          6.975519090519346e+28,
          6.975519090519346e+28,
          6.975519090519346e+28,
          6.975519090519346e+28,
          6.975519090519346e+28
         ]
        },
        {
         "marker": {
          "color": "LightSkyBlue"
         },
         "name": "Guided Run 4",
         "type": "scatter",
         "x": [
          10,
          20,
          30,
          40,
          50,
          60,
          70,
          80,
          90,
          100,
          110,
          120,
          130,
          140,
          150,
          160,
          170,
          180,
          190
         ],
         "y": [
          3.782277545826766e+28,
          3.782277545826766e+28,
          5.294477269459012e+28,
          7.1051908881676e+28,
          7.1051908881676e+28,
          7.1051908881676e+28,
          7.1051908881676e+28,
          7.1051908881676e+28,
          7.1051908881676e+28,
          7.1051908881676e+28,
          7.1051908881676e+28,
          7.1051908881676e+28,
          7.835649767533931e+28,
          7.835649767533931e+28,
          7.835649767533931e+28,
          7.835649767533931e+28,
          7.835649767533931e+28,
          7.835649767533931e+28,
          8.320667912389631e+28
         ]
        },
        {
         "marker": {
          "color": "LightSkyBlue"
         },
         "name": "Guided Run 5",
         "type": "scatter",
         "x": [
          10,
          20,
          30,
          40,
          50,
          60,
          70,
          80,
          90,
          100,
          110,
          120,
          130,
          140,
          150,
          160,
          170,
          180,
          190
         ],
         "y": [
          3.782277545826766e+28,
          3.782277545826766e+28,
          5.313947326823321e+28,
          7.501164526829728e+28,
          7.501164526829728e+28,
          7.501164526829728e+28,
          8.610405980996388e+28,
          8.610405980996388e+28,
          9.067612982728612e+28,
          9.211124160195564e+28,
          9.211124160195564e+28,
          9.374752887105898e+28,
          9.374752887105898e+28,
          9.374752887105898e+28,
          9.374752887105898e+28,
          9.374752887105898e+28,
          9.374752887105898e+28,
          9.374752887105898e+28,
          9.374752887105898e+28
         ]
        },
        {
         "marker": {
          "color": "LightSkyBlue"
         },
         "name": "Guided Run 6",
         "type": "scatter",
         "x": [
          10,
          20,
          30,
          40,
          50,
          60,
          70,
          80,
          90,
          100,
          110,
          120,
          130,
          140,
          150,
          160,
          170,
          180,
          190
         ],
         "y": [
          3.782277545826766e+28,
          3.782277545826766e+28,
          5.772948234958412e+28,
          8.774100415022232e+28,
          8.774100415022232e+28,
          8.774100415022232e+28,
          8.774100415022232e+28,
          8.774100415022232e+28,
          8.774100415022232e+28,
          9.083116046123543e+28,
          9.083116046123543e+28,
          9.083116046123543e+28,
          9.083116046123543e+28,
          9.083116046123543e+28,
          9.083116046123543e+28,
          9.083116046123543e+28,
          9.256109651231716e+28,
          9.256109651231716e+28,
          9.256109651231716e+28
         ]
        },
        {
         "marker": {
          "color": "LightSkyBlue"
         },
         "name": "Guided Run 7",
         "type": "scatter",
         "x": [
          10,
          20,
          30,
          40,
          50,
          60,
          70,
          80,
          90,
          100,
          110,
          120,
          130,
          140,
          150,
          160,
          170,
          180,
          190
         ],
         "y": [
          3.782277545826766e+28,
          3.782277545826766e+28,
          7.1098542159408105e+28,
          8.335659226084027e+28,
          8.956754673028363e+28,
          8.956754673028363e+28,
          8.956754673028363e+28,
          8.956754673028363e+28,
          9.067612982728612e+28,
          9.211124160195564e+28,
          9.211124160195564e+28,
          9.211124160195564e+28,
          9.211124160195564e+28,
          9.211124160195564e+28,
          9.211124160195564e+28,
          9.211124160195564e+28,
          9.211124160195564e+28,
          9.211124160195564e+28,
          9.211124160195564e+28
         ]
        },
        {
         "marker": {
          "color": "LightSkyBlue"
         },
         "name": "Guided Run 8",
         "type": "scatter",
         "x": [
          10,
          20,
          30,
          40,
          50,
          60,
          70,
          80,
          90,
          100,
          110,
          120,
          130,
          140,
          150,
          160,
          170,
          180,
          190
         ],
         "y": [
          3.782277545826766e+28,
          3.782277545826766e+28,
          3.782277545826766e+28,
          3.782277545826766e+28,
          3.782277545826766e+28,
          4.0120693401765285e+28,
          4.0120693401765285e+28,
          6.6884381071132215e+28,
          6.718760018184892e+28,
          7.269564164145069e+28,
          7.877463794150662e+28,
          7.877463794150662e+28,
          7.877463794150662e+28,
          7.877463794150662e+28,
          7.877463794150662e+28,
          9.007304460339743e+28,
          9.007304460339743e+28,
          9.007304460339743e+28,
          9.007304460339743e+28
         ]
        },
        {
         "marker": {
          "color": "LightSkyBlue"
         },
         "name": "Guided Run 9",
         "type": "scatter",
         "x": [
          10,
          20,
          30,
          40,
          50,
          60,
          70,
          80,
          90,
          100,
          110,
          120,
          130,
          140,
          150,
          160,
          170,
          180,
          190
         ],
         "y": [
          3.782277545826766e+28,
          3.782277545826766e+28,
          3.796003437036765e+28,
          8.606142912317379e+28,
          8.606142912317379e+28,
          9.207259234457533e+28,
          9.207259234457533e+28,
          9.207259234457533e+28,
          9.207259234457533e+28,
          9.207259234457533e+28,
          9.207259234457533e+28,
          9.207259234457533e+28,
          9.374752887105898e+28,
          9.374752887105898e+28,
          9.374752887105898e+28,
          9.374752887105898e+28,
          9.374752887105898e+28,
          9.374752887105898e+28,
          9.374752887105898e+28
         ]
        },
        {
         "marker": {
          "color": "IndianRed"
         },
         "name": "Random Run 0",
         "type": "scatter",
         "x": [
          10,
          20,
          30,
          40,
          50,
          60,
          70,
          80,
          90,
          100,
          110,
          120,
          130,
          140,
          150,
          160,
          170,
          180,
          190
         ],
         "y": [
          4.724314648030382e+27,
          5.438245577531868e+27,
          5.443846764400201e+27,
          1.1798584534190436e+28,
          3.168412086892658e+28,
          3.168412086892658e+28,
          3.168412086892658e+28,
          5.992761055824704e+28,
          5.992761055824704e+28,
          5.992761055824704e+28,
          5.992761055824704e+28,
          5.992761055824704e+28,
          5.992761055824704e+28,
          5.992761055824704e+28,
          5.992761055824704e+28,
          5.992761055824704e+28,
          5.992761055824704e+28,
          5.992761055824704e+28,
          5.992761055824704e+28
         ]
        },
        {
         "marker": {
          "color": "IndianRed"
         },
         "name": "Random Run 1",
         "type": "scatter",
         "x": [
          10,
          20,
          30,
          40,
          50,
          60,
          70,
          80,
          90,
          100,
          110,
          120,
          130,
          140,
          150,
          160,
          170,
          180,
          190
         ],
         "y": [
          1.998718616510986e+27,
          4.8432288597151575e+27,
          7.810048336430612e+27,
          2.303693378417306e+28,
          6.8919630004773615e+28,
          6.8919630004773615e+28,
          6.8919630004773615e+28,
          6.8919630004773615e+28,
          6.8919630004773615e+28,
          6.8919630004773615e+28,
          6.8919630004773615e+28,
          6.8919630004773615e+28,
          6.8919630004773615e+28,
          6.8919630004773615e+28,
          6.8919630004773615e+28,
          6.8919630004773615e+28,
          6.8919630004773615e+28,
          6.8919630004773615e+28,
          6.8919630004773615e+28
         ]
        },
        {
         "marker": {
          "color": "IndianRed"
         },
         "name": "Random Run 2",
         "type": "scatter",
         "x": [
          10,
          20,
          30,
          40,
          50,
          60,
          70,
          80,
          90,
          100,
          110,
          120,
          130,
          140,
          150,
          160,
          170,
          180,
          190
         ],
         "y": [
          2.984138267841974e+27,
          2.9877322337191653e+27,
          2.386811913224461e+28,
          3.142820660687339e+28,
          3.1426684834844415e+28,
          3.1709564618132334e+28,
          3.170677671900993e+28,
          3.1708443049519873e+28,
          4.530191956733599e+28,
          4.530191956733599e+28,
          4.530191956733599e+28,
          4.530191956733599e+28,
          7.353336513616912e+28,
          7.353336513616912e+28,
          7.353336513616912e+28,
          7.353336513616912e+28,
          7.353336513616912e+28,
          7.353336513616912e+28,
          7.353336513616912e+28
         ]
        },
        {
         "marker": {
          "color": "IndianRed"
         },
         "name": "Random Run 3",
         "type": "scatter",
         "x": [
          10,
          20,
          30,
          40,
          50,
          60,
          70,
          80,
          90,
          100,
          110,
          120,
          130,
          140,
          150,
          160,
          170,
          180,
          190
         ],
         "y": [
          1.5738765374715795e+26,
          3.99966188904449e+27,
          3.297158303012728e+28,
          3.2987147756093965e+28,
          3.296914150448545e+28,
          3.296924323472053e+28,
          3.298538443201931e+28,
          3.297707646282141e+28,
          3.296741209048915e+28,
          3.2978873696974427e+28,
          3.297948407838488e+28,
          3.6539519055526985e+28,
          3.653860575496749e+28,
          3.6519007847128164e+28,
          3.6523612404115657e+28,
          3.652250883260625e+28,
          3.6531641838201283e+28,
          3.651063592533272e+28,
          3.653027188736203e+28
         ]
        },
        {
         "marker": {
          "color": "IndianRed"
         },
         "name": "Random Run 4",
         "type": "scatter",
         "x": [
          10,
          20,
          30,
          40,
          50,
          60,
          70,
          80,
          90,
          100,
          110,
          120,
          130,
          140,
          150,
          160,
          170,
          180,
          190
         ],
         "y": [
          6.566597188566374e+27,
          6.669182799181545e+27,
          6.666742197930343e+27,
          7.319996477896711e+27,
          7.322487224217253e+27,
          9.923224829087583e+27,
          9.934304126206153e+27,
          4.745218001375359e+28,
          4.745218001375359e+28,
          4.745218001375359e+28,
          4.745218001375359e+28,
          4.745218001375359e+28,
          4.745218001375359e+28,
          4.745218001375359e+28,
          4.745218001375359e+28,
          4.745218001375359e+28,
          4.745218001375359e+28,
          4.745218001375359e+28,
          4.745218001375359e+28
         ]
        },
        {
         "marker": {
          "color": "IndianRed"
         },
         "name": "Random Run 5",
         "type": "scatter",
         "x": [
          10,
          20,
          30,
          40,
          50,
          60,
          70,
          80,
          90,
          100,
          110,
          120,
          130,
          140,
          150,
          160,
          170,
          180,
          190
         ],
         "y": [
          1.405044988395173e+27,
          4.614121244425343e+27,
          7.84318867442212e+27,
          1.231640696447552e+28,
          1.4652026216747285e+28,
          1.5538845260758576e+28,
          1.5542374729419073e+28,
          3.5134718986289306e+28,
          3.5134718986289306e+28,
          3.5134718986289306e+28,
          3.5134718986289306e+28,
          3.5134718986289306e+28,
          3.5134718986289306e+28,
          5.013304977300254e+28,
          5.013885076883588e+28,
          5.012988559345708e+28,
          5.014338609285105e+28,
          5.012730151349495e+28,
          5.012097315440403e+28
         ]
        },
        {
         "marker": {
          "color": "IndianRed"
         },
         "name": "Random Run 6",
         "type": "scatter",
         "x": [
          10,
          20,
          30,
          40,
          50,
          60,
          70,
          80,
          90,
          100,
          110,
          120,
          130,
          140,
          150,
          160,
          170,
          180,
          190
         ],
         "y": [
          8.25715873955494e+27,
          1.797468586280518e+28,
          2.228716216456004e+28,
          2.2282798711412336e+28,
          2.2284313485302992e+28,
          2.6552728543092807e+28,
          2.88484109846217e+28,
          2.88484109846217e+28,
          2.88484109846217e+28,
          2.88484109846217e+28,
          2.88484109846217e+28,
          3.8065157856341108e+28,
          3.805219697577813e+28,
          3.805950722853469e+28,
          3.8243709188767073e+28,
          3.831144456167321e+28,
          3.83151513763756e+28,
          3.851779058010633e+28,
          3.8526957971305795e+28
         ]
        },
        {
         "marker": {
          "color": "IndianRed"
         },
         "name": "Random Run 7",
         "type": "scatter",
         "x": [
          10,
          20,
          30,
          40,
          50,
          60,
          70,
          80,
          90,
          100,
          110,
          120,
          130,
          140,
          150,
          160,
          170,
          180,
          190
         ],
         "y": [
          7.712939641886575e+27,
          2.0904097944545593e+28,
          2.090401014964323e+28,
          2.0902693226107817e+28,
          2.090774143299358e+28,
          2.090774143299358e+28,
          2.399647142822868e+28,
          2.399702516165597e+28,
          2.399789187484651e+28,
          2.3995291735274884e+28,
          7.235479971893706e+28,
          7.235479971893706e+28,
          7.235479971893706e+28,
          7.235479971893706e+28,
          7.235479971893706e+28,
          7.235479971893706e+28,
          7.235479971893706e+28,
          7.235479971893706e+28,
          7.235479971893706e+28
         ]
        },
        {
         "marker": {
          "color": "IndianRed"
         },
         "name": "Random Run 8",
         "type": "scatter",
         "x": [
          10,
          20,
          30,
          40,
          50,
          60,
          70,
          80,
          90,
          100,
          110,
          120,
          130,
          140,
          150,
          160,
          170,
          180,
          190
         ],
         "y": [
          2.9179068152827153e+27,
          7.124887395313533e+27,
          7.586852704002916e+27,
          1.006674990773495e+28,
          1.0066269983974653e+28,
          4.1061254975590685e+28,
          4.1061254975590685e+28,
          4.1061254975590685e+28,
          5.284435658565745e+28,
          5.284841344774254e+28,
          5.286255764257976e+28,
          5.28786206235383e+28,
          5.2857404331282475e+28,
          5.286738201911338e+28,
          5.733166193770225e+28,
          5.731614477513736e+28,
          5.7324891901525285e+28,
          5.73462804228985e+28,
          5.730769720787231e+28
         ]
        },
        {
         "marker": {
          "color": "IndianRed"
         },
         "name": "Random Run 9",
         "type": "scatter",
         "x": [
          10,
          20,
          30,
          40,
          50,
          60,
          70,
          80,
          90,
          100,
          110,
          120,
          130,
          140,
          150,
          160,
          170,
          180,
          190
         ],
         "y": [
          9.657863472158035e+27,
          9.657863472158035e+27,
          1.1157437903031256e+28,
          1.3184446342418557e+28,
          1.3179675359193453e+28,
          1.326963782083542e+28,
          1.7033979140142588e+28,
          1.7039094197093356e+28,
          5.4528057777538295e+28,
          5.4528057777538295e+28,
          5.4528057777538295e+28,
          5.4528057777538295e+28,
          5.4528057777538295e+28,
          5.4528057777538295e+28,
          5.4528057777538295e+28,
          5.4528057777538295e+28,
          5.4528057777538295e+28,
          5.4528057777538295e+28,
          5.4528057777538295e+28
         ]
        }
       ],
       "layout": {
        "template": {
         "data": {
          "bar": [
           {
            "error_x": {
             "color": "#2a3f5f"
            },
            "error_y": {
             "color": "#2a3f5f"
            },
            "marker": {
             "line": {
              "color": "#E5ECF6",
              "width": 0.5
             }
            },
            "type": "bar"
           }
          ],
          "barpolar": [
           {
            "marker": {
             "line": {
              "color": "#E5ECF6",
              "width": 0.5
             }
            },
            "type": "barpolar"
           }
          ],
          "carpet": [
           {
            "aaxis": {
             "endlinecolor": "#2a3f5f",
             "gridcolor": "white",
             "linecolor": "white",
             "minorgridcolor": "white",
             "startlinecolor": "#2a3f5f"
            },
            "baxis": {
             "endlinecolor": "#2a3f5f",
             "gridcolor": "white",
             "linecolor": "white",
             "minorgridcolor": "white",
             "startlinecolor": "#2a3f5f"
            },
            "type": "carpet"
           }
          ],
          "choropleth": [
           {
            "colorbar": {
             "outlinewidth": 0,
             "ticks": ""
            },
            "type": "choropleth"
           }
          ],
          "contour": [
           {
            "colorbar": {
             "outlinewidth": 0,
             "ticks": ""
            },
            "colorscale": [
             [
              0,
              "#0d0887"
             ],
             [
              0.1111111111111111,
              "#46039f"
             ],
             [
              0.2222222222222222,
              "#7201a8"
             ],
             [
              0.3333333333333333,
              "#9c179e"
             ],
             [
              0.4444444444444444,
              "#bd3786"
             ],
             [
              0.5555555555555556,
              "#d8576b"
             ],
             [
              0.6666666666666666,
              "#ed7953"
             ],
             [
              0.7777777777777778,
              "#fb9f3a"
             ],
             [
              0.8888888888888888,
              "#fdca26"
             ],
             [
              1,
              "#f0f921"
             ]
            ],
            "type": "contour"
           }
          ],
          "contourcarpet": [
           {
            "colorbar": {
             "outlinewidth": 0,
             "ticks": ""
            },
            "type": "contourcarpet"
           }
          ],
          "heatmap": [
           {
            "colorbar": {
             "outlinewidth": 0,
             "ticks": ""
            },
            "colorscale": [
             [
              0,
              "#0d0887"
             ],
             [
              0.1111111111111111,
              "#46039f"
             ],
             [
              0.2222222222222222,
              "#7201a8"
             ],
             [
              0.3333333333333333,
              "#9c179e"
             ],
             [
              0.4444444444444444,
              "#bd3786"
             ],
             [
              0.5555555555555556,
              "#d8576b"
             ],
             [
              0.6666666666666666,
              "#ed7953"
             ],
             [
              0.7777777777777778,
              "#fb9f3a"
             ],
             [
              0.8888888888888888,
              "#fdca26"
             ],
             [
              1,
              "#f0f921"
             ]
            ],
            "type": "heatmap"
           }
          ],
          "heatmapgl": [
           {
            "colorbar": {
             "outlinewidth": 0,
             "ticks": ""
            },
            "colorscale": [
             [
              0,
              "#0d0887"
             ],
             [
              0.1111111111111111,
              "#46039f"
             ],
             [
              0.2222222222222222,
              "#7201a8"
             ],
             [
              0.3333333333333333,
              "#9c179e"
             ],
             [
              0.4444444444444444,
              "#bd3786"
             ],
             [
              0.5555555555555556,
              "#d8576b"
             ],
             [
              0.6666666666666666,
              "#ed7953"
             ],
             [
              0.7777777777777778,
              "#fb9f3a"
             ],
             [
              0.8888888888888888,
              "#fdca26"
             ],
             [
              1,
              "#f0f921"
             ]
            ],
            "type": "heatmapgl"
           }
          ],
          "histogram": [
           {
            "marker": {
             "colorbar": {
              "outlinewidth": 0,
              "ticks": ""
             }
            },
            "type": "histogram"
           }
          ],
          "histogram2d": [
           {
            "colorbar": {
             "outlinewidth": 0,
             "ticks": ""
            },
            "colorscale": [
             [
              0,
              "#0d0887"
             ],
             [
              0.1111111111111111,
              "#46039f"
             ],
             [
              0.2222222222222222,
              "#7201a8"
             ],
             [
              0.3333333333333333,
              "#9c179e"
             ],
             [
              0.4444444444444444,
              "#bd3786"
             ],
             [
              0.5555555555555556,
              "#d8576b"
             ],
             [
              0.6666666666666666,
              "#ed7953"
             ],
             [
              0.7777777777777778,
              "#fb9f3a"
             ],
             [
              0.8888888888888888,
              "#fdca26"
             ],
             [
              1,
              "#f0f921"
             ]
            ],
            "type": "histogram2d"
           }
          ],
          "histogram2dcontour": [
           {
            "colorbar": {
             "outlinewidth": 0,
             "ticks": ""
            },
            "colorscale": [
             [
              0,
              "#0d0887"
             ],
             [
              0.1111111111111111,
              "#46039f"
             ],
             [
              0.2222222222222222,
              "#7201a8"
             ],
             [
              0.3333333333333333,
              "#9c179e"
             ],
             [
              0.4444444444444444,
              "#bd3786"
             ],
             [
              0.5555555555555556,
              "#d8576b"
             ],
             [
              0.6666666666666666,
              "#ed7953"
             ],
             [
              0.7777777777777778,
              "#fb9f3a"
             ],
             [
              0.8888888888888888,
              "#fdca26"
             ],
             [
              1,
              "#f0f921"
             ]
            ],
            "type": "histogram2dcontour"
           }
          ],
          "mesh3d": [
           {
            "colorbar": {
             "outlinewidth": 0,
             "ticks": ""
            },
            "type": "mesh3d"
           }
          ],
          "parcoords": [
           {
            "line": {
             "colorbar": {
              "outlinewidth": 0,
              "ticks": ""
             }
            },
            "type": "parcoords"
           }
          ],
          "pie": [
           {
            "automargin": true,
            "type": "pie"
           }
          ],
          "scatter": [
           {
            "marker": {
             "colorbar": {
              "outlinewidth": 0,
              "ticks": ""
             }
            },
            "type": "scatter"
           }
          ],
          "scatter3d": [
           {
            "line": {
             "colorbar": {
              "outlinewidth": 0,
              "ticks": ""
             }
            },
            "marker": {
             "colorbar": {
              "outlinewidth": 0,
              "ticks": ""
             }
            },
            "type": "scatter3d"
           }
          ],
          "scattercarpet": [
           {
            "marker": {
             "colorbar": {
              "outlinewidth": 0,
              "ticks": ""
             }
            },
            "type": "scattercarpet"
           }
          ],
          "scattergeo": [
           {
            "marker": {
             "colorbar": {
              "outlinewidth": 0,
              "ticks": ""
             }
            },
            "type": "scattergeo"
           }
          ],
          "scattergl": [
           {
            "marker": {
             "colorbar": {
              "outlinewidth": 0,
              "ticks": ""
             }
            },
            "type": "scattergl"
           }
          ],
          "scattermapbox": [
           {
            "marker": {
             "colorbar": {
              "outlinewidth": 0,
              "ticks": ""
             }
            },
            "type": "scattermapbox"
           }
          ],
          "scatterpolar": [
           {
            "marker": {
             "colorbar": {
              "outlinewidth": 0,
              "ticks": ""
             }
            },
            "type": "scatterpolar"
           }
          ],
          "scatterpolargl": [
           {
            "marker": {
             "colorbar": {
              "outlinewidth": 0,
              "ticks": ""
             }
            },
            "type": "scatterpolargl"
           }
          ],
          "scatterternary": [
           {
            "marker": {
             "colorbar": {
              "outlinewidth": 0,
              "ticks": ""
             }
            },
            "type": "scatterternary"
           }
          ],
          "surface": [
           {
            "colorbar": {
             "outlinewidth": 0,
             "ticks": ""
            },
            "colorscale": [
             [
              0,
              "#0d0887"
             ],
             [
              0.1111111111111111,
              "#46039f"
             ],
             [
              0.2222222222222222,
              "#7201a8"
             ],
             [
              0.3333333333333333,
              "#9c179e"
             ],
             [
              0.4444444444444444,
              "#bd3786"
             ],
             [
              0.5555555555555556,
              "#d8576b"
             ],
             [
              0.6666666666666666,
              "#ed7953"
             ],
             [
              0.7777777777777778,
              "#fb9f3a"
             ],
             [
              0.8888888888888888,
              "#fdca26"
             ],
             [
              1,
              "#f0f921"
             ]
            ],
            "type": "surface"
           }
          ],
          "table": [
           {
            "cells": {
             "fill": {
              "color": "#EBF0F8"
             },
             "line": {
              "color": "white"
             }
            },
            "header": {
             "fill": {
              "color": "#C8D4E3"
             },
             "line": {
              "color": "white"
             }
            },
            "type": "table"
           }
          ]
         },
         "layout": {
          "annotationdefaults": {
           "arrowcolor": "#2a3f5f",
           "arrowhead": 0,
           "arrowwidth": 1
          },
          "autotypenumbers": "strict",
          "coloraxis": {
           "colorbar": {
            "outlinewidth": 0,
            "ticks": ""
           }
          },
          "colorscale": {
           "diverging": [
            [
             0,
             "#8e0152"
            ],
            [
             0.1,
             "#c51b7d"
            ],
            [
             0.2,
             "#de77ae"
            ],
            [
             0.3,
             "#f1b6da"
            ],
            [
             0.4,
             "#fde0ef"
            ],
            [
             0.5,
             "#f7f7f7"
            ],
            [
             0.6,
             "#e6f5d0"
            ],
            [
             0.7,
             "#b8e186"
            ],
            [
             0.8,
             "#7fbc41"
            ],
            [
             0.9,
             "#4d9221"
            ],
            [
             1,
             "#276419"
            ]
           ],
           "sequential": [
            [
             0,
             "#0d0887"
            ],
            [
             0.1111111111111111,
             "#46039f"
            ],
            [
             0.2222222222222222,
             "#7201a8"
            ],
            [
             0.3333333333333333,
             "#9c179e"
            ],
            [
             0.4444444444444444,
             "#bd3786"
            ],
            [
             0.5555555555555556,
             "#d8576b"
            ],
            [
             0.6666666666666666,
             "#ed7953"
            ],
            [
             0.7777777777777778,
             "#fb9f3a"
            ],
            [
             0.8888888888888888,
             "#fdca26"
            ],
            [
             1,
             "#f0f921"
            ]
           ],
           "sequentialminus": [
            [
             0,
             "#0d0887"
            ],
            [
             0.1111111111111111,
             "#46039f"
            ],
            [
             0.2222222222222222,
             "#7201a8"
            ],
            [
             0.3333333333333333,
             "#9c179e"
            ],
            [
             0.4444444444444444,
             "#bd3786"
            ],
            [
             0.5555555555555556,
             "#d8576b"
            ],
            [
             0.6666666666666666,
             "#ed7953"
            ],
            [
             0.7777777777777778,
             "#fb9f3a"
            ],
            [
             0.8888888888888888,
             "#fdca26"
            ],
            [
             1,
             "#f0f921"
            ]
           ]
          },
          "colorway": [
           "#636efa",
           "#EF553B",
           "#00cc96",
           "#ab63fa",
           "#FFA15A",
           "#19d3f3",
           "#FF6692",
           "#B6E880",
           "#FF97FF",
           "#FECB52"
          ],
          "font": {
           "color": "#2a3f5f"
          },
          "geo": {
           "bgcolor": "white",
           "lakecolor": "white",
           "landcolor": "#E5ECF6",
           "showlakes": true,
           "showland": true,
           "subunitcolor": "white"
          },
          "hoverlabel": {
           "align": "left"
          },
          "hovermode": "closest",
          "mapbox": {
           "style": "light"
          },
          "paper_bgcolor": "white",
          "plot_bgcolor": "#E5ECF6",
          "polar": {
           "angularaxis": {
            "gridcolor": "white",
            "linecolor": "white",
            "ticks": ""
           },
           "bgcolor": "#E5ECF6",
           "radialaxis": {
            "gridcolor": "white",
            "linecolor": "white",
            "ticks": ""
           }
          },
          "scene": {
           "xaxis": {
            "backgroundcolor": "#E5ECF6",
            "gridcolor": "white",
            "gridwidth": 2,
            "linecolor": "white",
            "showbackground": true,
            "ticks": "",
            "zerolinecolor": "white"
           },
           "yaxis": {
            "backgroundcolor": "#E5ECF6",
            "gridcolor": "white",
            "gridwidth": 2,
            "linecolor": "white",
            "showbackground": true,
            "ticks": "",
            "zerolinecolor": "white"
           },
           "zaxis": {
            "backgroundcolor": "#E5ECF6",
            "gridcolor": "white",
            "gridwidth": 2,
            "linecolor": "white",
            "showbackground": true,
            "ticks": "",
            "zerolinecolor": "white"
           }
          },
          "shapedefaults": {
           "line": {
            "color": "#2a3f5f"
           }
          },
          "ternary": {
           "aaxis": {
            "gridcolor": "white",
            "linecolor": "white",
            "ticks": ""
           },
           "baxis": {
            "gridcolor": "white",
            "linecolor": "white",
            "ticks": ""
           },
           "bgcolor": "#E5ECF6",
           "caxis": {
            "gridcolor": "white",
            "linecolor": "white",
            "ticks": ""
           }
          },
          "title": {
           "x": 0.05
          },
          "xaxis": {
           "automargin": true,
           "gridcolor": "white",
           "linecolor": "white",
           "ticks": "",
           "title": {
            "standoff": 15
           },
           "zerolinecolor": "white",
           "zerolinewidth": 2
          },
          "yaxis": {
           "automargin": true,
           "gridcolor": "white",
           "linecolor": "white",
           "ticks": "",
           "title": {
            "standoff": 15
           },
           "zerolinecolor": "white",
           "zerolinewidth": 2
          }
         }
        }
       }
      },
      "text/html": [
       "<div>                            <div id=\"d5101657-5da5-4067-b3cb-200bc12685a2\" class=\"plotly-graph-div\" style=\"height:525px; width:100%;\"></div>            <script type=\"text/javascript\">                require([\"plotly\"], function(Plotly) {                    window.PLOTLYENV=window.PLOTLYENV || {};                                    if (document.getElementById(\"d5101657-5da5-4067-b3cb-200bc12685a2\")) {                    Plotly.newPlot(                        \"d5101657-5da5-4067-b3cb-200bc12685a2\",                        [{\"name\": \"Guided Optimization: Average Pareto Volume vs. Iteration\", \"type\": \"scatter\", \"x\": [10, 20, 30, 40, 50, 60, 70, 80, 90, 100, 110, 120, 130, 140, 150, 160, 170, 180, 190], \"y\": [3.782277545826766e+28, 4.243461224512427e+28, 5.554352292050646e+28, 7.296516207827884e+28, 7.505288137486274e+28, 7.588378949135266e+28, 7.761055564577536e+28, 8.114979162953544e+28, 8.2257700424737e+28, 8.34045425567324e+28, 8.4012442186738e+28, 8.439838749396881e+28, 8.573911774012036e+28, 8.678028786187654e+28, 8.68904140309881e+28, 8.802025469717717e+28, 8.819323017759922e+28, 8.819320299057006e+28, 8.867822113542577e+28]}, {\"name\": \"Random Search: Average Pareto Volume vs. Iteration\", \"type\": \"scatter\", \"x\": [10, 20, 30, 40, 50, 60, 70, 80, 90, 100, 110, 120, 130, 140, 150, 160, 170, 180, 190], \"y\": [4.638207003197431e+27, 8.421370727843991e+27, 1.4653899105679262e+28, 1.8532396431137674e+28, 2.534120909154592e+28, 2.925359915889117e+28, 3.0171270740893833e+28, 3.870654443943665e+28, 4.499221884435526e+28, 4.499351067725514e+28, 4.983093693324612e+28, 5.1110221416228124e+28, 5.39298569257736e+28, 5.542945900771974e+28, 5.589534775088396e+28, 5.589956269722926e+28, 5.590307144183719e+28, 5.5921765165125105e+28, 5.592015434303628e+28]}, {\"marker\": {\"color\": \"LightSkyBlue\"}, \"name\": \"Guided Run 0\", \"type\": \"scatter\", \"x\": [10, 20, 30, 40, 50, 60, 70, 80, 90, 100, 110, 120, 130, 140, 150, 160, 170, 180, 190], \"y\": [3.782277545826766e+28, 8.394114332683374e+28, 8.394114332683374e+28, 8.394114332683374e+28, 8.394114332683374e+28, 8.394114332683374e+28, 9.011639032939398e+28, 9.011639032939398e+28, 9.011639032939398e+28, 9.011639032939398e+28, 9.011639032939398e+28, 9.011639032939398e+28, 9.011639032939398e+28, 9.011639032939398e+28, 9.011639032939398e+28, 9.011639032939398e+28, 9.011639032939398e+28, 9.011639032939398e+28, 9.011639032939398e+28]}, {\"marker\": {\"color\": \"LightSkyBlue\"}, \"name\": \"Guided Run 1\", \"type\": \"scatter\", \"x\": [10, 20, 30, 40, 50, 60, 70, 80, 90, 100, 110, 120, 130, 140, 150, 160, 170, 180, 190], \"y\": [3.782277545826766e+28, 3.782277545826766e+28, 3.782277545826766e+28, 6.639986799787536e+28, 8.106610649427108e+28, 8.106610649427108e+28, 8.106610649427108e+28, 8.969477866250521e+28, 8.969477866250521e+28, 8.969477866250521e+28, 8.969477866250521e+28, 8.969477866250521e+28, 8.969477866250521e+28, 8.973981512200508e+28, 9.08408955662595e+28, 9.08408955662595e+28, 9.08408955662595e+28, 9.08408955662595e+28, 9.08408955662595e+28]}, {\"marker\": {\"color\": \"LightSkyBlue\"}, \"name\": \"Guided Run 2\", \"type\": \"scatter\", \"x\": [10, 20, 30, 40, 50, 60, 70, 80, 90, 100, 110, 120, 130, 140, 150, 160, 170, 180, 190], \"y\": [3.782277545826766e+28, 3.782277545826766e+28, 7.200194258638908e+28, 8.053577196601777e+28, 8.053577196601777e+28, 8.053577196601777e+28, 8.053577196601777e+28, 8.053577196601777e+28, 8.563098769299196e+28, 8.563098769299196e+28, 8.563098769299196e+28, 8.563098769299196e+28, 9.005840486145096e+28, 9.062288684001804e+28, 9.06230680868792e+28, 9.06230680868792e+28, 9.062288684001804e+28, 9.06226149697263e+28, 9.06226149697263e+28]}, {\"marker\": {\"color\": \"LightSkyBlue\"}, \"name\": \"Guided Run 3\", \"type\": \"scatter\", \"x\": [10, 20, 30, 40, 50, 60, 70, 80, 90, 100, 110, 120, 130, 140, 150, 160, 170, 180, 190], \"y\": [3.782277545826766e+28, 3.782277545826766e+28, 5.09742875331232e+28, 5.772948234958412e+28, 5.772948234958412e+28, 5.772948234958412e+28, 5.772948234958412e+28, 5.772948234958412e+28, 5.772948234958412e+28, 5.772948234958412e+28, 5.772948234958412e+28, 5.995264815278893e+28, 5.99530081256985e+28, 6.975519090519346e+28, 6.975519090519346e+28, 6.975519090519346e+28, 6.975519090519346e+28, 6.975519090519346e+28, 6.975519090519346e+28]}, {\"marker\": {\"color\": \"LightSkyBlue\"}, \"name\": \"Guided Run 4\", \"type\": \"scatter\", \"x\": [10, 20, 30, 40, 50, 60, 70, 80, 90, 100, 110, 120, 130, 140, 150, 160, 170, 180, 190], \"y\": [3.782277545826766e+28, 3.782277545826766e+28, 5.294477269459012e+28, 7.1051908881676e+28, 7.1051908881676e+28, 7.1051908881676e+28, 7.1051908881676e+28, 7.1051908881676e+28, 7.1051908881676e+28, 7.1051908881676e+28, 7.1051908881676e+28, 7.1051908881676e+28, 7.835649767533931e+28, 7.835649767533931e+28, 7.835649767533931e+28, 7.835649767533931e+28, 7.835649767533931e+28, 7.835649767533931e+28, 8.320667912389631e+28]}, {\"marker\": {\"color\": \"LightSkyBlue\"}, \"name\": \"Guided Run 5\", \"type\": \"scatter\", \"x\": [10, 20, 30, 40, 50, 60, 70, 80, 90, 100, 110, 120, 130, 140, 150, 160, 170, 180, 190], \"y\": [3.782277545826766e+28, 3.782277545826766e+28, 5.313947326823321e+28, 7.501164526829728e+28, 7.501164526829728e+28, 7.501164526829728e+28, 8.610405980996388e+28, 8.610405980996388e+28, 9.067612982728612e+28, 9.211124160195564e+28, 9.211124160195564e+28, 9.374752887105898e+28, 9.374752887105898e+28, 9.374752887105898e+28, 9.374752887105898e+28, 9.374752887105898e+28, 9.374752887105898e+28, 9.374752887105898e+28, 9.374752887105898e+28]}, {\"marker\": {\"color\": \"LightSkyBlue\"}, \"name\": \"Guided Run 6\", \"type\": \"scatter\", \"x\": [10, 20, 30, 40, 50, 60, 70, 80, 90, 100, 110, 120, 130, 140, 150, 160, 170, 180, 190], \"y\": [3.782277545826766e+28, 3.782277545826766e+28, 5.772948234958412e+28, 8.774100415022232e+28, 8.774100415022232e+28, 8.774100415022232e+28, 8.774100415022232e+28, 8.774100415022232e+28, 8.774100415022232e+28, 9.083116046123543e+28, 9.083116046123543e+28, 9.083116046123543e+28, 9.083116046123543e+28, 9.083116046123543e+28, 9.083116046123543e+28, 9.083116046123543e+28, 9.256109651231716e+28, 9.256109651231716e+28, 9.256109651231716e+28]}, {\"marker\": {\"color\": \"LightSkyBlue\"}, \"name\": \"Guided Run 7\", \"type\": \"scatter\", \"x\": [10, 20, 30, 40, 50, 60, 70, 80, 90, 100, 110, 120, 130, 140, 150, 160, 170, 180, 190], \"y\": [3.782277545826766e+28, 3.782277545826766e+28, 7.1098542159408105e+28, 8.335659226084027e+28, 8.956754673028363e+28, 8.956754673028363e+28, 8.956754673028363e+28, 8.956754673028363e+28, 9.067612982728612e+28, 9.211124160195564e+28, 9.211124160195564e+28, 9.211124160195564e+28, 9.211124160195564e+28, 9.211124160195564e+28, 9.211124160195564e+28, 9.211124160195564e+28, 9.211124160195564e+28, 9.211124160195564e+28, 9.211124160195564e+28]}, {\"marker\": {\"color\": \"LightSkyBlue\"}, \"name\": \"Guided Run 8\", \"type\": \"scatter\", \"x\": [10, 20, 30, 40, 50, 60, 70, 80, 90, 100, 110, 120, 130, 140, 150, 160, 170, 180, 190], \"y\": [3.782277545826766e+28, 3.782277545826766e+28, 3.782277545826766e+28, 3.782277545826766e+28, 3.782277545826766e+28, 4.0120693401765285e+28, 4.0120693401765285e+28, 6.6884381071132215e+28, 6.718760018184892e+28, 7.269564164145069e+28, 7.877463794150662e+28, 7.877463794150662e+28, 7.877463794150662e+28, 7.877463794150662e+28, 7.877463794150662e+28, 9.007304460339743e+28, 9.007304460339743e+28, 9.007304460339743e+28, 9.007304460339743e+28]}, {\"marker\": {\"color\": \"LightSkyBlue\"}, \"name\": \"Guided Run 9\", \"type\": \"scatter\", \"x\": [10, 20, 30, 40, 50, 60, 70, 80, 90, 100, 110, 120, 130, 140, 150, 160, 170, 180, 190], \"y\": [3.782277545826766e+28, 3.782277545826766e+28, 3.796003437036765e+28, 8.606142912317379e+28, 8.606142912317379e+28, 9.207259234457533e+28, 9.207259234457533e+28, 9.207259234457533e+28, 9.207259234457533e+28, 9.207259234457533e+28, 9.207259234457533e+28, 9.207259234457533e+28, 9.374752887105898e+28, 9.374752887105898e+28, 9.374752887105898e+28, 9.374752887105898e+28, 9.374752887105898e+28, 9.374752887105898e+28, 9.374752887105898e+28]}, {\"marker\": {\"color\": \"IndianRed\"}, \"name\": \"Random Run 0\", \"type\": \"scatter\", \"x\": [10, 20, 30, 40, 50, 60, 70, 80, 90, 100, 110, 120, 130, 140, 150, 160, 170, 180, 190], \"y\": [4.724314648030382e+27, 5.438245577531868e+27, 5.443846764400201e+27, 1.1798584534190436e+28, 3.168412086892658e+28, 3.168412086892658e+28, 3.168412086892658e+28, 5.992761055824704e+28, 5.992761055824704e+28, 5.992761055824704e+28, 5.992761055824704e+28, 5.992761055824704e+28, 5.992761055824704e+28, 5.992761055824704e+28, 5.992761055824704e+28, 5.992761055824704e+28, 5.992761055824704e+28, 5.992761055824704e+28, 5.992761055824704e+28]}, {\"marker\": {\"color\": \"IndianRed\"}, \"name\": \"Random Run 1\", \"type\": \"scatter\", \"x\": [10, 20, 30, 40, 50, 60, 70, 80, 90, 100, 110, 120, 130, 140, 150, 160, 170, 180, 190], \"y\": [1.998718616510986e+27, 4.8432288597151575e+27, 7.810048336430612e+27, 2.303693378417306e+28, 6.8919630004773615e+28, 6.8919630004773615e+28, 6.8919630004773615e+28, 6.8919630004773615e+28, 6.8919630004773615e+28, 6.8919630004773615e+28, 6.8919630004773615e+28, 6.8919630004773615e+28, 6.8919630004773615e+28, 6.8919630004773615e+28, 6.8919630004773615e+28, 6.8919630004773615e+28, 6.8919630004773615e+28, 6.8919630004773615e+28, 6.8919630004773615e+28]}, {\"marker\": {\"color\": \"IndianRed\"}, \"name\": \"Random Run 2\", \"type\": \"scatter\", \"x\": [10, 20, 30, 40, 50, 60, 70, 80, 90, 100, 110, 120, 130, 140, 150, 160, 170, 180, 190], \"y\": [2.984138267841974e+27, 2.9877322337191653e+27, 2.386811913224461e+28, 3.142820660687339e+28, 3.1426684834844415e+28, 3.1709564618132334e+28, 3.170677671900993e+28, 3.1708443049519873e+28, 4.530191956733599e+28, 4.530191956733599e+28, 4.530191956733599e+28, 4.530191956733599e+28, 7.353336513616912e+28, 7.353336513616912e+28, 7.353336513616912e+28, 7.353336513616912e+28, 7.353336513616912e+28, 7.353336513616912e+28, 7.353336513616912e+28]}, {\"marker\": {\"color\": \"IndianRed\"}, \"name\": \"Random Run 3\", \"type\": \"scatter\", \"x\": [10, 20, 30, 40, 50, 60, 70, 80, 90, 100, 110, 120, 130, 140, 150, 160, 170, 180, 190], \"y\": [1.5738765374715795e+26, 3.99966188904449e+27, 3.297158303012728e+28, 3.2987147756093965e+28, 3.296914150448545e+28, 3.296924323472053e+28, 3.298538443201931e+28, 3.297707646282141e+28, 3.296741209048915e+28, 3.2978873696974427e+28, 3.297948407838488e+28, 3.6539519055526985e+28, 3.653860575496749e+28, 3.6519007847128164e+28, 3.6523612404115657e+28, 3.652250883260625e+28, 3.6531641838201283e+28, 3.651063592533272e+28, 3.653027188736203e+28]}, {\"marker\": {\"color\": \"IndianRed\"}, \"name\": \"Random Run 4\", \"type\": \"scatter\", \"x\": [10, 20, 30, 40, 50, 60, 70, 80, 90, 100, 110, 120, 130, 140, 150, 160, 170, 180, 190], \"y\": [6.566597188566374e+27, 6.669182799181545e+27, 6.666742197930343e+27, 7.319996477896711e+27, 7.322487224217253e+27, 9.923224829087583e+27, 9.934304126206153e+27, 4.745218001375359e+28, 4.745218001375359e+28, 4.745218001375359e+28, 4.745218001375359e+28, 4.745218001375359e+28, 4.745218001375359e+28, 4.745218001375359e+28, 4.745218001375359e+28, 4.745218001375359e+28, 4.745218001375359e+28, 4.745218001375359e+28, 4.745218001375359e+28]}, {\"marker\": {\"color\": \"IndianRed\"}, \"name\": \"Random Run 5\", \"type\": \"scatter\", \"x\": [10, 20, 30, 40, 50, 60, 70, 80, 90, 100, 110, 120, 130, 140, 150, 160, 170, 180, 190], \"y\": [1.405044988395173e+27, 4.614121244425343e+27, 7.84318867442212e+27, 1.231640696447552e+28, 1.4652026216747285e+28, 1.5538845260758576e+28, 1.5542374729419073e+28, 3.5134718986289306e+28, 3.5134718986289306e+28, 3.5134718986289306e+28, 3.5134718986289306e+28, 3.5134718986289306e+28, 3.5134718986289306e+28, 5.013304977300254e+28, 5.013885076883588e+28, 5.012988559345708e+28, 5.014338609285105e+28, 5.012730151349495e+28, 5.012097315440403e+28]}, {\"marker\": {\"color\": \"IndianRed\"}, \"name\": \"Random Run 6\", \"type\": \"scatter\", \"x\": [10, 20, 30, 40, 50, 60, 70, 80, 90, 100, 110, 120, 130, 140, 150, 160, 170, 180, 190], \"y\": [8.25715873955494e+27, 1.797468586280518e+28, 2.228716216456004e+28, 2.2282798711412336e+28, 2.2284313485302992e+28, 2.6552728543092807e+28, 2.88484109846217e+28, 2.88484109846217e+28, 2.88484109846217e+28, 2.88484109846217e+28, 2.88484109846217e+28, 3.8065157856341108e+28, 3.805219697577813e+28, 3.805950722853469e+28, 3.8243709188767073e+28, 3.831144456167321e+28, 3.83151513763756e+28, 3.851779058010633e+28, 3.8526957971305795e+28]}, {\"marker\": {\"color\": \"IndianRed\"}, \"name\": \"Random Run 7\", \"type\": \"scatter\", \"x\": [10, 20, 30, 40, 50, 60, 70, 80, 90, 100, 110, 120, 130, 140, 150, 160, 170, 180, 190], \"y\": [7.712939641886575e+27, 2.0904097944545593e+28, 2.090401014964323e+28, 2.0902693226107817e+28, 2.090774143299358e+28, 2.090774143299358e+28, 2.399647142822868e+28, 2.399702516165597e+28, 2.399789187484651e+28, 2.3995291735274884e+28, 7.235479971893706e+28, 7.235479971893706e+28, 7.235479971893706e+28, 7.235479971893706e+28, 7.235479971893706e+28, 7.235479971893706e+28, 7.235479971893706e+28, 7.235479971893706e+28, 7.235479971893706e+28]}, {\"marker\": {\"color\": \"IndianRed\"}, \"name\": \"Random Run 8\", \"type\": \"scatter\", \"x\": [10, 20, 30, 40, 50, 60, 70, 80, 90, 100, 110, 120, 130, 140, 150, 160, 170, 180, 190], \"y\": [2.9179068152827153e+27, 7.124887395313533e+27, 7.586852704002916e+27, 1.006674990773495e+28, 1.0066269983974653e+28, 4.1061254975590685e+28, 4.1061254975590685e+28, 4.1061254975590685e+28, 5.284435658565745e+28, 5.284841344774254e+28, 5.286255764257976e+28, 5.28786206235383e+28, 5.2857404331282475e+28, 5.286738201911338e+28, 5.733166193770225e+28, 5.731614477513736e+28, 5.7324891901525285e+28, 5.73462804228985e+28, 5.730769720787231e+28]}, {\"marker\": {\"color\": \"IndianRed\"}, \"name\": \"Random Run 9\", \"type\": \"scatter\", \"x\": [10, 20, 30, 40, 50, 60, 70, 80, 90, 100, 110, 120, 130, 140, 150, 160, 170, 180, 190], \"y\": [9.657863472158035e+27, 9.657863472158035e+27, 1.1157437903031256e+28, 1.3184446342418557e+28, 1.3179675359193453e+28, 1.326963782083542e+28, 1.7033979140142588e+28, 1.7039094197093356e+28, 5.4528057777538295e+28, 5.4528057777538295e+28, 5.4528057777538295e+28, 5.4528057777538295e+28, 5.4528057777538295e+28, 5.4528057777538295e+28, 5.4528057777538295e+28, 5.4528057777538295e+28, 5.4528057777538295e+28, 5.4528057777538295e+28, 5.4528057777538295e+28]}],                        {\"template\": {\"data\": {\"bar\": [{\"error_x\": {\"color\": \"#2a3f5f\"}, \"error_y\": {\"color\": \"#2a3f5f\"}, \"marker\": {\"line\": {\"color\": \"#E5ECF6\", \"width\": 0.5}}, \"type\": \"bar\"}], \"barpolar\": [{\"marker\": {\"line\": {\"color\": \"#E5ECF6\", \"width\": 0.5}}, \"type\": \"barpolar\"}], \"carpet\": [{\"aaxis\": {\"endlinecolor\": \"#2a3f5f\", \"gridcolor\": \"white\", \"linecolor\": \"white\", \"minorgridcolor\": \"white\", \"startlinecolor\": \"#2a3f5f\"}, \"baxis\": {\"endlinecolor\": \"#2a3f5f\", \"gridcolor\": \"white\", \"linecolor\": \"white\", \"minorgridcolor\": \"white\", \"startlinecolor\": \"#2a3f5f\"}, \"type\": \"carpet\"}], \"choropleth\": [{\"colorbar\": {\"outlinewidth\": 0, \"ticks\": \"\"}, \"type\": \"choropleth\"}], \"contour\": [{\"colorbar\": {\"outlinewidth\": 0, \"ticks\": \"\"}, \"colorscale\": [[0.0, \"#0d0887\"], [0.1111111111111111, \"#46039f\"], [0.2222222222222222, \"#7201a8\"], [0.3333333333333333, \"#9c179e\"], [0.4444444444444444, \"#bd3786\"], [0.5555555555555556, \"#d8576b\"], [0.6666666666666666, \"#ed7953\"], [0.7777777777777778, \"#fb9f3a\"], [0.8888888888888888, \"#fdca26\"], [1.0, \"#f0f921\"]], \"type\": \"contour\"}], \"contourcarpet\": [{\"colorbar\": {\"outlinewidth\": 0, \"ticks\": \"\"}, \"type\": \"contourcarpet\"}], \"heatmap\": [{\"colorbar\": {\"outlinewidth\": 0, \"ticks\": \"\"}, \"colorscale\": [[0.0, \"#0d0887\"], [0.1111111111111111, \"#46039f\"], [0.2222222222222222, \"#7201a8\"], [0.3333333333333333, \"#9c179e\"], [0.4444444444444444, \"#bd3786\"], [0.5555555555555556, \"#d8576b\"], [0.6666666666666666, \"#ed7953\"], [0.7777777777777778, \"#fb9f3a\"], [0.8888888888888888, \"#fdca26\"], [1.0, \"#f0f921\"]], \"type\": \"heatmap\"}], \"heatmapgl\": [{\"colorbar\": {\"outlinewidth\": 0, \"ticks\": \"\"}, \"colorscale\": [[0.0, \"#0d0887\"], [0.1111111111111111, \"#46039f\"], [0.2222222222222222, \"#7201a8\"], [0.3333333333333333, \"#9c179e\"], [0.4444444444444444, \"#bd3786\"], [0.5555555555555556, \"#d8576b\"], [0.6666666666666666, \"#ed7953\"], [0.7777777777777778, \"#fb9f3a\"], [0.8888888888888888, \"#fdca26\"], [1.0, \"#f0f921\"]], \"type\": \"heatmapgl\"}], \"histogram\": [{\"marker\": {\"colorbar\": {\"outlinewidth\": 0, \"ticks\": \"\"}}, \"type\": \"histogram\"}], \"histogram2d\": [{\"colorbar\": {\"outlinewidth\": 0, \"ticks\": \"\"}, \"colorscale\": [[0.0, \"#0d0887\"], [0.1111111111111111, \"#46039f\"], [0.2222222222222222, \"#7201a8\"], [0.3333333333333333, \"#9c179e\"], [0.4444444444444444, \"#bd3786\"], [0.5555555555555556, \"#d8576b\"], [0.6666666666666666, \"#ed7953\"], [0.7777777777777778, \"#fb9f3a\"], [0.8888888888888888, \"#fdca26\"], [1.0, \"#f0f921\"]], \"type\": \"histogram2d\"}], \"histogram2dcontour\": [{\"colorbar\": {\"outlinewidth\": 0, \"ticks\": \"\"}, \"colorscale\": [[0.0, \"#0d0887\"], [0.1111111111111111, \"#46039f\"], [0.2222222222222222, \"#7201a8\"], [0.3333333333333333, \"#9c179e\"], [0.4444444444444444, \"#bd3786\"], [0.5555555555555556, \"#d8576b\"], [0.6666666666666666, \"#ed7953\"], [0.7777777777777778, \"#fb9f3a\"], [0.8888888888888888, \"#fdca26\"], [1.0, \"#f0f921\"]], \"type\": \"histogram2dcontour\"}], \"mesh3d\": [{\"colorbar\": {\"outlinewidth\": 0, \"ticks\": \"\"}, \"type\": \"mesh3d\"}], \"parcoords\": [{\"line\": {\"colorbar\": {\"outlinewidth\": 0, \"ticks\": \"\"}}, \"type\": \"parcoords\"}], \"pie\": [{\"automargin\": true, \"type\": \"pie\"}], \"scatter\": [{\"marker\": {\"colorbar\": {\"outlinewidth\": 0, \"ticks\": \"\"}}, \"type\": \"scatter\"}], \"scatter3d\": [{\"line\": {\"colorbar\": {\"outlinewidth\": 0, \"ticks\": \"\"}}, \"marker\": {\"colorbar\": {\"outlinewidth\": 0, \"ticks\": \"\"}}, \"type\": \"scatter3d\"}], \"scattercarpet\": [{\"marker\": {\"colorbar\": {\"outlinewidth\": 0, \"ticks\": \"\"}}, \"type\": \"scattercarpet\"}], \"scattergeo\": [{\"marker\": {\"colorbar\": {\"outlinewidth\": 0, \"ticks\": \"\"}}, \"type\": \"scattergeo\"}], \"scattergl\": [{\"marker\": {\"colorbar\": {\"outlinewidth\": 0, \"ticks\": \"\"}}, \"type\": \"scattergl\"}], \"scattermapbox\": [{\"marker\": {\"colorbar\": {\"outlinewidth\": 0, \"ticks\": \"\"}}, \"type\": \"scattermapbox\"}], \"scatterpolar\": [{\"marker\": {\"colorbar\": {\"outlinewidth\": 0, \"ticks\": \"\"}}, \"type\": \"scatterpolar\"}], \"scatterpolargl\": [{\"marker\": {\"colorbar\": {\"outlinewidth\": 0, \"ticks\": \"\"}}, \"type\": \"scatterpolargl\"}], \"scatterternary\": [{\"marker\": {\"colorbar\": {\"outlinewidth\": 0, \"ticks\": \"\"}}, \"type\": \"scatterternary\"}], \"surface\": [{\"colorbar\": {\"outlinewidth\": 0, \"ticks\": \"\"}, \"colorscale\": [[0.0, \"#0d0887\"], [0.1111111111111111, \"#46039f\"], [0.2222222222222222, \"#7201a8\"], [0.3333333333333333, \"#9c179e\"], [0.4444444444444444, \"#bd3786\"], [0.5555555555555556, \"#d8576b\"], [0.6666666666666666, \"#ed7953\"], [0.7777777777777778, \"#fb9f3a\"], [0.8888888888888888, \"#fdca26\"], [1.0, \"#f0f921\"]], \"type\": \"surface\"}], \"table\": [{\"cells\": {\"fill\": {\"color\": \"#EBF0F8\"}, \"line\": {\"color\": \"white\"}}, \"header\": {\"fill\": {\"color\": \"#C8D4E3\"}, \"line\": {\"color\": \"white\"}}, \"type\": \"table\"}]}, \"layout\": {\"annotationdefaults\": {\"arrowcolor\": \"#2a3f5f\", \"arrowhead\": 0, \"arrowwidth\": 1}, \"autotypenumbers\": \"strict\", \"coloraxis\": {\"colorbar\": {\"outlinewidth\": 0, \"ticks\": \"\"}}, \"colorscale\": {\"diverging\": [[0, \"#8e0152\"], [0.1, \"#c51b7d\"], [0.2, \"#de77ae\"], [0.3, \"#f1b6da\"], [0.4, \"#fde0ef\"], [0.5, \"#f7f7f7\"], [0.6, \"#e6f5d0\"], [0.7, \"#b8e186\"], [0.8, \"#7fbc41\"], [0.9, \"#4d9221\"], [1, \"#276419\"]], \"sequential\": [[0.0, \"#0d0887\"], [0.1111111111111111, \"#46039f\"], [0.2222222222222222, \"#7201a8\"], [0.3333333333333333, \"#9c179e\"], [0.4444444444444444, \"#bd3786\"], [0.5555555555555556, \"#d8576b\"], [0.6666666666666666, \"#ed7953\"], [0.7777777777777778, \"#fb9f3a\"], [0.8888888888888888, \"#fdca26\"], [1.0, \"#f0f921\"]], \"sequentialminus\": [[0.0, \"#0d0887\"], [0.1111111111111111, \"#46039f\"], [0.2222222222222222, \"#7201a8\"], [0.3333333333333333, \"#9c179e\"], [0.4444444444444444, \"#bd3786\"], [0.5555555555555556, \"#d8576b\"], [0.6666666666666666, \"#ed7953\"], [0.7777777777777778, \"#fb9f3a\"], [0.8888888888888888, \"#fdca26\"], [1.0, \"#f0f921\"]]}, \"colorway\": [\"#636efa\", \"#EF553B\", \"#00cc96\", \"#ab63fa\", \"#FFA15A\", \"#19d3f3\", \"#FF6692\", \"#B6E880\", \"#FF97FF\", \"#FECB52\"], \"font\": {\"color\": \"#2a3f5f\"}, \"geo\": {\"bgcolor\": \"white\", \"lakecolor\": \"white\", \"landcolor\": \"#E5ECF6\", \"showlakes\": true, \"showland\": true, \"subunitcolor\": \"white\"}, \"hoverlabel\": {\"align\": \"left\"}, \"hovermode\": \"closest\", \"mapbox\": {\"style\": \"light\"}, \"paper_bgcolor\": \"white\", \"plot_bgcolor\": \"#E5ECF6\", \"polar\": {\"angularaxis\": {\"gridcolor\": \"white\", \"linecolor\": \"white\", \"ticks\": \"\"}, \"bgcolor\": \"#E5ECF6\", \"radialaxis\": {\"gridcolor\": \"white\", \"linecolor\": \"white\", \"ticks\": \"\"}}, \"scene\": {\"xaxis\": {\"backgroundcolor\": \"#E5ECF6\", \"gridcolor\": \"white\", \"gridwidth\": 2, \"linecolor\": \"white\", \"showbackground\": true, \"ticks\": \"\", \"zerolinecolor\": \"white\"}, \"yaxis\": {\"backgroundcolor\": \"#E5ECF6\", \"gridcolor\": \"white\", \"gridwidth\": 2, \"linecolor\": \"white\", \"showbackground\": true, \"ticks\": \"\", \"zerolinecolor\": \"white\"}, \"zaxis\": {\"backgroundcolor\": \"#E5ECF6\", \"gridcolor\": \"white\", \"gridwidth\": 2, \"linecolor\": \"white\", \"showbackground\": true, \"ticks\": \"\", \"zerolinecolor\": \"white\"}}, \"shapedefaults\": {\"line\": {\"color\": \"#2a3f5f\"}}, \"ternary\": {\"aaxis\": {\"gridcolor\": \"white\", \"linecolor\": \"white\", \"ticks\": \"\"}, \"baxis\": {\"gridcolor\": \"white\", \"linecolor\": \"white\", \"ticks\": \"\"}, \"bgcolor\": \"#E5ECF6\", \"caxis\": {\"gridcolor\": \"white\", \"linecolor\": \"white\", \"ticks\": \"\"}}, \"title\": {\"x\": 0.05}, \"xaxis\": {\"automargin\": true, \"gridcolor\": \"white\", \"linecolor\": \"white\", \"ticks\": \"\", \"title\": {\"standoff\": 15}, \"zerolinecolor\": \"white\", \"zerolinewidth\": 2}, \"yaxis\": {\"automargin\": true, \"gridcolor\": \"white\", \"linecolor\": \"white\", \"ticks\": \"\", \"title\": {\"standoff\": 15}, \"zerolinecolor\": \"white\", \"zerolinewidth\": 2}}}},                        {\"responsive\": true}                    ).then(function(){\n",
       "                            \n",
       "var gd = document.getElementById('d5101657-5da5-4067-b3cb-200bc12685a2');\n",
       "var x = new MutationObserver(function (mutations, observer) {{\n",
       "        var display = window.getComputedStyle(gd).display;\n",
       "        if (!display || display === 'none') {{\n",
       "            console.log([gd, 'removed!']);\n",
       "            Plotly.purge(gd);\n",
       "            observer.disconnect();\n",
       "        }}\n",
       "}});\n",
       "\n",
       "// Listen for the removal of the full notebook cells\n",
       "var notebookContainer = gd.closest('#notebook-container');\n",
       "if (notebookContainer) {{\n",
       "    x.observe(notebookContainer, {childList: true});\n",
       "}}\n",
       "\n",
       "// Listen for the clearing of the current output cell\n",
       "var outputEl = gd.closest('.output');\n",
       "if (outputEl) {{\n",
       "    x.observe(outputEl, {childList: true});\n",
       "}}\n",
       "\n",
       "                        })                };                });            </script>        </div>"
      ]
     },
     "metadata": {},
     "output_type": "display_data"
    }
   ],
   "source": [
    "import plotly.graph_objs as go\n",
    "fig = go.Figure()\n",
    "fig.add_trace(go.Scatter(\n",
    "    x=[i for i in range(10, num_iterations_per_run, 10)],\n",
    "    y=average_pareto_volume_by_iteration,\n",
    "    name='Guided Optimization: Average Pareto Volume vs. Iteration'\n",
    "))\n",
    "\n",
    "fig.add_trace(go.Scatter(\n",
    "    x=[i for i in range(10, num_iterations_per_run, 10)],\n",
    "    y=average_random_pareto_volume_by_iteration,\n",
    "    name='Random Search: Average Pareto Volume vs. Iteration'\n",
    "))\n",
    "\n",
    "for run_id, guided_pareto_volume in enumerate(pareto_volumes_per_run_over_time):\n",
    "    fig.add_trace(go.Scatter(\n",
    "    x=[i for i in range(10, num_iterations_per_run, 10)],\n",
    "    y=guided_pareto_volume,\n",
    "    name=f'Guided Run {run_id}',\n",
    "    marker={\"color\":\"LightSkyBlue\"}\n",
    "))\n",
    "\n",
    "for run_id, guided_pareto_volume in enumerate(pareto_volumes_per_random_run_over_time):\n",
    "    fig.add_trace(go.Scatter(\n",
    "    x=[i for i in range(10, num_iterations_per_run, 10)],\n",
    "    y=guided_pareto_volume,\n",
    "    name=f'Random Run {run_id}',\n",
    "    marker={\"color\":\"IndianRed\"}\n",
    "))\n",
    "    \n",
    "fig.show()"
   ]
  },
  {
   "cell_type": "code",
   "execution_count": 18,
   "metadata": {
    "scrolled": false
   },
   "outputs": [
    {
     "data": {
      "text/html": [
       "<div>\n",
       "<style scoped>\n",
       "    .dataframe tbody tr th:only-of-type {\n",
       "        vertical-align: middle;\n",
       "    }\n",
       "\n",
       "    .dataframe tbody tr th {\n",
       "        vertical-align: top;\n",
       "    }\n",
       "\n",
       "    .dataframe thead th {\n",
       "        text-align: right;\n",
       "    }\n",
       "</style>\n",
       "<table border=\"1\" class=\"dataframe\">\n",
       "  <thead>\n",
       "    <tr style=\"text-align: right;\">\n",
       "      <th></th>\n",
       "      <th>polynomial_id</th>\n",
       "      <th>domain_1.x_0</th>\n",
       "      <th>domain_1.x_1</th>\n",
       "      <th>domain_0.x_0</th>\n",
       "      <th>domain_0.x_1</th>\n",
       "    </tr>\n",
       "  </thead>\n",
       "  <tbody>\n",
       "    <tr>\n",
       "      <th>0</th>\n",
       "      <td>1</td>\n",
       "      <td>96.477118</td>\n",
       "      <td>-328.781789</td>\n",
       "      <td>NaN</td>\n",
       "      <td>NaN</td>\n",
       "    </tr>\n",
       "    <tr>\n",
       "      <th>1</th>\n",
       "      <td>1</td>\n",
       "      <td>-224.662940</td>\n",
       "      <td>-949.081050</td>\n",
       "      <td>NaN</td>\n",
       "      <td>NaN</td>\n",
       "    </tr>\n",
       "    <tr>\n",
       "      <th>2</th>\n",
       "      <td>0</td>\n",
       "      <td>NaN</td>\n",
       "      <td>NaN</td>\n",
       "      <td>154.794425</td>\n",
       "      <td>-196.518613</td>\n",
       "    </tr>\n",
       "    <tr>\n",
       "      <th>3</th>\n",
       "      <td>0</td>\n",
       "      <td>NaN</td>\n",
       "      <td>NaN</td>\n",
       "      <td>-919.034475</td>\n",
       "      <td>-869.445477</td>\n",
       "    </tr>\n",
       "    <tr>\n",
       "      <th>4</th>\n",
       "      <td>0</td>\n",
       "      <td>NaN</td>\n",
       "      <td>NaN</td>\n",
       "      <td>-738.772247</td>\n",
       "      <td>809.065332</td>\n",
       "    </tr>\n",
       "    <tr>\n",
       "      <th>5</th>\n",
       "      <td>0</td>\n",
       "      <td>NaN</td>\n",
       "      <td>NaN</td>\n",
       "      <td>360.898655</td>\n",
       "      <td>-415.077689</td>\n",
       "    </tr>\n",
       "    <tr>\n",
       "      <th>6</th>\n",
       "      <td>0</td>\n",
       "      <td>NaN</td>\n",
       "      <td>NaN</td>\n",
       "      <td>-182.827015</td>\n",
       "      <td>102.530495</td>\n",
       "    </tr>\n",
       "    <tr>\n",
       "      <th>7</th>\n",
       "      <td>0</td>\n",
       "      <td>NaN</td>\n",
       "      <td>NaN</td>\n",
       "      <td>-931.113814</td>\n",
       "      <td>-711.309303</td>\n",
       "    </tr>\n",
       "    <tr>\n",
       "      <th>8</th>\n",
       "      <td>0</td>\n",
       "      <td>NaN</td>\n",
       "      <td>NaN</td>\n",
       "      <td>-451.121560</td>\n",
       "      <td>-949.100606</td>\n",
       "    </tr>\n",
       "    <tr>\n",
       "      <th>9</th>\n",
       "      <td>1</td>\n",
       "      <td>-998.885189</td>\n",
       "      <td>-392.468821</td>\n",
       "      <td>NaN</td>\n",
       "      <td>NaN</td>\n",
       "    </tr>\n",
       "    <tr>\n",
       "      <th>10</th>\n",
       "      <td>1</td>\n",
       "      <td>-805.946200</td>\n",
       "      <td>882.568317</td>\n",
       "      <td>NaN</td>\n",
       "      <td>NaN</td>\n",
       "    </tr>\n",
       "    <tr>\n",
       "      <th>11</th>\n",
       "      <td>0</td>\n",
       "      <td>NaN</td>\n",
       "      <td>NaN</td>\n",
       "      <td>135.809864</td>\n",
       "      <td>327.937079</td>\n",
       "    </tr>\n",
       "    <tr>\n",
       "      <th>12</th>\n",
       "      <td>1</td>\n",
       "      <td>-121.952584</td>\n",
       "      <td>108.882666</td>\n",
       "      <td>NaN</td>\n",
       "      <td>NaN</td>\n",
       "    </tr>\n",
       "    <tr>\n",
       "      <th>13</th>\n",
       "      <td>1</td>\n",
       "      <td>-215.167043</td>\n",
       "      <td>-328.128221</td>\n",
       "      <td>NaN</td>\n",
       "      <td>NaN</td>\n",
       "    </tr>\n",
       "    <tr>\n",
       "      <th>14</th>\n",
       "      <td>0</td>\n",
       "      <td>NaN</td>\n",
       "      <td>NaN</td>\n",
       "      <td>767.302140</td>\n",
       "      <td>261.596049</td>\n",
       "    </tr>\n",
       "    <tr>\n",
       "      <th>15</th>\n",
       "      <td>1</td>\n",
       "      <td>-385.376628</td>\n",
       "      <td>-649.760966</td>\n",
       "      <td>NaN</td>\n",
       "      <td>NaN</td>\n",
       "    </tr>\n",
       "    <tr>\n",
       "      <th>16</th>\n",
       "      <td>1</td>\n",
       "      <td>923.923679</td>\n",
       "      <td>-542.026403</td>\n",
       "      <td>NaN</td>\n",
       "      <td>NaN</td>\n",
       "    </tr>\n",
       "    <tr>\n",
       "      <th>17</th>\n",
       "      <td>0</td>\n",
       "      <td>NaN</td>\n",
       "      <td>NaN</td>\n",
       "      <td>618.136746</td>\n",
       "      <td>857.753656</td>\n",
       "    </tr>\n",
       "    <tr>\n",
       "      <th>18</th>\n",
       "      <td>0</td>\n",
       "      <td>NaN</td>\n",
       "      <td>NaN</td>\n",
       "      <td>-540.148267</td>\n",
       "      <td>284.388485</td>\n",
       "    </tr>\n",
       "    <tr>\n",
       "      <th>19</th>\n",
       "      <td>0</td>\n",
       "      <td>NaN</td>\n",
       "      <td>NaN</td>\n",
       "      <td>-292.167609</td>\n",
       "      <td>-171.110204</td>\n",
       "    </tr>\n",
       "  </tbody>\n",
       "</table>\n",
       "</div>"
      ],
      "text/plain": [
       "    polynomial_id  domain_1.x_0  domain_1.x_1  domain_0.x_0  domain_0.x_1\n",
       "0               1     96.477118   -328.781789           NaN           NaN\n",
       "1               1   -224.662940   -949.081050           NaN           NaN\n",
       "2               0           NaN           NaN    154.794425   -196.518613\n",
       "3               0           NaN           NaN   -919.034475   -869.445477\n",
       "4               0           NaN           NaN   -738.772247    809.065332\n",
       "5               0           NaN           NaN    360.898655   -415.077689\n",
       "6               0           NaN           NaN   -182.827015    102.530495\n",
       "7               0           NaN           NaN   -931.113814   -711.309303\n",
       "8               0           NaN           NaN   -451.121560   -949.100606\n",
       "9               1   -998.885189   -392.468821           NaN           NaN\n",
       "10              1   -805.946200    882.568317           NaN           NaN\n",
       "11              0           NaN           NaN    135.809864    327.937079\n",
       "12              1   -121.952584    108.882666           NaN           NaN\n",
       "13              1   -215.167043   -328.128221           NaN           NaN\n",
       "14              0           NaN           NaN    767.302140    261.596049\n",
       "15              1   -385.376628   -649.760966           NaN           NaN\n",
       "16              1    923.923679   -542.026403           NaN           NaN\n",
       "17              0           NaN           NaN    618.136746    857.753656\n",
       "18              0           NaN           NaN   -540.148267    284.388485\n",
       "19              0           NaN           NaN   -292.167609   -171.110204"
      ]
     },
     "metadata": {},
     "output_type": "display_data"
    }
   ],
   "source": [
    "import pandas as pd\n",
    "from IPython.display import display\n",
    "params_df = objective_function.parameter_space.random_dataframe(20)\n",
    "with pd.option_context('display.max_rows', None, 'display.max_columns', None):\n",
    "    display(params_df)"
   ]
  },
  {
   "cell_type": "code",
   "execution_count": 19,
   "metadata": {},
   "outputs": [
    {
     "data": {
      "text/html": [
       "<div>\n",
       "<style scoped>\n",
       "    .dataframe tbody tr th:only-of-type {\n",
       "        vertical-align: middle;\n",
       "    }\n",
       "\n",
       "    .dataframe tbody tr th {\n",
       "        vertical-align: top;\n",
       "    }\n",
       "\n",
       "    .dataframe thead th {\n",
       "        text-align: right;\n",
       "    }\n",
       "</style>\n",
       "<table border=\"1\" class=\"dataframe\">\n",
       "  <thead>\n",
       "    <tr style=\"text-align: right;\">\n",
       "      <th></th>\n",
       "      <th>y0</th>\n",
       "      <th>y1</th>\n",
       "      <th>y2</th>\n",
       "      <th>y3</th>\n",
       "    </tr>\n",
       "  </thead>\n",
       "  <tbody>\n",
       "    <tr>\n",
       "      <th>0</th>\n",
       "      <td>-1.253015e+05</td>\n",
       "      <td>-2.217479e+05</td>\n",
       "      <td>-3.922192e+05</td>\n",
       "      <td>-9.566909e+05</td>\n",
       "    </tr>\n",
       "    <tr>\n",
       "      <th>1</th>\n",
       "      <td>-5.594802e+06</td>\n",
       "      <td>-4.852158e+06</td>\n",
       "      <td>-6.022213e+06</td>\n",
       "      <td>-9.038416e+06</td>\n",
       "    </tr>\n",
       "    <tr>\n",
       "      <th>2</th>\n",
       "      <td>-2.554263e+05</td>\n",
       "      <td>-6.506797e+04</td>\n",
       "      <td>1.012965e+05</td>\n",
       "      <td>-4.391467e+05</td>\n",
       "    </tr>\n",
       "    <tr>\n",
       "      <th>3</th>\n",
       "      <td>-1.137471e+07</td>\n",
       "      <td>-1.391799e+07</td>\n",
       "      <td>-7.971767e+06</td>\n",
       "      <td>-1.448815e+07</td>\n",
       "    </tr>\n",
       "    <tr>\n",
       "      <th>4</th>\n",
       "      <td>-5.296291e+06</td>\n",
       "      <td>-7.314693e+05</td>\n",
       "      <td>1.944234e+06</td>\n",
       "      <td>-8.340779e+06</td>\n",
       "    </tr>\n",
       "    <tr>\n",
       "      <th>5</th>\n",
       "      <td>-1.301130e+06</td>\n",
       "      <td>-2.249941e+05</td>\n",
       "      <td>4.924440e+05</td>\n",
       "      <td>-2.108323e+06</td>\n",
       "    </tr>\n",
       "    <tr>\n",
       "      <th>6</th>\n",
       "      <td>-2.692540e+05</td>\n",
       "      <td>1.011498e+04</td>\n",
       "      <td>3.731838e+04</td>\n",
       "      <td>-3.025241e+05</td>\n",
       "    </tr>\n",
       "    <tr>\n",
       "      <th>7</th>\n",
       "      <td>-1.043118e+07</td>\n",
       "      <td>-1.107544e+07</td>\n",
       "      <td>-6.829383e+06</td>\n",
       "      <td>-1.228052e+07</td>\n",
       "    </tr>\n",
       "    <tr>\n",
       "      <th>8</th>\n",
       "      <td>-5.621647e+06</td>\n",
       "      <td>-1.033573e+07</td>\n",
       "      <td>-4.312472e+06</td>\n",
       "      <td>-9.985045e+06</td>\n",
       "    </tr>\n",
       "    <tr>\n",
       "      <th>9</th>\n",
       "      <td>-7.023880e+06</td>\n",
       "      <td>-1.115852e+07</td>\n",
       "      <td>-6.224329e+06</td>\n",
       "      <td>-9.898979e+06</td>\n",
       "    </tr>\n",
       "    <tr>\n",
       "      <th>10</th>\n",
       "      <td>2.217105e+06</td>\n",
       "      <td>-3.007979e+06</td>\n",
       "      <td>-1.808643e+06</td>\n",
       "      <td>-1.000223e+07</td>\n",
       "    </tr>\n",
       "    <tr>\n",
       "      <th>11</th>\n",
       "      <td>-6.088376e+05</td>\n",
       "      <td>-1.168845e+06</td>\n",
       "      <td>-4.609584e+05</td>\n",
       "      <td>-1.136933e+06</td>\n",
       "    </tr>\n",
       "    <tr>\n",
       "      <th>12</th>\n",
       "      <td>4.424301e+04</td>\n",
       "      <td>-6.890406e+04</td>\n",
       "      <td>-2.868563e+04</td>\n",
       "      <td>-1.831309e+05</td>\n",
       "    </tr>\n",
       "    <tr>\n",
       "      <th>13</th>\n",
       "      <td>-1.211553e+06</td>\n",
       "      <td>-1.206515e+06</td>\n",
       "      <td>-1.109831e+06</td>\n",
       "      <td>-1.498747e+06</td>\n",
       "    </tr>\n",
       "    <tr>\n",
       "      <th>14</th>\n",
       "      <td>-5.618717e+06</td>\n",
       "      <td>-3.514544e+06</td>\n",
       "      <td>-2.686848e+06</td>\n",
       "      <td>-5.519693e+06</td>\n",
       "    </tr>\n",
       "    <tr>\n",
       "      <th>15</th>\n",
       "      <td>-4.409218e+06</td>\n",
       "      <td>-4.289983e+06</td>\n",
       "      <td>-4.101142e+06</td>\n",
       "      <td>-5.567509e+06</td>\n",
       "    </tr>\n",
       "    <tr>\n",
       "      <th>16</th>\n",
       "      <td>1.468114e+06</td>\n",
       "      <td>-4.449618e+06</td>\n",
       "      <td>-1.210995e+06</td>\n",
       "      <td>-7.726341e+06</td>\n",
       "    </tr>\n",
       "    <tr>\n",
       "      <th>17</th>\n",
       "      <td>-6.826372e+06</td>\n",
       "      <td>-1.047408e+07</td>\n",
       "      <td>-5.184981e+06</td>\n",
       "      <td>-1.021570e+07</td>\n",
       "    </tr>\n",
       "    <tr>\n",
       "      <th>18</th>\n",
       "      <td>-2.342622e+06</td>\n",
       "      <td>7.713370e+04</td>\n",
       "      <td>2.723734e+05</td>\n",
       "      <td>-2.573970e+06</td>\n",
       "    </tr>\n",
       "    <tr>\n",
       "      <th>19</th>\n",
       "      <td>-9.235709e+05</td>\n",
       "      <td>-8.172464e+05</td>\n",
       "      <td>-5.475412e+05</td>\n",
       "      <td>-1.003167e+06</td>\n",
       "    </tr>\n",
       "  </tbody>\n",
       "</table>\n",
       "</div>"
      ],
      "text/plain": [
       "              y0            y1            y2            y3\n",
       "0  -1.253015e+05 -2.217479e+05 -3.922192e+05 -9.566909e+05\n",
       "1  -5.594802e+06 -4.852158e+06 -6.022213e+06 -9.038416e+06\n",
       "2  -2.554263e+05 -6.506797e+04  1.012965e+05 -4.391467e+05\n",
       "3  -1.137471e+07 -1.391799e+07 -7.971767e+06 -1.448815e+07\n",
       "4  -5.296291e+06 -7.314693e+05  1.944234e+06 -8.340779e+06\n",
       "5  -1.301130e+06 -2.249941e+05  4.924440e+05 -2.108323e+06\n",
       "6  -2.692540e+05  1.011498e+04  3.731838e+04 -3.025241e+05\n",
       "7  -1.043118e+07 -1.107544e+07 -6.829383e+06 -1.228052e+07\n",
       "8  -5.621647e+06 -1.033573e+07 -4.312472e+06 -9.985045e+06\n",
       "9  -7.023880e+06 -1.115852e+07 -6.224329e+06 -9.898979e+06\n",
       "10  2.217105e+06 -3.007979e+06 -1.808643e+06 -1.000223e+07\n",
       "11 -6.088376e+05 -1.168845e+06 -4.609584e+05 -1.136933e+06\n",
       "12  4.424301e+04 -6.890406e+04 -2.868563e+04 -1.831309e+05\n",
       "13 -1.211553e+06 -1.206515e+06 -1.109831e+06 -1.498747e+06\n",
       "14 -5.618717e+06 -3.514544e+06 -2.686848e+06 -5.519693e+06\n",
       "15 -4.409218e+06 -4.289983e+06 -4.101142e+06 -5.567509e+06\n",
       "16  1.468114e+06 -4.449618e+06 -1.210995e+06 -7.726341e+06\n",
       "17 -6.826372e+06 -1.047408e+07 -5.184981e+06 -1.021570e+07\n",
       "18 -2.342622e+06  7.713370e+04  2.723734e+05 -2.573970e+06\n",
       "19 -9.235709e+05 -8.172464e+05 -5.475412e+05 -1.003167e+06"
      ]
     },
     "metadata": {},
     "output_type": "display_data"
    }
   ],
   "source": [
    "objectives_df = objective_function.evaluate_dataframe(params_df)\n",
    "with pd.option_context('display.max_rows', None, 'display.max_columns', None):\n",
    "    display(objectives_df)"
   ]
  },
  {
   "cell_type": "code",
   "execution_count": 20,
   "metadata": {
    "scrolled": true
   },
   "outputs": [
    {
     "name": "stdout",
     "output_type": "stream",
     "text": [
      "y0\n",
      "{\n",
      "  \"last_refit_iteration_number\": 183,\n",
      "  \"observation_count\": 200,\n",
      "  \"prediction_count\": 200,\n",
      "  \"data_set_type\": 0,\n",
      "  \"mean_absolute_error\": 523162.982437192,\n",
      "  \"root_mean_squared_error\": 930689.0897782453,\n",
      "  \"relative_absolute_error\": 0.10726915752534819,\n",
      "  \"relative_squared_error\": 0.1644068685974282,\n",
      "  \"coefficient_of_determination\": 0.972970381557988,\n",
      "  \"prediction_90_ci_hit_rate\": 0.945,\n",
      "  \"sample_90_ci_hit_rate\": 0.96\n",
      "}\n",
      "y1\n",
      "{\n",
      "  \"last_refit_iteration_number\": 183,\n",
      "  \"observation_count\": 200,\n",
      "  \"prediction_count\": 200,\n",
      "  \"data_set_type\": 0,\n",
      "  \"mean_absolute_error\": 582433.7917579361,\n",
      "  \"root_mean_squared_error\": 1317834.138554726,\n",
      "  \"relative_absolute_error\": 0.10669155292054264,\n",
      "  \"relative_squared_error\": 0.21169114520950996,\n",
      "  \"coefficient_of_determination\": 0.9551868590398862,\n",
      "  \"prediction_90_ci_hit_rate\": 0.925,\n",
      "  \"sample_90_ci_hit_rate\": 0.95\n",
      "}\n",
      "y2\n",
      "{\n",
      "  \"last_refit_iteration_number\": 183,\n",
      "  \"observation_count\": 200,\n",
      "  \"prediction_count\": 200,\n",
      "  \"data_set_type\": 0,\n",
      "  \"mean_absolute_error\": 460088.648985061,\n",
      "  \"root_mean_squared_error\": 910712.5381945579,\n",
      "  \"relative_absolute_error\": 0.10059766287047094,\n",
      "  \"relative_squared_error\": 0.17434741780823354,\n",
      "  \"coefficient_of_determination\": 0.9696029779036013,\n",
      "  \"prediction_90_ci_hit_rate\": 0.92,\n",
      "  \"sample_90_ci_hit_rate\": 0.94\n",
      "}\n",
      "y3\n",
      "{\n",
      "  \"last_refit_iteration_number\": 183,\n",
      "  \"observation_count\": 200,\n",
      "  \"prediction_count\": 200,\n",
      "  \"data_set_type\": 0,\n",
      "  \"mean_absolute_error\": 736730.3112298426,\n",
      "  \"root_mean_squared_error\": 1548496.4483000478,\n",
      "  \"relative_absolute_error\": 0.1496131423143356,\n",
      "  \"relative_squared_error\": 0.2668567061199615,\n",
      "  \"coefficient_of_determination\": 0.9287874983988045,\n",
      "  \"prediction_90_ci_hit_rate\": 0.905,\n",
      "  \"sample_90_ci_hit_rate\": 0.94\n",
      "}\n"
     ]
    }
   ],
   "source": [
    "multi_objective_gof = optimizers[2].compute_surrogate_model_goodness_of_fit()\n",
    "for objective_name, gof in multi_objective_gof:\n",
    "    print(objective_name)\n",
    "    print(gof.to_json(indent=2))"
   ]
  },
  {
   "cell_type": "code",
   "execution_count": 21,
   "metadata": {
    "scrolled": true
   },
   "outputs": [
    {
     "name": "stdout",
     "output_type": "stream",
     "text": [
      "y0\n",
      "{\n",
      "  \"last_refit_iteration_number\": 191,\n",
      "  \"observation_count\": 1000,\n",
      "  \"prediction_count\": 1000,\n",
      "  \"data_set_type\": 2,\n",
      "  \"mean_absolute_error\": 1580468.47795201,\n",
      "  \"root_mean_squared_error\": 2241537.6211048462,\n",
      "  \"relative_absolute_error\": 0.5802911875281607,\n",
      "  \"relative_squared_error\": 0.6665919870261066,\n",
      "  \"coefficient_of_determination\": 0.555655122832587,\n",
      "  \"prediction_90_ci_hit_rate\": 0.741,\n",
      "  \"sample_90_ci_hit_rate\": 0.831\n",
      "}\n",
      "y1\n",
      "{\n",
      "  \"last_refit_iteration_number\": 191,\n",
      "  \"observation_count\": 1000,\n",
      "  \"prediction_count\": 1000,\n",
      "  \"data_set_type\": 2,\n",
      "  \"mean_absolute_error\": 2400285.097398636,\n",
      "  \"root_mean_squared_error\": 3669763.586744493,\n",
      "  \"relative_absolute_error\": 0.8497758627314612,\n",
      "  \"relative_squared_error\": 1.0167720082249887,\n",
      "  \"coefficient_of_determination\": -0.03382531670987632,\n",
      "  \"prediction_90_ci_hit_rate\": 0.572,\n",
      "  \"sample_90_ci_hit_rate\": 0.718\n",
      "}\n",
      "y2\n",
      "{\n",
      "  \"last_refit_iteration_number\": 191,\n",
      "  \"observation_count\": 1000,\n",
      "  \"prediction_count\": 1000,\n",
      "  \"data_set_type\": 2,\n",
      "  \"mean_absolute_error\": 1525073.345704846,\n",
      "  \"root_mean_squared_error\": 2199168.2060720725,\n",
      "  \"relative_absolute_error\": 0.7522308470794672,\n",
      "  \"relative_squared_error\": 0.8172459249406894,\n",
      "  \"coefficient_of_determination\": 0.33210909816783707,\n",
      "  \"prediction_90_ci_hit_rate\": 0.664,\n",
      "  \"sample_90_ci_hit_rate\": 0.715\n",
      "}\n",
      "y3\n",
      "{\n",
      "  \"last_refit_iteration_number\": 191,\n",
      "  \"observation_count\": 1000,\n",
      "  \"prediction_count\": 1000,\n",
      "  \"data_set_type\": 2,\n",
      "  \"mean_absolute_error\": 2110489.7945337817,\n",
      "  \"root_mean_squared_error\": 2906394.589903323,\n",
      "  \"relative_absolute_error\": 0.7119764543248052,\n",
      "  \"relative_squared_error\": 0.8010046363582312,\n",
      "  \"coefficient_of_determination\": 0.3583915725326179,\n",
      "  \"prediction_90_ci_hit_rate\": 0.63,\n",
      "  \"sample_90_ci_hit_rate\": 0.736\n",
      "}\n"
     ]
    }
   ],
   "source": [
    "from mlos.Optimizers.RegressionModels.GoodnessOfFitMetrics import DataSetType\n",
    "\n",
    "params_df = objective_function.parameter_space.random_dataframe(1000)\n",
    "objectives_df = objective_function.evaluate_dataframe(params_df)\n",
    "features_df = optimization_problem.construct_feature_dataframe(params_df)\n",
    "\n",
    "optimizer = optimizers[1]\n",
    "multi_objective_gof = optimizer.surrogate_model.compute_goodness_of_fit(\n",
    "    features_df=features_df,\n",
    "    targets_df=objectives_df,\n",
    "    data_set_type=DataSetType.TEST\n",
    ")\n",
    "\n",
    "for objective_name, gof in multi_objective_gof:\n",
    "    print(objective_name)\n",
    "    print(gof.to_json(indent=2))"
   ]
  },
  {
   "cell_type": "code",
   "execution_count": 22,
   "metadata": {
    "scrolled": true
   },
   "outputs": [
    {
     "data": {
      "text/html": [
       "<div>\n",
       "<style scoped>\n",
       "    .dataframe tbody tr th:only-of-type {\n",
       "        vertical-align: middle;\n",
       "    }\n",
       "\n",
       "    .dataframe tbody tr th {\n",
       "        vertical-align: top;\n",
       "    }\n",
       "\n",
       "    .dataframe thead th {\n",
       "        text-align: right;\n",
       "    }\n",
       "</style>\n",
       "<table border=\"1\" class=\"dataframe\">\n",
       "  <thead>\n",
       "    <tr style=\"text-align: right;\">\n",
       "      <th></th>\n",
       "      <th>y0</th>\n",
       "      <th>y1</th>\n",
       "      <th>y2</th>\n",
       "      <th>y3</th>\n",
       "    </tr>\n",
       "  </thead>\n",
       "  <tbody>\n",
       "    <tr>\n",
       "      <th>60</th>\n",
       "      <td>-1.663000e+07</td>\n",
       "      <td>-1.878032e+07</td>\n",
       "      <td>-1.460717e+07</td>\n",
       "      <td>-1.975343e+07</td>\n",
       "    </tr>\n",
       "  </tbody>\n",
       "</table>\n",
       "</div>"
      ],
      "text/plain": [
       "              y0            y1            y2            y3\n",
       "60 -1.663000e+07 -1.878032e+07 -1.460717e+07 -1.975343e+07"
      ]
     },
     "metadata": {},
     "output_type": "display_data"
    },
    {
     "data": {
      "text/html": [
       "<div>\n",
       "<style scoped>\n",
       "    .dataframe tbody tr th:only-of-type {\n",
       "        vertical-align: middle;\n",
       "    }\n",
       "\n",
       "    .dataframe tbody tr th {\n",
       "        vertical-align: top;\n",
       "    }\n",
       "\n",
       "    .dataframe thead th {\n",
       "        text-align: right;\n",
       "    }\n",
       "</style>\n",
       "<table border=\"1\" class=\"dataframe\">\n",
       "  <thead>\n",
       "    <tr style=\"text-align: right;\">\n",
       "      <th></th>\n",
       "      <th>polynomial_id</th>\n",
       "      <th>domain_0.x_0</th>\n",
       "      <th>domain_0.x_1</th>\n",
       "      <th>domain_1.x_0</th>\n",
       "      <th>domain_1.x_1</th>\n",
       "    </tr>\n",
       "  </thead>\n",
       "  <tbody>\n",
       "    <tr>\n",
       "      <th>60</th>\n",
       "      <td>1</td>\n",
       "      <td>NaN</td>\n",
       "      <td>NaN</td>\n",
       "      <td>-1023.52</td>\n",
       "      <td>-1009.79</td>\n",
       "    </tr>\n",
       "  </tbody>\n",
       "</table>\n",
       "</div>"
      ],
      "text/plain": [
       "   polynomial_id  domain_0.x_0  domain_0.x_1 domain_1.x_0 domain_1.x_1\n",
       "60             1           NaN           NaN     -1023.52     -1009.79"
      ]
     },
     "metadata": {},
     "output_type": "display_data"
    },
    {
     "data": {
      "text/html": [
       "<div>\n",
       "<style scoped>\n",
       "    .dataframe tbody tr th:only-of-type {\n",
       "        vertical-align: middle;\n",
       "    }\n",
       "\n",
       "    .dataframe tbody tr th {\n",
       "        vertical-align: top;\n",
       "    }\n",
       "\n",
       "    .dataframe thead th {\n",
       "        text-align: right;\n",
       "    }\n",
       "</style>\n",
       "<table border=\"1\" class=\"dataframe\">\n",
       "  <thead>\n",
       "    <tr style=\"text-align: right;\">\n",
       "      <th></th>\n",
       "      <th>y0</th>\n",
       "      <th>y1</th>\n",
       "      <th>y2</th>\n",
       "      <th>y3</th>\n",
       "    </tr>\n",
       "  </thead>\n",
       "  <tbody>\n",
       "    <tr>\n",
       "      <th>142</th>\n",
       "      <td>-1.667132e+07</td>\n",
       "      <td>-1.878047e+07</td>\n",
       "      <td>-1.465112e+07</td>\n",
       "      <td>-1.980315e+07</td>\n",
       "    </tr>\n",
       "  </tbody>\n",
       "</table>\n",
       "</div>"
      ],
      "text/plain": [
       "               y0            y1            y2            y3\n",
       "142 -1.667132e+07 -1.878047e+07 -1.465112e+07 -1.980315e+07"
      ]
     },
     "metadata": {},
     "output_type": "display_data"
    },
    {
     "data": {
      "text/html": [
       "<div>\n",
       "<style scoped>\n",
       "    .dataframe tbody tr th:only-of-type {\n",
       "        vertical-align: middle;\n",
       "    }\n",
       "\n",
       "    .dataframe tbody tr th {\n",
       "        vertical-align: top;\n",
       "    }\n",
       "\n",
       "    .dataframe thead th {\n",
       "        text-align: right;\n",
       "    }\n",
       "</style>\n",
       "<table border=\"1\" class=\"dataframe\">\n",
       "  <thead>\n",
       "    <tr style=\"text-align: right;\">\n",
       "      <th></th>\n",
       "      <th>polynomial_id</th>\n",
       "      <th>domain_0.x_0</th>\n",
       "      <th>domain_0.x_1</th>\n",
       "      <th>domain_1.x_0</th>\n",
       "      <th>domain_1.x_1</th>\n",
       "    </tr>\n",
       "  </thead>\n",
       "  <tbody>\n",
       "    <tr>\n",
       "      <th>142</th>\n",
       "      <td>1</td>\n",
       "      <td>NaN</td>\n",
       "      <td>NaN</td>\n",
       "      <td>-1020.69</td>\n",
       "      <td>-1014.6</td>\n",
       "    </tr>\n",
       "  </tbody>\n",
       "</table>\n",
       "</div>"
      ],
      "text/plain": [
       "    polynomial_id  domain_0.x_0  domain_0.x_1 domain_1.x_0 domain_1.x_1\n",
       "142             1           NaN           NaN     -1020.69      -1014.6"
      ]
     },
     "metadata": {},
     "output_type": "display_data"
    },
    {
     "data": {
      "text/html": [
       "<div>\n",
       "<style scoped>\n",
       "    .dataframe tbody tr th:only-of-type {\n",
       "        vertical-align: middle;\n",
       "    }\n",
       "\n",
       "    .dataframe tbody tr th {\n",
       "        vertical-align: top;\n",
       "    }\n",
       "\n",
       "    .dataframe thead th {\n",
       "        text-align: right;\n",
       "    }\n",
       "</style>\n",
       "<table border=\"1\" class=\"dataframe\">\n",
       "  <thead>\n",
       "    <tr style=\"text-align: right;\">\n",
       "      <th></th>\n",
       "      <th>y0</th>\n",
       "      <th>y1</th>\n",
       "      <th>y2</th>\n",
       "      <th>y3</th>\n",
       "    </tr>\n",
       "  </thead>\n",
       "  <tbody>\n",
       "    <tr>\n",
       "      <th>192</th>\n",
       "      <td>-1.667106e+07</td>\n",
       "      <td>-1.881531e+07</td>\n",
       "      <td>-1.464511e+07</td>\n",
       "      <td>-1.980233e+07</td>\n",
       "    </tr>\n",
       "    <tr>\n",
       "      <th>129</th>\n",
       "      <td>-1.665279e+07</td>\n",
       "      <td>-1.865497e+07</td>\n",
       "      <td>-1.465270e+07</td>\n",
       "      <td>-1.978449e+07</td>\n",
       "    </tr>\n",
       "  </tbody>\n",
       "</table>\n",
       "</div>"
      ],
      "text/plain": [
       "               y0            y1            y2            y3\n",
       "192 -1.667106e+07 -1.881531e+07 -1.464511e+07 -1.980233e+07\n",
       "129 -1.665279e+07 -1.865497e+07 -1.465270e+07 -1.978449e+07"
      ]
     },
     "metadata": {},
     "output_type": "display_data"
    },
    {
     "data": {
      "text/html": [
       "<div>\n",
       "<style scoped>\n",
       "    .dataframe tbody tr th:only-of-type {\n",
       "        vertical-align: middle;\n",
       "    }\n",
       "\n",
       "    .dataframe tbody tr th {\n",
       "        vertical-align: top;\n",
       "    }\n",
       "\n",
       "    .dataframe thead th {\n",
       "        text-align: right;\n",
       "    }\n",
       "</style>\n",
       "<table border=\"1\" class=\"dataframe\">\n",
       "  <thead>\n",
       "    <tr style=\"text-align: right;\">\n",
       "      <th></th>\n",
       "      <th>polynomial_id</th>\n",
       "      <th>domain_0.x_0</th>\n",
       "      <th>domain_0.x_1</th>\n",
       "      <th>domain_1.x_0</th>\n",
       "      <th>domain_1.x_1</th>\n",
       "    </tr>\n",
       "  </thead>\n",
       "  <tbody>\n",
       "    <tr>\n",
       "      <th>192</th>\n",
       "      <td>1</td>\n",
       "      <td>NaN</td>\n",
       "      <td>NaN</td>\n",
       "      <td>-1023.78</td>\n",
       "      <td>-1011.91</td>\n",
       "    </tr>\n",
       "    <tr>\n",
       "      <th>129</th>\n",
       "      <td>1</td>\n",
       "      <td>NaN</td>\n",
       "      <td>NaN</td>\n",
       "      <td>-1010.84</td>\n",
       "      <td>-1022.13</td>\n",
       "    </tr>\n",
       "  </tbody>\n",
       "</table>\n",
       "</div>"
      ],
      "text/plain": [
       "    polynomial_id  domain_0.x_0  domain_0.x_1 domain_1.x_0 domain_1.x_1\n",
       "192             1           NaN           NaN     -1023.78     -1011.91\n",
       "129             1           NaN           NaN     -1010.84     -1022.13"
      ]
     },
     "metadata": {},
     "output_type": "display_data"
    },
    {
     "data": {
      "text/html": [
       "<div>\n",
       "<style scoped>\n",
       "    .dataframe tbody tr th:only-of-type {\n",
       "        vertical-align: middle;\n",
       "    }\n",
       "\n",
       "    .dataframe tbody tr th {\n",
       "        vertical-align: top;\n",
       "    }\n",
       "\n",
       "    .dataframe thead th {\n",
       "        text-align: right;\n",
       "    }\n",
       "</style>\n",
       "<table border=\"1\" class=\"dataframe\">\n",
       "  <thead>\n",
       "    <tr style=\"text-align: right;\">\n",
       "      <th></th>\n",
       "      <th>y0</th>\n",
       "      <th>y1</th>\n",
       "      <th>y2</th>\n",
       "      <th>y3</th>\n",
       "    </tr>\n",
       "  </thead>\n",
       "  <tbody>\n",
       "    <tr>\n",
       "      <th>195</th>\n",
       "      <td>-1.661997e+07</td>\n",
       "      <td>-1.872476e+07</td>\n",
       "      <td>-1.460562e+07</td>\n",
       "      <td>-1.974211e+07</td>\n",
       "    </tr>\n",
       "  </tbody>\n",
       "</table>\n",
       "</div>"
      ],
      "text/plain": [
       "               y0            y1            y2            y3\n",
       "195 -1.661997e+07 -1.872476e+07 -1.460562e+07 -1.974211e+07"
      ]
     },
     "metadata": {},
     "output_type": "display_data"
    },
    {
     "data": {
      "text/html": [
       "<div>\n",
       "<style scoped>\n",
       "    .dataframe tbody tr th:only-of-type {\n",
       "        vertical-align: middle;\n",
       "    }\n",
       "\n",
       "    .dataframe tbody tr th {\n",
       "        vertical-align: top;\n",
       "    }\n",
       "\n",
       "    .dataframe thead th {\n",
       "        text-align: right;\n",
       "    }\n",
       "</style>\n",
       "<table border=\"1\" class=\"dataframe\">\n",
       "  <thead>\n",
       "    <tr style=\"text-align: right;\">\n",
       "      <th></th>\n",
       "      <th>polynomial_id</th>\n",
       "      <th>domain_0.x_0</th>\n",
       "      <th>domain_0.x_1</th>\n",
       "      <th>domain_1.x_0</th>\n",
       "      <th>domain_1.x_1</th>\n",
       "    </tr>\n",
       "  </thead>\n",
       "  <tbody>\n",
       "    <tr>\n",
       "      <th>195</th>\n",
       "      <td>1</td>\n",
       "      <td>NaN</td>\n",
       "      <td>NaN</td>\n",
       "      <td>-1019.31</td>\n",
       "      <td>-1012.88</td>\n",
       "    </tr>\n",
       "  </tbody>\n",
       "</table>\n",
       "</div>"
      ],
      "text/plain": [
       "    polynomial_id  domain_0.x_0  domain_0.x_1 domain_1.x_0 domain_1.x_1\n",
       "195             1           NaN           NaN     -1019.31     -1012.88"
      ]
     },
     "metadata": {},
     "output_type": "display_data"
    },
    {
     "data": {
      "text/html": [
       "<div>\n",
       "<style scoped>\n",
       "    .dataframe tbody tr th:only-of-type {\n",
       "        vertical-align: middle;\n",
       "    }\n",
       "\n",
       "    .dataframe tbody tr th {\n",
       "        vertical-align: top;\n",
       "    }\n",
       "\n",
       "    .dataframe thead th {\n",
       "        text-align: right;\n",
       "    }\n",
       "</style>\n",
       "<table border=\"1\" class=\"dataframe\">\n",
       "  <thead>\n",
       "    <tr style=\"text-align: right;\">\n",
       "      <th></th>\n",
       "      <th>y0</th>\n",
       "      <th>y1</th>\n",
       "      <th>y2</th>\n",
       "      <th>y3</th>\n",
       "    </tr>\n",
       "  </thead>\n",
       "  <tbody>\n",
       "    <tr>\n",
       "      <th>191</th>\n",
       "      <td>-1.671450e+07</td>\n",
       "      <td>-1.883476e+07</td>\n",
       "      <td>-1.468815e+07</td>\n",
       "      <td>-1.985436e+07</td>\n",
       "    </tr>\n",
       "  </tbody>\n",
       "</table>\n",
       "</div>"
      ],
      "text/plain": [
       "               y0            y1            y2            y3\n",
       "191 -1.671450e+07 -1.883476e+07 -1.468815e+07 -1.985436e+07"
      ]
     },
     "metadata": {},
     "output_type": "display_data"
    },
    {
     "data": {
      "text/html": [
       "<div>\n",
       "<style scoped>\n",
       "    .dataframe tbody tr th:only-of-type {\n",
       "        vertical-align: middle;\n",
       "    }\n",
       "\n",
       "    .dataframe tbody tr th {\n",
       "        vertical-align: top;\n",
       "    }\n",
       "\n",
       "    .dataframe thead th {\n",
       "        text-align: right;\n",
       "    }\n",
       "</style>\n",
       "<table border=\"1\" class=\"dataframe\">\n",
       "  <thead>\n",
       "    <tr style=\"text-align: right;\">\n",
       "      <th></th>\n",
       "      <th>polynomial_id</th>\n",
       "      <th>domain_0.x_0</th>\n",
       "      <th>domain_0.x_1</th>\n",
       "      <th>domain_1.x_0</th>\n",
       "      <th>domain_1.x_1</th>\n",
       "    </tr>\n",
       "  </thead>\n",
       "  <tbody>\n",
       "    <tr>\n",
       "      <th>191</th>\n",
       "      <td>1</td>\n",
       "      <td>NaN</td>\n",
       "      <td>NaN</td>\n",
       "      <td>-1022.51</td>\n",
       "      <td>-1015.48</td>\n",
       "    </tr>\n",
       "  </tbody>\n",
       "</table>\n",
       "</div>"
      ],
      "text/plain": [
       "    polynomial_id  domain_0.x_0  domain_0.x_1 domain_1.x_0 domain_1.x_1\n",
       "191             1           NaN           NaN     -1022.51     -1015.48"
      ]
     },
     "metadata": {},
     "output_type": "display_data"
    },
    {
     "data": {
      "text/html": [
       "<div>\n",
       "<style scoped>\n",
       "    .dataframe tbody tr th:only-of-type {\n",
       "        vertical-align: middle;\n",
       "    }\n",
       "\n",
       "    .dataframe tbody tr th {\n",
       "        vertical-align: top;\n",
       "    }\n",
       "\n",
       "    .dataframe thead th {\n",
       "        text-align: right;\n",
       "    }\n",
       "</style>\n",
       "<table border=\"1\" class=\"dataframe\">\n",
       "  <thead>\n",
       "    <tr style=\"text-align: right;\">\n",
       "      <th></th>\n",
       "      <th>y0</th>\n",
       "      <th>y1</th>\n",
       "      <th>y2</th>\n",
       "      <th>y3</th>\n",
       "    </tr>\n",
       "  </thead>\n",
       "  <tbody>\n",
       "    <tr>\n",
       "      <th>116</th>\n",
       "      <td>-1.680704e+07</td>\n",
       "      <td>-1.891004e+07</td>\n",
       "      <td>-1.477435e+07</td>\n",
       "      <td>-1.996493e+07</td>\n",
       "    </tr>\n",
       "  </tbody>\n",
       "</table>\n",
       "</div>"
      ],
      "text/plain": [
       "               y0            y1            y2            y3\n",
       "116 -1.680704e+07 -1.891004e+07 -1.477435e+07 -1.996493e+07"
      ]
     },
     "metadata": {},
     "output_type": "display_data"
    },
    {
     "data": {
      "text/html": [
       "<div>\n",
       "<style scoped>\n",
       "    .dataframe tbody tr th:only-of-type {\n",
       "        vertical-align: middle;\n",
       "    }\n",
       "\n",
       "    .dataframe tbody tr th {\n",
       "        vertical-align: top;\n",
       "    }\n",
       "\n",
       "    .dataframe thead th {\n",
       "        text-align: right;\n",
       "    }\n",
       "</style>\n",
       "<table border=\"1\" class=\"dataframe\">\n",
       "  <thead>\n",
       "    <tr style=\"text-align: right;\">\n",
       "      <th></th>\n",
       "      <th>polynomial_id</th>\n",
       "      <th>domain_0.x_0</th>\n",
       "      <th>domain_0.x_1</th>\n",
       "      <th>domain_1.x_0</th>\n",
       "      <th>domain_1.x_1</th>\n",
       "    </tr>\n",
       "  </thead>\n",
       "  <tbody>\n",
       "    <tr>\n",
       "      <th>116</th>\n",
       "      <td>1</td>\n",
       "      <td>NaN</td>\n",
       "      <td>NaN</td>\n",
       "      <td>-1022.79</td>\n",
       "      <td>-1020.51</td>\n",
       "    </tr>\n",
       "  </tbody>\n",
       "</table>\n",
       "</div>"
      ],
      "text/plain": [
       "    polynomial_id  domain_0.x_0  domain_0.x_1 domain_1.x_0 domain_1.x_1\n",
       "116             1           NaN           NaN     -1022.79     -1020.51"
      ]
     },
     "metadata": {},
     "output_type": "display_data"
    },
    {
     "data": {
      "text/html": [
       "<div>\n",
       "<style scoped>\n",
       "    .dataframe tbody tr th:only-of-type {\n",
       "        vertical-align: middle;\n",
       "    }\n",
       "\n",
       "    .dataframe tbody tr th {\n",
       "        vertical-align: top;\n",
       "    }\n",
       "\n",
       "    .dataframe thead th {\n",
       "        text-align: right;\n",
       "    }\n",
       "</style>\n",
       "<table border=\"1\" class=\"dataframe\">\n",
       "  <thead>\n",
       "    <tr style=\"text-align: right;\">\n",
       "      <th></th>\n",
       "      <th>y0</th>\n",
       "      <th>y1</th>\n",
       "      <th>y2</th>\n",
       "      <th>y3</th>\n",
       "    </tr>\n",
       "  </thead>\n",
       "  <tbody>\n",
       "    <tr>\n",
       "      <th>161</th>\n",
       "      <td>-1.676308e+07</td>\n",
       "      <td>-1.880402e+07</td>\n",
       "      <td>-1.474534e+07</td>\n",
       "      <td>-1.991449e+07</td>\n",
       "    </tr>\n",
       "  </tbody>\n",
       "</table>\n",
       "</div>"
      ],
      "text/plain": [
       "               y0            y1            y2            y3\n",
       "161 -1.676308e+07 -1.880402e+07 -1.474534e+07 -1.991449e+07"
      ]
     },
     "metadata": {},
     "output_type": "display_data"
    },
    {
     "data": {
      "text/html": [
       "<div>\n",
       "<style scoped>\n",
       "    .dataframe tbody tr th:only-of-type {\n",
       "        vertical-align: middle;\n",
       "    }\n",
       "\n",
       "    .dataframe tbody tr th {\n",
       "        vertical-align: top;\n",
       "    }\n",
       "\n",
       "    .dataframe thead th {\n",
       "        text-align: right;\n",
       "    }\n",
       "</style>\n",
       "<table border=\"1\" class=\"dataframe\">\n",
       "  <thead>\n",
       "    <tr style=\"text-align: right;\">\n",
       "      <th></th>\n",
       "      <th>polynomial_id</th>\n",
       "      <th>domain_0.x_0</th>\n",
       "      <th>domain_0.x_1</th>\n",
       "      <th>domain_1.x_0</th>\n",
       "      <th>domain_1.x_1</th>\n",
       "    </tr>\n",
       "  </thead>\n",
       "  <tbody>\n",
       "    <tr>\n",
       "      <th>161</th>\n",
       "      <td>1</td>\n",
       "      <td>NaN</td>\n",
       "      <td>NaN</td>\n",
       "      <td>-1016.45</td>\n",
       "      <td>-1023.53</td>\n",
       "    </tr>\n",
       "  </tbody>\n",
       "</table>\n",
       "</div>"
      ],
      "text/plain": [
       "    polynomial_id  domain_0.x_0  domain_0.x_1 domain_1.x_0 domain_1.x_1\n",
       "161             1           NaN           NaN     -1016.45     -1023.53"
      ]
     },
     "metadata": {},
     "output_type": "display_data"
    },
    {
     "data": {
      "text/html": [
       "<div>\n",
       "<style scoped>\n",
       "    .dataframe tbody tr th:only-of-type {\n",
       "        vertical-align: middle;\n",
       "    }\n",
       "\n",
       "    .dataframe tbody tr th {\n",
       "        vertical-align: top;\n",
       "    }\n",
       "\n",
       "    .dataframe thead th {\n",
       "        text-align: right;\n",
       "    }\n",
       "</style>\n",
       "<table border=\"1\" class=\"dataframe\">\n",
       "  <thead>\n",
       "    <tr style=\"text-align: right;\">\n",
       "      <th></th>\n",
       "      <th>y0</th>\n",
       "      <th>y1</th>\n",
       "      <th>y2</th>\n",
       "      <th>y3</th>\n",
       "    </tr>\n",
       "  </thead>\n",
       "  <tbody>\n",
       "    <tr>\n",
       "      <th>96</th>\n",
       "      <td>-1.672693e+07</td>\n",
       "      <td>-1.885689e+07</td>\n",
       "      <td>-1.469774e+07</td>\n",
       "      <td>-1.986899e+07</td>\n",
       "    </tr>\n",
       "  </tbody>\n",
       "</table>\n",
       "</div>"
      ],
      "text/plain": [
       "              y0            y1            y2            y3\n",
       "96 -1.672693e+07 -1.885689e+07 -1.469774e+07 -1.986899e+07"
      ]
     },
     "metadata": {},
     "output_type": "display_data"
    },
    {
     "data": {
      "text/html": [
       "<div>\n",
       "<style scoped>\n",
       "    .dataframe tbody tr th:only-of-type {\n",
       "        vertical-align: middle;\n",
       "    }\n",
       "\n",
       "    .dataframe tbody tr th {\n",
       "        vertical-align: top;\n",
       "    }\n",
       "\n",
       "    .dataframe thead th {\n",
       "        text-align: right;\n",
       "    }\n",
       "</style>\n",
       "<table border=\"1\" class=\"dataframe\">\n",
       "  <thead>\n",
       "    <tr style=\"text-align: right;\">\n",
       "      <th></th>\n",
       "      <th>polynomial_id</th>\n",
       "      <th>domain_0.x_0</th>\n",
       "      <th>domain_0.x_1</th>\n",
       "      <th>domain_1.x_0</th>\n",
       "      <th>domain_1.x_1</th>\n",
       "    </tr>\n",
       "  </thead>\n",
       "  <tbody>\n",
       "    <tr>\n",
       "      <th>96</th>\n",
       "      <td>1</td>\n",
       "      <td>NaN</td>\n",
       "      <td>NaN</td>\n",
       "      <td>-1023.61</td>\n",
       "      <td>-1015.24</td>\n",
       "    </tr>\n",
       "  </tbody>\n",
       "</table>\n",
       "</div>"
      ],
      "text/plain": [
       "   polynomial_id  domain_0.x_0  domain_0.x_1 domain_1.x_0 domain_1.x_1\n",
       "96             1           NaN           NaN     -1023.61     -1015.24"
      ]
     },
     "metadata": {},
     "output_type": "display_data"
    },
    {
     "data": {
      "text/html": [
       "<div>\n",
       "<style scoped>\n",
       "    .dataframe tbody tr th:only-of-type {\n",
       "        vertical-align: middle;\n",
       "    }\n",
       "\n",
       "    .dataframe tbody tr th {\n",
       "        vertical-align: top;\n",
       "    }\n",
       "\n",
       "    .dataframe thead th {\n",
       "        text-align: right;\n",
       "    }\n",
       "</style>\n",
       "<table border=\"1\" class=\"dataframe\">\n",
       "  <thead>\n",
       "    <tr style=\"text-align: right;\">\n",
       "      <th></th>\n",
       "      <th>y0</th>\n",
       "      <th>y1</th>\n",
       "      <th>y2</th>\n",
       "      <th>y3</th>\n",
       "    </tr>\n",
       "  </thead>\n",
       "  <tbody>\n",
       "    <tr>\n",
       "      <th>155</th>\n",
       "      <td>-1.662696e+07</td>\n",
       "      <td>-1.878287e+07</td>\n",
       "      <td>-1.460354e+07</td>\n",
       "      <td>-1.974977e+07</td>\n",
       "    </tr>\n",
       "  </tbody>\n",
       "</table>\n",
       "</div>"
      ],
      "text/plain": [
       "               y0            y1            y2            y3\n",
       "155 -1.662696e+07 -1.878287e+07 -1.460354e+07 -1.974977e+07"
      ]
     },
     "metadata": {},
     "output_type": "display_data"
    },
    {
     "data": {
      "text/html": [
       "<div>\n",
       "<style scoped>\n",
       "    .dataframe tbody tr th:only-of-type {\n",
       "        vertical-align: middle;\n",
       "    }\n",
       "\n",
       "    .dataframe tbody tr th {\n",
       "        vertical-align: top;\n",
       "    }\n",
       "\n",
       "    .dataframe thead th {\n",
       "        text-align: right;\n",
       "    }\n",
       "</style>\n",
       "<table border=\"1\" class=\"dataframe\">\n",
       "  <thead>\n",
       "    <tr style=\"text-align: right;\">\n",
       "      <th></th>\n",
       "      <th>polynomial_id</th>\n",
       "      <th>domain_0.x_0</th>\n",
       "      <th>domain_0.x_1</th>\n",
       "      <th>domain_1.x_0</th>\n",
       "      <th>domain_1.x_1</th>\n",
       "    </tr>\n",
       "  </thead>\n",
       "  <tbody>\n",
       "    <tr>\n",
       "      <th>155</th>\n",
       "      <td>1</td>\n",
       "      <td>NaN</td>\n",
       "      <td>NaN</td>\n",
       "      <td>-1023.95</td>\n",
       "      <td>-1009.24</td>\n",
       "    </tr>\n",
       "  </tbody>\n",
       "</table>\n",
       "</div>"
      ],
      "text/plain": [
       "    polynomial_id  domain_0.x_0  domain_0.x_1 domain_1.x_0 domain_1.x_1\n",
       "155             1           NaN           NaN     -1023.95     -1009.24"
      ]
     },
     "metadata": {},
     "output_type": "display_data"
    },
    {
     "data": {
      "text/html": [
       "<div>\n",
       "<style scoped>\n",
       "    .dataframe tbody tr th:only-of-type {\n",
       "        vertical-align: middle;\n",
       "    }\n",
       "\n",
       "    .dataframe tbody tr th {\n",
       "        vertical-align: top;\n",
       "    }\n",
       "\n",
       "    .dataframe thead th {\n",
       "        text-align: right;\n",
       "    }\n",
       "</style>\n",
       "<table border=\"1\" class=\"dataframe\">\n",
       "  <thead>\n",
       "    <tr style=\"text-align: right;\">\n",
       "      <th></th>\n",
       "      <th>y0</th>\n",
       "      <th>y1</th>\n",
       "      <th>y2</th>\n",
       "      <th>y3</th>\n",
       "    </tr>\n",
       "  </thead>\n",
       "  <tbody>\n",
       "    <tr>\n",
       "      <th>126</th>\n",
       "      <td>-1.680704e+07</td>\n",
       "      <td>-1.891004e+07</td>\n",
       "      <td>-1.477435e+07</td>\n",
       "      <td>-1.996493e+07</td>\n",
       "    </tr>\n",
       "  </tbody>\n",
       "</table>\n",
       "</div>"
      ],
      "text/plain": [
       "               y0            y1            y2            y3\n",
       "126 -1.680704e+07 -1.891004e+07 -1.477435e+07 -1.996493e+07"
      ]
     },
     "metadata": {},
     "output_type": "display_data"
    },
    {
     "data": {
      "text/html": [
       "<div>\n",
       "<style scoped>\n",
       "    .dataframe tbody tr th:only-of-type {\n",
       "        vertical-align: middle;\n",
       "    }\n",
       "\n",
       "    .dataframe tbody tr th {\n",
       "        vertical-align: top;\n",
       "    }\n",
       "\n",
       "    .dataframe thead th {\n",
       "        text-align: right;\n",
       "    }\n",
       "</style>\n",
       "<table border=\"1\" class=\"dataframe\">\n",
       "  <thead>\n",
       "    <tr style=\"text-align: right;\">\n",
       "      <th></th>\n",
       "      <th>polynomial_id</th>\n",
       "      <th>domain_0.x_0</th>\n",
       "      <th>domain_0.x_1</th>\n",
       "      <th>domain_1.x_0</th>\n",
       "      <th>domain_1.x_1</th>\n",
       "    </tr>\n",
       "  </thead>\n",
       "  <tbody>\n",
       "    <tr>\n",
       "      <th>126</th>\n",
       "      <td>1</td>\n",
       "      <td>NaN</td>\n",
       "      <td>NaN</td>\n",
       "      <td>-1022.79</td>\n",
       "      <td>-1020.51</td>\n",
       "    </tr>\n",
       "  </tbody>\n",
       "</table>\n",
       "</div>"
      ],
      "text/plain": [
       "    polynomial_id  domain_0.x_0  domain_0.x_1 domain_1.x_0 domain_1.x_1\n",
       "126             1           NaN           NaN     -1022.79     -1020.51"
      ]
     },
     "metadata": {},
     "output_type": "display_data"
    }
   ],
   "source": [
    "for optimizer in optimizers:\n",
    "    params_df, objectives_df, _ = optimizer.get_all_observations()\n",
    "    display(optimizer.pareto_frontier.pareto_df)\n",
    "    display(params_df.loc[optimizer.pareto_frontier.pareto_df.index])\n",
    "    "
   ]
  },
  {
   "cell_type": "code",
   "execution_count": 23,
   "metadata": {},
   "outputs": [
    {
     "data": {
      "text/plain": [
       "  Name: domain\n",
       "  Dimensions:\n",
       "    polynomial_id: {0, 1}\n",
       "\n",
       "  IF polynomial_id IN {1} THEN (\n",
       "    Name: domain_1\n",
       "    Dimensions:\n",
       "      x_0: [-1024.00, 1024.00]\n",
       "      x_1: [-1024.00, 1024.00]\n",
       "  )\n",
       "\n",
       "  IF polynomial_id IN {0} THEN (\n",
       "    Name: domain_0\n",
       "    Dimensions:\n",
       "      x_0: [-1024.00, 1024.00]\n",
       "      x_1: [-1024.00, 1024.00]\n",
       "  )"
      ]
     },
     "execution_count": 23,
     "metadata": {},
     "output_type": "execute_result"
    }
   ],
   "source": [
    "objective_function.parameter_space"
   ]
  },
  {
   "cell_type": "code",
   "execution_count": 24,
   "metadata": {},
   "outputs": [
    {
     "name": "stdout",
     "output_type": "stream",
     "text": [
      "{\n",
      "  \"polynomial_id\": 0,\n",
      "  \"domain_0.x_0\": -994.4147196191955,\n",
      "  \"domain_0.x_1\": -904.7798423086522\n",
      "}\n"
     ]
    }
   ],
   "source": [
    "suggestion = objective_function.parameter_space.random()\n",
    "print(suggestion)"
   ]
  },
  {
   "cell_type": "code",
   "execution_count": 25,
   "metadata": {},
   "outputs": [
    {
     "ename": "AttributeError",
     "evalue": "This Point does not have a domain_1 attribute.",
     "output_type": "error",
     "traceback": [
      "\u001b[1;31m---------------------------------------------------------------------------\u001b[0m",
      "\u001b[1;31mAttributeError\u001b[0m                            Traceback (most recent call last)",
      "\u001b[1;32m<ipython-input-25-5f3e0473afea>\u001b[0m in \u001b[0;36m<module>\u001b[1;34m\u001b[0m\n\u001b[1;32m----> 1\u001b[1;33m \u001b[0msuggestion\u001b[0m\u001b[1;33m.\u001b[0m\u001b[0mdomain_1\u001b[0m\u001b[1;33m.\u001b[0m\u001b[0mx_0\u001b[0m \u001b[1;33m=\u001b[0m \u001b[1;33m-\u001b[0m\u001b[1;36m1024\u001b[0m\u001b[1;33m\u001b[0m\u001b[1;33m\u001b[0m\u001b[0m\n\u001b[0m\u001b[0;32m      2\u001b[0m \u001b[0msuggestion\u001b[0m\u001b[1;33m.\u001b[0m\u001b[0mdomain_1\u001b[0m\u001b[1;33m.\u001b[0m\u001b[0mx_1\u001b[0m \u001b[1;33m=\u001b[0m \u001b[1;33m-\u001b[0m\u001b[1;36m1024\u001b[0m\u001b[1;33m\u001b[0m\u001b[1;33m\u001b[0m\u001b[0m\n",
      "\u001b[1;32mc:\\users\\adam_\\source\\mlos\\source\\mlos.python\\mlos\\Spaces\\Point.py\u001b[0m in \u001b[0;36m__getattr__\u001b[1;34m(self, dimension_name)\u001b[0m\n\u001b[0;32m     60\u001b[0m         \u001b[1;31m# Raise the exception outside the 'except' block to not make it look like a nested error.\u001b[0m\u001b[1;33m\u001b[0m\u001b[1;33m\u001b[0m\u001b[1;33m\u001b[0m\u001b[0m\n\u001b[0;32m     61\u001b[0m         \u001b[1;31m#\u001b[0m\u001b[1;33m\u001b[0m\u001b[1;33m\u001b[0m\u001b[1;33m\u001b[0m\u001b[0m\n\u001b[1;32m---> 62\u001b[1;33m         \u001b[1;32mraise\u001b[0m \u001b[0mAttributeError\u001b[0m\u001b[1;33m(\u001b[0m\u001b[1;34mf\"This Point does not have a {dimension_name} attribute.\"\u001b[0m\u001b[1;33m)\u001b[0m\u001b[1;33m\u001b[0m\u001b[1;33m\u001b[0m\u001b[0m\n\u001b[0m\u001b[0;32m     63\u001b[0m \u001b[1;33m\u001b[0m\u001b[0m\n\u001b[0;32m     64\u001b[0m     \u001b[1;32mdef\u001b[0m \u001b[0m__setattr__\u001b[0m\u001b[1;33m(\u001b[0m\u001b[0mself\u001b[0m\u001b[1;33m,\u001b[0m \u001b[0mname\u001b[0m\u001b[1;33m,\u001b[0m \u001b[0mvalue\u001b[0m\u001b[1;33m)\u001b[0m\u001b[1;33m:\u001b[0m\u001b[1;33m\u001b[0m\u001b[1;33m\u001b[0m\u001b[0m\n",
      "\u001b[1;31mAttributeError\u001b[0m: This Point does not have a domain_1 attribute."
     ]
    }
   ],
   "source": [
    "suggestion.domain_1.x_0 = -1024\n",
    "suggestion.domain_1.x_1 = -1024"
   ]
  },
  {
   "cell_type": "code",
   "execution_count": null,
   "metadata": {},
   "outputs": [],
   "source": [
    "print(suggestion)"
   ]
  },
  {
   "cell_type": "code",
   "execution_count": null,
   "metadata": {},
   "outputs": [],
   "source": [
    "value = objective_function.evaluate_point(suggestion)\n",
    "print(value)"
   ]
  },
  {
   "cell_type": "code",
   "execution_count": null,
   "metadata": {},
   "outputs": [],
   "source": [
    "\n",
    "features_df = optimization_problem.construct_feature_dataframe(suggestion.to_dataframe())\n",
    "mo_prediction = optimizer.surrogate_model.predict(features_df)"
   ]
  },
  {
   "cell_type": "code",
   "execution_count": null,
   "metadata": {},
   "outputs": [],
   "source": [
    "for name, pred in mo_prediction:\n",
    "    print(pred)"
   ]
  },
  {
   "cell_type": "code",
   "execution_count": null,
   "metadata": {},
   "outputs": [],
   "source": [
    "import os\n",
    "os.getpid()"
   ]
  },
  {
   "cell_type": "code",
   "execution_count": null,
   "metadata": {},
   "outputs": [],
   "source": [
    "params_df = objective_function.parameter_space.random_dataframe(10)\n",
    "features_df = optimization_problem.construct_feature_dataframe(params_df)\n",
    "optimizer.experiment_designer.utility_function(features_df).describe()"
   ]
  }
 ],
 "metadata": {
  "kernelspec": {
   "display_name": "Python 3",
   "language": "python",
   "name": "python3"
  },
  "language_info": {
   "codemirror_mode": {
    "name": "ipython",
    "version": 3
   },
   "file_extension": ".py",
   "mimetype": "text/x-python",
   "name": "python",
   "nbconvert_exporter": "python",
   "pygments_lexer": "ipython3",
   "version": "3.8.3"
  }
 },
 "nbformat": 4,
 "nbformat_minor": 4
}
