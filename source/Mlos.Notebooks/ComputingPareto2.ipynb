{
 "cells": [
  {
   "cell_type": "markdown",
   "metadata": {},
   "source": [
    "# Goal\n",
    "\n",
    "The objective of this notebook is to demonstrate and visualize the computation of the pareto frontier."
   ]
  },
  {
   "cell_type": "code",
   "execution_count": 1,
   "metadata": {},
   "outputs": [
    {
     "data": {
      "text/html": [
       "<style>.container { width:100% !important; }</style>"
      ],
      "text/plain": [
       "<IPython.core.display.HTML object>"
      ]
     },
     "metadata": {},
     "output_type": "display_data"
    }
   ],
   "source": [
    "from IPython.core.display import display, HTML\n",
    "display(HTML(\"<style>.container { width:100% !important; }</style>\"))"
   ]
  },
  {
   "cell_type": "code",
   "execution_count": 2,
   "metadata": {},
   "outputs": [
    {
     "name": "stderr",
     "output_type": "stream",
     "text": [
      "01/22/2021 00:02:23 -   BayesianOptimizerFactory -    INFO - [BayesianOptimizerFactory.py:  37 -    create_local_optimizer() ] Optimizer config not specified. Using default.\n"
     ]
    }
   ],
   "source": [
    "import pandas as pd\n",
    "\n",
    "\n",
    "from mlos.OptimizerEvaluationTools.ObjectiveFunctionFactory import ObjectiveFunctionFactory\n",
    "from mlos.OptimizerEvaluationTools.SyntheticFunctions.Hypersphere import Hypersphere\n",
    "\n",
    "from mlos.Optimizers.BayesianOptimizerFactory import BayesianOptimizerFactory, bayesian_optimizer_config_store\n",
    "from mlos.Optimizers.OptimizationProblem import OptimizationProblem, Objective\n",
    "from mlos.Optimizers.ParetoFrontier import ParetoFrontier\n",
    "\n",
    "from mlos.Spaces import ContinuousDimension, DiscreteDimension, Point, SimpleHypergrid\n",
    "\n",
    "hypersphere_radius = 10\n",
    "\n",
    "objective_function_config = Point(\n",
    "    implementation=Hypersphere.__name__,\n",
    "    hypersphere_config=Point(\n",
    "        num_objectives=2,\n",
    "        minimize='none',\n",
    "        radius=hypersphere_radius\n",
    "    )\n",
    ")\n",
    "\n",
    "objective_function = ObjectiveFunctionFactory.create_objective_function(objective_function_config=objective_function_config)\n",
    "optimization_problem = objective_function.default_optimization_problem\n",
    "optimizer = BayesianOptimizerFactory().create_local_optimizer(\n",
    "    optimization_problem=optimization_problem\n",
    ")"
   ]
  },
  {
   "cell_type": "code",
   "execution_count": 3,
   "metadata": {},
   "outputs": [
    {
     "data": {
      "text/plain": [
       "{\n",
       "  \"surrogate_model_implementation\": \"HomogeneousRandomForestRegressionModel\",\n",
       "  \"experiment_designer_implementation\": \"ExperimentDesigner\",\n",
       "  \"min_samples_required_for_guided_design_of_experiments\": 10,\n",
       "  \"homogeneous_random_forest_regression_model_config.n_estimators\": 10,\n",
       "  \"homogeneous_random_forest_regression_model_config.features_fraction_per_estimator\": 1,\n",
       "  \"homogeneous_random_forest_regression_model_config.samples_fraction_per_estimator\": 1,\n",
       "  \"homogeneous_random_forest_regression_model_config.regressor_implementation\": \"DecisionTreeRegressionModel\",\n",
       "  \"homogeneous_random_forest_regression_model_config.decision_tree_regression_model_config.criterion\": \"mse\",\n",
       "  \"homogeneous_random_forest_regression_model_config.decision_tree_regression_model_config.splitter\": \"best\",\n",
       "  \"homogeneous_random_forest_regression_model_config.decision_tree_regression_model_config.max_depth\": 0,\n",
       "  \"homogeneous_random_forest_regression_model_config.decision_tree_regression_model_config.min_samples_split\": 2,\n",
       "  \"homogeneous_random_forest_regression_model_config.decision_tree_regression_model_config.min_samples_leaf\": 3,\n",
       "  \"homogeneous_random_forest_regression_model_config.decision_tree_regression_model_config.min_weight_fraction_leaf\": 0,\n",
       "  \"homogeneous_random_forest_regression_model_config.decision_tree_regression_model_config.max_features\": \"auto\",\n",
       "  \"homogeneous_random_forest_regression_model_config.decision_tree_regression_model_config.max_leaf_nodes\": 0,\n",
       "  \"homogeneous_random_forest_regression_model_config.decision_tree_regression_model_config.min_impurity_decrease\": 0,\n",
       "  \"homogeneous_random_forest_regression_model_config.decision_tree_regression_model_config.ccp_alpha\": 0,\n",
       "  \"homogeneous_random_forest_regression_model_config.decision_tree_regression_model_config.min_samples_to_fit\": 10,\n",
       "  \"homogeneous_random_forest_regression_model_config.decision_tree_regression_model_config.n_new_samples_before_refit\": 10,\n",
       "  \"homogeneous_random_forest_regression_model_config.bootstrap\": true,\n",
       "  \"experiment_designer_config.utility_function_implementation\": \"MultiObjectiveProbabilityOfImprovementUtilityFunction\",\n",
       "  \"experiment_designer_config.numeric_optimizer_implementation\": \"RandomSearchOptimizer\",\n",
       "  \"experiment_designer_config.multi_objective_probability_of_improvement_config.utility_function_name\": \"multi_objective_probability_of_improvement\",\n",
       "  \"experiment_designer_config.multi_objective_probability_of_improvement_config.num_monte_carlo_samples\": 100,\n",
       "  \"experiment_designer_config.random_search_optimizer_config.num_samples_per_iteration\": 1000,\n",
       "  \"experiment_designer_config.fraction_random_suggestions\": 0.5\n",
       "}"
      ]
     },
     "execution_count": 3,
     "metadata": {},
     "output_type": "execute_result"
    }
   ],
   "source": [
    "optimizer.optimizer_config"
   ]
  },
  {
   "cell_type": "code",
   "execution_count": 4,
   "metadata": {},
   "outputs": [
    {
     "name": "stdout",
     "output_type": "stream",
     "text": [
      "0\n"
     ]
    },
    {
     "ename": "AttributeError",
     "evalue": "'OptimizationProblem' object has no attribute 'optimization_problem'",
     "output_type": "error",
     "traceback": [
      "\u001b[1;31m---------------------------------------------------------------------------\u001b[0m",
      "\u001b[1;31mAttributeError\u001b[0m                            Traceback (most recent call last)",
      "\u001b[1;32m<ipython-input-4-591f7f087fe6>\u001b[0m in \u001b[0;36m<module>\u001b[1;34m\u001b[0m\n\u001b[0;32m      2\u001b[0m \u001b[1;32mfor\u001b[0m \u001b[0mi\u001b[0m \u001b[1;32min\u001b[0m \u001b[0mrange\u001b[0m\u001b[1;33m(\u001b[0m\u001b[0mnum_iterations\u001b[0m\u001b[1;33m)\u001b[0m\u001b[1;33m:\u001b[0m\u001b[1;33m\u001b[0m\u001b[1;33m\u001b[0m\u001b[0m\n\u001b[0;32m      3\u001b[0m     \u001b[0mprint\u001b[0m\u001b[1;33m(\u001b[0m\u001b[0mi\u001b[0m\u001b[1;33m)\u001b[0m\u001b[1;33m\u001b[0m\u001b[1;33m\u001b[0m\u001b[0m\n\u001b[1;32m----> 4\u001b[1;33m     \u001b[0mconfig\u001b[0m \u001b[1;33m=\u001b[0m \u001b[0moptimizer\u001b[0m\u001b[1;33m.\u001b[0m\u001b[0msuggest\u001b[0m\u001b[1;33m(\u001b[0m\u001b[1;33m)\u001b[0m\u001b[1;33m\u001b[0m\u001b[1;33m\u001b[0m\u001b[0m\n\u001b[0m\u001b[0;32m      5\u001b[0m     \u001b[0mvalue\u001b[0m \u001b[1;33m=\u001b[0m \u001b[0mobjective_function\u001b[0m\u001b[1;33m.\u001b[0m\u001b[0mevaluate_point\u001b[0m\u001b[1;33m(\u001b[0m\u001b[0mconfig\u001b[0m\u001b[1;33m)\u001b[0m\u001b[1;33m\u001b[0m\u001b[1;33m\u001b[0m\u001b[0m\n\u001b[0;32m      6\u001b[0m     \u001b[0moptimizer\u001b[0m\u001b[1;33m.\u001b[0m\u001b[0mregister\u001b[0m\u001b[1;33m(\u001b[0m\u001b[0mconfig\u001b[0m\u001b[1;33m.\u001b[0m\u001b[0mto_dataframe\u001b[0m\u001b[1;33m(\u001b[0m\u001b[1;33m)\u001b[0m\u001b[1;33m,\u001b[0m \u001b[0mvalue\u001b[0m\u001b[1;33m.\u001b[0m\u001b[0mto_dataframe\u001b[0m\u001b[1;33m(\u001b[0m\u001b[1;33m)\u001b[0m\u001b[1;33m)\u001b[0m\u001b[1;33m\u001b[0m\u001b[1;33m\u001b[0m\u001b[0m\n",
      "\u001b[1;32me:\\code\\github_mlos\\source\\mlos.python\\mlos\\Tracer.py\u001b[0m in \u001b[0;36mwrapper\u001b[1;34m(*args, **kwargs)\u001b[0m\n\u001b[0;32m     57\u001b[0m \u001b[1;33m\u001b[0m\u001b[0m\n\u001b[0;32m     58\u001b[0m             \u001b[1;32melse\u001b[0m\u001b[1;33m:\u001b[0m\u001b[1;33m\u001b[0m\u001b[1;33m\u001b[0m\u001b[0m\n\u001b[1;32m---> 59\u001b[1;33m                 \u001b[0mresult\u001b[0m \u001b[1;33m=\u001b[0m \u001b[0mwrapped_function\u001b[0m\u001b[1;33m(\u001b[0m\u001b[1;33m*\u001b[0m\u001b[0margs\u001b[0m\u001b[1;33m,\u001b[0m \u001b[1;33m**\u001b[0m\u001b[0mkwargs\u001b[0m\u001b[1;33m)\u001b[0m\u001b[1;33m\u001b[0m\u001b[1;33m\u001b[0m\u001b[0m\n\u001b[0m\u001b[0;32m     60\u001b[0m \u001b[1;33m\u001b[0m\u001b[0m\n\u001b[0;32m     61\u001b[0m             \u001b[1;32mreturn\u001b[0m \u001b[0mresult\u001b[0m\u001b[1;33m\u001b[0m\u001b[1;33m\u001b[0m\u001b[0m\n",
      "\u001b[1;32me:\\code\\github_mlos\\source\\mlos.python\\mlos\\Optimizers\\BayesianOptimizer.py\u001b[0m in \u001b[0;36msuggest\u001b[1;34m(self, random, context)\u001b[0m\n\u001b[0;32m    137\u001b[0m         \u001b[0mrandom\u001b[0m \u001b[1;33m=\u001b[0m \u001b[0mrandom\u001b[0m \u001b[1;32mor\u001b[0m \u001b[0mself\u001b[0m\u001b[1;33m.\u001b[0m\u001b[0mnum_observed_samples\u001b[0m \u001b[1;33m<\u001b[0m \u001b[0mself\u001b[0m\u001b[1;33m.\u001b[0m\u001b[0moptimizer_config\u001b[0m\u001b[1;33m.\u001b[0m\u001b[0mmin_samples_required_for_guided_design_of_experiments\u001b[0m\u001b[1;33m\u001b[0m\u001b[1;33m\u001b[0m\u001b[0m\n\u001b[0;32m    138\u001b[0m         \u001b[0mcontext_values\u001b[0m \u001b[1;33m=\u001b[0m \u001b[0mcontext\u001b[0m\u001b[1;33m.\u001b[0m\u001b[0mto_dataframe\u001b[0m\u001b[1;33m(\u001b[0m\u001b[1;33m)\u001b[0m \u001b[1;32mif\u001b[0m \u001b[0mcontext\u001b[0m \u001b[1;32mis\u001b[0m \u001b[1;32mnot\u001b[0m \u001b[1;32mNone\u001b[0m \u001b[1;32melse\u001b[0m \u001b[1;32mNone\u001b[0m\u001b[1;33m\u001b[0m\u001b[1;33m\u001b[0m\u001b[0m\n\u001b[1;32m--> 139\u001b[1;33m         \u001b[0mpareto_df\u001b[0m \u001b[1;33m=\u001b[0m \u001b[0mParetoFrontier\u001b[0m\u001b[1;33m.\u001b[0m\u001b[0m_compute_pareto\u001b[0m\u001b[1;33m(\u001b[0m\u001b[0mself\u001b[0m\u001b[1;33m.\u001b[0m\u001b[0moptimization_problem\u001b[0m\u001b[1;33m,\u001b[0m \u001b[0mself\u001b[0m\u001b[1;33m.\u001b[0m\u001b[0m_target_values_df\u001b[0m\u001b[1;33m)\u001b[0m\u001b[1;33m\u001b[0m\u001b[1;33m\u001b[0m\u001b[0m\n\u001b[0m\u001b[0;32m    140\u001b[0m         \u001b[0msuggested_config\u001b[0m \u001b[1;33m=\u001b[0m \u001b[0mself\u001b[0m\u001b[1;33m.\u001b[0m\u001b[0mexperiment_designer\u001b[0m\u001b[1;33m.\u001b[0m\u001b[0msuggest\u001b[0m\u001b[1;33m(\u001b[0m\u001b[0mrandom\u001b[0m\u001b[1;33m=\u001b[0m\u001b[0mrandom\u001b[0m\u001b[1;33m,\u001b[0m \u001b[0mcontext_values_dataframe\u001b[0m\u001b[1;33m=\u001b[0m\u001b[0mcontext_values\u001b[0m\u001b[1;33m,\u001b[0m \u001b[0mpareto_df\u001b[0m\u001b[1;33m=\u001b[0m\u001b[0mpareto_df\u001b[0m\u001b[1;33m)\u001b[0m\u001b[1;33m\u001b[0m\u001b[1;33m\u001b[0m\u001b[0m\n\u001b[0;32m    141\u001b[0m         \u001b[1;32massert\u001b[0m \u001b[0msuggested_config\u001b[0m \u001b[1;32min\u001b[0m \u001b[0mself\u001b[0m\u001b[1;33m.\u001b[0m\u001b[0moptimization_problem\u001b[0m\u001b[1;33m.\u001b[0m\u001b[0mparameter_space\u001b[0m\u001b[1;33m\u001b[0m\u001b[1;33m\u001b[0m\u001b[0m\n",
      "\u001b[1;32me:\\code\\github_mlos\\source\\mlos.python\\mlos\\Optimizers\\ParetoFrontier.py\u001b[0m in \u001b[0;36m_compute_pareto\u001b[1;34m(self, objectives_df)\u001b[0m\n\u001b[0;32m    108\u001b[0m         \"\"\"\n\u001b[0;32m    109\u001b[0m \u001b[1;33m\u001b[0m\u001b[0m\n\u001b[1;32m--> 110\u001b[1;33m         \u001b[1;32massert\u001b[0m \u001b[0mall\u001b[0m\u001b[1;33m(\u001b[0m\u001b[0mcolumn\u001b[0m \u001b[1;32min\u001b[0m \u001b[0mself\u001b[0m\u001b[1;33m.\u001b[0m\u001b[0moptimization_problem\u001b[0m\u001b[1;33m.\u001b[0m\u001b[0mobjective_space\u001b[0m\u001b[1;33m.\u001b[0m\u001b[0mdimension_names\u001b[0m \u001b[1;32mfor\u001b[0m \u001b[0mcolumn\u001b[0m \u001b[1;32min\u001b[0m \u001b[0mobjectives_df\u001b[0m\u001b[1;33m.\u001b[0m\u001b[0mcolumns\u001b[0m\u001b[1;33m)\u001b[0m\u001b[1;33m\u001b[0m\u001b[1;33m\u001b[0m\u001b[0m\n\u001b[0m\u001b[0;32m    111\u001b[0m \u001b[1;33m\u001b[0m\u001b[0m\n\u001b[0;32m    112\u001b[0m         \u001b[1;31m# First, let's turn it into a maximization problem, by flipping the sign of all objectives that are to be minimized.\u001b[0m\u001b[1;33m\u001b[0m\u001b[1;33m\u001b[0m\u001b[1;33m\u001b[0m\u001b[0m\n",
      "\u001b[1;32me:\\code\\github_mlos\\source\\mlos.python\\mlos\\Optimizers\\ParetoFrontier.py\u001b[0m in \u001b[0;36m<genexpr>\u001b[1;34m(.0)\u001b[0m\n\u001b[0;32m    108\u001b[0m         \"\"\"\n\u001b[0;32m    109\u001b[0m \u001b[1;33m\u001b[0m\u001b[0m\n\u001b[1;32m--> 110\u001b[1;33m         \u001b[1;32massert\u001b[0m \u001b[0mall\u001b[0m\u001b[1;33m(\u001b[0m\u001b[0mcolumn\u001b[0m \u001b[1;32min\u001b[0m \u001b[0mself\u001b[0m\u001b[1;33m.\u001b[0m\u001b[0moptimization_problem\u001b[0m\u001b[1;33m.\u001b[0m\u001b[0mobjective_space\u001b[0m\u001b[1;33m.\u001b[0m\u001b[0mdimension_names\u001b[0m \u001b[1;32mfor\u001b[0m \u001b[0mcolumn\u001b[0m \u001b[1;32min\u001b[0m \u001b[0mobjectives_df\u001b[0m\u001b[1;33m.\u001b[0m\u001b[0mcolumns\u001b[0m\u001b[1;33m)\u001b[0m\u001b[1;33m\u001b[0m\u001b[1;33m\u001b[0m\u001b[0m\n\u001b[0m\u001b[0;32m    111\u001b[0m \u001b[1;33m\u001b[0m\u001b[0m\n\u001b[0;32m    112\u001b[0m         \u001b[1;31m# First, let's turn it into a maximization problem, by flipping the sign of all objectives that are to be minimized.\u001b[0m\u001b[1;33m\u001b[0m\u001b[1;33m\u001b[0m\u001b[1;33m\u001b[0m\u001b[0m\n",
      "\u001b[1;31mAttributeError\u001b[0m: 'OptimizationProblem' object has no attribute 'optimization_problem'"
     ]
    }
   ],
   "source": [
    "num_iterations = 100\n",
    "for i in range(num_iterations):\n",
    "    print(i)\n",
    "    config = optimizer.suggest()\n",
    "    value = objective_function.evaluate_point(config)\n",
    "    optimizer.register(config.to_dataframe(), value.to_dataframe())"
   ]
  },
  {
   "cell_type": "code",
   "execution_count": null,
   "metadata": {},
   "outputs": [],
   "source": [
    "# Now let's plot the existing pareto frontier, along with some predictions.\n",
    "#\n",
    "params_df, objectives_df, context_df = optimizer.get_all_observations()\n",
    "\n",
    "# Let's create pareto frontiers over time so that we can plot them.\n",
    "#\n",
    "pareto_frontiers_over_time = []\n",
    "for i in objectives_df.index:\n",
    "    pareto_frontier = ParetoFrontier(optimization_problem=optimization_problem)\n",
    "    \n",
    "    pareto_frontiers_over_time.appen\n",
    "pareto_dfs_over_time = [pareto_frontiers_over_time[i].compute_pareto(objectives_df[:i]) for i in objectives_df.index]\n",
    "objectives_over_time = [objectives_df[:i] for i in objectives_df.index]"
   ]
  },
  {
   "cell_type": "code",
   "execution_count": null,
   "metadata": {},
   "outputs": [],
   "source": [
    "import plotly.graph_objs as go\n",
    "\n",
    "fig = go.Figure()\n",
    "\n",
    "for num_samples in (100, 10000, 1000000):\n",
    "    for alpha in (0.05, 0.01):\n",
    "        lower_bounds = []\n",
    "        upper_bounds = []\n",
    "        iterations = []\n",
    "        for i, pareto_df in enumerate(pareto_dfs_over_time[1:]):\n",
    "            volume_estimator = ParetoFrontier.approximate_pareto_volume(pareto_df, num_samples=num_samples)\n",
    "            lower_bound, upper_bound = volume_estimator.get_two_sided_confidence_interval_on_pareto_volume(alpha=alpha)\n",
    "            iterations.append(i)\n",
    "            lower_bounds.append(lower_bound)\n",
    "            upper_bounds.append(upper_bound)\n",
    "\n",
    "        fig.add_trace(go.Scatter(\n",
    "            x=iterations + iterations[::-1],\n",
    "            y=upper_bounds + lower_bounds[::-1],\n",
    "            fill='toself',\n",
    "            name=f'{(1-alpha)*100:.0f}CI from {num_samples} samples'\n",
    "        ))\n",
    "\n",
    "fig.update_layout(\n",
    "    title='Pareto Frontier Volume vs. Iteration Number',\n",
    "    xaxis_title=\"Iteration Number\",\n",
    "    yaxis_title='Pareto Frontier Volume',\n",
    "    showlegend=True\n",
    ")\n",
    "fig.show()    "
   ]
  },
  {
   "cell_type": "code",
   "execution_count": null,
   "metadata": {},
   "outputs": [],
   "source": [
    "import numpy as np\n",
    "if True:\n",
    "    # Let's create the true pareto frontier so that we can plot it.\n",
    "    #\n",
    "    objective_function.parameter_space.dimensions\n",
    "    theta0 = objective_function.parameter_space['theta0'].linspace(20)\n",
    "    theta1 = objective_function.parameter_space['theta1'].linspace(20)\n",
    "    theta0, theta1 = np.meshgrid(theta0, theta1)\n",
    "    optimum_params_df = pd.DataFrame({\n",
    "        'theta0': theta0.flatten(),\n",
    "        'theta1': theta1.flatten(),\n",
    "    })\n",
    "    optimum_params_df['radius'] = hypersphere_radius\n",
    "    optimum_objectives_df = objective_function.evaluate_dataframe(optimum_params_df)\n",
    "    true_pareto_df = ParetoFrontier.compute_pareto(optimization_problem, optimum_objectives_df)\n",
    "    true_pareto_df"
   ]
  },
  {
   "cell_type": "code",
   "execution_count": null,
   "metadata": {},
   "outputs": [],
   "source": [
    "len(params_df.index)"
   ]
  },
  {
   "cell_type": "code",
   "execution_count": null,
   "metadata": {},
   "outputs": [],
   "source": [
    "import plotly.graph_objects as go\n",
    "\n",
    "\n",
    "\n",
    "# Create figure\n",
    "fig = go.Figure(\n",
    "    data=[\n",
    "        go.Scatter(\n",
    "            x=objectives_over_time[0]['y0'],\n",
    "            y=objectives_over_time[0]['y1'],\n",
    "            mode=\"markers\",\n",
    "            marker=dict(color=\"blue\", size=10),\n",
    "            name='observed objectives'\n",
    "        ),\n",
    "        go.Scatter(\n",
    "            x=true_pareto_df['y0'],\n",
    "            y=true_pareto_df['y1'],\n",
    "            name='true pareto'\n",
    "            #mode=\"markers\",\n",
    "            #marker=dict(color=\"red\", size=10)\n",
    "        )\n",
    "    ],\n",
    "    layout=go.Layout(\n",
    "        xaxis=dict(range=[0, 10], autorange=False, zeroline=False),\n",
    "        yaxis=dict(range=[0, 10], autorange=False, zeroline=False),\n",
    "        title_text=\"Pareto over time\",\n",
    "        hovermode=\"closest\",\n",
    "        updatemenus=[dict(type=\"buttons\", buttons=[dict(label=\"Play\", method=\"animate\", args=[None])])],\n",
    "        width=700,\n",
    "        height=600\n",
    "    ),\n",
    "    frames=[\n",
    "        go.Frame(\n",
    "            data=[\n",
    "                go.Scatter(\n",
    "                    x=true_pareto_df['y0'],\n",
    "                    y=true_pareto_df['y1'],\n",
    "                    name='true pareto',\n",
    "                    mode=\"lines\",\n",
    "                    #marker=dict(color=\"red\", size=10)\n",
    "                ),\n",
    "                go.Scatter(\n",
    "                    x=pareto_dfs_over_time[i]['y0'],\n",
    "                    y=pareto_dfs_over_time[i]['y1'],\n",
    "                    name='estimated pareto',\n",
    "                    mode='lines+markers'\n",
    "                ),\n",
    "                go.Scatter(\n",
    "                    x=objectives_over_time[i]['y0'],\n",
    "                    y=objectives_over_time[i]['y1'],\n",
    "                    mode=\"markers\",\n",
    "                    marker=dict(color=\"blue\", size=10),\n",
    "                    name='observed objectives'\n",
    "                ),\n",
    "                \n",
    "            ]\n",
    "        )\n",
    "        for i in objectives_df.index\n",
    "    ]\n",
    ")\n",
    "\n",
    "fig.show()"
   ]
  },
  {
   "cell_type": "code",
   "execution_count": null,
   "metadata": {},
   "outputs": [],
   "source": [
    "# We can also compute some speculative pareto I think :)\n",
    "#\n",
    "objective_function.parameter_space.dimensions\n",
    "theta0 = objective_function.parameter_space['theta0'].linspace(40)\n",
    "theta1 = objective_function.parameter_space['theta1'].linspace(40)\n",
    "radius = objective_function.parameter_space['radius'].linspace(40)\n",
    "theta0, theta1, radius = np.meshgrid(theta0, theta1, radius)\n",
    "\n",
    "params_df = pd.DataFrame({\n",
    "    'theta0': theta0.flatten(),\n",
    "    'theta1': theta1.flatten(),\n",
    "    'radius': radius.flatten()\n",
    "})\n",
    "\n",
    "\n",
    "features_df = optimization_problem.construct_feature_dataframe(params_df)\n",
    "mo_predictions = optimizer.surrogate_model.predict(features_df)\n",
    "\n",
    "predicted_objectives_df = pd.DataFrame()\n",
    "for objective_name, prediction in mo_predictions:\n",
    "    prediction_df = prediction.get_dataframe()\n",
    "    predicted_objectives_df[objective_name] = prediction_df['predicted_value']\n",
    "\n",
    "speculative_pareto_df = ParetoFrontier.compute_pareto(optimization_problem, predicted_objectives_df)\n",
    "empirical_pareto_df =ParetoFrontier.compute_pareto(optimization_problem, objectives_df)\n",
    "speculative_pareto_df"
   ]
  },
  {
   "cell_type": "code",
   "execution_count": null,
   "metadata": {},
   "outputs": [],
   "source": [
    "import plotly.graph_objects as go\n",
    "\n",
    "# Create figure\n",
    "fig = go.Figure(\n",
    "    data=[\n",
    "        go.Scatter(\n",
    "            x=speculative_pareto_df['y0'],\n",
    "            y=speculative_pareto_df['y1'],\n",
    "            name='speculative_pareto',\n",
    "            mode='markers'\n",
    "        ),\n",
    "        go.Scatter(\n",
    "            x=empirical_pareto_df['y0'],\n",
    "            y=empirical_pareto_df['y1'],\n",
    "            name='empirical pareto',\n",
    "            mode='markers'\n",
    "        ),\n",
    "        go.Scatter(\n",
    "            x=true_pareto_df['y0'],\n",
    "            y=true_pareto_df['y1'],\n",
    "            name='true pareto'\n",
    "            #mode=\"markers\",\n",
    "            #marker=dict(color=\"red\", size=10)\n",
    "        )\n",
    "    ],\n",
    "    layout=go.Layout(\n",
    "        xaxis=dict(range=[0, 10], autorange=False, zeroline=False),\n",
    "        yaxis=dict(range=[0, 10], autorange=False, zeroline=False),\n",
    "        title_text=\"Pareto over time\",\n",
    "        hovermode=\"closest\",\n",
    "        width=800,\n",
    "        height=800\n",
    "    )\n",
    ")\n",
    "\n",
    "fig.show()"
   ]
  },
  {
   "cell_type": "code",
   "execution_count": null,
   "metadata": {},
   "outputs": [],
   "source": []
  }
 ],
 "metadata": {
  "kernelspec": {
   "display_name": "Python 3",
   "language": "python",
   "name": "python3"
  },
  "language_info": {
   "codemirror_mode": {
    "name": "ipython",
    "version": 3
   },
   "file_extension": ".py",
   "mimetype": "text/x-python",
   "name": "python",
   "nbconvert_exporter": "python",
   "pygments_lexer": "ipython3",
   "version": "3.8.6"
  }
 },
 "nbformat": 4,
 "nbformat_minor": 4
}
