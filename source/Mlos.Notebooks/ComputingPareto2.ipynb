{
 "cells": [
  {
   "cell_type": "markdown",
   "metadata": {},
   "source": [
    "# Goal\n",
    "\n",
    "The objective of this notebook is to demonstrate and visualize the computation of the pareto frontier."
   ]
  },
  {
   "cell_type": "code",
   "execution_count": 1,
   "metadata": {},
   "outputs": [
    {
     "data": {
      "text/html": [
       "<style>.container { width:100% !important; }</style>"
      ],
      "text/plain": [
       "<IPython.core.display.HTML object>"
      ]
     },
     "metadata": {},
     "output_type": "display_data"
    }
   ],
   "source": [
    "from IPython.core.display import display, HTML\n",
    "display(HTML(\"<style>.container { width:100% !important; }</style>\"))"
   ]
  },
  {
   "cell_type": "code",
   "execution_count": 2,
   "metadata": {
    "scrolled": true
   },
   "outputs": [
    {
     "name": "stderr",
     "output_type": "stream",
     "text": [
      "01/30/2021 04:03:15 -   BayesianOptimizerFactory -    INFO - [HomogeneousRandomForestRegressionModel.py: 106 -        _create_estimators() ] Creating 10 estimators. Tree config: {\n",
      "  \"criterion\": \"mse\",\n",
      "  \"splitter\": \"best\",\n",
      "  \"max_depth\": 0,\n",
      "  \"min_samples_split\": 2,\n",
      "  \"min_samples_leaf\": 3,\n",
      "  \"min_weight_fraction_leaf\": 0,\n",
      "  \"max_features\": \"auto\",\n",
      "  \"max_leaf_nodes\": 0,\n",
      "  \"min_impurity_decrease\": 0,\n",
      "  \"ccp_alpha\": 0,\n",
      "  \"min_samples_to_fit\": 10,\n",
      "  \"n_new_samples_before_refit\": 10\n",
      "}. Request id: 0.47138267737279993\n",
      "01/30/2021 04:03:15 -   BayesianOptimizerFactory -    INFO - [HomogeneousRandomForestRegressionModel.py: 120 -        _create_estimators() ] Creating DecissionTreeRegressionModel with the input_space:   Name: estimator_0_input_space\n",
      "  Dimensions:\n",
      "    spherical_coordinates___theta0: [0.00, 1.57]\n",
      "    spherical_coordinates___radius: [0.00, 10.00]\n",
      "    spherical_coordinates___theta1: [0.00, 1.57]\n",
      "01/30/2021 04:03:15 -   BayesianOptimizerFactory -    INFO - [HomogeneousRandomForestRegressionModel.py: 120 -        _create_estimators() ] Creating DecissionTreeRegressionModel with the input_space:   Name: estimator_1_input_space\n",
      "  Dimensions:\n",
      "    spherical_coordinates___theta1: [0.00, 1.57]\n",
      "    spherical_coordinates___radius: [0.00, 10.00]\n",
      "    spherical_coordinates___theta0: [0.00, 1.57]\n",
      "01/30/2021 04:03:15 -   BayesianOptimizerFactory -    INFO - [HomogeneousRandomForestRegressionModel.py: 120 -        _create_estimators() ] Creating DecissionTreeRegressionModel with the input_space:   Name: estimator_2_input_space\n",
      "  Dimensions:\n",
      "    contains_context: {False}\n",
      "    spherical_coordinates___radius: [0.00, 10.00]\n",
      "    spherical_coordinates___theta0: [0.00, 1.57]\n",
      "01/30/2021 04:03:15 -   BayesianOptimizerFactory -    INFO - [HomogeneousRandomForestRegressionModel.py: 120 -        _create_estimators() ] Creating DecissionTreeRegressionModel with the input_space:   Name: estimator_3_input_space\n",
      "  Dimensions:\n",
      "    spherical_coordinates___theta1: [0.00, 1.57]\n",
      "    contains_context: {False}\n",
      "    spherical_coordinates___theta0: [0.00, 1.57]\n",
      "01/30/2021 04:03:15 -   BayesianOptimizerFactory -    INFO - [HomogeneousRandomForestRegressionModel.py: 120 -        _create_estimators() ] Creating DecissionTreeRegressionModel with the input_space:   Name: estimator_4_input_space\n",
      "  Dimensions:\n",
      "    spherical_coordinates___theta1: [0.00, 1.57]\n",
      "    spherical_coordinates___theta0: [0.00, 1.57]\n",
      "    spherical_coordinates___radius: [0.00, 10.00]\n",
      "01/30/2021 04:03:15 -   BayesianOptimizerFactory -    INFO - [HomogeneousRandomForestRegressionModel.py: 120 -        _create_estimators() ] Creating DecissionTreeRegressionModel with the input_space:   Name: estimator_5_input_space\n",
      "  Dimensions:\n",
      "    spherical_coordinates___theta1: [0.00, 1.57]\n",
      "    contains_context: {False}\n",
      "    spherical_coordinates___theta0: [0.00, 1.57]\n",
      "01/30/2021 04:03:15 -   BayesianOptimizerFactory -    INFO - [HomogeneousRandomForestRegressionModel.py: 120 -        _create_estimators() ] Creating DecissionTreeRegressionModel with the input_space:   Name: estimator_6_input_space\n",
      "  Dimensions:\n",
      "    spherical_coordinates___theta1: [0.00, 1.57]\n",
      "    spherical_coordinates___theta0: [0.00, 1.57]\n",
      "    contains_context: {False}\n",
      "01/30/2021 04:03:15 -   BayesianOptimizerFactory -    INFO - [HomogeneousRandomForestRegressionModel.py: 120 -        _create_estimators() ] Creating DecissionTreeRegressionModel with the input_space:   Name: estimator_7_input_space\n",
      "  Dimensions:\n",
      "    contains_context: {False}\n",
      "    spherical_coordinates___radius: [0.00, 10.00]\n",
      "    spherical_coordinates___theta0: [0.00, 1.57]\n",
      "01/30/2021 04:03:15 -   BayesianOptimizerFactory -    INFO - [HomogeneousRandomForestRegressionModel.py: 120 -        _create_estimators() ] Creating DecissionTreeRegressionModel with the input_space:   Name: estimator_8_input_space\n",
      "  Dimensions:\n",
      "    contains_context: {False}\n",
      "    spherical_coordinates___radius: [0.00, 10.00]\n",
      "    spherical_coordinates___theta0: [0.00, 1.57]\n",
      "01/30/2021 04:03:16 -   BayesianOptimizerFactory -    INFO - [HomogeneousRandomForestRegressionModel.py: 120 -        _create_estimators() ] Creating DecissionTreeRegressionModel with the input_space:   Name: estimator_9_input_space\n",
      "  Dimensions:\n",
      "    spherical_coordinates___theta1: [0.00, 1.57]\n",
      "    spherical_coordinates___theta0: [0.00, 1.57]\n",
      "    spherical_coordinates___radius: [0.00, 10.00]\n",
      "01/30/2021 04:03:16 -   BayesianOptimizerFactory -    INFO - [HomogeneousRandomForestRegressionModel.py: 106 -        _create_estimators() ] Creating 10 estimators. Tree config: {\n",
      "  \"criterion\": \"mse\",\n",
      "  \"splitter\": \"best\",\n",
      "  \"max_depth\": 0,\n",
      "  \"min_samples_split\": 2,\n",
      "  \"min_samples_leaf\": 3,\n",
      "  \"min_weight_fraction_leaf\": 0,\n",
      "  \"max_features\": \"auto\",\n",
      "  \"max_leaf_nodes\": 0,\n",
      "  \"min_impurity_decrease\": 0,\n",
      "  \"ccp_alpha\": 0,\n",
      "  \"min_samples_to_fit\": 10,\n",
      "  \"n_new_samples_before_refit\": 10\n",
      "}. Request id: 0.8151872725973467\n",
      "01/30/2021 04:03:16 -   BayesianOptimizerFactory -    INFO - [HomogeneousRandomForestRegressionModel.py: 120 -        _create_estimators() ] Creating DecissionTreeRegressionModel with the input_space:   Name: estimator_0_input_space\n",
      "  Dimensions:\n",
      "    spherical_coordinates___theta1: [0.00, 1.57]\n",
      "    spherical_coordinates___theta0: [0.00, 1.57]\n",
      "    spherical_coordinates___radius: [0.00, 10.00]\n",
      "01/30/2021 04:03:16 -   BayesianOptimizerFactory -    INFO - [HomogeneousRandomForestRegressionModel.py: 120 -        _create_estimators() ] Creating DecissionTreeRegressionModel with the input_space:   Name: estimator_1_input_space\n",
      "  Dimensions:\n",
      "    spherical_coordinates___radius: [0.00, 10.00]\n",
      "    contains_context: {False}\n",
      "    spherical_coordinates___theta1: [0.00, 1.57]\n",
      "01/30/2021 04:03:16 -   BayesianOptimizerFactory -    INFO - [HomogeneousRandomForestRegressionModel.py: 120 -        _create_estimators() ] Creating DecissionTreeRegressionModel with the input_space:   Name: estimator_2_input_space\n",
      "  Dimensions:\n",
      "    contains_context: {False}\n",
      "    spherical_coordinates___theta1: [0.00, 1.57]\n",
      "    spherical_coordinates___radius: [0.00, 10.00]\n",
      "01/30/2021 04:03:16 -   BayesianOptimizerFactory -    INFO - [HomogeneousRandomForestRegressionModel.py: 120 -        _create_estimators() ] Creating DecissionTreeRegressionModel with the input_space:   Name: estimator_3_input_space\n",
      "  Dimensions:\n",
      "    spherical_coordinates___theta1: [0.00, 1.57]\n",
      "    spherical_coordinates___theta0: [0.00, 1.57]\n",
      "    contains_context: {False}\n",
      "01/30/2021 04:03:16 -   BayesianOptimizerFactory -    INFO - [HomogeneousRandomForestRegressionModel.py: 120 -        _create_estimators() ] Creating DecissionTreeRegressionModel with the input_space:   Name: estimator_4_input_space\n",
      "  Dimensions:\n",
      "    spherical_coordinates___theta1: [0.00, 1.57]\n",
      "    spherical_coordinates___radius: [0.00, 10.00]\n",
      "    spherical_coordinates___theta0: [0.00, 1.57]\n",
      "01/30/2021 04:03:16 -   BayesianOptimizerFactory -    INFO - [HomogeneousRandomForestRegressionModel.py: 120 -        _create_estimators() ] Creating DecissionTreeRegressionModel with the input_space:   Name: estimator_5_input_space\n",
      "  Dimensions:\n",
      "    spherical_coordinates___theta0: [0.00, 1.57]\n",
      "    spherical_coordinates___radius: [0.00, 10.00]\n",
      "    spherical_coordinates___theta1: [0.00, 1.57]\n",
      "01/30/2021 04:03:16 -   BayesianOptimizerFactory -    INFO - [HomogeneousRandomForestRegressionModel.py: 120 -        _create_estimators() ] Creating DecissionTreeRegressionModel with the input_space:   Name: estimator_6_input_space\n",
      "  Dimensions:\n",
      "    contains_context: {False}\n",
      "    spherical_coordinates___theta0: [0.00, 1.57]\n",
      "    spherical_coordinates___radius: [0.00, 10.00]\n",
      "01/30/2021 04:03:16 -   BayesianOptimizerFactory -    INFO - [HomogeneousRandomForestRegressionModel.py: 120 -        _create_estimators() ] Creating DecissionTreeRegressionModel with the input_space:   Name: estimator_7_input_space\n",
      "  Dimensions:\n",
      "    spherical_coordinates___theta0: [0.00, 1.57]\n",
      "    spherical_coordinates___radius: [0.00, 10.00]\n",
      "    spherical_coordinates___theta1: [0.00, 1.57]\n",
      "01/30/2021 04:03:16 -   BayesianOptimizerFactory -    INFO - [HomogeneousRandomForestRegressionModel.py: 120 -        _create_estimators() ] Creating DecissionTreeRegressionModel with the input_space:   Name: estimator_8_input_space\n",
      "  Dimensions:\n",
      "    spherical_coordinates___radius: [0.00, 10.00]\n",
      "    spherical_coordinates___theta1: [0.00, 1.57]\n",
      "    contains_context: {False}\n"
     ]
    },
    {
     "name": "stderr",
     "output_type": "stream",
     "text": [
      "01/30/2021 04:03:16 -   BayesianOptimizerFactory -    INFO - [HomogeneousRandomForestRegressionModel.py: 120 -        _create_estimators() ] Creating DecissionTreeRegressionModel with the input_space:   Name: estimator_9_input_space\n",
      "  Dimensions:\n",
      "    spherical_coordinates___theta0: [0.00, 1.57]\n",
      "    spherical_coordinates___theta1: [0.00, 1.57]\n",
      "    contains_context: {False}\n"
     ]
    }
   ],
   "source": [
    "import pandas as pd\n",
    "\n",
    "\n",
    "from mlos.OptimizerEvaluationTools.ObjectiveFunctionFactory import ObjectiveFunctionFactory\n",
    "from mlos.OptimizerEvaluationTools.SyntheticFunctions.Hypersphere import Hypersphere\n",
    "\n",
    "from mlos.Optimizers.BayesianOptimizerFactory import BayesianOptimizerFactory, bayesian_optimizer_config_store\n",
    "from mlos.Optimizers.OptimizationProblem import OptimizationProblem, Objective\n",
    "from mlos.Optimizers.ParetoFrontier import ParetoFrontier\n",
    "\n",
    "from mlos.Spaces import ContinuousDimension, DiscreteDimension, Point, SimpleHypergrid\n",
    "\n",
    "hypersphere_radius = 10\n",
    "\n",
    "objective_function_config = Point(\n",
    "    implementation=Hypersphere.__name__,\n",
    "    hypersphere_config=Point(\n",
    "        num_objectives=2,\n",
    "        minimize='none',\n",
    "        radius=hypersphere_radius\n",
    "    )\n",
    ")\n",
    "\n",
    "objective_function = ObjectiveFunctionFactory.create_objective_function(objective_function_config=objective_function_config)\n",
    "optimization_problem = objective_function.default_optimization_problem\n",
    "optimizer = BayesianOptimizerFactory().create_local_optimizer(\n",
    "    optimization_problem=optimization_problem,\n",
    "    optimizer_config=bayesian_optimizer_config_store.get_config_by_name(\"default_multi_objective_optimizer_config\")\n",
    ")"
   ]
  },
  {
   "cell_type": "code",
   "execution_count": 3,
   "metadata": {},
   "outputs": [
    {
     "data": {
      "text/plain": [
       "{\n",
       "  \"surrogate_model_implementation\": \"MultiObjectiveHomogeneousRandomForest\",\n",
       "  \"experiment_designer_implementation\": \"ParallelExperimentDesigner\",\n",
       "  \"min_samples_required_for_guided_design_of_experiments\": 10,\n",
       "  \"homogeneous_random_forest_regression_model_config.n_estimators\": 10,\n",
       "  \"homogeneous_random_forest_regression_model_config.features_fraction_per_estimator\": 0.7,\n",
       "  \"homogeneous_random_forest_regression_model_config.samples_fraction_per_estimator\": 0.7,\n",
       "  \"homogeneous_random_forest_regression_model_config.regressor_implementation\": \"DecisionTreeRegressionModel\",\n",
       "  \"homogeneous_random_forest_regression_model_config.decision_tree_regression_model_config.criterion\": \"mse\",\n",
       "  \"homogeneous_random_forest_regression_model_config.decision_tree_regression_model_config.splitter\": \"best\",\n",
       "  \"homogeneous_random_forest_regression_model_config.decision_tree_regression_model_config.max_depth\": 0,\n",
       "  \"homogeneous_random_forest_regression_model_config.decision_tree_regression_model_config.min_samples_split\": 2,\n",
       "  \"homogeneous_random_forest_regression_model_config.decision_tree_regression_model_config.min_samples_leaf\": 3,\n",
       "  \"homogeneous_random_forest_regression_model_config.decision_tree_regression_model_config.min_weight_fraction_leaf\": 0,\n",
       "  \"homogeneous_random_forest_regression_model_config.decision_tree_regression_model_config.max_features\": \"auto\",\n",
       "  \"homogeneous_random_forest_regression_model_config.decision_tree_regression_model_config.max_leaf_nodes\": 0,\n",
       "  \"homogeneous_random_forest_regression_model_config.decision_tree_regression_model_config.min_impurity_decrease\": 0,\n",
       "  \"homogeneous_random_forest_regression_model_config.decision_tree_regression_model_config.ccp_alpha\": 0,\n",
       "  \"homogeneous_random_forest_regression_model_config.decision_tree_regression_model_config.min_samples_to_fit\": 10,\n",
       "  \"homogeneous_random_forest_regression_model_config.decision_tree_regression_model_config.n_new_samples_before_refit\": 10,\n",
       "  \"homogeneous_random_forest_regression_model_config.bootstrap\": true,\n",
       "  \"parallel_experiment_designer_config.utility_function_implementation\": \"MultiObjectiveProbabilityOfImprovementUtilityFunction\",\n",
       "  \"parallel_experiment_designer_config.numeric_optimizer_implementation\": \"RandomSearchOptimizer\",\n",
       "  \"parallel_experiment_designer_config.multi_objective_probability_of_improvement_config.num_monte_carlo_samples\": 100,\n",
       "  \"parallel_experiment_designer_config.random_search_optimizer_config.num_samples_per_iteration\": 1000,\n",
       "  \"parallel_experiment_designer_config.fraction_random_suggestions\": 0.5\n",
       "}"
      ]
     },
     "execution_count": 3,
     "metadata": {},
     "output_type": "execute_result"
    }
   ],
   "source": [
    "optimizer.optimizer_config"
   ]
  },
  {
   "cell_type": "code",
   "execution_count": 4,
   "metadata": {},
   "outputs": [],
   "source": [
    "import numpy as np\n",
    "\n",
    "# Let's create the true pareto frontier so that we can plot it.\n",
    "#\n",
    "objective_function.parameter_space.dimensions\n",
    "theta0 = objective_function.parameter_space['theta0'].linspace(20)\n",
    "theta1 = objective_function.parameter_space['theta1'].linspace(20)\n",
    "theta0, theta1 = np.meshgrid(theta0, theta1)\n",
    "optimum_params_df = pd.DataFrame({\n",
    "    'theta0': theta0.flatten(),\n",
    "    'theta1': theta1.flatten(),\n",
    "})\n",
    "optimum_params_df['radius'] = hypersphere_radius\n",
    "optimum_objectives_df = objective_function.evaluate_dataframe(optimum_params_df)\n",
    "true_pareto_frontier = ParetoFrontier(optimization_problem, optimum_objectives_df)\n",
    "true_pareto_df = true_pareto_frontier.pareto_df"
   ]
  },
  {
   "cell_type": "code",
   "execution_count": 5,
   "metadata": {},
   "outputs": [],
   "source": [
    "import random\n",
    "\n",
    "max_num_pending_suggestions = 10\n",
    "pending_suggestions = []\n",
    "\n",
    "tentative_pareto_dfs_over_time = []\n",
    "pareto_dfs_over_time = []"
   ]
  },
  {
   "cell_type": "code",
   "execution_count": null,
   "metadata": {
    "scrolled": true
   },
   "outputs": [
    {
     "name": "stdout",
     "output_type": "stream",
     "text": [
      "0\n",
      "1\n",
      "2\n",
      "3\n",
      "4\n",
      "5\n",
      "6\n",
      "7\n",
      "8\n",
      "9\n",
      "10\n",
      "11\n",
      "12\n",
      "13\n",
      "14\n",
      "15\n",
      "16\n",
      "17\n",
      "18\n",
      "19\n",
      "20\n",
      "21\n",
      "22\n",
      "23\n",
      "24\n",
      "25\n",
      "26\n",
      "27\n",
      "28\n",
      "29\n",
      "30\n",
      "31\n",
      "32\n",
      "33\n"
     ]
    }
   ],
   "source": [
    "num_iterations = 100\n",
    "for i in range(num_iterations):\n",
    "    print(i)\n",
    "    config = optimizer.suggest()\n",
    "    pending_suggestions.append(config)\n",
    "    optimizer.add_pending_suggestion(config)\n",
    "    \n",
    "    if len(pending_suggestions) >= max_num_pending_suggestions:\n",
    "        config = pending_suggestions.pop(random.randint(0, len(pending_suggestions) - 1))\n",
    "        value = objective_function.evaluate_point(config)\n",
    "        optimizer.register(config.to_dataframe(), value.to_dataframe())\n",
    "        \n",
    "    tentative_pareto_dfs_over_time.append(optimizer.experiment_designer._tentative_pareto_frontier.pareto_df)\n",
    "    pareto_dfs_over_time.append(optimizer.pareto_frontier.pareto_df)\n",
    "    \n",
    "for config in pending_suggestions:\n",
    "    value = objective_function.evaluate_point(config)\n",
    "    optimizer.register(config.to_dataframe(), value.to_dataframe())\n",
    "    tentative_pareto_dfs_over_time.append(optimizer.experiment_designer._tentative_pareto_frontier.pareto_df)\n",
    "    pareto_dfs_over_time.append(optimizer.pareto_frontier.pareto_df)"
   ]
  },
  {
   "cell_type": "code",
   "execution_count": 9,
   "metadata": {},
   "outputs": [
    {
     "data": {
      "application/vnd.plotly.v1+json": {
       "config": {
        "plotlyServerURL": "https://plot.ly"
       },
       "data": [
        {
         "marker": {
          "color": "blue",
          "size": 10
         },
         "mode": "markers",
         "name": "observed objectives",
         "type": "scatter",
         "x": [],
         "y": []
        },
        {
         "name": "true pareto",
         "type": "scatter",
         "x": [
          10,
          10,
          10,
          10,
          10,
          10,
          10,
          10,
          10,
          10,
          10,
          10,
          10,
          10,
          10,
          10,
          10,
          10,
          10,
          10,
          9.965844930066698,
          9.965844930066698,
          9.965844930066698,
          9.965844930066698,
          9.965844930066698,
          9.965844930066698,
          9.965844930066698,
          9.965844930066698,
          9.965844930066698,
          9.965844930066698,
          9.965844930066698,
          9.965844930066698,
          9.965844930066698,
          9.965844930066698,
          9.965844930066698,
          9.965844930066698,
          9.965844930066698,
          9.965844930066698,
          9.965844930066698,
          9.965844930066698,
          9.863613034027223,
          9.863613034027223,
          9.863613034027223,
          9.863613034027223,
          9.863613034027223,
          9.863613034027223,
          9.863613034027223,
          9.863613034027223,
          9.863613034027223,
          9.863613034027223,
          9.863613034027223,
          9.863613034027223,
          9.863613034027223,
          9.863613034027223,
          9.863613034027223,
          9.863613034027223,
          9.863613034027223,
          9.863613034027223,
          9.863613034027223,
          9.863613034027223,
          9.694002659393304,
          9.694002659393304,
          9.694002659393304,
          9.694002659393304,
          9.694002659393304,
          9.694002659393304,
          9.694002659393304,
          9.694002659393304,
          9.694002659393304,
          9.694002659393304,
          9.694002659393304,
          9.694002659393304,
          9.694002659393304,
          9.694002659393304,
          9.694002659393304,
          9.694002659393304,
          9.694002659393304,
          9.694002659393304,
          9.694002659393304,
          9.694002659393304,
          9.458172417006347,
          9.458172417006347,
          9.458172417006347,
          9.458172417006347,
          9.458172417006347,
          9.458172417006347,
          9.458172417006347,
          9.458172417006347,
          9.458172417006347,
          9.458172417006347,
          9.458172417006347,
          9.458172417006347,
          9.458172417006347,
          9.458172417006347,
          9.458172417006347,
          9.458172417006347,
          9.458172417006347,
          9.458172417006347,
          9.458172417006347,
          9.458172417006347,
          9.157733266550574,
          9.157733266550574,
          9.157733266550574,
          9.157733266550574,
          9.157733266550574,
          9.157733266550574,
          9.157733266550574,
          9.157733266550574,
          9.157733266550574,
          9.157733266550574,
          9.157733266550574,
          9.157733266550574,
          9.157733266550574,
          9.157733266550574,
          9.157733266550574,
          9.157733266550574,
          9.157733266550574,
          9.157733266550574,
          9.157733266550574,
          9.157733266550574,
          8.794737512064891,
          8.794737512064891,
          8.794737512064891,
          8.794737512064891,
          8.794737512064891,
          8.794737512064891,
          8.794737512064891,
          8.794737512064891,
          8.794737512064891,
          8.794737512064891,
          8.794737512064891,
          8.794737512064891,
          8.794737512064891,
          8.794737512064891,
          8.794737512064891,
          8.794737512064891,
          8.794737512064891,
          8.794737512064891,
          8.794737512064891,
          8.794737512064891,
          8.371664782625286,
          8.371664782625286,
          8.371664782625286,
          8.371664782625286,
          8.371664782625286,
          8.371664782625286,
          8.371664782625286,
          8.371664782625286,
          8.371664782625286,
          8.371664782625286,
          8.371664782625286,
          8.371664782625286,
          8.371664782625286,
          8.371664782625286,
          8.371664782625286,
          8.371664782625286,
          8.371664782625286,
          8.371664782625286,
          8.371664782625286,
          8.371664782625286,
          7.891405093963936,
          7.891405093963936,
          7.891405093963936,
          7.891405093963936,
          7.891405093963936,
          7.891405093963936,
          7.891405093963936,
          7.891405093963936,
          7.891405093963936,
          7.891405093963936,
          7.891405093963936,
          7.891405093963936,
          7.891405093963936,
          7.891405093963936,
          7.891405093963936,
          7.891405093963936,
          7.891405093963936,
          7.891405093963936,
          7.891405093963936,
          7.891405093963936,
          7.357239106731317,
          7.357239106731317,
          7.357239106731317,
          7.357239106731317,
          7.357239106731317,
          7.357239106731317,
          7.357239106731317,
          7.357239106731317,
          7.357239106731317,
          7.357239106731317,
          7.357239106731317,
          7.357239106731317,
          7.357239106731317,
          7.357239106731317,
          7.357239106731317,
          7.357239106731317,
          7.357239106731317,
          7.357239106731317,
          7.357239106731317,
          7.357239106731317,
          6.772815716257411,
          6.772815716257411,
          6.772815716257411,
          6.772815716257411,
          6.772815716257411,
          6.772815716257411,
          6.772815716257411,
          6.772815716257411,
          6.772815716257411,
          6.772815716257411,
          6.772815716257411,
          6.772815716257411,
          6.772815716257411,
          6.772815716257411,
          6.772815716257411,
          6.772815716257411,
          6.772815716257411,
          6.772815716257411,
          6.772815716257411,
          6.772815716257411,
          6.142127126896678,
          6.142127126896678,
          6.142127126896678,
          6.142127126896678,
          6.142127126896678,
          6.142127126896678,
          6.142127126896678,
          6.142127126896678,
          6.142127126896678,
          6.142127126896678,
          6.142127126896678,
          6.142127126896678,
          6.142127126896678,
          6.142127126896678,
          6.142127126896678,
          6.142127126896678,
          6.142127126896678,
          6.142127126896678,
          6.142127126896678,
          6.142127126896678,
          5.4694815812242705,
          5.4694815812242705,
          5.4694815812242705,
          5.4694815812242705,
          5.4694815812242705,
          5.4694815812242705,
          5.4694815812242705,
          5.4694815812242705,
          5.4694815812242705,
          5.4694815812242705,
          5.4694815812242705,
          5.4694815812242705,
          5.4694815812242705,
          5.4694815812242705,
          5.4694815812242705,
          5.4694815812242705,
          5.4694815812242705,
          5.4694815812242705,
          5.4694815812242705,
          5.4694815812242705,
          4.759473930370736,
          4.759473930370736,
          4.759473930370736,
          4.759473930370736,
          4.759473930370736,
          4.759473930370736,
          4.759473930370736,
          4.759473930370736,
          4.759473930370736,
          4.759473930370736,
          4.759473930370736,
          4.759473930370736,
          4.759473930370736,
          4.759473930370736,
          4.759473930370736,
          4.759473930370736,
          4.759473930370736,
          4.759473930370736,
          4.759473930370736,
          4.759473930370736,
          4.0169542465296955,
          4.0169542465296955,
          4.0169542465296955,
          4.0169542465296955,
          4.0169542465296955,
          4.0169542465296955,
          4.0169542465296955,
          4.0169542465296955,
          4.0169542465296955,
          4.0169542465296955,
          4.0169542465296955,
          4.0169542465296955,
          4.0169542465296955,
          4.0169542465296955,
          4.0169542465296955,
          4.0169542465296955,
          4.0169542465296955,
          4.0169542465296955,
          4.0169542465296955,
          4.0169542465296955,
          3.2469946920468358,
          3.2469946920468358,
          3.2469946920468358,
          3.2469946920468358,
          3.2469946920468358,
          3.2469946920468358,
          3.2469946920468358,
          3.2469946920468358,
          3.2469946920468358,
          3.2469946920468358,
          3.2469946920468358,
          3.2469946920468358,
          3.2469946920468358,
          3.2469946920468358,
          3.2469946920468358,
          3.2469946920468358,
          3.2469946920468358,
          3.2469946920468358,
          3.2469946920468358,
          3.2469946920468358,
          2.4548548714079925,
          2.4548548714079925,
          2.4548548714079925,
          2.4548548714079925,
          2.4548548714079925,
          2.4548548714079925,
          2.4548548714079925,
          2.4548548714079925,
          2.4548548714079925,
          2.4548548714079925,
          2.4548548714079925,
          2.4548548714079925,
          2.4548548714079925,
          2.4548548714079925,
          2.4548548714079925,
          2.4548548714079925,
          2.4548548714079925,
          2.4548548714079925,
          2.4548548714079925,
          2.4548548714079925,
          1.6459459028073398,
          1.6459459028073398,
          1.6459459028073398,
          1.6459459028073398,
          1.6459459028073398,
          1.6459459028073398,
          1.6459459028073398,
          1.6459459028073398,
          1.6459459028073398,
          1.6459459028073398,
          1.6459459028073398,
          1.6459459028073398,
          1.6459459028073398,
          1.6459459028073398,
          1.6459459028073398,
          1.6459459028073398,
          1.6459459028073398,
          1.6459459028073398,
          1.6459459028073398,
          1.6459459028073398,
          0.8257934547233239,
          0.8257934547233239,
          0.8257934547233239,
          0.8257934547233239,
          0.8257934547233239,
          0.8257934547233239,
          0.8257934547233239,
          0.8257934547233239,
          0.8257934547233239,
          0.8257934547233239,
          0.8257934547233239,
          0.8257934547233239,
          0.8257934547233239,
          0.8257934547233239,
          0.8257934547233239,
          0.8257934547233239,
          0.8257934547233239,
          0.8257934547233239,
          0.8257934547233239,
          0.8257934547233239,
          6.123233995736766e-16,
          6.123233995736766e-16,
          6.123233995736766e-16,
          6.123233995736766e-16,
          6.123233995736766e-16,
          6.123233995736766e-16,
          6.123233995736766e-16,
          6.123233995736766e-16,
          6.123233995736766e-16,
          6.123233995736766e-16,
          6.123233995736766e-16,
          6.123233995736766e-16,
          6.123233995736766e-16,
          6.123233995736766e-16,
          6.123233995736766e-16,
          6.123233995736766e-16,
          6.123233995736766e-16,
          6.123233995736766e-16,
          6.123233995736766e-16,
          6.123233995736766e-16
         ],
         "y": [
          0,
          0,
          0,
          0,
          0,
          0,
          0,
          0,
          0,
          0,
          0,
          0,
          0,
          0,
          0,
          0,
          0,
          0,
          0,
          0,
          0.8257934547233232,
          0.8257934547233232,
          0.8257934547233232,
          0.8257934547233232,
          0.8257934547233232,
          0.8257934547233232,
          0.8257934547233232,
          0.8257934547233232,
          0.8257934547233232,
          0.8257934547233232,
          0.8257934547233232,
          0.8257934547233232,
          0.8257934547233232,
          0.8257934547233232,
          0.8257934547233232,
          0.8257934547233232,
          0.8257934547233232,
          0.8257934547233232,
          0.8257934547233232,
          0.8257934547233232,
          1.6459459028073389,
          1.6459459028073389,
          1.6459459028073389,
          1.6459459028073389,
          1.6459459028073389,
          1.6459459028073389,
          1.6459459028073389,
          1.6459459028073389,
          1.6459459028073389,
          1.6459459028073389,
          1.6459459028073389,
          1.6459459028073389,
          1.6459459028073389,
          1.6459459028073389,
          1.6459459028073389,
          1.6459459028073389,
          1.6459459028073389,
          1.6459459028073389,
          1.6459459028073389,
          1.6459459028073389,
          2.454854871407991,
          2.454854871407991,
          2.454854871407991,
          2.454854871407991,
          2.454854871407991,
          2.454854871407991,
          2.454854871407991,
          2.454854871407991,
          2.454854871407991,
          2.454854871407991,
          2.454854871407991,
          2.454854871407991,
          2.454854871407991,
          2.454854871407991,
          2.454854871407991,
          2.454854871407991,
          2.454854871407991,
          2.454854871407991,
          2.454854871407991,
          2.454854871407991,
          3.2469946920468344,
          3.2469946920468344,
          3.2469946920468344,
          3.2469946920468344,
          3.2469946920468344,
          3.2469946920468344,
          3.2469946920468344,
          3.2469946920468344,
          3.2469946920468344,
          3.2469946920468344,
          3.2469946920468344,
          3.2469946920468344,
          3.2469946920468344,
          3.2469946920468344,
          3.2469946920468344,
          3.2469946920468344,
          3.2469946920468344,
          3.2469946920468344,
          3.2469946920468344,
          3.2469946920468344,
          4.016954246529695,
          4.016954246529695,
          4.016954246529695,
          4.016954246529695,
          4.016954246529695,
          4.016954246529695,
          4.016954246529695,
          4.016954246529695,
          4.016954246529695,
          4.016954246529695,
          4.016954246529695,
          4.016954246529695,
          4.016954246529695,
          4.016954246529695,
          4.016954246529695,
          4.016954246529695,
          4.016954246529695,
          4.016954246529695,
          4.016954246529695,
          4.016954246529695,
          4.759473930370735,
          4.759473930370735,
          4.759473930370735,
          4.759473930370735,
          4.759473930370735,
          4.759473930370735,
          4.759473930370735,
          4.759473930370735,
          4.759473930370735,
          4.759473930370735,
          4.759473930370735,
          4.759473930370735,
          4.759473930370735,
          4.759473930370735,
          4.759473930370735,
          4.759473930370735,
          4.759473930370735,
          4.759473930370735,
          4.759473930370735,
          4.759473930370735,
          5.469481581224268,
          5.469481581224268,
          5.469481581224268,
          5.469481581224268,
          5.469481581224268,
          5.469481581224268,
          5.469481581224268,
          5.469481581224268,
          5.469481581224268,
          5.469481581224268,
          5.469481581224268,
          5.469481581224268,
          5.469481581224268,
          5.469481581224268,
          5.469481581224268,
          5.469481581224268,
          5.469481581224268,
          5.469481581224268,
          5.469481581224268,
          5.469481581224268,
          6.142127126896678,
          6.142127126896678,
          6.142127126896678,
          6.142127126896678,
          6.142127126896678,
          6.142127126896678,
          6.142127126896678,
          6.142127126896678,
          6.142127126896678,
          6.142127126896678,
          6.142127126896678,
          6.142127126896678,
          6.142127126896678,
          6.142127126896678,
          6.142127126896678,
          6.142127126896678,
          6.142127126896678,
          6.142127126896678,
          6.142127126896678,
          6.142127126896678,
          6.772815716257411,
          6.772815716257411,
          6.772815716257411,
          6.772815716257411,
          6.772815716257411,
          6.772815716257411,
          6.772815716257411,
          6.772815716257411,
          6.772815716257411,
          6.772815716257411,
          6.772815716257411,
          6.772815716257411,
          6.772815716257411,
          6.772815716257411,
          6.772815716257411,
          6.772815716257411,
          6.772815716257411,
          6.772815716257411,
          6.772815716257411,
          6.772815716257411,
          7.357239106731316,
          7.357239106731316,
          7.357239106731316,
          7.357239106731316,
          7.357239106731316,
          7.357239106731316,
          7.357239106731316,
          7.357239106731316,
          7.357239106731316,
          7.357239106731316,
          7.357239106731316,
          7.357239106731316,
          7.357239106731316,
          7.357239106731316,
          7.357239106731316,
          7.357239106731316,
          7.357239106731316,
          7.357239106731316,
          7.357239106731316,
          7.357239106731316,
          7.891405093963936,
          7.891405093963936,
          7.891405093963936,
          7.891405093963936,
          7.891405093963936,
          7.891405093963936,
          7.891405093963936,
          7.891405093963936,
          7.891405093963936,
          7.891405093963936,
          7.891405093963936,
          7.891405093963936,
          7.891405093963936,
          7.891405093963936,
          7.891405093963936,
          7.891405093963936,
          7.891405093963936,
          7.891405093963936,
          7.891405093963936,
          7.891405093963936,
          8.371664782625285,
          8.371664782625285,
          8.371664782625285,
          8.371664782625285,
          8.371664782625285,
          8.371664782625285,
          8.371664782625285,
          8.371664782625285,
          8.371664782625285,
          8.371664782625285,
          8.371664782625285,
          8.371664782625285,
          8.371664782625285,
          8.371664782625285,
          8.371664782625285,
          8.371664782625285,
          8.371664782625285,
          8.371664782625285,
          8.371664782625285,
          8.371664782625285,
          8.79473751206489,
          8.79473751206489,
          8.79473751206489,
          8.79473751206489,
          8.79473751206489,
          8.79473751206489,
          8.79473751206489,
          8.79473751206489,
          8.79473751206489,
          8.79473751206489,
          8.79473751206489,
          8.79473751206489,
          8.79473751206489,
          8.79473751206489,
          8.79473751206489,
          8.79473751206489,
          8.79473751206489,
          8.79473751206489,
          8.79473751206489,
          8.79473751206489,
          9.157733266550574,
          9.157733266550574,
          9.157733266550574,
          9.157733266550574,
          9.157733266550574,
          9.157733266550574,
          9.157733266550574,
          9.157733266550574,
          9.157733266550574,
          9.157733266550574,
          9.157733266550574,
          9.157733266550574,
          9.157733266550574,
          9.157733266550574,
          9.157733266550574,
          9.157733266550574,
          9.157733266550574,
          9.157733266550574,
          9.157733266550574,
          9.157733266550574,
          9.458172417006347,
          9.458172417006347,
          9.458172417006347,
          9.458172417006347,
          9.458172417006347,
          9.458172417006347,
          9.458172417006347,
          9.458172417006347,
          9.458172417006347,
          9.458172417006347,
          9.458172417006347,
          9.458172417006347,
          9.458172417006347,
          9.458172417006347,
          9.458172417006347,
          9.458172417006347,
          9.458172417006347,
          9.458172417006347,
          9.458172417006347,
          9.458172417006347,
          9.694002659393304,
          9.694002659393304,
          9.694002659393304,
          9.694002659393304,
          9.694002659393304,
          9.694002659393304,
          9.694002659393304,
          9.694002659393304,
          9.694002659393304,
          9.694002659393304,
          9.694002659393304,
          9.694002659393304,
          9.694002659393304,
          9.694002659393304,
          9.694002659393304,
          9.694002659393304,
          9.694002659393304,
          9.694002659393304,
          9.694002659393304,
          9.694002659393304,
          9.863613034027223,
          9.863613034027223,
          9.863613034027223,
          9.863613034027223,
          9.863613034027223,
          9.863613034027223,
          9.863613034027223,
          9.863613034027223,
          9.863613034027223,
          9.863613034027223,
          9.863613034027223,
          9.863613034027223,
          9.863613034027223,
          9.863613034027223,
          9.863613034027223,
          9.863613034027223,
          9.863613034027223,
          9.863613034027223,
          9.863613034027223,
          9.863613034027223,
          9.965844930066698,
          9.965844930066698,
          9.965844930066698,
          9.965844930066698,
          9.965844930066698,
          9.965844930066698,
          9.965844930066698,
          9.965844930066698,
          9.965844930066698,
          9.965844930066698,
          9.965844930066698,
          9.965844930066698,
          9.965844930066698,
          9.965844930066698,
          9.965844930066698,
          9.965844930066698,
          9.965844930066698,
          9.965844930066698,
          9.965844930066698,
          9.965844930066698,
          10,
          10,
          10,
          10,
          10,
          10,
          10,
          10,
          10,
          10,
          10,
          10,
          10,
          10,
          10,
          10,
          10,
          10,
          10,
          10
         ]
        }
       ],
       "frames": [
        {
         "data": [
          {
           "mode": "lines+markers",
           "name": "estimated pareto",
           "type": "scatter",
           "x": [
            0,
            null,
            0,
            0
           ],
           "y": [
            0,
            0,
            null,
            0
           ]
          },
          {
           "mode": "lines+markers",
           "name": "tentative pareto",
           "type": "scatter",
           "x": [
            0,
            null,
            0,
            0
           ],
           "y": [
            0,
            0,
            null,
            0
           ]
          }
         ]
        },
        {
         "data": [
          {
           "mode": "lines+markers",
           "name": "estimated pareto",
           "type": "scatter",
           "x": [
            0,
            null,
            0,
            0
           ],
           "y": [
            0,
            0,
            null,
            0
           ]
          },
          {
           "mode": "lines+markers",
           "name": "tentative pareto",
           "type": "scatter",
           "x": [
            0,
            null,
            0,
            0
           ],
           "y": [
            0,
            0,
            null,
            0
           ]
          }
         ]
        },
        {
         "data": [
          {
           "mode": "lines+markers",
           "name": "estimated pareto",
           "type": "scatter",
           "x": [
            0,
            null,
            0,
            0
           ],
           "y": [
            0,
            0,
            null,
            0
           ]
          },
          {
           "mode": "lines+markers",
           "name": "tentative pareto",
           "type": "scatter",
           "x": [
            0,
            null,
            0,
            0
           ],
           "y": [
            0,
            0,
            null,
            0
           ]
          }
         ]
        },
        {
         "data": [
          {
           "mode": "lines+markers",
           "name": "estimated pareto",
           "type": "scatter",
           "x": [
            0,
            null,
            0,
            0
           ],
           "y": [
            0,
            0,
            null,
            0
           ]
          },
          {
           "mode": "lines+markers",
           "name": "tentative pareto",
           "type": "scatter",
           "x": [
            0,
            null,
            0,
            0
           ],
           "y": [
            0,
            0,
            null,
            0
           ]
          }
         ]
        },
        {
         "data": [
          {
           "mode": "lines+markers",
           "name": "estimated pareto",
           "type": "scatter",
           "x": [
            0,
            null,
            0,
            0
           ],
           "y": [
            0,
            0,
            null,
            0
           ]
          },
          {
           "mode": "lines+markers",
           "name": "tentative pareto",
           "type": "scatter",
           "x": [
            0,
            null,
            0,
            0
           ],
           "y": [
            0,
            0,
            null,
            0
           ]
          }
         ]
        },
        {
         "data": [
          {
           "mode": "lines+markers",
           "name": "estimated pareto",
           "type": "scatter",
           "x": [
            0,
            null,
            0,
            0
           ],
           "y": [
            0,
            0,
            null,
            0
           ]
          },
          {
           "mode": "lines+markers",
           "name": "tentative pareto",
           "type": "scatter",
           "x": [
            0,
            null,
            0,
            0
           ],
           "y": [
            0,
            0,
            null,
            0
           ]
          }
         ]
        },
        {
         "data": [
          {
           "mode": "lines+markers",
           "name": "estimated pareto",
           "type": "scatter",
           "x": [
            0,
            null,
            0,
            0
           ],
           "y": [
            0,
            0,
            null,
            0
           ]
          },
          {
           "mode": "lines+markers",
           "name": "tentative pareto",
           "type": "scatter",
           "x": [
            0,
            null,
            0,
            0
           ],
           "y": [
            0,
            0,
            null,
            0
           ]
          }
         ]
        },
        {
         "data": [
          {
           "mode": "lines+markers",
           "name": "estimated pareto",
           "type": "scatter",
           "x": [
            0,
            null,
            0,
            0
           ],
           "y": [
            0,
            0,
            null,
            0
           ]
          },
          {
           "mode": "lines+markers",
           "name": "tentative pareto",
           "type": "scatter",
           "x": [
            0,
            null,
            0,
            0
           ],
           "y": [
            0,
            0,
            null,
            0
           ]
          }
         ]
        },
        {
         "data": [
          {
           "mode": "lines+markers",
           "name": "estimated pareto",
           "type": "scatter",
           "x": [
            0,
            null,
            0,
            0
           ],
           "y": [
            0,
            0,
            null,
            0
           ]
          },
          {
           "mode": "lines+markers",
           "name": "tentative pareto",
           "type": "scatter",
           "x": [
            0,
            null,
            0,
            0
           ],
           "y": [
            0,
            0,
            null,
            0
           ]
          }
         ]
        },
        {
         "data": [
          {
           "mode": "lines+markers",
           "name": "estimated pareto",
           "type": "scatter",
           "x": [
            4.940828739540212,
            4.940828739540212,
            4.940828739540212,
            0,
            0
           ],
           "y": [
            0,
            0,
            8.529340453965386,
            8.529340453965386,
            8.529340453965386
           ]
          },
          {
           "mode": "lines+markers",
           "name": "tentative pareto",
           "type": "scatter",
           "x": [
            4.940828739540212,
            4.940828739540212,
            4.940828739540212,
            0,
            0
           ],
           "y": [
            0,
            0,
            8.529340453965386,
            8.529340453965386,
            8.529340453965386
           ]
          }
         ]
        },
        {
         "data": [
          {
           "mode": "lines+markers",
           "name": "estimated pareto",
           "type": "scatter",
           "x": [
            8.180482725322042,
            8.180482725322042,
            8.180482725322042,
            4.940828739540212,
            0,
            0
           ],
           "y": [
            0,
            0,
            2.13543452680325,
            8.529340453965386,
            8.529340453965386,
            8.529340453965386
           ]
          },
          {
           "mode": "lines+markers",
           "name": "tentative pareto",
           "type": "scatter",
           "x": [
            8.180482725322042,
            8.180482725322042,
            8.180482725322042,
            4.940828739540212,
            0,
            0
           ],
           "y": [
            0,
            0,
            2.13543452680325,
            8.529340453965386,
            8.529340453965386,
            8.529340453965386
           ]
          }
         ]
        },
        {
         "data": [
          {
           "mode": "lines+markers",
           "name": "estimated pareto",
           "type": "scatter",
           "x": [
            8.180482725322042,
            8.180482725322042,
            8.180482725322042,
            7.513077861098761,
            4.940828739540212,
            0,
            0
           ],
           "y": [
            0,
            0,
            2.13543452680325,
            5.9576230214489,
            8.529340453965386,
            8.529340453965386,
            8.529340453965386
           ]
          },
          {
           "mode": "lines+markers",
           "name": "tentative pareto",
           "type": "scatter",
           "x": [
            8.180482725322042,
            8.180482725322042,
            8.180482725322042,
            7.513077861098761,
            4.940828739540212,
            0,
            0
           ],
           "y": [
            0,
            0,
            2.13543452680325,
            5.9576230214489,
            8.529340453965386,
            8.529340453965386,
            8.529340453965386
           ]
          }
         ]
        },
        {
         "data": [
          {
           "mode": "lines+markers",
           "name": "estimated pareto",
           "type": "scatter",
           "x": [
            8.180482725322042,
            8.180482725322042,
            8.180482725322042,
            7.513077861098761,
            4.940828739540212,
            0,
            0
           ],
           "y": [
            0,
            0,
            2.13543452680325,
            5.9576230214489,
            8.529340453965386,
            8.529340453965386,
            8.529340453965386
           ]
          },
          {
           "mode": "lines+markers",
           "name": "tentative pareto",
           "type": "scatter",
           "x": [
            8.180482725322042,
            8.180482725322042,
            8.180482725322042,
            7.513077861098761,
            4.940828739540212,
            0,
            0
           ],
           "y": [
            0,
            0,
            2.13543452680325,
            5.9576230214489,
            8.529340453965386,
            8.529340453965386,
            8.529340453965386
           ]
          }
         ]
        },
        {
         "data": [
          {
           "mode": "lines+markers",
           "name": "estimated pareto",
           "type": "scatter",
           "x": [
            8.180482725322042,
            8.180482725322042,
            8.180482725322042,
            7.513077861098761,
            4.940828739540212,
            0,
            0
           ],
           "y": [
            0,
            0,
            2.13543452680325,
            5.9576230214489,
            8.529340453965386,
            8.529340453965386,
            8.529340453965386
           ]
          },
          {
           "mode": "lines+markers",
           "name": "tentative pareto",
           "type": "scatter",
           "x": [
            8.180482725322042,
            8.180482725322042,
            8.180482725322042,
            7.513077861098761,
            4.940828739540212,
            0,
            0
           ],
           "y": [
            0,
            0,
            2.13543452680325,
            5.9576230214489,
            8.529340453965386,
            8.529340453965386,
            8.529340453965386
           ]
          }
         ]
        },
        {
         "data": [
          {
           "mode": "lines+markers",
           "name": "estimated pareto",
           "type": "scatter",
           "x": [
            8.180482725322042,
            8.180482725322042,
            8.180482725322042,
            7.513077861098761,
            4.940828739540212,
            0,
            0
           ],
           "y": [
            0,
            0,
            2.13543452680325,
            5.9576230214489,
            8.529340453965386,
            8.529340453965386,
            8.529340453965386
           ]
          },
          {
           "mode": "lines+markers",
           "name": "tentative pareto",
           "type": "scatter",
           "x": [
            8.180482725322042,
            8.180482725322042,
            8.180482725322042,
            7.513077861098761,
            4.940828739540212,
            0,
            0
           ],
           "y": [
            0,
            0,
            2.13543452680325,
            5.9576230214489,
            8.529340453965386,
            8.529340453965386,
            8.529340453965386
           ]
          }
         ]
        },
        {
         "data": [
          {
           "mode": "lines+markers",
           "name": "estimated pareto",
           "type": "scatter",
           "x": [
            8.180482725322042,
            8.180482725322042,
            8.180482725322042,
            7.513077861098761,
            4.940828739540212,
            0,
            0
           ],
           "y": [
            0,
            0,
            2.13543452680325,
            5.9576230214489,
            8.529340453965386,
            8.529340453965386,
            8.529340453965386
           ]
          },
          {
           "mode": "lines+markers",
           "name": "tentative pareto",
           "type": "scatter",
           "x": [
            8.180482725322042,
            8.180482725322042,
            8.180482725322042,
            7.513077861098761,
            4.940828739540212,
            0,
            0
           ],
           "y": [
            0,
            0,
            2.13543452680325,
            5.9576230214489,
            8.529340453965386,
            8.529340453965386,
            8.529340453965386
           ]
          }
         ]
        },
        {
         "data": [
          {
           "mode": "lines+markers",
           "name": "estimated pareto",
           "type": "scatter",
           "x": [
            8.180482725322042,
            8.180482725322042,
            8.180482725322042,
            7.513077861098761,
            4.940828739540212,
            0,
            0
           ],
           "y": [
            0,
            0,
            2.13543452680325,
            5.9576230214489,
            8.529340453965386,
            8.529340453965386,
            8.529340453965386
           ]
          },
          {
           "mode": "lines+markers",
           "name": "tentative pareto",
           "type": "scatter",
           "x": [
            8.180482725322042,
            8.180482725322042,
            8.180482725322042,
            7.513077861098761,
            4.940828739540212,
            0,
            0
           ],
           "y": [
            0,
            0,
            2.13543452680325,
            5.9576230214489,
            8.529340453965386,
            8.529340453965386,
            8.529340453965386
           ]
          }
         ]
        },
        {
         "data": [
          {
           "mode": "lines+markers",
           "name": "estimated pareto",
           "type": "scatter",
           "x": [
            8.180482725322042,
            8.180482725322042,
            8.180482725322042,
            7.513077861098761,
            4.940828739540212,
            0,
            0
           ],
           "y": [
            0,
            0,
            2.13543452680325,
            5.9576230214489,
            8.529340453965386,
            8.529340453965386,
            8.529340453965386
           ]
          },
          {
           "mode": "lines+markers",
           "name": "tentative pareto",
           "type": "scatter",
           "x": [
            8.180482725322042,
            8.180482725322042,
            8.180482725322042,
            7.513077861098761,
            4.940828739540212,
            0,
            0
           ],
           "y": [
            0,
            0,
            2.13543452680325,
            5.9576230214489,
            8.529340453965386,
            8.529340453965386,
            8.529340453965386
           ]
          }
         ]
        },
        {
         "data": [
          {
           "mode": "lines+markers",
           "name": "estimated pareto",
           "type": "scatter",
           "x": [
            8.180482725322042,
            8.180482725322042,
            8.180482725322042,
            7.513077861098761,
            4.940828739540212,
            0,
            0
           ],
           "y": [
            0,
            0,
            2.13543452680325,
            5.9576230214489,
            8.529340453965386,
            8.529340453965386,
            8.529340453965386
           ]
          },
          {
           "mode": "lines+markers",
           "name": "tentative pareto",
           "type": "scatter",
           "x": [
            8.180482725322042,
            8.180482725322042,
            8.180482725322042,
            7.513077861098761,
            4.940828739540212,
            0,
            0
           ],
           "y": [
            0,
            0,
            2.13543452680325,
            5.9576230214489,
            8.529340453965386,
            8.529340453965386,
            8.529340453965386
           ]
          }
         ]
        },
        {
         "data": [
          {
           "mode": "lines+markers",
           "name": "estimated pareto",
           "type": "scatter",
           "x": [
            8.180482725322042,
            8.180482725322042,
            8.180482725322042,
            7.513077861098761,
            4.940828739540212,
            0,
            0
           ],
           "y": [
            0,
            0,
            2.13543452680325,
            5.9576230214489,
            8.529340453965386,
            8.529340453965386,
            8.529340453965386
           ]
          },
          {
           "mode": "lines+markers",
           "name": "tentative pareto",
           "type": "scatter",
           "x": [
            8.180482725322042,
            8.180482725322042,
            8.180482725322042,
            7.513077861098761,
            4.940828739540212,
            0,
            0
           ],
           "y": [
            0,
            0,
            2.13543452680325,
            5.9576230214489,
            8.529340453965386,
            8.529340453965386,
            8.529340453965386
           ]
          }
         ]
        },
        {
         "data": [
          {
           "mode": "lines+markers",
           "name": "estimated pareto",
           "type": "scatter",
           "x": [
            8.180482725322042,
            8.180482725322042,
            8.180482725322042,
            7.513077861098761,
            4.940828739540212,
            0,
            0
           ],
           "y": [
            0,
            0,
            2.13543452680325,
            5.9576230214489,
            8.529340453965386,
            8.529340453965386,
            8.529340453965386
           ]
          },
          {
           "mode": "lines+markers",
           "name": "tentative pareto",
           "type": "scatter",
           "x": [
            8.180482725322042,
            8.180482725322042,
            8.180482725322042,
            7.513077861098761,
            4.940828739540212,
            0,
            0
           ],
           "y": [
            0,
            0,
            2.13543452680325,
            5.9576230214489,
            8.529340453965386,
            8.529340453965386,
            8.529340453965386
           ]
          }
         ]
        },
        {
         "data": [
          {
           "mode": "lines+markers",
           "name": "estimated pareto",
           "type": "scatter",
           "x": [
            8.180482725322042,
            8.180482725322042,
            8.180482725322042,
            7.513077861098761,
            4.940828739540212,
            0,
            0
           ],
           "y": [
            0,
            0,
            2.13543452680325,
            5.9576230214489,
            8.529340453965386,
            8.529340453965386,
            8.529340453965386
           ]
          },
          {
           "mode": "lines+markers",
           "name": "tentative pareto",
           "type": "scatter",
           "x": [
            8.180482725322042,
            8.180482725322042,
            8.180482725322042,
            7.513077861098761,
            4.940828739540212,
            0,
            0
           ],
           "y": [
            0,
            0,
            2.13543452680325,
            5.9576230214489,
            8.529340453965386,
            8.529340453965386,
            8.529340453965386
           ]
          }
         ]
        },
        {
         "data": [
          {
           "mode": "lines+markers",
           "name": "estimated pareto",
           "type": "scatter",
           "x": [
            8.180482725322042,
            8.180482725322042,
            8.180482725322042,
            7.513077861098761,
            6.770668498727068,
            4.940828739540212,
            0,
            0
           ],
           "y": [
            0,
            0,
            2.13543452680325,
            5.9576230214489,
            6.170711447894903,
            8.529340453965386,
            8.529340453965386,
            8.529340453965386
           ]
          },
          {
           "mode": "lines+markers",
           "name": "tentative pareto",
           "type": "scatter",
           "x": [
            8.180482725322042,
            8.180482725322042,
            8.180482725322042,
            7.513077861098761,
            6.770668498727068,
            4.940828739540212,
            0,
            0
           ],
           "y": [
            0,
            0,
            2.13543452680325,
            5.9576230214489,
            6.170711447894903,
            8.529340453965386,
            8.529340453965386,
            8.529340453965386
           ]
          }
         ]
        },
        {
         "data": [
          {
           "mode": "lines+markers",
           "name": "estimated pareto",
           "type": "scatter",
           "x": [
            8.180482725322042,
            8.180482725322042,
            8.180482725322042,
            7.513077861098761,
            6.770668498727068,
            4.940828739540212,
            0,
            0
           ],
           "y": [
            0,
            0,
            2.13543452680325,
            5.9576230214489,
            6.170711447894903,
            8.529340453965386,
            8.529340453965386,
            8.529340453965386
           ]
          },
          {
           "mode": "lines+markers",
           "name": "tentative pareto",
           "type": "scatter",
           "x": [
            9.962093502844336,
            9.962093502844336,
            9.962093502844336,
            9.962093502844336,
            9.962093502844336,
            4.484148334162829,
            0,
            0
           ],
           "y": [
            0,
            0,
            9.38789002298736,
            4.930754249152359,
            2.4408386862856846,
            9.38789002298736,
            9.38789002298736,
            9.38789002298736
           ]
          }
         ]
        },
        {
         "data": [
          {
           "mode": "lines+markers",
           "name": "estimated pareto",
           "type": "scatter",
           "x": [
            8.180482725322042,
            8.180482725322042,
            8.180482725322042,
            7.513077861098761,
            6.770668498727068,
            4.940828739540212,
            0,
            0
           ],
           "y": [
            0,
            0,
            2.13543452680325,
            5.9576230214489,
            6.170711447894903,
            8.529340453965386,
            8.529340453965386,
            8.529340453965386
           ]
          },
          {
           "mode": "lines+markers",
           "name": "tentative pareto",
           "type": "scatter",
           "x": [
            9.962093502844336,
            9.962093502844336,
            9.962093502844336,
            9.962093502844336,
            8.080982477180305,
            7.466477638392659,
            6.913497364191393,
            5.901472421000374,
            5.4136452967683,
            4.612120450208984,
            2.846810622055798,
            2.6049768555015103,
            0,
            0
           ],
           "y": [
            0,
            0,
            8.21392482600679,
            4.887154473112263,
            9.38789002298736,
            9.38789002298736,
            9.38789002298736,
            9.38789002298736,
            9.38789002298736,
            9.38789002298736,
            9.38789002298736,
            9.38789002298736,
            9.38789002298736,
            9.38789002298736
           ]
          }
         ]
        },
        {
         "data": [
          {
           "mode": "lines+markers",
           "name": "estimated pareto",
           "type": "scatter",
           "x": [
            8.180482725322042,
            8.180482725322042,
            8.180482725322042,
            7.513077861098761,
            6.770668498727068,
            4.940828739540212,
            0,
            0
           ],
           "y": [
            0,
            0,
            2.13543452680325,
            5.9576230214489,
            6.170711447894903,
            8.529340453965386,
            8.529340453965386,
            8.529340453965386
           ]
          },
          {
           "mode": "lines+markers",
           "name": "tentative pareto",
           "type": "scatter",
           "x": [
            9.962093502844336,
            9.962093502844336,
            9.962093502844336,
            9.126212712361024,
            9.126212712361024,
            8.465005505072023,
            7.494182651016198,
            5.355436504803599,
            4.737656730380365,
            0,
            0
           ],
           "y": [
            0,
            0,
            6.48936135396339,
            7.86469147006572,
            7.86469147006572,
            8.06956389078708,
            9.38789002298736,
            9.38789002298736,
            9.38789002298736,
            9.38789002298736,
            9.38789002298736
           ]
          }
         ]
        },
        {
         "data": [
          {
           "mode": "lines+markers",
           "name": "estimated pareto",
           "type": "scatter",
           "x": [
            8.180482725322042,
            8.180482725322042,
            8.180482725322042,
            7.513077861098761,
            6.770668498727068,
            4.940828739540212,
            0,
            0
           ],
           "y": [
            0,
            0,
            2.13543452680325,
            5.9576230214489,
            6.170711447894903,
            8.529340453965386,
            8.529340453965386,
            8.529340453965386
           ]
          },
          {
           "mode": "lines+markers",
           "name": "tentative pareto",
           "type": "scatter",
           "x": [
            10.511752469385236,
            10.511752469385236,
            10.511752469385236,
            9.696242192284746,
            9.171223945578888,
            8.375728280794176,
            3.2832328488086175,
            0,
            0
           ],
           "y": [
            0,
            0,
            5.963768486351085,
            8.475966576716173,
            9.405602410816163,
            9.405602410816163,
            9.405602410816163,
            9.405602410816163,
            9.405602410816163
           ]
          }
         ]
        },
        {
         "data": [
          {
           "mode": "lines+markers",
           "name": "estimated pareto",
           "type": "scatter",
           "x": [
            8.180482725322042,
            8.180482725322042,
            8.180482725322042,
            7.513077861098761,
            6.770668498727068,
            4.940828739540212,
            0,
            0
           ],
           "y": [
            0,
            0,
            2.13543452680325,
            5.9576230214489,
            6.170711447894903,
            8.529340453965386,
            8.529340453965386,
            8.529340453965386
           ]
          },
          {
           "mode": "lines+markers",
           "name": "tentative pareto",
           "type": "scatter",
           "x": [
            10.511752469385236,
            10.511752469385236,
            10.511752469385236,
            10.511752469385236,
            10.511752469385236,
            7.1780105893761625,
            5.61931837497872,
            5.405090892174146,
            3.829999801884232,
            0,
            0
           ],
           "y": [
            0,
            0,
            6.7167578828515575,
            5.86413474018327,
            3.7849912328981175,
            9.405602410816163,
            9.405602410816163,
            9.405602410816163,
            9.405602410816163,
            9.405602410816163,
            9.405602410816163
           ]
          }
         ]
        },
        {
         "data": [
          {
           "mode": "lines+markers",
           "name": "estimated pareto",
           "type": "scatter",
           "x": [
            8.180482725322042,
            8.180482725322042,
            8.180482725322042,
            7.513077861098761,
            6.770668498727068,
            4.940828739540212,
            2.2888374463188206,
            0,
            0
           ],
           "y": [
            0,
            0,
            2.13543452680325,
            5.9576230214489,
            6.170711447894903,
            8.529340453965386,
            9.650917956417763,
            9.650917956417763,
            9.650917956417763
           ]
          },
          {
           "mode": "lines+markers",
           "name": "tentative pareto",
           "type": "scatter",
           "x": [
            10.43809477006019,
            10.43809477006019,
            10.43809477006019,
            6.574187223058244,
            5.192649871870978,
            2.2888374463188206,
            0,
            0
           ],
           "y": [
            0,
            0,
            9.125254018083654,
            9.38789002298736,
            9.38789002298736,
            9.650917956417763,
            9.650917956417763,
            9.650917956417763
           ]
          }
         ]
        },
        {
         "data": [
          {
           "mode": "lines+markers",
           "name": "estimated pareto",
           "type": "scatter",
           "x": [
            8.180482725322042,
            8.180482725322042,
            8.180482725322042,
            7.513077861098761,
            6.770668498727068,
            4.940828739540212,
            2.2888374463188206,
            0,
            0
           ],
           "y": [
            0,
            0,
            2.13543452680325,
            5.9576230214489,
            6.170711447894903,
            8.529340453965386,
            9.650917956417763,
            9.650917956417763,
            9.650917956417763
           ]
          },
          {
           "mode": "lines+markers",
           "name": "tentative pareto",
           "type": "scatter",
           "x": [
            10.43809477006019,
            10.43809477006019,
            10.43809477006019,
            10.43809477006019,
            10.43809477006019,
            10.43809477006019,
            9.296694691573853,
            9.21896825297178,
            7.082518013427798,
            6.0642124895492575,
            2.2888374463188206,
            0,
            0
           ],
           "y": [
            0,
            0,
            8.934030309026603,
            5.875572131432635,
            5.6289181395976735,
            4.4604547130763255,
            9.38789002298736,
            9.405602410816163,
            9.405602410816163,
            9.405602410816163,
            9.650917956417763,
            9.650917956417763,
            9.650917956417763
           ]
          }
         ]
        },
        {
         "data": [
          {
           "mode": "lines+markers",
           "name": "estimated pareto",
           "type": "scatter",
           "x": [
            8.180482725322042,
            8.180482725322042,
            8.180482725322042,
            7.513077861098761,
            6.770668498727068,
            4.940828739540212,
            2.2888374463188206,
            0,
            0
           ],
           "y": [
            0,
            0,
            2.13543452680325,
            5.9576230214489,
            6.170711447894903,
            8.529340453965386,
            9.650917956417763,
            9.650917956417763,
            9.650917956417763
           ]
          },
          {
           "mode": "lines+markers",
           "name": "tentative pareto",
           "type": "scatter",
           "x": [
            10.43809477006019,
            10.43809477006019,
            10.43809477006019,
            10.43809477006019,
            10.43809477006019,
            10.43809477006019,
            10.43809477006019,
            10.43809477006019,
            10.43809477006019,
            10.43809477006019,
            10.43809477006019,
            10.43809477006019,
            9.23681587903128,
            8.494785928533211,
            6.493221913178631,
            2.2888374463188206,
            0,
            0
           ],
           "y": [
            0,
            0,
            8.03570425879306,
            7.679530203491864,
            6.872438367174105,
            6.538692171505085,
            6.031905355310638,
            5.416115132545379,
            4.67695059373626,
            4.5658393515198235,
            4.186321537201325,
            3.903928595114845,
            8.295821216185612,
            8.825786677765466,
            9.38789002298736,
            9.650917956417763,
            9.650917956417763,
            9.650917956417763
           ]
          }
         ]
        },
        {
         "data": [
          {
           "mode": "lines+markers",
           "name": "estimated pareto",
           "type": "scatter",
           "x": [
            8.180482725322042,
            8.180482725322042,
            8.180482725322042,
            7.513077861098761,
            6.770668498727068,
            5.448052604152703,
            4.940828739540212,
            2.2888374463188206,
            0,
            0
           ],
           "y": [
            0,
            0,
            2.13543452680325,
            5.9576230214489,
            6.170711447894903,
            7.217883569410541,
            8.529340453965386,
            9.650917956417763,
            9.650917956417763,
            9.650917956417763
           ]
          },
          {
           "mode": "lines+markers",
           "name": "tentative pareto",
           "type": "scatter",
           "x": [
            10.511752469385236,
            10.511752469385236,
            10.511752469385236,
            10.511752469385236,
            10.511752469385236,
            10.08836987444166,
            3.044128587848233,
            2.2888374463188206,
            0,
            0
           ],
           "y": [
            0,
            0,
            7.944127960523058,
            4.827797353919821,
            4.626120516770102,
            9.125254018083654,
            9.405602410816163,
            9.650917956417763,
            9.650917956417763,
            9.650917956417763
           ]
          }
         ]
        },
        {
         "data": [
          {
           "mode": "lines+markers",
           "name": "estimated pareto",
           "type": "scatter",
           "x": [
            8.180482725322042,
            8.180482725322042,
            8.180482725322042,
            7.513077861098761,
            6.770668498727068,
            5.448052604152703,
            4.940828739540212,
            2.2888374463188206,
            0,
            0
           ],
           "y": [
            0,
            0,
            2.13543452680325,
            5.9576230214489,
            6.170711447894903,
            7.217883569410541,
            8.529340453965386,
            9.650917956417763,
            9.650917956417763,
            9.650917956417763
           ]
          },
          {
           "mode": "lines+markers",
           "name": "tentative pareto",
           "type": "scatter",
           "x": [
            10.511752469385236,
            10.511752469385236,
            10.511752469385236,
            10.43809477006019,
            9.305183260728533,
            5.056828345551179,
            0,
            0
           ],
           "y": [
            0,
            0,
            3.327731173427839,
            8.107913839005743,
            10.44686103679169,
            10.44686103679169,
            10.44686103679169,
            10.44686103679169
           ]
          }
         ]
        },
        {
         "data": [
          {
           "mode": "lines+markers",
           "name": "estimated pareto",
           "type": "scatter",
           "x": [
            8.180482725322042,
            8.180482725322042,
            8.180482725322042,
            7.513077861098761,
            6.770668498727068,
            5.448052604152703,
            4.940828739540212,
            2.2888374463188206,
            0,
            0
           ],
           "y": [
            0,
            0,
            2.13543452680325,
            5.9576230214489,
            6.170711447894903,
            7.217883569410541,
            8.529340453965386,
            9.650917956417763,
            9.650917956417763,
            9.650917956417763
           ]
          },
          {
           "mode": "lines+markers",
           "name": "tentative pareto",
           "type": "scatter",
           "x": [
            9.039116630904498,
            9.039116630904498,
            9.039116630904498,
            7.748999895466818,
            3.790897806327357,
            0,
            0
           ],
           "y": [
            0,
            0,
            9.125254018083654,
            9.567167185271318,
            10.44686103679169,
            10.44686103679169,
            10.44686103679169
           ]
          }
         ]
        },
        {
         "data": [
          {
           "mode": "lines+markers",
           "name": "estimated pareto",
           "type": "scatter",
           "x": [
            8.180482725322042,
            8.180482725322042,
            8.180482725322042,
            7.513077861098761,
            6.770668498727068,
            5.448052604152703,
            4.940828739540212,
            2.2888374463188206,
            0,
            0
           ],
           "y": [
            0,
            0,
            2.13543452680325,
            5.9576230214489,
            6.170711447894903,
            7.217883569410541,
            8.529340453965386,
            9.650917956417763,
            9.650917956417763,
            9.650917956417763
           ]
          },
          {
           "mode": "lines+markers",
           "name": "tentative pareto",
           "type": "scatter",
           "x": [
            10.43809477006019,
            10.43809477006019,
            10.43809477006019,
            10.43809477006019,
            10.43809477006019,
            10.43809477006019,
            10.43809477006019,
            10.43809477006019,
            10.43809477006019,
            10.43809477006019,
            10.111239307503844,
            9.838757713829551,
            0,
            0
           ],
           "y": [
            0,
            0,
            7.908309126741945,
            7.842364281425953,
            7.018018992201128,
            6.404390401609374,
            6.1356310200159285,
            5.9917168862987875,
            4.740985346664961,
            4.155570452505087,
            9.788403106018892,
            10.44686103679169,
            10.44686103679169,
            10.44686103679169
           ]
          }
         ]
        },
        {
         "data": [
          {
           "mode": "lines+markers",
           "name": "estimated pareto",
           "type": "scatter",
           "x": [
            8.180482725322042,
            8.180482725322042,
            8.180482725322042,
            7.513077861098761,
            6.770668498727068,
            5.448052604152703,
            4.940828739540212,
            2.2888374463188206,
            0,
            0
           ],
           "y": [
            0,
            0,
            2.13543452680325,
            5.9576230214489,
            6.170711447894903,
            7.217883569410541,
            8.529340453965386,
            9.650917956417763,
            9.650917956417763,
            9.650917956417763
           ]
          },
          {
           "mode": "lines+markers",
           "name": "tentative pareto",
           "type": "scatter",
           "x": [
            10.43809477006019,
            10.43809477006019,
            10.43809477006019,
            10.43809477006019,
            10.43809477006019,
            10.43809477006019,
            10.43809477006019,
            10.43809477006019,
            9.287229495141737,
            6.753942830565435,
            6.329561874905137,
            4.140247948453322,
            3.807239311636091,
            3.1609111171315685,
            0,
            0
           ],
           "y": [
            0,
            0,
            9.405602410816163,
            7.843548751720208,
            7.53618564597505,
            7.358818721024082,
            6.782602799899793,
            6.053514684390798,
            10.44686103679169,
            10.44686103679169,
            10.44686103679169,
            10.44686103679169,
            10.44686103679169,
            10.44686103679169,
            10.44686103679169,
            10.44686103679169
           ]
          }
         ]
        },
        {
         "data": [
          {
           "mode": "lines+markers",
           "name": "estimated pareto",
           "type": "scatter",
           "x": [
            8.180482725322042,
            8.180482725322042,
            8.180482725322042,
            7.513077861098761,
            6.770668498727068,
            5.656171609894182,
            5.448052604152703,
            4.940828739540212,
            2.2888374463188206,
            0,
            0
           ],
           "y": [
            0,
            0,
            2.13543452680325,
            5.9576230214489,
            6.170711447894903,
            7.173219385947532,
            7.217883569410541,
            8.529340453965386,
            9.650917956417763,
            9.650917956417763,
            9.650917956417763
           ]
          },
          {
           "mode": "lines+markers",
           "name": "tentative pareto",
           "type": "scatter",
           "x": [
            10.43809477006019,
            10.43809477006019,
            10.43809477006019,
            10.43809477006019,
            10.43809477006019,
            10.43809477006019,
            5.044012117943722,
            0,
            0
           ],
           "y": [
            0,
            0,
            8.187242701013858,
            8.015892099909106,
            6.552950405807508,
            5.954754462823762,
            10.44686103679169,
            10.44686103679169,
            10.44686103679169
           ]
          }
         ]
        },
        {
         "data": [
          {
           "mode": "lines+markers",
           "name": "estimated pareto",
           "type": "scatter",
           "x": [
            8.180482725322042,
            8.180482725322042,
            8.180482725322042,
            7.513077861098761,
            6.770668498727068,
            5.656171609894182,
            5.448052604152703,
            4.940828739540212,
            2.2888374463188206,
            0,
            0
           ],
           "y": [
            0,
            0,
            2.13543452680325,
            5.9576230214489,
            6.170711447894903,
            7.173219385947532,
            7.217883569410541,
            8.529340453965386,
            9.650917956417763,
            9.650917956417763,
            9.650917956417763
           ]
          },
          {
           "mode": "lines+markers",
           "name": "tentative pareto",
           "type": "scatter",
           "x": [
            10.43809477006019,
            10.43809477006019,
            10.43809477006019,
            10.43809477006019,
            10.43809477006019,
            10.111239307503844,
            7.608782889825528,
            7.55592433503089,
            6.637875801291074,
            6.149200616254405,
            2.782282799944878,
            0,
            0
           ],
           "y": [
            0,
            0,
            7.691256471720301,
            7.486007820055409,
            6.975663951873186,
            8.626187819525427,
            10.44686103679169,
            10.44686103679169,
            10.44686103679169,
            10.44686103679169,
            10.44686103679169,
            10.44686103679169,
            10.44686103679169
           ]
          }
         ]
        },
        {
         "data": [
          {
           "mode": "lines+markers",
           "name": "estimated pareto",
           "type": "scatter",
           "x": [
            8.180482725322042,
            8.180482725322042,
            8.180482725322042,
            7.513077861098761,
            6.770668498727068,
            5.656171609894182,
            5.448052604152703,
            4.940828739540212,
            2.2888374463188206,
            0,
            0
           ],
           "y": [
            0,
            0,
            2.13543452680325,
            5.9576230214489,
            6.170711447894903,
            7.173219385947532,
            7.217883569410541,
            8.529340453965386,
            9.650917956417763,
            9.650917956417763,
            9.650917956417763
           ]
          },
          {
           "mode": "lines+markers",
           "name": "tentative pareto",
           "type": "scatter",
           "x": [
            10.43809477006019,
            10.43809477006019,
            10.43809477006019,
            10.43809477006019,
            10.43809477006019,
            10.43809477006019,
            6.548206932428476,
            6.382547036941346,
            5.230540571829294,
            4.5388694185971605,
            3.662611419756308,
            0,
            0
           ],
           "y": [
            0,
            0,
            9.405602410816163,
            8.064472460640408,
            7.529267484130322,
            4.340795434029113,
            10.44686103679169,
            10.44686103679169,
            10.44686103679169,
            10.44686103679169,
            10.44686103679169,
            10.44686103679169,
            10.44686103679169
           ]
          }
         ]
        },
        {
         "data": [
          {
           "mode": "lines+markers",
           "name": "estimated pareto",
           "type": "scatter",
           "x": [
            8.180482725322042,
            8.180482725322042,
            8.180482725322042,
            7.513077861098761,
            6.770668498727068,
            5.656171609894182,
            5.448052604152703,
            4.940828739540212,
            2.2888374463188206,
            0,
            0
           ],
           "y": [
            0,
            0,
            2.13543452680325,
            5.9576230214489,
            6.170711447894903,
            7.173219385947532,
            7.217883569410541,
            8.529340453965386,
            9.650917956417763,
            9.650917956417763,
            9.650917956417763
           ]
          },
          {
           "mode": "lines+markers",
           "name": "tentative pareto",
           "type": "scatter",
           "x": [
            10.43809477006019,
            10.43809477006019,
            10.43809477006019,
            10.43809477006019,
            10.43809477006019,
            10.336400500556785,
            4.940828739540212,
            2.2888374463188206,
            0,
            0
           ],
           "y": [
            0,
            0,
            5.022899607957501,
            4.9481959519193515,
            4.263265215666384,
            8.26435157280928,
            8.529340453965386,
            9.650917956417763,
            9.650917956417763,
            9.650917956417763
           ]
          }
         ]
        },
        {
         "data": [
          {
           "mode": "lines+markers",
           "name": "estimated pareto",
           "type": "scatter",
           "x": [
            8.180482725322042,
            8.180482725322042,
            8.180482725322042,
            7.513077861098761,
            6.770668498727068,
            5.656171609894182,
            5.448052604152703,
            4.940828739540212,
            2.2888374463188206,
            0,
            0
           ],
           "y": [
            0,
            0,
            2.13543452680325,
            5.9576230214489,
            6.170711447894903,
            7.173219385947532,
            7.217883569410541,
            8.529340453965386,
            9.650917956417763,
            9.650917956417763,
            9.650917956417763
           ]
          },
          {
           "mode": "lines+markers",
           "name": "tentative pareto",
           "type": "scatter",
           "x": [
            10.43809477006019,
            10.43809477006019,
            10.43809477006019,
            10.43809477006019,
            10.43809477006019,
            10.128288474213615,
            9.654808982414393,
            7.60363492937159,
            0,
            0
           ],
           "y": [
            0,
            0,
            4.034976859263358,
            3.7921960203519127,
            3.027454238329853,
            7.233705578193282,
            8.192651785342061,
            10.44686103679169,
            10.44686103679169,
            10.44686103679169
           ]
          }
         ]
        },
        {
         "data": [
          {
           "mode": "lines+markers",
           "name": "estimated pareto",
           "type": "scatter",
           "x": [
            8.180482725322042,
            8.180482725322042,
            8.180482725322042,
            7.513077861098761,
            6.770668498727068,
            5.656171609894182,
            5.448052604152703,
            4.940828739540212,
            2.2888374463188206,
            0,
            0
           ],
           "y": [
            0,
            0,
            2.13543452680325,
            5.9576230214489,
            6.170711447894903,
            7.173219385947532,
            7.217883569410541,
            8.529340453965386,
            9.650917956417763,
            9.650917956417763,
            9.650917956417763
           ]
          },
          {
           "mode": "lines+markers",
           "name": "tentative pareto",
           "type": "scatter",
           "x": [
            10.43809477006019,
            10.43809477006019,
            10.43809477006019,
            10.43809477006019,
            10.43809477006019,
            10.111239307503844,
            10.111239307503844,
            10.111239307503844,
            5.957132603337162,
            3.4082209967197086,
            3.358909247181779,
            0,
            0
           ],
           "y": [
            0,
            0,
            6.428709457929311,
            5.235938923902641,
            3.5965599705946087,
            8.222715957678048,
            7.650450592639721,
            7.038845095644101,
            10.44686103679169,
            10.44686103679169,
            10.44686103679169,
            10.44686103679169,
            10.44686103679169
           ]
          }
         ]
        },
        {
         "data": [
          {
           "mode": "lines+markers",
           "name": "estimated pareto",
           "type": "scatter",
           "x": [
            8.180482725322042,
            8.180482725322042,
            8.180482725322042,
            7.513077861098761,
            6.770668498727068,
            5.656171609894182,
            5.448052604152703,
            4.940828739540212,
            2.2888374463188206,
            0,
            0
           ],
           "y": [
            0,
            0,
            2.13543452680325,
            5.9576230214489,
            6.170711447894903,
            7.173219385947532,
            7.217883569410541,
            8.529340453965386,
            9.650917956417763,
            9.650917956417763,
            9.650917956417763
           ]
          },
          {
           "mode": "lines+markers",
           "name": "tentative pareto",
           "type": "scatter",
           "x": [
            10.43809477006019,
            10.43809477006019,
            10.43809477006019,
            10.43809477006019,
            10.43809477006019,
            9.487563452161812,
            7.841063216221526,
            6.926052951137747,
            6.093438724976904,
            3.5990597896626286,
            2.124851064689914,
            0,
            0
           ],
           "y": [
            0,
            0,
            7.97840467927118,
            7.813560462037737,
            5.3439744592049045,
            8.066268216188712,
            10.44686103679169,
            10.44686103679169,
            10.44686103679169,
            10.44686103679169,
            10.44686103679169,
            10.44686103679169,
            10.44686103679169
           ]
          }
         ]
        },
        {
         "data": [
          {
           "mode": "lines+markers",
           "name": "estimated pareto",
           "type": "scatter",
           "x": [
            8.180482725322042,
            8.180482725322042,
            8.180482725322042,
            7.513077861098761,
            6.770668498727068,
            5.656171609894182,
            5.448052604152703,
            4.940828739540212,
            2.2888374463188206,
            0,
            0
           ],
           "y": [
            0,
            0,
            2.13543452680325,
            5.9576230214489,
            6.170711447894903,
            7.173219385947532,
            7.217883569410541,
            8.529340453965386,
            9.650917956417763,
            9.650917956417763,
            9.650917956417763
           ]
          },
          {
           "mode": "lines+markers",
           "name": "tentative pareto",
           "type": "scatter",
           "x": [
            8.630399103541656,
            8.630399103541656,
            8.630399103541656,
            6.415099492403403,
            5.027089622948181,
            3.6703205555775513,
            3.4320111643701923,
            3.129634914750969,
            0,
            0
           ],
           "y": [
            0,
            0,
            9.26490462171106,
            9.55893674730147,
            10.462435461176039,
            11.371442335355027,
            11.371442335355027,
            11.371442335355027,
            11.371442335355027,
            11.371442335355027
           ]
          }
         ]
        },
        {
         "data": [
          {
           "mode": "lines+markers",
           "name": "estimated pareto",
           "type": "scatter",
           "x": [
            8.672984108531022,
            8.672984108531022,
            8.672984108531022,
            7.513077861098761,
            6.770668498727068,
            5.656171609894182,
            5.448052604152703,
            4.940828739540212,
            2.2888374463188206,
            0,
            0
           ],
           "y": [
            0,
            0,
            2.78061202393153,
            5.9576230214489,
            6.170711447894903,
            7.173219385947532,
            7.217883569410541,
            8.529340453965386,
            9.650917956417763,
            9.650917956417763,
            9.650917956417763
           ]
          },
          {
           "mode": "lines+markers",
           "name": "tentative pareto",
           "type": "scatter",
           "x": [
            8.672984108531022,
            8.672984108531022,
            8.672984108531022,
            7.513077861098761,
            7.011815921577574,
            4.3732711630918235,
            4.3026112981666955,
            0,
            0
           ],
           "y": [
            0,
            0,
            2.78061202393153,
            5.9576230214489,
            10.230895528917989,
            10.629883834453462,
            11.371442335355027,
            11.371442335355027,
            11.371442335355027
           ]
          }
         ]
        },
        {
         "data": [
          {
           "mode": "lines+markers",
           "name": "estimated pareto",
           "type": "scatter",
           "x": [
            8.672984108531022,
            8.672984108531022,
            8.672984108531022,
            7.513077861098761,
            6.770668498727068,
            5.656171609894182,
            5.448052604152703,
            4.940828739540212,
            2.2888374463188206,
            0,
            0
           ],
           "y": [
            0,
            0,
            2.78061202393153,
            5.9576230214489,
            6.170711447894903,
            7.173219385947532,
            7.217883569410541,
            8.529340453965386,
            9.650917956417763,
            9.650917956417763,
            9.650917956417763
           ]
          },
          {
           "mode": "lines+markers",
           "name": "tentative pareto",
           "type": "scatter",
           "x": [
            9.20537718794785,
            9.20537718794785,
            9.20537718794785,
            9.20537718794785,
            9.182990184779907,
            4.482493043705986,
            4.229154355343069,
            3.873358302606144,
            2.3879272105981064,
            1.916605983797461,
            0,
            0
           ],
           "y": [
            0,
            0,
            8.382250721396783,
            2.946473280796599,
            8.802073745097577,
            10.629883834453462,
            11.371442335355027,
            11.371442335355027,
            11.371442335355027,
            11.371442335355027,
            11.371442335355027,
            11.371442335355027
           ]
          }
         ]
        },
        {
         "data": [
          {
           "mode": "lines+markers",
           "name": "estimated pareto",
           "type": "scatter",
           "x": [
            8.672984108531022,
            8.672984108531022,
            8.672984108531022,
            8.05269279162309,
            7.513077861098761,
            6.770668498727068,
            5.656171609894182,
            5.448052604152703,
            4.940828739540212,
            2.2888374463188206,
            0,
            0
           ],
           "y": [
            0,
            0,
            2.78061202393153,
            4.972236643294501,
            5.9576230214489,
            6.170711447894903,
            7.173219385947532,
            7.217883569410541,
            8.529340453965386,
            9.650917956417763,
            9.650917956417763,
            9.650917956417763
           ]
          },
          {
           "mode": "lines+markers",
           "name": "tentative pareto",
           "type": "scatter",
           "x": [
            8.672984108531022,
            8.672984108531022,
            8.672984108531022,
            8.05269279162309,
            7.513077861098761,
            6.770668498727068,
            5.656171609894182,
            5.448052604152703,
            4.940828739540212,
            4.3962813664628975,
            1.228279216241835,
            -0.26702833365703893,
            0,
            0
           ],
           "y": [
            0,
            0,
            2.78061202393153,
            4.972236643294501,
            5.9576230214489,
            6.170711447894903,
            7.173219385947532,
            7.217883569410541,
            8.529340453965386,
            11.371442335355027,
            11.371442335355027,
            11.371442335355027,
            11.371442335355027,
            11.371442335355027
           ]
          }
         ]
        },
        {
         "data": [
          {
           "mode": "lines+markers",
           "name": "estimated pareto",
           "type": "scatter",
           "x": [
            8.672984108531022,
            8.672984108531022,
            8.672984108531022,
            8.05269279162309,
            7.513077861098761,
            6.770668498727068,
            5.656171609894182,
            5.448052604152703,
            4.940828739540212,
            2.2888374463188206,
            0,
            0
           ],
           "y": [
            0,
            0,
            2.78061202393153,
            4.972236643294501,
            5.9576230214489,
            6.170711447894903,
            7.173219385947532,
            7.217883569410541,
            8.529340453965386,
            9.650917956417763,
            9.650917956417763,
            9.650917956417763
           ]
          },
          {
           "mode": "lines+markers",
           "name": "tentative pareto",
           "type": "scatter",
           "x": [
            8.672984108531022,
            8.672984108531022,
            8.672984108531022,
            8.275236090071115,
            8.275236090071115,
            7.7958218971214475,
            7.7958218971214475,
            7.146920628318041,
            6.145503823927651,
            5.55782920064121,
            2.0657207090564382,
            0.2193468080770007,
            -0.755220875238994,
            0,
            0
           ],
           "y": [
            0,
            0,
            2.78061202393153,
            5.740281556146476,
            4.675776105051421,
            8.15283737799259,
            8.058361844512408,
            9.82696032680394,
            10.462435461176039,
            10.462435461176039,
            11.371442335355027,
            11.371442335355027,
            11.371442335355027,
            11.371442335355027,
            11.371442335355027
           ]
          }
         ]
        },
        {
         "data": [
          {
           "mode": "lines+markers",
           "name": "estimated pareto",
           "type": "scatter",
           "x": [
            8.672984108531022,
            8.672984108531022,
            8.672984108531022,
            8.05269279162309,
            7.513077861098761,
            6.770668498727068,
            5.656171609894182,
            5.448052604152703,
            4.940828739540212,
            2.2888374463188206,
            0,
            0
           ],
           "y": [
            0,
            0,
            2.78061202393153,
            4.972236643294501,
            5.9576230214489,
            6.170711447894903,
            7.173219385947532,
            7.217883569410541,
            8.529340453965386,
            9.650917956417763,
            9.650917956417763,
            9.650917956417763
           ]
          },
          {
           "mode": "lines+markers",
           "name": "tentative pareto",
           "type": "scatter",
           "x": [
            9.20537718794785,
            9.20537718794785,
            9.20537718794785,
            9.20537718794785,
            9.20537718794785,
            7.7958218971214475,
            4.65819488663513,
            3.1490255360713064,
            2.211259600435874,
            1.974192031313786,
            0.7009664245990608,
            0,
            0
           ],
           "y": [
            0,
            0,
            9.574280289717553,
            6.259158032274948,
            2.431458441517573,
            10.462435461176039,
            10.880298286521233,
            11.371442335355027,
            11.371442335355027,
            11.371442335355027,
            11.371442335355027,
            11.371442335355027,
            11.371442335355027
           ]
          }
         ]
        },
        {
         "data": [
          {
           "mode": "lines+markers",
           "name": "estimated pareto",
           "type": "scatter",
           "x": [
            8.672984108531022,
            8.672984108531022,
            8.672984108531022,
            8.258313370734408,
            7.513077861098761,
            6.770668498727068,
            5.656171609894182,
            5.448052604152703,
            4.940828739540212,
            2.2888374463188206,
            0,
            0
           ],
           "y": [
            0,
            0,
            2.78061202393153,
            5.224934788815689,
            5.9576230214489,
            6.170711447894903,
            7.173219385947532,
            7.217883569410541,
            8.529340453965386,
            9.650917956417763,
            9.650917956417763,
            9.650917956417763
           ]
          },
          {
           "mode": "lines+markers",
           "name": "tentative pareto",
           "type": "scatter",
           "x": [
            9.265950819974247,
            9.265950819974247,
            9.265950819974247,
            9.265950819974247,
            9.265950819974247,
            9.075533461430968,
            8.506089107095525,
            4.940828739540212,
            3.505326525967469,
            0,
            0
           ],
           "y": [
            0,
            0,
            5.769458616211386,
            5.61383310457096,
            5.408528093285561,
            5.909642439448575,
            7.425322490881723,
            8.529340453965386,
            11.371442335355027,
            11.371442335355027,
            11.371442335355027
           ]
          }
         ]
        },
        {
         "data": [
          {
           "mode": "lines+markers",
           "name": "estimated pareto",
           "type": "scatter",
           "x": [
            8.672984108531022,
            8.672984108531022,
            8.672984108531022,
            8.258313370734408,
            7.513077861098761,
            6.770668498727068,
            5.656171609894182,
            5.448052604152703,
            4.940828739540212,
            2.2888374463188206,
            0,
            0
           ],
           "y": [
            0,
            0,
            2.78061202393153,
            5.224934788815689,
            5.9576230214489,
            6.170711447894903,
            7.173219385947532,
            7.217883569410541,
            8.529340453965386,
            9.650917956417763,
            9.650917956417763,
            9.650917956417763
           ]
          },
          {
           "mode": "lines+markers",
           "name": "tentative pareto",
           "type": "scatter",
           "x": [
            9.265950819974247,
            9.265950819974247,
            9.265950819974247,
            9.265950819974247,
            7.6326552849310385,
            4.137616926481253,
            2.0438273998356986,
            1.9022428877758213,
            -1.6048183352475063,
            0,
            0
           ],
           "y": [
            0,
            0,
            8.293714894614357,
            3.9629506281086746,
            8.685017571979035,
            10.936683596921648,
            11.371442335355027,
            11.371442335355027,
            11.371442335355027,
            11.371442335355027,
            11.371442335355027
           ]
          }
         ]
        },
        {
         "data": [
          {
           "mode": "lines+markers",
           "name": "estimated pareto",
           "type": "scatter",
           "x": [
            8.672984108531022,
            8.672984108531022,
            8.672984108531022,
            8.258313370734408,
            7.513077861098761,
            6.770668498727068,
            5.656171609894182,
            5.448052604152703,
            4.940828739540212,
            2.2888374463188206,
            0,
            0
           ],
           "y": [
            0,
            0,
            2.78061202393153,
            5.224934788815689,
            5.9576230214489,
            6.170711447894903,
            7.173219385947532,
            7.217883569410541,
            8.529340453965386,
            9.650917956417763,
            9.650917956417763,
            9.650917956417763
           ]
          },
          {
           "mode": "lines+markers",
           "name": "tentative pareto",
           "type": "scatter",
           "x": [
            9.265950819974247,
            9.265950819974247,
            9.265950819974247,
            9.265950819974247,
            9.265950819974247,
            8.599497473325389,
            7.52122927562337,
            5.994676452735308,
            0,
            0
           ],
           "y": [
            0,
            0,
            4.808800931325007,
            4.500356321847012,
            3.3814362809399645,
            7.949494060956496,
            8.778335830380414,
            10.462435461176039,
            10.462435461176039,
            10.462435461176039
           ]
          }
         ]
        },
        {
         "data": [
          {
           "mode": "lines+markers",
           "name": "estimated pareto",
           "type": "scatter",
           "x": [
            8.672984108531022,
            8.672984108531022,
            8.672984108531022,
            8.258313370734408,
            7.513077861098761,
            6.770668498727068,
            5.656171609894182,
            5.448052604152703,
            4.940828739540212,
            2.2888374463188206,
            0,
            0
           ],
           "y": [
            0,
            0,
            2.78061202393153,
            5.224934788815689,
            5.9576230214489,
            6.170711447894903,
            7.173219385947532,
            7.217883569410541,
            8.529340453965386,
            9.650917956417763,
            9.650917956417763,
            9.650917956417763
           ]
          },
          {
           "mode": "lines+markers",
           "name": "tentative pareto",
           "type": "scatter",
           "x": [
            9.265950819974247,
            9.265950819974247,
            9.265950819974247,
            9.265950819974247,
            8.421245211032229,
            7.452644832357427,
            7.426583869013785,
            6.622495154108788,
            6.550949446635676,
            5.748003394069069,
            4.57972496160411,
            0,
            0
           ],
           "y": [
            0,
            0,
            6.461775805369574,
            2.1719737250927826,
            7.177168592487607,
            9.03227784702512,
            9.089932084188776,
            10.462435461176039,
            10.462435461176039,
            10.462435461176039,
            10.462435461176039,
            10.462435461176039,
            10.462435461176039
           ]
          }
         ]
        },
        {
         "data": [
          {
           "mode": "lines+markers",
           "name": "estimated pareto",
           "type": "scatter",
           "x": [
            8.672984108531022,
            8.672984108531022,
            8.672984108531022,
            8.258313370734408,
            7.513077861098761,
            6.770668498727068,
            5.656171609894182,
            5.448052604152703,
            4.940828739540212,
            2.2888374463188206,
            0,
            0
           ],
           "y": [
            0,
            0,
            2.78061202393153,
            5.224934788815689,
            5.9576230214489,
            6.170711447894903,
            7.173219385947532,
            7.217883569410541,
            8.529340453965386,
            9.650917956417763,
            9.650917956417763,
            9.650917956417763
           ]
          },
          {
           "mode": "lines+markers",
           "name": "tentative pareto",
           "type": "scatter",
           "x": [
            8.672984108531022,
            8.672984108531022,
            8.672984108531022,
            8.258313370734408,
            7.513077861098761,
            6.793165899103854,
            4.13452620678034,
            0,
            0
           ],
           "y": [
            0,
            0,
            2.78061202393153,
            5.224934788815689,
            5.9576230214489,
            9.925086380974442,
            10.462435461176039,
            10.462435461176039,
            10.462435461176039
           ]
          }
         ]
        },
        {
         "data": [
          {
           "mode": "lines+markers",
           "name": "estimated pareto",
           "type": "scatter",
           "x": [
            8.672984108531022,
            8.672984108531022,
            8.672984108531022,
            8.258313370734408,
            7.513077861098761,
            6.770668498727068,
            5.656171609894182,
            5.448052604152703,
            4.940828739540212,
            2.2888374463188206,
            0,
            0
           ],
           "y": [
            0,
            0,
            2.78061202393153,
            5.224934788815689,
            5.9576230214489,
            6.170711447894903,
            7.173219385947532,
            7.217883569410541,
            8.529340453965386,
            9.650917956417763,
            9.650917956417763,
            9.650917956417763
           ]
          },
          {
           "mode": "lines+markers",
           "name": "tentative pareto",
           "type": "scatter",
           "x": [
            9.049462129570564,
            9.049462129570564,
            9.049462129570564,
            9.049462129570564,
            9.049462129570564,
            8.258313370734408,
            8.098218187898771,
            7.549456479545618,
            7.323271869349778,
            7.194991083893865,
            5.516730041518595,
            0,
            0
           ],
           "y": [
            0,
            0,
            5.089779410386081,
            5.069133934593117,
            -1.9570465537644752,
            5.224934788815689,
            8.48713951232111,
            8.48713951232111,
            8.48713951232111,
            9.392667696278844,
            9.905447241645788,
            9.905447241645788,
            9.905447241645788
           ]
          }
         ]
        },
        {
         "data": [
          {
           "mode": "lines+markers",
           "name": "estimated pareto",
           "type": "scatter",
           "x": [
            8.672984108531022,
            8.672984108531022,
            8.672984108531022,
            8.258313370734408,
            7.513077861098761,
            6.770668498727068,
            5.656171609894182,
            5.448052604152703,
            4.940828739540212,
            2.2888374463188206,
            0,
            0
           ],
           "y": [
            0,
            0,
            2.78061202393153,
            5.224934788815689,
            5.9576230214489,
            6.170711447894903,
            7.173219385947532,
            7.217883569410541,
            8.529340453965386,
            9.650917956417763,
            9.650917956417763,
            9.650917956417763
           ]
          },
          {
           "mode": "lines+markers",
           "name": "tentative pareto",
           "type": "scatter",
           "x": [
            9.049462129570564,
            9.049462129570564,
            9.049462129570564,
            9.049462129570564,
            9.049462129570564,
            8.512114351877015,
            6.825143681797371,
            6.791329173651503,
            6.512942851845871,
            6.406160362083879,
            6.171908402141933,
            0,
            0
           ],
           "y": [
            0,
            0,
            3.0980933892588043,
            3.038696769892498,
            2.1345622073292216,
            7.550548370666949,
            8.13541175945743,
            8.923549685551736,
            10.462435461176039,
            10.462435461176039,
            10.462435461176039,
            10.462435461176039,
            10.462435461176039
           ]
          }
         ]
        },
        {
         "data": [
          {
           "mode": "lines+markers",
           "name": "estimated pareto",
           "type": "scatter",
           "x": [
            8.672984108531022,
            8.672984108531022,
            8.672984108531022,
            8.258313370734408,
            7.513077861098761,
            6.770668498727068,
            5.656171609894182,
            5.448052604152703,
            4.940828739540212,
            2.2888374463188206,
            0,
            0
           ],
           "y": [
            0,
            0,
            2.78061202393153,
            5.224934788815689,
            5.9576230214489,
            6.170711447894903,
            7.173219385947532,
            7.217883569410541,
            8.529340453965386,
            9.650917956417763,
            9.650917956417763,
            9.650917956417763
           ]
          },
          {
           "mode": "lines+markers",
           "name": "tentative pareto",
           "type": "scatter",
           "x": [
            9.11433730070476,
            9.11433730070476,
            9.11433730070476,
            9.11433730070476,
            9.11433730070476,
            9.11433730070476,
            9.11433730070476,
            7.0638100499045375,
            0,
            0
           ],
           "y": [
            0,
            0,
            8.893055488311136,
            8.39021619865956,
            6.733328629130166,
            6.368571199159939,
            4.546901878828935,
            10.32839292512373,
            10.32839292512373,
            10.32839292512373
           ]
          }
         ]
        },
        {
         "data": [
          {
           "mode": "lines+markers",
           "name": "estimated pareto",
           "type": "scatter",
           "x": [
            8.672984108531022,
            8.672984108531022,
            8.672984108531022,
            8.258313370734408,
            7.513077861098761,
            6.770668498727068,
            5.656171609894182,
            5.448052604152703,
            4.940828739540212,
            2.2888374463188206,
            0,
            0
           ],
           "y": [
            0,
            0,
            2.78061202393153,
            5.224934788815689,
            5.9576230214489,
            6.170711447894903,
            7.173219385947532,
            7.217883569410541,
            8.529340453965386,
            9.650917956417763,
            9.650917956417763,
            9.650917956417763
           ]
          },
          {
           "mode": "lines+markers",
           "name": "tentative pareto",
           "type": "scatter",
           "x": [
            9.11433730070476,
            9.11433730070476,
            9.11433730070476,
            9.11433730070476,
            9.11433730070476,
            9.11433730070476,
            7.855278977518934,
            4.642430417773104,
            1.7476672990066486,
            1.2265989630387142,
            0,
            0
           ],
           "y": [
            0,
            0,
            9.188997325641862,
            7.633631079015369,
            5.638673830679789,
            5.585112306027164,
            10.196548438717315,
            10.32839292512373,
            10.458267173587053,
            10.458267173587053,
            10.458267173587053,
            10.458267173587053
           ]
          }
         ]
        },
        {
         "data": [
          {
           "mode": "lines+markers",
           "name": "estimated pareto",
           "type": "scatter",
           "x": [
            8.672984108531022,
            8.672984108531022,
            8.672984108531022,
            8.258313370734408,
            7.513077861098761,
            7.093950619297406,
            5.656171609894182,
            5.448052604152703,
            4.940828739540212,
            2.2888374463188206,
            0,
            0
           ],
           "y": [
            0,
            0,
            2.78061202393153,
            5.224934788815689,
            5.9576230214489,
            6.42168859050172,
            7.173219385947532,
            7.217883569410541,
            8.529340453965386,
            9.650917956417763,
            9.650917956417763,
            9.650917956417763
           ]
          },
          {
           "mode": "lines+markers",
           "name": "tentative pareto",
           "type": "scatter",
           "x": [
            9.161682321402033,
            9.161682321402033,
            9.161682321402033,
            8.367541416559167,
            0,
            0
           ],
           "y": [
            0,
            0,
            10.648729498597207,
            10.840185253482948,
            10.840185253482948,
            10.840185253482948
           ]
          }
         ]
        },
        {
         "data": [
          {
           "mode": "lines+markers",
           "name": "estimated pareto",
           "type": "scatter",
           "x": [
            8.672984108531022,
            8.672984108531022,
            8.672984108531022,
            8.258313370734408,
            7.513077861098761,
            7.093950619297406,
            5.656171609894182,
            5.448052604152703,
            4.940828739540212,
            2.2888374463188206,
            0,
            0
           ],
           "y": [
            0,
            0,
            2.78061202393153,
            5.224934788815689,
            5.9576230214489,
            6.42168859050172,
            7.173219385947532,
            7.217883569410541,
            8.529340453965386,
            9.650917956417763,
            9.650917956417763,
            9.650917956417763
           ]
          },
          {
           "mode": "lines+markers",
           "name": "tentative pareto",
           "type": "scatter",
           "x": [
            9.161682321402033,
            9.161682321402033,
            9.161682321402033,
            9.161682321402033,
            9.161682321402033,
            9.161682321402033,
            5.656171609894182,
            5.448052604152703,
            4.940828739540212,
            2.2888374463188206,
            0,
            0
           ],
           "y": [
            0,
            0,
            6.4587124717152715,
            4.755588328347768,
            4.373558134893089,
            1.730283559879759,
            7.173219385947532,
            7.217883569410541,
            8.529340453965386,
            9.650917956417763,
            9.650917956417763,
            9.650917956417763
           ]
          }
         ]
        },
        {
         "data": [
          {
           "mode": "lines+markers",
           "name": "estimated pareto",
           "type": "scatter",
           "x": [
            8.672984108531022,
            8.672984108531022,
            8.672984108531022,
            8.258313370734408,
            7.513077861098761,
            7.093950619297406,
            5.656171609894182,
            5.448052604152703,
            4.940828739540212,
            2.2888374463188206,
            0,
            0
           ],
           "y": [
            0,
            0,
            2.78061202393153,
            5.224934788815689,
            5.9576230214489,
            6.42168859050172,
            7.173219385947532,
            7.217883569410541,
            8.529340453965386,
            9.650917956417763,
            9.650917956417763,
            9.650917956417763
           ]
          },
          {
           "mode": "lines+markers",
           "name": "tentative pareto",
           "type": "scatter",
           "x": [
            9.161682321402033,
            9.161682321402033,
            9.161682321402033,
            9.161682321402033,
            9.161682321402033,
            6.283783544074255,
            4.118869790674815,
            0,
            0
           ],
           "y": [
            0,
            0,
            10.501195285625315,
            3.030641393921888,
            2.951593771561393,
            10.840185253482948,
            10.840185253482948,
            10.840185253482948,
            10.840185253482948
           ]
          }
         ]
        },
        {
         "data": [
          {
           "mode": "lines+markers",
           "name": "estimated pareto",
           "type": "scatter",
           "x": [
            8.672984108531022,
            8.672984108531022,
            8.672984108531022,
            8.258313370734408,
            7.513077861098761,
            7.093950619297406,
            5.656171609894182,
            5.448052604152703,
            4.940828739540212,
            2.2888374463188206,
            0,
            0
           ],
           "y": [
            0,
            0,
            2.78061202393153,
            5.224934788815689,
            5.9576230214489,
            6.42168859050172,
            7.173219385947532,
            7.217883569410541,
            8.529340453965386,
            9.650917956417763,
            9.650917956417763,
            9.650917956417763
           ]
          },
          {
           "mode": "lines+markers",
           "name": "tentative pareto",
           "type": "scatter",
           "x": [
            9.161682321402033,
            9.161682321402033,
            9.161682321402033,
            8.258313370734408,
            7.513077861098761,
            7.093950619297406,
            5.656171609894182,
            5.64751672451683,
            5.42736685007209,
            0,
            0
           ],
           "y": [
            0,
            0,
            3.0310182904737517,
            5.224934788815689,
            5.9576230214489,
            6.42168859050172,
            7.173219385947532,
            10.840185253482948,
            10.840185253482948,
            10.840185253482948,
            10.840185253482948
           ]
          }
         ]
        },
        {
         "data": [
          {
           "mode": "lines+markers",
           "name": "estimated pareto",
           "type": "scatter",
           "x": [
            8.672984108531022,
            8.672984108531022,
            8.672984108531022,
            8.258313370734408,
            7.513077861098761,
            7.093950619297406,
            5.656171609894182,
            5.448052604152703,
            4.940828739540212,
            2.2888374463188206,
            0,
            0
           ],
           "y": [
            0,
            0,
            2.78061202393153,
            5.224934788815689,
            5.9576230214489,
            6.42168859050172,
            7.173219385947532,
            7.217883569410541,
            8.529340453965386,
            9.650917956417763,
            9.650917956417763,
            9.650917956417763
           ]
          },
          {
           "mode": "lines+markers",
           "name": "tentative pareto",
           "type": "scatter",
           "x": [
            9.161682321402033,
            9.161682321402033,
            9.161682321402033,
            9.161682321402033,
            6.976567176081483,
            4.8684286816419995,
            0,
            0
           ],
           "y": [
            0,
            0,
            9.363919126812004,
            4.246944430187504,
            10.37021342125089,
            10.840185253482948,
            10.840185253482948,
            10.840185253482948
           ]
          }
         ]
        },
        {
         "data": [
          {
           "mode": "lines+markers",
           "name": "estimated pareto",
           "type": "scatter",
           "x": [
            8.672984108531022,
            8.672984108531022,
            8.672984108531022,
            8.258313370734408,
            7.513077861098761,
            7.093950619297406,
            5.656171609894182,
            5.448052604152703,
            4.940828739540212,
            2.2888374463188206,
            0,
            0
           ],
           "y": [
            0,
            0,
            2.78061202393153,
            5.224934788815689,
            5.9576230214489,
            6.42168859050172,
            7.173219385947532,
            7.217883569410541,
            8.529340453965386,
            9.650917956417763,
            9.650917956417763,
            9.650917956417763
           ]
          },
          {
           "mode": "lines+markers",
           "name": "tentative pareto",
           "type": "scatter",
           "x": [
            9.161682321402033,
            9.161682321402033,
            9.161682321402033,
            9.161682321402033,
            8.633799010957759,
            6.992161876944651,
            6.738692798255902,
            6.3183159315938395,
            4.935490855606838,
            0,
            0
           ],
           "y": [
            0,
            0,
            7.8396939527566065,
            2.381531297357964,
            10.524622700946143,
            10.536995563765043,
            10.840185253482948,
            10.840185253482948,
            10.840185253482948,
            10.840185253482948,
            10.840185253482948
           ]
          }
         ]
        },
        {
         "data": [
          {
           "mode": "lines+markers",
           "name": "estimated pareto",
           "type": "scatter",
           "x": [
            8.672984108531022,
            8.672984108531022,
            8.672984108531022,
            8.258313370734408,
            7.513077861098761,
            7.3281214834165525,
            7.093950619297406,
            5.656171609894182,
            5.448052604152703,
            4.940828739540212,
            2.2888374463188206,
            0,
            0
           ],
           "y": [
            0,
            0,
            2.78061202393153,
            5.224934788815689,
            5.9576230214489,
            6.058875769885431,
            6.42168859050172,
            7.173219385947532,
            7.217883569410541,
            8.529340453965386,
            9.650917956417763,
            9.650917956417763,
            9.650917956417763
           ]
          },
          {
           "mode": "lines+markers",
           "name": "tentative pareto",
           "type": "scatter",
           "x": [
            9.161682321402033,
            9.161682321402033,
            9.161682321402033,
            9.161682321402033,
            9.161682321402033,
            7.7958218971214475,
            7.339440026891391,
            6.390000132041891,
            6.258680525134315,
            5.672345943432667,
            0,
            0
           ],
           "y": [
            0,
            0,
            9.008777331291348,
            8.148713529012415,
            5.696889939003254,
            10.700354279606742,
            10.840185253482948,
            10.840185253482948,
            10.840185253482948,
            10.840185253482948,
            10.840185253482948,
            10.840185253482948
           ]
          }
         ]
        },
        {
         "data": [
          {
           "mode": "lines+markers",
           "name": "estimated pareto",
           "type": "scatter",
           "x": [
            8.672984108531022,
            8.672984108531022,
            8.672984108531022,
            8.258313370734408,
            7.513077861098761,
            7.3281214834165525,
            7.093950619297406,
            5.656171609894182,
            5.448052604152703,
            4.940828739540212,
            2.2888374463188206,
            0,
            0
           ],
           "y": [
            0,
            0,
            2.78061202393153,
            5.224934788815689,
            5.9576230214489,
            6.058875769885431,
            6.42168859050172,
            7.173219385947532,
            7.217883569410541,
            8.529340453965386,
            9.650917956417763,
            9.650917956417763,
            9.650917956417763
           ]
          },
          {
           "mode": "lines+markers",
           "name": "tentative pareto",
           "type": "scatter",
           "x": [
            9.161682321402033,
            9.161682321402033,
            9.161682321402033,
            9.161682321402033,
            9.161682321402033,
            9.161682321402033,
            9.161682321402033,
            6.7855680704541586,
            5.897399075421845,
            4.913185378453084,
            3.219328612938159,
            0,
            0
           ],
           "y": [
            0,
            0,
            10.611430297707809,
            9.42206448794466,
            7.894469037618698,
            3.0071500090706866,
            1.8633578691577761,
            10.840185253482948,
            10.840185253482948,
            10.840185253482948,
            10.840185253482948,
            10.840185253482948,
            10.840185253482948
           ]
          }
         ]
        },
        {
         "data": [
          {
           "mode": "lines+markers",
           "name": "estimated pareto",
           "type": "scatter",
           "x": [
            9.098088707580358,
            9.098088707580358,
            9.098088707580358,
            8.672984108531022,
            8.258313370734408,
            7.513077861098761,
            7.3281214834165525,
            7.093950619297406,
            5.656171609894182,
            5.448052604152703,
            4.940828739540212,
            2.2888374463188206,
            0,
            0
           ],
           "y": [
            0,
            0,
            2.689416244391832,
            2.78061202393153,
            5.224934788815689,
            5.9576230214489,
            6.058875769885431,
            6.42168859050172,
            7.173219385947532,
            7.217883569410541,
            8.529340453965386,
            9.650917956417763,
            9.650917956417763,
            9.650917956417763
           ]
          },
          {
           "mode": "lines+markers",
           "name": "tentative pareto",
           "type": "scatter",
           "x": [
            9.098088707580358,
            9.098088707580358,
            9.098088707580358,
            8.672984108531022,
            8.258313370734408,
            7.513077861098761,
            7.3281214834165525,
            7.093950619297406,
            5.656171609894182,
            5.448052604152703,
            4.940828739540212,
            2.2888374463188206,
            0,
            0
           ],
           "y": [
            0,
            0,
            2.689416244391832,
            2.78061202393153,
            5.224934788815689,
            5.9576230214489,
            6.058875769885431,
            6.42168859050172,
            7.173219385947532,
            7.217883569410541,
            8.529340453965386,
            9.650917956417763,
            9.650917956417763,
            9.650917956417763
           ]
          }
         ]
        },
        {
         "data": [
          {
           "mode": "lines+markers",
           "name": "estimated pareto",
           "type": "scatter",
           "x": [
            9.098088707580358,
            9.098088707580358,
            9.098088707580358,
            8.672984108531022,
            8.258313370734408,
            7.513077861098761,
            7.3281214834165525,
            7.093950619297406,
            5.656171609894182,
            5.448052604152703,
            4.940828739540212,
            2.2888374463188206,
            0,
            0
           ],
           "y": [
            0,
            0,
            2.689416244391832,
            2.78061202393153,
            5.224934788815689,
            5.9576230214489,
            6.058875769885431,
            6.42168859050172,
            7.173219385947532,
            7.217883569410541,
            8.529340453965386,
            9.650917956417763,
            9.650917956417763,
            9.650917956417763
           ]
          },
          {
           "mode": "lines+markers",
           "name": "tentative pareto",
           "type": "scatter",
           "x": [
            9.098088707580358,
            9.098088707580358,
            9.098088707580358,
            8.80202548042189,
            8.087880296486016,
            7.7958218971214475,
            7.486762688586728,
            5.61340607213494,
            0,
            0
           ],
           "y": [
            0,
            0,
            2.689416244391832,
            7.0910101313945955,
            7.332263151613331,
            9.036980244420851,
            9.972515653442025,
            10.700354279606742,
            10.700354279606742,
            10.700354279606742
           ]
          }
         ]
        },
        {
         "data": [
          {
           "mode": "lines+markers",
           "name": "estimated pareto",
           "type": "scatter",
           "x": [
            9.098088707580358,
            9.098088707580358,
            9.098088707580358,
            8.672984108531022,
            8.258313370734408,
            7.513077861098761,
            7.3281214834165525,
            7.093950619297406,
            5.913339233485462,
            4.940828739540212,
            2.2888374463188206,
            0,
            0
           ],
           "y": [
            0,
            0,
            2.689416244391832,
            2.78061202393153,
            5.224934788815689,
            5.9576230214489,
            6.058875769885431,
            6.42168859050172,
            7.667465697133285,
            8.529340453965386,
            9.650917956417763,
            9.650917956417763,
            9.650917956417763
           ]
          },
          {
           "mode": "lines+markers",
           "name": "tentative pareto",
           "type": "scatter",
           "x": [
            9.098088707580358,
            9.098088707580358,
            9.098088707580358,
            8.80202548042189,
            8.80202548042189,
            8.80202548042189,
            8.80202548042189,
            8.80202548042189,
            8.80202548042189,
            8.80202548042189,
            5.913339233485462,
            4.940828739540212,
            2.2888374463188206,
            0,
            0
           ],
           "y": [
            0,
            0,
            2.689416244391832,
            7.503152130734444,
            6.527324364889875,
            6.405732154440103,
            5.90860527391352,
            5.434593117705035,
            4.2523481000028385,
            4.101431738600419,
            7.667465697133285,
            8.529340453965386,
            9.650917956417763,
            9.650917956417763,
            9.650917956417763
           ]
          }
         ]
        },
        {
         "data": [
          {
           "mode": "lines+markers",
           "name": "estimated pareto",
           "type": "scatter",
           "x": [
            9.098088707580358,
            9.098088707580358,
            9.098088707580358,
            8.672984108531022,
            8.258313370734408,
            7.513077861098761,
            7.3281214834165525,
            7.093950619297406,
            5.913339233485462,
            4.940828739540212,
            2.445651218505087,
            2.2888374463188206,
            0,
            0
           ],
           "y": [
            0,
            0,
            2.689416244391832,
            2.78061202393153,
            5.224934788815689,
            5.9576230214489,
            6.058875769885431,
            6.42168859050172,
            7.667465697133285,
            8.529340453965386,
            9.042846597783457,
            9.650917956417763,
            9.650917956417763,
            9.650917956417763
           ]
          },
          {
           "mode": "lines+markers",
           "name": "tentative pareto",
           "type": "scatter",
           "x": [
            9.098088707580358,
            9.098088707580358,
            9.098088707580358,
            8.80202548042189,
            7.513077861098761,
            7.3281214834165525,
            7.093950619297406,
            6.733382877160586,
            6.332109227637071,
            4.940828739540212,
            2.445651218505087,
            2.2888374463188206,
            0,
            0
           ],
           "y": [
            0,
            0,
            2.689416244391832,
            5.311493493272844,
            5.9576230214489,
            6.058875769885431,
            6.42168859050172,
            7.540092045170841,
            8.185361804504492,
            8.529340453965386,
            9.042846597783457,
            9.650917956417763,
            9.650917956417763,
            9.650917956417763
           ]
          }
         ]
        },
        {
         "data": [
          {
           "mode": "lines+markers",
           "name": "estimated pareto",
           "type": "scatter",
           "x": [
            9.098088707580358,
            9.098088707580358,
            9.098088707580358,
            8.672984108531022,
            8.258313370734408,
            7.513077861098761,
            7.3281214834165525,
            7.093950619297406,
            6.307403877865244,
            5.913339233485462,
            4.940828739540212,
            2.445651218505087,
            2.2888374463188206,
            0,
            0
           ],
           "y": [
            0,
            0,
            2.689416244391832,
            2.78061202393153,
            5.224934788815689,
            5.9576230214489,
            6.058875769885431,
            6.42168859050172,
            6.573264711106771,
            7.667465697133285,
            8.529340453965386,
            9.042846597783457,
            9.650917956417763,
            9.650917956417763,
            9.650917956417763
           ]
          },
          {
           "mode": "lines+markers",
           "name": "tentative pareto",
           "type": "scatter",
           "x": [
            9.098088707580358,
            9.098088707580358,
            9.098088707580358,
            8.672984108531022,
            8.258313370734408,
            7.513077861098761,
            7.3281214834165525,
            7.093950619297406,
            6.307403877865244,
            5.913339233485462,
            4.940828739540212,
            2.445651218505087,
            2.2888374463188206,
            0,
            0
           ],
           "y": [
            0,
            0,
            2.689416244391832,
            2.78061202393153,
            5.224934788815689,
            5.9576230214489,
            6.058875769885431,
            6.42168859050172,
            6.573264711106771,
            7.667465697133285,
            8.529340453965386,
            9.042846597783457,
            9.650917956417763,
            9.650917956417763,
            9.650917956417763
           ]
          }
         ]
        },
        {
         "data": [
          {
           "mode": "lines+markers",
           "name": "estimated pareto",
           "type": "scatter",
           "x": [
            9.098088707580358,
            9.098088707580358,
            9.098088707580358,
            8.672984108531022,
            8.258313370734408,
            7.513077861098761,
            7.3281214834165525,
            7.093950619297406,
            6.307403877865244,
            5.913339233485462,
            4.940828739540212,
            2.445651218505087,
            2.2888374463188206,
            0,
            0
           ],
           "y": [
            0,
            0,
            2.689416244391832,
            2.78061202393153,
            5.224934788815689,
            5.9576230214489,
            6.058875769885431,
            6.42168859050172,
            6.573264711106771,
            7.667465697133285,
            8.529340453965386,
            9.042846597783457,
            9.650917956417763,
            9.650917956417763,
            9.650917956417763
           ]
          },
          {
           "mode": "lines+markers",
           "name": "tentative pareto",
           "type": "scatter",
           "x": [
            9.098088707580358,
            9.098088707580358,
            9.098088707580358,
            8.672984108531022,
            8.258313370734408,
            7.513077861098761,
            7.3281214834165525,
            7.093950619297406,
            6.307403877865244,
            5.913339233485462,
            4.940828739540212,
            2.445651218505087,
            2.2888374463188206,
            0,
            0
           ],
           "y": [
            0,
            0,
            2.689416244391832,
            2.78061202393153,
            5.224934788815689,
            5.9576230214489,
            6.058875769885431,
            6.42168859050172,
            6.573264711106771,
            7.667465697133285,
            8.529340453965386,
            9.042846597783457,
            9.650917956417763,
            9.650917956417763,
            9.650917956417763
           ]
          }
         ]
        },
        {
         "data": [
          {
           "mode": "lines+markers",
           "name": "estimated pareto",
           "type": "scatter",
           "x": [
            9.098088707580358,
            9.098088707580358,
            8.672984108531022,
            8.258313370734408,
            7.513077861098761,
            7.3281214834165525,
            7.093950619297406,
            6.307403877865244,
            5.913339233485462,
            4.940828739540212,
            2.445651218505087,
            2.2888374463188206,
            0
           ],
           "y": [
            0,
            2.689416244391832,
            2.78061202393153,
            5.224934788815689,
            5.9576230214489,
            6.058875769885431,
            6.42168859050172,
            6.573264711106771,
            7.667465697133285,
            8.529340453965386,
            9.042846597783457,
            9.650917956417763,
            9.650917956417763
           ]
          },
          {
           "mode": "lines+markers",
           "name": "tentative pareto",
           "type": "scatter",
           "x": [
            9.098088707580358,
            9.098088707580358,
            8.672984108531022,
            8.258313370734408,
            7.513077861098761,
            7.3281214834165525,
            7.093950619297406,
            6.307403877865244,
            5.913339233485462,
            4.940828739540212,
            2.445651218505087,
            2.2888374463188206,
            0
           ],
           "y": [
            0,
            2.689416244391832,
            2.78061202393153,
            5.224934788815689,
            5.9576230214489,
            6.058875769885431,
            6.42168859050172,
            6.573264711106771,
            7.667465697133285,
            8.529340453965386,
            9.042846597783457,
            9.650917956417763,
            9.650917956417763
           ]
          }
         ]
        },
        {
         "data": [
          {
           "mode": "lines+markers",
           "name": "estimated pareto",
           "type": "scatter",
           "x": [
            9.098088707580358,
            9.098088707580358,
            8.672984108531022,
            8.258313370734408,
            7.513077861098761,
            7.3281214834165525,
            7.093950619297406,
            6.307403877865244,
            5.913339233485462,
            4.940828739540212,
            2.445651218505087,
            2.2888374463188206,
            0
           ],
           "y": [
            0,
            2.689416244391832,
            2.78061202393153,
            5.224934788815689,
            5.9576230214489,
            6.058875769885431,
            6.42168859050172,
            6.573264711106771,
            7.667465697133285,
            8.529340453965386,
            9.042846597783457,
            9.650917956417763,
            9.650917956417763
           ]
          },
          {
           "mode": "lines+markers",
           "name": "tentative pareto",
           "type": "scatter",
           "x": [
            9.098088707580358,
            9.098088707580358,
            8.672984108531022,
            8.258313370734408,
            7.513077861098761,
            7.3281214834165525,
            7.093950619297406,
            6.307403877865244,
            5.913339233485462,
            4.940828739540212,
            2.445651218505087,
            2.2888374463188206,
            0
           ],
           "y": [
            0,
            2.689416244391832,
            2.78061202393153,
            5.224934788815689,
            5.9576230214489,
            6.058875769885431,
            6.42168859050172,
            6.573264711106771,
            7.667465697133285,
            8.529340453965386,
            9.042846597783457,
            9.650917956417763,
            9.650917956417763
           ]
          }
         ]
        },
        {
         "data": [
          {
           "mode": "lines+markers",
           "name": "estimated pareto",
           "type": "scatter",
           "x": [
            9.098088707580358,
            9.098088707580358,
            8.672984108531022,
            8.258313370734408,
            7.513077861098761,
            7.3281214834165525,
            7.093950619297406,
            6.307403877865244,
            6.307403877865244,
            5.913339233485462,
            4.940828739540212,
            2.445651218505087,
            2.2888374463188206,
            0
           ],
           "y": [
            0,
            2.689416244391832,
            2.78061202393153,
            5.224934788815689,
            5.9576230214489,
            6.058875769885431,
            6.42168859050172,
            6.573264711106771,
            6.573264711106771,
            7.667465697133285,
            8.529340453965386,
            9.042846597783457,
            9.650917956417763,
            9.650917956417763
           ]
          },
          {
           "mode": "lines+markers",
           "name": "tentative pareto",
           "type": "scatter",
           "x": [
            9.098088707580358,
            9.098088707580358,
            8.672984108531022,
            8.258313370734408,
            7.513077861098761,
            7.3281214834165525,
            7.093950619297406,
            6.307403877865244,
            6.307403877865244,
            5.913339233485462,
            4.940828739540212,
            2.445651218505087,
            2.2888374463188206,
            0
           ],
           "y": [
            0,
            2.689416244391832,
            2.78061202393153,
            5.224934788815689,
            5.9576230214489,
            6.058875769885431,
            6.42168859050172,
            6.573264711106771,
            6.573264711106771,
            7.667465697133285,
            8.529340453965386,
            9.042846597783457,
            9.650917956417763,
            9.650917956417763
           ]
          }
         ]
        },
        {
         "data": [
          {
           "mode": "lines+markers",
           "name": "estimated pareto",
           "type": "scatter",
           "x": [
            9.098088707580358,
            9.098088707580358,
            8.672984108531022,
            8.258313370734408,
            7.513077861098761,
            7.3281214834165525,
            7.093950619297406,
            6.307403877865244,
            6.307403877865244,
            5.913339233485462,
            4.940828739540212,
            2.445651218505087,
            2.2888374463188206,
            0
           ],
           "y": [
            0,
            2.689416244391832,
            2.78061202393153,
            5.224934788815689,
            5.9576230214489,
            6.058875769885431,
            6.42168859050172,
            6.573264711106771,
            6.573264711106771,
            7.667465697133285,
            8.529340453965386,
            9.042846597783457,
            9.650917956417763,
            9.650917956417763
           ]
          },
          {
           "mode": "lines+markers",
           "name": "tentative pareto",
           "type": "scatter",
           "x": [
            10.812795196860922,
            10.812795196860922,
            10.487354976283155,
            8.667598996496537,
            4.940828739540212,
            2.445651218505087,
            2.2888374463188206,
            0
           ],
           "y": [
            0,
            7.811556165413677,
            8.058116058540755,
            8.289962853175417,
            8.529340453965386,
            9.042846597783457,
            9.650917956417763,
            9.650917956417763
           ]
          }
         ]
        },
        {
         "data": [
          {
           "mode": "lines+markers",
           "name": "estimated pareto",
           "type": "scatter",
           "x": [
            9.098088707580358,
            9.098088707580358,
            8.672984108531022,
            8.258313370734408,
            7.513077861098761,
            7.3281214834165525,
            7.093950619297406,
            6.307403877865244,
            6.307403877865244,
            5.913339233485462,
            4.940828739540212,
            2.445651218505087,
            2.2888374463188206,
            0
           ],
           "y": [
            0,
            2.689416244391832,
            2.78061202393153,
            5.224934788815689,
            5.9576230214489,
            6.058875769885431,
            6.42168859050172,
            6.573264711106771,
            6.573264711106771,
            7.667465697133285,
            8.529340453965386,
            9.042846597783457,
            9.650917956417763,
            9.650917956417763
           ]
          },
          {
           "mode": "lines+markers",
           "name": "tentative pareto",
           "type": "scatter",
           "x": [
            9.098088707580358,
            9.098088707580358,
            8.672984108531022,
            8.258313370734408,
            7.513077861098761,
            7.3281214834165525,
            7.093950619297406,
            6.307403877865244,
            6.307403877865244,
            5.913339233485462,
            4.940828739540212,
            2.445651218505087,
            2.2888374463188206,
            0
           ],
           "y": [
            0,
            2.689416244391832,
            2.78061202393153,
            5.224934788815689,
            5.9576230214489,
            6.058875769885431,
            6.42168859050172,
            6.573264711106771,
            6.573264711106771,
            7.667465697133285,
            8.529340453965386,
            9.042846597783457,
            9.650917956417763,
            9.650917956417763
           ]
          }
         ]
        },
        {
         "data": [
          {
           "mode": "lines+markers",
           "name": "estimated pareto",
           "type": "scatter",
           "x": [
            9.098088707580358,
            9.098088707580358,
            8.672984108531022,
            8.258313370734408,
            7.513077861098761,
            7.3281214834165525,
            7.093950619297406,
            6.307403877865244,
            6.307403877865244,
            5.913339233485462,
            4.940828739540212,
            2.445651218505087,
            2.445651218505087,
            2.2888374463188206,
            0
           ],
           "y": [
            0,
            2.689416244391832,
            2.78061202393153,
            5.224934788815689,
            5.9576230214489,
            6.058875769885431,
            6.42168859050172,
            6.573264711106771,
            6.573264711106771,
            7.667465697133285,
            8.529340453965386,
            9.042846597783457,
            9.042846597783457,
            9.650917956417763,
            9.650917956417763
           ]
          },
          {
           "mode": "lines+markers",
           "name": "tentative pareto",
           "type": "scatter",
           "x": [
            9.098088707580358,
            9.098088707580358,
            8.672984108531022,
            8.258313370734408,
            7.513077861098761,
            7.3281214834165525,
            7.093950619297406,
            6.307403877865244,
            6.307403877865244,
            5.913339233485462,
            4.940828739540212,
            2.445651218505087,
            2.445651218505087,
            2.2888374463188206,
            0
           ],
           "y": [
            0,
            2.689416244391832,
            2.78061202393153,
            5.224934788815689,
            5.9576230214489,
            6.058875769885431,
            6.42168859050172,
            6.573264711106771,
            6.573264711106771,
            7.667465697133285,
            8.529340453965386,
            9.042846597783457,
            9.042846597783457,
            9.650917956417763,
            9.650917956417763
           ]
          }
         ]
        },
        {
         "data": [
          {
           "mode": "lines+markers",
           "name": "estimated pareto",
           "type": "scatter",
           "x": [
            9.098088707580358,
            9.098088707580358,
            8.672984108531022,
            8.258313370734408,
            7.513077861098761,
            7.3281214834165525,
            7.093950619297406,
            6.307403877865244,
            6.307403877865244,
            5.913339233485462,
            4.940828739540212,
            2.445651218505087,
            2.445651218505087,
            2.2888374463188206,
            0
           ],
           "y": [
            0,
            2.689416244391832,
            2.78061202393153,
            5.224934788815689,
            5.9576230214489,
            6.058875769885431,
            6.42168859050172,
            6.573264711106771,
            6.573264711106771,
            7.667465697133285,
            8.529340453965386,
            9.042846597783457,
            9.042846597783457,
            9.650917956417763,
            9.650917956417763
           ]
          },
          {
           "mode": "lines+markers",
           "name": "tentative pareto",
           "type": "scatter",
           "x": [
            9.098088707580358,
            9.098088707580358,
            8.672984108531022,
            8.258313370734408,
            8.185363786184805,
            8.185363786184805,
            7.616530852472193,
            6.867027270614196,
            6.530043459341683,
            5.888465342128142,
            4.940828739540212,
            2.445651218505087,
            2.445651218505087,
            2.2888374463188206,
            0
           ],
           "y": [
            0,
            2.689416244391832,
            2.78061202393153,
            5.224934788815689,
            6.563947591028708,
            6.4833637060134315,
            8.433082089185751,
            8.433082089185751,
            8.433082089185751,
            8.433082089185751,
            8.529340453965386,
            9.042846597783457,
            9.042846597783457,
            9.650917956417763,
            9.650917956417763
           ]
          }
         ]
        },
        {
         "data": [
          {
           "mode": "lines+markers",
           "name": "estimated pareto",
           "type": "scatter",
           "x": [
            9.098088707580358,
            9.098088707580358,
            8.672984108531022,
            8.258313370734408,
            7.513077861098761,
            7.3281214834165525,
            7.093950619297406,
            6.307403877865244,
            6.307403877865244,
            5.913339233485462,
            4.940828739540212,
            2.445651218505087,
            2.445651218505087,
            2.2888374463188206,
            0
           ],
           "y": [
            0,
            2.689416244391832,
            2.78061202393153,
            5.224934788815689,
            5.9576230214489,
            6.058875769885431,
            6.42168859050172,
            6.573264711106771,
            6.573264711106771,
            7.667465697133285,
            8.529340453965386,
            9.042846597783457,
            9.042846597783457,
            9.650917956417763,
            9.650917956417763
           ]
          },
          {
           "mode": "lines+markers",
           "name": "tentative pareto",
           "type": "scatter",
           "x": [
            9.640254056948196,
            9.640254056948196,
            9.577120063555473,
            9.309883632278755,
            8.381983509468181,
            7.839326119682954,
            2.445651218505087,
            2.445651218505087,
            2.2888374463188206,
            0
           ],
           "y": [
            0,
            3.71016076216547,
            7.331720926642354,
            8.843810252896091,
            8.843810252896091,
            8.843810252896091,
            9.042846597783457,
            9.042846597783457,
            9.650917956417763,
            9.650917956417763
           ]
          }
         ]
        },
        {
         "data": [
          {
           "mode": "lines+markers",
           "name": "estimated pareto",
           "type": "scatter",
           "x": [
            9.098088707580358,
            9.098088707580358,
            8.672984108531022,
            8.258313370734408,
            7.513077861098761,
            7.3281214834165525,
            7.093950619297406,
            6.307403877865244,
            6.307403877865244,
            5.913339233485462,
            5.913339233485462,
            4.940828739540212,
            2.445651218505087,
            2.445651218505087,
            2.2888374463188206,
            0
           ],
           "y": [
            0,
            2.689416244391832,
            2.78061202393153,
            5.224934788815689,
            5.9576230214489,
            6.058875769885431,
            6.42168859050172,
            6.573264711106771,
            6.573264711106771,
            7.667465697133285,
            7.667465697133285,
            8.529340453965386,
            9.042846597783457,
            9.042846597783457,
            9.650917956417763,
            9.650917956417763
           ]
          },
          {
           "mode": "lines+markers",
           "name": "tentative pareto",
           "type": "scatter",
           "x": [
            9.640254056948196,
            9.640254056948196,
            9.640254056948196,
            9.640254056948196,
            9.640254056948196,
            8.581163915723188,
            8.451178445845748,
            4.6984613206480486,
            4.6984613206480486,
            4.6984613206480486,
            0
           ],
           "y": [
            0,
            8.843810252896091,
            3.856547962729744,
            2.7458063799721844,
            0.5918327162624117,
            8.843810252896091,
            8.843810252896091,
            10.330094416166748,
            8.99390402126861,
            8.993410696784219,
            10.330094416166748
           ]
          }
         ]
        },
        {
         "data": [
          {
           "mode": "lines+markers",
           "name": "estimated pareto",
           "type": "scatter",
           "x": [
            9.098088707580358,
            9.098088707580358,
            8.672984108531022,
            8.258313370734408,
            7.513077861098761,
            7.3281214834165525,
            7.3281214834165525,
            7.093950619297406,
            6.307403877865244,
            6.307403877865244,
            5.913339233485462,
            5.913339233485462,
            4.940828739540212,
            2.445651218505087,
            2.445651218505087,
            2.2888374463188206,
            0
           ],
           "y": [
            0,
            2.689416244391832,
            2.78061202393153,
            5.224934788815689,
            5.9576230214489,
            6.058875769885431,
            6.058875769885431,
            6.42168859050172,
            6.573264711106771,
            6.573264711106771,
            7.667465697133285,
            7.667465697133285,
            8.529340453965386,
            9.042846597783457,
            9.042846597783457,
            9.650917956417763,
            9.650917956417763
           ]
          },
          {
           "mode": "lines+markers",
           "name": "tentative pareto",
           "type": "scatter",
           "x": [
            11.461205726094764,
            11.461205726094764,
            11.421263734853014,
            9.72454578189317,
            7.333386971580468,
            7.11892102394231,
            4.6984613206480486,
            4.621885556269189,
            3.9337520195464526,
            2.614868490797701,
            2.389072516184585,
            1.1156951012345917,
            0.1368994885588326,
            0
           ],
           "y": [
            0,
            3.8606888082580686,
            7.771400231326467,
            8.944289922898538,
            8.944289922898538,
            8.944289922898538,
            9.13118902468406,
            9.76441984978172,
            9.920166899443954,
            10.677643847341633,
            10.677643847341633,
            10.677643847341633,
            10.677643847341633,
            10.677643847341633
           ]
          }
         ]
        },
        {
         "data": [
          {
           "mode": "lines+markers",
           "name": "estimated pareto",
           "type": "scatter",
           "x": [
            9.098088707580358,
            9.098088707580358,
            8.672984108531022,
            8.258313370734408,
            7.513077861098761,
            7.3281214834165525,
            7.3281214834165525,
            7.093950619297406,
            6.307403877865244,
            6.307403877865244,
            5.913339233485462,
            5.913339233485462,
            4.940828739540212,
            3.1729919800950097,
            2.445651218505087,
            2.445651218505087,
            2.2888374463188206,
            0
           ],
           "y": [
            0,
            2.689416244391832,
            2.78061202393153,
            5.224934788815689,
            5.9576230214489,
            6.058875769885431,
            6.058875769885431,
            6.42168859050172,
            6.573264711106771,
            6.573264711106771,
            7.667465697133285,
            7.667465697133285,
            8.529340453965386,
            8.79875811473882,
            9.042846597783457,
            9.042846597783457,
            9.650917956417763,
            9.650917956417763
           ]
          },
          {
           "mode": "lines+markers",
           "name": "tentative pareto",
           "type": "scatter",
           "x": [
            11.461205726094764,
            11.461205726094764,
            11.461205726094764,
            11.461205726094764,
            11.461205726094764,
            11.461205726094764,
            11.461205726094764,
            11.461205726094764,
            11.461205726094764,
            9.091812018379613,
            2.445651218505087,
            2.445651218505087,
            2.2888374463188206,
            0
           ],
           "y": [
            0,
            7.453405378819797,
            6.734496855085864,
            4.703013659094662,
            4.278852837753289,
            3.033537588174433,
            2.334217321103894,
            1.621238729642216,
            1.3629523366897511,
            8.944289922898538,
            9.042846597783457,
            9.042846597783457,
            9.650917956417763,
            9.650917956417763
           ]
          }
         ]
        },
        {
         "data": [
          {
           "mode": "lines+markers",
           "name": "estimated pareto",
           "type": "scatter",
           "x": [
            9.733697726262688,
            9.733697726262688,
            9.098088707580358,
            8.672984108531022,
            8.258313370734408,
            7.513077861098761,
            7.3281214834165525,
            7.3281214834165525,
            7.093950619297406,
            6.307403877865244,
            6.307403877865244,
            5.913339233485462,
            5.913339233485462,
            4.940828739540212,
            3.1729919800950097,
            2.445651218505087,
            2.445651218505087,
            2.2888374463188206,
            0
           ],
           "y": [
            0,
            1.9023534680376608,
            2.689416244391832,
            2.78061202393153,
            5.224934788815689,
            5.9576230214489,
            6.058875769885431,
            6.058875769885431,
            6.42168859050172,
            6.573264711106771,
            6.573264711106771,
            7.667465697133285,
            7.667465697133285,
            8.529340453965386,
            8.79875811473882,
            9.042846597783457,
            9.042846597783457,
            9.650917956417763,
            9.650917956417763
           ]
          },
          {
           "mode": "lines+markers",
           "name": "tentative pareto",
           "type": "scatter",
           "x": [
            11.461205726094764,
            11.461205726094764,
            11.461205726094764,
            11.461205726094764,
            11.461205726094764,
            10.06261607730227,
            9.463607446187904,
            8.423412270111056,
            5.249445661406198,
            2.607956943977303,
            2.445651218505087,
            2.445651218505087,
            2.2888374463188206,
            0
           ],
           "y": [
            0,
            6.414702745572124,
            4.653408249081059,
            4.220655971883006,
            3.5603653308738843,
            7.198099223551614,
            8.944289922898538,
            8.944289922898538,
            8.944289922898538,
            8.944289922898538,
            9.042846597783457,
            9.042846597783457,
            9.650917956417763,
            9.650917956417763
           ]
          }
         ]
        },
        {
         "data": [
          {
           "mode": "lines+markers",
           "name": "estimated pareto",
           "type": "scatter",
           "x": [
            9.733697726262688,
            9.733697726262688,
            9.098088707580358,
            8.672984108531022,
            8.258313370734408,
            7.513077861098761,
            7.3281214834165525,
            7.3281214834165525,
            7.093950619297406,
            6.307403877865244,
            6.307403877865244,
            5.913339233485462,
            5.913339233485462,
            4.940828739540212,
            3.1729919800950097,
            2.445651218505087,
            2.445651218505087,
            2.2888374463188206,
            0
           ],
           "y": [
            0,
            1.9023534680376608,
            2.689416244391832,
            2.78061202393153,
            5.224934788815689,
            5.9576230214489,
            6.058875769885431,
            6.058875769885431,
            6.42168859050172,
            6.573264711106771,
            6.573264711106771,
            7.667465697133285,
            7.667465697133285,
            8.529340453965386,
            8.79875811473882,
            9.042846597783457,
            9.042846597783457,
            9.650917956417763,
            9.650917956417763
           ]
          },
          {
           "mode": "lines+markers",
           "name": "tentative pareto",
           "type": "scatter",
           "x": [
            11.461205726094764,
            11.461205726094764,
            11.461205726094764,
            11.461205726094764,
            11.461205726094764,
            11.461205726094764,
            11.461205726094764,
            9.514540074455322,
            9.26896072973545,
            8.146449958501002,
            3.8197777137595312,
            3.6109462304514417,
            0
           ],
           "y": [
            0,
            8.944289922898538,
            7.2686029113345025,
            5.178386847161383,
            3.212083583917704,
            3.09680723253762,
            2.1099583979074192,
            8.944289922898538,
            8.944289922898538,
            8.944289922898538,
            11.47930366246192,
            11.47930366246192,
            11.47930366246192
           ]
          }
         ]
        },
        {
         "data": [
          {
           "mode": "lines+markers",
           "name": "estimated pareto",
           "type": "scatter",
           "x": [
            9.733697726262688,
            9.733697726262688,
            9.098088707580358,
            8.672984108531022,
            8.258313370734408,
            7.513077861098761,
            7.3281214834165525,
            7.3281214834165525,
            7.093950619297406,
            6.307403877865244,
            6.307403877865244,
            5.913339233485462,
            5.913339233485462,
            4.940828739540212,
            3.1729919800950097,
            2.445651218505087,
            2.445651218505087,
            2.2888374463188206,
            0
           ],
           "y": [
            0,
            1.9023534680376608,
            2.689416244391832,
            2.78061202393153,
            5.224934788815689,
            5.9576230214489,
            6.058875769885431,
            6.058875769885431,
            6.42168859050172,
            6.573264711106771,
            6.573264711106771,
            7.667465697133285,
            7.667465697133285,
            8.529340453965386,
            8.79875811473882,
            9.042846597783457,
            9.042846597783457,
            9.650917956417763,
            9.650917956417763
           ]
          },
          {
           "mode": "lines+markers",
           "name": "tentative pareto",
           "type": "scatter",
           "x": [
            11.461205726094764,
            11.461205726094764,
            11.461205726094764,
            9.39616859526513,
            8.92233255358421,
            5.817606311473298,
            5.056153661815463,
            4.200733672248983,
            0
           ],
           "y": [
            0,
            4.786497295535967,
            4.5818898534052295,
            8.944289922898538,
            8.944289922898538,
            11.206366242420438,
            11.206366242420438,
            11.206366242420438,
            11.206366242420438
           ]
          }
         ]
        },
        {
         "data": [
          {
           "mode": "lines+markers",
           "name": "estimated pareto",
           "type": "scatter",
           "x": [
            9.733697726262688,
            9.733697726262688,
            9.098088707580358,
            8.672984108531022,
            8.258313370734408,
            7.513077861098761,
            7.3281214834165525,
            7.3281214834165525,
            7.093950619297406,
            6.307403877865244,
            6.307403877865244,
            5.913339233485462,
            5.913339233485462,
            4.940828739540212,
            3.1729919800950097,
            2.445651218505087,
            2.445651218505087,
            2.2888374463188206,
            0
           ],
           "y": [
            0,
            1.9023534680376608,
            2.689416244391832,
            2.78061202393153,
            5.224934788815689,
            5.9576230214489,
            6.058875769885431,
            6.058875769885431,
            6.42168859050172,
            6.573264711106771,
            6.573264711106771,
            7.667465697133285,
            7.667465697133285,
            8.529340453965386,
            8.79875811473882,
            9.042846597783457,
            9.042846597783457,
            9.650917956417763,
            9.650917956417763
           ]
          },
          {
           "mode": "lines+markers",
           "name": "tentative pareto",
           "type": "scatter",
           "x": [
            11.461205726094764,
            11.461205726094764,
            11.461205726094764,
            11.461205726094764,
            11.461205726094764,
            11.461205726094764,
            11.461205726094764,
            10.47280872019276,
            8.476720939995541,
            7.8648480313261135,
            7.023191897568617,
            -0.7204025818885311,
            0
           ],
           "y": [
            0,
            7.849004216038015,
            7.452129792296452,
            2.254993953999383,
            2.0216368939851974,
            0.5642433806223641,
            -0.02900197829451301,
            8.944289922898538,
            8.944289922898538,
            8.944289922898538,
            10.285935602968312,
            11.206366242420438,
            11.206366242420438
           ]
          }
         ]
        },
        {
         "data": [
          {
           "mode": "lines+markers",
           "name": "estimated pareto",
           "type": "scatter",
           "x": [
            9.733697726262688,
            9.733697726262688,
            9.098088707580358,
            8.672984108531022,
            8.258313370734408,
            7.513077861098761,
            7.3281214834165525,
            7.3281214834165525,
            7.093950619297406,
            6.307403877865244,
            6.307403877865244,
            5.913339233485462,
            5.913339233485462,
            4.940828739540212,
            3.1729919800950097,
            2.445651218505087,
            2.445651218505087,
            2.2888374463188206,
            0
           ],
           "y": [
            0,
            1.9023534680376608,
            2.689416244391832,
            2.78061202393153,
            5.224934788815689,
            5.9576230214489,
            6.058875769885431,
            6.058875769885431,
            6.42168859050172,
            6.573264711106771,
            6.573264711106771,
            7.667465697133285,
            7.667465697133285,
            8.529340453965386,
            8.79875811473882,
            9.042846597783457,
            9.042846597783457,
            9.650917956417763,
            9.650917956417763
           ]
          },
          {
           "mode": "lines+markers",
           "name": "tentative pareto",
           "type": "scatter",
           "x": [
            11.461205726094764,
            11.461205726094764,
            11.461205726094764,
            11.461205726094764,
            10.448747312986463,
            10.280294509240441,
            7.832224741132018,
            4.612427749028624,
            3.61444699949978,
            2.417368613473358,
            -0.49474280877934795,
            0
           ],
           "y": [
            0,
            7.089347098580402,
            3.9379417629037095,
            3.094372218468939,
            8.046145813086087,
            8.101765763802417,
            11.194541261170109,
            11.206366242420438,
            11.206366242420438,
            11.206366242420438,
            11.206366242420438,
            11.206366242420438
           ]
          }
         ]
        },
        {
         "data": [
          {
           "mode": "lines+markers",
           "name": "estimated pareto",
           "type": "scatter",
           "x": [
            9.733697726262688,
            9.733697726262688,
            9.098088707580358,
            8.672984108531022,
            8.258313370734408,
            7.513077861098761,
            7.3281214834165525,
            7.3281214834165525,
            7.093950619297406,
            6.307403877865244,
            6.307403877865244,
            5.913339233485462,
            5.913339233485462,
            4.940828739540212,
            3.1729919800950097,
            2.445651218505087,
            2.445651218505087,
            2.2888374463188206,
            0
           ],
           "y": [
            0,
            1.9023534680376608,
            2.689416244391832,
            2.78061202393153,
            5.224934788815689,
            5.9576230214489,
            6.058875769885431,
            6.058875769885431,
            6.42168859050172,
            6.573264711106771,
            6.573264711106771,
            7.667465697133285,
            7.667465697133285,
            8.529340453965386,
            8.79875811473882,
            9.042846597783457,
            9.042846597783457,
            9.650917956417763,
            9.650917956417763
           ]
          },
          {
           "mode": "lines+markers",
           "name": "tentative pareto",
           "type": "scatter",
           "x": [
            11.461205726094764,
            11.461205726094764,
            11.007645150768134,
            7.256473518492202,
            6.233625744791361,
            2.4333376930606683,
            0
           ],
           "y": [
            0,
            3.9019289155515318,
            6.7711001776544855,
            9.87166893093372,
            11.206366242420438,
            11.206366242420438,
            11.206366242420438
           ]
          }
         ]
        },
        {
         "data": [
          {
           "mode": "lines+markers",
           "name": "estimated pareto",
           "type": "scatter",
           "x": [
            9.733697726262688,
            9.733697726262688,
            9.098088707580358,
            8.672984108531022,
            8.258313370734408,
            7.513077861098761,
            7.3281214834165525,
            7.3281214834165525,
            7.093950619297406,
            6.307403877865244,
            6.307403877865244,
            5.913339233485462,
            5.913339233485462,
            4.940828739540212,
            3.1729919800950097,
            2.445651218505087,
            2.445651218505087,
            2.2888374463188206,
            0
           ],
           "y": [
            0,
            1.9023534680376608,
            2.689416244391832,
            2.78061202393153,
            5.224934788815689,
            5.9576230214489,
            6.058875769885431,
            6.058875769885431,
            6.42168859050172,
            6.573264711106771,
            6.573264711106771,
            7.667465697133285,
            7.667465697133285,
            8.529340453965386,
            8.79875811473882,
            9.042846597783457,
            9.042846597783457,
            9.650917956417763,
            9.650917956417763
           ]
          },
          {
           "mode": "lines+markers",
           "name": "tentative pareto",
           "type": "scatter",
           "x": [
            11.461205726094764,
            11.461205726094764,
            11.461205726094764,
            11.461205726094764,
            11.281137954995978,
            7.832224741132018,
            6.016147219917526,
            3.8199456714829956,
            3.2703856436558087,
            2.815829785159792,
            2.150640111565252,
            1.93178875684541,
            -1.4226159974600723,
            0
           ],
           "y": [
            0,
            4.898279493697851,
            3.774218548588386,
            1.17904963387153,
            8.921188844855344,
            11.12106730981279,
            11.206366242420438,
            11.206366242420438,
            11.206366242420438,
            11.206366242420438,
            11.206366242420438,
            11.206366242420438,
            11.206366242420438,
            11.206366242420438
           ]
          }
         ]
        },
        {
         "data": [
          {
           "mode": "lines+markers",
           "name": "estimated pareto",
           "type": "scatter",
           "x": [
            9.733697726262688,
            9.733697726262688,
            9.098088707580358,
            8.672984108531022,
            8.258313370734408,
            7.513077861098761,
            7.3281214834165525,
            7.3281214834165525,
            7.093950619297406,
            6.307403877865244,
            6.307403877865244,
            5.913339233485462,
            5.913339233485462,
            4.940828739540212,
            3.1729919800950097,
            2.445651218505087,
            2.445651218505087,
            2.2888374463188206,
            0
           ],
           "y": [
            0,
            1.9023534680376608,
            2.689416244391832,
            2.78061202393153,
            5.224934788815689,
            5.9576230214489,
            6.058875769885431,
            6.058875769885431,
            6.42168859050172,
            6.573264711106771,
            6.573264711106771,
            7.667465697133285,
            7.667465697133285,
            8.529340453965386,
            8.79875811473882,
            9.042846597783457,
            9.042846597783457,
            9.650917956417763,
            9.650917956417763
           ]
          },
          {
           "mode": "lines+markers",
           "name": "tentative pareto",
           "type": "scatter",
           "x": [
            9.733697726262688,
            9.733697726262688,
            9.098088707580358,
            8.672984108531022,
            8.258313370734408,
            7.513077861098761,
            7.3281214834165525,
            7.3281214834165525,
            7.093950619297406,
            7.034803210712019,
            5.789471986078379,
            4.654995684666627,
            3.505880873107412,
            2.4217985789790912,
            0.8252331649872127,
            -0.5454320699880268,
            0
           ],
           "y": [
            0,
            1.9023534680376608,
            2.689416244391832,
            2.78061202393153,
            5.224934788815689,
            5.9576230214489,
            6.058875769885431,
            6.058875769885431,
            6.42168859050172,
            10.636216072756909,
            11.206366242420438,
            11.206366242420438,
            11.206366242420438,
            11.206366242420438,
            11.206366242420438,
            11.206366242420438,
            11.206366242420438
           ]
          }
         ]
        },
        {
         "data": [
          {
           "mode": "lines+markers",
           "name": "estimated pareto",
           "type": "scatter",
           "x": [
            9.733697726262688,
            9.733697726262688,
            9.098088707580358,
            8.672984108531022,
            8.258313370734408,
            7.513077861098761,
            7.3281214834165525,
            7.3281214834165525,
            7.093950619297406,
            6.307403877865244,
            6.307403877865244,
            5.913339233485462,
            5.913339233485462,
            4.940828739540212,
            3.1729919800950097,
            2.445651218505087,
            2.445651218505087,
            2.2888374463188206,
            0
           ],
           "y": [
            0,
            1.9023534680376608,
            2.689416244391832,
            2.78061202393153,
            5.224934788815689,
            5.9576230214489,
            6.058875769885431,
            6.058875769885431,
            6.42168859050172,
            6.573264711106771,
            6.573264711106771,
            7.667465697133285,
            7.667465697133285,
            8.529340453965386,
            8.79875811473882,
            9.042846597783457,
            9.042846597783457,
            9.650917956417763,
            9.650917956417763
           ]
          },
          {
           "mode": "lines+markers",
           "name": "tentative pareto",
           "type": "scatter",
           "x": [
            10.116828093429977,
            10.116828093429977,
            10.116828093429977,
            10.116828093429977,
            9.341307365115911,
            8.07515382453814,
            7.832224741132018,
            7.832224741132018,
            4.652538114514335,
            4.10495208103814,
            0
           ],
           "y": [
            0,
            5.416551394873223,
            5.144973239329434,
            2.667272183250276,
            9.510579765881916,
            9.510579765881916,
            11.206366242420438,
            10.28152914265581,
            11.206366242420438,
            11.206366242420438,
            11.206366242420438
           ]
          }
         ]
        },
        {
         "data": [
          {
           "mode": "lines+markers",
           "name": "estimated pareto",
           "type": "scatter",
           "x": [
            9.733697726262688,
            9.733697726262688,
            9.098088707580358,
            8.672984108531022,
            8.258313370734408,
            7.513077861098761,
            7.3281214834165525,
            7.3281214834165525,
            7.093950619297406,
            6.307403877865244,
            6.307403877865244,
            5.913339233485462,
            5.913339233485462,
            4.940828739540212,
            3.1729919800950097,
            2.445651218505087,
            2.445651218505087,
            2.2888374463188206,
            0
           ],
           "y": [
            0,
            1.9023534680376608,
            2.689416244391832,
            2.78061202393153,
            5.224934788815689,
            5.9576230214489,
            6.058875769885431,
            6.058875769885431,
            6.42168859050172,
            6.573264711106771,
            6.573264711106771,
            7.667465697133285,
            7.667465697133285,
            8.529340453965386,
            8.79875811473882,
            9.042846597783457,
            9.042846597783457,
            9.650917956417763,
            9.650917956417763
           ]
          },
          {
           "mode": "lines+markers",
           "name": "tentative pareto",
           "type": "scatter",
           "x": [
            10.285790746218286,
            10.285790746218286,
            10.285790746218286,
            10.285790746218286,
            10.116828093429977,
            9.065815197295569,
            2.2888374463188206,
            0
           ],
           "y": [
            0,
            4.101931490184032,
            2.7343911207011686,
            1.2257054185261214,
            9.167448156083594,
            9.510579765881916,
            9.650917956417763,
            9.650917956417763
           ]
          }
         ]
        },
        {
         "data": [
          {
           "mode": "lines+markers",
           "name": "estimated pareto",
           "type": "scatter",
           "x": [
            9.733697726262688,
            9.733697726262688,
            9.098088707580358,
            8.672984108531022,
            8.258313370734408,
            7.513077861098761,
            7.3281214834165525,
            7.3281214834165525,
            7.093950619297406,
            6.307403877865244,
            6.307403877865244,
            5.913339233485462,
            5.913339233485462,
            4.940828739540212,
            3.1729919800950097,
            2.445651218505087,
            2.445651218505087,
            2.2888374463188206,
            1.0532775549958533,
            0
           ],
           "y": [
            0,
            1.9023534680376608,
            2.689416244391832,
            2.78061202393153,
            5.224934788815689,
            5.9576230214489,
            6.058875769885431,
            6.058875769885431,
            6.42168859050172,
            6.573264711106771,
            6.573264711106771,
            7.667465697133285,
            7.667465697133285,
            8.529340453965386,
            8.79875811473882,
            9.042846597783457,
            9.042846597783457,
            9.650917956417763,
            9.789976727862,
            9.789976727862
           ]
          },
          {
           "mode": "lines+markers",
           "name": "tentative pareto",
           "type": "scatter",
           "x": [
            10.285790746218286,
            10.285790746218286,
            10.089853485385008,
            7.3826970203183615,
            6.655075949379717,
            5.968907656626228,
            2.2888374463188206,
            1.0532775549958533,
            0
           ],
           "y": [
            0,
            7.739327033715307,
            8.685826976379651,
            9.510579765881916,
            9.510579765881916,
            9.510579765881916,
            9.650917956417763,
            9.789976727862,
            9.789976727862
           ]
          }
         ]
        },
        {
         "data": [
          {
           "mode": "lines+markers",
           "name": "estimated pareto",
           "type": "scatter",
           "x": [
            9.733697726262688,
            9.733697726262688,
            9.098088707580358,
            8.672984108531022,
            8.258313370734408,
            7.513077861098761,
            7.3281214834165525,
            7.3281214834165525,
            7.093950619297406,
            6.307403877865244,
            6.307403877865244,
            5.913339233485462,
            5.913339233485462,
            4.940828739540212,
            3.1729919800950097,
            2.445651218505087,
            2.445651218505087,
            2.2888374463188206,
            1.0532775549958533,
            0
           ],
           "y": [
            0,
            1.9023534680376608,
            2.689416244391832,
            2.78061202393153,
            5.224934788815689,
            5.9576230214489,
            6.058875769885431,
            6.058875769885431,
            6.42168859050172,
            6.573264711106771,
            6.573264711106771,
            7.667465697133285,
            7.667465697133285,
            8.529340453965386,
            8.79875811473882,
            9.042846597783457,
            9.042846597783457,
            9.650917956417763,
            9.789976727862,
            9.789976727862
           ]
          },
          {
           "mode": "lines+markers",
           "name": "tentative pareto",
           "type": "scatter",
           "x": [
            10.285790746218286,
            10.285790746218286,
            10.285790746218286,
            10.116828093429977,
            9.2271978025153,
            7.314879015976619,
            6.161016761787892,
            2.2888374463188206,
            1.0532775549958533,
            0
           ],
           "y": [
            0,
            2.8589381056869088,
            2.8197787884782137,
            8.21280633608458,
            9.510579765881916,
            9.510579765881916,
            9.510579765881916,
            9.650917956417763,
            9.789976727862,
            9.789976727862
           ]
          }
         ]
        },
        {
         "data": [
          {
           "mode": "lines+markers",
           "name": "estimated pareto",
           "type": "scatter",
           "x": [
            9.733697726262688,
            9.733697726262688,
            9.098088707580358,
            8.672984108531022,
            8.258313370734408,
            7.513077861098761,
            7.3281214834165525,
            7.3281214834165525,
            7.093950619297406,
            6.307403877865244,
            6.307403877865244,
            5.913339233485462,
            5.913339233485462,
            4.940828739540212,
            3.1729919800950097,
            2.445651218505087,
            2.445651218505087,
            2.2888374463188206,
            1.0532775549958533,
            0
           ],
           "y": [
            0,
            1.9023534680376608,
            2.689416244391832,
            2.78061202393153,
            5.224934788815689,
            5.9576230214489,
            6.058875769885431,
            6.058875769885431,
            6.42168859050172,
            6.573264711106771,
            6.573264711106771,
            7.667465697133285,
            7.667465697133285,
            8.529340453965386,
            8.79875811473882,
            9.042846597783457,
            9.042846597783457,
            9.650917956417763,
            9.789976727862,
            9.789976727862
           ]
          },
          {
           "mode": "lines+markers",
           "name": "tentative pareto",
           "type": "scatter",
           "x": [
            10.285790746218286,
            10.285790746218286,
            10.285790746218286,
            10.285790746218286,
            5.913339233485462,
            5.913339233485462,
            4.940828739540212,
            3.1729919800950097,
            2.445651218505087,
            2.445651218505087,
            2.2888374463188206,
            1.0532775549958533,
            0
           ],
           "y": [
            0,
            7.444236298757259,
            3.793714663280344,
            2.118301573911096,
            7.667465697133285,
            7.667465697133285,
            8.529340453965386,
            8.79875811473882,
            9.042846597783457,
            9.042846597783457,
            9.650917956417763,
            9.789976727862,
            9.789976727862
           ]
          }
         ]
        },
        {
         "data": [
          {
           "mode": "lines+markers",
           "name": "estimated pareto",
           "type": "scatter",
           "x": [
            9.733697726262688,
            9.733697726262688,
            9.098088707580358,
            8.672984108531022,
            8.258313370734408,
            7.513077861098761,
            7.3281214834165525,
            7.3281214834165525,
            7.093950619297406,
            6.307403877865244,
            6.307403877865244,
            5.913339233485462,
            5.913339233485462,
            4.940828739540212,
            3.1729919800950097,
            2.445651218505087,
            2.445651218505087,
            2.2888374463188206,
            1.0532775549958533,
            0
           ],
           "y": [
            0,
            1.9023534680376608,
            2.689416244391832,
            2.78061202393153,
            5.224934788815689,
            5.9576230214489,
            6.058875769885431,
            6.058875769885431,
            6.42168859050172,
            6.573264711106771,
            6.573264711106771,
            7.667465697133285,
            7.667465697133285,
            8.529340453965386,
            8.79875811473882,
            9.042846597783457,
            9.042846597783457,
            9.650917956417763,
            9.789976727862,
            9.789976727862
           ]
          },
          {
           "mode": "lines+markers",
           "name": "tentative pareto",
           "type": "scatter",
           "x": [
            10.285790746218286,
            10.285790746218286,
            10.285790746218286,
            10.285790746218286,
            9.50828873714195,
            7.940092424573321,
            4.940828739540212,
            3.224541441162366,
            2.2888374463188206,
            1.0532775549958533,
            0
           ],
           "y": [
            0,
            5.502190901138145,
            4.377116079053995,
            3.7535553353046924,
            7.739327033715307,
            7.739327033715307,
            8.529340453965386,
            9.423111398920403,
            9.650917956417763,
            9.789976727862,
            9.789976727862
           ]
          }
         ]
        },
        {
         "data": [
          {
           "mode": "lines+markers",
           "name": "estimated pareto",
           "type": "scatter",
           "x": [
            9.733697726262688,
            9.733697726262688,
            9.098088707580358,
            8.672984108531022,
            8.258313370734408,
            7.513077861098761,
            7.3281214834165525,
            7.3281214834165525,
            7.093950619297406,
            6.307403877865244,
            6.307403877865244,
            5.913339233485462,
            5.913339233485462,
            4.940828739540212,
            3.1729919800950097,
            2.445651218505087,
            2.445651218505087,
            2.2888374463188206,
            1.0532775549958533,
            0
           ],
           "y": [
            0,
            1.9023534680376608,
            2.689416244391832,
            2.78061202393153,
            5.224934788815689,
            5.9576230214489,
            6.058875769885431,
            6.058875769885431,
            6.42168859050172,
            6.573264711106771,
            6.573264711106771,
            7.667465697133285,
            7.667465697133285,
            8.529340453965386,
            8.79875811473882,
            9.042846597783457,
            9.042846597783457,
            9.650917956417763,
            9.789976727862,
            9.789976727862
           ]
          },
          {
           "mode": "lines+markers",
           "name": "tentative pareto",
           "type": "scatter",
           "x": [
            10.285790746218286,
            10.285790746218286,
            10.285790746218286,
            9.713837298242094,
            7.3281214834165525,
            7.3281214834165525,
            7.093950619297406,
            6.307403877865244,
            6.307403877865244,
            6.118936036694134,
            6.118936036694134,
            4.940828739540212,
            4.493869158618198,
            3.379190251423355,
            2.2888374463188206,
            1.0532775549958533,
            0
           ],
           "y": [
            0,
            4.591036881037496,
            2.2325480394182877,
            6.021339429194679,
            6.058875769885431,
            6.058875769885431,
            6.42168859050172,
            6.573264711106771,
            6.573264711106771,
            8.49519112984473,
            8.17109011543289,
            8.529340453965386,
            9.423111398920403,
            9.423111398920403,
            9.650917956417763,
            9.789976727862,
            9.789976727862
           ]
          }
         ]
        },
        {
         "data": [
          {
           "mode": "lines+markers",
           "name": "estimated pareto",
           "type": "scatter",
           "x": [
            9.733697726262688,
            9.733697726262688,
            9.098088707580358,
            8.672984108531022,
            8.258313370734408,
            7.513077861098761,
            7.3281214834165525,
            7.3281214834165525,
            7.093950619297406,
            6.307403877865244,
            6.307403877865244,
            5.913339233485462,
            5.913339233485462,
            4.940828739540212,
            3.1729919800950097,
            2.445651218505087,
            2.445651218505087,
            2.2888374463188206,
            1.0532775549958533,
            0
           ],
           "y": [
            0,
            1.9023534680376608,
            2.689416244391832,
            2.78061202393153,
            5.224934788815689,
            5.9576230214489,
            6.058875769885431,
            6.058875769885431,
            6.42168859050172,
            6.573264711106771,
            6.573264711106771,
            7.667465697133285,
            7.667465697133285,
            8.529340453965386,
            8.79875811473882,
            9.042846597783457,
            9.042846597783457,
            9.650917956417763,
            9.789976727862,
            9.789976727862
           ]
          },
          {
           "mode": "lines+markers",
           "name": "tentative pareto",
           "type": "scatter",
           "x": [
            9.733697726262688,
            9.733697726262688,
            9.098088707580358,
            8.672984108531022,
            8.258313370734408,
            7.513077861098761,
            7.3281214834165525,
            7.3281214834165525,
            7.093950619297406,
            6.307403877865244,
            6.307403877865244,
            6.118936036694134,
            4.7476131030999795,
            2.9156934479915777,
            2.2888374463188206,
            1.0532775549958533,
            0
           ],
           "y": [
            0,
            1.9023534680376608,
            2.689416244391832,
            2.78061202393153,
            5.224934788815689,
            5.9576230214489,
            6.058875769885431,
            6.058875769885431,
            6.42168859050172,
            6.573264711106771,
            6.573264711106771,
            8.690451986074175,
            9.423111398920403,
            9.423111398920403,
            9.650917956417763,
            9.789976727862,
            9.789976727862
           ]
          }
         ]
        },
        {
         "data": [
          {
           "mode": "lines+markers",
           "name": "estimated pareto",
           "type": "scatter",
           "x": [
            9.733697726262688,
            9.733697726262688,
            9.098088707580358,
            8.672984108531022,
            8.258313370734408,
            7.513077861098761,
            7.3281214834165525,
            7.3281214834165525,
            7.093950619297406,
            6.307403877865244,
            6.307403877865244,
            5.913339233485462,
            5.913339233485462,
            4.940828739540212,
            3.1729919800950097,
            2.445651218505087,
            2.445651218505087,
            2.2888374463188206,
            1.0532775549958533,
            0
           ],
           "y": [
            0,
            1.9023534680376608,
            2.689416244391832,
            2.78061202393153,
            5.224934788815689,
            5.9576230214489,
            6.058875769885431,
            6.058875769885431,
            6.42168859050172,
            6.573264711106771,
            6.573264711106771,
            7.667465697133285,
            7.667465697133285,
            8.529340453965386,
            8.79875811473882,
            9.042846597783457,
            9.042846597783457,
            9.650917956417763,
            9.789976727862,
            9.789976727862
           ]
          },
          {
           "mode": "lines+markers",
           "name": "tentative pareto",
           "type": "scatter",
           "x": [
            10.285790746218286,
            10.285790746218286,
            10.285790746218286,
            8.913544344976035,
            8.755022530664563,
            8.272244751446165,
            7.737536500742905,
            6.811342262764077,
            6.118936036694134,
            4.7657579375450885,
            2.3033629385479055,
            2.2888374463188206,
            1.0532775549958533,
            0
           ],
           "y": [
            0,
            6.490765344796577,
            2.0261399465717487,
            7.739327033715307,
            7.739327033715307,
            8.09644784519277,
            8.394609324314002,
            8.433082089185751,
            9.375444191872056,
            9.423111398920403,
            9.423111398920403,
            9.650917956417763,
            9.789976727862,
            9.789976727862
           ]
          }
         ]
        },
        {
         "data": [
          {
           "mode": "lines+markers",
           "name": "estimated pareto",
           "type": "scatter",
           "x": [
            9.733697726262688,
            9.733697726262688,
            9.098088707580358,
            8.672984108531022,
            8.258313370734408,
            7.513077861098761,
            7.3281214834165525,
            7.3281214834165525,
            7.093950619297406,
            6.307403877865244,
            6.307403877865244,
            5.913339233485462,
            5.913339233485462,
            4.940828739540212,
            3.1729919800950097,
            2.445651218505087,
            2.445651218505087,
            2.2888374463188206,
            1.0532775549958533,
            0
           ],
           "y": [
            0,
            1.9023534680376608,
            2.689416244391832,
            2.78061202393153,
            5.224934788815689,
            5.9576230214489,
            6.058875769885431,
            6.058875769885431,
            6.42168859050172,
            6.573264711106771,
            6.573264711106771,
            7.667465697133285,
            7.667465697133285,
            8.529340453965386,
            8.79875811473882,
            9.042846597783457,
            9.042846597783457,
            9.650917956417763,
            9.789976727862,
            9.789976727862
           ]
          },
          {
           "mode": "lines+markers",
           "name": "tentative pareto",
           "type": "scatter",
           "x": [
            10.285790746218286,
            10.285790746218286,
            10.285790746218286,
            8.465880839973575,
            8.368856260112544,
            7.222212519796607,
            6.798179367371377,
            6.792648477429804,
            6.6598599485463925,
            4.940828739540212,
            4.487230832381605,
            2.2888374463188206,
            1.0532775549958533,
            0
           ],
           "y": [
            0,
            4.2569514966059385,
            3.2414511881571455,
            7.407834673028926,
            8.034024188561613,
            8.433082089185751,
            8.433082089185751,
            8.433082089185751,
            8.433082089185751,
            8.529340453965386,
            9.05374497546614,
            9.650917956417763,
            9.789976727862,
            9.789976727862
           ]
          }
         ]
        },
        {
         "data": [
          {
           "mode": "lines+markers",
           "name": "estimated pareto",
           "type": "scatter",
           "x": [
            9.733697726262688,
            9.733697726262688,
            9.098088707580358,
            8.672984108531022,
            8.258313370734408,
            7.513077861098761,
            7.3281214834165525,
            7.3281214834165525,
            7.093950619297406,
            6.307403877865244,
            6.307403877865244,
            5.913339233485462,
            5.913339233485462,
            4.940828739540212,
            3.1729919800950097,
            2.445651218505087,
            2.445651218505087,
            2.2888374463188206,
            1.0532775549958533,
            0
           ],
           "y": [
            0,
            1.9023534680376608,
            2.689416244391832,
            2.78061202393153,
            5.224934788815689,
            5.9576230214489,
            6.058875769885431,
            6.058875769885431,
            6.42168859050172,
            6.573264711106771,
            6.573264711106771,
            7.667465697133285,
            7.667465697133285,
            8.529340453965386,
            8.79875811473882,
            9.042846597783457,
            9.042846597783457,
            9.650917956417763,
            9.789976727862,
            9.789976727862
           ]
          },
          {
           "mode": "lines+markers",
           "name": "tentative pareto",
           "type": "scatter",
           "x": [
            10.285790746218286,
            10.285790746218286,
            10.285790746218286,
            8.937786894361471,
            8.438015555685089,
            8.018179101470825,
            7.833064147253308,
            0
           ],
           "y": [
            0,
            6.584666756587258,
            3.8480726568905794,
            9.157195297906808,
            9.389396589575458,
            10.220543413447624,
            10.220543413447624,
            10.220543413447624
           ]
          }
         ]
        },
        {
         "data": [
          {
           "mode": "lines+markers",
           "name": "estimated pareto",
           "type": "scatter",
           "x": [
            9.733697726262688,
            9.733697726262688,
            9.098088707580358,
            8.672984108531022,
            8.258313370734408,
            7.513077861098761,
            7.3281214834165525,
            7.3281214834165525,
            7.093950619297406,
            6.307403877865244,
            6.307403877865244,
            5.913339233485462,
            5.913339233485462,
            4.940828739540212,
            3.1729919800950097,
            2.445651218505087,
            2.445651218505087,
            2.2888374463188206,
            1.0532775549958533,
            0
           ],
           "y": [
            0,
            1.9023534680376608,
            2.689416244391832,
            2.78061202393153,
            5.224934788815689,
            5.9576230214489,
            6.058875769885431,
            6.058875769885431,
            6.42168859050172,
            6.573264711106771,
            6.573264711106771,
            7.667465697133285,
            7.667465697133285,
            8.529340453965386,
            8.79875811473882,
            9.042846597783457,
            9.042846597783457,
            9.650917956417763,
            9.789976727862,
            9.789976727862
           ]
          },
          {
           "mode": "lines+markers",
           "name": "tentative pareto",
           "type": "scatter",
           "x": [
            10.285790746218286,
            10.285790746218286,
            10.285790746218286,
            9.85136793077087,
            9.577693297170017,
            8.513356568609284,
            2.2888374463188206,
            1.0532775549958533,
            0
           ],
           "y": [
            0,
            4.882776911507902,
            0.7304423715126056,
            5.569612156833938,
            9.039512424079373,
            9.441020550589137,
            9.650917956417763,
            9.789976727862,
            9.789976727862
           ]
          }
         ]
        },
        {
         "data": [
          {
           "mode": "lines+markers",
           "name": "estimated pareto",
           "type": "scatter",
           "x": [
            9.733697726262688,
            9.733697726262688,
            9.098088707580358,
            8.672984108531022,
            8.258313370734408,
            7.513077861098761,
            7.3281214834165525,
            7.3281214834165525,
            7.093950619297406,
            6.307403877865244,
            6.307403877865244,
            5.913339233485462,
            5.913339233485462,
            4.940828739540212,
            3.1729919800950097,
            2.445651218505087,
            2.445651218505087,
            2.2888374463188206,
            1.0532775549958533,
            0
           ],
           "y": [
            0,
            1.9023534680376608,
            2.689416244391832,
            2.78061202393153,
            5.224934788815689,
            5.9576230214489,
            6.058875769885431,
            6.058875769885431,
            6.42168859050172,
            6.573264711106771,
            6.573264711106771,
            7.667465697133285,
            7.667465697133285,
            8.529340453965386,
            8.79875811473882,
            9.042846597783457,
            9.042846597783457,
            9.650917956417763,
            9.789976727862,
            9.789976727862
           ]
          },
          {
           "mode": "lines+markers",
           "name": "tentative pareto",
           "type": "scatter",
           "x": [
            10.285790746218286,
            10.285790746218286,
            10.285790746218286,
            10.19183541795395,
            7.513077861098761,
            7.3281214834165525,
            7.3281214834165525,
            7.093950619297406,
            6.307403877865244,
            6.307403877865244,
            5.913339233485462,
            5.913339233485462,
            4.940828739540212,
            3.1729919800950097,
            2.445651218505087,
            2.445651218505087,
            2.2888374463188206,
            1.0532775549958533,
            0
           ],
           "y": [
            0,
            5.7400734469418255,
            3.3233851759031654,
            5.887755325096619,
            5.9576230214489,
            6.058875769885431,
            6.058875769885431,
            6.42168859050172,
            6.573264711106771,
            6.573264711106771,
            7.667465697133285,
            7.667465697133285,
            8.529340453965386,
            8.79875811473882,
            9.042846597783457,
            9.042846597783457,
            9.650917956417763,
            9.789976727862,
            9.789976727862
           ]
          }
         ]
        },
        {
         "data": [
          {
           "mode": "lines+markers",
           "name": "estimated pareto",
           "type": "scatter",
           "x": [
            9.733697726262688,
            9.733697726262688,
            9.098088707580358,
            9.098088707580358,
            8.672984108531022,
            8.258313370734408,
            7.513077861098761,
            7.3281214834165525,
            7.3281214834165525,
            7.093950619297406,
            6.307403877865244,
            6.307403877865244,
            5.913339233485462,
            5.913339233485462,
            4.940828739540212,
            3.1729919800950097,
            2.445651218505087,
            2.445651218505087,
            2.2888374463188206,
            1.0532775549958533,
            0
           ],
           "y": [
            0,
            1.9023534680376608,
            2.689416244391832,
            2.689416244391832,
            2.78061202393153,
            5.224934788815689,
            5.9576230214489,
            6.058875769885431,
            6.058875769885431,
            6.42168859050172,
            6.573264711106771,
            6.573264711106771,
            7.667465697133285,
            7.667465697133285,
            8.529340453965386,
            8.79875811473882,
            9.042846597783457,
            9.042846597783457,
            9.650917956417763,
            9.789976727862,
            9.789976727862
           ]
          },
          {
           "mode": "lines+markers",
           "name": "tentative pareto",
           "type": "scatter",
           "x": [
            10.285790746218286,
            10.285790746218286,
            10.285790746218286,
            10.285790746218286,
            10.285790746218286,
            9.43155240865347,
            8.435857162851644,
            7.899740885357666,
            7.7128028154526085,
            7.514947315609167,
            5.726092346566661,
            2.2888374463188206,
            1.0532775549958533,
            0
           ],
           "y": [
            0,
            4.6525874575587105,
            3.001530815180449,
            2.818857178201718,
            1.4369054848498486,
            6.99531434955596,
            7.943297390051673,
            8.433082089185751,
            8.433082089185751,
            9.25455797108035,
            9.25455797108035,
            9.650917956417763,
            9.789976727862,
            9.789976727862
           ]
          }
         ]
        },
        {
         "data": [
          {
           "mode": "lines+markers",
           "name": "estimated pareto",
           "type": "scatter",
           "x": [
            9.733697726262688,
            9.733697726262688,
            9.098088707580358,
            9.098088707580358,
            8.672984108531022,
            8.258313370734408,
            7.513077861098761,
            7.3281214834165525,
            7.3281214834165525,
            7.093950619297406,
            6.307403877865244,
            6.307403877865244,
            5.913339233485462,
            5.913339233485462,
            4.940828739540212,
            3.1729919800950097,
            2.445651218505087,
            2.445651218505087,
            2.2888374463188206,
            1.0532775549958533,
            0
           ],
           "y": [
            0,
            1.9023534680376608,
            2.689416244391832,
            2.689416244391832,
            2.78061202393153,
            5.224934788815689,
            5.9576230214489,
            6.058875769885431,
            6.058875769885431,
            6.42168859050172,
            6.573264711106771,
            6.573264711106771,
            7.667465697133285,
            7.667465697133285,
            8.529340453965386,
            8.79875811473882,
            9.042846597783457,
            9.042846597783457,
            9.650917956417763,
            9.789976727862,
            9.789976727862
           ]
          },
          {
           "mode": "lines+markers",
           "name": "tentative pareto",
           "type": "scatter",
           "x": [
            10.285790746218286,
            10.285790746218286,
            10.285790746218286,
            10.285790746218286,
            10.285790746218286,
            10.285790746218286,
            7.513077861098761,
            7.4760628257606525,
            6.905765930766798,
            5.954200887261308,
            5.5737676174730035,
            5.466875257057981,
            4.054634215823304,
            2.9632393621826907,
            1.9648912458574324,
            0.9759535078624193,
            -0.15088087593128363,
            0
           ],
           "y": [
            0,
            5.661940603461982,
            3.756131414931661,
            3.680870393680394,
            3.0116238102643633,
            2.5330157115751954,
            5.9576230214489,
            9.163891134991518,
            9.25455797108035,
            9.25455797108035,
            9.25455797108035,
            9.25455797108035,
            10.372750957512148,
            12.080902776609847,
            12.080902776609847,
            12.080902776609847,
            12.080902776609847,
            12.080902776609847
           ]
          }
         ]
        },
        {
         "data": [
          {
           "mode": "lines+markers",
           "name": "estimated pareto",
           "type": "scatter",
           "x": [
            9.733697726262688,
            9.733697726262688,
            9.098088707580358,
            9.098088707580358,
            8.672984108531022,
            8.258313370734408,
            7.513077861098761,
            7.3281214834165525,
            7.3281214834165525,
            7.093950619297406,
            6.307403877865244,
            6.307403877865244,
            5.913339233485462,
            5.913339233485462,
            4.940828739540212,
            3.1729919800950097,
            2.445651218505087,
            2.445651218505087,
            2.2888374463188206,
            1.0532775549958533,
            0
           ],
           "y": [
            0,
            1.9023534680376608,
            2.689416244391832,
            2.689416244391832,
            2.78061202393153,
            5.224934788815689,
            5.9576230214489,
            6.058875769885431,
            6.058875769885431,
            6.42168859050172,
            6.573264711106771,
            6.573264711106771,
            7.667465697133285,
            7.667465697133285,
            8.529340453965386,
            8.79875811473882,
            9.042846597783457,
            9.042846597783457,
            9.650917956417763,
            9.789976727862,
            9.789976727862
           ]
          },
          {
           "mode": "lines+markers",
           "name": "tentative pareto",
           "type": "scatter",
           "x": [
            10.285790746218286,
            10.285790746218286,
            10.285790746218286,
            10.285790746218286,
            10.285790746218286,
            10.285790746218286,
            8.258313370734408,
            7.513077861098761,
            7.3281214834165525,
            7.3281214834165525,
            7.093950619297406,
            6.307403877865244,
            6.307403877865244,
            5.913339233485462,
            5.913339233485462,
            4.940828739540212,
            4.016222955429697,
            3.6599966952551117,
            2.910798797354712,
            2.076284607531401,
            0
           ],
           "y": [
            0,
            4.022618203582545,
            4.010785669730782,
            3.037066871038809,
            2.4211711904633297,
            0.36965135441312835,
            5.224934788815689,
            5.9576230214489,
            6.058875769885431,
            6.058875769885431,
            6.42168859050172,
            6.573264711106771,
            6.573264711106771,
            7.667465697133285,
            7.667465697133285,
            8.529340453965386,
            9.788801880447867,
            10.966734277522555,
            12.080902776609847,
            12.080902776609847,
            12.080902776609847
           ]
          }
         ]
        },
        {
         "data": [
          {
           "mode": "lines+markers",
           "name": "estimated pareto",
           "type": "scatter",
           "x": [
            9.733697726262688,
            9.733697726262688,
            9.098088707580358,
            9.098088707580358,
            8.672984108531022,
            8.258313370734408,
            7.513077861098761,
            7.3281214834165525,
            7.3281214834165525,
            7.093950619297406,
            6.307403877865244,
            6.307403877865244,
            6.292141507099237,
            4.940828739540212,
            3.1729919800950097,
            2.445651218505087,
            2.445651218505087,
            2.2888374463188206,
            1.0532775549958533,
            0
           ],
           "y": [
            0,
            1.9023534680376608,
            2.689416244391832,
            2.689416244391832,
            2.78061202393153,
            5.224934788815689,
            5.9576230214489,
            6.058875769885431,
            6.058875769885431,
            6.42168859050172,
            6.573264711106771,
            6.573264711106771,
            7.754361025426629,
            8.529340453965386,
            8.79875811473882,
            9.042846597783457,
            9.042846597783457,
            9.650917956417763,
            9.789976727862,
            9.789976727862
           ]
          },
          {
           "mode": "lines+markers",
           "name": "tentative pareto",
           "type": "scatter",
           "x": [
            10.285790746218286,
            10.285790746218286,
            10.285790746218286,
            10.285790746218286,
            9.465212648504863,
            9.153143331485483,
            8.465880839973575,
            7.514699819373801,
            7.240805355725171,
            5.789874434826399,
            4.0013074977148415,
            3.8839946218101815,
            3.4749819344098354,
            2.637270490906123,
            1.6530696153847342,
            0
           ],
           "y": [
            0,
            6.534073006046375,
            5.937100931838126,
            5.171157688592826,
            7.671752880620039,
            7.739327033715307,
            8.151429652523362,
            8.408846056184018,
            9.25455797108035,
            9.25455797108035,
            10.952416420059437,
            11.55190189670884,
            12.080902776609847,
            12.080902776609847,
            12.080902776609847,
            12.080902776609847
           ]
          }
         ]
        },
        {
         "data": [
          {
           "mode": "lines+markers",
           "name": "estimated pareto",
           "type": "scatter",
           "x": [
            9.733697726262688,
            9.733697726262688,
            9.098088707580358,
            9.098088707580358,
            8.672984108531022,
            8.258313370734408,
            7.513077861098761,
            7.3281214834165525,
            7.3281214834165525,
            7.093950619297406,
            6.307403877865244,
            6.307403877865244,
            6.292141507099237,
            4.940828739540212,
            3.1729919800950097,
            2.445651218505087,
            2.445651218505087,
            2.2888374463188206,
            1.0532775549958533,
            0
           ],
           "y": [
            0,
            1.9023534680376608,
            2.689416244391832,
            2.689416244391832,
            2.78061202393153,
            5.224934788815689,
            5.9576230214489,
            6.058875769885431,
            6.058875769885431,
            6.42168859050172,
            6.573264711106771,
            6.573264711106771,
            7.754361025426629,
            8.529340453965386,
            8.79875811473882,
            9.042846597783457,
            9.042846597783457,
            9.650917956417763,
            9.789976727862,
            9.789976727862
           ]
          },
          {
           "mode": "lines+markers",
           "name": "tentative pareto",
           "type": "scatter",
           "x": [
            10.285790746218286,
            10.285790746218286,
            10.285790746218286,
            10.285790746218286,
            10.285790746218286,
            10.285790746218286,
            10.285790746218286,
            10.285790746218286,
            9.604841285663936,
            8.691533127783751,
            8.491101588656917,
            5.59386517040452,
            4.527505833434369,
            4.527505833434369,
            1.0532775549958533,
            0
           ],
           "y": [
            0,
            7.739327033715307,
            4.5834897141538145,
            4.3482515644261825,
            4.0299178920310705,
            3.749175614427456,
            3.7276087597944145,
            1.83098250996431,
            7.739327033715307,
            7.739327033715307,
            9.058421488961734,
            9.358039237884357,
            9.743661899877601,
            9.501063254627978,
            9.789976727862,
            9.789976727862
           ]
          }
         ]
        },
        {
         "data": [
          {
           "mode": "lines+markers",
           "name": "estimated pareto",
           "type": "scatter",
           "x": [
            9.733697726262688,
            9.733697726262688,
            9.098088707580358,
            9.098088707580358,
            8.672984108531022,
            8.258313370734408,
            7.513077861098761,
            7.3281214834165525,
            7.3281214834165525,
            7.093950619297406,
            6.307403877865244,
            6.307403877865244,
            6.292141507099237,
            4.940828739540212,
            3.1729919800950097,
            2.445651218505087,
            2.445651218505087,
            2.2888374463188206,
            1.0532775549958533,
            0
           ],
           "y": [
            0,
            1.9023534680376608,
            2.689416244391832,
            2.689416244391832,
            2.78061202393153,
            5.224934788815689,
            5.9576230214489,
            6.058875769885431,
            6.058875769885431,
            6.42168859050172,
            6.573264711106771,
            6.573264711106771,
            7.754361025426629,
            8.529340453965386,
            8.79875811473882,
            9.042846597783457,
            9.042846597783457,
            9.650917956417763,
            9.789976727862,
            9.789976727862
           ]
          },
          {
           "mode": "lines+markers",
           "name": "tentative pareto",
           "type": "scatter",
           "x": [
            10.285790746218286,
            10.285790746218286,
            9.265126579891078,
            8.173225623310952,
            7.514947315609167,
            7.325519694335176,
            6.813644640242765,
            6.761782924046538,
            6.128486718718133,
            5.685772930334549,
            4.527505833434369,
            3.704887649833938,
            2.96590022331238,
            0
           ],
           "y": [
            0,
            6.584234571777477,
            6.809298075280438,
            8.433082089185751,
            9.22703688696763,
            9.25455797108035,
            9.284308448357184,
            9.358039237884357,
            9.358039237884357,
            9.358039237884357,
            12.080902776609847,
            12.080902776609847,
            12.080902776609847,
            12.080902776609847
           ]
          }
         ]
        },
        {
         "data": [
          {
           "mode": "lines+markers",
           "name": "estimated pareto",
           "type": "scatter",
           "x": [
            9.733697726262688,
            9.733697726262688,
            9.098088707580358,
            9.098088707580358,
            8.672984108531022,
            8.258313370734408,
            7.513077861098761,
            7.3281214834165525,
            7.3281214834165525,
            7.093950619297406,
            6.307403877865244,
            6.307403877865244,
            6.292141507099237,
            4.940828739540212,
            3.1729919800950097,
            2.445651218505087,
            2.445651218505087,
            2.2888374463188206,
            1.0532775549958533,
            0
           ],
           "y": [
            0,
            1.9023534680376608,
            2.689416244391832,
            2.689416244391832,
            2.78061202393153,
            5.224934788815689,
            5.9576230214489,
            6.058875769885431,
            6.058875769885431,
            6.42168859050172,
            6.573264711106771,
            6.573264711106771,
            7.754361025426629,
            8.529340453965386,
            8.79875811473882,
            9.042846597783457,
            9.042846597783457,
            9.650917956417763,
            9.789976727862,
            9.789976727862
           ]
          },
          {
           "mode": "lines+markers",
           "name": "tentative pareto",
           "type": "scatter",
           "x": [
            11.07555212466871,
            11.07555212466871,
            11.07555212466871,
            9.090742518281179,
            3.6078718294020664,
            1.4233280894875364,
            0.8625337072545256,
            0.8425014236403695,
            -1.5586809643103872,
            0
           ],
           "y": [
            0,
            2.8297995173231936,
            2.3320049041548243,
            9.168051704019813,
            11.009035879030021,
            12.695679777729008,
            12.695679777729008,
            12.695679777729008,
            12.695679777729008,
            12.695679777729008
           ]
          }
         ]
        },
        {
         "data": [
          {
           "mode": "lines+markers",
           "name": "estimated pareto",
           "type": "scatter",
           "x": [
            9.733697726262688,
            9.733697726262688,
            9.098088707580358,
            9.098088707580358,
            8.672984108531022,
            8.258313370734408,
            7.513077861098761,
            7.3281214834165525,
            7.3281214834165525,
            7.093950619297406,
            6.307403877865244,
            6.307403877865244,
            6.292141507099237,
            4.940828739540212,
            3.1729919800950097,
            2.445651218505087,
            2.445651218505087,
            2.2888374463188206,
            1.0532775549958533,
            0
           ],
           "y": [
            0,
            1.9023534680376608,
            2.689416244391832,
            2.689416244391832,
            2.78061202393153,
            5.224934788815689,
            5.9576230214489,
            6.058875769885431,
            6.058875769885431,
            6.42168859050172,
            6.573264711106771,
            6.573264711106771,
            7.754361025426629,
            8.529340453965386,
            8.79875811473882,
            9.042846597783457,
            9.042846597783457,
            9.650917956417763,
            9.789976727862,
            9.789976727862
           ]
          },
          {
           "mode": "lines+markers",
           "name": "tentative pareto",
           "type": "scatter",
           "x": [
            11.07555212466871,
            11.07555212466871,
            11.07555212466871,
            11.07555212466871,
            11.07555212466871,
            10.720071866008125,
            9.03744161623971,
            8.166688388998377,
            7.635083396735059,
            6.344948638951434,
            4.168003783949612,
            4.168003783949612,
            -0.5696544265962782,
            0
           ],
           "y": [
            0,
            6.287458119176815,
            2.457612427392412,
            2.259058068400149,
            1.5489429491258828,
            8.582483759906044,
            8.768965634302594,
            8.768965634302594,
            9.06440062435324,
            9.168051704019813,
            12.695679777729008,
            9.532997519628568,
            12.695679777729008,
            12.695679777729008
           ]
          }
         ]
        },
        {
         "data": [
          {
           "mode": "lines+markers",
           "name": "estimated pareto",
           "type": "scatter",
           "x": [
            9.733697726262688,
            9.733697726262688,
            9.098088707580358,
            9.098088707580358,
            8.672984108531022,
            8.258313370734408,
            7.513077861098761,
            7.3281214834165525,
            7.3281214834165525,
            7.093950619297406,
            6.307403877865244,
            6.307403877865244,
            6.292141507099237,
            4.940828739540212,
            3.1729919800950097,
            2.445651218505087,
            2.445651218505087,
            2.2888374463188206,
            1.0532775549958533,
            0
           ],
           "y": [
            0,
            1.9023534680376608,
            2.689416244391832,
            2.689416244391832,
            2.78061202393153,
            5.224934788815689,
            5.9576230214489,
            6.058875769885431,
            6.058875769885431,
            6.42168859050172,
            6.573264711106771,
            6.573264711106771,
            7.754361025426629,
            8.529340453965386,
            8.79875811473882,
            9.042846597783457,
            9.042846597783457,
            9.650917956417763,
            9.789976727862,
            9.789976727862
           ]
          },
          {
           "mode": "lines+markers",
           "name": "tentative pareto",
           "type": "scatter",
           "x": [
            11.07555212466871,
            11.07555212466871,
            11.07555212466871,
            11.07555212466871,
            11.07555212466871,
            10.792439821541969,
            9.644647130993604,
            5.463757429064072,
            5.217936674347305,
            4.805048132750436,
            4.168003783949612,
            1.9329446551458844,
            0.1769232747471714,
            0
           ],
           "y": [
            0,
            8.768965634302594,
            5.83275642762564,
            -0.011871602087170974,
            -2.291753768167231,
            8.768965634302594,
            9.168051704019813,
            9.168051704019813,
            9.168051704019813,
            9.168051704019813,
            9.811754588367815,
            12.695679777729008,
            12.695679777729008,
            12.695679777729008
           ]
          }
         ]
        },
        {
         "data": [
          {
           "mode": "lines+markers",
           "name": "estimated pareto",
           "type": "scatter",
           "x": [
            9.733697726262688,
            9.733697726262688,
            9.098088707580358,
            9.098088707580358,
            8.672984108531022,
            8.258313370734408,
            7.513077861098761,
            7.3281214834165525,
            7.3281214834165525,
            7.093950619297406,
            6.307403877865244,
            6.307403877865244,
            6.292141507099237,
            4.940828739540212,
            3.1729919800950097,
            2.445651218505087,
            2.445651218505087,
            2.2888374463188206,
            1.0532775549958533,
            0
           ],
           "y": [
            0,
            1.9023534680376608,
            2.689416244391832,
            2.689416244391832,
            2.78061202393153,
            5.224934788815689,
            5.9576230214489,
            6.058875769885431,
            6.058875769885431,
            6.42168859050172,
            6.573264711106771,
            6.573264711106771,
            7.754361025426629,
            8.529340453965386,
            8.79875811473882,
            9.042846597783457,
            9.042846597783457,
            9.650917956417763,
            9.789976727862,
            9.789976727862
           ]
          },
          {
           "mode": "lines+markers",
           "name": "tentative pareto",
           "type": "scatter",
           "x": [
            11.07555212466871,
            11.07555212466871,
            11.07555212466871,
            11.07555212466871,
            11.07555212466871,
            11.07555212466871,
            11.07555212466871,
            10.162299131325703,
            9.94249646860557,
            7.81177063532908,
            7.322608085477606,
            3.831447775876266,
            3.3829990953246716,
            3.2376711293492098,
            1.5604377075534237,
            0
           ],
           "y": [
            0,
            8.086932021125364,
            7.738973787801481,
            2.637772326869684,
            1.4038451975289505,
            -1.2574082376865174,
            -3.699786188871789,
            8.768965634302594,
            9.024778652809442,
            9.168051704019813,
            9.168051704019813,
            9.908671586443731,
            10.779970985015005,
            11.227055642293772,
            12.695679777729008,
            12.695679777729008
           ]
          }
         ]
        },
        {
         "data": [
          {
           "mode": "lines+markers",
           "name": "estimated pareto",
           "type": "scatter",
           "x": [
            9.733697726262688,
            9.733697726262688,
            9.098088707580358,
            9.098088707580358,
            8.672984108531022,
            8.258313370734408,
            7.513077861098761,
            7.3281214834165525,
            7.3281214834165525,
            7.093950619297406,
            6.307403877865244,
            6.307403877865244,
            6.292141507099237,
            4.940828739540212,
            3.1729919800950097,
            2.445651218505087,
            2.445651218505087,
            2.2888374463188206,
            1.0532775549958533,
            0
           ],
           "y": [
            0,
            1.9023534680376608,
            2.689416244391832,
            2.689416244391832,
            2.78061202393153,
            5.224934788815689,
            5.9576230214489,
            6.058875769885431,
            6.058875769885431,
            6.42168859050172,
            6.573264711106771,
            6.573264711106771,
            7.754361025426629,
            8.529340453965386,
            8.79875811473882,
            9.042846597783457,
            9.042846597783457,
            9.650917956417763,
            9.789976727862,
            9.789976727862
           ]
          },
          {
           "mode": "lines+markers",
           "name": "tentative pareto",
           "type": "scatter",
           "x": [
            11.07555212466871,
            11.07555212466871,
            11.07555212466871,
            11.07555212466871,
            11.07555212466871,
            9.995421651859761,
            7.179360997026508,
            6.967794371138695,
            4.758418315733246,
            4.168003783949612,
            4.084551519667355,
            3.002455851514111,
            1.1037456507824706,
            0
           ],
           "y": [
            0,
            5.112409651222263,
            3.6275248323361375,
            2.045778502456473,
            0.23894736375410996,
            9.168051704019813,
            9.168051704019813,
            9.168051704019813,
            9.168051704019813,
            9.508693066127194,
            9.988946997551116,
            12.695679777729008,
            12.695679777729008,
            12.695679777729008
           ]
          }
         ]
        },
        {
         "data": [
          {
           "mode": "lines+markers",
           "name": "estimated pareto",
           "type": "scatter",
           "x": [
            9.733697726262688,
            9.733697726262688,
            9.098088707580358,
            9.098088707580358,
            8.672984108531022,
            8.258313370734408,
            7.513077861098761,
            7.3281214834165525,
            7.3281214834165525,
            7.093950619297406,
            6.307403877865244,
            6.307403877865244,
            6.292141507099237,
            4.940828739540212,
            3.1729919800950097,
            2.445651218505087,
            2.445651218505087,
            2.2888374463188206,
            1.0532775549958533,
            0
           ],
           "y": [
            0,
            1.9023534680376608,
            2.689416244391832,
            2.689416244391832,
            2.78061202393153,
            5.224934788815689,
            5.9576230214489,
            6.058875769885431,
            6.058875769885431,
            6.42168859050172,
            6.573264711106771,
            6.573264711106771,
            7.754361025426629,
            8.529340453965386,
            8.79875811473882,
            9.042846597783457,
            9.042846597783457,
            9.650917956417763,
            9.789976727862,
            9.789976727862
           ]
          },
          {
           "mode": "lines+markers",
           "name": "tentative pareto",
           "type": "scatter",
           "x": [
            11.07555212466871,
            11.07555212466871,
            11.07555212466871,
            11.07555212466871,
            11.07555212466871,
            11.07555212466871,
            11.048205238687833,
            11.009475338668382,
            9.235720541300935,
            8.308038716654053,
            6.325422244859666,
            2.501449495243341,
            0
           ],
           "y": [
            0,
            2.552029188626955,
            2.3594317743116124,
            0.5798377963537411,
            0.43931649641197934,
            -1.7850445505214463,
            5.130160063611564,
            5.3590064982044705,
            8.768965634302594,
            9.168051704019813,
            9.168051704019813,
            12.695679777729008,
            12.695679777729008
           ]
          }
         ]
        },
        {
         "data": [
          {
           "mode": "lines+markers",
           "name": "estimated pareto",
           "type": "scatter",
           "x": [
            9.733697726262688,
            9.733697726262688,
            9.098088707580358,
            9.098088707580358,
            8.672984108531022,
            8.258313370734408,
            7.513077861098761,
            7.3281214834165525,
            7.3281214834165525,
            7.093950619297406,
            6.307403877865244,
            6.307403877865244,
            6.292141507099237,
            4.940828739540212,
            3.1729919800950097,
            2.445651218505087,
            2.445651218505087,
            2.2888374463188206,
            1.0532775549958533,
            0
           ],
           "y": [
            0,
            1.9023534680376608,
            2.689416244391832,
            2.689416244391832,
            2.78061202393153,
            5.224934788815689,
            5.9576230214489,
            6.058875769885431,
            6.058875769885431,
            6.42168859050172,
            6.573264711106771,
            6.573264711106771,
            7.754361025426629,
            8.529340453965386,
            8.79875811473882,
            9.042846597783457,
            9.042846597783457,
            9.650917956417763,
            9.789976727862,
            9.789976727862
           ]
          },
          {
           "mode": "lines+markers",
           "name": "tentative pareto",
           "type": "scatter",
           "x": [
            10.964457695261519,
            10.964457695261519,
            10.951734338429079,
            10.738198544946002,
            10.097958255783276,
            9.995421651859761,
            9.896320518800245,
            5.684668398854564,
            4.168003783949612,
            3.6312479826065314,
            2.294859085023739,
            2.14090639150985,
            1.6481060932038314,
            1.3416452665338257,
            0.5389526418252629,
            0
           ],
           "y": [
            0,
            3.20678198415325,
            5.382729668457721,
            6.4134102013669505,
            7.312173752938965,
            7.579566663516896,
            8.768965634302594,
            9.168051704019813,
            10.477133861193568,
            12.695679777729008,
            12.695679777729008,
            12.695679777729008,
            12.695679777729008,
            12.695679777729008,
            12.695679777729008,
            12.695679777729008
           ]
          }
         ]
        },
        {
         "data": [
          {
           "mode": "lines+markers",
           "name": "estimated pareto",
           "type": "scatter",
           "x": [
            9.733697726262688,
            9.733697726262688,
            9.098088707580358,
            9.098088707580358,
            8.672984108531022,
            8.258313370734408,
            7.513077861098761,
            7.3281214834165525,
            7.3281214834165525,
            7.093950619297406,
            6.580794336195245,
            6.307403877865244,
            6.307403877865244,
            6.292141507099237,
            4.940828739540212,
            3.1729919800950097,
            2.445651218505087,
            2.445651218505087,
            2.2888374463188206,
            1.0532775549958533,
            0
           ],
           "y": [
            0,
            1.9023534680376608,
            2.689416244391832,
            2.689416244391832,
            2.78061202393153,
            5.224934788815689,
            5.9576230214489,
            6.058875769885431,
            6.058875769885431,
            6.42168859050172,
            6.5082525074287725,
            6.573264711106771,
            6.573264711106771,
            7.754361025426629,
            8.529340453965386,
            8.79875811473882,
            9.042846597783457,
            9.042846597783457,
            9.650917956417763,
            9.789976727862,
            9.789976727862
           ]
          },
          {
           "mode": "lines+markers",
           "name": "tentative pareto",
           "type": "scatter",
           "x": [
            11.07555212466871,
            11.07555212466871,
            10.428349038745036,
            9.546376727462082,
            4.168003783949612,
            4.168003783949612,
            2.8777326095690974,
            1.7921244173316486,
            1.244483141581814,
            0
           ],
           "y": [
            0,
            4.047969583694309,
            8.768965634302594,
            8.768965634302594,
            9.96754829070655,
            9.30726743840103,
            11.581914827924631,
            12.695679777729008,
            12.695679777729008,
            12.695679777729008
           ]
          }
         ]
        },
        {
         "data": [
          {
           "mode": "lines+markers",
           "name": "estimated pareto",
           "type": "scatter",
           "x": [
            9.733697726262688,
            9.733697726262688,
            9.098088707580358,
            9.098088707580358,
            8.672984108531022,
            8.258313370734408,
            7.513077861098761,
            7.3281214834165525,
            7.3281214834165525,
            7.093950619297406,
            6.580794336195245,
            6.307403877865244,
            6.307403877865244,
            6.292141507099237,
            4.940828739540212,
            3.1729919800950097,
            2.445651218505087,
            2.445651218505087,
            2.2888374463188206,
            1.0532775549958533,
            0
           ],
           "y": [
            0,
            1.9023534680376608,
            2.689416244391832,
            2.689416244391832,
            2.78061202393153,
            5.224934788815689,
            5.9576230214489,
            6.058875769885431,
            6.058875769885431,
            6.42168859050172,
            6.5082525074287725,
            6.573264711106771,
            6.573264711106771,
            7.754361025426629,
            8.529340453965386,
            8.79875811473882,
            9.042846597783457,
            9.042846597783457,
            9.650917956417763,
            9.789976727862,
            9.789976727862
           ]
          },
          {
           "mode": "lines+markers",
           "name": "tentative pareto",
           "type": "scatter",
           "x": [
            9.924131952742332,
            9.924131952742332,
            6.292141507099237,
            4.940828739540212,
            3.2038465588589276,
            2.8603797150362977,
            1.2855905118037088,
            -0.17173503565082915,
            -1.0754032286079098,
            0
           ],
           "y": [
            0,
            7.754265477542986,
            7.754361025426629,
            8.529340453965386,
            10.490408805016695,
            11.648194389614797,
            12.695679777729008,
            12.695679777729008,
            12.695679777729008,
            12.695679777729008
           ]
          }
         ]
        },
        {
         "data": [
          {
           "mode": "lines+markers",
           "name": "estimated pareto",
           "type": "scatter",
           "x": [
            9.733697726262688,
            9.733697726262688,
            9.098088707580358,
            9.098088707580358,
            8.672984108531022,
            8.258313370734408,
            7.513077861098761,
            7.3281214834165525,
            7.3281214834165525,
            7.093950619297406,
            6.580794336195245,
            6.307403877865244,
            6.307403877865244,
            6.292141507099237,
            4.940828739540212,
            3.1729919800950097,
            2.445651218505087,
            2.445651218505087,
            2.2888374463188206,
            1.0532775549958533,
            0
           ],
           "y": [
            0,
            1.9023534680376608,
            2.689416244391832,
            2.689416244391832,
            2.78061202393153,
            5.224934788815689,
            5.9576230214489,
            6.058875769885431,
            6.058875769885431,
            6.42168859050172,
            6.5082525074287725,
            6.573264711106771,
            6.573264711106771,
            7.754361025426629,
            8.529340453965386,
            8.79875811473882,
            9.042846597783457,
            9.042846597783457,
            9.650917956417763,
            9.789976727862,
            9.789976727862
           ]
          },
          {
           "mode": "lines+markers",
           "name": "tentative pareto",
           "type": "scatter",
           "x": [
            9.924131952742332,
            9.924131952742332,
            9.924131952742332,
            9.924131952742332,
            9.53586225245403,
            8.712482941814592,
            8.378939846483279,
            8.19435048262568,
            6.212174373874479,
            6.143976611022554,
            6.140144526563783,
            4.282357995235999,
            3.441955006209872,
            3.3067020884250766,
            2.8015625381787364,
            1.4306510563876895,
            1.3420592127051838,
            0.4938721081173649,
            0.12500306143833395,
            0
           ],
           "y": [
            0,
            6.018629305042768,
            5.19163325483584,
            3.20535514849137,
            6.301576371420668,
            6.373391544241259,
            8.622817740713021,
            8.622817740713021,
            8.622817740713021,
            10.607985616998116,
            11.178305332481745,
            11.178305332481745,
            12.017662308945892,
            12.695679777729008,
            12.695679777729008,
            12.695679777729008,
            12.695679777729008,
            12.695679777729008,
            12.695679777729008,
            12.695679777729008
           ]
          }
         ]
        },
        {
         "data": [
          {
           "mode": "lines+markers",
           "name": "estimated pareto",
           "type": "scatter",
           "x": [
            9.733697726262688,
            9.733697726262688,
            9.098088707580358,
            9.098088707580358,
            8.672984108531022,
            8.258313370734408,
            7.513077861098761,
            7.3281214834165525,
            7.3281214834165525,
            7.093950619297406,
            6.580794336195245,
            6.307403877865244,
            6.307403877865244,
            6.292141507099237,
            4.940828739540212,
            3.1729919800950097,
            2.445651218505087,
            2.445651218505087,
            2.2888374463188206,
            1.0532775549958533,
            0
           ],
           "y": [
            0,
            1.9023534680376608,
            2.689416244391832,
            2.689416244391832,
            2.78061202393153,
            5.224934788815689,
            5.9576230214489,
            6.058875769885431,
            6.058875769885431,
            6.42168859050172,
            6.5082525074287725,
            6.573264711106771,
            6.573264711106771,
            7.754361025426629,
            8.529340453965386,
            8.79875811473882,
            9.042846597783457,
            9.042846597783457,
            9.650917956417763,
            9.789976727862,
            9.789976727862
           ]
          },
          {
           "mode": "lines+markers",
           "name": "tentative pareto",
           "type": "scatter",
           "x": [
            11.159918881933258,
            11.159918881933258,
            11.159918881933258,
            11.159918881933258,
            11.159918881933258,
            9.781776527812962,
            9.0800107388176,
            5.630068406821802,
            5.501422719804784,
            5.1612249994072394,
            4.485415661463818,
            0
           ],
           "y": [
            0,
            8.916585200189289,
            5.328225899988047,
            3.200692968794134,
            2.47589163737947,
            8.916585200189289,
            8.916585200189289,
            9.143248570702239,
            10.07532588634504,
            10.674613477537319,
            11.178305332481745,
            11.178305332481745
           ]
          }
         ]
        },
        {
         "data": [
          {
           "mode": "lines+markers",
           "name": "estimated pareto",
           "type": "scatter",
           "x": [
            9.733697726262688,
            9.733697726262688,
            9.098088707580358,
            9.098088707580358,
            8.672984108531022,
            8.258313370734408,
            7.513077861098761,
            7.3281214834165525,
            7.3281214834165525,
            7.093950619297406,
            6.580794336195245,
            6.307403877865244,
            6.307403877865244,
            6.292141507099237,
            4.940828739540212,
            3.1729919800950097,
            2.445651218505087,
            2.445651218505087,
            2.2888374463188206,
            1.0532775549958533,
            0
           ],
           "y": [
            0,
            1.9023534680376608,
            2.689416244391832,
            2.689416244391832,
            2.78061202393153,
            5.224934788815689,
            5.9576230214489,
            6.058875769885431,
            6.058875769885431,
            6.42168859050172,
            6.5082525074287725,
            6.573264711106771,
            6.573264711106771,
            7.754361025426629,
            8.529340453965386,
            8.79875811473882,
            9.042846597783457,
            9.042846597783457,
            9.650917956417763,
            9.789976727862,
            9.789976727862
           ]
          },
          {
           "mode": "lines+markers",
           "name": "tentative pareto",
           "type": "scatter",
           "x": [
            11.753479424582782,
            11.753479424582782,
            11.753479424582782,
            10.750963836002128,
            8.823477867338836,
            8.542403706053141,
            8.112628649396678,
            6.143976611022554,
            2.126577934749325,
            0
           ],
           "y": [
            0,
            6.605696368470504,
            2.8067843123093663,
            9.443351913121896,
            9.66853686964495,
            9.66853686964495,
            9.66853686964495,
            11.178305332481745,
            11.178305332481745,
            11.178305332481745
           ]
          }
         ]
        },
        {
         "data": [
          {
           "mode": "lines+markers",
           "name": "estimated pareto",
           "type": "scatter",
           "x": [
            9.733697726262688,
            9.733697726262688,
            9.098088707580358,
            9.098088707580358,
            8.672984108531022,
            8.258313370734408,
            7.513077861098761,
            7.3281214834165525,
            7.3281214834165525,
            7.093950619297406,
            6.580794336195245,
            6.307403877865244,
            6.307403877865244,
            6.292141507099237,
            4.940828739540212,
            3.1729919800950097,
            2.445651218505087,
            2.445651218505087,
            2.2888374463188206,
            1.0532775549958533,
            0
           ],
           "y": [
            0,
            1.9023534680376608,
            2.689416244391832,
            2.689416244391832,
            2.78061202393153,
            5.224934788815689,
            5.9576230214489,
            6.058875769885431,
            6.058875769885431,
            6.42168859050172,
            6.5082525074287725,
            6.573264711106771,
            6.573264711106771,
            7.754361025426629,
            8.529340453965386,
            8.79875811473882,
            9.042846597783457,
            9.042846597783457,
            9.650917956417763,
            9.789976727862,
            9.789976727862
           ]
          },
          {
           "mode": "lines+markers",
           "name": "tentative pareto",
           "type": "scatter",
           "x": [
            12.86169206735707,
            12.86169206735707,
            10.66782880598424,
            10.004118638821982,
            9.871322171140008,
            9.47690249133643,
            0
           ],
           "y": [
            0,
            8.00435747687039,
            8.662304135880284,
            9.66853686964495,
            9.66853686964495,
            9.853465141227218,
            9.853465141227218
           ]
          }
         ]
        },
        {
         "data": [
          {
           "mode": "lines+markers",
           "name": "estimated pareto",
           "type": "scatter",
           "x": [
            9.733697726262688,
            9.733697726262688,
            9.098088707580358,
            9.098088707580358,
            8.672984108531022,
            8.258313370734408,
            7.513077861098761,
            7.3281214834165525,
            7.3281214834165525,
            7.093950619297406,
            6.580794336195245,
            6.307403877865244,
            6.307403877865244,
            6.292141507099237,
            4.940828739540212,
            3.1729919800950097,
            2.445651218505087,
            2.445651218505087,
            2.2888374463188206,
            1.0532775549958533,
            0
           ],
           "y": [
            0,
            1.9023534680376608,
            2.689416244391832,
            2.689416244391832,
            2.78061202393153,
            5.224934788815689,
            5.9576230214489,
            6.058875769885431,
            6.058875769885431,
            6.42168859050172,
            6.5082525074287725,
            6.573264711106771,
            6.573264711106771,
            7.754361025426629,
            8.529340453965386,
            8.79875811473882,
            9.042846597783457,
            9.042846597783457,
            9.650917956417763,
            9.789976727862,
            9.789976727862
           ]
          },
          {
           "mode": "lines+markers",
           "name": "tentative pareto",
           "type": "scatter",
           "x": [
            12.86169206735707,
            12.86169206735707,
            12.86169206735707,
            11.601221670838552,
            10.532793433171848,
            7.557175214063588,
            6.143976611022554,
            5.327982323413066,
            3.6529688488977285,
            3.6221160928498337,
            1.9952091837768224,
            0
           ],
           "y": [
            0,
            1.576982387373167,
            -0.5523976265508868,
            9.346935261616345,
            9.853465141227218,
            9.853465141227218,
            10.816154391254425,
            11.178305332481745,
            11.178305332481745,
            11.178305332481745,
            11.178305332481745,
            11.178305332481745
           ]
          }
         ]
        },
        {
         "data": [
          {
           "mode": "lines+markers",
           "name": "estimated pareto",
           "type": "scatter",
           "x": [
            9.733697726262688,
            9.733697726262688,
            9.098088707580358,
            9.098088707580358,
            8.672984108531022,
            8.258313370734408,
            7.513077861098761,
            7.3281214834165525,
            7.3281214834165525,
            7.093950619297406,
            6.580794336195245,
            6.307403877865244,
            6.307403877865244,
            6.292141507099237,
            4.940828739540212,
            3.1729919800950097,
            2.445651218505087,
            2.445651218505087,
            2.2888374463188206,
            1.0532775549958533,
            0
           ],
           "y": [
            0,
            1.9023534680376608,
            2.689416244391832,
            2.689416244391832,
            2.78061202393153,
            5.224934788815689,
            5.9576230214489,
            6.058875769885431,
            6.058875769885431,
            6.42168859050172,
            6.5082525074287725,
            6.573264711106771,
            6.573264711106771,
            7.754361025426629,
            8.529340453965386,
            8.79875811473882,
            9.042846597783457,
            9.042846597783457,
            9.650917956417763,
            9.789976727862,
            9.789976727862
           ]
          },
          {
           "mode": "lines+markers",
           "name": "tentative pareto",
           "type": "scatter",
           "x": [
            12.86169206735707,
            12.86169206735707,
            12.86169206735707,
            12.86169206735707,
            11.910040799112595,
            10.678415830006305,
            10.6468979660159,
            8.076143586856317,
            5.177444546298361,
            3.6056577295006216,
            3.257071170925304,
            2.5365388315139006,
            2.412245557876646,
            2.2443850906043323,
            1.9162105496949464,
            1.8258815201357492,
            0
           ],
           "y": [
            0,
            5.705514382962139,
            1.7514858286367763,
            0.49474837207010314,
            8.32229747940702,
            9.66853686964495,
            9.853465141227218,
            9.853465141227218,
            10.62026755099391,
            11.178305332481745,
            11.178305332481745,
            11.2762186331962,
            11.853357177731773,
            11.853357177731773,
            11.853357177731773,
            11.853357177731773,
            11.853357177731773
           ]
          }
         ]
        },
        {
         "data": [
          {
           "mode": "lines+markers",
           "name": "estimated pareto",
           "type": "scatter",
           "x": [
            9.733697726262688,
            9.733697726262688,
            9.549246573538461,
            8.672984108531022,
            8.258313370734408,
            7.513077861098761,
            7.3281214834165525,
            7.3281214834165525,
            7.093950619297406,
            6.580794336195245,
            6.307403877865244,
            6.307403877865244,
            6.292141507099237,
            4.940828739540212,
            3.1729919800950097,
            2.445651218505087,
            2.445651218505087,
            2.2888374463188206,
            1.0532775549958533,
            0
           ],
           "y": [
            0,
            1.9023534680376608,
            2.7693718910176877,
            2.78061202393153,
            5.224934788815689,
            5.9576230214489,
            6.058875769885431,
            6.058875769885431,
            6.42168859050172,
            6.5082525074287725,
            6.573264711106771,
            6.573264711106771,
            7.754361025426629,
            8.529340453965386,
            8.79875811473882,
            9.042846597783457,
            9.042846597783457,
            9.650917956417763,
            9.789976727862,
            9.789976727862
           ]
          },
          {
           "mode": "lines+markers",
           "name": "tentative pareto",
           "type": "scatter",
           "x": [
            12.86169206735707,
            12.86169206735707,
            12.86169206735707,
            12.86169206735707,
            12.86169206735707,
            7.481018291072949,
            3.820829919713852,
            2.7897826219671686,
            2.4939736703305533,
            2.0747586395588695,
            0
           ],
           "y": [
            0,
            6.4229990370517935,
            4.261683452586165,
            2.7279638759619065,
            0.9222785671879423,
            9.853465141227218,
            11.178305332481745,
            11.371102139395468,
            11.853357177731773,
            11.853357177731773,
            11.853357177731773
           ]
          }
         ]
        },
        {
         "data": [
          {
           "mode": "lines+markers",
           "name": "estimated pareto",
           "type": "scatter",
           "x": [
            9.733697726262688,
            9.733697726262688,
            9.549246573538461,
            8.672984108531022,
            8.258313370734408,
            7.513077861098761,
            7.3281214834165525,
            7.3281214834165525,
            7.093950619297406,
            6.580794336195245,
            6.307403877865244,
            6.307403877865244,
            6.292141507099237,
            4.940828739540212,
            3.1729919800950097,
            2.445651218505087,
            2.445651218505087,
            2.2888374463188206,
            1.0532775549958533,
            0
           ],
           "y": [
            0,
            1.9023534680376608,
            2.7693718910176877,
            2.78061202393153,
            5.224934788815689,
            5.9576230214489,
            6.058875769885431,
            6.058875769885431,
            6.42168859050172,
            6.5082525074287725,
            6.573264711106771,
            6.573264711106771,
            7.754361025426629,
            8.529340453965386,
            8.79875811473882,
            9.042846597783457,
            9.042846597783457,
            9.650917956417763,
            9.789976727862,
            9.789976727862
           ]
          },
          {
           "mode": "lines+markers",
           "name": "tentative pareto",
           "type": "scatter",
           "x": [
            12.86169206735707,
            12.86169206735707,
            12.86169206735707,
            12.86169206735707,
            10.478894509015323,
            9.351936987970749,
            8.67195800927472,
            8.400484751969639,
            6.907231377628128,
            6.541548409346959,
            6.143976611022554,
            5.510247370160776,
            5.341786569902664,
            4.8227219904062375,
            4.681325612747248,
            3.378604894645903,
            0.6489735787014874,
            0
           ],
           "y": [
            0,
            7.336144087984373,
            3.935200871136045,
            2.3166425550063625,
            8.566361513677258,
            9.59405841654501,
            9.853465141227218,
            9.853465141227218,
            9.853465141227218,
            9.853465141227218,
            10.799935950413257,
            11.178305332481745,
            11.178305332481745,
            11.178305332481745,
            11.178305332481745,
            11.853357177731773,
            11.853357177731773,
            11.853357177731773
           ]
          }
         ]
        },
        {
         "data": [
          {
           "mode": "lines+markers",
           "name": "estimated pareto",
           "type": "scatter",
           "x": [
            9.733697726262688,
            9.733697726262688,
            9.549246573538461,
            8.672984108531022,
            8.258313370734408,
            7.513077861098761,
            7.3281214834165525,
            7.3281214834165525,
            7.093950619297406,
            6.580794336195245,
            6.307403877865244,
            6.307403877865244,
            6.292141507099237,
            4.940828739540212,
            3.1729919800950097,
            2.445651218505087,
            2.445651218505087,
            2.2888374463188206,
            1.0532775549958533,
            0
           ],
           "y": [
            0,
            1.9023534680376608,
            2.7693718910176877,
            2.78061202393153,
            5.224934788815689,
            5.9576230214489,
            6.058875769885431,
            6.058875769885431,
            6.42168859050172,
            6.5082525074287725,
            6.573264711106771,
            6.573264711106771,
            7.754361025426629,
            8.529340453965386,
            8.79875811473882,
            9.042846597783457,
            9.042846597783457,
            9.650917956417763,
            9.789976727862,
            9.789976727862
           ]
          },
          {
           "mode": "lines+markers",
           "name": "tentative pareto",
           "type": "scatter",
           "x": [
            12.86169206735707,
            12.86169206735707,
            12.86169206735707,
            11.090901094617145,
            11.00115009793181,
            9.49467498992276,
            8.562899157543113,
            7.035160535167604,
            6.520627901277884,
            3.8940856030185045,
            2.6734844331515326,
            1.172224657254491,
            1.0983441118287853,
            0.9269723294215828,
            0.4479429748443754,
            0
           ],
           "y": [
            0,
            5.37837143585088,
            4.265809970522405,
            6.429729644650805,
            8.0458869991281,
            9.853465141227218,
            9.853465141227218,
            9.853465141227218,
            9.853465141227218,
            11.178305332481745,
            11.853357177731773,
            12.396848664897206,
            12.396848664897206,
            12.396848664897206,
            12.396848664897206,
            12.396848664897206
           ]
          }
         ]
        },
        {
         "data": [
          {
           "mode": "lines+markers",
           "name": "estimated pareto",
           "type": "scatter",
           "x": [
            9.733697726262688,
            9.733697726262688,
            9.549246573538461,
            8.672984108531022,
            8.258313370734408,
            7.513077861098761,
            7.3281214834165525,
            7.3281214834165525,
            7.093950619297406,
            6.580794336195245,
            6.307403877865244,
            6.307403877865244,
            6.292141507099237,
            4.940828739540212,
            3.1729919800950097,
            2.445651218505087,
            2.445651218505087,
            2.2888374463188206,
            1.0532775549958533,
            0
           ],
           "y": [
            0,
            1.9023534680376608,
            2.7693718910176877,
            2.78061202393153,
            5.224934788815689,
            5.9576230214489,
            6.058875769885431,
            6.058875769885431,
            6.42168859050172,
            6.5082525074287725,
            6.573264711106771,
            6.573264711106771,
            7.754361025426629,
            8.529340453965386,
            8.79875811473882,
            9.042846597783457,
            9.042846597783457,
            9.650917956417763,
            9.789976727862,
            9.789976727862
           ]
          },
          {
           "mode": "lines+markers",
           "name": "tentative pareto",
           "type": "scatter",
           "x": [
            12.86169206735707,
            12.86169206735707,
            12.86169206735707,
            12.86169206735707,
            10.919024687285155,
            8.369537487608401,
            4.134428135318912,
            2.6276412681959807,
            2.590948623987271,
            2.5565657538213733,
            1.5222153906130569,
            0.9675479195962812,
            0.7458673666775509,
            0.6335471512149848,
            0.06941476750684528,
            0
           ],
           "y": [
            0,
            7.9177969333854294,
            5.96781539863135,
            -0.715813871061302,
            9.03665509922699,
            10.311353149405452,
            11.178305332481745,
            11.853357177731773,
            11.853357177731773,
            11.853357177731773,
            12.396848664897206,
            12.396848664897206,
            12.396848664897206,
            12.396848664897206,
            12.396848664897206,
            12.396848664897206
           ]
          }
         ]
        },
        {
         "data": [
          {
           "mode": "lines+markers",
           "name": "estimated pareto",
           "type": "scatter",
           "x": [
            9.733697726262688,
            9.733697726262688,
            9.549246573538461,
            8.672984108531022,
            8.258313370734408,
            7.513077861098761,
            7.3281214834165525,
            7.3281214834165525,
            7.093950619297406,
            6.580794336195245,
            6.307403877865244,
            6.307403877865244,
            6.292141507099237,
            4.940828739540212,
            3.1729919800950097,
            2.445651218505087,
            2.445651218505087,
            2.2888374463188206,
            1.0532775549958533,
            0
           ],
           "y": [
            0,
            1.9023534680376608,
            2.7693718910176877,
            2.78061202393153,
            5.224934788815689,
            5.9576230214489,
            6.058875769885431,
            6.058875769885431,
            6.42168859050172,
            6.5082525074287725,
            6.573264711106771,
            6.573264711106771,
            7.754361025426629,
            8.529340453965386,
            8.79875811473882,
            9.042846597783457,
            9.042846597783457,
            9.650917956417763,
            9.789976727862,
            9.789976727862
           ]
          },
          {
           "mode": "lines+markers",
           "name": "tentative pareto",
           "type": "scatter",
           "x": [
            12.86169206735707,
            12.86169206735707,
            12.86169206735707,
            12.86169206735707,
            12.67184101347377,
            10.52286740201809,
            9.70882905082553,
            8.533868081011406,
            6.143976611022554,
            3.8050382599114245,
            3.075295021403696,
            2.43823815136186,
            2.291971473153789,
            2.2748805044623297,
            2.1824497108198817,
            1.921372157822472,
            0
           ],
           "y": [
            0,
            9.853465141227218,
            4.3887397735448825,
            3.8258588565902407,
            10.311353149405452,
            10.311353149405452,
            10.311353149405452,
            10.311353149405452,
            11.178305332481745,
            11.178305332481745,
            11.853357177731773,
            11.853357177731773,
            11.853357177731773,
            11.853357177731773,
            11.853357177731773,
            12.396848664897206,
            12.396848664897206
           ]
          }
         ]
        },
        {
         "data": [
          {
           "mode": "lines+markers",
           "name": "estimated pareto",
           "type": "scatter",
           "x": [
            9.733697726262688,
            9.733697726262688,
            9.549246573538461,
            8.672984108531022,
            8.258313370734408,
            7.513077861098761,
            7.3281214834165525,
            7.3281214834165525,
            7.093950619297406,
            6.580794336195245,
            6.307403877865244,
            6.307403877865244,
            6.292141507099237,
            4.940828739540212,
            3.1729919800950097,
            2.445651218505087,
            2.445651218505087,
            2.2888374463188206,
            1.0532775549958533,
            0
           ],
           "y": [
            0,
            1.9023534680376608,
            2.7693718910176877,
            2.78061202393153,
            5.224934788815689,
            5.9576230214489,
            6.058875769885431,
            6.058875769885431,
            6.42168859050172,
            6.5082525074287725,
            6.573264711106771,
            6.573264711106771,
            7.754361025426629,
            8.529340453965386,
            8.79875811473882,
            9.042846597783457,
            9.042846597783457,
            9.650917956417763,
            9.789976727862,
            9.789976727862
           ]
          },
          {
           "mode": "lines+markers",
           "name": "tentative pareto",
           "type": "scatter",
           "x": [
            12.86169206735707,
            12.86169206735707,
            12.86169206735707,
            12.86169206735707,
            12.86169206735707,
            11.877061050197344,
            10.323591333228906,
            9.215389860418314,
            9.038203093025844,
            8.996833279817649,
            8.514874027446195,
            7.496909561152409,
            7.316169764088578,
            7.300332248844761,
            6.140185838049165,
            4.795830639808512,
            4.466613466495593,
            4.21519333232042,
            3.271208400815757,
            3.233676339821778,
            3.2053210341601597,
            2.7578886495010475,
            2.5236696904722447,
            1.3349857096090765,
            0.4797622534599477,
            0.34500575720460236,
            0
           ],
           "y": [
            0,
            6.868643068977064,
            4.4915791766282425,
            -0.2669454931855215,
            -1.7693701131714024,
            9.330155452623298,
            9.926753019548697,
            10.311353149405452,
            10.311353149405452,
            10.311353149405452,
            10.311353149405452,
            10.311353149405452,
            10.311353149405452,
            10.311353149405452,
            11.178305332481745,
            11.178305332481745,
            11.178305332481745,
            11.178305332481745,
            11.178305332481745,
            11.853357177731773,
            11.853357177731773,
            11.853357177731773,
            11.853357177731773,
            12.396848664897206,
            12.396848664897206,
            12.396848664897206,
            12.396848664897206
           ]
          }
         ]
        },
        {
         "data": [
          {
           "mode": "lines+markers",
           "name": "estimated pareto",
           "type": "scatter",
           "x": [
            9.733697726262688,
            9.733697726262688,
            9.600560359957171,
            9.549246573538461,
            8.672984108531022,
            8.258313370734408,
            7.513077861098761,
            7.3281214834165525,
            7.3281214834165525,
            7.093950619297406,
            6.580794336195245,
            6.307403877865244,
            6.307403877865244,
            6.292141507099237,
            4.940828739540212,
            3.1729919800950097,
            2.445651218505087,
            2.445651218505087,
            2.2888374463188206,
            1.0532775549958533,
            0
           ],
           "y": [
            0,
            1.9023534680376608,
            2.6980678213576104,
            2.7693718910176877,
            2.78061202393153,
            5.224934788815689,
            5.9576230214489,
            6.058875769885431,
            6.058875769885431,
            6.42168859050172,
            6.5082525074287725,
            6.573264711106771,
            6.573264711106771,
            7.754361025426629,
            8.529340453965386,
            8.79875811473882,
            9.042846597783457,
            9.042846597783457,
            9.650917956417763,
            9.789976727862,
            9.789976727862
           ]
          },
          {
           "mode": "lines+markers",
           "name": "tentative pareto",
           "type": "scatter",
           "x": [
            12.86169206735707,
            12.86169206735707,
            12.86169206735707,
            10.71224091199127,
            9.628848159188232,
            6.143976611022554,
            2.9596861671942403,
            2.9507246712657356,
            2.5257828864676775,
            1.8706782695485435,
            1.0141054976910329,
            0.905978014313214,
            0
           ],
           "y": [
            0,
            7.195597021472421,
            6.648071461607891,
            9.565882603258977,
            9.835050388539258,
            11.178305332481745,
            11.853357177731773,
            11.853357177731773,
            11.853357177731773,
            11.853357177731773,
            12.396848664897206,
            12.396848664897206,
            12.396848664897206
           ]
          }
         ]
        },
        {
         "data": [
          {
           "mode": "lines+markers",
           "name": "estimated pareto",
           "type": "scatter",
           "x": [
            9.733697726262688,
            9.733697726262688,
            9.611509800108182,
            9.549246573538461,
            8.672984108531022,
            8.258313370734408,
            7.513077861098761,
            7.3281214834165525,
            7.3281214834165525,
            7.093950619297406,
            6.580794336195245,
            6.307403877865244,
            6.307403877865244,
            6.292141507099237,
            4.940828739540212,
            3.1729919800950097,
            2.445651218505087,
            2.445651218505087,
            2.2888374463188206,
            1.0532775549958533,
            0
           ],
           "y": [
            0,
            1.9023534680376608,
            2.7453145438503785,
            2.7693718910176877,
            2.78061202393153,
            5.224934788815689,
            5.9576230214489,
            6.058875769885431,
            6.058875769885431,
            6.42168859050172,
            6.5082525074287725,
            6.573264711106771,
            6.573264711106771,
            7.754361025426629,
            8.529340453965386,
            8.79875811473882,
            9.042846597783457,
            9.042846597783457,
            9.650917956417763,
            9.789976727862,
            9.789976727862
           ]
          },
          {
           "mode": "lines+markers",
           "name": "tentative pareto",
           "type": "scatter",
           "x": [
            9.733697726262688,
            9.733697726262688,
            9.611509800108182,
            9.549246573538461,
            9.05670488714042,
            2.5006528083129425,
            2.005655443384886,
            1.7313201719846236,
            1.5940263978248863,
            1.3513967222913856,
            0.38585986356162305,
            0
           ],
           "y": [
            0,
            1.9023534680376608,
            2.7453145438503785,
            2.7693718910176877,
            9.12552322825634,
            11.853357177731773,
            11.853357177731773,
            12.396848664897206,
            12.396848664897206,
            12.396848664897206,
            12.396848664897206,
            12.396848664897206
           ]
          }
         ]
        },
        {
         "data": [
          {
           "mode": "lines+markers",
           "name": "estimated pareto",
           "type": "scatter",
           "x": [
            9.733697726262688,
            9.733697726262688,
            9.611509800108182,
            9.549246573538461,
            8.672984108531022,
            8.258313370734408,
            7.513077861098761,
            7.3281214834165525,
            7.3281214834165525,
            7.093950619297406,
            6.580794336195245,
            6.307403877865244,
            6.307403877865244,
            6.292141507099237,
            4.940828739540212,
            3.1729919800950097,
            2.445651218505087,
            2.445651218505087,
            2.2888374463188206,
            1.0532775549958533,
            0
           ],
           "y": [
            0,
            1.9023534680376608,
            2.7453145438503785,
            2.7693718910176877,
            2.78061202393153,
            5.224934788815689,
            5.9576230214489,
            6.058875769885431,
            6.058875769885431,
            6.42168859050172,
            6.5082525074287725,
            6.573264711106771,
            6.573264711106771,
            7.754361025426629,
            8.529340453965386,
            8.79875811473882,
            9.042846597783457,
            9.042846597783457,
            9.650917956417763,
            9.789976727862,
            9.789976727862
           ]
          },
          {
           "mode": "lines+markers",
           "name": "tentative pareto",
           "type": "scatter",
           "x": [
            11.009934916946769,
            11.009934916946769,
            11.009934916946769,
            11.009934916946769,
            11.009934916946769,
            7.021606335017037,
            4.419577003183761,
            4.230643288344868,
            4.118130812255894,
            3.6262570483937573,
            3.267176533564883,
            3.200476039088881,
            2.9460665035013816,
            1.2676526446354566,
            1.235898557442562,
            1.1575532847477106,
            1.027017659219482,
            0
           ],
           "y": [
            0,
            7.117427897761429,
            4.967857927544145,
            4.231746238125758,
            4.146819642902916,
            9.12552322825634,
            11.178305332481745,
            11.178305332481745,
            11.178305332481745,
            11.178305332481745,
            11.178305332481745,
            11.178305332481745,
            11.3862855235441,
            11.853357177731773,
            12.36866431498299,
            12.396848664897206,
            12.396848664897206,
            12.396848664897206
           ]
          }
         ]
        },
        {
         "data": [
          {
           "mode": "lines+markers",
           "name": "estimated pareto",
           "type": "scatter",
           "x": [
            9.733697726262688,
            9.733697726262688,
            9.611509800108182,
            9.549246573538461,
            8.672984108531022,
            8.258313370734408,
            7.513077861098761,
            7.3281214834165525,
            7.3281214834165525,
            7.093950619297406,
            6.580794336195245,
            6.307403877865244,
            6.307403877865244,
            6.292141507099237,
            4.940828739540212,
            3.1729919800950097,
            2.445651218505087,
            2.445651218505087,
            2.2888374463188206,
            1.0532775549958533,
            0
           ],
           "y": [
            0,
            1.9023534680376608,
            2.7453145438503785,
            2.7693718910176877,
            2.78061202393153,
            5.224934788815689,
            5.9576230214489,
            6.058875769885431,
            6.058875769885431,
            6.42168859050172,
            6.5082525074287725,
            6.573264711106771,
            6.573264711106771,
            7.754361025426629,
            8.529340453965386,
            8.79875811473882,
            9.042846597783457,
            9.042846597783457,
            9.650917956417763,
            9.789976727862,
            9.789976727862
           ]
          },
          {
           "mode": "lines+markers",
           "name": "tentative pareto",
           "type": "scatter",
           "x": [
            11.009934916946769,
            11.009934916946769,
            10.671959281965162,
            6.143976611022554,
            4.437406816734081,
            4.2828760812269735,
            4.204070391652855,
            3.2553943703905617,
            2.7530126516050357,
            2.3232057660230385,
            2.091590915400914,
            2.036522161207447,
            1.6074869867964594,
            1.2800563530979367,
            -0.34423574016054825,
            0
           ],
           "y": [
            0,
            6.847372531256413,
            9.12552322825634,
            10.786971985924739,
            11.178305332481745,
            11.178305332481745,
            11.178305332481745,
            11.853357177731773,
            11.853357177731773,
            11.853357177731773,
            11.853357177731773,
            11.853357177731773,
            11.853357177731773,
            12.396848664897206,
            12.396848664897206,
            12.396848664897206
           ]
          }
         ]
        },
        {
         "data": [
          {
           "mode": "lines+markers",
           "name": "estimated pareto",
           "type": "scatter",
           "x": [
            9.733697726262688,
            9.733697726262688,
            9.611509800108182,
            9.549246573538461,
            8.672984108531022,
            8.258313370734408,
            7.513077861098761,
            7.3281214834165525,
            7.3281214834165525,
            7.093950619297406,
            6.580794336195245,
            6.307403877865244,
            6.307403877865244,
            6.292141507099237,
            4.940828739540212,
            3.1729919800950097,
            2.95697002609741,
            2.2888374463188206,
            1.0532775549958533,
            0
           ],
           "y": [
            0,
            1.9023534680376608,
            2.7453145438503785,
            2.7693718910176877,
            2.78061202393153,
            5.224934788815689,
            5.9576230214489,
            6.058875769885431,
            6.058875769885431,
            6.42168859050172,
            6.5082525074287725,
            6.573264711106771,
            6.573264711106771,
            7.754361025426629,
            8.529340453965386,
            8.79875811473882,
            9.518703000199134,
            9.650917956417763,
            9.789976727862,
            9.789976727862
           ]
          },
          {
           "mode": "lines+markers",
           "name": "tentative pareto",
           "type": "scatter",
           "x": [
            11.69906460205097,
            11.69906460205097,
            11.69906460205097,
            11.69906460205097,
            8.258313370734408,
            7.513077861098761,
            7.3281214834165525,
            7.3281214834165525,
            7.102881331382358,
            4.6598586144258025,
            1.3366069122106625,
            1.3211645449809952,
            1.1548460967468825,
            0.7641915123100427,
            0.5565563125421102,
            0
           ],
           "y": [
            0,
            3.882664915063379,
            1.257868288708559,
            -0.5078929979340359,
            5.224934788815689,
            5.9576230214489,
            6.058875769885431,
            6.058875769885431,
            9.662586240452416,
            11.178305332481745,
            12.396848664897206,
            12.396848664897206,
            12.396848664897206,
            12.396848664897206,
            12.396848664897206,
            12.396848664897206
           ]
          }
         ]
        },
        {
         "data": [
          {
           "mode": "lines+markers",
           "name": "estimated pareto",
           "type": "scatter",
           "x": [
            9.733697726262688,
            9.733697726262688,
            9.611509800108182,
            9.549246573538461,
            8.672984108531022,
            8.258313370734408,
            7.513077861098761,
            7.3281214834165525,
            7.3281214834165525,
            7.093950619297406,
            6.580794336195245,
            6.307403877865244,
            6.307403877865244,
            6.292141507099237,
            4.940828739540212,
            3.1729919800950097,
            2.95697002609741,
            2.2888374463188206,
            1.0532775549958533,
            0
           ],
           "y": [
            0,
            1.9023534680376608,
            2.7453145438503785,
            2.7693718910176877,
            2.78061202393153,
            5.224934788815689,
            5.9576230214489,
            6.058875769885431,
            6.058875769885431,
            6.42168859050172,
            6.5082525074287725,
            6.573264711106771,
            6.573264711106771,
            7.754361025426629,
            8.529340453965386,
            8.79875811473882,
            9.518703000199134,
            9.650917956417763,
            9.789976727862,
            9.789976727862
           ]
          },
          {
           "mode": "lines+markers",
           "name": "tentative pareto",
           "type": "scatter",
           "x": [
            11.69906460205097,
            11.69906460205097,
            11.69906460205097,
            11.009934916946769,
            10.844870613648792,
            9.462477246072366,
            6.143976611022554,
            5.547729926041937,
            4.786179563454034,
            0.3134816023648942,
            0
           ],
           "y": [
            0,
            1.226526455069299,
            -0.18238529256132274,
            7.7285291597911545,
            9.068568666224907,
            9.662586240452416,
            10.44973267451218,
            11.178305332481745,
            11.178305332481745,
            12.396848664897206,
            12.396848664897206
           ]
          }
         ]
        },
        {
         "data": [
          {
           "mode": "lines+markers",
           "name": "estimated pareto",
           "type": "scatter",
           "x": [
            9.733697726262688,
            9.733697726262688,
            9.611509800108182,
            9.549246573538461,
            8.672984108531022,
            8.258313370734408,
            7.513077861098761,
            7.3281214834165525,
            7.3281214834165525,
            7.093950619297406,
            6.580794336195245,
            6.307403877865244,
            6.307403877865244,
            6.292141507099237,
            4.940828739540212,
            3.1729919800950097,
            2.95697002609741,
            2.2888374463188206,
            1.0532775549958533,
            0
           ],
           "y": [
            0,
            1.9023534680376608,
            2.7453145438503785,
            2.7693718910176877,
            2.78061202393153,
            5.224934788815689,
            5.9576230214489,
            6.058875769885431,
            6.058875769885431,
            6.42168859050172,
            6.5082525074287725,
            6.573264711106771,
            6.573264711106771,
            7.754361025426629,
            8.529340453965386,
            8.79875811473882,
            9.518703000199134,
            9.650917956417763,
            9.789976727862,
            9.789976727862
           ]
          },
          {
           "mode": "lines+markers",
           "name": "tentative pareto",
           "type": "scatter",
           "x": [
            11.69906460205097,
            11.69906460205097,
            11.009934916946769,
            11.009934916946769,
            9.443923963904355,
            8.505010107073232,
            7.160165646006454,
            5.056299730802902,
            0
           ],
           "y": [
            0,
            -0.44647348545018417,
            6.861882634254083,
            4.62987020732167,
            9.662586240452416,
            9.662586240452416,
            9.662586240452416,
            11.178305332481745,
            11.178305332481745
           ]
          }
         ]
        },
        {
         "data": [
          {
           "mode": "lines+markers",
           "name": "estimated pareto",
           "type": "scatter",
           "x": [
            9.733697726262688,
            9.733697726262688,
            9.611509800108182,
            9.549246573538461,
            8.672984108531022,
            8.258313370734408,
            7.513077861098761,
            7.3281214834165525,
            7.3281214834165525,
            7.093950619297406,
            6.580794336195245,
            6.307403877865244,
            6.307403877865244,
            6.292141507099237,
            4.940828739540212,
            3.1729919800950097,
            2.95697002609741,
            2.2888374463188206,
            1.0532775549958533,
            0
           ],
           "y": [
            0,
            1.9023534680376608,
            2.7453145438503785,
            2.7693718910176877,
            2.78061202393153,
            5.224934788815689,
            5.9576230214489,
            6.058875769885431,
            6.058875769885431,
            6.42168859050172,
            6.5082525074287725,
            6.573264711106771,
            6.573264711106771,
            7.754361025426629,
            8.529340453965386,
            8.79875811473882,
            9.518703000199134,
            9.650917956417763,
            9.789976727862,
            9.789976727862
           ]
          },
          {
           "mode": "lines+markers",
           "name": "tentative pareto",
           "type": "scatter",
           "x": [
            11.69906460205097,
            11.69906460205097,
            11.69906460205097,
            11.69906460205097,
            11.021214685969866,
            9.764779105802438,
            9.02362713310876,
            5.702180876526006,
            5.281209563573027,
            3.9817455096684093,
            3.917550080102672,
            2.601612433877461,
            0
           ],
           "y": [
            0,
            3.754488634084919,
            1.9828915302247334,
            -1.318591570625368,
            9.662586240452416,
            9.662586240452416,
            9.662586240452416,
            10.428164965712554,
            11.178305332481745,
            11.178305332481745,
            11.178305332481745,
            11.178305332481745,
            11.178305332481745
           ]
          }
         ]
        },
        {
         "data": [
          {
           "mode": "lines+markers",
           "name": "estimated pareto",
           "type": "scatter",
           "x": [
            9.733697726262688,
            9.733697726262688,
            9.611509800108182,
            9.549246573538461,
            8.672984108531022,
            8.258313370734408,
            7.513077861098761,
            7.3281214834165525,
            7.3281214834165525,
            7.093950619297406,
            6.580794336195245,
            6.307403877865244,
            6.307403877865244,
            6.292141507099237,
            4.940828739540212,
            3.1729919800950097,
            2.95697002609741,
            2.2888374463188206,
            1.0532775549958533,
            0
           ],
           "y": [
            0,
            1.9023534680376608,
            2.7453145438503785,
            2.7693718910176877,
            2.78061202393153,
            5.224934788815689,
            5.9576230214489,
            6.058875769885431,
            6.058875769885431,
            6.42168859050172,
            6.5082525074287725,
            6.573264711106771,
            6.573264711106771,
            7.754361025426629,
            8.529340453965386,
            8.79875811473882,
            9.518703000199134,
            9.650917956417763,
            9.789976727862,
            9.789976727862
           ]
          },
          {
           "mode": "lines+markers",
           "name": "tentative pareto",
           "type": "scatter",
           "x": [
            11.69906460205097,
            11.69906460205097,
            11.69906460205097,
            11.69906460205097,
            11.519516997718075,
            9.603526215157292,
            9.301975502997749,
            8.443170575283828,
            7.723967809426227,
            6.833547469769705,
            6.5660698716624655,
            5.767307030173701,
            1.1329854645916755,
            -0.9644657344770118,
            0
           ],
           "y": [
            0,
            5.651330275438303,
            4.87932697906469,
            2.796227045655124,
            6.205040609742131,
            8.632395824955834,
            8.770782952241529,
            9.12552322825634,
            9.662586240452416,
            11.644110974011612,
            12.245086468951165,
            12.245086468951165,
            12.245086468951165,
            12.245086468951165,
            12.245086468951165
           ]
          }
         ]
        },
        {
         "data": [
          {
           "mode": "lines+markers",
           "name": "estimated pareto",
           "type": "scatter",
           "x": [
            9.733697726262688,
            9.733697726262688,
            9.611509800108182,
            9.549246573538461,
            8.672984108531022,
            8.258313370734408,
            7.8682097531198165,
            7.513077861098761,
            7.3281214834165525,
            7.3281214834165525,
            7.093950619297406,
            6.580794336195245,
            6.307403877865244,
            6.307403877865244,
            6.292141507099237,
            4.940828739540212,
            3.1729919800950097,
            2.95697002609741,
            2.2888374463188206,
            1.0532775549958533,
            0
           ],
           "y": [
            0,
            1.9023534680376608,
            2.7453145438503785,
            2.7693718910176877,
            2.78061202393153,
            5.224934788815689,
            5.297926126156044,
            5.9576230214489,
            6.058875769885431,
            6.058875769885431,
            6.42168859050172,
            6.5082525074287725,
            6.573264711106771,
            6.573264711106771,
            7.754361025426629,
            8.529340453965386,
            8.79875811473882,
            9.518703000199134,
            9.650917956417763,
            9.789976727862,
            9.789976727862
           ]
          },
          {
           "mode": "lines+markers",
           "name": "tentative pareto",
           "type": "scatter",
           "x": [
            11.69906460205097,
            11.69906460205097,
            11.69906460205097,
            11.69906460205097,
            11.100114611446175,
            8.257636463217908,
            7.0512734927900755,
            4.257566578156796,
            1.827565793385016,
            0
           ],
           "y": [
            0,
            6.687319092937001,
            5.576444159818124,
            -4.534360200973172,
            7.878628098047636,
            9.662586240452416,
            12.245086468951165,
            12.245086468951165,
            12.245086468951165,
            12.245086468951165
           ]
          }
         ]
        },
        {
         "data": [
          {
           "mode": "lines+markers",
           "name": "estimated pareto",
           "type": "scatter",
           "x": [
            9.733697726262688,
            9.733697726262688,
            9.611509800108182,
            9.549246573538461,
            8.672984108531022,
            8.258313370734408,
            7.8682097531198165,
            7.513077861098761,
            7.3281214834165525,
            7.3281214834165525,
            7.093950619297406,
            6.580794336195245,
            6.307403877865244,
            6.307403877865244,
            6.292141507099237,
            4.940828739540212,
            4.3742366577232,
            3.1729919800950097,
            2.95697002609741,
            2.2888374463188206,
            1.0532775549958533,
            0
           ],
           "y": [
            0,
            1.9023534680376608,
            2.7453145438503785,
            2.7693718910176877,
            2.78061202393153,
            5.224934788815689,
            5.297926126156044,
            5.9576230214489,
            6.058875769885431,
            6.058875769885431,
            6.42168859050172,
            6.5082525074287725,
            6.573264711106771,
            6.573264711106771,
            7.754361025426629,
            8.529340453965386,
            8.64428915940205,
            8.79875811473882,
            9.518703000199134,
            9.650917956417763,
            9.789976727862,
            9.789976727862
           ]
          },
          {
           "mode": "lines+markers",
           "name": "tentative pareto",
           "type": "scatter",
           "x": [
            12.742614047309527,
            12.742614047309527,
            12.742614047309527,
            11.100114611446175,
            10.947625987887898,
            10.100998518124488,
            8.99561027422843,
            8.193409499457905,
            5.262681234060241,
            3.283431906858821,
            2.8301472998143398,
            2.6492643209117968,
            0
           ],
           "y": [
            0,
            7.559284025843538,
            0.40178574696348646,
            9.188002296520917,
            9.662586240452416,
            9.662586240452416,
            9.662586240452416,
            9.662586240452416,
            12.245086468951165,
            12.245086468951165,
            12.245086468951165,
            12.245086468951165,
            12.245086468951165
           ]
          }
         ]
        },
        {
         "data": [
          {
           "mode": "lines+markers",
           "name": "estimated pareto",
           "type": "scatter",
           "x": [
            9.733697726262688,
            9.733697726262688,
            9.611509800108182,
            9.549246573538461,
            8.672984108531022,
            8.258313370734408,
            7.8682097531198165,
            7.513077861098761,
            7.3281214834165525,
            7.3281214834165525,
            7.093950619297406,
            6.580794336195245,
            6.307403877865244,
            6.307403877865244,
            6.292141507099237,
            4.940828739540212,
            4.3742366577232,
            3.1729919800950097,
            2.95697002609741,
            2.2888374463188206,
            1.0532775549958533,
            0
           ],
           "y": [
            0,
            1.9023534680376608,
            2.7453145438503785,
            2.7693718910176877,
            2.78061202393153,
            5.224934788815689,
            5.297926126156044,
            5.9576230214489,
            6.058875769885431,
            6.058875769885431,
            6.42168859050172,
            6.5082525074287725,
            6.573264711106771,
            6.573264711106771,
            7.754361025426629,
            8.529340453965386,
            8.64428915940205,
            8.79875811473882,
            9.518703000199134,
            9.650917956417763,
            9.789976727862,
            9.789976727862
           ]
          },
          {
           "mode": "lines+markers",
           "name": "tentative pareto",
           "type": "scatter",
           "x": [
            12.742614047309527,
            12.742614047309527,
            12.742614047309527,
            10.181810555418506,
            9.132437259076164,
            5.499822917266652,
            4.833996460112294,
            1.7215922903937413,
            0
           ],
           "y": [
            0,
            6.569333761491286,
            3.108135760047992,
            9.662586240452416,
            9.662586240452416,
            12.245086468951165,
            12.245086468951165,
            12.245086468951165,
            12.245086468951165
           ]
          }
         ]
        },
        {
         "data": [
          {
           "mode": "lines+markers",
           "name": "estimated pareto",
           "type": "scatter",
           "x": [
            9.733697726262688,
            9.733697726262688,
            9.611509800108182,
            9.549246573538461,
            8.672984108531022,
            8.258313370734408,
            7.8682097531198165,
            7.513077861098761,
            7.3281214834165525,
            7.3281214834165525,
            7.093950619297406,
            6.580794336195245,
            6.307403877865244,
            6.307403877865244,
            6.292141507099237,
            5.687377736669391,
            4.940828739540212,
            4.3742366577232,
            3.1729919800950097,
            2.95697002609741,
            2.2888374463188206,
            1.0532775549958533,
            0
           ],
           "y": [
            0,
            1.9023534680376608,
            2.7453145438503785,
            2.7693718910176877,
            2.78061202393153,
            5.224934788815689,
            5.297926126156044,
            5.9576230214489,
            6.058875769885431,
            6.058875769885431,
            6.42168859050172,
            6.5082525074287725,
            6.573264711106771,
            6.573264711106771,
            7.754361025426629,
            8.224100233558303,
            8.529340453965386,
            8.64428915940205,
            8.79875811473882,
            9.518703000199134,
            9.650917956417763,
            9.789976727862,
            9.789976727862
           ]
          },
          {
           "mode": "lines+markers",
           "name": "tentative pareto",
           "type": "scatter",
           "x": [
            11.30560899973495,
            11.30560899973495,
            4.940828739540212,
            4.3742366577232,
            3.1729919800950097,
            2.95697002609741,
            2.2888374463188206,
            1.0532775549958533,
            0
           ],
           "y": [
            0,
            8.47931126610656,
            8.529340453965386,
            8.64428915940205,
            8.79875811473882,
            9.518703000199134,
            9.650917956417763,
            9.789976727862,
            9.789976727862
           ]
          }
         ]
        },
        {
         "data": [
          {
           "mode": "lines+markers",
           "name": "estimated pareto",
           "type": "scatter",
           "x": [
            9.733697726262688,
            9.733697726262688,
            9.611509800108182,
            9.549246573538461,
            8.672984108531022,
            8.299795536593425,
            8.258313370734408,
            7.8682097531198165,
            7.513077861098761,
            7.3281214834165525,
            7.3281214834165525,
            7.093950619297406,
            6.580794336195245,
            6.307403877865244,
            6.307403877865244,
            6.292141507099237,
            5.687377736669391,
            4.940828739540212,
            4.3742366577232,
            3.1729919800950097,
            2.95697002609741,
            2.2888374463188206,
            1.0532775549958533,
            0
           ],
           "y": [
            0,
            1.9023534680376608,
            2.7453145438503785,
            2.7693718910176877,
            2.78061202393153,
            4.347236824246154,
            5.224934788815689,
            5.297926126156044,
            5.9576230214489,
            6.058875769885431,
            6.058875769885431,
            6.42168859050172,
            6.5082525074287725,
            6.573264711106771,
            6.573264711106771,
            7.754361025426629,
            8.224100233558303,
            8.529340453965386,
            8.64428915940205,
            8.79875811473882,
            9.518703000199134,
            9.650917956417763,
            9.789976727862,
            9.789976727862
           ]
          },
          {
           "mode": "lines+markers",
           "name": "tentative pareto",
           "type": "scatter",
           "x": [
            12.742614047309527,
            12.742614047309527,
            11.69906460205097,
            10.196212611955094,
            10.01608514574525,
            8.490813011628472,
            8.118890850137362,
            3.989839419196991,
            3.3198297101301986,
            2.662783823211856,
            1.402617598732914,
            0
           ],
           "y": [
            0,
            0.3352172973076315,
            7.564073225144718,
            9.662586240452416,
            9.662586240452416,
            9.662586240452416,
            9.662586240452416,
            11.066531942707439,
            11.066531942707439,
            11.066531942707439,
            11.066531942707439,
            11.066531942707439
           ]
          }
         ]
        },
        {
         "data": [
          {
           "mode": "lines+markers",
           "name": "estimated pareto",
           "type": "scatter",
           "x": [
            9.733697726262688,
            9.733697726262688,
            9.611509800108182,
            9.549246573538461,
            8.672984108531022,
            8.299795536593425,
            8.258313370734408,
            7.8682097531198165,
            7.513077861098761,
            7.3281214834165525,
            7.3281214834165525,
            7.093950619297406,
            6.580794336195245,
            6.307403877865244,
            6.307403877865244,
            6.292141507099237,
            5.687377736669391,
            4.940828739540212,
            4.3742366577232,
            3.1729919800950097,
            2.95697002609741,
            2.2888374463188206,
            1.0532775549958533,
            0
           ],
           "y": [
            0,
            1.9023534680376608,
            2.7453145438503785,
            2.7693718910176877,
            2.78061202393153,
            4.347236824246154,
            5.224934788815689,
            5.297926126156044,
            5.9576230214489,
            6.058875769885431,
            6.058875769885431,
            6.42168859050172,
            6.5082525074287725,
            6.573264711106771,
            6.573264711106771,
            7.754361025426629,
            8.224100233558303,
            8.529340453965386,
            8.64428915940205,
            8.79875811473882,
            9.518703000199134,
            9.650917956417763,
            9.789976727862,
            9.789976727862
           ]
          },
          {
           "mode": "lines+markers",
           "name": "tentative pareto",
           "type": "scatter",
           "x": [
            12.742614047309527,
            12.742614047309527,
            12.742614047309527,
            12.742614047309527,
            12.742614047309527,
            12.742614047309527,
            12.742614047309527,
            11.80797011625969,
            11.100114611446175,
            8.52044986976302,
            6.858983108027607,
            1.0532775549958533,
            0
           ],
           "y": [
            0,
            7.212315533368514,
            6.225254448598923,
            4.984320680370911,
            3.386087759028822,
            0.3844150983671937,
            0.29054165507748264,
            7.559284025843538,
            9.418718903793593,
            9.662586240452416,
            9.662586240452416,
            9.789976727862,
            9.789976727862
           ]
          }
         ]
        },
        {
         "data": [
          {
           "mode": "lines+markers",
           "name": "estimated pareto",
           "type": "scatter",
           "x": [
            9.733697726262688,
            9.733697726262688,
            9.611509800108182,
            9.549246573538461,
            8.672984108531022,
            8.299795536593425,
            8.258313370734408,
            7.8682097531198165,
            7.513077861098761,
            7.3281214834165525,
            7.3281214834165525,
            7.093950619297406,
            6.580794336195245,
            6.307403877865244,
            6.307403877865244,
            6.292141507099237,
            5.687377736669391,
            4.940828739540212,
            4.3742366577232,
            3.1729919800950097,
            2.95697002609741,
            2.2888374463188206,
            1.0532775549958533,
            0
           ],
           "y": [
            0,
            1.9023534680376608,
            2.7453145438503785,
            2.7693718910176877,
            2.78061202393153,
            4.347236824246154,
            5.224934788815689,
            5.297926126156044,
            5.9576230214489,
            6.058875769885431,
            6.058875769885431,
            6.42168859050172,
            6.5082525074287725,
            6.573264711106771,
            6.573264711106771,
            7.754361025426629,
            8.224100233558303,
            8.529340453965386,
            8.64428915940205,
            8.79875811473882,
            9.518703000199134,
            9.650917956417763,
            9.789976727862,
            9.789976727862
           ]
          },
          {
           "mode": "lines+markers",
           "name": "tentative pareto",
           "type": "scatter",
           "x": [
            12.742614047309527,
            12.742614047309527,
            12.742614047309527,
            12.742614047309527,
            10.752043312866292,
            8.234249316484451,
            7.941062873206316,
            7.753756836626089,
            2.739836963288665,
            2.0908039887650554,
            1.1226065825266593,
            0.6077963127429173,
            0
           ],
           "y": [
            0,
            5.72267067276778,
            5.083959403531551,
            -2.6154384537084425,
            9.662586240452416,
            9.662586240452416,
            9.662586240452416,
            9.662586240452416,
            11.104719970292525,
            12.732001921197341,
            12.732001921197341,
            12.732001921197341,
            12.732001921197341
           ]
          }
         ]
        },
        {
         "data": [
          {
           "mode": "lines+markers",
           "name": "estimated pareto",
           "type": "scatter",
           "x": [
            9.733697726262688,
            9.733697726262688,
            9.611509800108182,
            9.549246573538461,
            8.672984108531022,
            8.299795536593425,
            8.258313370734408,
            7.8682097531198165,
            7.513077861098761,
            7.3281214834165525,
            7.3281214834165525,
            7.093950619297406,
            6.580794336195245,
            6.307403877865244,
            6.307403877865244,
            6.292141507099237,
            5.687377736669391,
            4.940828739540212,
            4.3742366577232,
            3.1729919800950097,
            2.95697002609741,
            2.2888374463188206,
            1.0532775549958533,
            0
           ],
           "y": [
            0,
            1.9023534680376608,
            2.7453145438503785,
            2.7693718910176877,
            2.78061202393153,
            4.347236824246154,
            5.224934788815689,
            5.297926126156044,
            5.9576230214489,
            6.058875769885431,
            6.058875769885431,
            6.42168859050172,
            6.5082525074287725,
            6.573264711106771,
            6.573264711106771,
            7.754361025426629,
            8.224100233558303,
            8.529340453965386,
            8.64428915940205,
            8.79875811473882,
            9.518703000199134,
            9.650917956417763,
            9.789976727862,
            9.789976727862
           ]
          },
          {
           "mode": "lines+markers",
           "name": "tentative pareto",
           "type": "scatter",
           "x": [
            12.742614047309527,
            12.742614047309527,
            12.742614047309527,
            12.742614047309527,
            12.742614047309527,
            12.742614047309527,
            12.742614047309527,
            12.742614047309527,
            12.742614047309527,
            12.742614047309527,
            12.742614047309527,
            11.410899155302545,
            9.10488221717874,
            7.736639884122505,
            6.754132467589283,
            2.4540083235089982,
            1.828574232051734,
            0
           ],
           "y": [
            0,
            6.739167937740804,
            4.082669962734727,
            4.080289887724547,
            3.4491743613679664,
            3.089249157911014,
            2.0287104039162505,
            1.3765262920644445,
            1.323792576358514,
            -0.692290205298427,
            -2.1183123835761855,
            9.662586240452416,
            9.662586240452416,
            9.662586240452416,
            9.662586240452416,
            10.393941395376654,
            12.143777639206736,
            12.143777639206736
           ]
          }
         ]
        },
        {
         "data": [
          {
           "mode": "lines+markers",
           "name": "estimated pareto",
           "type": "scatter",
           "x": [
            9.733697726262688,
            9.733697726262688,
            9.611509800108182,
            9.549246573538461,
            8.672984108531022,
            8.299795536593425,
            8.258313370734408,
            7.8682097531198165,
            7.513077861098761,
            7.3281214834165525,
            7.3281214834165525,
            7.093950619297406,
            6.580794336195245,
            6.307403877865244,
            6.307403877865244,
            6.292141507099237,
            5.687377736669391,
            4.940828739540212,
            4.3742366577232,
            3.1729919800950097,
            2.95697002609741,
            2.2888374463188206,
            1.0532775549958533,
            0
           ],
           "y": [
            0,
            1.9023534680376608,
            2.7453145438503785,
            2.7693718910176877,
            2.78061202393153,
            4.347236824246154,
            5.224934788815689,
            5.297926126156044,
            5.9576230214489,
            6.058875769885431,
            6.058875769885431,
            6.42168859050172,
            6.5082525074287725,
            6.573264711106771,
            6.573264711106771,
            7.754361025426629,
            8.224100233558303,
            8.529340453965386,
            8.64428915940205,
            8.79875811473882,
            9.518703000199134,
            9.650917956417763,
            9.789976727862,
            9.789976727862
           ]
          },
          {
           "mode": "lines+markers",
           "name": "tentative pareto",
           "type": "scatter",
           "x": [
            12.742614047309527,
            12.742614047309527,
            12.742614047309527,
            12.461762067766028,
            11.676586235310296,
            11.379151463637687,
            11.100114611446175,
            10.6716677698503,
            9.252810054726751,
            8.063859823115207,
            8.048768439608198,
            6.253343013417904,
            2.6453225142424612,
            2.5695169278537735,
            2.5653407842953335,
            0
           ],
           "y": [
            0,
            2.2137463317079944,
            -0.7320555402709563,
            5.1647296954917,
            5.713449977713226,
            6.265244074612848,
            7.210277957519331,
            8.843712139658866,
            9.418718903793593,
            9.418718903793593,
            9.662586240452416,
            9.662586240452416,
            10.70016603904781,
            11.057670321647823,
            12.732001921197341,
            12.732001921197341
           ]
          }
         ]
        },
        {
         "data": [
          {
           "mode": "lines+markers",
           "name": "estimated pareto",
           "type": "scatter",
           "x": [
            9.733697726262688,
            9.733697726262688,
            9.611509800108182,
            9.549246573538461,
            8.672984108531022,
            8.299795536593425,
            8.258313370734408,
            7.8682097531198165,
            7.513077861098761,
            7.3281214834165525,
            7.3281214834165525,
            7.093950619297406,
            6.580794336195245,
            6.307403877865244,
            6.307403877865244,
            6.292141507099237,
            5.687377736669391,
            4.940828739540212,
            4.3742366577232,
            3.1729919800950097,
            2.95697002609741,
            2.2888374463188206,
            1.0532775549958533,
            0
           ],
           "y": [
            0,
            1.9023534680376608,
            2.7453145438503785,
            2.7693718910176877,
            2.78061202393153,
            4.347236824246154,
            5.224934788815689,
            5.297926126156044,
            5.9576230214489,
            6.058875769885431,
            6.058875769885431,
            6.42168859050172,
            6.5082525074287725,
            6.573264711106771,
            6.573264711106771,
            7.754361025426629,
            8.224100233558303,
            8.529340453965386,
            8.64428915940205,
            8.79875811473882,
            9.518703000199134,
            9.650917956417763,
            9.789976727862,
            9.789976727862
           ]
          },
          {
           "mode": "lines+markers",
           "name": "tentative pareto",
           "type": "scatter",
           "x": [
            12.742614047309527,
            12.742614047309527,
            11.94604164758486,
            11.100114611446175,
            10.979591989152839,
            8.836875668284803,
            7.787644636081494,
            2.739836963288665,
            2.413154170309612,
            1.80112172511003,
            1.7342029873555256,
            1.678422268126089,
            1.2372975770170649,
            0.7311723023007802,
            0
           ],
           "y": [
            0,
            2.1071414054283286,
            7.456334621602421,
            7.90564391796751,
            9.418718903793593,
            9.662586240452416,
            9.662586240452416,
            10.383124492638101,
            12.732001921197341,
            12.732001921197341,
            12.732001921197341,
            12.732001921197341,
            12.732001921197341,
            12.732001921197341,
            12.732001921197341
           ]
          }
         ]
        },
        {
         "data": [
          {
           "mode": "lines+markers",
           "name": "estimated pareto",
           "type": "scatter",
           "x": [
            9.733697726262688,
            9.733697726262688,
            9.723876810265544,
            9.611509800108182,
            9.549246573538461,
            8.672984108531022,
            8.299795536593425,
            8.258313370734408,
            7.8682097531198165,
            7.513077861098761,
            7.3281214834165525,
            7.3281214834165525,
            7.093950619297406,
            6.580794336195245,
            6.307403877865244,
            6.307403877865244,
            6.292141507099237,
            5.687377736669391,
            4.940828739540212,
            4.3742366577232,
            3.1729919800950097,
            2.95697002609741,
            2.2888374463188206,
            1.0532775549958533,
            0
           ],
           "y": [
            0,
            1.9023534680376608,
            2.008390726155333,
            2.7453145438503785,
            2.7693718910176877,
            2.78061202393153,
            4.347236824246154,
            5.224934788815689,
            5.297926126156044,
            5.9576230214489,
            6.058875769885431,
            6.058875769885431,
            6.42168859050172,
            6.5082525074287725,
            6.573264711106771,
            6.573264711106771,
            7.754361025426629,
            8.224100233558303,
            8.529340453965386,
            8.64428915940205,
            8.79875811473882,
            9.518703000199134,
            9.650917956417763,
            9.789976727862,
            9.789976727862
           ]
          },
          {
           "mode": "lines+markers",
           "name": "tentative pareto",
           "type": "scatter",
           "x": [
            12.742614047309527,
            12.742614047309527,
            12.194127700797882,
            11.100114611446175,
            11.100114611446175,
            2.95697002609741,
            2.739836963288665,
            1.7128809555866376,
            0
           ],
           "y": [
            0,
            3.7810683444393587,
            5.068249177831177,
            9.418718903793593,
            9.418718903793593,
            9.518703000199134,
            11.239535044872586,
            12.732001921197341,
            12.732001921197341
           ]
          }
         ]
        },
        {
         "data": [
          {
           "mode": "lines+markers",
           "name": "estimated pareto",
           "type": "scatter",
           "x": [
            9.733697726262688,
            9.733697726262688,
            9.723876810265544,
            9.611509800108182,
            9.549246573538461,
            8.672984108531022,
            8.299795536593425,
            8.258313370734408,
            7.8682097531198165,
            7.513077861098761,
            7.3281214834165525,
            7.3281214834165525,
            7.093950619297406,
            6.580794336195245,
            6.307403877865244,
            6.307403877865244,
            6.292141507099237,
            5.687377736669391,
            4.940828739540212,
            4.3742366577232,
            3.1729919800950097,
            2.95697002609741,
            2.2888374463188206,
            1.0532775549958533,
            0
           ],
           "y": [
            0,
            1.9023534680376608,
            2.008390726155333,
            2.7453145438503785,
            2.7693718910176877,
            2.78061202393153,
            4.347236824246154,
            5.224934788815689,
            5.297926126156044,
            5.9576230214489,
            6.058875769885431,
            6.058875769885431,
            6.42168859050172,
            6.5082525074287725,
            6.573264711106771,
            6.573264711106771,
            7.754361025426629,
            8.224100233558303,
            8.529340453965386,
            8.64428915940205,
            8.79875811473882,
            9.518703000199134,
            9.650917956417763,
            9.789976727862,
            9.789976727862
           ]
          },
          {
           "mode": "lines+markers",
           "name": "tentative pareto",
           "type": "scatter",
           "x": [
            12.742614047309527,
            12.742614047309527,
            12.742614047309527,
            12.522759651437113,
            11.539657743550094,
            11.100114611446175,
            10.30365225876637,
            8.141870428734697,
            2.1858024631201514,
            1.827193998168536,
            1.5942804894749563,
            0
           ],
           "y": [
            0,
            5.09060148423861,
            5.059875638363381,
            6.07729205740935,
            7.559284025843538,
            9.418718903793593,
            9.418718903793593,
            10.345724406931074,
            12.732001921197341,
            12.732001921197341,
            12.732001921197341,
            12.732001921197341
           ]
          }
         ]
        },
        {
         "data": [
          {
           "mode": "lines+markers",
           "name": "estimated pareto",
           "type": "scatter",
           "x": [
            9.733697726262688,
            9.733697726262688,
            9.723876810265544,
            9.611509800108182,
            9.549246573538461,
            8.672984108531022,
            8.299795536593425,
            8.258313370734408,
            7.8682097531198165,
            7.513077861098761,
            7.3281214834165525,
            7.3281214834165525,
            7.093950619297406,
            6.580794336195245,
            6.307403877865244,
            6.307403877865244,
            6.292141507099237,
            5.687377736669391,
            4.940828739540212,
            4.3742366577232,
            3.1729919800950097,
            2.95697002609741,
            2.2888374463188206,
            1.0532775549958533,
            0
           ],
           "y": [
            0,
            1.9023534680376608,
            2.008390726155333,
            2.7453145438503785,
            2.7693718910176877,
            2.78061202393153,
            4.347236824246154,
            5.224934788815689,
            5.297926126156044,
            5.9576230214489,
            6.058875769885431,
            6.058875769885431,
            6.42168859050172,
            6.5082525074287725,
            6.573264711106771,
            6.573264711106771,
            7.754361025426629,
            8.224100233558303,
            8.529340453965386,
            8.64428915940205,
            8.79875811473882,
            9.518703000199134,
            9.650917956417763,
            9.789976727862,
            9.789976727862
           ]
          },
          {
           "mode": "lines+markers",
           "name": "tentative pareto",
           "type": "scatter",
           "x": [
            12.742614047309527,
            12.742614047309527,
            12.742614047309527,
            11.100114611446175,
            10.626573285412139,
            10.55507275958722,
            9.7849663799003,
            8.924561102059691,
            8.427063856648227,
            8.141870428734697,
            3.5572018680707096,
            1.9792685776147143,
            1.2940406549959986,
            1.2858021890261964,
            0
           ],
           "y": [
            0,
            5.311266336262432,
            3.6521988470488305,
            6.032209480288483,
            6.057257864176327,
            7.243649251321772,
            9.418718903793593,
            9.418718903793593,
            9.418718903793593,
            9.677338523546664,
            11.439990286516537,
            12.732001921197341,
            12.732001921197341,
            12.732001921197341,
            12.732001921197341
           ]
          }
         ]
        },
        {
         "data": [
          {
           "mode": "lines+markers",
           "name": "estimated pareto",
           "type": "scatter",
           "x": [
            9.733697726262688,
            9.733697726262688,
            9.723876810265544,
            9.611509800108182,
            9.549246573538461,
            8.672984108531022,
            8.299795536593425,
            8.258313370734408,
            7.8682097531198165,
            7.513077861098761,
            7.3281214834165525,
            7.3281214834165525,
            7.093950619297406,
            6.580794336195245,
            6.307403877865244,
            6.307403877865244,
            6.292141507099237,
            5.687377736669391,
            4.940828739540212,
            4.3742366577232,
            3.1729919800950097,
            2.95697002609741,
            2.2888374463188206,
            1.0532775549958533,
            0
           ],
           "y": [
            0,
            1.9023534680376608,
            2.008390726155333,
            2.7453145438503785,
            2.7693718910176877,
            2.78061202393153,
            4.347236824246154,
            5.224934788815689,
            5.297926126156044,
            5.9576230214489,
            6.058875769885431,
            6.058875769885431,
            6.42168859050172,
            6.5082525074287725,
            6.573264711106771,
            6.573264711106771,
            7.754361025426629,
            8.224100233558303,
            8.529340453965386,
            8.64428915940205,
            8.79875811473882,
            9.518703000199134,
            9.650917956417763,
            9.789976727862,
            9.789976727862
           ]
          },
          {
           "mode": "lines+markers",
           "name": "tentative pareto",
           "type": "scatter",
           "x": [
            12.742614047309527,
            12.742614047309527,
            11.100114611446175,
            11.100114611446175,
            10.563943039414035,
            10.198593391686973,
            7.261242905835212,
            6.8171893003702095,
            6.444856614261541,
            5.052511079500377,
            2.0810711012282557,
            1.8443321628586116,
            1.2658077814990334,
            0
           ],
           "y": [
            0,
            5.339215906612218,
            6.345683416804226,
            5.906935005935662,
            6.7219695074434105,
            7.270032573415199,
            9.775328112684557,
            9.817424355852408,
            11.314217075595916,
            11.439990286516537,
            12.732001921197341,
            12.732001921197341,
            12.732001921197341,
            12.732001921197341
           ]
          }
         ]
        },
        {
         "data": [
          {
           "mode": "lines+markers",
           "name": "estimated pareto",
           "type": "scatter",
           "x": [
            9.733697726262688,
            9.733697726262688,
            9.723876810265544,
            9.611509800108182,
            9.549246573538461,
            8.672984108531022,
            8.299795536593425,
            8.258313370734408,
            7.8682097531198165,
            7.513077861098761,
            7.3281214834165525,
            7.3281214834165525,
            7.093950619297406,
            6.580794336195245,
            6.307403877865244,
            6.307403877865244,
            6.292141507099237,
            5.687377736669391,
            4.940828739540212,
            4.3742366577232,
            3.1729919800950097,
            2.95697002609741,
            2.2888374463188206,
            1.0532775549958533,
            0
           ],
           "y": [
            0,
            1.9023534680376608,
            2.008390726155333,
            2.7453145438503785,
            2.7693718910176877,
            2.78061202393153,
            4.347236824246154,
            5.224934788815689,
            5.297926126156044,
            5.9576230214489,
            6.058875769885431,
            6.058875769885431,
            6.42168859050172,
            6.5082525074287725,
            6.573264711106771,
            6.573264711106771,
            7.754361025426629,
            8.224100233558303,
            8.529340453965386,
            8.64428915940205,
            8.79875811473882,
            9.518703000199134,
            9.650917956417763,
            9.789976727862,
            9.789976727862
           ]
          },
          {
           "mode": "lines+markers",
           "name": "tentative pareto",
           "type": "scatter",
           "x": [
            12.038714818520319,
            12.038714818520319,
            11.818840686471917,
            9.199276848921102,
            8.141870428734697,
            5.385069677637489,
            2.376684833911101,
            1.746947551985805,
            0.9968409484540383,
            0
           ],
           "y": [
            0,
            5.823584745777646,
            7.069072542623998,
            7.51656473702636,
            11.439990286516537,
            11.439990286516537,
            11.439990286516537,
            12.732001921197341,
            12.732001921197341,
            12.732001921197341
           ]
          }
         ]
        },
        {
         "data": [
          {
           "mode": "lines+markers",
           "name": "estimated pareto",
           "type": "scatter",
           "x": [
            9.733697726262688,
            9.733697726262688,
            9.723876810265544,
            9.611509800108182,
            9.549246573538461,
            8.672984108531022,
            8.299795536593425,
            8.258313370734408,
            7.8682097531198165,
            7.513077861098761,
            7.3281214834165525,
            7.3281214834165525,
            7.093950619297406,
            6.580794336195245,
            6.307403877865244,
            6.307403877865244,
            6.292141507099237,
            5.687377736669391,
            4.940828739540212,
            4.3742366577232,
            3.1729919800950097,
            2.95697002609741,
            2.2888374463188206,
            1.0532775549958533,
            0
           ],
           "y": [
            0,
            1.9023534680376608,
            2.008390726155333,
            2.7453145438503785,
            2.7693718910176877,
            2.78061202393153,
            4.347236824246154,
            5.224934788815689,
            5.297926126156044,
            5.9576230214489,
            6.058875769885431,
            6.058875769885431,
            6.42168859050172,
            6.5082525074287725,
            6.573264711106771,
            6.573264711106771,
            7.754361025426629,
            8.224100233558303,
            8.529340453965386,
            8.64428915940205,
            8.79875811473882,
            9.518703000199134,
            9.650917956417763,
            9.789976727862,
            9.789976727862
           ]
          },
          {
           "mode": "lines+markers",
           "name": "tentative pareto",
           "type": "scatter",
           "x": [
            9.733697726262688,
            9.733697726262688,
            9.723876810265544,
            9.611509800108182,
            9.549246573538461,
            8.672984108531022,
            8.299795536593425,
            8.258313370734408,
            7.8682097531198165,
            7.513077861098761,
            7.3281214834165525,
            7.3281214834165525,
            7.093950619297406,
            6.580794336195245,
            6.307403877865244,
            6.307403877865244,
            6.292141507099237,
            5.687377736669391,
            4.940828739540212,
            4.3742366577232,
            3.1729919800950097,
            2.95697002609741,
            2.739836963288665,
            0
           ],
           "y": [
            0,
            1.9023534680376608,
            2.008390726155333,
            2.7453145438503785,
            2.7693718910176877,
            2.78061202393153,
            4.347236824246154,
            5.224934788815689,
            5.297926126156044,
            5.9576230214489,
            6.058875769885431,
            6.058875769885431,
            6.42168859050172,
            6.5082525074287725,
            6.573264711106771,
            6.573264711106771,
            7.754361025426629,
            8.224100233558303,
            8.529340453965386,
            8.64428915940205,
            8.79875811473882,
            9.518703000199134,
            12.732001921197341,
            12.732001921197341
           ]
          }
         ]
        },
        {
         "data": [
          {
           "mode": "lines+markers",
           "name": "estimated pareto",
           "type": "scatter",
           "x": [
            9.733697726262688,
            9.733697726262688,
            9.723876810265544,
            9.611509800108182,
            9.549246573538461,
            8.672984108531022,
            8.299795536593425,
            8.258313370734408,
            7.8682097531198165,
            7.513077861098761,
            7.3281214834165525,
            7.3281214834165525,
            7.093950619297406,
            6.580794336195245,
            6.307403877865244,
            6.307403877865244,
            6.292141507099237,
            5.687377736669391,
            4.940828739540212,
            4.3742366577232,
            3.1729919800950097,
            2.95697002609741,
            2.2888374463188206,
            1.0532775549958533,
            0
           ],
           "y": [
            0,
            1.9023534680376608,
            2.008390726155333,
            2.7453145438503785,
            2.7693718910176877,
            2.78061202393153,
            4.347236824246154,
            5.224934788815689,
            5.297926126156044,
            5.9576230214489,
            6.058875769885431,
            6.058875769885431,
            6.42168859050172,
            6.5082525074287725,
            6.573264711106771,
            6.573264711106771,
            7.754361025426629,
            8.224100233558303,
            8.529340453965386,
            8.64428915940205,
            8.79875811473882,
            9.518703000199134,
            9.650917956417763,
            9.789976727862,
            9.789976727862
           ]
          },
          {
           "mode": "lines+markers",
           "name": "tentative pareto",
           "type": "scatter",
           "x": [
            9.733697726262688,
            9.733697726262688,
            9.723876810265544,
            9.611509800108182,
            9.549246573538461,
            8.672984108531022,
            8.299795536593425,
            8.258313370734408,
            8.141870428734697,
            8.141870428734697,
            8.141870428734697,
            4.950323708222557,
            4.619750356667767,
            3.340443588963296,
            1.9720666021300413,
            1.9151193963931814,
            1.9045786956067619,
            1.468464639131834,
            0
           ],
           "y": [
            0,
            1.9023534680376608,
            2.008390726155333,
            2.7453145438503785,
            2.7693718910176877,
            2.78061202393153,
            4.347236824246154,
            5.224934788815689,
            10.062244377115151,
            8.67473436057523,
            5.256597623892505,
            10.223193021057646,
            11.439990286516537,
            11.439990286516537,
            12.732001921197341,
            12.732001921197341,
            12.732001921197341,
            12.732001921197341,
            12.732001921197341
           ]
          }
         ]
        },
        {
         "data": [
          {
           "mode": "lines+markers",
           "name": "estimated pareto",
           "type": "scatter",
           "x": [
            9.733697726262688,
            9.733697726262688,
            9.723876810265544,
            9.611509800108182,
            9.549246573538461,
            8.672984108531022,
            8.299795536593425,
            8.258313370734408,
            7.8682097531198165,
            7.513077861098761,
            7.3281214834165525,
            7.3281214834165525,
            7.093950619297406,
            6.580794336195245,
            6.307403877865244,
            6.307403877865244,
            6.292141507099237,
            5.687377736669391,
            4.940828739540212,
            4.3742366577232,
            3.1729919800950097,
            2.95697002609741,
            2.2888374463188206,
            1.0532775549958533,
            0
           ],
           "y": [
            0,
            1.9023534680376608,
            2.008390726155333,
            2.7453145438503785,
            2.7693718910176877,
            2.78061202393153,
            4.347236824246154,
            5.224934788815689,
            5.297926126156044,
            5.9576230214489,
            6.058875769885431,
            6.058875769885431,
            6.42168859050172,
            6.5082525074287725,
            6.573264711106771,
            6.573264711106771,
            7.754361025426629,
            8.224100233558303,
            8.529340453965386,
            8.64428915940205,
            8.79875811473882,
            9.518703000199134,
            9.650917956417763,
            9.789976727862,
            9.789976727862
           ]
          },
          {
           "mode": "lines+markers",
           "name": "tentative pareto",
           "type": "scatter",
           "x": [
            9.733697726262688,
            9.733697726262688,
            9.723876810265544,
            9.611509800108182,
            9.549246573538461,
            8.672984108531022,
            8.299795536593425,
            8.258313370734408,
            8.141870428734697,
            8.141870428734697,
            8.141870428734697,
            8.037701080085156,
            5.39785195744566,
            3.7366285226827767,
            2.791775002171601,
            0
           ],
           "y": [
            0,
            1.9023534680376608,
            2.008390726155333,
            2.7453145438503785,
            2.7693718910176877,
            2.78061202393153,
            4.347236824246154,
            5.224934788815689,
            9.820030379600393,
            8.544292412764488,
            7.141633616118953,
            11.439990286516537,
            11.439990286516537,
            11.439990286516537,
            11.439990286516537,
            11.439990286516537
           ]
          }
         ]
        },
        {
         "data": [
          {
           "mode": "lines+markers",
           "name": "estimated pareto",
           "type": "scatter",
           "x": [
            9.733697726262688,
            9.733697726262688,
            9.723876810265544,
            9.611509800108182,
            9.549246573538461,
            8.672984108531022,
            8.299795536593425,
            8.258313370734408,
            7.8682097531198165,
            7.513077861098761,
            7.3281214834165525,
            7.3281214834165525,
            7.093950619297406,
            6.580794336195245,
            6.307403877865244,
            6.307403877865244,
            6.292141507099237,
            5.687377736669391,
            4.940828739540212,
            4.3742366577232,
            3.1729919800950097,
            2.95697002609741,
            2.2888374463188206,
            1.0532775549958533,
            0
           ],
           "y": [
            0,
            1.9023534680376608,
            2.008390726155333,
            2.7453145438503785,
            2.7693718910176877,
            2.78061202393153,
            4.347236824246154,
            5.224934788815689,
            5.297926126156044,
            5.9576230214489,
            6.058875769885431,
            6.058875769885431,
            6.42168859050172,
            6.5082525074287725,
            6.573264711106771,
            6.573264711106771,
            7.754361025426629,
            8.224100233558303,
            8.529340453965386,
            8.64428915940205,
            8.79875811473882,
            9.518703000199134,
            9.650917956417763,
            9.789976727862,
            9.789976727862
           ]
          },
          {
           "mode": "lines+markers",
           "name": "tentative pareto",
           "type": "scatter",
           "x": [
            9.733697726262688,
            9.733697726262688,
            9.723876810265544,
            9.611509800108182,
            9.549246573538461,
            8.672984108531022,
            8.299795536593425,
            8.258313370734408,
            8.141870428734697,
            8.141870428734697,
            8.141870428734697,
            4.803618297470055,
            4.663035092740198,
            0.7176816824169769,
            0
           ],
           "y": [
            0,
            1.9023534680376608,
            2.008390726155333,
            2.7453145438503785,
            2.7693718910176877,
            2.78061202393153,
            4.347236824246154,
            5.224934788815689,
            11.439990286516537,
            10.993482361204984,
            7.743709030066924,
            11.439990286516537,
            11.439990286516537,
            11.439990286516537,
            11.439990286516537
           ]
          }
         ]
        },
        {
         "data": [
          {
           "mode": "lines+markers",
           "name": "estimated pareto",
           "type": "scatter",
           "x": [
            9.733697726262688,
            9.733697726262688,
            9.723876810265544,
            9.611509800108182,
            9.549246573538461,
            8.672984108531022,
            8.299795536593425,
            8.258313370734408,
            7.8682097531198165,
            7.513077861098761,
            7.3281214834165525,
            7.3281214834165525,
            7.093950619297406,
            6.580794336195245,
            6.307403877865244,
            6.307403877865244,
            6.292141507099237,
            5.687377736669391,
            4.940828739540212,
            4.3742366577232,
            3.1729919800950097,
            2.95697002609741,
            2.2888374463188206,
            1.0532775549958533,
            0
           ],
           "y": [
            0,
            1.9023534680376608,
            2.008390726155333,
            2.7453145438503785,
            2.7693718910176877,
            2.78061202393153,
            4.347236824246154,
            5.224934788815689,
            5.297926126156044,
            5.9576230214489,
            6.058875769885431,
            6.058875769885431,
            6.42168859050172,
            6.5082525074287725,
            6.573264711106771,
            6.573264711106771,
            7.754361025426629,
            8.224100233558303,
            8.529340453965386,
            8.64428915940205,
            8.79875811473882,
            9.518703000199134,
            9.650917956417763,
            9.789976727862,
            9.789976727862
           ]
          },
          {
           "mode": "lines+markers",
           "name": "tentative pareto",
           "type": "scatter",
           "x": [
            9.733697726262688,
            9.733697726262688,
            9.723876810265544,
            9.611509800108182,
            9.549246573538461,
            8.672984108531022,
            8.299795536593425,
            8.258313370734408,
            7.8682097531198165,
            7.513077861098761,
            7.3281214834165525,
            7.3281214834165525,
            7.093950619297406,
            6.580794336195245,
            6.307403877865244,
            6.307403877865244,
            6.292141507099237,
            5.687377736669391,
            4.940828739540212,
            4.3742366577232,
            3.1729919800950097,
            2.95697002609741,
            2.2888374463188206,
            1.0532775549958533,
            0
           ],
           "y": [
            0,
            1.9023534680376608,
            2.008390726155333,
            2.7453145438503785,
            2.7693718910176877,
            2.78061202393153,
            4.347236824246154,
            5.224934788815689,
            5.297926126156044,
            5.9576230214489,
            6.058875769885431,
            6.058875769885431,
            6.42168859050172,
            6.5082525074287725,
            6.573264711106771,
            6.573264711106771,
            7.754361025426629,
            8.224100233558303,
            8.529340453965386,
            8.64428915940205,
            8.79875811473882,
            9.518703000199134,
            9.650917956417763,
            9.789976727862,
            9.789976727862
           ]
          }
         ]
        },
        {
         "data": [
          {
           "mode": "lines+markers",
           "name": "estimated pareto",
           "type": "scatter",
           "x": [
            9.733697726262688,
            9.733697726262688,
            9.723876810265544,
            9.611509800108182,
            9.549246573538461,
            8.672984108531022,
            8.299795536593425,
            8.258313370734408,
            7.8682097531198165,
            7.513077861098761,
            7.3281214834165525,
            7.3281214834165525,
            7.093950619297406,
            6.580794336195245,
            6.307403877865244,
            6.307403877865244,
            6.292141507099237,
            5.687377736669391,
            4.940828739540212,
            4.3742366577232,
            3.1729919800950097,
            2.95697002609741,
            2.2888374463188206,
            1.0532775549958533,
            0
           ],
           "y": [
            0,
            1.9023534680376608,
            2.008390726155333,
            2.7453145438503785,
            2.7693718910176877,
            2.78061202393153,
            4.347236824246154,
            5.224934788815689,
            5.297926126156044,
            5.9576230214489,
            6.058875769885431,
            6.058875769885431,
            6.42168859050172,
            6.5082525074287725,
            6.573264711106771,
            6.573264711106771,
            7.754361025426629,
            8.224100233558303,
            8.529340453965386,
            8.64428915940205,
            8.79875811473882,
            9.518703000199134,
            9.650917956417763,
            9.789976727862,
            9.789976727862
           ]
          },
          {
           "mode": "lines+markers",
           "name": "tentative pareto",
           "type": "scatter",
           "x": [
            9.733697726262688,
            9.733697726262688,
            9.723876810265544,
            9.611509800108182,
            9.549246573538461,
            8.672984108531022,
            8.299795536593425,
            8.258313370734408,
            7.8682097531198165,
            7.513077861098761,
            7.3281214834165525,
            7.3281214834165525,
            7.093950619297406,
            6.580794336195245,
            6.307403877865244,
            6.307403877865244,
            6.292141507099237,
            5.687377736669391,
            4.940828739540212,
            4.3742366577232,
            3.1729919800950097,
            2.95697002609741,
            2.2888374463188206,
            1.0532775549958533,
            0
           ],
           "y": [
            0,
            1.9023534680376608,
            2.008390726155333,
            2.7453145438503785,
            2.7693718910176877,
            2.78061202393153,
            4.347236824246154,
            5.224934788815689,
            5.297926126156044,
            5.9576230214489,
            6.058875769885431,
            6.058875769885431,
            6.42168859050172,
            6.5082525074287725,
            6.573264711106771,
            6.573264711106771,
            7.754361025426629,
            8.224100233558303,
            8.529340453965386,
            8.64428915940205,
            8.79875811473882,
            9.518703000199134,
            9.650917956417763,
            9.789976727862,
            9.789976727862
           ]
          }
         ]
        }
       ],
       "layout": {
        "height": 600,
        "hovermode": "closest",
        "template": {
         "data": {
          "bar": [
           {
            "error_x": {
             "color": "#2a3f5f"
            },
            "error_y": {
             "color": "#2a3f5f"
            },
            "marker": {
             "line": {
              "color": "#E5ECF6",
              "width": 0.5
             }
            },
            "type": "bar"
           }
          ],
          "barpolar": [
           {
            "marker": {
             "line": {
              "color": "#E5ECF6",
              "width": 0.5
             }
            },
            "type": "barpolar"
           }
          ],
          "carpet": [
           {
            "aaxis": {
             "endlinecolor": "#2a3f5f",
             "gridcolor": "white",
             "linecolor": "white",
             "minorgridcolor": "white",
             "startlinecolor": "#2a3f5f"
            },
            "baxis": {
             "endlinecolor": "#2a3f5f",
             "gridcolor": "white",
             "linecolor": "white",
             "minorgridcolor": "white",
             "startlinecolor": "#2a3f5f"
            },
            "type": "carpet"
           }
          ],
          "choropleth": [
           {
            "colorbar": {
             "outlinewidth": 0,
             "ticks": ""
            },
            "type": "choropleth"
           }
          ],
          "contour": [
           {
            "colorbar": {
             "outlinewidth": 0,
             "ticks": ""
            },
            "colorscale": [
             [
              0,
              "#0d0887"
             ],
             [
              0.1111111111111111,
              "#46039f"
             ],
             [
              0.2222222222222222,
              "#7201a8"
             ],
             [
              0.3333333333333333,
              "#9c179e"
             ],
             [
              0.4444444444444444,
              "#bd3786"
             ],
             [
              0.5555555555555556,
              "#d8576b"
             ],
             [
              0.6666666666666666,
              "#ed7953"
             ],
             [
              0.7777777777777778,
              "#fb9f3a"
             ],
             [
              0.8888888888888888,
              "#fdca26"
             ],
             [
              1,
              "#f0f921"
             ]
            ],
            "type": "contour"
           }
          ],
          "contourcarpet": [
           {
            "colorbar": {
             "outlinewidth": 0,
             "ticks": ""
            },
            "type": "contourcarpet"
           }
          ],
          "heatmap": [
           {
            "colorbar": {
             "outlinewidth": 0,
             "ticks": ""
            },
            "colorscale": [
             [
              0,
              "#0d0887"
             ],
             [
              0.1111111111111111,
              "#46039f"
             ],
             [
              0.2222222222222222,
              "#7201a8"
             ],
             [
              0.3333333333333333,
              "#9c179e"
             ],
             [
              0.4444444444444444,
              "#bd3786"
             ],
             [
              0.5555555555555556,
              "#d8576b"
             ],
             [
              0.6666666666666666,
              "#ed7953"
             ],
             [
              0.7777777777777778,
              "#fb9f3a"
             ],
             [
              0.8888888888888888,
              "#fdca26"
             ],
             [
              1,
              "#f0f921"
             ]
            ],
            "type": "heatmap"
           }
          ],
          "heatmapgl": [
           {
            "colorbar": {
             "outlinewidth": 0,
             "ticks": ""
            },
            "colorscale": [
             [
              0,
              "#0d0887"
             ],
             [
              0.1111111111111111,
              "#46039f"
             ],
             [
              0.2222222222222222,
              "#7201a8"
             ],
             [
              0.3333333333333333,
              "#9c179e"
             ],
             [
              0.4444444444444444,
              "#bd3786"
             ],
             [
              0.5555555555555556,
              "#d8576b"
             ],
             [
              0.6666666666666666,
              "#ed7953"
             ],
             [
              0.7777777777777778,
              "#fb9f3a"
             ],
             [
              0.8888888888888888,
              "#fdca26"
             ],
             [
              1,
              "#f0f921"
             ]
            ],
            "type": "heatmapgl"
           }
          ],
          "histogram": [
           {
            "marker": {
             "colorbar": {
              "outlinewidth": 0,
              "ticks": ""
             }
            },
            "type": "histogram"
           }
          ],
          "histogram2d": [
           {
            "colorbar": {
             "outlinewidth": 0,
             "ticks": ""
            },
            "colorscale": [
             [
              0,
              "#0d0887"
             ],
             [
              0.1111111111111111,
              "#46039f"
             ],
             [
              0.2222222222222222,
              "#7201a8"
             ],
             [
              0.3333333333333333,
              "#9c179e"
             ],
             [
              0.4444444444444444,
              "#bd3786"
             ],
             [
              0.5555555555555556,
              "#d8576b"
             ],
             [
              0.6666666666666666,
              "#ed7953"
             ],
             [
              0.7777777777777778,
              "#fb9f3a"
             ],
             [
              0.8888888888888888,
              "#fdca26"
             ],
             [
              1,
              "#f0f921"
             ]
            ],
            "type": "histogram2d"
           }
          ],
          "histogram2dcontour": [
           {
            "colorbar": {
             "outlinewidth": 0,
             "ticks": ""
            },
            "colorscale": [
             [
              0,
              "#0d0887"
             ],
             [
              0.1111111111111111,
              "#46039f"
             ],
             [
              0.2222222222222222,
              "#7201a8"
             ],
             [
              0.3333333333333333,
              "#9c179e"
             ],
             [
              0.4444444444444444,
              "#bd3786"
             ],
             [
              0.5555555555555556,
              "#d8576b"
             ],
             [
              0.6666666666666666,
              "#ed7953"
             ],
             [
              0.7777777777777778,
              "#fb9f3a"
             ],
             [
              0.8888888888888888,
              "#fdca26"
             ],
             [
              1,
              "#f0f921"
             ]
            ],
            "type": "histogram2dcontour"
           }
          ],
          "mesh3d": [
           {
            "colorbar": {
             "outlinewidth": 0,
             "ticks": ""
            },
            "type": "mesh3d"
           }
          ],
          "parcoords": [
           {
            "line": {
             "colorbar": {
              "outlinewidth": 0,
              "ticks": ""
             }
            },
            "type": "parcoords"
           }
          ],
          "pie": [
           {
            "automargin": true,
            "type": "pie"
           }
          ],
          "scatter": [
           {
            "marker": {
             "colorbar": {
              "outlinewidth": 0,
              "ticks": ""
             }
            },
            "type": "scatter"
           }
          ],
          "scatter3d": [
           {
            "line": {
             "colorbar": {
              "outlinewidth": 0,
              "ticks": ""
             }
            },
            "marker": {
             "colorbar": {
              "outlinewidth": 0,
              "ticks": ""
             }
            },
            "type": "scatter3d"
           }
          ],
          "scattercarpet": [
           {
            "marker": {
             "colorbar": {
              "outlinewidth": 0,
              "ticks": ""
             }
            },
            "type": "scattercarpet"
           }
          ],
          "scattergeo": [
           {
            "marker": {
             "colorbar": {
              "outlinewidth": 0,
              "ticks": ""
             }
            },
            "type": "scattergeo"
           }
          ],
          "scattergl": [
           {
            "marker": {
             "colorbar": {
              "outlinewidth": 0,
              "ticks": ""
             }
            },
            "type": "scattergl"
           }
          ],
          "scattermapbox": [
           {
            "marker": {
             "colorbar": {
              "outlinewidth": 0,
              "ticks": ""
             }
            },
            "type": "scattermapbox"
           }
          ],
          "scatterpolar": [
           {
            "marker": {
             "colorbar": {
              "outlinewidth": 0,
              "ticks": ""
             }
            },
            "type": "scatterpolar"
           }
          ],
          "scatterpolargl": [
           {
            "marker": {
             "colorbar": {
              "outlinewidth": 0,
              "ticks": ""
             }
            },
            "type": "scatterpolargl"
           }
          ],
          "scatterternary": [
           {
            "marker": {
             "colorbar": {
              "outlinewidth": 0,
              "ticks": ""
             }
            },
            "type": "scatterternary"
           }
          ],
          "surface": [
           {
            "colorbar": {
             "outlinewidth": 0,
             "ticks": ""
            },
            "colorscale": [
             [
              0,
              "#0d0887"
             ],
             [
              0.1111111111111111,
              "#46039f"
             ],
             [
              0.2222222222222222,
              "#7201a8"
             ],
             [
              0.3333333333333333,
              "#9c179e"
             ],
             [
              0.4444444444444444,
              "#bd3786"
             ],
             [
              0.5555555555555556,
              "#d8576b"
             ],
             [
              0.6666666666666666,
              "#ed7953"
             ],
             [
              0.7777777777777778,
              "#fb9f3a"
             ],
             [
              0.8888888888888888,
              "#fdca26"
             ],
             [
              1,
              "#f0f921"
             ]
            ],
            "type": "surface"
           }
          ],
          "table": [
           {
            "cells": {
             "fill": {
              "color": "#EBF0F8"
             },
             "line": {
              "color": "white"
             }
            },
            "header": {
             "fill": {
              "color": "#C8D4E3"
             },
             "line": {
              "color": "white"
             }
            },
            "type": "table"
           }
          ]
         },
         "layout": {
          "annotationdefaults": {
           "arrowcolor": "#2a3f5f",
           "arrowhead": 0,
           "arrowwidth": 1
          },
          "autotypenumbers": "strict",
          "coloraxis": {
           "colorbar": {
            "outlinewidth": 0,
            "ticks": ""
           }
          },
          "colorscale": {
           "diverging": [
            [
             0,
             "#8e0152"
            ],
            [
             0.1,
             "#c51b7d"
            ],
            [
             0.2,
             "#de77ae"
            ],
            [
             0.3,
             "#f1b6da"
            ],
            [
             0.4,
             "#fde0ef"
            ],
            [
             0.5,
             "#f7f7f7"
            ],
            [
             0.6,
             "#e6f5d0"
            ],
            [
             0.7,
             "#b8e186"
            ],
            [
             0.8,
             "#7fbc41"
            ],
            [
             0.9,
             "#4d9221"
            ],
            [
             1,
             "#276419"
            ]
           ],
           "sequential": [
            [
             0,
             "#0d0887"
            ],
            [
             0.1111111111111111,
             "#46039f"
            ],
            [
             0.2222222222222222,
             "#7201a8"
            ],
            [
             0.3333333333333333,
             "#9c179e"
            ],
            [
             0.4444444444444444,
             "#bd3786"
            ],
            [
             0.5555555555555556,
             "#d8576b"
            ],
            [
             0.6666666666666666,
             "#ed7953"
            ],
            [
             0.7777777777777778,
             "#fb9f3a"
            ],
            [
             0.8888888888888888,
             "#fdca26"
            ],
            [
             1,
             "#f0f921"
            ]
           ],
           "sequentialminus": [
            [
             0,
             "#0d0887"
            ],
            [
             0.1111111111111111,
             "#46039f"
            ],
            [
             0.2222222222222222,
             "#7201a8"
            ],
            [
             0.3333333333333333,
             "#9c179e"
            ],
            [
             0.4444444444444444,
             "#bd3786"
            ],
            [
             0.5555555555555556,
             "#d8576b"
            ],
            [
             0.6666666666666666,
             "#ed7953"
            ],
            [
             0.7777777777777778,
             "#fb9f3a"
            ],
            [
             0.8888888888888888,
             "#fdca26"
            ],
            [
             1,
             "#f0f921"
            ]
           ]
          },
          "colorway": [
           "#636efa",
           "#EF553B",
           "#00cc96",
           "#ab63fa",
           "#FFA15A",
           "#19d3f3",
           "#FF6692",
           "#B6E880",
           "#FF97FF",
           "#FECB52"
          ],
          "font": {
           "color": "#2a3f5f"
          },
          "geo": {
           "bgcolor": "white",
           "lakecolor": "white",
           "landcolor": "#E5ECF6",
           "showlakes": true,
           "showland": true,
           "subunitcolor": "white"
          },
          "hoverlabel": {
           "align": "left"
          },
          "hovermode": "closest",
          "mapbox": {
           "style": "light"
          },
          "paper_bgcolor": "white",
          "plot_bgcolor": "#E5ECF6",
          "polar": {
           "angularaxis": {
            "gridcolor": "white",
            "linecolor": "white",
            "ticks": ""
           },
           "bgcolor": "#E5ECF6",
           "radialaxis": {
            "gridcolor": "white",
            "linecolor": "white",
            "ticks": ""
           }
          },
          "scene": {
           "xaxis": {
            "backgroundcolor": "#E5ECF6",
            "gridcolor": "white",
            "gridwidth": 2,
            "linecolor": "white",
            "showbackground": true,
            "ticks": "",
            "zerolinecolor": "white"
           },
           "yaxis": {
            "backgroundcolor": "#E5ECF6",
            "gridcolor": "white",
            "gridwidth": 2,
            "linecolor": "white",
            "showbackground": true,
            "ticks": "",
            "zerolinecolor": "white"
           },
           "zaxis": {
            "backgroundcolor": "#E5ECF6",
            "gridcolor": "white",
            "gridwidth": 2,
            "linecolor": "white",
            "showbackground": true,
            "ticks": "",
            "zerolinecolor": "white"
           }
          },
          "shapedefaults": {
           "line": {
            "color": "#2a3f5f"
           }
          },
          "ternary": {
           "aaxis": {
            "gridcolor": "white",
            "linecolor": "white",
            "ticks": ""
           },
           "baxis": {
            "gridcolor": "white",
            "linecolor": "white",
            "ticks": ""
           },
           "bgcolor": "#E5ECF6",
           "caxis": {
            "gridcolor": "white",
            "linecolor": "white",
            "ticks": ""
           }
          },
          "title": {
           "x": 0.05
          },
          "xaxis": {
           "automargin": true,
           "gridcolor": "white",
           "linecolor": "white",
           "ticks": "",
           "title": {
            "standoff": 15
           },
           "zerolinecolor": "white",
           "zerolinewidth": 2
          },
          "yaxis": {
           "automargin": true,
           "gridcolor": "white",
           "linecolor": "white",
           "ticks": "",
           "title": {
            "standoff": 15
           },
           "zerolinecolor": "white",
           "zerolinewidth": 2
          }
         }
        },
        "title": {
         "text": "Pareto over time"
        },
        "updatemenus": [
         {
          "buttons": [
           {
            "args": [
             null
            ],
            "label": "Play",
            "method": "animate"
           }
          ],
          "type": "buttons"
         }
        ],
        "width": 700,
        "xaxis": {
         "autorange": false,
         "range": [
          0,
          30
         ],
         "zeroline": false
        },
        "yaxis": {
         "autorange": false,
         "range": [
          0,
          30
         ],
         "zeroline": false
        }
       }
      },
      "text/html": [
       "<div>                            <div id=\"a0e8ed2a-20ef-40eb-9756-6588d8ebddaa\" class=\"plotly-graph-div\" style=\"height:600px; width:700px;\"></div>            <script type=\"text/javascript\">                require([\"plotly\"], function(Plotly) {                    window.PLOTLYENV=window.PLOTLYENV || {};                                    if (document.getElementById(\"a0e8ed2a-20ef-40eb-9756-6588d8ebddaa\")) {                    Plotly.newPlot(                        \"a0e8ed2a-20ef-40eb-9756-6588d8ebddaa\",                        [{\"marker\": {\"color\": \"blue\", \"size\": 10}, \"mode\": \"markers\", \"name\": \"observed objectives\", \"type\": \"scatter\", \"x\": [], \"y\": []}, {\"name\": \"true pareto\", \"type\": \"scatter\", \"x\": [10.0, 10.0, 10.0, 10.0, 10.0, 10.0, 10.0, 10.0, 10.0, 10.0, 10.0, 10.0, 10.0, 10.0, 10.0, 10.0, 10.0, 10.0, 10.0, 10.0, 9.965844930066698, 9.965844930066698, 9.965844930066698, 9.965844930066698, 9.965844930066698, 9.965844930066698, 9.965844930066698, 9.965844930066698, 9.965844930066698, 9.965844930066698, 9.965844930066698, 9.965844930066698, 9.965844930066698, 9.965844930066698, 9.965844930066698, 9.965844930066698, 9.965844930066698, 9.965844930066698, 9.965844930066698, 9.965844930066698, 9.863613034027223, 9.863613034027223, 9.863613034027223, 9.863613034027223, 9.863613034027223, 9.863613034027223, 9.863613034027223, 9.863613034027223, 9.863613034027223, 9.863613034027223, 9.863613034027223, 9.863613034027223, 9.863613034027223, 9.863613034027223, 9.863613034027223, 9.863613034027223, 9.863613034027223, 9.863613034027223, 9.863613034027223, 9.863613034027223, 9.694002659393304, 9.694002659393304, 9.694002659393304, 9.694002659393304, 9.694002659393304, 9.694002659393304, 9.694002659393304, 9.694002659393304, 9.694002659393304, 9.694002659393304, 9.694002659393304, 9.694002659393304, 9.694002659393304, 9.694002659393304, 9.694002659393304, 9.694002659393304, 9.694002659393304, 9.694002659393304, 9.694002659393304, 9.694002659393304, 9.458172417006347, 9.458172417006347, 9.458172417006347, 9.458172417006347, 9.458172417006347, 9.458172417006347, 9.458172417006347, 9.458172417006347, 9.458172417006347, 9.458172417006347, 9.458172417006347, 9.458172417006347, 9.458172417006347, 9.458172417006347, 9.458172417006347, 9.458172417006347, 9.458172417006347, 9.458172417006347, 9.458172417006347, 9.458172417006347, 9.157733266550574, 9.157733266550574, 9.157733266550574, 9.157733266550574, 9.157733266550574, 9.157733266550574, 9.157733266550574, 9.157733266550574, 9.157733266550574, 9.157733266550574, 9.157733266550574, 9.157733266550574, 9.157733266550574, 9.157733266550574, 9.157733266550574, 9.157733266550574, 9.157733266550574, 9.157733266550574, 9.157733266550574, 9.157733266550574, 8.794737512064891, 8.794737512064891, 8.794737512064891, 8.794737512064891, 8.794737512064891, 8.794737512064891, 8.794737512064891, 8.794737512064891, 8.794737512064891, 8.794737512064891, 8.794737512064891, 8.794737512064891, 8.794737512064891, 8.794737512064891, 8.794737512064891, 8.794737512064891, 8.794737512064891, 8.794737512064891, 8.794737512064891, 8.794737512064891, 8.371664782625286, 8.371664782625286, 8.371664782625286, 8.371664782625286, 8.371664782625286, 8.371664782625286, 8.371664782625286, 8.371664782625286, 8.371664782625286, 8.371664782625286, 8.371664782625286, 8.371664782625286, 8.371664782625286, 8.371664782625286, 8.371664782625286, 8.371664782625286, 8.371664782625286, 8.371664782625286, 8.371664782625286, 8.371664782625286, 7.891405093963936, 7.891405093963936, 7.891405093963936, 7.891405093963936, 7.891405093963936, 7.891405093963936, 7.891405093963936, 7.891405093963936, 7.891405093963936, 7.891405093963936, 7.891405093963936, 7.891405093963936, 7.891405093963936, 7.891405093963936, 7.891405093963936, 7.891405093963936, 7.891405093963936, 7.891405093963936, 7.891405093963936, 7.891405093963936, 7.357239106731317, 7.357239106731317, 7.357239106731317, 7.357239106731317, 7.357239106731317, 7.357239106731317, 7.357239106731317, 7.357239106731317, 7.357239106731317, 7.357239106731317, 7.357239106731317, 7.357239106731317, 7.357239106731317, 7.357239106731317, 7.357239106731317, 7.357239106731317, 7.357239106731317, 7.357239106731317, 7.357239106731317, 7.357239106731317, 6.772815716257411, 6.772815716257411, 6.772815716257411, 6.772815716257411, 6.772815716257411, 6.772815716257411, 6.772815716257411, 6.772815716257411, 6.772815716257411, 6.772815716257411, 6.772815716257411, 6.772815716257411, 6.772815716257411, 6.772815716257411, 6.772815716257411, 6.772815716257411, 6.772815716257411, 6.772815716257411, 6.772815716257411, 6.772815716257411, 6.142127126896678, 6.142127126896678, 6.142127126896678, 6.142127126896678, 6.142127126896678, 6.142127126896678, 6.142127126896678, 6.142127126896678, 6.142127126896678, 6.142127126896678, 6.142127126896678, 6.142127126896678, 6.142127126896678, 6.142127126896678, 6.142127126896678, 6.142127126896678, 6.142127126896678, 6.142127126896678, 6.142127126896678, 6.142127126896678, 5.4694815812242705, 5.4694815812242705, 5.4694815812242705, 5.4694815812242705, 5.4694815812242705, 5.4694815812242705, 5.4694815812242705, 5.4694815812242705, 5.4694815812242705, 5.4694815812242705, 5.4694815812242705, 5.4694815812242705, 5.4694815812242705, 5.4694815812242705, 5.4694815812242705, 5.4694815812242705, 5.4694815812242705, 5.4694815812242705, 5.4694815812242705, 5.4694815812242705, 4.759473930370736, 4.759473930370736, 4.759473930370736, 4.759473930370736, 4.759473930370736, 4.759473930370736, 4.759473930370736, 4.759473930370736, 4.759473930370736, 4.759473930370736, 4.759473930370736, 4.759473930370736, 4.759473930370736, 4.759473930370736, 4.759473930370736, 4.759473930370736, 4.759473930370736, 4.759473930370736, 4.759473930370736, 4.759473930370736, 4.0169542465296955, 4.0169542465296955, 4.0169542465296955, 4.0169542465296955, 4.0169542465296955, 4.0169542465296955, 4.0169542465296955, 4.0169542465296955, 4.0169542465296955, 4.0169542465296955, 4.0169542465296955, 4.0169542465296955, 4.0169542465296955, 4.0169542465296955, 4.0169542465296955, 4.0169542465296955, 4.0169542465296955, 4.0169542465296955, 4.0169542465296955, 4.0169542465296955, 3.2469946920468358, 3.2469946920468358, 3.2469946920468358, 3.2469946920468358, 3.2469946920468358, 3.2469946920468358, 3.2469946920468358, 3.2469946920468358, 3.2469946920468358, 3.2469946920468358, 3.2469946920468358, 3.2469946920468358, 3.2469946920468358, 3.2469946920468358, 3.2469946920468358, 3.2469946920468358, 3.2469946920468358, 3.2469946920468358, 3.2469946920468358, 3.2469946920468358, 2.4548548714079925, 2.4548548714079925, 2.4548548714079925, 2.4548548714079925, 2.4548548714079925, 2.4548548714079925, 2.4548548714079925, 2.4548548714079925, 2.4548548714079925, 2.4548548714079925, 2.4548548714079925, 2.4548548714079925, 2.4548548714079925, 2.4548548714079925, 2.4548548714079925, 2.4548548714079925, 2.4548548714079925, 2.4548548714079925, 2.4548548714079925, 2.4548548714079925, 1.6459459028073398, 1.6459459028073398, 1.6459459028073398, 1.6459459028073398, 1.6459459028073398, 1.6459459028073398, 1.6459459028073398, 1.6459459028073398, 1.6459459028073398, 1.6459459028073398, 1.6459459028073398, 1.6459459028073398, 1.6459459028073398, 1.6459459028073398, 1.6459459028073398, 1.6459459028073398, 1.6459459028073398, 1.6459459028073398, 1.6459459028073398, 1.6459459028073398, 0.8257934547233239, 0.8257934547233239, 0.8257934547233239, 0.8257934547233239, 0.8257934547233239, 0.8257934547233239, 0.8257934547233239, 0.8257934547233239, 0.8257934547233239, 0.8257934547233239, 0.8257934547233239, 0.8257934547233239, 0.8257934547233239, 0.8257934547233239, 0.8257934547233239, 0.8257934547233239, 0.8257934547233239, 0.8257934547233239, 0.8257934547233239, 0.8257934547233239, 6.123233995736766e-16, 6.123233995736766e-16, 6.123233995736766e-16, 6.123233995736766e-16, 6.123233995736766e-16, 6.123233995736766e-16, 6.123233995736766e-16, 6.123233995736766e-16, 6.123233995736766e-16, 6.123233995736766e-16, 6.123233995736766e-16, 6.123233995736766e-16, 6.123233995736766e-16, 6.123233995736766e-16, 6.123233995736766e-16, 6.123233995736766e-16, 6.123233995736766e-16, 6.123233995736766e-16, 6.123233995736766e-16, 6.123233995736766e-16], \"y\": [0.0, 0.0, 0.0, 0.0, 0.0, 0.0, 0.0, 0.0, 0.0, 0.0, 0.0, 0.0, 0.0, 0.0, 0.0, 0.0, 0.0, 0.0, 0.0, 0.0, 0.8257934547233232, 0.8257934547233232, 0.8257934547233232, 0.8257934547233232, 0.8257934547233232, 0.8257934547233232, 0.8257934547233232, 0.8257934547233232, 0.8257934547233232, 0.8257934547233232, 0.8257934547233232, 0.8257934547233232, 0.8257934547233232, 0.8257934547233232, 0.8257934547233232, 0.8257934547233232, 0.8257934547233232, 0.8257934547233232, 0.8257934547233232, 0.8257934547233232, 1.6459459028073389, 1.6459459028073389, 1.6459459028073389, 1.6459459028073389, 1.6459459028073389, 1.6459459028073389, 1.6459459028073389, 1.6459459028073389, 1.6459459028073389, 1.6459459028073389, 1.6459459028073389, 1.6459459028073389, 1.6459459028073389, 1.6459459028073389, 1.6459459028073389, 1.6459459028073389, 1.6459459028073389, 1.6459459028073389, 1.6459459028073389, 1.6459459028073389, 2.454854871407991, 2.454854871407991, 2.454854871407991, 2.454854871407991, 2.454854871407991, 2.454854871407991, 2.454854871407991, 2.454854871407991, 2.454854871407991, 2.454854871407991, 2.454854871407991, 2.454854871407991, 2.454854871407991, 2.454854871407991, 2.454854871407991, 2.454854871407991, 2.454854871407991, 2.454854871407991, 2.454854871407991, 2.454854871407991, 3.2469946920468344, 3.2469946920468344, 3.2469946920468344, 3.2469946920468344, 3.2469946920468344, 3.2469946920468344, 3.2469946920468344, 3.2469946920468344, 3.2469946920468344, 3.2469946920468344, 3.2469946920468344, 3.2469946920468344, 3.2469946920468344, 3.2469946920468344, 3.2469946920468344, 3.2469946920468344, 3.2469946920468344, 3.2469946920468344, 3.2469946920468344, 3.2469946920468344, 4.016954246529695, 4.016954246529695, 4.016954246529695, 4.016954246529695, 4.016954246529695, 4.016954246529695, 4.016954246529695, 4.016954246529695, 4.016954246529695, 4.016954246529695, 4.016954246529695, 4.016954246529695, 4.016954246529695, 4.016954246529695, 4.016954246529695, 4.016954246529695, 4.016954246529695, 4.016954246529695, 4.016954246529695, 4.016954246529695, 4.759473930370735, 4.759473930370735, 4.759473930370735, 4.759473930370735, 4.759473930370735, 4.759473930370735, 4.759473930370735, 4.759473930370735, 4.759473930370735, 4.759473930370735, 4.759473930370735, 4.759473930370735, 4.759473930370735, 4.759473930370735, 4.759473930370735, 4.759473930370735, 4.759473930370735, 4.759473930370735, 4.759473930370735, 4.759473930370735, 5.469481581224268, 5.469481581224268, 5.469481581224268, 5.469481581224268, 5.469481581224268, 5.469481581224268, 5.469481581224268, 5.469481581224268, 5.469481581224268, 5.469481581224268, 5.469481581224268, 5.469481581224268, 5.469481581224268, 5.469481581224268, 5.469481581224268, 5.469481581224268, 5.469481581224268, 5.469481581224268, 5.469481581224268, 5.469481581224268, 6.142127126896678, 6.142127126896678, 6.142127126896678, 6.142127126896678, 6.142127126896678, 6.142127126896678, 6.142127126896678, 6.142127126896678, 6.142127126896678, 6.142127126896678, 6.142127126896678, 6.142127126896678, 6.142127126896678, 6.142127126896678, 6.142127126896678, 6.142127126896678, 6.142127126896678, 6.142127126896678, 6.142127126896678, 6.142127126896678, 6.772815716257411, 6.772815716257411, 6.772815716257411, 6.772815716257411, 6.772815716257411, 6.772815716257411, 6.772815716257411, 6.772815716257411, 6.772815716257411, 6.772815716257411, 6.772815716257411, 6.772815716257411, 6.772815716257411, 6.772815716257411, 6.772815716257411, 6.772815716257411, 6.772815716257411, 6.772815716257411, 6.772815716257411, 6.772815716257411, 7.357239106731316, 7.357239106731316, 7.357239106731316, 7.357239106731316, 7.357239106731316, 7.357239106731316, 7.357239106731316, 7.357239106731316, 7.357239106731316, 7.357239106731316, 7.357239106731316, 7.357239106731316, 7.357239106731316, 7.357239106731316, 7.357239106731316, 7.357239106731316, 7.357239106731316, 7.357239106731316, 7.357239106731316, 7.357239106731316, 7.891405093963936, 7.891405093963936, 7.891405093963936, 7.891405093963936, 7.891405093963936, 7.891405093963936, 7.891405093963936, 7.891405093963936, 7.891405093963936, 7.891405093963936, 7.891405093963936, 7.891405093963936, 7.891405093963936, 7.891405093963936, 7.891405093963936, 7.891405093963936, 7.891405093963936, 7.891405093963936, 7.891405093963936, 7.891405093963936, 8.371664782625285, 8.371664782625285, 8.371664782625285, 8.371664782625285, 8.371664782625285, 8.371664782625285, 8.371664782625285, 8.371664782625285, 8.371664782625285, 8.371664782625285, 8.371664782625285, 8.371664782625285, 8.371664782625285, 8.371664782625285, 8.371664782625285, 8.371664782625285, 8.371664782625285, 8.371664782625285, 8.371664782625285, 8.371664782625285, 8.79473751206489, 8.79473751206489, 8.79473751206489, 8.79473751206489, 8.79473751206489, 8.79473751206489, 8.79473751206489, 8.79473751206489, 8.79473751206489, 8.79473751206489, 8.79473751206489, 8.79473751206489, 8.79473751206489, 8.79473751206489, 8.79473751206489, 8.79473751206489, 8.79473751206489, 8.79473751206489, 8.79473751206489, 8.79473751206489, 9.157733266550574, 9.157733266550574, 9.157733266550574, 9.157733266550574, 9.157733266550574, 9.157733266550574, 9.157733266550574, 9.157733266550574, 9.157733266550574, 9.157733266550574, 9.157733266550574, 9.157733266550574, 9.157733266550574, 9.157733266550574, 9.157733266550574, 9.157733266550574, 9.157733266550574, 9.157733266550574, 9.157733266550574, 9.157733266550574, 9.458172417006347, 9.458172417006347, 9.458172417006347, 9.458172417006347, 9.458172417006347, 9.458172417006347, 9.458172417006347, 9.458172417006347, 9.458172417006347, 9.458172417006347, 9.458172417006347, 9.458172417006347, 9.458172417006347, 9.458172417006347, 9.458172417006347, 9.458172417006347, 9.458172417006347, 9.458172417006347, 9.458172417006347, 9.458172417006347, 9.694002659393304, 9.694002659393304, 9.694002659393304, 9.694002659393304, 9.694002659393304, 9.694002659393304, 9.694002659393304, 9.694002659393304, 9.694002659393304, 9.694002659393304, 9.694002659393304, 9.694002659393304, 9.694002659393304, 9.694002659393304, 9.694002659393304, 9.694002659393304, 9.694002659393304, 9.694002659393304, 9.694002659393304, 9.694002659393304, 9.863613034027223, 9.863613034027223, 9.863613034027223, 9.863613034027223, 9.863613034027223, 9.863613034027223, 9.863613034027223, 9.863613034027223, 9.863613034027223, 9.863613034027223, 9.863613034027223, 9.863613034027223, 9.863613034027223, 9.863613034027223, 9.863613034027223, 9.863613034027223, 9.863613034027223, 9.863613034027223, 9.863613034027223, 9.863613034027223, 9.965844930066698, 9.965844930066698, 9.965844930066698, 9.965844930066698, 9.965844930066698, 9.965844930066698, 9.965844930066698, 9.965844930066698, 9.965844930066698, 9.965844930066698, 9.965844930066698, 9.965844930066698, 9.965844930066698, 9.965844930066698, 9.965844930066698, 9.965844930066698, 9.965844930066698, 9.965844930066698, 9.965844930066698, 9.965844930066698, 10.0, 10.0, 10.0, 10.0, 10.0, 10.0, 10.0, 10.0, 10.0, 10.0, 10.0, 10.0, 10.0, 10.0, 10.0, 10.0, 10.0, 10.0, 10.0, 10.0]}],                        {\"height\": 600, \"hovermode\": \"closest\", \"template\": {\"data\": {\"bar\": [{\"error_x\": {\"color\": \"#2a3f5f\"}, \"error_y\": {\"color\": \"#2a3f5f\"}, \"marker\": {\"line\": {\"color\": \"#E5ECF6\", \"width\": 0.5}}, \"type\": \"bar\"}], \"barpolar\": [{\"marker\": {\"line\": {\"color\": \"#E5ECF6\", \"width\": 0.5}}, \"type\": \"barpolar\"}], \"carpet\": [{\"aaxis\": {\"endlinecolor\": \"#2a3f5f\", \"gridcolor\": \"white\", \"linecolor\": \"white\", \"minorgridcolor\": \"white\", \"startlinecolor\": \"#2a3f5f\"}, \"baxis\": {\"endlinecolor\": \"#2a3f5f\", \"gridcolor\": \"white\", \"linecolor\": \"white\", \"minorgridcolor\": \"white\", \"startlinecolor\": \"#2a3f5f\"}, \"type\": \"carpet\"}], \"choropleth\": [{\"colorbar\": {\"outlinewidth\": 0, \"ticks\": \"\"}, \"type\": \"choropleth\"}], \"contour\": [{\"colorbar\": {\"outlinewidth\": 0, \"ticks\": \"\"}, \"colorscale\": [[0.0, \"#0d0887\"], [0.1111111111111111, \"#46039f\"], [0.2222222222222222, \"#7201a8\"], [0.3333333333333333, \"#9c179e\"], [0.4444444444444444, \"#bd3786\"], [0.5555555555555556, \"#d8576b\"], [0.6666666666666666, \"#ed7953\"], [0.7777777777777778, \"#fb9f3a\"], [0.8888888888888888, \"#fdca26\"], [1.0, \"#f0f921\"]], \"type\": \"contour\"}], \"contourcarpet\": [{\"colorbar\": {\"outlinewidth\": 0, \"ticks\": \"\"}, \"type\": \"contourcarpet\"}], \"heatmap\": [{\"colorbar\": {\"outlinewidth\": 0, \"ticks\": \"\"}, \"colorscale\": [[0.0, \"#0d0887\"], [0.1111111111111111, \"#46039f\"], [0.2222222222222222, \"#7201a8\"], [0.3333333333333333, \"#9c179e\"], [0.4444444444444444, \"#bd3786\"], [0.5555555555555556, \"#d8576b\"], [0.6666666666666666, \"#ed7953\"], [0.7777777777777778, \"#fb9f3a\"], [0.8888888888888888, \"#fdca26\"], [1.0, \"#f0f921\"]], \"type\": \"heatmap\"}], \"heatmapgl\": [{\"colorbar\": {\"outlinewidth\": 0, \"ticks\": \"\"}, \"colorscale\": [[0.0, \"#0d0887\"], [0.1111111111111111, \"#46039f\"], [0.2222222222222222, \"#7201a8\"], [0.3333333333333333, \"#9c179e\"], [0.4444444444444444, \"#bd3786\"], [0.5555555555555556, \"#d8576b\"], [0.6666666666666666, \"#ed7953\"], [0.7777777777777778, \"#fb9f3a\"], [0.8888888888888888, \"#fdca26\"], [1.0, \"#f0f921\"]], \"type\": \"heatmapgl\"}], \"histogram\": [{\"marker\": {\"colorbar\": {\"outlinewidth\": 0, \"ticks\": \"\"}}, \"type\": \"histogram\"}], \"histogram2d\": [{\"colorbar\": {\"outlinewidth\": 0, \"ticks\": \"\"}, \"colorscale\": [[0.0, \"#0d0887\"], [0.1111111111111111, \"#46039f\"], [0.2222222222222222, \"#7201a8\"], [0.3333333333333333, \"#9c179e\"], [0.4444444444444444, \"#bd3786\"], [0.5555555555555556, \"#d8576b\"], [0.6666666666666666, \"#ed7953\"], [0.7777777777777778, \"#fb9f3a\"], [0.8888888888888888, \"#fdca26\"], [1.0, \"#f0f921\"]], \"type\": \"histogram2d\"}], \"histogram2dcontour\": [{\"colorbar\": {\"outlinewidth\": 0, \"ticks\": \"\"}, \"colorscale\": [[0.0, \"#0d0887\"], [0.1111111111111111, \"#46039f\"], [0.2222222222222222, \"#7201a8\"], [0.3333333333333333, \"#9c179e\"], [0.4444444444444444, \"#bd3786\"], [0.5555555555555556, \"#d8576b\"], [0.6666666666666666, \"#ed7953\"], [0.7777777777777778, \"#fb9f3a\"], [0.8888888888888888, \"#fdca26\"], [1.0, \"#f0f921\"]], \"type\": \"histogram2dcontour\"}], \"mesh3d\": [{\"colorbar\": {\"outlinewidth\": 0, \"ticks\": \"\"}, \"type\": \"mesh3d\"}], \"parcoords\": [{\"line\": {\"colorbar\": {\"outlinewidth\": 0, \"ticks\": \"\"}}, \"type\": \"parcoords\"}], \"pie\": [{\"automargin\": true, \"type\": \"pie\"}], \"scatter\": [{\"marker\": {\"colorbar\": {\"outlinewidth\": 0, \"ticks\": \"\"}}, \"type\": \"scatter\"}], \"scatter3d\": [{\"line\": {\"colorbar\": {\"outlinewidth\": 0, \"ticks\": \"\"}}, \"marker\": {\"colorbar\": {\"outlinewidth\": 0, \"ticks\": \"\"}}, \"type\": \"scatter3d\"}], \"scattercarpet\": [{\"marker\": {\"colorbar\": {\"outlinewidth\": 0, \"ticks\": \"\"}}, \"type\": \"scattercarpet\"}], \"scattergeo\": [{\"marker\": {\"colorbar\": {\"outlinewidth\": 0, \"ticks\": \"\"}}, \"type\": \"scattergeo\"}], \"scattergl\": [{\"marker\": {\"colorbar\": {\"outlinewidth\": 0, \"ticks\": \"\"}}, \"type\": \"scattergl\"}], \"scattermapbox\": [{\"marker\": {\"colorbar\": {\"outlinewidth\": 0, \"ticks\": \"\"}}, \"type\": \"scattermapbox\"}], \"scatterpolar\": [{\"marker\": {\"colorbar\": {\"outlinewidth\": 0, \"ticks\": \"\"}}, \"type\": \"scatterpolar\"}], \"scatterpolargl\": [{\"marker\": {\"colorbar\": {\"outlinewidth\": 0, \"ticks\": \"\"}}, \"type\": \"scatterpolargl\"}], \"scatterternary\": [{\"marker\": {\"colorbar\": {\"outlinewidth\": 0, \"ticks\": \"\"}}, \"type\": \"scatterternary\"}], \"surface\": [{\"colorbar\": {\"outlinewidth\": 0, \"ticks\": \"\"}, \"colorscale\": [[0.0, \"#0d0887\"], [0.1111111111111111, \"#46039f\"], [0.2222222222222222, \"#7201a8\"], [0.3333333333333333, \"#9c179e\"], [0.4444444444444444, \"#bd3786\"], [0.5555555555555556, \"#d8576b\"], [0.6666666666666666, \"#ed7953\"], [0.7777777777777778, \"#fb9f3a\"], [0.8888888888888888, \"#fdca26\"], [1.0, \"#f0f921\"]], \"type\": \"surface\"}], \"table\": [{\"cells\": {\"fill\": {\"color\": \"#EBF0F8\"}, \"line\": {\"color\": \"white\"}}, \"header\": {\"fill\": {\"color\": \"#C8D4E3\"}, \"line\": {\"color\": \"white\"}}, \"type\": \"table\"}]}, \"layout\": {\"annotationdefaults\": {\"arrowcolor\": \"#2a3f5f\", \"arrowhead\": 0, \"arrowwidth\": 1}, \"autotypenumbers\": \"strict\", \"coloraxis\": {\"colorbar\": {\"outlinewidth\": 0, \"ticks\": \"\"}}, \"colorscale\": {\"diverging\": [[0, \"#8e0152\"], [0.1, \"#c51b7d\"], [0.2, \"#de77ae\"], [0.3, \"#f1b6da\"], [0.4, \"#fde0ef\"], [0.5, \"#f7f7f7\"], [0.6, \"#e6f5d0\"], [0.7, \"#b8e186\"], [0.8, \"#7fbc41\"], [0.9, \"#4d9221\"], [1, \"#276419\"]], \"sequential\": [[0.0, \"#0d0887\"], [0.1111111111111111, \"#46039f\"], [0.2222222222222222, \"#7201a8\"], [0.3333333333333333, \"#9c179e\"], [0.4444444444444444, \"#bd3786\"], [0.5555555555555556, \"#d8576b\"], [0.6666666666666666, \"#ed7953\"], [0.7777777777777778, \"#fb9f3a\"], [0.8888888888888888, \"#fdca26\"], [1.0, \"#f0f921\"]], \"sequentialminus\": [[0.0, \"#0d0887\"], [0.1111111111111111, \"#46039f\"], [0.2222222222222222, \"#7201a8\"], [0.3333333333333333, \"#9c179e\"], [0.4444444444444444, \"#bd3786\"], [0.5555555555555556, \"#d8576b\"], [0.6666666666666666, \"#ed7953\"], [0.7777777777777778, \"#fb9f3a\"], [0.8888888888888888, \"#fdca26\"], [1.0, \"#f0f921\"]]}, \"colorway\": [\"#636efa\", \"#EF553B\", \"#00cc96\", \"#ab63fa\", \"#FFA15A\", \"#19d3f3\", \"#FF6692\", \"#B6E880\", \"#FF97FF\", \"#FECB52\"], \"font\": {\"color\": \"#2a3f5f\"}, \"geo\": {\"bgcolor\": \"white\", \"lakecolor\": \"white\", \"landcolor\": \"#E5ECF6\", \"showlakes\": true, \"showland\": true, \"subunitcolor\": \"white\"}, \"hoverlabel\": {\"align\": \"left\"}, \"hovermode\": \"closest\", \"mapbox\": {\"style\": \"light\"}, \"paper_bgcolor\": \"white\", \"plot_bgcolor\": \"#E5ECF6\", \"polar\": {\"angularaxis\": {\"gridcolor\": \"white\", \"linecolor\": \"white\", \"ticks\": \"\"}, \"bgcolor\": \"#E5ECF6\", \"radialaxis\": {\"gridcolor\": \"white\", \"linecolor\": \"white\", \"ticks\": \"\"}}, \"scene\": {\"xaxis\": {\"backgroundcolor\": \"#E5ECF6\", \"gridcolor\": \"white\", \"gridwidth\": 2, \"linecolor\": \"white\", \"showbackground\": true, \"ticks\": \"\", \"zerolinecolor\": \"white\"}, \"yaxis\": {\"backgroundcolor\": \"#E5ECF6\", \"gridcolor\": \"white\", \"gridwidth\": 2, \"linecolor\": \"white\", \"showbackground\": true, \"ticks\": \"\", \"zerolinecolor\": \"white\"}, \"zaxis\": {\"backgroundcolor\": \"#E5ECF6\", \"gridcolor\": \"white\", \"gridwidth\": 2, \"linecolor\": \"white\", \"showbackground\": true, \"ticks\": \"\", \"zerolinecolor\": \"white\"}}, \"shapedefaults\": {\"line\": {\"color\": \"#2a3f5f\"}}, \"ternary\": {\"aaxis\": {\"gridcolor\": \"white\", \"linecolor\": \"white\", \"ticks\": \"\"}, \"baxis\": {\"gridcolor\": \"white\", \"linecolor\": \"white\", \"ticks\": \"\"}, \"bgcolor\": \"#E5ECF6\", \"caxis\": {\"gridcolor\": \"white\", \"linecolor\": \"white\", \"ticks\": \"\"}}, \"title\": {\"x\": 0.05}, \"xaxis\": {\"automargin\": true, \"gridcolor\": \"white\", \"linecolor\": \"white\", \"ticks\": \"\", \"title\": {\"standoff\": 15}, \"zerolinecolor\": \"white\", \"zerolinewidth\": 2}, \"yaxis\": {\"automargin\": true, \"gridcolor\": \"white\", \"linecolor\": \"white\", \"ticks\": \"\", \"title\": {\"standoff\": 15}, \"zerolinecolor\": \"white\", \"zerolinewidth\": 2}}}, \"title\": {\"text\": \"Pareto over time\"}, \"updatemenus\": [{\"buttons\": [{\"args\": [null], \"label\": \"Play\", \"method\": \"animate\"}], \"type\": \"buttons\"}], \"width\": 700, \"xaxis\": {\"autorange\": false, \"range\": [0, 30], \"zeroline\": false}, \"yaxis\": {\"autorange\": false, \"range\": [0, 30], \"zeroline\": false}},                        {\"responsive\": true}                    ).then(function(){\n",
       "                            Plotly.addFrames('a0e8ed2a-20ef-40eb-9756-6588d8ebddaa', [{\"data\": [{\"mode\": \"lines+markers\", \"name\": \"estimated pareto\", \"x\": [0, null, 0, 0], \"y\": [0, 0, null, 0], \"type\": \"scatter\"}, {\"mode\": \"lines+markers\", \"name\": \"tentative pareto\", \"x\": [0, null, 0, 0], \"y\": [0, 0, null, 0], \"type\": \"scatter\"}]}, {\"data\": [{\"mode\": \"lines+markers\", \"name\": \"estimated pareto\", \"x\": [0, null, 0, 0], \"y\": [0, 0, null, 0], \"type\": \"scatter\"}, {\"mode\": \"lines+markers\", \"name\": \"tentative pareto\", \"x\": [0, null, 0, 0], \"y\": [0, 0, null, 0], \"type\": \"scatter\"}]}, {\"data\": [{\"mode\": \"lines+markers\", \"name\": \"estimated pareto\", \"x\": [0, null, 0, 0], \"y\": [0, 0, null, 0], \"type\": \"scatter\"}, {\"mode\": \"lines+markers\", \"name\": \"tentative pareto\", \"x\": [0, null, 0, 0], \"y\": [0, 0, null, 0], \"type\": \"scatter\"}]}, {\"data\": [{\"mode\": \"lines+markers\", \"name\": \"estimated pareto\", \"x\": [0, null, 0, 0], \"y\": [0, 0, null, 0], \"type\": \"scatter\"}, {\"mode\": \"lines+markers\", \"name\": \"tentative pareto\", \"x\": [0, null, 0, 0], \"y\": [0, 0, null, 0], \"type\": \"scatter\"}]}, {\"data\": [{\"mode\": \"lines+markers\", \"name\": \"estimated pareto\", \"x\": [0, null, 0, 0], \"y\": [0, 0, null, 0], \"type\": \"scatter\"}, {\"mode\": \"lines+markers\", \"name\": \"tentative pareto\", \"x\": [0, null, 0, 0], \"y\": [0, 0, null, 0], \"type\": \"scatter\"}]}, {\"data\": [{\"mode\": \"lines+markers\", \"name\": \"estimated pareto\", \"x\": [0, null, 0, 0], \"y\": [0, 0, null, 0], \"type\": \"scatter\"}, {\"mode\": \"lines+markers\", \"name\": \"tentative pareto\", \"x\": [0, null, 0, 0], \"y\": [0, 0, null, 0], \"type\": \"scatter\"}]}, {\"data\": [{\"mode\": \"lines+markers\", \"name\": \"estimated pareto\", \"x\": [0, null, 0, 0], \"y\": [0, 0, null, 0], \"type\": \"scatter\"}, {\"mode\": \"lines+markers\", \"name\": \"tentative pareto\", \"x\": [0, null, 0, 0], \"y\": [0, 0, null, 0], \"type\": \"scatter\"}]}, {\"data\": [{\"mode\": \"lines+markers\", \"name\": \"estimated pareto\", \"x\": [0, null, 0, 0], \"y\": [0, 0, null, 0], \"type\": \"scatter\"}, {\"mode\": \"lines+markers\", \"name\": \"tentative pareto\", \"x\": [0, null, 0, 0], \"y\": [0, 0, null, 0], \"type\": \"scatter\"}]}, {\"data\": [{\"mode\": \"lines+markers\", \"name\": \"estimated pareto\", \"x\": [0, null, 0, 0], \"y\": [0, 0, null, 0], \"type\": \"scatter\"}, {\"mode\": \"lines+markers\", \"name\": \"tentative pareto\", \"x\": [0, null, 0, 0], \"y\": [0, 0, null, 0], \"type\": \"scatter\"}]}, {\"data\": [{\"mode\": \"lines+markers\", \"name\": \"estimated pareto\", \"x\": [4.940828739540212, 4.940828739540212, 4.940828739540212, 0.0, 0.0], \"y\": [0.0, 0.0, 8.529340453965386, 8.529340453965386, 8.529340453965386], \"type\": \"scatter\"}, {\"mode\": \"lines+markers\", \"name\": \"tentative pareto\", \"x\": [4.940828739540212, 4.940828739540212, 4.940828739540212, 0.0, 0.0], \"y\": [0.0, 0.0, 8.529340453965386, 8.529340453965386, 8.529340453965386], \"type\": \"scatter\"}]}, {\"data\": [{\"mode\": \"lines+markers\", \"name\": \"estimated pareto\", \"x\": [8.180482725322042, 8.180482725322042, 8.180482725322042, 4.940828739540212, 0.0, 0.0], \"y\": [0.0, 0.0, 2.13543452680325, 8.529340453965386, 8.529340453965386, 8.529340453965386], \"type\": \"scatter\"}, {\"mode\": \"lines+markers\", \"name\": \"tentative pareto\", \"x\": [8.180482725322042, 8.180482725322042, 8.180482725322042, 4.940828739540212, 0.0, 0.0], \"y\": [0.0, 0.0, 2.13543452680325, 8.529340453965386, 8.529340453965386, 8.529340453965386], \"type\": \"scatter\"}]}, {\"data\": [{\"mode\": \"lines+markers\", \"name\": \"estimated pareto\", \"x\": [8.180482725322042, 8.180482725322042, 8.180482725322042, 7.513077861098761, 4.940828739540212, 0.0, 0.0], \"y\": [0.0, 0.0, 2.13543452680325, 5.9576230214489, 8.529340453965386, 8.529340453965386, 8.529340453965386], \"type\": \"scatter\"}, {\"mode\": \"lines+markers\", \"name\": \"tentative pareto\", \"x\": [8.180482725322042, 8.180482725322042, 8.180482725322042, 7.513077861098761, 4.940828739540212, 0.0, 0.0], \"y\": [0.0, 0.0, 2.13543452680325, 5.9576230214489, 8.529340453965386, 8.529340453965386, 8.529340453965386], \"type\": \"scatter\"}]}, {\"data\": [{\"mode\": \"lines+markers\", \"name\": \"estimated pareto\", \"x\": [8.180482725322042, 8.180482725322042, 8.180482725322042, 7.513077861098761, 4.940828739540212, 0.0, 0.0], \"y\": [0.0, 0.0, 2.13543452680325, 5.9576230214489, 8.529340453965386, 8.529340453965386, 8.529340453965386], \"type\": \"scatter\"}, {\"mode\": \"lines+markers\", \"name\": \"tentative pareto\", \"x\": [8.180482725322042, 8.180482725322042, 8.180482725322042, 7.513077861098761, 4.940828739540212, 0.0, 0.0], \"y\": [0.0, 0.0, 2.13543452680325, 5.9576230214489, 8.529340453965386, 8.529340453965386, 8.529340453965386], \"type\": \"scatter\"}]}, {\"data\": [{\"mode\": \"lines+markers\", \"name\": \"estimated pareto\", \"x\": [8.180482725322042, 8.180482725322042, 8.180482725322042, 7.513077861098761, 4.940828739540212, 0.0, 0.0], \"y\": [0.0, 0.0, 2.13543452680325, 5.9576230214489, 8.529340453965386, 8.529340453965386, 8.529340453965386], \"type\": \"scatter\"}, {\"mode\": \"lines+markers\", \"name\": \"tentative pareto\", \"x\": [8.180482725322042, 8.180482725322042, 8.180482725322042, 7.513077861098761, 4.940828739540212, 0.0, 0.0], \"y\": [0.0, 0.0, 2.13543452680325, 5.9576230214489, 8.529340453965386, 8.529340453965386, 8.529340453965386], \"type\": \"scatter\"}]}, {\"data\": [{\"mode\": \"lines+markers\", \"name\": \"estimated pareto\", \"x\": [8.180482725322042, 8.180482725322042, 8.180482725322042, 7.513077861098761, 4.940828739540212, 0.0, 0.0], \"y\": [0.0, 0.0, 2.13543452680325, 5.9576230214489, 8.529340453965386, 8.529340453965386, 8.529340453965386], \"type\": \"scatter\"}, {\"mode\": \"lines+markers\", \"name\": \"tentative pareto\", \"x\": [8.180482725322042, 8.180482725322042, 8.180482725322042, 7.513077861098761, 4.940828739540212, 0.0, 0.0], \"y\": [0.0, 0.0, 2.13543452680325, 5.9576230214489, 8.529340453965386, 8.529340453965386, 8.529340453965386], \"type\": \"scatter\"}]}, {\"data\": [{\"mode\": \"lines+markers\", \"name\": \"estimated pareto\", \"x\": [8.180482725322042, 8.180482725322042, 8.180482725322042, 7.513077861098761, 4.940828739540212, 0.0, 0.0], \"y\": [0.0, 0.0, 2.13543452680325, 5.9576230214489, 8.529340453965386, 8.529340453965386, 8.529340453965386], \"type\": \"scatter\"}, {\"mode\": \"lines+markers\", \"name\": \"tentative pareto\", \"x\": [8.180482725322042, 8.180482725322042, 8.180482725322042, 7.513077861098761, 4.940828739540212, 0.0, 0.0], \"y\": [0.0, 0.0, 2.13543452680325, 5.9576230214489, 8.529340453965386, 8.529340453965386, 8.529340453965386], \"type\": \"scatter\"}]}, {\"data\": [{\"mode\": \"lines+markers\", \"name\": \"estimated pareto\", \"x\": [8.180482725322042, 8.180482725322042, 8.180482725322042, 7.513077861098761, 4.940828739540212, 0.0, 0.0], \"y\": [0.0, 0.0, 2.13543452680325, 5.9576230214489, 8.529340453965386, 8.529340453965386, 8.529340453965386], \"type\": \"scatter\"}, {\"mode\": \"lines+markers\", \"name\": \"tentative pareto\", \"x\": [8.180482725322042, 8.180482725322042, 8.180482725322042, 7.513077861098761, 4.940828739540212, 0.0, 0.0], \"y\": [0.0, 0.0, 2.13543452680325, 5.9576230214489, 8.529340453965386, 8.529340453965386, 8.529340453965386], \"type\": \"scatter\"}]}, {\"data\": [{\"mode\": \"lines+markers\", \"name\": \"estimated pareto\", \"x\": [8.180482725322042, 8.180482725322042, 8.180482725322042, 7.513077861098761, 4.940828739540212, 0.0, 0.0], \"y\": [0.0, 0.0, 2.13543452680325, 5.9576230214489, 8.529340453965386, 8.529340453965386, 8.529340453965386], \"type\": \"scatter\"}, {\"mode\": \"lines+markers\", \"name\": \"tentative pareto\", \"x\": [8.180482725322042, 8.180482725322042, 8.180482725322042, 7.513077861098761, 4.940828739540212, 0.0, 0.0], \"y\": [0.0, 0.0, 2.13543452680325, 5.9576230214489, 8.529340453965386, 8.529340453965386, 8.529340453965386], \"type\": \"scatter\"}]}, {\"data\": [{\"mode\": \"lines+markers\", \"name\": \"estimated pareto\", \"x\": [8.180482725322042, 8.180482725322042, 8.180482725322042, 7.513077861098761, 4.940828739540212, 0.0, 0.0], \"y\": [0.0, 0.0, 2.13543452680325, 5.9576230214489, 8.529340453965386, 8.529340453965386, 8.529340453965386], \"type\": \"scatter\"}, {\"mode\": \"lines+markers\", \"name\": \"tentative pareto\", \"x\": [8.180482725322042, 8.180482725322042, 8.180482725322042, 7.513077861098761, 4.940828739540212, 0.0, 0.0], \"y\": [0.0, 0.0, 2.13543452680325, 5.9576230214489, 8.529340453965386, 8.529340453965386, 8.529340453965386], \"type\": \"scatter\"}]}, {\"data\": [{\"mode\": \"lines+markers\", \"name\": \"estimated pareto\", \"x\": [8.180482725322042, 8.180482725322042, 8.180482725322042, 7.513077861098761, 4.940828739540212, 0.0, 0.0], \"y\": [0.0, 0.0, 2.13543452680325, 5.9576230214489, 8.529340453965386, 8.529340453965386, 8.529340453965386], \"type\": \"scatter\"}, {\"mode\": \"lines+markers\", \"name\": \"tentative pareto\", \"x\": [8.180482725322042, 8.180482725322042, 8.180482725322042, 7.513077861098761, 4.940828739540212, 0.0, 0.0], \"y\": [0.0, 0.0, 2.13543452680325, 5.9576230214489, 8.529340453965386, 8.529340453965386, 8.529340453965386], \"type\": \"scatter\"}]}, {\"data\": [{\"mode\": \"lines+markers\", \"name\": \"estimated pareto\", \"x\": [8.180482725322042, 8.180482725322042, 8.180482725322042, 7.513077861098761, 4.940828739540212, 0.0, 0.0], \"y\": [0.0, 0.0, 2.13543452680325, 5.9576230214489, 8.529340453965386, 8.529340453965386, 8.529340453965386], \"type\": \"scatter\"}, {\"mode\": \"lines+markers\", \"name\": \"tentative pareto\", \"x\": [8.180482725322042, 8.180482725322042, 8.180482725322042, 7.513077861098761, 4.940828739540212, 0.0, 0.0], \"y\": [0.0, 0.0, 2.13543452680325, 5.9576230214489, 8.529340453965386, 8.529340453965386, 8.529340453965386], \"type\": \"scatter\"}]}, {\"data\": [{\"mode\": \"lines+markers\", \"name\": \"estimated pareto\", \"x\": [8.180482725322042, 8.180482725322042, 8.180482725322042, 7.513077861098761, 4.940828739540212, 0.0, 0.0], \"y\": [0.0, 0.0, 2.13543452680325, 5.9576230214489, 8.529340453965386, 8.529340453965386, 8.529340453965386], \"type\": \"scatter\"}, {\"mode\": \"lines+markers\", \"name\": \"tentative pareto\", \"x\": [8.180482725322042, 8.180482725322042, 8.180482725322042, 7.513077861098761, 4.940828739540212, 0.0, 0.0], \"y\": [0.0, 0.0, 2.13543452680325, 5.9576230214489, 8.529340453965386, 8.529340453965386, 8.529340453965386], \"type\": \"scatter\"}]}, {\"data\": [{\"mode\": \"lines+markers\", \"name\": \"estimated pareto\", \"x\": [8.180482725322042, 8.180482725322042, 8.180482725322042, 7.513077861098761, 6.770668498727068, 4.940828739540212, 0.0, 0.0], \"y\": [0.0, 0.0, 2.13543452680325, 5.9576230214489, 6.170711447894903, 8.529340453965386, 8.529340453965386, 8.529340453965386], \"type\": \"scatter\"}, {\"mode\": \"lines+markers\", \"name\": \"tentative pareto\", \"x\": [8.180482725322042, 8.180482725322042, 8.180482725322042, 7.513077861098761, 6.770668498727068, 4.940828739540212, 0.0, 0.0], \"y\": [0.0, 0.0, 2.13543452680325, 5.9576230214489, 6.170711447894903, 8.529340453965386, 8.529340453965386, 8.529340453965386], \"type\": \"scatter\"}]}, {\"data\": [{\"mode\": \"lines+markers\", \"name\": \"estimated pareto\", \"x\": [8.180482725322042, 8.180482725322042, 8.180482725322042, 7.513077861098761, 6.770668498727068, 4.940828739540212, 0.0, 0.0], \"y\": [0.0, 0.0, 2.13543452680325, 5.9576230214489, 6.170711447894903, 8.529340453965386, 8.529340453965386, 8.529340453965386], \"type\": \"scatter\"}, {\"mode\": \"lines+markers\", \"name\": \"tentative pareto\", \"x\": [9.962093502844336, 9.962093502844336, 9.962093502844336, 9.962093502844336, 9.962093502844336, 4.484148334162829, 0.0, 0.0], \"y\": [0.0, 0.0, 9.38789002298736, 4.930754249152359, 2.4408386862856846, 9.38789002298736, 9.38789002298736, 9.38789002298736], \"type\": \"scatter\"}]}, {\"data\": [{\"mode\": \"lines+markers\", \"name\": \"estimated pareto\", \"x\": [8.180482725322042, 8.180482725322042, 8.180482725322042, 7.513077861098761, 6.770668498727068, 4.940828739540212, 0.0, 0.0], \"y\": [0.0, 0.0, 2.13543452680325, 5.9576230214489, 6.170711447894903, 8.529340453965386, 8.529340453965386, 8.529340453965386], \"type\": \"scatter\"}, {\"mode\": \"lines+markers\", \"name\": \"tentative pareto\", \"x\": [9.962093502844336, 9.962093502844336, 9.962093502844336, 9.962093502844336, 8.080982477180305, 7.466477638392659, 6.913497364191393, 5.901472421000374, 5.4136452967683, 4.612120450208984, 2.846810622055798, 2.6049768555015103, 0.0, 0.0], \"y\": [0.0, 0.0, 8.21392482600679, 4.887154473112263, 9.38789002298736, 9.38789002298736, 9.38789002298736, 9.38789002298736, 9.38789002298736, 9.38789002298736, 9.38789002298736, 9.38789002298736, 9.38789002298736, 9.38789002298736], \"type\": \"scatter\"}]}, {\"data\": [{\"mode\": \"lines+markers\", \"name\": \"estimated pareto\", \"x\": [8.180482725322042, 8.180482725322042, 8.180482725322042, 7.513077861098761, 6.770668498727068, 4.940828739540212, 0.0, 0.0], \"y\": [0.0, 0.0, 2.13543452680325, 5.9576230214489, 6.170711447894903, 8.529340453965386, 8.529340453965386, 8.529340453965386], \"type\": \"scatter\"}, {\"mode\": \"lines+markers\", \"name\": \"tentative pareto\", \"x\": [9.962093502844336, 9.962093502844336, 9.962093502844336, 9.126212712361024, 9.126212712361024, 8.465005505072023, 7.494182651016198, 5.355436504803599, 4.737656730380365, 0.0, 0.0], \"y\": [0.0, 0.0, 6.48936135396339, 7.86469147006572, 7.86469147006572, 8.06956389078708, 9.38789002298736, 9.38789002298736, 9.38789002298736, 9.38789002298736, 9.38789002298736], \"type\": \"scatter\"}]}, {\"data\": [{\"mode\": \"lines+markers\", \"name\": \"estimated pareto\", \"x\": [8.180482725322042, 8.180482725322042, 8.180482725322042, 7.513077861098761, 6.770668498727068, 4.940828739540212, 0.0, 0.0], \"y\": [0.0, 0.0, 2.13543452680325, 5.9576230214489, 6.170711447894903, 8.529340453965386, 8.529340453965386, 8.529340453965386], \"type\": \"scatter\"}, {\"mode\": \"lines+markers\", \"name\": \"tentative pareto\", \"x\": [10.511752469385236, 10.511752469385236, 10.511752469385236, 9.696242192284746, 9.171223945578888, 8.375728280794176, 3.2832328488086175, 0.0, 0.0], \"y\": [0.0, 0.0, 5.963768486351085, 8.475966576716173, 9.405602410816163, 9.405602410816163, 9.405602410816163, 9.405602410816163, 9.405602410816163], \"type\": \"scatter\"}]}, {\"data\": [{\"mode\": \"lines+markers\", \"name\": \"estimated pareto\", \"x\": [8.180482725322042, 8.180482725322042, 8.180482725322042, 7.513077861098761, 6.770668498727068, 4.940828739540212, 0.0, 0.0], \"y\": [0.0, 0.0, 2.13543452680325, 5.9576230214489, 6.170711447894903, 8.529340453965386, 8.529340453965386, 8.529340453965386], \"type\": \"scatter\"}, {\"mode\": \"lines+markers\", \"name\": \"tentative pareto\", \"x\": [10.511752469385236, 10.511752469385236, 10.511752469385236, 10.511752469385236, 10.511752469385236, 7.1780105893761625, 5.61931837497872, 5.405090892174146, 3.829999801884232, 0.0, 0.0], \"y\": [0.0, 0.0, 6.7167578828515575, 5.86413474018327, 3.7849912328981175, 9.405602410816163, 9.405602410816163, 9.405602410816163, 9.405602410816163, 9.405602410816163, 9.405602410816163], \"type\": \"scatter\"}]}, {\"data\": [{\"mode\": \"lines+markers\", \"name\": \"estimated pareto\", \"x\": [8.180482725322042, 8.180482725322042, 8.180482725322042, 7.513077861098761, 6.770668498727068, 4.940828739540212, 2.2888374463188206, 0.0, 0.0], \"y\": [0.0, 0.0, 2.13543452680325, 5.9576230214489, 6.170711447894903, 8.529340453965386, 9.650917956417763, 9.650917956417763, 9.650917956417763], \"type\": \"scatter\"}, {\"mode\": \"lines+markers\", \"name\": \"tentative pareto\", \"x\": [10.43809477006019, 10.43809477006019, 10.43809477006019, 6.574187223058244, 5.192649871870978, 2.2888374463188206, 0.0, 0.0], \"y\": [0.0, 0.0, 9.125254018083654, 9.38789002298736, 9.38789002298736, 9.650917956417763, 9.650917956417763, 9.650917956417763], \"type\": \"scatter\"}]}, {\"data\": [{\"mode\": \"lines+markers\", \"name\": \"estimated pareto\", \"x\": [8.180482725322042, 8.180482725322042, 8.180482725322042, 7.513077861098761, 6.770668498727068, 4.940828739540212, 2.2888374463188206, 0.0, 0.0], \"y\": [0.0, 0.0, 2.13543452680325, 5.9576230214489, 6.170711447894903, 8.529340453965386, 9.650917956417763, 9.650917956417763, 9.650917956417763], \"type\": \"scatter\"}, {\"mode\": \"lines+markers\", \"name\": \"tentative pareto\", \"x\": [10.43809477006019, 10.43809477006019, 10.43809477006019, 10.43809477006019, 10.43809477006019, 10.43809477006019, 9.296694691573853, 9.21896825297178, 7.082518013427798, 6.0642124895492575, 2.2888374463188206, 0.0, 0.0], \"y\": [0.0, 0.0, 8.934030309026603, 5.875572131432635, 5.6289181395976735, 4.4604547130763255, 9.38789002298736, 9.405602410816163, 9.405602410816163, 9.405602410816163, 9.650917956417763, 9.650917956417763, 9.650917956417763], \"type\": \"scatter\"}]}, {\"data\": [{\"mode\": \"lines+markers\", \"name\": \"estimated pareto\", \"x\": [8.180482725322042, 8.180482725322042, 8.180482725322042, 7.513077861098761, 6.770668498727068, 4.940828739540212, 2.2888374463188206, 0.0, 0.0], \"y\": [0.0, 0.0, 2.13543452680325, 5.9576230214489, 6.170711447894903, 8.529340453965386, 9.650917956417763, 9.650917956417763, 9.650917956417763], \"type\": \"scatter\"}, {\"mode\": \"lines+markers\", \"name\": \"tentative pareto\", \"x\": [10.43809477006019, 10.43809477006019, 10.43809477006019, 10.43809477006019, 10.43809477006019, 10.43809477006019, 10.43809477006019, 10.43809477006019, 10.43809477006019, 10.43809477006019, 10.43809477006019, 10.43809477006019, 9.23681587903128, 8.494785928533211, 6.493221913178631, 2.2888374463188206, 0.0, 0.0], \"y\": [0.0, 0.0, 8.03570425879306, 7.679530203491864, 6.872438367174105, 6.538692171505085, 6.031905355310638, 5.416115132545379, 4.67695059373626, 4.5658393515198235, 4.186321537201325, 3.903928595114845, 8.295821216185612, 8.825786677765466, 9.38789002298736, 9.650917956417763, 9.650917956417763, 9.650917956417763], \"type\": \"scatter\"}]}, {\"data\": [{\"mode\": \"lines+markers\", \"name\": \"estimated pareto\", \"x\": [8.180482725322042, 8.180482725322042, 8.180482725322042, 7.513077861098761, 6.770668498727068, 5.448052604152703, 4.940828739540212, 2.2888374463188206, 0.0, 0.0], \"y\": [0.0, 0.0, 2.13543452680325, 5.9576230214489, 6.170711447894903, 7.217883569410541, 8.529340453965386, 9.650917956417763, 9.650917956417763, 9.650917956417763], \"type\": \"scatter\"}, {\"mode\": \"lines+markers\", \"name\": \"tentative pareto\", \"x\": [10.511752469385236, 10.511752469385236, 10.511752469385236, 10.511752469385236, 10.511752469385236, 10.08836987444166, 3.044128587848233, 2.2888374463188206, 0.0, 0.0], \"y\": [0.0, 0.0, 7.944127960523058, 4.827797353919821, 4.626120516770102, 9.125254018083654, 9.405602410816163, 9.650917956417763, 9.650917956417763, 9.650917956417763], \"type\": \"scatter\"}]}, {\"data\": [{\"mode\": \"lines+markers\", \"name\": \"estimated pareto\", \"x\": [8.180482725322042, 8.180482725322042, 8.180482725322042, 7.513077861098761, 6.770668498727068, 5.448052604152703, 4.940828739540212, 2.2888374463188206, 0.0, 0.0], \"y\": [0.0, 0.0, 2.13543452680325, 5.9576230214489, 6.170711447894903, 7.217883569410541, 8.529340453965386, 9.650917956417763, 9.650917956417763, 9.650917956417763], \"type\": \"scatter\"}, {\"mode\": \"lines+markers\", \"name\": \"tentative pareto\", \"x\": [10.511752469385236, 10.511752469385236, 10.511752469385236, 10.43809477006019, 9.305183260728533, 5.056828345551179, 0.0, 0.0], \"y\": [0.0, 0.0, 3.327731173427839, 8.107913839005743, 10.44686103679169, 10.44686103679169, 10.44686103679169, 10.44686103679169], \"type\": \"scatter\"}]}, {\"data\": [{\"mode\": \"lines+markers\", \"name\": \"estimated pareto\", \"x\": [8.180482725322042, 8.180482725322042, 8.180482725322042, 7.513077861098761, 6.770668498727068, 5.448052604152703, 4.940828739540212, 2.2888374463188206, 0.0, 0.0], \"y\": [0.0, 0.0, 2.13543452680325, 5.9576230214489, 6.170711447894903, 7.217883569410541, 8.529340453965386, 9.650917956417763, 9.650917956417763, 9.650917956417763], \"type\": \"scatter\"}, {\"mode\": \"lines+markers\", \"name\": \"tentative pareto\", \"x\": [9.039116630904498, 9.039116630904498, 9.039116630904498, 7.748999895466818, 3.790897806327357, 0.0, 0.0], \"y\": [0.0, 0.0, 9.125254018083654, 9.567167185271318, 10.44686103679169, 10.44686103679169, 10.44686103679169], \"type\": \"scatter\"}]}, {\"data\": [{\"mode\": \"lines+markers\", \"name\": \"estimated pareto\", \"x\": [8.180482725322042, 8.180482725322042, 8.180482725322042, 7.513077861098761, 6.770668498727068, 5.448052604152703, 4.940828739540212, 2.2888374463188206, 0.0, 0.0], \"y\": [0.0, 0.0, 2.13543452680325, 5.9576230214489, 6.170711447894903, 7.217883569410541, 8.529340453965386, 9.650917956417763, 9.650917956417763, 9.650917956417763], \"type\": \"scatter\"}, {\"mode\": \"lines+markers\", \"name\": \"tentative pareto\", \"x\": [10.43809477006019, 10.43809477006019, 10.43809477006019, 10.43809477006019, 10.43809477006019, 10.43809477006019, 10.43809477006019, 10.43809477006019, 10.43809477006019, 10.43809477006019, 10.111239307503844, 9.838757713829551, 0.0, 0.0], \"y\": [0.0, 0.0, 7.908309126741945, 7.842364281425953, 7.018018992201128, 6.404390401609374, 6.1356310200159285, 5.9917168862987875, 4.740985346664961, 4.155570452505087, 9.788403106018892, 10.44686103679169, 10.44686103679169, 10.44686103679169], \"type\": \"scatter\"}]}, {\"data\": [{\"mode\": \"lines+markers\", \"name\": \"estimated pareto\", \"x\": [8.180482725322042, 8.180482725322042, 8.180482725322042, 7.513077861098761, 6.770668498727068, 5.448052604152703, 4.940828739540212, 2.2888374463188206, 0.0, 0.0], \"y\": [0.0, 0.0, 2.13543452680325, 5.9576230214489, 6.170711447894903, 7.217883569410541, 8.529340453965386, 9.650917956417763, 9.650917956417763, 9.650917956417763], \"type\": \"scatter\"}, {\"mode\": \"lines+markers\", \"name\": \"tentative pareto\", \"x\": [10.43809477006019, 10.43809477006019, 10.43809477006019, 10.43809477006019, 10.43809477006019, 10.43809477006019, 10.43809477006019, 10.43809477006019, 9.287229495141737, 6.753942830565435, 6.329561874905137, 4.140247948453322, 3.807239311636091, 3.1609111171315685, 0.0, 0.0], \"y\": [0.0, 0.0, 9.405602410816163, 7.843548751720208, 7.53618564597505, 7.358818721024082, 6.782602799899793, 6.053514684390798, 10.44686103679169, 10.44686103679169, 10.44686103679169, 10.44686103679169, 10.44686103679169, 10.44686103679169, 10.44686103679169, 10.44686103679169], \"type\": \"scatter\"}]}, {\"data\": [{\"mode\": \"lines+markers\", \"name\": \"estimated pareto\", \"x\": [8.180482725322042, 8.180482725322042, 8.180482725322042, 7.513077861098761, 6.770668498727068, 5.656171609894182, 5.448052604152703, 4.940828739540212, 2.2888374463188206, 0.0, 0.0], \"y\": [0.0, 0.0, 2.13543452680325, 5.9576230214489, 6.170711447894903, 7.173219385947532, 7.217883569410541, 8.529340453965386, 9.650917956417763, 9.650917956417763, 9.650917956417763], \"type\": \"scatter\"}, {\"mode\": \"lines+markers\", \"name\": \"tentative pareto\", \"x\": [10.43809477006019, 10.43809477006019, 10.43809477006019, 10.43809477006019, 10.43809477006019, 10.43809477006019, 5.044012117943722, 0.0, 0.0], \"y\": [0.0, 0.0, 8.187242701013858, 8.015892099909106, 6.552950405807508, 5.954754462823762, 10.44686103679169, 10.44686103679169, 10.44686103679169], \"type\": \"scatter\"}]}, {\"data\": [{\"mode\": \"lines+markers\", \"name\": \"estimated pareto\", \"x\": [8.180482725322042, 8.180482725322042, 8.180482725322042, 7.513077861098761, 6.770668498727068, 5.656171609894182, 5.448052604152703, 4.940828739540212, 2.2888374463188206, 0.0, 0.0], \"y\": [0.0, 0.0, 2.13543452680325, 5.9576230214489, 6.170711447894903, 7.173219385947532, 7.217883569410541, 8.529340453965386, 9.650917956417763, 9.650917956417763, 9.650917956417763], \"type\": \"scatter\"}, {\"mode\": \"lines+markers\", \"name\": \"tentative pareto\", \"x\": [10.43809477006019, 10.43809477006019, 10.43809477006019, 10.43809477006019, 10.43809477006019, 10.111239307503844, 7.608782889825528, 7.55592433503089, 6.637875801291074, 6.149200616254405, 2.782282799944878, 0.0, 0.0], \"y\": [0.0, 0.0, 7.691256471720301, 7.486007820055409, 6.975663951873186, 8.626187819525427, 10.44686103679169, 10.44686103679169, 10.44686103679169, 10.44686103679169, 10.44686103679169, 10.44686103679169, 10.44686103679169], \"type\": \"scatter\"}]}, {\"data\": [{\"mode\": \"lines+markers\", \"name\": \"estimated pareto\", \"x\": [8.180482725322042, 8.180482725322042, 8.180482725322042, 7.513077861098761, 6.770668498727068, 5.656171609894182, 5.448052604152703, 4.940828739540212, 2.2888374463188206, 0.0, 0.0], \"y\": [0.0, 0.0, 2.13543452680325, 5.9576230214489, 6.170711447894903, 7.173219385947532, 7.217883569410541, 8.529340453965386, 9.650917956417763, 9.650917956417763, 9.650917956417763], \"type\": \"scatter\"}, {\"mode\": \"lines+markers\", \"name\": \"tentative pareto\", \"x\": [10.43809477006019, 10.43809477006019, 10.43809477006019, 10.43809477006019, 10.43809477006019, 10.43809477006019, 6.548206932428476, 6.382547036941346, 5.230540571829294, 4.5388694185971605, 3.662611419756308, 0.0, 0.0], \"y\": [0.0, 0.0, 9.405602410816163, 8.064472460640408, 7.529267484130322, 4.340795434029113, 10.44686103679169, 10.44686103679169, 10.44686103679169, 10.44686103679169, 10.44686103679169, 10.44686103679169, 10.44686103679169], \"type\": \"scatter\"}]}, {\"data\": [{\"mode\": \"lines+markers\", \"name\": \"estimated pareto\", \"x\": [8.180482725322042, 8.180482725322042, 8.180482725322042, 7.513077861098761, 6.770668498727068, 5.656171609894182, 5.448052604152703, 4.940828739540212, 2.2888374463188206, 0.0, 0.0], \"y\": [0.0, 0.0, 2.13543452680325, 5.9576230214489, 6.170711447894903, 7.173219385947532, 7.217883569410541, 8.529340453965386, 9.650917956417763, 9.650917956417763, 9.650917956417763], \"type\": \"scatter\"}, {\"mode\": \"lines+markers\", \"name\": \"tentative pareto\", \"x\": [10.43809477006019, 10.43809477006019, 10.43809477006019, 10.43809477006019, 10.43809477006019, 10.336400500556785, 4.940828739540212, 2.2888374463188206, 0.0, 0.0], \"y\": [0.0, 0.0, 5.022899607957501, 4.9481959519193515, 4.263265215666384, 8.26435157280928, 8.529340453965386, 9.650917956417763, 9.650917956417763, 9.650917956417763], \"type\": \"scatter\"}]}, {\"data\": [{\"mode\": \"lines+markers\", \"name\": \"estimated pareto\", \"x\": [8.180482725322042, 8.180482725322042, 8.180482725322042, 7.513077861098761, 6.770668498727068, 5.656171609894182, 5.448052604152703, 4.940828739540212, 2.2888374463188206, 0.0, 0.0], \"y\": [0.0, 0.0, 2.13543452680325, 5.9576230214489, 6.170711447894903, 7.173219385947532, 7.217883569410541, 8.529340453965386, 9.650917956417763, 9.650917956417763, 9.650917956417763], \"type\": \"scatter\"}, {\"mode\": \"lines+markers\", \"name\": \"tentative pareto\", \"x\": [10.43809477006019, 10.43809477006019, 10.43809477006019, 10.43809477006019, 10.43809477006019, 10.128288474213615, 9.654808982414393, 7.60363492937159, 0.0, 0.0], \"y\": [0.0, 0.0, 4.034976859263358, 3.7921960203519127, 3.027454238329853, 7.233705578193282, 8.192651785342061, 10.44686103679169, 10.44686103679169, 10.44686103679169], \"type\": \"scatter\"}]}, {\"data\": [{\"mode\": \"lines+markers\", \"name\": \"estimated pareto\", \"x\": [8.180482725322042, 8.180482725322042, 8.180482725322042, 7.513077861098761, 6.770668498727068, 5.656171609894182, 5.448052604152703, 4.940828739540212, 2.2888374463188206, 0.0, 0.0], \"y\": [0.0, 0.0, 2.13543452680325, 5.9576230214489, 6.170711447894903, 7.173219385947532, 7.217883569410541, 8.529340453965386, 9.650917956417763, 9.650917956417763, 9.650917956417763], \"type\": \"scatter\"}, {\"mode\": \"lines+markers\", \"name\": \"tentative pareto\", \"x\": [10.43809477006019, 10.43809477006019, 10.43809477006019, 10.43809477006019, 10.43809477006019, 10.111239307503844, 10.111239307503844, 10.111239307503844, 5.957132603337162, 3.4082209967197086, 3.358909247181779, 0.0, 0.0], \"y\": [0.0, 0.0, 6.428709457929311, 5.235938923902641, 3.5965599705946087, 8.222715957678048, 7.650450592639721, 7.038845095644101, 10.44686103679169, 10.44686103679169, 10.44686103679169, 10.44686103679169, 10.44686103679169], \"type\": \"scatter\"}]}, {\"data\": [{\"mode\": \"lines+markers\", \"name\": \"estimated pareto\", \"x\": [8.180482725322042, 8.180482725322042, 8.180482725322042, 7.513077861098761, 6.770668498727068, 5.656171609894182, 5.448052604152703, 4.940828739540212, 2.2888374463188206, 0.0, 0.0], \"y\": [0.0, 0.0, 2.13543452680325, 5.9576230214489, 6.170711447894903, 7.173219385947532, 7.217883569410541, 8.529340453965386, 9.650917956417763, 9.650917956417763, 9.650917956417763], \"type\": \"scatter\"}, {\"mode\": \"lines+markers\", \"name\": \"tentative pareto\", \"x\": [10.43809477006019, 10.43809477006019, 10.43809477006019, 10.43809477006019, 10.43809477006019, 9.487563452161812, 7.841063216221526, 6.926052951137747, 6.093438724976904, 3.5990597896626286, 2.124851064689914, 0.0, 0.0], \"y\": [0.0, 0.0, 7.97840467927118, 7.813560462037737, 5.3439744592049045, 8.066268216188712, 10.44686103679169, 10.44686103679169, 10.44686103679169, 10.44686103679169, 10.44686103679169, 10.44686103679169, 10.44686103679169], \"type\": \"scatter\"}]}, {\"data\": [{\"mode\": \"lines+markers\", \"name\": \"estimated pareto\", \"x\": [8.180482725322042, 8.180482725322042, 8.180482725322042, 7.513077861098761, 6.770668498727068, 5.656171609894182, 5.448052604152703, 4.940828739540212, 2.2888374463188206, 0.0, 0.0], \"y\": [0.0, 0.0, 2.13543452680325, 5.9576230214489, 6.170711447894903, 7.173219385947532, 7.217883569410541, 8.529340453965386, 9.650917956417763, 9.650917956417763, 9.650917956417763], \"type\": \"scatter\"}, {\"mode\": \"lines+markers\", \"name\": \"tentative pareto\", \"x\": [8.630399103541656, 8.630399103541656, 8.630399103541656, 6.415099492403403, 5.027089622948181, 3.6703205555775513, 3.4320111643701923, 3.129634914750969, 0.0, 0.0], \"y\": [0.0, 0.0, 9.26490462171106, 9.55893674730147, 10.462435461176039, 11.371442335355027, 11.371442335355027, 11.371442335355027, 11.371442335355027, 11.371442335355027], \"type\": \"scatter\"}]}, {\"data\": [{\"mode\": \"lines+markers\", \"name\": \"estimated pareto\", \"x\": [8.672984108531022, 8.672984108531022, 8.672984108531022, 7.513077861098761, 6.770668498727068, 5.656171609894182, 5.448052604152703, 4.940828739540212, 2.2888374463188206, 0.0, 0.0], \"y\": [0.0, 0.0, 2.78061202393153, 5.9576230214489, 6.170711447894903, 7.173219385947532, 7.217883569410541, 8.529340453965386, 9.650917956417763, 9.650917956417763, 9.650917956417763], \"type\": \"scatter\"}, {\"mode\": \"lines+markers\", \"name\": \"tentative pareto\", \"x\": [8.672984108531022, 8.672984108531022, 8.672984108531022, 7.513077861098761, 7.011815921577574, 4.3732711630918235, 4.3026112981666955, 0.0, 0.0], \"y\": [0.0, 0.0, 2.78061202393153, 5.9576230214489, 10.230895528917989, 10.629883834453462, 11.371442335355027, 11.371442335355027, 11.371442335355027], \"type\": \"scatter\"}]}, {\"data\": [{\"mode\": \"lines+markers\", \"name\": \"estimated pareto\", \"x\": [8.672984108531022, 8.672984108531022, 8.672984108531022, 7.513077861098761, 6.770668498727068, 5.656171609894182, 5.448052604152703, 4.940828739540212, 2.2888374463188206, 0.0, 0.0], \"y\": [0.0, 0.0, 2.78061202393153, 5.9576230214489, 6.170711447894903, 7.173219385947532, 7.217883569410541, 8.529340453965386, 9.650917956417763, 9.650917956417763, 9.650917956417763], \"type\": \"scatter\"}, {\"mode\": \"lines+markers\", \"name\": \"tentative pareto\", \"x\": [9.20537718794785, 9.20537718794785, 9.20537718794785, 9.20537718794785, 9.182990184779907, 4.482493043705986, 4.229154355343069, 3.873358302606144, 2.3879272105981064, 1.916605983797461, 0.0, 0.0], \"y\": [0.0, 0.0, 8.382250721396783, 2.946473280796599, 8.802073745097577, 10.629883834453462, 11.371442335355027, 11.371442335355027, 11.371442335355027, 11.371442335355027, 11.371442335355027, 11.371442335355027], \"type\": \"scatter\"}]}, {\"data\": [{\"mode\": \"lines+markers\", \"name\": \"estimated pareto\", \"x\": [8.672984108531022, 8.672984108531022, 8.672984108531022, 8.05269279162309, 7.513077861098761, 6.770668498727068, 5.656171609894182, 5.448052604152703, 4.940828739540212, 2.2888374463188206, 0.0, 0.0], \"y\": [0.0, 0.0, 2.78061202393153, 4.972236643294501, 5.9576230214489, 6.170711447894903, 7.173219385947532, 7.217883569410541, 8.529340453965386, 9.650917956417763, 9.650917956417763, 9.650917956417763], \"type\": \"scatter\"}, {\"mode\": \"lines+markers\", \"name\": \"tentative pareto\", \"x\": [8.672984108531022, 8.672984108531022, 8.672984108531022, 8.05269279162309, 7.513077861098761, 6.770668498727068, 5.656171609894182, 5.448052604152703, 4.940828739540212, 4.3962813664628975, 1.228279216241835, -0.26702833365703893, 0.0, 0.0], \"y\": [0.0, 0.0, 2.78061202393153, 4.972236643294501, 5.9576230214489, 6.170711447894903, 7.173219385947532, 7.217883569410541, 8.529340453965386, 11.371442335355027, 11.371442335355027, 11.371442335355027, 11.371442335355027, 11.371442335355027], \"type\": \"scatter\"}]}, {\"data\": [{\"mode\": \"lines+markers\", \"name\": \"estimated pareto\", \"x\": [8.672984108531022, 8.672984108531022, 8.672984108531022, 8.05269279162309, 7.513077861098761, 6.770668498727068, 5.656171609894182, 5.448052604152703, 4.940828739540212, 2.2888374463188206, 0.0, 0.0], \"y\": [0.0, 0.0, 2.78061202393153, 4.972236643294501, 5.9576230214489, 6.170711447894903, 7.173219385947532, 7.217883569410541, 8.529340453965386, 9.650917956417763, 9.650917956417763, 9.650917956417763], \"type\": \"scatter\"}, {\"mode\": \"lines+markers\", \"name\": \"tentative pareto\", \"x\": [8.672984108531022, 8.672984108531022, 8.672984108531022, 8.275236090071115, 8.275236090071115, 7.7958218971214475, 7.7958218971214475, 7.146920628318041, 6.145503823927651, 5.55782920064121, 2.0657207090564382, 0.2193468080770007, -0.755220875238994, 0.0, 0.0], \"y\": [0.0, 0.0, 2.78061202393153, 5.740281556146476, 4.675776105051421, 8.15283737799259, 8.058361844512408, 9.82696032680394, 10.462435461176039, 10.462435461176039, 11.371442335355027, 11.371442335355027, 11.371442335355027, 11.371442335355027, 11.371442335355027], \"type\": \"scatter\"}]}, {\"data\": [{\"mode\": \"lines+markers\", \"name\": \"estimated pareto\", \"x\": [8.672984108531022, 8.672984108531022, 8.672984108531022, 8.05269279162309, 7.513077861098761, 6.770668498727068, 5.656171609894182, 5.448052604152703, 4.940828739540212, 2.2888374463188206, 0.0, 0.0], \"y\": [0.0, 0.0, 2.78061202393153, 4.972236643294501, 5.9576230214489, 6.170711447894903, 7.173219385947532, 7.217883569410541, 8.529340453965386, 9.650917956417763, 9.650917956417763, 9.650917956417763], \"type\": \"scatter\"}, {\"mode\": \"lines+markers\", \"name\": \"tentative pareto\", \"x\": [9.20537718794785, 9.20537718794785, 9.20537718794785, 9.20537718794785, 9.20537718794785, 7.7958218971214475, 4.65819488663513, 3.1490255360713064, 2.211259600435874, 1.974192031313786, 0.7009664245990608, 0.0, 0.0], \"y\": [0.0, 0.0, 9.574280289717553, 6.259158032274948, 2.431458441517573, 10.462435461176039, 10.880298286521233, 11.371442335355027, 11.371442335355027, 11.371442335355027, 11.371442335355027, 11.371442335355027, 11.371442335355027], \"type\": \"scatter\"}]}, {\"data\": [{\"mode\": \"lines+markers\", \"name\": \"estimated pareto\", \"x\": [8.672984108531022, 8.672984108531022, 8.672984108531022, 8.258313370734408, 7.513077861098761, 6.770668498727068, 5.656171609894182, 5.448052604152703, 4.940828739540212, 2.2888374463188206, 0.0, 0.0], \"y\": [0.0, 0.0, 2.78061202393153, 5.224934788815689, 5.9576230214489, 6.170711447894903, 7.173219385947532, 7.217883569410541, 8.529340453965386, 9.650917956417763, 9.650917956417763, 9.650917956417763], \"type\": \"scatter\"}, {\"mode\": \"lines+markers\", \"name\": \"tentative pareto\", \"x\": [9.265950819974247, 9.265950819974247, 9.265950819974247, 9.265950819974247, 9.265950819974247, 9.075533461430968, 8.506089107095525, 4.940828739540212, 3.505326525967469, 0.0, 0.0], \"y\": [0.0, 0.0, 5.769458616211386, 5.61383310457096, 5.408528093285561, 5.909642439448575, 7.425322490881723, 8.529340453965386, 11.371442335355027, 11.371442335355027, 11.371442335355027], \"type\": \"scatter\"}]}, {\"data\": [{\"mode\": \"lines+markers\", \"name\": \"estimated pareto\", \"x\": [8.672984108531022, 8.672984108531022, 8.672984108531022, 8.258313370734408, 7.513077861098761, 6.770668498727068, 5.656171609894182, 5.448052604152703, 4.940828739540212, 2.2888374463188206, 0.0, 0.0], \"y\": [0.0, 0.0, 2.78061202393153, 5.224934788815689, 5.9576230214489, 6.170711447894903, 7.173219385947532, 7.217883569410541, 8.529340453965386, 9.650917956417763, 9.650917956417763, 9.650917956417763], \"type\": \"scatter\"}, {\"mode\": \"lines+markers\", \"name\": \"tentative pareto\", \"x\": [9.265950819974247, 9.265950819974247, 9.265950819974247, 9.265950819974247, 7.6326552849310385, 4.137616926481253, 2.0438273998356986, 1.9022428877758213, -1.6048183352475063, 0.0, 0.0], \"y\": [0.0, 0.0, 8.293714894614357, 3.9629506281086746, 8.685017571979035, 10.936683596921648, 11.371442335355027, 11.371442335355027, 11.371442335355027, 11.371442335355027, 11.371442335355027], \"type\": \"scatter\"}]}, {\"data\": [{\"mode\": \"lines+markers\", \"name\": \"estimated pareto\", \"x\": [8.672984108531022, 8.672984108531022, 8.672984108531022, 8.258313370734408, 7.513077861098761, 6.770668498727068, 5.656171609894182, 5.448052604152703, 4.940828739540212, 2.2888374463188206, 0.0, 0.0], \"y\": [0.0, 0.0, 2.78061202393153, 5.224934788815689, 5.9576230214489, 6.170711447894903, 7.173219385947532, 7.217883569410541, 8.529340453965386, 9.650917956417763, 9.650917956417763, 9.650917956417763], \"type\": \"scatter\"}, {\"mode\": \"lines+markers\", \"name\": \"tentative pareto\", \"x\": [9.265950819974247, 9.265950819974247, 9.265950819974247, 9.265950819974247, 9.265950819974247, 8.599497473325389, 7.52122927562337, 5.994676452735308, 0.0, 0.0], \"y\": [0.0, 0.0, 4.808800931325007, 4.500356321847012, 3.3814362809399645, 7.949494060956496, 8.778335830380414, 10.462435461176039, 10.462435461176039, 10.462435461176039], \"type\": \"scatter\"}]}, {\"data\": [{\"mode\": \"lines+markers\", \"name\": \"estimated pareto\", \"x\": [8.672984108531022, 8.672984108531022, 8.672984108531022, 8.258313370734408, 7.513077861098761, 6.770668498727068, 5.656171609894182, 5.448052604152703, 4.940828739540212, 2.2888374463188206, 0.0, 0.0], \"y\": [0.0, 0.0, 2.78061202393153, 5.224934788815689, 5.9576230214489, 6.170711447894903, 7.173219385947532, 7.217883569410541, 8.529340453965386, 9.650917956417763, 9.650917956417763, 9.650917956417763], \"type\": \"scatter\"}, {\"mode\": \"lines+markers\", \"name\": \"tentative pareto\", \"x\": [9.265950819974247, 9.265950819974247, 9.265950819974247, 9.265950819974247, 8.421245211032229, 7.452644832357427, 7.426583869013785, 6.622495154108788, 6.550949446635676, 5.748003394069069, 4.57972496160411, 0.0, 0.0], \"y\": [0.0, 0.0, 6.461775805369574, 2.1719737250927826, 7.177168592487607, 9.03227784702512, 9.089932084188776, 10.462435461176039, 10.462435461176039, 10.462435461176039, 10.462435461176039, 10.462435461176039, 10.462435461176039], \"type\": \"scatter\"}]}, {\"data\": [{\"mode\": \"lines+markers\", \"name\": \"estimated pareto\", \"x\": [8.672984108531022, 8.672984108531022, 8.672984108531022, 8.258313370734408, 7.513077861098761, 6.770668498727068, 5.656171609894182, 5.448052604152703, 4.940828739540212, 2.2888374463188206, 0.0, 0.0], \"y\": [0.0, 0.0, 2.78061202393153, 5.224934788815689, 5.9576230214489, 6.170711447894903, 7.173219385947532, 7.217883569410541, 8.529340453965386, 9.650917956417763, 9.650917956417763, 9.650917956417763], \"type\": \"scatter\"}, {\"mode\": \"lines+markers\", \"name\": \"tentative pareto\", \"x\": [8.672984108531022, 8.672984108531022, 8.672984108531022, 8.258313370734408, 7.513077861098761, 6.793165899103854, 4.13452620678034, 0.0, 0.0], \"y\": [0.0, 0.0, 2.78061202393153, 5.224934788815689, 5.9576230214489, 9.925086380974442, 10.462435461176039, 10.462435461176039, 10.462435461176039], \"type\": \"scatter\"}]}, {\"data\": [{\"mode\": \"lines+markers\", \"name\": \"estimated pareto\", \"x\": [8.672984108531022, 8.672984108531022, 8.672984108531022, 8.258313370734408, 7.513077861098761, 6.770668498727068, 5.656171609894182, 5.448052604152703, 4.940828739540212, 2.2888374463188206, 0.0, 0.0], \"y\": [0.0, 0.0, 2.78061202393153, 5.224934788815689, 5.9576230214489, 6.170711447894903, 7.173219385947532, 7.217883569410541, 8.529340453965386, 9.650917956417763, 9.650917956417763, 9.650917956417763], \"type\": \"scatter\"}, {\"mode\": \"lines+markers\", \"name\": \"tentative pareto\", \"x\": [9.049462129570564, 9.049462129570564, 9.049462129570564, 9.049462129570564, 9.049462129570564, 8.258313370734408, 8.098218187898771, 7.549456479545618, 7.323271869349778, 7.194991083893865, 5.516730041518595, 0.0, 0.0], \"y\": [0.0, 0.0, 5.089779410386081, 5.069133934593117, -1.9570465537644752, 5.224934788815689, 8.48713951232111, 8.48713951232111, 8.48713951232111, 9.392667696278844, 9.905447241645788, 9.905447241645788, 9.905447241645788], \"type\": \"scatter\"}]}, {\"data\": [{\"mode\": \"lines+markers\", \"name\": \"estimated pareto\", \"x\": [8.672984108531022, 8.672984108531022, 8.672984108531022, 8.258313370734408, 7.513077861098761, 6.770668498727068, 5.656171609894182, 5.448052604152703, 4.940828739540212, 2.2888374463188206, 0.0, 0.0], \"y\": [0.0, 0.0, 2.78061202393153, 5.224934788815689, 5.9576230214489, 6.170711447894903, 7.173219385947532, 7.217883569410541, 8.529340453965386, 9.650917956417763, 9.650917956417763, 9.650917956417763], \"type\": \"scatter\"}, {\"mode\": \"lines+markers\", \"name\": \"tentative pareto\", \"x\": [9.049462129570564, 9.049462129570564, 9.049462129570564, 9.049462129570564, 9.049462129570564, 8.512114351877015, 6.825143681797371, 6.791329173651503, 6.512942851845871, 6.406160362083879, 6.171908402141933, 0.0, 0.0], \"y\": [0.0, 0.0, 3.0980933892588043, 3.038696769892498, 2.1345622073292216, 7.550548370666949, 8.13541175945743, 8.923549685551736, 10.462435461176039, 10.462435461176039, 10.462435461176039, 10.462435461176039, 10.462435461176039], \"type\": \"scatter\"}]}, {\"data\": [{\"mode\": \"lines+markers\", \"name\": \"estimated pareto\", \"x\": [8.672984108531022, 8.672984108531022, 8.672984108531022, 8.258313370734408, 7.513077861098761, 6.770668498727068, 5.656171609894182, 5.448052604152703, 4.940828739540212, 2.2888374463188206, 0.0, 0.0], \"y\": [0.0, 0.0, 2.78061202393153, 5.224934788815689, 5.9576230214489, 6.170711447894903, 7.173219385947532, 7.217883569410541, 8.529340453965386, 9.650917956417763, 9.650917956417763, 9.650917956417763], \"type\": \"scatter\"}, {\"mode\": \"lines+markers\", \"name\": \"tentative pareto\", \"x\": [9.11433730070476, 9.11433730070476, 9.11433730070476, 9.11433730070476, 9.11433730070476, 9.11433730070476, 9.11433730070476, 7.0638100499045375, 0.0, 0.0], \"y\": [0.0, 0.0, 8.893055488311136, 8.39021619865956, 6.733328629130166, 6.368571199159939, 4.546901878828935, 10.32839292512373, 10.32839292512373, 10.32839292512373], \"type\": \"scatter\"}]}, {\"data\": [{\"mode\": \"lines+markers\", \"name\": \"estimated pareto\", \"x\": [8.672984108531022, 8.672984108531022, 8.672984108531022, 8.258313370734408, 7.513077861098761, 6.770668498727068, 5.656171609894182, 5.448052604152703, 4.940828739540212, 2.2888374463188206, 0.0, 0.0], \"y\": [0.0, 0.0, 2.78061202393153, 5.224934788815689, 5.9576230214489, 6.170711447894903, 7.173219385947532, 7.217883569410541, 8.529340453965386, 9.650917956417763, 9.650917956417763, 9.650917956417763], \"type\": \"scatter\"}, {\"mode\": \"lines+markers\", \"name\": \"tentative pareto\", \"x\": [9.11433730070476, 9.11433730070476, 9.11433730070476, 9.11433730070476, 9.11433730070476, 9.11433730070476, 7.855278977518934, 4.642430417773104, 1.7476672990066486, 1.2265989630387142, 0.0, 0.0], \"y\": [0.0, 0.0, 9.188997325641862, 7.633631079015369, 5.638673830679789, 5.585112306027164, 10.196548438717315, 10.32839292512373, 10.458267173587053, 10.458267173587053, 10.458267173587053, 10.458267173587053], \"type\": \"scatter\"}]}, {\"data\": [{\"mode\": \"lines+markers\", \"name\": \"estimated pareto\", \"x\": [8.672984108531022, 8.672984108531022, 8.672984108531022, 8.258313370734408, 7.513077861098761, 7.093950619297406, 5.656171609894182, 5.448052604152703, 4.940828739540212, 2.2888374463188206, 0.0, 0.0], \"y\": [0.0, 0.0, 2.78061202393153, 5.224934788815689, 5.9576230214489, 6.42168859050172, 7.173219385947532, 7.217883569410541, 8.529340453965386, 9.650917956417763, 9.650917956417763, 9.650917956417763], \"type\": \"scatter\"}, {\"mode\": \"lines+markers\", \"name\": \"tentative pareto\", \"x\": [9.161682321402033, 9.161682321402033, 9.161682321402033, 8.367541416559167, 0.0, 0.0], \"y\": [0.0, 0.0, 10.648729498597207, 10.840185253482948, 10.840185253482948, 10.840185253482948], \"type\": \"scatter\"}]}, {\"data\": [{\"mode\": \"lines+markers\", \"name\": \"estimated pareto\", \"x\": [8.672984108531022, 8.672984108531022, 8.672984108531022, 8.258313370734408, 7.513077861098761, 7.093950619297406, 5.656171609894182, 5.448052604152703, 4.940828739540212, 2.2888374463188206, 0.0, 0.0], \"y\": [0.0, 0.0, 2.78061202393153, 5.224934788815689, 5.9576230214489, 6.42168859050172, 7.173219385947532, 7.217883569410541, 8.529340453965386, 9.650917956417763, 9.650917956417763, 9.650917956417763], \"type\": \"scatter\"}, {\"mode\": \"lines+markers\", \"name\": \"tentative pareto\", \"x\": [9.161682321402033, 9.161682321402033, 9.161682321402033, 9.161682321402033, 9.161682321402033, 9.161682321402033, 5.656171609894182, 5.448052604152703, 4.940828739540212, 2.2888374463188206, 0.0, 0.0], \"y\": [0.0, 0.0, 6.4587124717152715, 4.755588328347768, 4.373558134893089, 1.730283559879759, 7.173219385947532, 7.217883569410541, 8.529340453965386, 9.650917956417763, 9.650917956417763, 9.650917956417763], \"type\": \"scatter\"}]}, {\"data\": [{\"mode\": \"lines+markers\", \"name\": \"estimated pareto\", \"x\": [8.672984108531022, 8.672984108531022, 8.672984108531022, 8.258313370734408, 7.513077861098761, 7.093950619297406, 5.656171609894182, 5.448052604152703, 4.940828739540212, 2.2888374463188206, 0.0, 0.0], \"y\": [0.0, 0.0, 2.78061202393153, 5.224934788815689, 5.9576230214489, 6.42168859050172, 7.173219385947532, 7.217883569410541, 8.529340453965386, 9.650917956417763, 9.650917956417763, 9.650917956417763], \"type\": \"scatter\"}, {\"mode\": \"lines+markers\", \"name\": \"tentative pareto\", \"x\": [9.161682321402033, 9.161682321402033, 9.161682321402033, 9.161682321402033, 9.161682321402033, 6.283783544074255, 4.118869790674815, 0.0, 0.0], \"y\": [0.0, 0.0, 10.501195285625315, 3.030641393921888, 2.951593771561393, 10.840185253482948, 10.840185253482948, 10.840185253482948, 10.840185253482948], \"type\": \"scatter\"}]}, {\"data\": [{\"mode\": \"lines+markers\", \"name\": \"estimated pareto\", \"x\": [8.672984108531022, 8.672984108531022, 8.672984108531022, 8.258313370734408, 7.513077861098761, 7.093950619297406, 5.656171609894182, 5.448052604152703, 4.940828739540212, 2.2888374463188206, 0.0, 0.0], \"y\": [0.0, 0.0, 2.78061202393153, 5.224934788815689, 5.9576230214489, 6.42168859050172, 7.173219385947532, 7.217883569410541, 8.529340453965386, 9.650917956417763, 9.650917956417763, 9.650917956417763], \"type\": \"scatter\"}, {\"mode\": \"lines+markers\", \"name\": \"tentative pareto\", \"x\": [9.161682321402033, 9.161682321402033, 9.161682321402033, 8.258313370734408, 7.513077861098761, 7.093950619297406, 5.656171609894182, 5.64751672451683, 5.42736685007209, 0.0, 0.0], \"y\": [0.0, 0.0, 3.0310182904737517, 5.224934788815689, 5.9576230214489, 6.42168859050172, 7.173219385947532, 10.840185253482948, 10.840185253482948, 10.840185253482948, 10.840185253482948], \"type\": \"scatter\"}]}, {\"data\": [{\"mode\": \"lines+markers\", \"name\": \"estimated pareto\", \"x\": [8.672984108531022, 8.672984108531022, 8.672984108531022, 8.258313370734408, 7.513077861098761, 7.093950619297406, 5.656171609894182, 5.448052604152703, 4.940828739540212, 2.2888374463188206, 0.0, 0.0], \"y\": [0.0, 0.0, 2.78061202393153, 5.224934788815689, 5.9576230214489, 6.42168859050172, 7.173219385947532, 7.217883569410541, 8.529340453965386, 9.650917956417763, 9.650917956417763, 9.650917956417763], \"type\": \"scatter\"}, {\"mode\": \"lines+markers\", \"name\": \"tentative pareto\", \"x\": [9.161682321402033, 9.161682321402033, 9.161682321402033, 9.161682321402033, 6.976567176081483, 4.8684286816419995, 0.0, 0.0], \"y\": [0.0, 0.0, 9.363919126812004, 4.246944430187504, 10.37021342125089, 10.840185253482948, 10.840185253482948, 10.840185253482948], \"type\": \"scatter\"}]}, {\"data\": [{\"mode\": \"lines+markers\", \"name\": \"estimated pareto\", \"x\": [8.672984108531022, 8.672984108531022, 8.672984108531022, 8.258313370734408, 7.513077861098761, 7.093950619297406, 5.656171609894182, 5.448052604152703, 4.940828739540212, 2.2888374463188206, 0.0, 0.0], \"y\": [0.0, 0.0, 2.78061202393153, 5.224934788815689, 5.9576230214489, 6.42168859050172, 7.173219385947532, 7.217883569410541, 8.529340453965386, 9.650917956417763, 9.650917956417763, 9.650917956417763], \"type\": \"scatter\"}, {\"mode\": \"lines+markers\", \"name\": \"tentative pareto\", \"x\": [9.161682321402033, 9.161682321402033, 9.161682321402033, 9.161682321402033, 8.633799010957759, 6.992161876944651, 6.738692798255902, 6.3183159315938395, 4.935490855606838, 0.0, 0.0], \"y\": [0.0, 0.0, 7.8396939527566065, 2.381531297357964, 10.524622700946143, 10.536995563765043, 10.840185253482948, 10.840185253482948, 10.840185253482948, 10.840185253482948, 10.840185253482948], \"type\": \"scatter\"}]}, {\"data\": [{\"mode\": \"lines+markers\", \"name\": \"estimated pareto\", \"x\": [8.672984108531022, 8.672984108531022, 8.672984108531022, 8.258313370734408, 7.513077861098761, 7.3281214834165525, 7.093950619297406, 5.656171609894182, 5.448052604152703, 4.940828739540212, 2.2888374463188206, 0.0, 0.0], \"y\": [0.0, 0.0, 2.78061202393153, 5.224934788815689, 5.9576230214489, 6.058875769885431, 6.42168859050172, 7.173219385947532, 7.217883569410541, 8.529340453965386, 9.650917956417763, 9.650917956417763, 9.650917956417763], \"type\": \"scatter\"}, {\"mode\": \"lines+markers\", \"name\": \"tentative pareto\", \"x\": [9.161682321402033, 9.161682321402033, 9.161682321402033, 9.161682321402033, 9.161682321402033, 7.7958218971214475, 7.339440026891391, 6.390000132041891, 6.258680525134315, 5.672345943432667, 0.0, 0.0], \"y\": [0.0, 0.0, 9.008777331291348, 8.148713529012415, 5.696889939003254, 10.700354279606742, 10.840185253482948, 10.840185253482948, 10.840185253482948, 10.840185253482948, 10.840185253482948, 10.840185253482948], \"type\": \"scatter\"}]}, {\"data\": [{\"mode\": \"lines+markers\", \"name\": \"estimated pareto\", \"x\": [8.672984108531022, 8.672984108531022, 8.672984108531022, 8.258313370734408, 7.513077861098761, 7.3281214834165525, 7.093950619297406, 5.656171609894182, 5.448052604152703, 4.940828739540212, 2.2888374463188206, 0.0, 0.0], \"y\": [0.0, 0.0, 2.78061202393153, 5.224934788815689, 5.9576230214489, 6.058875769885431, 6.42168859050172, 7.173219385947532, 7.217883569410541, 8.529340453965386, 9.650917956417763, 9.650917956417763, 9.650917956417763], \"type\": \"scatter\"}, {\"mode\": \"lines+markers\", \"name\": \"tentative pareto\", \"x\": [9.161682321402033, 9.161682321402033, 9.161682321402033, 9.161682321402033, 9.161682321402033, 9.161682321402033, 9.161682321402033, 6.7855680704541586, 5.897399075421845, 4.913185378453084, 3.219328612938159, 0.0, 0.0], \"y\": [0.0, 0.0, 10.611430297707809, 9.42206448794466, 7.894469037618698, 3.0071500090706866, 1.8633578691577761, 10.840185253482948, 10.840185253482948, 10.840185253482948, 10.840185253482948, 10.840185253482948, 10.840185253482948], \"type\": \"scatter\"}]}, {\"data\": [{\"mode\": \"lines+markers\", \"name\": \"estimated pareto\", \"x\": [9.098088707580358, 9.098088707580358, 9.098088707580358, 8.672984108531022, 8.258313370734408, 7.513077861098761, 7.3281214834165525, 7.093950619297406, 5.656171609894182, 5.448052604152703, 4.940828739540212, 2.2888374463188206, 0.0, 0.0], \"y\": [0.0, 0.0, 2.689416244391832, 2.78061202393153, 5.224934788815689, 5.9576230214489, 6.058875769885431, 6.42168859050172, 7.173219385947532, 7.217883569410541, 8.529340453965386, 9.650917956417763, 9.650917956417763, 9.650917956417763], \"type\": \"scatter\"}, {\"mode\": \"lines+markers\", \"name\": \"tentative pareto\", \"x\": [9.098088707580358, 9.098088707580358, 9.098088707580358, 8.672984108531022, 8.258313370734408, 7.513077861098761, 7.3281214834165525, 7.093950619297406, 5.656171609894182, 5.448052604152703, 4.940828739540212, 2.2888374463188206, 0.0, 0.0], \"y\": [0.0, 0.0, 2.689416244391832, 2.78061202393153, 5.224934788815689, 5.9576230214489, 6.058875769885431, 6.42168859050172, 7.173219385947532, 7.217883569410541, 8.529340453965386, 9.650917956417763, 9.650917956417763, 9.650917956417763], \"type\": \"scatter\"}]}, {\"data\": [{\"mode\": \"lines+markers\", \"name\": \"estimated pareto\", \"x\": [9.098088707580358, 9.098088707580358, 9.098088707580358, 8.672984108531022, 8.258313370734408, 7.513077861098761, 7.3281214834165525, 7.093950619297406, 5.656171609894182, 5.448052604152703, 4.940828739540212, 2.2888374463188206, 0.0, 0.0], \"y\": [0.0, 0.0, 2.689416244391832, 2.78061202393153, 5.224934788815689, 5.9576230214489, 6.058875769885431, 6.42168859050172, 7.173219385947532, 7.217883569410541, 8.529340453965386, 9.650917956417763, 9.650917956417763, 9.650917956417763], \"type\": \"scatter\"}, {\"mode\": \"lines+markers\", \"name\": \"tentative pareto\", \"x\": [9.098088707580358, 9.098088707580358, 9.098088707580358, 8.80202548042189, 8.087880296486016, 7.7958218971214475, 7.486762688586728, 5.61340607213494, 0.0, 0.0], \"y\": [0.0, 0.0, 2.689416244391832, 7.0910101313945955, 7.332263151613331, 9.036980244420851, 9.972515653442025, 10.700354279606742, 10.700354279606742, 10.700354279606742], \"type\": \"scatter\"}]}, {\"data\": [{\"mode\": \"lines+markers\", \"name\": \"estimated pareto\", \"x\": [9.098088707580358, 9.098088707580358, 9.098088707580358, 8.672984108531022, 8.258313370734408, 7.513077861098761, 7.3281214834165525, 7.093950619297406, 5.913339233485462, 4.940828739540212, 2.2888374463188206, 0.0, 0.0], \"y\": [0.0, 0.0, 2.689416244391832, 2.78061202393153, 5.224934788815689, 5.9576230214489, 6.058875769885431, 6.42168859050172, 7.667465697133285, 8.529340453965386, 9.650917956417763, 9.650917956417763, 9.650917956417763], \"type\": \"scatter\"}, {\"mode\": \"lines+markers\", \"name\": \"tentative pareto\", \"x\": [9.098088707580358, 9.098088707580358, 9.098088707580358, 8.80202548042189, 8.80202548042189, 8.80202548042189, 8.80202548042189, 8.80202548042189, 8.80202548042189, 8.80202548042189, 5.913339233485462, 4.940828739540212, 2.2888374463188206, 0.0, 0.0], \"y\": [0.0, 0.0, 2.689416244391832, 7.503152130734444, 6.527324364889875, 6.405732154440103, 5.90860527391352, 5.434593117705035, 4.2523481000028385, 4.101431738600419, 7.667465697133285, 8.529340453965386, 9.650917956417763, 9.650917956417763, 9.650917956417763], \"type\": \"scatter\"}]}, {\"data\": [{\"mode\": \"lines+markers\", \"name\": \"estimated pareto\", \"x\": [9.098088707580358, 9.098088707580358, 9.098088707580358, 8.672984108531022, 8.258313370734408, 7.513077861098761, 7.3281214834165525, 7.093950619297406, 5.913339233485462, 4.940828739540212, 2.445651218505087, 2.2888374463188206, 0.0, 0.0], \"y\": [0.0, 0.0, 2.689416244391832, 2.78061202393153, 5.224934788815689, 5.9576230214489, 6.058875769885431, 6.42168859050172, 7.667465697133285, 8.529340453965386, 9.042846597783457, 9.650917956417763, 9.650917956417763, 9.650917956417763], \"type\": \"scatter\"}, {\"mode\": \"lines+markers\", \"name\": \"tentative pareto\", \"x\": [9.098088707580358, 9.098088707580358, 9.098088707580358, 8.80202548042189, 7.513077861098761, 7.3281214834165525, 7.093950619297406, 6.733382877160586, 6.332109227637071, 4.940828739540212, 2.445651218505087, 2.2888374463188206, 0.0, 0.0], \"y\": [0.0, 0.0, 2.689416244391832, 5.311493493272844, 5.9576230214489, 6.058875769885431, 6.42168859050172, 7.540092045170841, 8.185361804504492, 8.529340453965386, 9.042846597783457, 9.650917956417763, 9.650917956417763, 9.650917956417763], \"type\": \"scatter\"}]}, {\"data\": [{\"mode\": \"lines+markers\", \"name\": \"estimated pareto\", \"x\": [9.098088707580358, 9.098088707580358, 9.098088707580358, 8.672984108531022, 8.258313370734408, 7.513077861098761, 7.3281214834165525, 7.093950619297406, 6.307403877865244, 5.913339233485462, 4.940828739540212, 2.445651218505087, 2.2888374463188206, 0.0, 0.0], \"y\": [0.0, 0.0, 2.689416244391832, 2.78061202393153, 5.224934788815689, 5.9576230214489, 6.058875769885431, 6.42168859050172, 6.573264711106771, 7.667465697133285, 8.529340453965386, 9.042846597783457, 9.650917956417763, 9.650917956417763, 9.650917956417763], \"type\": \"scatter\"}, {\"mode\": \"lines+markers\", \"name\": \"tentative pareto\", \"x\": [9.098088707580358, 9.098088707580358, 9.098088707580358, 8.672984108531022, 8.258313370734408, 7.513077861098761, 7.3281214834165525, 7.093950619297406, 6.307403877865244, 5.913339233485462, 4.940828739540212, 2.445651218505087, 2.2888374463188206, 0.0, 0.0], \"y\": [0.0, 0.0, 2.689416244391832, 2.78061202393153, 5.224934788815689, 5.9576230214489, 6.058875769885431, 6.42168859050172, 6.573264711106771, 7.667465697133285, 8.529340453965386, 9.042846597783457, 9.650917956417763, 9.650917956417763, 9.650917956417763], \"type\": \"scatter\"}]}, {\"data\": [{\"mode\": \"lines+markers\", \"name\": \"estimated pareto\", \"x\": [9.098088707580358, 9.098088707580358, 9.098088707580358, 8.672984108531022, 8.258313370734408, 7.513077861098761, 7.3281214834165525, 7.093950619297406, 6.307403877865244, 5.913339233485462, 4.940828739540212, 2.445651218505087, 2.2888374463188206, 0.0, 0.0], \"y\": [0.0, 0.0, 2.689416244391832, 2.78061202393153, 5.224934788815689, 5.9576230214489, 6.058875769885431, 6.42168859050172, 6.573264711106771, 7.667465697133285, 8.529340453965386, 9.042846597783457, 9.650917956417763, 9.650917956417763, 9.650917956417763], \"type\": \"scatter\"}, {\"mode\": \"lines+markers\", \"name\": \"tentative pareto\", \"x\": [9.098088707580358, 9.098088707580358, 9.098088707580358, 8.672984108531022, 8.258313370734408, 7.513077861098761, 7.3281214834165525, 7.093950619297406, 6.307403877865244, 5.913339233485462, 4.940828739540212, 2.445651218505087, 2.2888374463188206, 0.0, 0.0], \"y\": [0.0, 0.0, 2.689416244391832, 2.78061202393153, 5.224934788815689, 5.9576230214489, 6.058875769885431, 6.42168859050172, 6.573264711106771, 7.667465697133285, 8.529340453965386, 9.042846597783457, 9.650917956417763, 9.650917956417763, 9.650917956417763], \"type\": \"scatter\"}]}, {\"data\": [{\"mode\": \"lines+markers\", \"name\": \"estimated pareto\", \"x\": [9.098088707580358, 9.098088707580358, 8.672984108531022, 8.258313370734408, 7.513077861098761, 7.3281214834165525, 7.093950619297406, 6.307403877865244, 5.913339233485462, 4.940828739540212, 2.445651218505087, 2.2888374463188206, 0.0], \"y\": [0.0, 2.689416244391832, 2.78061202393153, 5.224934788815689, 5.9576230214489, 6.058875769885431, 6.42168859050172, 6.573264711106771, 7.667465697133285, 8.529340453965386, 9.042846597783457, 9.650917956417763, 9.650917956417763], \"type\": \"scatter\"}, {\"mode\": \"lines+markers\", \"name\": \"tentative pareto\", \"x\": [9.098088707580358, 9.098088707580358, 8.672984108531022, 8.258313370734408, 7.513077861098761, 7.3281214834165525, 7.093950619297406, 6.307403877865244, 5.913339233485462, 4.940828739540212, 2.445651218505087, 2.2888374463188206, 0.0], \"y\": [0.0, 2.689416244391832, 2.78061202393153, 5.224934788815689, 5.9576230214489, 6.058875769885431, 6.42168859050172, 6.573264711106771, 7.667465697133285, 8.529340453965386, 9.042846597783457, 9.650917956417763, 9.650917956417763], \"type\": \"scatter\"}]}, {\"data\": [{\"mode\": \"lines+markers\", \"name\": \"estimated pareto\", \"x\": [9.098088707580358, 9.098088707580358, 8.672984108531022, 8.258313370734408, 7.513077861098761, 7.3281214834165525, 7.093950619297406, 6.307403877865244, 5.913339233485462, 4.940828739540212, 2.445651218505087, 2.2888374463188206, 0.0], \"y\": [0.0, 2.689416244391832, 2.78061202393153, 5.224934788815689, 5.9576230214489, 6.058875769885431, 6.42168859050172, 6.573264711106771, 7.667465697133285, 8.529340453965386, 9.042846597783457, 9.650917956417763, 9.650917956417763], \"type\": \"scatter\"}, {\"mode\": \"lines+markers\", \"name\": \"tentative pareto\", \"x\": [9.098088707580358, 9.098088707580358, 8.672984108531022, 8.258313370734408, 7.513077861098761, 7.3281214834165525, 7.093950619297406, 6.307403877865244, 5.913339233485462, 4.940828739540212, 2.445651218505087, 2.2888374463188206, 0.0], \"y\": [0.0, 2.689416244391832, 2.78061202393153, 5.224934788815689, 5.9576230214489, 6.058875769885431, 6.42168859050172, 6.573264711106771, 7.667465697133285, 8.529340453965386, 9.042846597783457, 9.650917956417763, 9.650917956417763], \"type\": \"scatter\"}]}, {\"data\": [{\"mode\": \"lines+markers\", \"name\": \"estimated pareto\", \"x\": [9.098088707580358, 9.098088707580358, 8.672984108531022, 8.258313370734408, 7.513077861098761, 7.3281214834165525, 7.093950619297406, 6.307403877865244, 6.307403877865244, 5.913339233485462, 4.940828739540212, 2.445651218505087, 2.2888374463188206, 0.0], \"y\": [0.0, 2.689416244391832, 2.78061202393153, 5.224934788815689, 5.9576230214489, 6.058875769885431, 6.42168859050172, 6.573264711106771, 6.573264711106771, 7.667465697133285, 8.529340453965386, 9.042846597783457, 9.650917956417763, 9.650917956417763], \"type\": \"scatter\"}, {\"mode\": \"lines+markers\", \"name\": \"tentative pareto\", \"x\": [9.098088707580358, 9.098088707580358, 8.672984108531022, 8.258313370734408, 7.513077861098761, 7.3281214834165525, 7.093950619297406, 6.307403877865244, 6.307403877865244, 5.913339233485462, 4.940828739540212, 2.445651218505087, 2.2888374463188206, 0.0], \"y\": [0.0, 2.689416244391832, 2.78061202393153, 5.224934788815689, 5.9576230214489, 6.058875769885431, 6.42168859050172, 6.573264711106771, 6.573264711106771, 7.667465697133285, 8.529340453965386, 9.042846597783457, 9.650917956417763, 9.650917956417763], \"type\": \"scatter\"}]}, {\"data\": [{\"mode\": \"lines+markers\", \"name\": \"estimated pareto\", \"x\": [9.098088707580358, 9.098088707580358, 8.672984108531022, 8.258313370734408, 7.513077861098761, 7.3281214834165525, 7.093950619297406, 6.307403877865244, 6.307403877865244, 5.913339233485462, 4.940828739540212, 2.445651218505087, 2.2888374463188206, 0.0], \"y\": [0.0, 2.689416244391832, 2.78061202393153, 5.224934788815689, 5.9576230214489, 6.058875769885431, 6.42168859050172, 6.573264711106771, 6.573264711106771, 7.667465697133285, 8.529340453965386, 9.042846597783457, 9.650917956417763, 9.650917956417763], \"type\": \"scatter\"}, {\"mode\": \"lines+markers\", \"name\": \"tentative pareto\", \"x\": [10.812795196860922, 10.812795196860922, 10.487354976283155, 8.667598996496537, 4.940828739540212, 2.445651218505087, 2.2888374463188206, 0.0], \"y\": [0.0, 7.811556165413677, 8.058116058540755, 8.289962853175417, 8.529340453965386, 9.042846597783457, 9.650917956417763, 9.650917956417763], \"type\": \"scatter\"}]}, {\"data\": [{\"mode\": \"lines+markers\", \"name\": \"estimated pareto\", \"x\": [9.098088707580358, 9.098088707580358, 8.672984108531022, 8.258313370734408, 7.513077861098761, 7.3281214834165525, 7.093950619297406, 6.307403877865244, 6.307403877865244, 5.913339233485462, 4.940828739540212, 2.445651218505087, 2.2888374463188206, 0.0], \"y\": [0.0, 2.689416244391832, 2.78061202393153, 5.224934788815689, 5.9576230214489, 6.058875769885431, 6.42168859050172, 6.573264711106771, 6.573264711106771, 7.667465697133285, 8.529340453965386, 9.042846597783457, 9.650917956417763, 9.650917956417763], \"type\": \"scatter\"}, {\"mode\": \"lines+markers\", \"name\": \"tentative pareto\", \"x\": [9.098088707580358, 9.098088707580358, 8.672984108531022, 8.258313370734408, 7.513077861098761, 7.3281214834165525, 7.093950619297406, 6.307403877865244, 6.307403877865244, 5.913339233485462, 4.940828739540212, 2.445651218505087, 2.2888374463188206, 0.0], \"y\": [0.0, 2.689416244391832, 2.78061202393153, 5.224934788815689, 5.9576230214489, 6.058875769885431, 6.42168859050172, 6.573264711106771, 6.573264711106771, 7.667465697133285, 8.529340453965386, 9.042846597783457, 9.650917956417763, 9.650917956417763], \"type\": \"scatter\"}]}, {\"data\": [{\"mode\": \"lines+markers\", \"name\": \"estimated pareto\", \"x\": [9.098088707580358, 9.098088707580358, 8.672984108531022, 8.258313370734408, 7.513077861098761, 7.3281214834165525, 7.093950619297406, 6.307403877865244, 6.307403877865244, 5.913339233485462, 4.940828739540212, 2.445651218505087, 2.445651218505087, 2.2888374463188206, 0.0], \"y\": [0.0, 2.689416244391832, 2.78061202393153, 5.224934788815689, 5.9576230214489, 6.058875769885431, 6.42168859050172, 6.573264711106771, 6.573264711106771, 7.667465697133285, 8.529340453965386, 9.042846597783457, 9.042846597783457, 9.650917956417763, 9.650917956417763], \"type\": \"scatter\"}, {\"mode\": \"lines+markers\", \"name\": \"tentative pareto\", \"x\": [9.098088707580358, 9.098088707580358, 8.672984108531022, 8.258313370734408, 7.513077861098761, 7.3281214834165525, 7.093950619297406, 6.307403877865244, 6.307403877865244, 5.913339233485462, 4.940828739540212, 2.445651218505087, 2.445651218505087, 2.2888374463188206, 0.0], \"y\": [0.0, 2.689416244391832, 2.78061202393153, 5.224934788815689, 5.9576230214489, 6.058875769885431, 6.42168859050172, 6.573264711106771, 6.573264711106771, 7.667465697133285, 8.529340453965386, 9.042846597783457, 9.042846597783457, 9.650917956417763, 9.650917956417763], \"type\": \"scatter\"}]}, {\"data\": [{\"mode\": \"lines+markers\", \"name\": \"estimated pareto\", \"x\": [9.098088707580358, 9.098088707580358, 8.672984108531022, 8.258313370734408, 7.513077861098761, 7.3281214834165525, 7.093950619297406, 6.307403877865244, 6.307403877865244, 5.913339233485462, 4.940828739540212, 2.445651218505087, 2.445651218505087, 2.2888374463188206, 0.0], \"y\": [0.0, 2.689416244391832, 2.78061202393153, 5.224934788815689, 5.9576230214489, 6.058875769885431, 6.42168859050172, 6.573264711106771, 6.573264711106771, 7.667465697133285, 8.529340453965386, 9.042846597783457, 9.042846597783457, 9.650917956417763, 9.650917956417763], \"type\": \"scatter\"}, {\"mode\": \"lines+markers\", \"name\": \"tentative pareto\", \"x\": [9.098088707580358, 9.098088707580358, 8.672984108531022, 8.258313370734408, 8.185363786184805, 8.185363786184805, 7.616530852472193, 6.867027270614196, 6.530043459341683, 5.888465342128142, 4.940828739540212, 2.445651218505087, 2.445651218505087, 2.2888374463188206, 0.0], \"y\": [0.0, 2.689416244391832, 2.78061202393153, 5.224934788815689, 6.563947591028708, 6.4833637060134315, 8.433082089185751, 8.433082089185751, 8.433082089185751, 8.433082089185751, 8.529340453965386, 9.042846597783457, 9.042846597783457, 9.650917956417763, 9.650917956417763], \"type\": \"scatter\"}]}, {\"data\": [{\"mode\": \"lines+markers\", \"name\": \"estimated pareto\", \"x\": [9.098088707580358, 9.098088707580358, 8.672984108531022, 8.258313370734408, 7.513077861098761, 7.3281214834165525, 7.093950619297406, 6.307403877865244, 6.307403877865244, 5.913339233485462, 4.940828739540212, 2.445651218505087, 2.445651218505087, 2.2888374463188206, 0.0], \"y\": [0.0, 2.689416244391832, 2.78061202393153, 5.224934788815689, 5.9576230214489, 6.058875769885431, 6.42168859050172, 6.573264711106771, 6.573264711106771, 7.667465697133285, 8.529340453965386, 9.042846597783457, 9.042846597783457, 9.650917956417763, 9.650917956417763], \"type\": \"scatter\"}, {\"mode\": \"lines+markers\", \"name\": \"tentative pareto\", \"x\": [9.640254056948196, 9.640254056948196, 9.577120063555473, 9.309883632278755, 8.381983509468181, 7.839326119682954, 2.445651218505087, 2.445651218505087, 2.2888374463188206, 0.0], \"y\": [0.0, 3.71016076216547, 7.331720926642354, 8.843810252896091, 8.843810252896091, 8.843810252896091, 9.042846597783457, 9.042846597783457, 9.650917956417763, 9.650917956417763], \"type\": \"scatter\"}]}, {\"data\": [{\"mode\": \"lines+markers\", \"name\": \"estimated pareto\", \"x\": [9.098088707580358, 9.098088707580358, 8.672984108531022, 8.258313370734408, 7.513077861098761, 7.3281214834165525, 7.093950619297406, 6.307403877865244, 6.307403877865244, 5.913339233485462, 5.913339233485462, 4.940828739540212, 2.445651218505087, 2.445651218505087, 2.2888374463188206, 0.0], \"y\": [0.0, 2.689416244391832, 2.78061202393153, 5.224934788815689, 5.9576230214489, 6.058875769885431, 6.42168859050172, 6.573264711106771, 6.573264711106771, 7.667465697133285, 7.667465697133285, 8.529340453965386, 9.042846597783457, 9.042846597783457, 9.650917956417763, 9.650917956417763], \"type\": \"scatter\"}, {\"mode\": \"lines+markers\", \"name\": \"tentative pareto\", \"x\": [9.640254056948196, 9.640254056948196, 9.640254056948196, 9.640254056948196, 9.640254056948196, 8.581163915723188, 8.451178445845748, 4.6984613206480486, 4.6984613206480486, 4.6984613206480486, 0.0], \"y\": [0.0, 8.843810252896091, 3.856547962729744, 2.7458063799721844, 0.5918327162624117, 8.843810252896091, 8.843810252896091, 10.330094416166748, 8.99390402126861, 8.993410696784219, 10.330094416166748], \"type\": \"scatter\"}]}, {\"data\": [{\"mode\": \"lines+markers\", \"name\": \"estimated pareto\", \"x\": [9.098088707580358, 9.098088707580358, 8.672984108531022, 8.258313370734408, 7.513077861098761, 7.3281214834165525, 7.3281214834165525, 7.093950619297406, 6.307403877865244, 6.307403877865244, 5.913339233485462, 5.913339233485462, 4.940828739540212, 2.445651218505087, 2.445651218505087, 2.2888374463188206, 0.0], \"y\": [0.0, 2.689416244391832, 2.78061202393153, 5.224934788815689, 5.9576230214489, 6.058875769885431, 6.058875769885431, 6.42168859050172, 6.573264711106771, 6.573264711106771, 7.667465697133285, 7.667465697133285, 8.529340453965386, 9.042846597783457, 9.042846597783457, 9.650917956417763, 9.650917956417763], \"type\": \"scatter\"}, {\"mode\": \"lines+markers\", \"name\": \"tentative pareto\", \"x\": [11.461205726094764, 11.461205726094764, 11.421263734853014, 9.72454578189317, 7.333386971580468, 7.11892102394231, 4.6984613206480486, 4.621885556269189, 3.9337520195464526, 2.614868490797701, 2.389072516184585, 1.1156951012345917, 0.1368994885588326, 0.0], \"y\": [0.0, 3.8606888082580686, 7.771400231326467, 8.944289922898538, 8.944289922898538, 8.944289922898538, 9.13118902468406, 9.76441984978172, 9.920166899443954, 10.677643847341633, 10.677643847341633, 10.677643847341633, 10.677643847341633, 10.677643847341633], \"type\": \"scatter\"}]}, {\"data\": [{\"mode\": \"lines+markers\", \"name\": \"estimated pareto\", \"x\": [9.098088707580358, 9.098088707580358, 8.672984108531022, 8.258313370734408, 7.513077861098761, 7.3281214834165525, 7.3281214834165525, 7.093950619297406, 6.307403877865244, 6.307403877865244, 5.913339233485462, 5.913339233485462, 4.940828739540212, 3.1729919800950097, 2.445651218505087, 2.445651218505087, 2.2888374463188206, 0.0], \"y\": [0.0, 2.689416244391832, 2.78061202393153, 5.224934788815689, 5.9576230214489, 6.058875769885431, 6.058875769885431, 6.42168859050172, 6.573264711106771, 6.573264711106771, 7.667465697133285, 7.667465697133285, 8.529340453965386, 8.79875811473882, 9.042846597783457, 9.042846597783457, 9.650917956417763, 9.650917956417763], \"type\": \"scatter\"}, {\"mode\": \"lines+markers\", \"name\": \"tentative pareto\", \"x\": [11.461205726094764, 11.461205726094764, 11.461205726094764, 11.461205726094764, 11.461205726094764, 11.461205726094764, 11.461205726094764, 11.461205726094764, 11.461205726094764, 9.091812018379613, 2.445651218505087, 2.445651218505087, 2.2888374463188206, 0.0], \"y\": [0.0, 7.453405378819797, 6.734496855085864, 4.703013659094662, 4.278852837753289, 3.033537588174433, 2.334217321103894, 1.621238729642216, 1.3629523366897511, 8.944289922898538, 9.042846597783457, 9.042846597783457, 9.650917956417763, 9.650917956417763], \"type\": \"scatter\"}]}, {\"data\": [{\"mode\": \"lines+markers\", \"name\": \"estimated pareto\", \"x\": [9.733697726262688, 9.733697726262688, 9.098088707580358, 8.672984108531022, 8.258313370734408, 7.513077861098761, 7.3281214834165525, 7.3281214834165525, 7.093950619297406, 6.307403877865244, 6.307403877865244, 5.913339233485462, 5.913339233485462, 4.940828739540212, 3.1729919800950097, 2.445651218505087, 2.445651218505087, 2.2888374463188206, 0.0], \"y\": [0.0, 1.9023534680376608, 2.689416244391832, 2.78061202393153, 5.224934788815689, 5.9576230214489, 6.058875769885431, 6.058875769885431, 6.42168859050172, 6.573264711106771, 6.573264711106771, 7.667465697133285, 7.667465697133285, 8.529340453965386, 8.79875811473882, 9.042846597783457, 9.042846597783457, 9.650917956417763, 9.650917956417763], \"type\": \"scatter\"}, {\"mode\": \"lines+markers\", \"name\": \"tentative pareto\", \"x\": [11.461205726094764, 11.461205726094764, 11.461205726094764, 11.461205726094764, 11.461205726094764, 10.06261607730227, 9.463607446187904, 8.423412270111056, 5.249445661406198, 2.607956943977303, 2.445651218505087, 2.445651218505087, 2.2888374463188206, 0.0], \"y\": [0.0, 6.414702745572124, 4.653408249081059, 4.220655971883006, 3.5603653308738843, 7.198099223551614, 8.944289922898538, 8.944289922898538, 8.944289922898538, 8.944289922898538, 9.042846597783457, 9.042846597783457, 9.650917956417763, 9.650917956417763], \"type\": \"scatter\"}]}, {\"data\": [{\"mode\": \"lines+markers\", \"name\": \"estimated pareto\", \"x\": [9.733697726262688, 9.733697726262688, 9.098088707580358, 8.672984108531022, 8.258313370734408, 7.513077861098761, 7.3281214834165525, 7.3281214834165525, 7.093950619297406, 6.307403877865244, 6.307403877865244, 5.913339233485462, 5.913339233485462, 4.940828739540212, 3.1729919800950097, 2.445651218505087, 2.445651218505087, 2.2888374463188206, 0.0], \"y\": [0.0, 1.9023534680376608, 2.689416244391832, 2.78061202393153, 5.224934788815689, 5.9576230214489, 6.058875769885431, 6.058875769885431, 6.42168859050172, 6.573264711106771, 6.573264711106771, 7.667465697133285, 7.667465697133285, 8.529340453965386, 8.79875811473882, 9.042846597783457, 9.042846597783457, 9.650917956417763, 9.650917956417763], \"type\": \"scatter\"}, {\"mode\": \"lines+markers\", \"name\": \"tentative pareto\", \"x\": [11.461205726094764, 11.461205726094764, 11.461205726094764, 11.461205726094764, 11.461205726094764, 11.461205726094764, 11.461205726094764, 9.514540074455322, 9.26896072973545, 8.146449958501002, 3.8197777137595312, 3.6109462304514417, 0.0], \"y\": [0.0, 8.944289922898538, 7.2686029113345025, 5.178386847161383, 3.212083583917704, 3.09680723253762, 2.1099583979074192, 8.944289922898538, 8.944289922898538, 8.944289922898538, 11.47930366246192, 11.47930366246192, 11.47930366246192], \"type\": \"scatter\"}]}, {\"data\": [{\"mode\": \"lines+markers\", \"name\": \"estimated pareto\", \"x\": [9.733697726262688, 9.733697726262688, 9.098088707580358, 8.672984108531022, 8.258313370734408, 7.513077861098761, 7.3281214834165525, 7.3281214834165525, 7.093950619297406, 6.307403877865244, 6.307403877865244, 5.913339233485462, 5.913339233485462, 4.940828739540212, 3.1729919800950097, 2.445651218505087, 2.445651218505087, 2.2888374463188206, 0.0], \"y\": [0.0, 1.9023534680376608, 2.689416244391832, 2.78061202393153, 5.224934788815689, 5.9576230214489, 6.058875769885431, 6.058875769885431, 6.42168859050172, 6.573264711106771, 6.573264711106771, 7.667465697133285, 7.667465697133285, 8.529340453965386, 8.79875811473882, 9.042846597783457, 9.042846597783457, 9.650917956417763, 9.650917956417763], \"type\": \"scatter\"}, {\"mode\": \"lines+markers\", \"name\": \"tentative pareto\", \"x\": [11.461205726094764, 11.461205726094764, 11.461205726094764, 9.39616859526513, 8.92233255358421, 5.817606311473298, 5.056153661815463, 4.200733672248983, 0.0], \"y\": [0.0, 4.786497295535967, 4.5818898534052295, 8.944289922898538, 8.944289922898538, 11.206366242420438, 11.206366242420438, 11.206366242420438, 11.206366242420438], \"type\": \"scatter\"}]}, {\"data\": [{\"mode\": \"lines+markers\", \"name\": \"estimated pareto\", \"x\": [9.733697726262688, 9.733697726262688, 9.098088707580358, 8.672984108531022, 8.258313370734408, 7.513077861098761, 7.3281214834165525, 7.3281214834165525, 7.093950619297406, 6.307403877865244, 6.307403877865244, 5.913339233485462, 5.913339233485462, 4.940828739540212, 3.1729919800950097, 2.445651218505087, 2.445651218505087, 2.2888374463188206, 0.0], \"y\": [0.0, 1.9023534680376608, 2.689416244391832, 2.78061202393153, 5.224934788815689, 5.9576230214489, 6.058875769885431, 6.058875769885431, 6.42168859050172, 6.573264711106771, 6.573264711106771, 7.667465697133285, 7.667465697133285, 8.529340453965386, 8.79875811473882, 9.042846597783457, 9.042846597783457, 9.650917956417763, 9.650917956417763], \"type\": \"scatter\"}, {\"mode\": \"lines+markers\", \"name\": \"tentative pareto\", \"x\": [11.461205726094764, 11.461205726094764, 11.461205726094764, 11.461205726094764, 11.461205726094764, 11.461205726094764, 11.461205726094764, 10.47280872019276, 8.476720939995541, 7.8648480313261135, 7.023191897568617, -0.7204025818885311, 0.0], \"y\": [0.0, 7.849004216038015, 7.452129792296452, 2.254993953999383, 2.0216368939851974, 0.5642433806223641, -0.02900197829451301, 8.944289922898538, 8.944289922898538, 8.944289922898538, 10.285935602968312, 11.206366242420438, 11.206366242420438], \"type\": \"scatter\"}]}, {\"data\": [{\"mode\": \"lines+markers\", \"name\": \"estimated pareto\", \"x\": [9.733697726262688, 9.733697726262688, 9.098088707580358, 8.672984108531022, 8.258313370734408, 7.513077861098761, 7.3281214834165525, 7.3281214834165525, 7.093950619297406, 6.307403877865244, 6.307403877865244, 5.913339233485462, 5.913339233485462, 4.940828739540212, 3.1729919800950097, 2.445651218505087, 2.445651218505087, 2.2888374463188206, 0.0], \"y\": [0.0, 1.9023534680376608, 2.689416244391832, 2.78061202393153, 5.224934788815689, 5.9576230214489, 6.058875769885431, 6.058875769885431, 6.42168859050172, 6.573264711106771, 6.573264711106771, 7.667465697133285, 7.667465697133285, 8.529340453965386, 8.79875811473882, 9.042846597783457, 9.042846597783457, 9.650917956417763, 9.650917956417763], \"type\": \"scatter\"}, {\"mode\": \"lines+markers\", \"name\": \"tentative pareto\", \"x\": [11.461205726094764, 11.461205726094764, 11.461205726094764, 11.461205726094764, 10.448747312986463, 10.280294509240441, 7.832224741132018, 4.612427749028624, 3.61444699949978, 2.417368613473358, -0.49474280877934795, 0.0], \"y\": [0.0, 7.089347098580402, 3.9379417629037095, 3.094372218468939, 8.046145813086087, 8.101765763802417, 11.194541261170109, 11.206366242420438, 11.206366242420438, 11.206366242420438, 11.206366242420438, 11.206366242420438], \"type\": \"scatter\"}]}, {\"data\": [{\"mode\": \"lines+markers\", \"name\": \"estimated pareto\", \"x\": [9.733697726262688, 9.733697726262688, 9.098088707580358, 8.672984108531022, 8.258313370734408, 7.513077861098761, 7.3281214834165525, 7.3281214834165525, 7.093950619297406, 6.307403877865244, 6.307403877865244, 5.913339233485462, 5.913339233485462, 4.940828739540212, 3.1729919800950097, 2.445651218505087, 2.445651218505087, 2.2888374463188206, 0.0], \"y\": [0.0, 1.9023534680376608, 2.689416244391832, 2.78061202393153, 5.224934788815689, 5.9576230214489, 6.058875769885431, 6.058875769885431, 6.42168859050172, 6.573264711106771, 6.573264711106771, 7.667465697133285, 7.667465697133285, 8.529340453965386, 8.79875811473882, 9.042846597783457, 9.042846597783457, 9.650917956417763, 9.650917956417763], \"type\": \"scatter\"}, {\"mode\": \"lines+markers\", \"name\": \"tentative pareto\", \"x\": [11.461205726094764, 11.461205726094764, 11.007645150768134, 7.256473518492202, 6.233625744791361, 2.4333376930606683, 0.0], \"y\": [0.0, 3.9019289155515318, 6.7711001776544855, 9.87166893093372, 11.206366242420438, 11.206366242420438, 11.206366242420438], \"type\": \"scatter\"}]}, {\"data\": [{\"mode\": \"lines+markers\", \"name\": \"estimated pareto\", \"x\": [9.733697726262688, 9.733697726262688, 9.098088707580358, 8.672984108531022, 8.258313370734408, 7.513077861098761, 7.3281214834165525, 7.3281214834165525, 7.093950619297406, 6.307403877865244, 6.307403877865244, 5.913339233485462, 5.913339233485462, 4.940828739540212, 3.1729919800950097, 2.445651218505087, 2.445651218505087, 2.2888374463188206, 0.0], \"y\": [0.0, 1.9023534680376608, 2.689416244391832, 2.78061202393153, 5.224934788815689, 5.9576230214489, 6.058875769885431, 6.058875769885431, 6.42168859050172, 6.573264711106771, 6.573264711106771, 7.667465697133285, 7.667465697133285, 8.529340453965386, 8.79875811473882, 9.042846597783457, 9.042846597783457, 9.650917956417763, 9.650917956417763], \"type\": \"scatter\"}, {\"mode\": \"lines+markers\", \"name\": \"tentative pareto\", \"x\": [11.461205726094764, 11.461205726094764, 11.461205726094764, 11.461205726094764, 11.281137954995978, 7.832224741132018, 6.016147219917526, 3.8199456714829956, 3.2703856436558087, 2.815829785159792, 2.150640111565252, 1.93178875684541, -1.4226159974600723, 0.0], \"y\": [0.0, 4.898279493697851, 3.774218548588386, 1.17904963387153, 8.921188844855344, 11.12106730981279, 11.206366242420438, 11.206366242420438, 11.206366242420438, 11.206366242420438, 11.206366242420438, 11.206366242420438, 11.206366242420438, 11.206366242420438], \"type\": \"scatter\"}]}, {\"data\": [{\"mode\": \"lines+markers\", \"name\": \"estimated pareto\", \"x\": [9.733697726262688, 9.733697726262688, 9.098088707580358, 8.672984108531022, 8.258313370734408, 7.513077861098761, 7.3281214834165525, 7.3281214834165525, 7.093950619297406, 6.307403877865244, 6.307403877865244, 5.913339233485462, 5.913339233485462, 4.940828739540212, 3.1729919800950097, 2.445651218505087, 2.445651218505087, 2.2888374463188206, 0.0], \"y\": [0.0, 1.9023534680376608, 2.689416244391832, 2.78061202393153, 5.224934788815689, 5.9576230214489, 6.058875769885431, 6.058875769885431, 6.42168859050172, 6.573264711106771, 6.573264711106771, 7.667465697133285, 7.667465697133285, 8.529340453965386, 8.79875811473882, 9.042846597783457, 9.042846597783457, 9.650917956417763, 9.650917956417763], \"type\": \"scatter\"}, {\"mode\": \"lines+markers\", \"name\": \"tentative pareto\", \"x\": [9.733697726262688, 9.733697726262688, 9.098088707580358, 8.672984108531022, 8.258313370734408, 7.513077861098761, 7.3281214834165525, 7.3281214834165525, 7.093950619297406, 7.034803210712019, 5.789471986078379, 4.654995684666627, 3.505880873107412, 2.4217985789790912, 0.8252331649872127, -0.5454320699880268, 0.0], \"y\": [0.0, 1.9023534680376608, 2.689416244391832, 2.78061202393153, 5.224934788815689, 5.9576230214489, 6.058875769885431, 6.058875769885431, 6.42168859050172, 10.636216072756909, 11.206366242420438, 11.206366242420438, 11.206366242420438, 11.206366242420438, 11.206366242420438, 11.206366242420438, 11.206366242420438], \"type\": \"scatter\"}]}, {\"data\": [{\"mode\": \"lines+markers\", \"name\": \"estimated pareto\", \"x\": [9.733697726262688, 9.733697726262688, 9.098088707580358, 8.672984108531022, 8.258313370734408, 7.513077861098761, 7.3281214834165525, 7.3281214834165525, 7.093950619297406, 6.307403877865244, 6.307403877865244, 5.913339233485462, 5.913339233485462, 4.940828739540212, 3.1729919800950097, 2.445651218505087, 2.445651218505087, 2.2888374463188206, 0.0], \"y\": [0.0, 1.9023534680376608, 2.689416244391832, 2.78061202393153, 5.224934788815689, 5.9576230214489, 6.058875769885431, 6.058875769885431, 6.42168859050172, 6.573264711106771, 6.573264711106771, 7.667465697133285, 7.667465697133285, 8.529340453965386, 8.79875811473882, 9.042846597783457, 9.042846597783457, 9.650917956417763, 9.650917956417763], \"type\": \"scatter\"}, {\"mode\": \"lines+markers\", \"name\": \"tentative pareto\", \"x\": [10.116828093429977, 10.116828093429977, 10.116828093429977, 10.116828093429977, 9.341307365115911, 8.07515382453814, 7.832224741132018, 7.832224741132018, 4.652538114514335, 4.10495208103814, 0.0], \"y\": [0.0, 5.416551394873223, 5.144973239329434, 2.667272183250276, 9.510579765881916, 9.510579765881916, 11.206366242420438, 10.28152914265581, 11.206366242420438, 11.206366242420438, 11.206366242420438], \"type\": \"scatter\"}]}, {\"data\": [{\"mode\": \"lines+markers\", \"name\": \"estimated pareto\", \"x\": [9.733697726262688, 9.733697726262688, 9.098088707580358, 8.672984108531022, 8.258313370734408, 7.513077861098761, 7.3281214834165525, 7.3281214834165525, 7.093950619297406, 6.307403877865244, 6.307403877865244, 5.913339233485462, 5.913339233485462, 4.940828739540212, 3.1729919800950097, 2.445651218505087, 2.445651218505087, 2.2888374463188206, 0.0], \"y\": [0.0, 1.9023534680376608, 2.689416244391832, 2.78061202393153, 5.224934788815689, 5.9576230214489, 6.058875769885431, 6.058875769885431, 6.42168859050172, 6.573264711106771, 6.573264711106771, 7.667465697133285, 7.667465697133285, 8.529340453965386, 8.79875811473882, 9.042846597783457, 9.042846597783457, 9.650917956417763, 9.650917956417763], \"type\": \"scatter\"}, {\"mode\": \"lines+markers\", \"name\": \"tentative pareto\", \"x\": [10.285790746218286, 10.285790746218286, 10.285790746218286, 10.285790746218286, 10.116828093429977, 9.065815197295569, 2.2888374463188206, 0.0], \"y\": [0.0, 4.101931490184032, 2.7343911207011686, 1.2257054185261214, 9.167448156083594, 9.510579765881916, 9.650917956417763, 9.650917956417763], \"type\": \"scatter\"}]}, {\"data\": [{\"mode\": \"lines+markers\", \"name\": \"estimated pareto\", \"x\": [9.733697726262688, 9.733697726262688, 9.098088707580358, 8.672984108531022, 8.258313370734408, 7.513077861098761, 7.3281214834165525, 7.3281214834165525, 7.093950619297406, 6.307403877865244, 6.307403877865244, 5.913339233485462, 5.913339233485462, 4.940828739540212, 3.1729919800950097, 2.445651218505087, 2.445651218505087, 2.2888374463188206, 1.0532775549958533, 0.0], \"y\": [0.0, 1.9023534680376608, 2.689416244391832, 2.78061202393153, 5.224934788815689, 5.9576230214489, 6.058875769885431, 6.058875769885431, 6.42168859050172, 6.573264711106771, 6.573264711106771, 7.667465697133285, 7.667465697133285, 8.529340453965386, 8.79875811473882, 9.042846597783457, 9.042846597783457, 9.650917956417763, 9.789976727862, 9.789976727862], \"type\": \"scatter\"}, {\"mode\": \"lines+markers\", \"name\": \"tentative pareto\", \"x\": [10.285790746218286, 10.285790746218286, 10.089853485385008, 7.3826970203183615, 6.655075949379717, 5.968907656626228, 2.2888374463188206, 1.0532775549958533, 0.0], \"y\": [0.0, 7.739327033715307, 8.685826976379651, 9.510579765881916, 9.510579765881916, 9.510579765881916, 9.650917956417763, 9.789976727862, 9.789976727862], \"type\": \"scatter\"}]}, {\"data\": [{\"mode\": \"lines+markers\", \"name\": \"estimated pareto\", \"x\": [9.733697726262688, 9.733697726262688, 9.098088707580358, 8.672984108531022, 8.258313370734408, 7.513077861098761, 7.3281214834165525, 7.3281214834165525, 7.093950619297406, 6.307403877865244, 6.307403877865244, 5.913339233485462, 5.913339233485462, 4.940828739540212, 3.1729919800950097, 2.445651218505087, 2.445651218505087, 2.2888374463188206, 1.0532775549958533, 0.0], \"y\": [0.0, 1.9023534680376608, 2.689416244391832, 2.78061202393153, 5.224934788815689, 5.9576230214489, 6.058875769885431, 6.058875769885431, 6.42168859050172, 6.573264711106771, 6.573264711106771, 7.667465697133285, 7.667465697133285, 8.529340453965386, 8.79875811473882, 9.042846597783457, 9.042846597783457, 9.650917956417763, 9.789976727862, 9.789976727862], \"type\": \"scatter\"}, {\"mode\": \"lines+markers\", \"name\": \"tentative pareto\", \"x\": [10.285790746218286, 10.285790746218286, 10.285790746218286, 10.116828093429977, 9.2271978025153, 7.314879015976619, 6.161016761787892, 2.2888374463188206, 1.0532775549958533, 0.0], \"y\": [0.0, 2.8589381056869088, 2.8197787884782137, 8.21280633608458, 9.510579765881916, 9.510579765881916, 9.510579765881916, 9.650917956417763, 9.789976727862, 9.789976727862], \"type\": \"scatter\"}]}, {\"data\": [{\"mode\": \"lines+markers\", \"name\": \"estimated pareto\", \"x\": [9.733697726262688, 9.733697726262688, 9.098088707580358, 8.672984108531022, 8.258313370734408, 7.513077861098761, 7.3281214834165525, 7.3281214834165525, 7.093950619297406, 6.307403877865244, 6.307403877865244, 5.913339233485462, 5.913339233485462, 4.940828739540212, 3.1729919800950097, 2.445651218505087, 2.445651218505087, 2.2888374463188206, 1.0532775549958533, 0.0], \"y\": [0.0, 1.9023534680376608, 2.689416244391832, 2.78061202393153, 5.224934788815689, 5.9576230214489, 6.058875769885431, 6.058875769885431, 6.42168859050172, 6.573264711106771, 6.573264711106771, 7.667465697133285, 7.667465697133285, 8.529340453965386, 8.79875811473882, 9.042846597783457, 9.042846597783457, 9.650917956417763, 9.789976727862, 9.789976727862], \"type\": \"scatter\"}, {\"mode\": \"lines+markers\", \"name\": \"tentative pareto\", \"x\": [10.285790746218286, 10.285790746218286, 10.285790746218286, 10.285790746218286, 5.913339233485462, 5.913339233485462, 4.940828739540212, 3.1729919800950097, 2.445651218505087, 2.445651218505087, 2.2888374463188206, 1.0532775549958533, 0.0], \"y\": [0.0, 7.444236298757259, 3.793714663280344, 2.118301573911096, 7.667465697133285, 7.667465697133285, 8.529340453965386, 8.79875811473882, 9.042846597783457, 9.042846597783457, 9.650917956417763, 9.789976727862, 9.789976727862], \"type\": \"scatter\"}]}, {\"data\": [{\"mode\": \"lines+markers\", \"name\": \"estimated pareto\", \"x\": [9.733697726262688, 9.733697726262688, 9.098088707580358, 8.672984108531022, 8.258313370734408, 7.513077861098761, 7.3281214834165525, 7.3281214834165525, 7.093950619297406, 6.307403877865244, 6.307403877865244, 5.913339233485462, 5.913339233485462, 4.940828739540212, 3.1729919800950097, 2.445651218505087, 2.445651218505087, 2.2888374463188206, 1.0532775549958533, 0.0], \"y\": [0.0, 1.9023534680376608, 2.689416244391832, 2.78061202393153, 5.224934788815689, 5.9576230214489, 6.058875769885431, 6.058875769885431, 6.42168859050172, 6.573264711106771, 6.573264711106771, 7.667465697133285, 7.667465697133285, 8.529340453965386, 8.79875811473882, 9.042846597783457, 9.042846597783457, 9.650917956417763, 9.789976727862, 9.789976727862], \"type\": \"scatter\"}, {\"mode\": \"lines+markers\", \"name\": \"tentative pareto\", \"x\": [10.285790746218286, 10.285790746218286, 10.285790746218286, 10.285790746218286, 9.50828873714195, 7.940092424573321, 4.940828739540212, 3.224541441162366, 2.2888374463188206, 1.0532775549958533, 0.0], \"y\": [0.0, 5.502190901138145, 4.377116079053995, 3.7535553353046924, 7.739327033715307, 7.739327033715307, 8.529340453965386, 9.423111398920403, 9.650917956417763, 9.789976727862, 9.789976727862], \"type\": \"scatter\"}]}, {\"data\": [{\"mode\": \"lines+markers\", \"name\": \"estimated pareto\", \"x\": [9.733697726262688, 9.733697726262688, 9.098088707580358, 8.672984108531022, 8.258313370734408, 7.513077861098761, 7.3281214834165525, 7.3281214834165525, 7.093950619297406, 6.307403877865244, 6.307403877865244, 5.913339233485462, 5.913339233485462, 4.940828739540212, 3.1729919800950097, 2.445651218505087, 2.445651218505087, 2.2888374463188206, 1.0532775549958533, 0.0], \"y\": [0.0, 1.9023534680376608, 2.689416244391832, 2.78061202393153, 5.224934788815689, 5.9576230214489, 6.058875769885431, 6.058875769885431, 6.42168859050172, 6.573264711106771, 6.573264711106771, 7.667465697133285, 7.667465697133285, 8.529340453965386, 8.79875811473882, 9.042846597783457, 9.042846597783457, 9.650917956417763, 9.789976727862, 9.789976727862], \"type\": \"scatter\"}, {\"mode\": \"lines+markers\", \"name\": \"tentative pareto\", \"x\": [10.285790746218286, 10.285790746218286, 10.285790746218286, 9.713837298242094, 7.3281214834165525, 7.3281214834165525, 7.093950619297406, 6.307403877865244, 6.307403877865244, 6.118936036694134, 6.118936036694134, 4.940828739540212, 4.493869158618198, 3.379190251423355, 2.2888374463188206, 1.0532775549958533, 0.0], \"y\": [0.0, 4.591036881037496, 2.2325480394182877, 6.021339429194679, 6.058875769885431, 6.058875769885431, 6.42168859050172, 6.573264711106771, 6.573264711106771, 8.49519112984473, 8.17109011543289, 8.529340453965386, 9.423111398920403, 9.423111398920403, 9.650917956417763, 9.789976727862, 9.789976727862], \"type\": \"scatter\"}]}, {\"data\": [{\"mode\": \"lines+markers\", \"name\": \"estimated pareto\", \"x\": [9.733697726262688, 9.733697726262688, 9.098088707580358, 8.672984108531022, 8.258313370734408, 7.513077861098761, 7.3281214834165525, 7.3281214834165525, 7.093950619297406, 6.307403877865244, 6.307403877865244, 5.913339233485462, 5.913339233485462, 4.940828739540212, 3.1729919800950097, 2.445651218505087, 2.445651218505087, 2.2888374463188206, 1.0532775549958533, 0.0], \"y\": [0.0, 1.9023534680376608, 2.689416244391832, 2.78061202393153, 5.224934788815689, 5.9576230214489, 6.058875769885431, 6.058875769885431, 6.42168859050172, 6.573264711106771, 6.573264711106771, 7.667465697133285, 7.667465697133285, 8.529340453965386, 8.79875811473882, 9.042846597783457, 9.042846597783457, 9.650917956417763, 9.789976727862, 9.789976727862], \"type\": \"scatter\"}, {\"mode\": \"lines+markers\", \"name\": \"tentative pareto\", \"x\": [9.733697726262688, 9.733697726262688, 9.098088707580358, 8.672984108531022, 8.258313370734408, 7.513077861098761, 7.3281214834165525, 7.3281214834165525, 7.093950619297406, 6.307403877865244, 6.307403877865244, 6.118936036694134, 4.7476131030999795, 2.9156934479915777, 2.2888374463188206, 1.0532775549958533, 0.0], \"y\": [0.0, 1.9023534680376608, 2.689416244391832, 2.78061202393153, 5.224934788815689, 5.9576230214489, 6.058875769885431, 6.058875769885431, 6.42168859050172, 6.573264711106771, 6.573264711106771, 8.690451986074175, 9.423111398920403, 9.423111398920403, 9.650917956417763, 9.789976727862, 9.789976727862], \"type\": \"scatter\"}]}, {\"data\": [{\"mode\": \"lines+markers\", \"name\": \"estimated pareto\", \"x\": [9.733697726262688, 9.733697726262688, 9.098088707580358, 8.672984108531022, 8.258313370734408, 7.513077861098761, 7.3281214834165525, 7.3281214834165525, 7.093950619297406, 6.307403877865244, 6.307403877865244, 5.913339233485462, 5.913339233485462, 4.940828739540212, 3.1729919800950097, 2.445651218505087, 2.445651218505087, 2.2888374463188206, 1.0532775549958533, 0.0], \"y\": [0.0, 1.9023534680376608, 2.689416244391832, 2.78061202393153, 5.224934788815689, 5.9576230214489, 6.058875769885431, 6.058875769885431, 6.42168859050172, 6.573264711106771, 6.573264711106771, 7.667465697133285, 7.667465697133285, 8.529340453965386, 8.79875811473882, 9.042846597783457, 9.042846597783457, 9.650917956417763, 9.789976727862, 9.789976727862], \"type\": \"scatter\"}, {\"mode\": \"lines+markers\", \"name\": \"tentative pareto\", \"x\": [10.285790746218286, 10.285790746218286, 10.285790746218286, 8.913544344976035, 8.755022530664563, 8.272244751446165, 7.737536500742905, 6.811342262764077, 6.118936036694134, 4.7657579375450885, 2.3033629385479055, 2.2888374463188206, 1.0532775549958533, 0.0], \"y\": [0.0, 6.490765344796577, 2.0261399465717487, 7.739327033715307, 7.739327033715307, 8.09644784519277, 8.394609324314002, 8.433082089185751, 9.375444191872056, 9.423111398920403, 9.423111398920403, 9.650917956417763, 9.789976727862, 9.789976727862], \"type\": \"scatter\"}]}, {\"data\": [{\"mode\": \"lines+markers\", \"name\": \"estimated pareto\", \"x\": [9.733697726262688, 9.733697726262688, 9.098088707580358, 8.672984108531022, 8.258313370734408, 7.513077861098761, 7.3281214834165525, 7.3281214834165525, 7.093950619297406, 6.307403877865244, 6.307403877865244, 5.913339233485462, 5.913339233485462, 4.940828739540212, 3.1729919800950097, 2.445651218505087, 2.445651218505087, 2.2888374463188206, 1.0532775549958533, 0.0], \"y\": [0.0, 1.9023534680376608, 2.689416244391832, 2.78061202393153, 5.224934788815689, 5.9576230214489, 6.058875769885431, 6.058875769885431, 6.42168859050172, 6.573264711106771, 6.573264711106771, 7.667465697133285, 7.667465697133285, 8.529340453965386, 8.79875811473882, 9.042846597783457, 9.042846597783457, 9.650917956417763, 9.789976727862, 9.789976727862], \"type\": \"scatter\"}, {\"mode\": \"lines+markers\", \"name\": \"tentative pareto\", \"x\": [10.285790746218286, 10.285790746218286, 10.285790746218286, 8.465880839973575, 8.368856260112544, 7.222212519796607, 6.798179367371377, 6.792648477429804, 6.6598599485463925, 4.940828739540212, 4.487230832381605, 2.2888374463188206, 1.0532775549958533, 0.0], \"y\": [0.0, 4.2569514966059385, 3.2414511881571455, 7.407834673028926, 8.034024188561613, 8.433082089185751, 8.433082089185751, 8.433082089185751, 8.433082089185751, 8.529340453965386, 9.05374497546614, 9.650917956417763, 9.789976727862, 9.789976727862], \"type\": \"scatter\"}]}, {\"data\": [{\"mode\": \"lines+markers\", \"name\": \"estimated pareto\", \"x\": [9.733697726262688, 9.733697726262688, 9.098088707580358, 8.672984108531022, 8.258313370734408, 7.513077861098761, 7.3281214834165525, 7.3281214834165525, 7.093950619297406, 6.307403877865244, 6.307403877865244, 5.913339233485462, 5.913339233485462, 4.940828739540212, 3.1729919800950097, 2.445651218505087, 2.445651218505087, 2.2888374463188206, 1.0532775549958533, 0.0], \"y\": [0.0, 1.9023534680376608, 2.689416244391832, 2.78061202393153, 5.224934788815689, 5.9576230214489, 6.058875769885431, 6.058875769885431, 6.42168859050172, 6.573264711106771, 6.573264711106771, 7.667465697133285, 7.667465697133285, 8.529340453965386, 8.79875811473882, 9.042846597783457, 9.042846597783457, 9.650917956417763, 9.789976727862, 9.789976727862], \"type\": \"scatter\"}, {\"mode\": \"lines+markers\", \"name\": \"tentative pareto\", \"x\": [10.285790746218286, 10.285790746218286, 10.285790746218286, 8.937786894361471, 8.438015555685089, 8.018179101470825, 7.833064147253308, 0.0], \"y\": [0.0, 6.584666756587258, 3.8480726568905794, 9.157195297906808, 9.389396589575458, 10.220543413447624, 10.220543413447624, 10.220543413447624], \"type\": \"scatter\"}]}, {\"data\": [{\"mode\": \"lines+markers\", \"name\": \"estimated pareto\", \"x\": [9.733697726262688, 9.733697726262688, 9.098088707580358, 8.672984108531022, 8.258313370734408, 7.513077861098761, 7.3281214834165525, 7.3281214834165525, 7.093950619297406, 6.307403877865244, 6.307403877865244, 5.913339233485462, 5.913339233485462, 4.940828739540212, 3.1729919800950097, 2.445651218505087, 2.445651218505087, 2.2888374463188206, 1.0532775549958533, 0.0], \"y\": [0.0, 1.9023534680376608, 2.689416244391832, 2.78061202393153, 5.224934788815689, 5.9576230214489, 6.058875769885431, 6.058875769885431, 6.42168859050172, 6.573264711106771, 6.573264711106771, 7.667465697133285, 7.667465697133285, 8.529340453965386, 8.79875811473882, 9.042846597783457, 9.042846597783457, 9.650917956417763, 9.789976727862, 9.789976727862], \"type\": \"scatter\"}, {\"mode\": \"lines+markers\", \"name\": \"tentative pareto\", \"x\": [10.285790746218286, 10.285790746218286, 10.285790746218286, 9.85136793077087, 9.577693297170017, 8.513356568609284, 2.2888374463188206, 1.0532775549958533, 0.0], \"y\": [0.0, 4.882776911507902, 0.7304423715126056, 5.569612156833938, 9.039512424079373, 9.441020550589137, 9.650917956417763, 9.789976727862, 9.789976727862], \"type\": \"scatter\"}]}, {\"data\": [{\"mode\": \"lines+markers\", \"name\": \"estimated pareto\", \"x\": [9.733697726262688, 9.733697726262688, 9.098088707580358, 8.672984108531022, 8.258313370734408, 7.513077861098761, 7.3281214834165525, 7.3281214834165525, 7.093950619297406, 6.307403877865244, 6.307403877865244, 5.913339233485462, 5.913339233485462, 4.940828739540212, 3.1729919800950097, 2.445651218505087, 2.445651218505087, 2.2888374463188206, 1.0532775549958533, 0.0], \"y\": [0.0, 1.9023534680376608, 2.689416244391832, 2.78061202393153, 5.224934788815689, 5.9576230214489, 6.058875769885431, 6.058875769885431, 6.42168859050172, 6.573264711106771, 6.573264711106771, 7.667465697133285, 7.667465697133285, 8.529340453965386, 8.79875811473882, 9.042846597783457, 9.042846597783457, 9.650917956417763, 9.789976727862, 9.789976727862], \"type\": \"scatter\"}, {\"mode\": \"lines+markers\", \"name\": \"tentative pareto\", \"x\": [10.285790746218286, 10.285790746218286, 10.285790746218286, 10.19183541795395, 7.513077861098761, 7.3281214834165525, 7.3281214834165525, 7.093950619297406, 6.307403877865244, 6.307403877865244, 5.913339233485462, 5.913339233485462, 4.940828739540212, 3.1729919800950097, 2.445651218505087, 2.445651218505087, 2.2888374463188206, 1.0532775549958533, 0.0], \"y\": [0.0, 5.7400734469418255, 3.3233851759031654, 5.887755325096619, 5.9576230214489, 6.058875769885431, 6.058875769885431, 6.42168859050172, 6.573264711106771, 6.573264711106771, 7.667465697133285, 7.667465697133285, 8.529340453965386, 8.79875811473882, 9.042846597783457, 9.042846597783457, 9.650917956417763, 9.789976727862, 9.789976727862], \"type\": \"scatter\"}]}, {\"data\": [{\"mode\": \"lines+markers\", \"name\": \"estimated pareto\", \"x\": [9.733697726262688, 9.733697726262688, 9.098088707580358, 9.098088707580358, 8.672984108531022, 8.258313370734408, 7.513077861098761, 7.3281214834165525, 7.3281214834165525, 7.093950619297406, 6.307403877865244, 6.307403877865244, 5.913339233485462, 5.913339233485462, 4.940828739540212, 3.1729919800950097, 2.445651218505087, 2.445651218505087, 2.2888374463188206, 1.0532775549958533, 0.0], \"y\": [0.0, 1.9023534680376608, 2.689416244391832, 2.689416244391832, 2.78061202393153, 5.224934788815689, 5.9576230214489, 6.058875769885431, 6.058875769885431, 6.42168859050172, 6.573264711106771, 6.573264711106771, 7.667465697133285, 7.667465697133285, 8.529340453965386, 8.79875811473882, 9.042846597783457, 9.042846597783457, 9.650917956417763, 9.789976727862, 9.789976727862], \"type\": \"scatter\"}, {\"mode\": \"lines+markers\", \"name\": \"tentative pareto\", \"x\": [10.285790746218286, 10.285790746218286, 10.285790746218286, 10.285790746218286, 10.285790746218286, 9.43155240865347, 8.435857162851644, 7.899740885357666, 7.7128028154526085, 7.514947315609167, 5.726092346566661, 2.2888374463188206, 1.0532775549958533, 0.0], \"y\": [0.0, 4.6525874575587105, 3.001530815180449, 2.818857178201718, 1.4369054848498486, 6.99531434955596, 7.943297390051673, 8.433082089185751, 8.433082089185751, 9.25455797108035, 9.25455797108035, 9.650917956417763, 9.789976727862, 9.789976727862], \"type\": \"scatter\"}]}, {\"data\": [{\"mode\": \"lines+markers\", \"name\": \"estimated pareto\", \"x\": [9.733697726262688, 9.733697726262688, 9.098088707580358, 9.098088707580358, 8.672984108531022, 8.258313370734408, 7.513077861098761, 7.3281214834165525, 7.3281214834165525, 7.093950619297406, 6.307403877865244, 6.307403877865244, 5.913339233485462, 5.913339233485462, 4.940828739540212, 3.1729919800950097, 2.445651218505087, 2.445651218505087, 2.2888374463188206, 1.0532775549958533, 0.0], \"y\": [0.0, 1.9023534680376608, 2.689416244391832, 2.689416244391832, 2.78061202393153, 5.224934788815689, 5.9576230214489, 6.058875769885431, 6.058875769885431, 6.42168859050172, 6.573264711106771, 6.573264711106771, 7.667465697133285, 7.667465697133285, 8.529340453965386, 8.79875811473882, 9.042846597783457, 9.042846597783457, 9.650917956417763, 9.789976727862, 9.789976727862], \"type\": \"scatter\"}, {\"mode\": \"lines+markers\", \"name\": \"tentative pareto\", \"x\": [10.285790746218286, 10.285790746218286, 10.285790746218286, 10.285790746218286, 10.285790746218286, 10.285790746218286, 7.513077861098761, 7.4760628257606525, 6.905765930766798, 5.954200887261308, 5.5737676174730035, 5.466875257057981, 4.054634215823304, 2.9632393621826907, 1.9648912458574324, 0.9759535078624193, -0.15088087593128363, 0.0], \"y\": [0.0, 5.661940603461982, 3.756131414931661, 3.680870393680394, 3.0116238102643633, 2.5330157115751954, 5.9576230214489, 9.163891134991518, 9.25455797108035, 9.25455797108035, 9.25455797108035, 9.25455797108035, 10.372750957512148, 12.080902776609847, 12.080902776609847, 12.080902776609847, 12.080902776609847, 12.080902776609847], \"type\": \"scatter\"}]}, {\"data\": [{\"mode\": \"lines+markers\", \"name\": \"estimated pareto\", \"x\": [9.733697726262688, 9.733697726262688, 9.098088707580358, 9.098088707580358, 8.672984108531022, 8.258313370734408, 7.513077861098761, 7.3281214834165525, 7.3281214834165525, 7.093950619297406, 6.307403877865244, 6.307403877865244, 5.913339233485462, 5.913339233485462, 4.940828739540212, 3.1729919800950097, 2.445651218505087, 2.445651218505087, 2.2888374463188206, 1.0532775549958533, 0.0], \"y\": [0.0, 1.9023534680376608, 2.689416244391832, 2.689416244391832, 2.78061202393153, 5.224934788815689, 5.9576230214489, 6.058875769885431, 6.058875769885431, 6.42168859050172, 6.573264711106771, 6.573264711106771, 7.667465697133285, 7.667465697133285, 8.529340453965386, 8.79875811473882, 9.042846597783457, 9.042846597783457, 9.650917956417763, 9.789976727862, 9.789976727862], \"type\": \"scatter\"}, {\"mode\": \"lines+markers\", \"name\": \"tentative pareto\", \"x\": [10.285790746218286, 10.285790746218286, 10.285790746218286, 10.285790746218286, 10.285790746218286, 10.285790746218286, 8.258313370734408, 7.513077861098761, 7.3281214834165525, 7.3281214834165525, 7.093950619297406, 6.307403877865244, 6.307403877865244, 5.913339233485462, 5.913339233485462, 4.940828739540212, 4.016222955429697, 3.6599966952551117, 2.910798797354712, 2.076284607531401, 0.0], \"y\": [0.0, 4.022618203582545, 4.010785669730782, 3.037066871038809, 2.4211711904633297, 0.36965135441312835, 5.224934788815689, 5.9576230214489, 6.058875769885431, 6.058875769885431, 6.42168859050172, 6.573264711106771, 6.573264711106771, 7.667465697133285, 7.667465697133285, 8.529340453965386, 9.788801880447867, 10.966734277522555, 12.080902776609847, 12.080902776609847, 12.080902776609847], \"type\": \"scatter\"}]}, {\"data\": [{\"mode\": \"lines+markers\", \"name\": \"estimated pareto\", \"x\": [9.733697726262688, 9.733697726262688, 9.098088707580358, 9.098088707580358, 8.672984108531022, 8.258313370734408, 7.513077861098761, 7.3281214834165525, 7.3281214834165525, 7.093950619297406, 6.307403877865244, 6.307403877865244, 6.292141507099237, 4.940828739540212, 3.1729919800950097, 2.445651218505087, 2.445651218505087, 2.2888374463188206, 1.0532775549958533, 0.0], \"y\": [0.0, 1.9023534680376608, 2.689416244391832, 2.689416244391832, 2.78061202393153, 5.224934788815689, 5.9576230214489, 6.058875769885431, 6.058875769885431, 6.42168859050172, 6.573264711106771, 6.573264711106771, 7.754361025426629, 8.529340453965386, 8.79875811473882, 9.042846597783457, 9.042846597783457, 9.650917956417763, 9.789976727862, 9.789976727862], \"type\": \"scatter\"}, {\"mode\": \"lines+markers\", \"name\": \"tentative pareto\", \"x\": [10.285790746218286, 10.285790746218286, 10.285790746218286, 10.285790746218286, 9.465212648504863, 9.153143331485483, 8.465880839973575, 7.514699819373801, 7.240805355725171, 5.789874434826399, 4.0013074977148415, 3.8839946218101815, 3.4749819344098354, 2.637270490906123, 1.6530696153847342, 0.0], \"y\": [0.0, 6.534073006046375, 5.937100931838126, 5.171157688592826, 7.671752880620039, 7.739327033715307, 8.151429652523362, 8.408846056184018, 9.25455797108035, 9.25455797108035, 10.952416420059437, 11.55190189670884, 12.080902776609847, 12.080902776609847, 12.080902776609847, 12.080902776609847], \"type\": \"scatter\"}]}, {\"data\": [{\"mode\": \"lines+markers\", \"name\": \"estimated pareto\", \"x\": [9.733697726262688, 9.733697726262688, 9.098088707580358, 9.098088707580358, 8.672984108531022, 8.258313370734408, 7.513077861098761, 7.3281214834165525, 7.3281214834165525, 7.093950619297406, 6.307403877865244, 6.307403877865244, 6.292141507099237, 4.940828739540212, 3.1729919800950097, 2.445651218505087, 2.445651218505087, 2.2888374463188206, 1.0532775549958533, 0.0], \"y\": [0.0, 1.9023534680376608, 2.689416244391832, 2.689416244391832, 2.78061202393153, 5.224934788815689, 5.9576230214489, 6.058875769885431, 6.058875769885431, 6.42168859050172, 6.573264711106771, 6.573264711106771, 7.754361025426629, 8.529340453965386, 8.79875811473882, 9.042846597783457, 9.042846597783457, 9.650917956417763, 9.789976727862, 9.789976727862], \"type\": \"scatter\"}, {\"mode\": \"lines+markers\", \"name\": \"tentative pareto\", \"x\": [10.285790746218286, 10.285790746218286, 10.285790746218286, 10.285790746218286, 10.285790746218286, 10.285790746218286, 10.285790746218286, 10.285790746218286, 9.604841285663936, 8.691533127783751, 8.491101588656917, 5.59386517040452, 4.527505833434369, 4.527505833434369, 1.0532775549958533, 0.0], \"y\": [0.0, 7.739327033715307, 4.5834897141538145, 4.3482515644261825, 4.0299178920310705, 3.749175614427456, 3.7276087597944145, 1.83098250996431, 7.739327033715307, 7.739327033715307, 9.058421488961734, 9.358039237884357, 9.743661899877601, 9.501063254627978, 9.789976727862, 9.789976727862], \"type\": \"scatter\"}]}, {\"data\": [{\"mode\": \"lines+markers\", \"name\": \"estimated pareto\", \"x\": [9.733697726262688, 9.733697726262688, 9.098088707580358, 9.098088707580358, 8.672984108531022, 8.258313370734408, 7.513077861098761, 7.3281214834165525, 7.3281214834165525, 7.093950619297406, 6.307403877865244, 6.307403877865244, 6.292141507099237, 4.940828739540212, 3.1729919800950097, 2.445651218505087, 2.445651218505087, 2.2888374463188206, 1.0532775549958533, 0.0], \"y\": [0.0, 1.9023534680376608, 2.689416244391832, 2.689416244391832, 2.78061202393153, 5.224934788815689, 5.9576230214489, 6.058875769885431, 6.058875769885431, 6.42168859050172, 6.573264711106771, 6.573264711106771, 7.754361025426629, 8.529340453965386, 8.79875811473882, 9.042846597783457, 9.042846597783457, 9.650917956417763, 9.789976727862, 9.789976727862], \"type\": \"scatter\"}, {\"mode\": \"lines+markers\", \"name\": \"tentative pareto\", \"x\": [10.285790746218286, 10.285790746218286, 9.265126579891078, 8.173225623310952, 7.514947315609167, 7.325519694335176, 6.813644640242765, 6.761782924046538, 6.128486718718133, 5.685772930334549, 4.527505833434369, 3.704887649833938, 2.96590022331238, 0.0], \"y\": [0.0, 6.584234571777477, 6.809298075280438, 8.433082089185751, 9.22703688696763, 9.25455797108035, 9.284308448357184, 9.358039237884357, 9.358039237884357, 9.358039237884357, 12.080902776609847, 12.080902776609847, 12.080902776609847, 12.080902776609847], \"type\": \"scatter\"}]}, {\"data\": [{\"mode\": \"lines+markers\", \"name\": \"estimated pareto\", \"x\": [9.733697726262688, 9.733697726262688, 9.098088707580358, 9.098088707580358, 8.672984108531022, 8.258313370734408, 7.513077861098761, 7.3281214834165525, 7.3281214834165525, 7.093950619297406, 6.307403877865244, 6.307403877865244, 6.292141507099237, 4.940828739540212, 3.1729919800950097, 2.445651218505087, 2.445651218505087, 2.2888374463188206, 1.0532775549958533, 0.0], \"y\": [0.0, 1.9023534680376608, 2.689416244391832, 2.689416244391832, 2.78061202393153, 5.224934788815689, 5.9576230214489, 6.058875769885431, 6.058875769885431, 6.42168859050172, 6.573264711106771, 6.573264711106771, 7.754361025426629, 8.529340453965386, 8.79875811473882, 9.042846597783457, 9.042846597783457, 9.650917956417763, 9.789976727862, 9.789976727862], \"type\": \"scatter\"}, {\"mode\": \"lines+markers\", \"name\": \"tentative pareto\", \"x\": [11.07555212466871, 11.07555212466871, 11.07555212466871, 9.090742518281179, 3.6078718294020664, 1.4233280894875364, 0.8625337072545256, 0.8425014236403695, -1.5586809643103872, 0.0], \"y\": [0.0, 2.8297995173231936, 2.3320049041548243, 9.168051704019813, 11.009035879030021, 12.695679777729008, 12.695679777729008, 12.695679777729008, 12.695679777729008, 12.695679777729008], \"type\": \"scatter\"}]}, {\"data\": [{\"mode\": \"lines+markers\", \"name\": \"estimated pareto\", \"x\": [9.733697726262688, 9.733697726262688, 9.098088707580358, 9.098088707580358, 8.672984108531022, 8.258313370734408, 7.513077861098761, 7.3281214834165525, 7.3281214834165525, 7.093950619297406, 6.307403877865244, 6.307403877865244, 6.292141507099237, 4.940828739540212, 3.1729919800950097, 2.445651218505087, 2.445651218505087, 2.2888374463188206, 1.0532775549958533, 0.0], \"y\": [0.0, 1.9023534680376608, 2.689416244391832, 2.689416244391832, 2.78061202393153, 5.224934788815689, 5.9576230214489, 6.058875769885431, 6.058875769885431, 6.42168859050172, 6.573264711106771, 6.573264711106771, 7.754361025426629, 8.529340453965386, 8.79875811473882, 9.042846597783457, 9.042846597783457, 9.650917956417763, 9.789976727862, 9.789976727862], \"type\": \"scatter\"}, {\"mode\": \"lines+markers\", \"name\": \"tentative pareto\", \"x\": [11.07555212466871, 11.07555212466871, 11.07555212466871, 11.07555212466871, 11.07555212466871, 10.720071866008125, 9.03744161623971, 8.166688388998377, 7.635083396735059, 6.344948638951434, 4.168003783949612, 4.168003783949612, -0.5696544265962782, 0.0], \"y\": [0.0, 6.287458119176815, 2.457612427392412, 2.259058068400149, 1.5489429491258828, 8.582483759906044, 8.768965634302594, 8.768965634302594, 9.06440062435324, 9.168051704019813, 12.695679777729008, 9.532997519628568, 12.695679777729008, 12.695679777729008], \"type\": \"scatter\"}]}, {\"data\": [{\"mode\": \"lines+markers\", \"name\": \"estimated pareto\", \"x\": [9.733697726262688, 9.733697726262688, 9.098088707580358, 9.098088707580358, 8.672984108531022, 8.258313370734408, 7.513077861098761, 7.3281214834165525, 7.3281214834165525, 7.093950619297406, 6.307403877865244, 6.307403877865244, 6.292141507099237, 4.940828739540212, 3.1729919800950097, 2.445651218505087, 2.445651218505087, 2.2888374463188206, 1.0532775549958533, 0.0], \"y\": [0.0, 1.9023534680376608, 2.689416244391832, 2.689416244391832, 2.78061202393153, 5.224934788815689, 5.9576230214489, 6.058875769885431, 6.058875769885431, 6.42168859050172, 6.573264711106771, 6.573264711106771, 7.754361025426629, 8.529340453965386, 8.79875811473882, 9.042846597783457, 9.042846597783457, 9.650917956417763, 9.789976727862, 9.789976727862], \"type\": \"scatter\"}, {\"mode\": \"lines+markers\", \"name\": \"tentative pareto\", \"x\": [11.07555212466871, 11.07555212466871, 11.07555212466871, 11.07555212466871, 11.07555212466871, 10.792439821541969, 9.644647130993604, 5.463757429064072, 5.217936674347305, 4.805048132750436, 4.168003783949612, 1.9329446551458844, 0.1769232747471714, 0.0], \"y\": [0.0, 8.768965634302594, 5.83275642762564, -0.011871602087170974, -2.291753768167231, 8.768965634302594, 9.168051704019813, 9.168051704019813, 9.168051704019813, 9.168051704019813, 9.811754588367815, 12.695679777729008, 12.695679777729008, 12.695679777729008], \"type\": \"scatter\"}]}, {\"data\": [{\"mode\": \"lines+markers\", \"name\": \"estimated pareto\", \"x\": [9.733697726262688, 9.733697726262688, 9.098088707580358, 9.098088707580358, 8.672984108531022, 8.258313370734408, 7.513077861098761, 7.3281214834165525, 7.3281214834165525, 7.093950619297406, 6.307403877865244, 6.307403877865244, 6.292141507099237, 4.940828739540212, 3.1729919800950097, 2.445651218505087, 2.445651218505087, 2.2888374463188206, 1.0532775549958533, 0.0], \"y\": [0.0, 1.9023534680376608, 2.689416244391832, 2.689416244391832, 2.78061202393153, 5.224934788815689, 5.9576230214489, 6.058875769885431, 6.058875769885431, 6.42168859050172, 6.573264711106771, 6.573264711106771, 7.754361025426629, 8.529340453965386, 8.79875811473882, 9.042846597783457, 9.042846597783457, 9.650917956417763, 9.789976727862, 9.789976727862], \"type\": \"scatter\"}, {\"mode\": \"lines+markers\", \"name\": \"tentative pareto\", \"x\": [11.07555212466871, 11.07555212466871, 11.07555212466871, 11.07555212466871, 11.07555212466871, 11.07555212466871, 11.07555212466871, 10.162299131325703, 9.94249646860557, 7.81177063532908, 7.322608085477606, 3.831447775876266, 3.3829990953246716, 3.2376711293492098, 1.5604377075534237, 0.0], \"y\": [0.0, 8.086932021125364, 7.738973787801481, 2.637772326869684, 1.4038451975289505, -1.2574082376865174, -3.699786188871789, 8.768965634302594, 9.024778652809442, 9.168051704019813, 9.168051704019813, 9.908671586443731, 10.779970985015005, 11.227055642293772, 12.695679777729008, 12.695679777729008], \"type\": \"scatter\"}]}, {\"data\": [{\"mode\": \"lines+markers\", \"name\": \"estimated pareto\", \"x\": [9.733697726262688, 9.733697726262688, 9.098088707580358, 9.098088707580358, 8.672984108531022, 8.258313370734408, 7.513077861098761, 7.3281214834165525, 7.3281214834165525, 7.093950619297406, 6.307403877865244, 6.307403877865244, 6.292141507099237, 4.940828739540212, 3.1729919800950097, 2.445651218505087, 2.445651218505087, 2.2888374463188206, 1.0532775549958533, 0.0], \"y\": [0.0, 1.9023534680376608, 2.689416244391832, 2.689416244391832, 2.78061202393153, 5.224934788815689, 5.9576230214489, 6.058875769885431, 6.058875769885431, 6.42168859050172, 6.573264711106771, 6.573264711106771, 7.754361025426629, 8.529340453965386, 8.79875811473882, 9.042846597783457, 9.042846597783457, 9.650917956417763, 9.789976727862, 9.789976727862], \"type\": \"scatter\"}, {\"mode\": \"lines+markers\", \"name\": \"tentative pareto\", \"x\": [11.07555212466871, 11.07555212466871, 11.07555212466871, 11.07555212466871, 11.07555212466871, 9.995421651859761, 7.179360997026508, 6.967794371138695, 4.758418315733246, 4.168003783949612, 4.084551519667355, 3.002455851514111, 1.1037456507824706, 0.0], \"y\": [0.0, 5.112409651222263, 3.6275248323361375, 2.045778502456473, 0.23894736375410996, 9.168051704019813, 9.168051704019813, 9.168051704019813, 9.168051704019813, 9.508693066127194, 9.988946997551116, 12.695679777729008, 12.695679777729008, 12.695679777729008], \"type\": \"scatter\"}]}, {\"data\": [{\"mode\": \"lines+markers\", \"name\": \"estimated pareto\", \"x\": [9.733697726262688, 9.733697726262688, 9.098088707580358, 9.098088707580358, 8.672984108531022, 8.258313370734408, 7.513077861098761, 7.3281214834165525, 7.3281214834165525, 7.093950619297406, 6.307403877865244, 6.307403877865244, 6.292141507099237, 4.940828739540212, 3.1729919800950097, 2.445651218505087, 2.445651218505087, 2.2888374463188206, 1.0532775549958533, 0.0], \"y\": [0.0, 1.9023534680376608, 2.689416244391832, 2.689416244391832, 2.78061202393153, 5.224934788815689, 5.9576230214489, 6.058875769885431, 6.058875769885431, 6.42168859050172, 6.573264711106771, 6.573264711106771, 7.754361025426629, 8.529340453965386, 8.79875811473882, 9.042846597783457, 9.042846597783457, 9.650917956417763, 9.789976727862, 9.789976727862], \"type\": \"scatter\"}, {\"mode\": \"lines+markers\", \"name\": \"tentative pareto\", \"x\": [11.07555212466871, 11.07555212466871, 11.07555212466871, 11.07555212466871, 11.07555212466871, 11.07555212466871, 11.048205238687833, 11.009475338668382, 9.235720541300935, 8.308038716654053, 6.325422244859666, 2.501449495243341, 0.0], \"y\": [0.0, 2.552029188626955, 2.3594317743116124, 0.5798377963537411, 0.43931649641197934, -1.7850445505214463, 5.130160063611564, 5.3590064982044705, 8.768965634302594, 9.168051704019813, 9.168051704019813, 12.695679777729008, 12.695679777729008], \"type\": \"scatter\"}]}, {\"data\": [{\"mode\": \"lines+markers\", \"name\": \"estimated pareto\", \"x\": [9.733697726262688, 9.733697726262688, 9.098088707580358, 9.098088707580358, 8.672984108531022, 8.258313370734408, 7.513077861098761, 7.3281214834165525, 7.3281214834165525, 7.093950619297406, 6.307403877865244, 6.307403877865244, 6.292141507099237, 4.940828739540212, 3.1729919800950097, 2.445651218505087, 2.445651218505087, 2.2888374463188206, 1.0532775549958533, 0.0], \"y\": [0.0, 1.9023534680376608, 2.689416244391832, 2.689416244391832, 2.78061202393153, 5.224934788815689, 5.9576230214489, 6.058875769885431, 6.058875769885431, 6.42168859050172, 6.573264711106771, 6.573264711106771, 7.754361025426629, 8.529340453965386, 8.79875811473882, 9.042846597783457, 9.042846597783457, 9.650917956417763, 9.789976727862, 9.789976727862], \"type\": \"scatter\"}, {\"mode\": \"lines+markers\", \"name\": \"tentative pareto\", \"x\": [10.964457695261519, 10.964457695261519, 10.951734338429079, 10.738198544946002, 10.097958255783276, 9.995421651859761, 9.896320518800245, 5.684668398854564, 4.168003783949612, 3.6312479826065314, 2.294859085023739, 2.14090639150985, 1.6481060932038314, 1.3416452665338257, 0.5389526418252629, 0.0], \"y\": [0.0, 3.20678198415325, 5.382729668457721, 6.4134102013669505, 7.312173752938965, 7.579566663516896, 8.768965634302594, 9.168051704019813, 10.477133861193568, 12.695679777729008, 12.695679777729008, 12.695679777729008, 12.695679777729008, 12.695679777729008, 12.695679777729008, 12.695679777729008], \"type\": \"scatter\"}]}, {\"data\": [{\"mode\": \"lines+markers\", \"name\": \"estimated pareto\", \"x\": [9.733697726262688, 9.733697726262688, 9.098088707580358, 9.098088707580358, 8.672984108531022, 8.258313370734408, 7.513077861098761, 7.3281214834165525, 7.3281214834165525, 7.093950619297406, 6.580794336195245, 6.307403877865244, 6.307403877865244, 6.292141507099237, 4.940828739540212, 3.1729919800950097, 2.445651218505087, 2.445651218505087, 2.2888374463188206, 1.0532775549958533, 0.0], \"y\": [0.0, 1.9023534680376608, 2.689416244391832, 2.689416244391832, 2.78061202393153, 5.224934788815689, 5.9576230214489, 6.058875769885431, 6.058875769885431, 6.42168859050172, 6.5082525074287725, 6.573264711106771, 6.573264711106771, 7.754361025426629, 8.529340453965386, 8.79875811473882, 9.042846597783457, 9.042846597783457, 9.650917956417763, 9.789976727862, 9.789976727862], \"type\": \"scatter\"}, {\"mode\": \"lines+markers\", \"name\": \"tentative pareto\", \"x\": [11.07555212466871, 11.07555212466871, 10.428349038745036, 9.546376727462082, 4.168003783949612, 4.168003783949612, 2.8777326095690974, 1.7921244173316486, 1.244483141581814, 0.0], \"y\": [0.0, 4.047969583694309, 8.768965634302594, 8.768965634302594, 9.96754829070655, 9.30726743840103, 11.581914827924631, 12.695679777729008, 12.695679777729008, 12.695679777729008], \"type\": \"scatter\"}]}, {\"data\": [{\"mode\": \"lines+markers\", \"name\": \"estimated pareto\", \"x\": [9.733697726262688, 9.733697726262688, 9.098088707580358, 9.098088707580358, 8.672984108531022, 8.258313370734408, 7.513077861098761, 7.3281214834165525, 7.3281214834165525, 7.093950619297406, 6.580794336195245, 6.307403877865244, 6.307403877865244, 6.292141507099237, 4.940828739540212, 3.1729919800950097, 2.445651218505087, 2.445651218505087, 2.2888374463188206, 1.0532775549958533, 0.0], \"y\": [0.0, 1.9023534680376608, 2.689416244391832, 2.689416244391832, 2.78061202393153, 5.224934788815689, 5.9576230214489, 6.058875769885431, 6.058875769885431, 6.42168859050172, 6.5082525074287725, 6.573264711106771, 6.573264711106771, 7.754361025426629, 8.529340453965386, 8.79875811473882, 9.042846597783457, 9.042846597783457, 9.650917956417763, 9.789976727862, 9.789976727862], \"type\": \"scatter\"}, {\"mode\": \"lines+markers\", \"name\": \"tentative pareto\", \"x\": [9.924131952742332, 9.924131952742332, 6.292141507099237, 4.940828739540212, 3.2038465588589276, 2.8603797150362977, 1.2855905118037088, -0.17173503565082915, -1.0754032286079098, 0.0], \"y\": [0.0, 7.754265477542986, 7.754361025426629, 8.529340453965386, 10.490408805016695, 11.648194389614797, 12.695679777729008, 12.695679777729008, 12.695679777729008, 12.695679777729008], \"type\": \"scatter\"}]}, {\"data\": [{\"mode\": \"lines+markers\", \"name\": \"estimated pareto\", \"x\": [9.733697726262688, 9.733697726262688, 9.098088707580358, 9.098088707580358, 8.672984108531022, 8.258313370734408, 7.513077861098761, 7.3281214834165525, 7.3281214834165525, 7.093950619297406, 6.580794336195245, 6.307403877865244, 6.307403877865244, 6.292141507099237, 4.940828739540212, 3.1729919800950097, 2.445651218505087, 2.445651218505087, 2.2888374463188206, 1.0532775549958533, 0.0], \"y\": [0.0, 1.9023534680376608, 2.689416244391832, 2.689416244391832, 2.78061202393153, 5.224934788815689, 5.9576230214489, 6.058875769885431, 6.058875769885431, 6.42168859050172, 6.5082525074287725, 6.573264711106771, 6.573264711106771, 7.754361025426629, 8.529340453965386, 8.79875811473882, 9.042846597783457, 9.042846597783457, 9.650917956417763, 9.789976727862, 9.789976727862], \"type\": \"scatter\"}, {\"mode\": \"lines+markers\", \"name\": \"tentative pareto\", \"x\": [9.924131952742332, 9.924131952742332, 9.924131952742332, 9.924131952742332, 9.53586225245403, 8.712482941814592, 8.378939846483279, 8.19435048262568, 6.212174373874479, 6.143976611022554, 6.140144526563783, 4.282357995235999, 3.441955006209872, 3.3067020884250766, 2.8015625381787364, 1.4306510563876895, 1.3420592127051838, 0.4938721081173649, 0.12500306143833395, 0.0], \"y\": [0.0, 6.018629305042768, 5.19163325483584, 3.20535514849137, 6.301576371420668, 6.373391544241259, 8.622817740713021, 8.622817740713021, 8.622817740713021, 10.607985616998116, 11.178305332481745, 11.178305332481745, 12.017662308945892, 12.695679777729008, 12.695679777729008, 12.695679777729008, 12.695679777729008, 12.695679777729008, 12.695679777729008, 12.695679777729008], \"type\": \"scatter\"}]}, {\"data\": [{\"mode\": \"lines+markers\", \"name\": \"estimated pareto\", \"x\": [9.733697726262688, 9.733697726262688, 9.098088707580358, 9.098088707580358, 8.672984108531022, 8.258313370734408, 7.513077861098761, 7.3281214834165525, 7.3281214834165525, 7.093950619297406, 6.580794336195245, 6.307403877865244, 6.307403877865244, 6.292141507099237, 4.940828739540212, 3.1729919800950097, 2.445651218505087, 2.445651218505087, 2.2888374463188206, 1.0532775549958533, 0.0], \"y\": [0.0, 1.9023534680376608, 2.689416244391832, 2.689416244391832, 2.78061202393153, 5.224934788815689, 5.9576230214489, 6.058875769885431, 6.058875769885431, 6.42168859050172, 6.5082525074287725, 6.573264711106771, 6.573264711106771, 7.754361025426629, 8.529340453965386, 8.79875811473882, 9.042846597783457, 9.042846597783457, 9.650917956417763, 9.789976727862, 9.789976727862], \"type\": \"scatter\"}, {\"mode\": \"lines+markers\", \"name\": \"tentative pareto\", \"x\": [11.159918881933258, 11.159918881933258, 11.159918881933258, 11.159918881933258, 11.159918881933258, 9.781776527812962, 9.0800107388176, 5.630068406821802, 5.501422719804784, 5.1612249994072394, 4.485415661463818, 0.0], \"y\": [0.0, 8.916585200189289, 5.328225899988047, 3.200692968794134, 2.47589163737947, 8.916585200189289, 8.916585200189289, 9.143248570702239, 10.07532588634504, 10.674613477537319, 11.178305332481745, 11.178305332481745], \"type\": \"scatter\"}]}, {\"data\": [{\"mode\": \"lines+markers\", \"name\": \"estimated pareto\", \"x\": [9.733697726262688, 9.733697726262688, 9.098088707580358, 9.098088707580358, 8.672984108531022, 8.258313370734408, 7.513077861098761, 7.3281214834165525, 7.3281214834165525, 7.093950619297406, 6.580794336195245, 6.307403877865244, 6.307403877865244, 6.292141507099237, 4.940828739540212, 3.1729919800950097, 2.445651218505087, 2.445651218505087, 2.2888374463188206, 1.0532775549958533, 0.0], \"y\": [0.0, 1.9023534680376608, 2.689416244391832, 2.689416244391832, 2.78061202393153, 5.224934788815689, 5.9576230214489, 6.058875769885431, 6.058875769885431, 6.42168859050172, 6.5082525074287725, 6.573264711106771, 6.573264711106771, 7.754361025426629, 8.529340453965386, 8.79875811473882, 9.042846597783457, 9.042846597783457, 9.650917956417763, 9.789976727862, 9.789976727862], \"type\": \"scatter\"}, {\"mode\": \"lines+markers\", \"name\": \"tentative pareto\", \"x\": [11.753479424582782, 11.753479424582782, 11.753479424582782, 10.750963836002128, 8.823477867338836, 8.542403706053141, 8.112628649396678, 6.143976611022554, 2.126577934749325, 0.0], \"y\": [0.0, 6.605696368470504, 2.8067843123093663, 9.443351913121896, 9.66853686964495, 9.66853686964495, 9.66853686964495, 11.178305332481745, 11.178305332481745, 11.178305332481745], \"type\": \"scatter\"}]}, {\"data\": [{\"mode\": \"lines+markers\", \"name\": \"estimated pareto\", \"x\": [9.733697726262688, 9.733697726262688, 9.098088707580358, 9.098088707580358, 8.672984108531022, 8.258313370734408, 7.513077861098761, 7.3281214834165525, 7.3281214834165525, 7.093950619297406, 6.580794336195245, 6.307403877865244, 6.307403877865244, 6.292141507099237, 4.940828739540212, 3.1729919800950097, 2.445651218505087, 2.445651218505087, 2.2888374463188206, 1.0532775549958533, 0.0], \"y\": [0.0, 1.9023534680376608, 2.689416244391832, 2.689416244391832, 2.78061202393153, 5.224934788815689, 5.9576230214489, 6.058875769885431, 6.058875769885431, 6.42168859050172, 6.5082525074287725, 6.573264711106771, 6.573264711106771, 7.754361025426629, 8.529340453965386, 8.79875811473882, 9.042846597783457, 9.042846597783457, 9.650917956417763, 9.789976727862, 9.789976727862], \"type\": \"scatter\"}, {\"mode\": \"lines+markers\", \"name\": \"tentative pareto\", \"x\": [12.86169206735707, 12.86169206735707, 10.66782880598424, 10.004118638821982, 9.871322171140008, 9.47690249133643, 0.0], \"y\": [0.0, 8.00435747687039, 8.662304135880284, 9.66853686964495, 9.66853686964495, 9.853465141227218, 9.853465141227218], \"type\": \"scatter\"}]}, {\"data\": [{\"mode\": \"lines+markers\", \"name\": \"estimated pareto\", \"x\": [9.733697726262688, 9.733697726262688, 9.098088707580358, 9.098088707580358, 8.672984108531022, 8.258313370734408, 7.513077861098761, 7.3281214834165525, 7.3281214834165525, 7.093950619297406, 6.580794336195245, 6.307403877865244, 6.307403877865244, 6.292141507099237, 4.940828739540212, 3.1729919800950097, 2.445651218505087, 2.445651218505087, 2.2888374463188206, 1.0532775549958533, 0.0], \"y\": [0.0, 1.9023534680376608, 2.689416244391832, 2.689416244391832, 2.78061202393153, 5.224934788815689, 5.9576230214489, 6.058875769885431, 6.058875769885431, 6.42168859050172, 6.5082525074287725, 6.573264711106771, 6.573264711106771, 7.754361025426629, 8.529340453965386, 8.79875811473882, 9.042846597783457, 9.042846597783457, 9.650917956417763, 9.789976727862, 9.789976727862], \"type\": \"scatter\"}, {\"mode\": \"lines+markers\", \"name\": \"tentative pareto\", \"x\": [12.86169206735707, 12.86169206735707, 12.86169206735707, 11.601221670838552, 10.532793433171848, 7.557175214063588, 6.143976611022554, 5.327982323413066, 3.6529688488977285, 3.6221160928498337, 1.9952091837768224, 0.0], \"y\": [0.0, 1.576982387373167, -0.5523976265508868, 9.346935261616345, 9.853465141227218, 9.853465141227218, 10.816154391254425, 11.178305332481745, 11.178305332481745, 11.178305332481745, 11.178305332481745, 11.178305332481745], \"type\": \"scatter\"}]}, {\"data\": [{\"mode\": \"lines+markers\", \"name\": \"estimated pareto\", \"x\": [9.733697726262688, 9.733697726262688, 9.098088707580358, 9.098088707580358, 8.672984108531022, 8.258313370734408, 7.513077861098761, 7.3281214834165525, 7.3281214834165525, 7.093950619297406, 6.580794336195245, 6.307403877865244, 6.307403877865244, 6.292141507099237, 4.940828739540212, 3.1729919800950097, 2.445651218505087, 2.445651218505087, 2.2888374463188206, 1.0532775549958533, 0.0], \"y\": [0.0, 1.9023534680376608, 2.689416244391832, 2.689416244391832, 2.78061202393153, 5.224934788815689, 5.9576230214489, 6.058875769885431, 6.058875769885431, 6.42168859050172, 6.5082525074287725, 6.573264711106771, 6.573264711106771, 7.754361025426629, 8.529340453965386, 8.79875811473882, 9.042846597783457, 9.042846597783457, 9.650917956417763, 9.789976727862, 9.789976727862], \"type\": \"scatter\"}, {\"mode\": \"lines+markers\", \"name\": \"tentative pareto\", \"x\": [12.86169206735707, 12.86169206735707, 12.86169206735707, 12.86169206735707, 11.910040799112595, 10.678415830006305, 10.6468979660159, 8.076143586856317, 5.177444546298361, 3.6056577295006216, 3.257071170925304, 2.5365388315139006, 2.412245557876646, 2.2443850906043323, 1.9162105496949464, 1.8258815201357492, 0.0], \"y\": [0.0, 5.705514382962139, 1.7514858286367763, 0.49474837207010314, 8.32229747940702, 9.66853686964495, 9.853465141227218, 9.853465141227218, 10.62026755099391, 11.178305332481745, 11.178305332481745, 11.2762186331962, 11.853357177731773, 11.853357177731773, 11.853357177731773, 11.853357177731773, 11.853357177731773], \"type\": \"scatter\"}]}, {\"data\": [{\"mode\": \"lines+markers\", \"name\": \"estimated pareto\", \"x\": [9.733697726262688, 9.733697726262688, 9.549246573538461, 8.672984108531022, 8.258313370734408, 7.513077861098761, 7.3281214834165525, 7.3281214834165525, 7.093950619297406, 6.580794336195245, 6.307403877865244, 6.307403877865244, 6.292141507099237, 4.940828739540212, 3.1729919800950097, 2.445651218505087, 2.445651218505087, 2.2888374463188206, 1.0532775549958533, 0.0], \"y\": [0.0, 1.9023534680376608, 2.7693718910176877, 2.78061202393153, 5.224934788815689, 5.9576230214489, 6.058875769885431, 6.058875769885431, 6.42168859050172, 6.5082525074287725, 6.573264711106771, 6.573264711106771, 7.754361025426629, 8.529340453965386, 8.79875811473882, 9.042846597783457, 9.042846597783457, 9.650917956417763, 9.789976727862, 9.789976727862], \"type\": \"scatter\"}, {\"mode\": \"lines+markers\", \"name\": \"tentative pareto\", \"x\": [12.86169206735707, 12.86169206735707, 12.86169206735707, 12.86169206735707, 12.86169206735707, 7.481018291072949, 3.820829919713852, 2.7897826219671686, 2.4939736703305533, 2.0747586395588695, 0.0], \"y\": [0.0, 6.4229990370517935, 4.261683452586165, 2.7279638759619065, 0.9222785671879423, 9.853465141227218, 11.178305332481745, 11.371102139395468, 11.853357177731773, 11.853357177731773, 11.853357177731773], \"type\": \"scatter\"}]}, {\"data\": [{\"mode\": \"lines+markers\", \"name\": \"estimated pareto\", \"x\": [9.733697726262688, 9.733697726262688, 9.549246573538461, 8.672984108531022, 8.258313370734408, 7.513077861098761, 7.3281214834165525, 7.3281214834165525, 7.093950619297406, 6.580794336195245, 6.307403877865244, 6.307403877865244, 6.292141507099237, 4.940828739540212, 3.1729919800950097, 2.445651218505087, 2.445651218505087, 2.2888374463188206, 1.0532775549958533, 0.0], \"y\": [0.0, 1.9023534680376608, 2.7693718910176877, 2.78061202393153, 5.224934788815689, 5.9576230214489, 6.058875769885431, 6.058875769885431, 6.42168859050172, 6.5082525074287725, 6.573264711106771, 6.573264711106771, 7.754361025426629, 8.529340453965386, 8.79875811473882, 9.042846597783457, 9.042846597783457, 9.650917956417763, 9.789976727862, 9.789976727862], \"type\": \"scatter\"}, {\"mode\": \"lines+markers\", \"name\": \"tentative pareto\", \"x\": [12.86169206735707, 12.86169206735707, 12.86169206735707, 12.86169206735707, 10.478894509015323, 9.351936987970749, 8.67195800927472, 8.400484751969639, 6.907231377628128, 6.541548409346959, 6.143976611022554, 5.510247370160776, 5.341786569902664, 4.8227219904062375, 4.681325612747248, 3.378604894645903, 0.6489735787014874, 0.0], \"y\": [0.0, 7.336144087984373, 3.935200871136045, 2.3166425550063625, 8.566361513677258, 9.59405841654501, 9.853465141227218, 9.853465141227218, 9.853465141227218, 9.853465141227218, 10.799935950413257, 11.178305332481745, 11.178305332481745, 11.178305332481745, 11.178305332481745, 11.853357177731773, 11.853357177731773, 11.853357177731773], \"type\": \"scatter\"}]}, {\"data\": [{\"mode\": \"lines+markers\", \"name\": \"estimated pareto\", \"x\": [9.733697726262688, 9.733697726262688, 9.549246573538461, 8.672984108531022, 8.258313370734408, 7.513077861098761, 7.3281214834165525, 7.3281214834165525, 7.093950619297406, 6.580794336195245, 6.307403877865244, 6.307403877865244, 6.292141507099237, 4.940828739540212, 3.1729919800950097, 2.445651218505087, 2.445651218505087, 2.2888374463188206, 1.0532775549958533, 0.0], \"y\": [0.0, 1.9023534680376608, 2.7693718910176877, 2.78061202393153, 5.224934788815689, 5.9576230214489, 6.058875769885431, 6.058875769885431, 6.42168859050172, 6.5082525074287725, 6.573264711106771, 6.573264711106771, 7.754361025426629, 8.529340453965386, 8.79875811473882, 9.042846597783457, 9.042846597783457, 9.650917956417763, 9.789976727862, 9.789976727862], \"type\": \"scatter\"}, {\"mode\": \"lines+markers\", \"name\": \"tentative pareto\", \"x\": [12.86169206735707, 12.86169206735707, 12.86169206735707, 11.090901094617145, 11.00115009793181, 9.49467498992276, 8.562899157543113, 7.035160535167604, 6.520627901277884, 3.8940856030185045, 2.6734844331515326, 1.172224657254491, 1.0983441118287853, 0.9269723294215828, 0.4479429748443754, 0.0], \"y\": [0.0, 5.37837143585088, 4.265809970522405, 6.429729644650805, 8.0458869991281, 9.853465141227218, 9.853465141227218, 9.853465141227218, 9.853465141227218, 11.178305332481745, 11.853357177731773, 12.396848664897206, 12.396848664897206, 12.396848664897206, 12.396848664897206, 12.396848664897206], \"type\": \"scatter\"}]}, {\"data\": [{\"mode\": \"lines+markers\", \"name\": \"estimated pareto\", \"x\": [9.733697726262688, 9.733697726262688, 9.549246573538461, 8.672984108531022, 8.258313370734408, 7.513077861098761, 7.3281214834165525, 7.3281214834165525, 7.093950619297406, 6.580794336195245, 6.307403877865244, 6.307403877865244, 6.292141507099237, 4.940828739540212, 3.1729919800950097, 2.445651218505087, 2.445651218505087, 2.2888374463188206, 1.0532775549958533, 0.0], \"y\": [0.0, 1.9023534680376608, 2.7693718910176877, 2.78061202393153, 5.224934788815689, 5.9576230214489, 6.058875769885431, 6.058875769885431, 6.42168859050172, 6.5082525074287725, 6.573264711106771, 6.573264711106771, 7.754361025426629, 8.529340453965386, 8.79875811473882, 9.042846597783457, 9.042846597783457, 9.650917956417763, 9.789976727862, 9.789976727862], \"type\": \"scatter\"}, {\"mode\": \"lines+markers\", \"name\": \"tentative pareto\", \"x\": [12.86169206735707, 12.86169206735707, 12.86169206735707, 12.86169206735707, 10.919024687285155, 8.369537487608401, 4.134428135318912, 2.6276412681959807, 2.590948623987271, 2.5565657538213733, 1.5222153906130569, 0.9675479195962812, 0.7458673666775509, 0.6335471512149848, 0.06941476750684528, 0.0], \"y\": [0.0, 7.9177969333854294, 5.96781539863135, -0.715813871061302, 9.03665509922699, 10.311353149405452, 11.178305332481745, 11.853357177731773, 11.853357177731773, 11.853357177731773, 12.396848664897206, 12.396848664897206, 12.396848664897206, 12.396848664897206, 12.396848664897206, 12.396848664897206], \"type\": \"scatter\"}]}, {\"data\": [{\"mode\": \"lines+markers\", \"name\": \"estimated pareto\", \"x\": [9.733697726262688, 9.733697726262688, 9.549246573538461, 8.672984108531022, 8.258313370734408, 7.513077861098761, 7.3281214834165525, 7.3281214834165525, 7.093950619297406, 6.580794336195245, 6.307403877865244, 6.307403877865244, 6.292141507099237, 4.940828739540212, 3.1729919800950097, 2.445651218505087, 2.445651218505087, 2.2888374463188206, 1.0532775549958533, 0.0], \"y\": [0.0, 1.9023534680376608, 2.7693718910176877, 2.78061202393153, 5.224934788815689, 5.9576230214489, 6.058875769885431, 6.058875769885431, 6.42168859050172, 6.5082525074287725, 6.573264711106771, 6.573264711106771, 7.754361025426629, 8.529340453965386, 8.79875811473882, 9.042846597783457, 9.042846597783457, 9.650917956417763, 9.789976727862, 9.789976727862], \"type\": \"scatter\"}, {\"mode\": \"lines+markers\", \"name\": \"tentative pareto\", \"x\": [12.86169206735707, 12.86169206735707, 12.86169206735707, 12.86169206735707, 12.67184101347377, 10.52286740201809, 9.70882905082553, 8.533868081011406, 6.143976611022554, 3.8050382599114245, 3.075295021403696, 2.43823815136186, 2.291971473153789, 2.2748805044623297, 2.1824497108198817, 1.921372157822472, 0.0], \"y\": [0.0, 9.853465141227218, 4.3887397735448825, 3.8258588565902407, 10.311353149405452, 10.311353149405452, 10.311353149405452, 10.311353149405452, 11.178305332481745, 11.178305332481745, 11.853357177731773, 11.853357177731773, 11.853357177731773, 11.853357177731773, 11.853357177731773, 12.396848664897206, 12.396848664897206], \"type\": \"scatter\"}]}, {\"data\": [{\"mode\": \"lines+markers\", \"name\": \"estimated pareto\", \"x\": [9.733697726262688, 9.733697726262688, 9.549246573538461, 8.672984108531022, 8.258313370734408, 7.513077861098761, 7.3281214834165525, 7.3281214834165525, 7.093950619297406, 6.580794336195245, 6.307403877865244, 6.307403877865244, 6.292141507099237, 4.940828739540212, 3.1729919800950097, 2.445651218505087, 2.445651218505087, 2.2888374463188206, 1.0532775549958533, 0.0], \"y\": [0.0, 1.9023534680376608, 2.7693718910176877, 2.78061202393153, 5.224934788815689, 5.9576230214489, 6.058875769885431, 6.058875769885431, 6.42168859050172, 6.5082525074287725, 6.573264711106771, 6.573264711106771, 7.754361025426629, 8.529340453965386, 8.79875811473882, 9.042846597783457, 9.042846597783457, 9.650917956417763, 9.789976727862, 9.789976727862], \"type\": \"scatter\"}, {\"mode\": \"lines+markers\", \"name\": \"tentative pareto\", \"x\": [12.86169206735707, 12.86169206735707, 12.86169206735707, 12.86169206735707, 12.86169206735707, 11.877061050197344, 10.323591333228906, 9.215389860418314, 9.038203093025844, 8.996833279817649, 8.514874027446195, 7.496909561152409, 7.316169764088578, 7.300332248844761, 6.140185838049165, 4.795830639808512, 4.466613466495593, 4.21519333232042, 3.271208400815757, 3.233676339821778, 3.2053210341601597, 2.7578886495010475, 2.5236696904722447, 1.3349857096090765, 0.4797622534599477, 0.34500575720460236, 0.0], \"y\": [0.0, 6.868643068977064, 4.4915791766282425, -0.2669454931855215, -1.7693701131714024, 9.330155452623298, 9.926753019548697, 10.311353149405452, 10.311353149405452, 10.311353149405452, 10.311353149405452, 10.311353149405452, 10.311353149405452, 10.311353149405452, 11.178305332481745, 11.178305332481745, 11.178305332481745, 11.178305332481745, 11.178305332481745, 11.853357177731773, 11.853357177731773, 11.853357177731773, 11.853357177731773, 12.396848664897206, 12.396848664897206, 12.396848664897206, 12.396848664897206], \"type\": \"scatter\"}]}, {\"data\": [{\"mode\": \"lines+markers\", \"name\": \"estimated pareto\", \"x\": [9.733697726262688, 9.733697726262688, 9.600560359957171, 9.549246573538461, 8.672984108531022, 8.258313370734408, 7.513077861098761, 7.3281214834165525, 7.3281214834165525, 7.093950619297406, 6.580794336195245, 6.307403877865244, 6.307403877865244, 6.292141507099237, 4.940828739540212, 3.1729919800950097, 2.445651218505087, 2.445651218505087, 2.2888374463188206, 1.0532775549958533, 0.0], \"y\": [0.0, 1.9023534680376608, 2.6980678213576104, 2.7693718910176877, 2.78061202393153, 5.224934788815689, 5.9576230214489, 6.058875769885431, 6.058875769885431, 6.42168859050172, 6.5082525074287725, 6.573264711106771, 6.573264711106771, 7.754361025426629, 8.529340453965386, 8.79875811473882, 9.042846597783457, 9.042846597783457, 9.650917956417763, 9.789976727862, 9.789976727862], \"type\": \"scatter\"}, {\"mode\": \"lines+markers\", \"name\": \"tentative pareto\", \"x\": [12.86169206735707, 12.86169206735707, 12.86169206735707, 10.71224091199127, 9.628848159188232, 6.143976611022554, 2.9596861671942403, 2.9507246712657356, 2.5257828864676775, 1.8706782695485435, 1.0141054976910329, 0.905978014313214, 0.0], \"y\": [0.0, 7.195597021472421, 6.648071461607891, 9.565882603258977, 9.835050388539258, 11.178305332481745, 11.853357177731773, 11.853357177731773, 11.853357177731773, 11.853357177731773, 12.396848664897206, 12.396848664897206, 12.396848664897206], \"type\": \"scatter\"}]}, {\"data\": [{\"mode\": \"lines+markers\", \"name\": \"estimated pareto\", \"x\": [9.733697726262688, 9.733697726262688, 9.611509800108182, 9.549246573538461, 8.672984108531022, 8.258313370734408, 7.513077861098761, 7.3281214834165525, 7.3281214834165525, 7.093950619297406, 6.580794336195245, 6.307403877865244, 6.307403877865244, 6.292141507099237, 4.940828739540212, 3.1729919800950097, 2.445651218505087, 2.445651218505087, 2.2888374463188206, 1.0532775549958533, 0.0], \"y\": [0.0, 1.9023534680376608, 2.7453145438503785, 2.7693718910176877, 2.78061202393153, 5.224934788815689, 5.9576230214489, 6.058875769885431, 6.058875769885431, 6.42168859050172, 6.5082525074287725, 6.573264711106771, 6.573264711106771, 7.754361025426629, 8.529340453965386, 8.79875811473882, 9.042846597783457, 9.042846597783457, 9.650917956417763, 9.789976727862, 9.789976727862], \"type\": \"scatter\"}, {\"mode\": \"lines+markers\", \"name\": \"tentative pareto\", \"x\": [9.733697726262688, 9.733697726262688, 9.611509800108182, 9.549246573538461, 9.05670488714042, 2.5006528083129425, 2.005655443384886, 1.7313201719846236, 1.5940263978248863, 1.3513967222913856, 0.38585986356162305, 0.0], \"y\": [0.0, 1.9023534680376608, 2.7453145438503785, 2.7693718910176877, 9.12552322825634, 11.853357177731773, 11.853357177731773, 12.396848664897206, 12.396848664897206, 12.396848664897206, 12.396848664897206, 12.396848664897206], \"type\": \"scatter\"}]}, {\"data\": [{\"mode\": \"lines+markers\", \"name\": \"estimated pareto\", \"x\": [9.733697726262688, 9.733697726262688, 9.611509800108182, 9.549246573538461, 8.672984108531022, 8.258313370734408, 7.513077861098761, 7.3281214834165525, 7.3281214834165525, 7.093950619297406, 6.580794336195245, 6.307403877865244, 6.307403877865244, 6.292141507099237, 4.940828739540212, 3.1729919800950097, 2.445651218505087, 2.445651218505087, 2.2888374463188206, 1.0532775549958533, 0.0], \"y\": [0.0, 1.9023534680376608, 2.7453145438503785, 2.7693718910176877, 2.78061202393153, 5.224934788815689, 5.9576230214489, 6.058875769885431, 6.058875769885431, 6.42168859050172, 6.5082525074287725, 6.573264711106771, 6.573264711106771, 7.754361025426629, 8.529340453965386, 8.79875811473882, 9.042846597783457, 9.042846597783457, 9.650917956417763, 9.789976727862, 9.789976727862], \"type\": \"scatter\"}, {\"mode\": \"lines+markers\", \"name\": \"tentative pareto\", \"x\": [11.009934916946769, 11.009934916946769, 11.009934916946769, 11.009934916946769, 11.009934916946769, 7.021606335017037, 4.419577003183761, 4.230643288344868, 4.118130812255894, 3.6262570483937573, 3.267176533564883, 3.200476039088881, 2.9460665035013816, 1.2676526446354566, 1.235898557442562, 1.1575532847477106, 1.027017659219482, 0.0], \"y\": [0.0, 7.117427897761429, 4.967857927544145, 4.231746238125758, 4.146819642902916, 9.12552322825634, 11.178305332481745, 11.178305332481745, 11.178305332481745, 11.178305332481745, 11.178305332481745, 11.178305332481745, 11.3862855235441, 11.853357177731773, 12.36866431498299, 12.396848664897206, 12.396848664897206, 12.396848664897206], \"type\": \"scatter\"}]}, {\"data\": [{\"mode\": \"lines+markers\", \"name\": \"estimated pareto\", \"x\": [9.733697726262688, 9.733697726262688, 9.611509800108182, 9.549246573538461, 8.672984108531022, 8.258313370734408, 7.513077861098761, 7.3281214834165525, 7.3281214834165525, 7.093950619297406, 6.580794336195245, 6.307403877865244, 6.307403877865244, 6.292141507099237, 4.940828739540212, 3.1729919800950097, 2.445651218505087, 2.445651218505087, 2.2888374463188206, 1.0532775549958533, 0.0], \"y\": [0.0, 1.9023534680376608, 2.7453145438503785, 2.7693718910176877, 2.78061202393153, 5.224934788815689, 5.9576230214489, 6.058875769885431, 6.058875769885431, 6.42168859050172, 6.5082525074287725, 6.573264711106771, 6.573264711106771, 7.754361025426629, 8.529340453965386, 8.79875811473882, 9.042846597783457, 9.042846597783457, 9.650917956417763, 9.789976727862, 9.789976727862], \"type\": \"scatter\"}, {\"mode\": \"lines+markers\", \"name\": \"tentative pareto\", \"x\": [11.009934916946769, 11.009934916946769, 10.671959281965162, 6.143976611022554, 4.437406816734081, 4.2828760812269735, 4.204070391652855, 3.2553943703905617, 2.7530126516050357, 2.3232057660230385, 2.091590915400914, 2.036522161207447, 1.6074869867964594, 1.2800563530979367, -0.34423574016054825, 0.0], \"y\": [0.0, 6.847372531256413, 9.12552322825634, 10.786971985924739, 11.178305332481745, 11.178305332481745, 11.178305332481745, 11.853357177731773, 11.853357177731773, 11.853357177731773, 11.853357177731773, 11.853357177731773, 11.853357177731773, 12.396848664897206, 12.396848664897206, 12.396848664897206], \"type\": \"scatter\"}]}, {\"data\": [{\"mode\": \"lines+markers\", \"name\": \"estimated pareto\", \"x\": [9.733697726262688, 9.733697726262688, 9.611509800108182, 9.549246573538461, 8.672984108531022, 8.258313370734408, 7.513077861098761, 7.3281214834165525, 7.3281214834165525, 7.093950619297406, 6.580794336195245, 6.307403877865244, 6.307403877865244, 6.292141507099237, 4.940828739540212, 3.1729919800950097, 2.95697002609741, 2.2888374463188206, 1.0532775549958533, 0.0], \"y\": [0.0, 1.9023534680376608, 2.7453145438503785, 2.7693718910176877, 2.78061202393153, 5.224934788815689, 5.9576230214489, 6.058875769885431, 6.058875769885431, 6.42168859050172, 6.5082525074287725, 6.573264711106771, 6.573264711106771, 7.754361025426629, 8.529340453965386, 8.79875811473882, 9.518703000199134, 9.650917956417763, 9.789976727862, 9.789976727862], \"type\": \"scatter\"}, {\"mode\": \"lines+markers\", \"name\": \"tentative pareto\", \"x\": [11.69906460205097, 11.69906460205097, 11.69906460205097, 11.69906460205097, 8.258313370734408, 7.513077861098761, 7.3281214834165525, 7.3281214834165525, 7.102881331382358, 4.6598586144258025, 1.3366069122106625, 1.3211645449809952, 1.1548460967468825, 0.7641915123100427, 0.5565563125421102, 0.0], \"y\": [0.0, 3.882664915063379, 1.257868288708559, -0.5078929979340359, 5.224934788815689, 5.9576230214489, 6.058875769885431, 6.058875769885431, 9.662586240452416, 11.178305332481745, 12.396848664897206, 12.396848664897206, 12.396848664897206, 12.396848664897206, 12.396848664897206, 12.396848664897206], \"type\": \"scatter\"}]}, {\"data\": [{\"mode\": \"lines+markers\", \"name\": \"estimated pareto\", \"x\": [9.733697726262688, 9.733697726262688, 9.611509800108182, 9.549246573538461, 8.672984108531022, 8.258313370734408, 7.513077861098761, 7.3281214834165525, 7.3281214834165525, 7.093950619297406, 6.580794336195245, 6.307403877865244, 6.307403877865244, 6.292141507099237, 4.940828739540212, 3.1729919800950097, 2.95697002609741, 2.2888374463188206, 1.0532775549958533, 0.0], \"y\": [0.0, 1.9023534680376608, 2.7453145438503785, 2.7693718910176877, 2.78061202393153, 5.224934788815689, 5.9576230214489, 6.058875769885431, 6.058875769885431, 6.42168859050172, 6.5082525074287725, 6.573264711106771, 6.573264711106771, 7.754361025426629, 8.529340453965386, 8.79875811473882, 9.518703000199134, 9.650917956417763, 9.789976727862, 9.789976727862], \"type\": \"scatter\"}, {\"mode\": \"lines+markers\", \"name\": \"tentative pareto\", \"x\": [11.69906460205097, 11.69906460205097, 11.69906460205097, 11.009934916946769, 10.844870613648792, 9.462477246072366, 6.143976611022554, 5.547729926041937, 4.786179563454034, 0.3134816023648942, 0.0], \"y\": [0.0, 1.226526455069299, -0.18238529256132274, 7.7285291597911545, 9.068568666224907, 9.662586240452416, 10.44973267451218, 11.178305332481745, 11.178305332481745, 12.396848664897206, 12.396848664897206], \"type\": \"scatter\"}]}, {\"data\": [{\"mode\": \"lines+markers\", \"name\": \"estimated pareto\", \"x\": [9.733697726262688, 9.733697726262688, 9.611509800108182, 9.549246573538461, 8.672984108531022, 8.258313370734408, 7.513077861098761, 7.3281214834165525, 7.3281214834165525, 7.093950619297406, 6.580794336195245, 6.307403877865244, 6.307403877865244, 6.292141507099237, 4.940828739540212, 3.1729919800950097, 2.95697002609741, 2.2888374463188206, 1.0532775549958533, 0.0], \"y\": [0.0, 1.9023534680376608, 2.7453145438503785, 2.7693718910176877, 2.78061202393153, 5.224934788815689, 5.9576230214489, 6.058875769885431, 6.058875769885431, 6.42168859050172, 6.5082525074287725, 6.573264711106771, 6.573264711106771, 7.754361025426629, 8.529340453965386, 8.79875811473882, 9.518703000199134, 9.650917956417763, 9.789976727862, 9.789976727862], \"type\": \"scatter\"}, {\"mode\": \"lines+markers\", \"name\": \"tentative pareto\", \"x\": [11.69906460205097, 11.69906460205097, 11.009934916946769, 11.009934916946769, 9.443923963904355, 8.505010107073232, 7.160165646006454, 5.056299730802902, 0.0], \"y\": [0.0, -0.44647348545018417, 6.861882634254083, 4.62987020732167, 9.662586240452416, 9.662586240452416, 9.662586240452416, 11.178305332481745, 11.178305332481745], \"type\": \"scatter\"}]}, {\"data\": [{\"mode\": \"lines+markers\", \"name\": \"estimated pareto\", \"x\": [9.733697726262688, 9.733697726262688, 9.611509800108182, 9.549246573538461, 8.672984108531022, 8.258313370734408, 7.513077861098761, 7.3281214834165525, 7.3281214834165525, 7.093950619297406, 6.580794336195245, 6.307403877865244, 6.307403877865244, 6.292141507099237, 4.940828739540212, 3.1729919800950097, 2.95697002609741, 2.2888374463188206, 1.0532775549958533, 0.0], \"y\": [0.0, 1.9023534680376608, 2.7453145438503785, 2.7693718910176877, 2.78061202393153, 5.224934788815689, 5.9576230214489, 6.058875769885431, 6.058875769885431, 6.42168859050172, 6.5082525074287725, 6.573264711106771, 6.573264711106771, 7.754361025426629, 8.529340453965386, 8.79875811473882, 9.518703000199134, 9.650917956417763, 9.789976727862, 9.789976727862], \"type\": \"scatter\"}, {\"mode\": \"lines+markers\", \"name\": \"tentative pareto\", \"x\": [11.69906460205097, 11.69906460205097, 11.69906460205097, 11.69906460205097, 11.021214685969866, 9.764779105802438, 9.02362713310876, 5.702180876526006, 5.281209563573027, 3.9817455096684093, 3.917550080102672, 2.601612433877461, 0.0], \"y\": [0.0, 3.754488634084919, 1.9828915302247334, -1.318591570625368, 9.662586240452416, 9.662586240452416, 9.662586240452416, 10.428164965712554, 11.178305332481745, 11.178305332481745, 11.178305332481745, 11.178305332481745, 11.178305332481745], \"type\": \"scatter\"}]}, {\"data\": [{\"mode\": \"lines+markers\", \"name\": \"estimated pareto\", \"x\": [9.733697726262688, 9.733697726262688, 9.611509800108182, 9.549246573538461, 8.672984108531022, 8.258313370734408, 7.513077861098761, 7.3281214834165525, 7.3281214834165525, 7.093950619297406, 6.580794336195245, 6.307403877865244, 6.307403877865244, 6.292141507099237, 4.940828739540212, 3.1729919800950097, 2.95697002609741, 2.2888374463188206, 1.0532775549958533, 0.0], \"y\": [0.0, 1.9023534680376608, 2.7453145438503785, 2.7693718910176877, 2.78061202393153, 5.224934788815689, 5.9576230214489, 6.058875769885431, 6.058875769885431, 6.42168859050172, 6.5082525074287725, 6.573264711106771, 6.573264711106771, 7.754361025426629, 8.529340453965386, 8.79875811473882, 9.518703000199134, 9.650917956417763, 9.789976727862, 9.789976727862], \"type\": \"scatter\"}, {\"mode\": \"lines+markers\", \"name\": \"tentative pareto\", \"x\": [11.69906460205097, 11.69906460205097, 11.69906460205097, 11.69906460205097, 11.519516997718075, 9.603526215157292, 9.301975502997749, 8.443170575283828, 7.723967809426227, 6.833547469769705, 6.5660698716624655, 5.767307030173701, 1.1329854645916755, -0.9644657344770118, 0.0], \"y\": [0.0, 5.651330275438303, 4.87932697906469, 2.796227045655124, 6.205040609742131, 8.632395824955834, 8.770782952241529, 9.12552322825634, 9.662586240452416, 11.644110974011612, 12.245086468951165, 12.245086468951165, 12.245086468951165, 12.245086468951165, 12.245086468951165], \"type\": \"scatter\"}]}, {\"data\": [{\"mode\": \"lines+markers\", \"name\": \"estimated pareto\", \"x\": [9.733697726262688, 9.733697726262688, 9.611509800108182, 9.549246573538461, 8.672984108531022, 8.258313370734408, 7.8682097531198165, 7.513077861098761, 7.3281214834165525, 7.3281214834165525, 7.093950619297406, 6.580794336195245, 6.307403877865244, 6.307403877865244, 6.292141507099237, 4.940828739540212, 3.1729919800950097, 2.95697002609741, 2.2888374463188206, 1.0532775549958533, 0.0], \"y\": [0.0, 1.9023534680376608, 2.7453145438503785, 2.7693718910176877, 2.78061202393153, 5.224934788815689, 5.297926126156044, 5.9576230214489, 6.058875769885431, 6.058875769885431, 6.42168859050172, 6.5082525074287725, 6.573264711106771, 6.573264711106771, 7.754361025426629, 8.529340453965386, 8.79875811473882, 9.518703000199134, 9.650917956417763, 9.789976727862, 9.789976727862], \"type\": \"scatter\"}, {\"mode\": \"lines+markers\", \"name\": \"tentative pareto\", \"x\": [11.69906460205097, 11.69906460205097, 11.69906460205097, 11.69906460205097, 11.100114611446175, 8.257636463217908, 7.0512734927900755, 4.257566578156796, 1.827565793385016, 0.0], \"y\": [0.0, 6.687319092937001, 5.576444159818124, -4.534360200973172, 7.878628098047636, 9.662586240452416, 12.245086468951165, 12.245086468951165, 12.245086468951165, 12.245086468951165], \"type\": \"scatter\"}]}, {\"data\": [{\"mode\": \"lines+markers\", \"name\": \"estimated pareto\", \"x\": [9.733697726262688, 9.733697726262688, 9.611509800108182, 9.549246573538461, 8.672984108531022, 8.258313370734408, 7.8682097531198165, 7.513077861098761, 7.3281214834165525, 7.3281214834165525, 7.093950619297406, 6.580794336195245, 6.307403877865244, 6.307403877865244, 6.292141507099237, 4.940828739540212, 4.3742366577232, 3.1729919800950097, 2.95697002609741, 2.2888374463188206, 1.0532775549958533, 0.0], \"y\": [0.0, 1.9023534680376608, 2.7453145438503785, 2.7693718910176877, 2.78061202393153, 5.224934788815689, 5.297926126156044, 5.9576230214489, 6.058875769885431, 6.058875769885431, 6.42168859050172, 6.5082525074287725, 6.573264711106771, 6.573264711106771, 7.754361025426629, 8.529340453965386, 8.64428915940205, 8.79875811473882, 9.518703000199134, 9.650917956417763, 9.789976727862, 9.789976727862], \"type\": \"scatter\"}, {\"mode\": \"lines+markers\", \"name\": \"tentative pareto\", \"x\": [12.742614047309527, 12.742614047309527, 12.742614047309527, 11.100114611446175, 10.947625987887898, 10.100998518124488, 8.99561027422843, 8.193409499457905, 5.262681234060241, 3.283431906858821, 2.8301472998143398, 2.6492643209117968, 0.0], \"y\": [0.0, 7.559284025843538, 0.40178574696348646, 9.188002296520917, 9.662586240452416, 9.662586240452416, 9.662586240452416, 9.662586240452416, 12.245086468951165, 12.245086468951165, 12.245086468951165, 12.245086468951165, 12.245086468951165], \"type\": \"scatter\"}]}, {\"data\": [{\"mode\": \"lines+markers\", \"name\": \"estimated pareto\", \"x\": [9.733697726262688, 9.733697726262688, 9.611509800108182, 9.549246573538461, 8.672984108531022, 8.258313370734408, 7.8682097531198165, 7.513077861098761, 7.3281214834165525, 7.3281214834165525, 7.093950619297406, 6.580794336195245, 6.307403877865244, 6.307403877865244, 6.292141507099237, 4.940828739540212, 4.3742366577232, 3.1729919800950097, 2.95697002609741, 2.2888374463188206, 1.0532775549958533, 0.0], \"y\": [0.0, 1.9023534680376608, 2.7453145438503785, 2.7693718910176877, 2.78061202393153, 5.224934788815689, 5.297926126156044, 5.9576230214489, 6.058875769885431, 6.058875769885431, 6.42168859050172, 6.5082525074287725, 6.573264711106771, 6.573264711106771, 7.754361025426629, 8.529340453965386, 8.64428915940205, 8.79875811473882, 9.518703000199134, 9.650917956417763, 9.789976727862, 9.789976727862], \"type\": \"scatter\"}, {\"mode\": \"lines+markers\", \"name\": \"tentative pareto\", \"x\": [12.742614047309527, 12.742614047309527, 12.742614047309527, 10.181810555418506, 9.132437259076164, 5.499822917266652, 4.833996460112294, 1.7215922903937413, 0.0], \"y\": [0.0, 6.569333761491286, 3.108135760047992, 9.662586240452416, 9.662586240452416, 12.245086468951165, 12.245086468951165, 12.245086468951165, 12.245086468951165], \"type\": \"scatter\"}]}, {\"data\": [{\"mode\": \"lines+markers\", \"name\": \"estimated pareto\", \"x\": [9.733697726262688, 9.733697726262688, 9.611509800108182, 9.549246573538461, 8.672984108531022, 8.258313370734408, 7.8682097531198165, 7.513077861098761, 7.3281214834165525, 7.3281214834165525, 7.093950619297406, 6.580794336195245, 6.307403877865244, 6.307403877865244, 6.292141507099237, 5.687377736669391, 4.940828739540212, 4.3742366577232, 3.1729919800950097, 2.95697002609741, 2.2888374463188206, 1.0532775549958533, 0.0], \"y\": [0.0, 1.9023534680376608, 2.7453145438503785, 2.7693718910176877, 2.78061202393153, 5.224934788815689, 5.297926126156044, 5.9576230214489, 6.058875769885431, 6.058875769885431, 6.42168859050172, 6.5082525074287725, 6.573264711106771, 6.573264711106771, 7.754361025426629, 8.224100233558303, 8.529340453965386, 8.64428915940205, 8.79875811473882, 9.518703000199134, 9.650917956417763, 9.789976727862, 9.789976727862], \"type\": \"scatter\"}, {\"mode\": \"lines+markers\", \"name\": \"tentative pareto\", \"x\": [11.30560899973495, 11.30560899973495, 4.940828739540212, 4.3742366577232, 3.1729919800950097, 2.95697002609741, 2.2888374463188206, 1.0532775549958533, 0.0], \"y\": [0.0, 8.47931126610656, 8.529340453965386, 8.64428915940205, 8.79875811473882, 9.518703000199134, 9.650917956417763, 9.789976727862, 9.789976727862], \"type\": \"scatter\"}]}, {\"data\": [{\"mode\": \"lines+markers\", \"name\": \"estimated pareto\", \"x\": [9.733697726262688, 9.733697726262688, 9.611509800108182, 9.549246573538461, 8.672984108531022, 8.299795536593425, 8.258313370734408, 7.8682097531198165, 7.513077861098761, 7.3281214834165525, 7.3281214834165525, 7.093950619297406, 6.580794336195245, 6.307403877865244, 6.307403877865244, 6.292141507099237, 5.687377736669391, 4.940828739540212, 4.3742366577232, 3.1729919800950097, 2.95697002609741, 2.2888374463188206, 1.0532775549958533, 0.0], \"y\": [0.0, 1.9023534680376608, 2.7453145438503785, 2.7693718910176877, 2.78061202393153, 4.347236824246154, 5.224934788815689, 5.297926126156044, 5.9576230214489, 6.058875769885431, 6.058875769885431, 6.42168859050172, 6.5082525074287725, 6.573264711106771, 6.573264711106771, 7.754361025426629, 8.224100233558303, 8.529340453965386, 8.64428915940205, 8.79875811473882, 9.518703000199134, 9.650917956417763, 9.789976727862, 9.789976727862], \"type\": \"scatter\"}, {\"mode\": \"lines+markers\", \"name\": \"tentative pareto\", \"x\": [12.742614047309527, 12.742614047309527, 11.69906460205097, 10.196212611955094, 10.01608514574525, 8.490813011628472, 8.118890850137362, 3.989839419196991, 3.3198297101301986, 2.662783823211856, 1.402617598732914, 0.0], \"y\": [0.0, 0.3352172973076315, 7.564073225144718, 9.662586240452416, 9.662586240452416, 9.662586240452416, 9.662586240452416, 11.066531942707439, 11.066531942707439, 11.066531942707439, 11.066531942707439, 11.066531942707439], \"type\": \"scatter\"}]}, {\"data\": [{\"mode\": \"lines+markers\", \"name\": \"estimated pareto\", \"x\": [9.733697726262688, 9.733697726262688, 9.611509800108182, 9.549246573538461, 8.672984108531022, 8.299795536593425, 8.258313370734408, 7.8682097531198165, 7.513077861098761, 7.3281214834165525, 7.3281214834165525, 7.093950619297406, 6.580794336195245, 6.307403877865244, 6.307403877865244, 6.292141507099237, 5.687377736669391, 4.940828739540212, 4.3742366577232, 3.1729919800950097, 2.95697002609741, 2.2888374463188206, 1.0532775549958533, 0.0], \"y\": [0.0, 1.9023534680376608, 2.7453145438503785, 2.7693718910176877, 2.78061202393153, 4.347236824246154, 5.224934788815689, 5.297926126156044, 5.9576230214489, 6.058875769885431, 6.058875769885431, 6.42168859050172, 6.5082525074287725, 6.573264711106771, 6.573264711106771, 7.754361025426629, 8.224100233558303, 8.529340453965386, 8.64428915940205, 8.79875811473882, 9.518703000199134, 9.650917956417763, 9.789976727862, 9.789976727862], \"type\": \"scatter\"}, {\"mode\": \"lines+markers\", \"name\": \"tentative pareto\", \"x\": [12.742614047309527, 12.742614047309527, 12.742614047309527, 12.742614047309527, 12.742614047309527, 12.742614047309527, 12.742614047309527, 11.80797011625969, 11.100114611446175, 8.52044986976302, 6.858983108027607, 1.0532775549958533, 0.0], \"y\": [0.0, 7.212315533368514, 6.225254448598923, 4.984320680370911, 3.386087759028822, 0.3844150983671937, 0.29054165507748264, 7.559284025843538, 9.418718903793593, 9.662586240452416, 9.662586240452416, 9.789976727862, 9.789976727862], \"type\": \"scatter\"}]}, {\"data\": [{\"mode\": \"lines+markers\", \"name\": \"estimated pareto\", \"x\": [9.733697726262688, 9.733697726262688, 9.611509800108182, 9.549246573538461, 8.672984108531022, 8.299795536593425, 8.258313370734408, 7.8682097531198165, 7.513077861098761, 7.3281214834165525, 7.3281214834165525, 7.093950619297406, 6.580794336195245, 6.307403877865244, 6.307403877865244, 6.292141507099237, 5.687377736669391, 4.940828739540212, 4.3742366577232, 3.1729919800950097, 2.95697002609741, 2.2888374463188206, 1.0532775549958533, 0.0], \"y\": [0.0, 1.9023534680376608, 2.7453145438503785, 2.7693718910176877, 2.78061202393153, 4.347236824246154, 5.224934788815689, 5.297926126156044, 5.9576230214489, 6.058875769885431, 6.058875769885431, 6.42168859050172, 6.5082525074287725, 6.573264711106771, 6.573264711106771, 7.754361025426629, 8.224100233558303, 8.529340453965386, 8.64428915940205, 8.79875811473882, 9.518703000199134, 9.650917956417763, 9.789976727862, 9.789976727862], \"type\": \"scatter\"}, {\"mode\": \"lines+markers\", \"name\": \"tentative pareto\", \"x\": [12.742614047309527, 12.742614047309527, 12.742614047309527, 12.742614047309527, 10.752043312866292, 8.234249316484451, 7.941062873206316, 7.753756836626089, 2.739836963288665, 2.0908039887650554, 1.1226065825266593, 0.6077963127429173, 0.0], \"y\": [0.0, 5.72267067276778, 5.083959403531551, -2.6154384537084425, 9.662586240452416, 9.662586240452416, 9.662586240452416, 9.662586240452416, 11.104719970292525, 12.732001921197341, 12.732001921197341, 12.732001921197341, 12.732001921197341], \"type\": \"scatter\"}]}, {\"data\": [{\"mode\": \"lines+markers\", \"name\": \"estimated pareto\", \"x\": [9.733697726262688, 9.733697726262688, 9.611509800108182, 9.549246573538461, 8.672984108531022, 8.299795536593425, 8.258313370734408, 7.8682097531198165, 7.513077861098761, 7.3281214834165525, 7.3281214834165525, 7.093950619297406, 6.580794336195245, 6.307403877865244, 6.307403877865244, 6.292141507099237, 5.687377736669391, 4.940828739540212, 4.3742366577232, 3.1729919800950097, 2.95697002609741, 2.2888374463188206, 1.0532775549958533, 0.0], \"y\": [0.0, 1.9023534680376608, 2.7453145438503785, 2.7693718910176877, 2.78061202393153, 4.347236824246154, 5.224934788815689, 5.297926126156044, 5.9576230214489, 6.058875769885431, 6.058875769885431, 6.42168859050172, 6.5082525074287725, 6.573264711106771, 6.573264711106771, 7.754361025426629, 8.224100233558303, 8.529340453965386, 8.64428915940205, 8.79875811473882, 9.518703000199134, 9.650917956417763, 9.789976727862, 9.789976727862], \"type\": \"scatter\"}, {\"mode\": \"lines+markers\", \"name\": \"tentative pareto\", \"x\": [12.742614047309527, 12.742614047309527, 12.742614047309527, 12.742614047309527, 12.742614047309527, 12.742614047309527, 12.742614047309527, 12.742614047309527, 12.742614047309527, 12.742614047309527, 12.742614047309527, 11.410899155302545, 9.10488221717874, 7.736639884122505, 6.754132467589283, 2.4540083235089982, 1.828574232051734, 0.0], \"y\": [0.0, 6.739167937740804, 4.082669962734727, 4.080289887724547, 3.4491743613679664, 3.089249157911014, 2.0287104039162505, 1.3765262920644445, 1.323792576358514, -0.692290205298427, -2.1183123835761855, 9.662586240452416, 9.662586240452416, 9.662586240452416, 9.662586240452416, 10.393941395376654, 12.143777639206736, 12.143777639206736], \"type\": \"scatter\"}]}, {\"data\": [{\"mode\": \"lines+markers\", \"name\": \"estimated pareto\", \"x\": [9.733697726262688, 9.733697726262688, 9.611509800108182, 9.549246573538461, 8.672984108531022, 8.299795536593425, 8.258313370734408, 7.8682097531198165, 7.513077861098761, 7.3281214834165525, 7.3281214834165525, 7.093950619297406, 6.580794336195245, 6.307403877865244, 6.307403877865244, 6.292141507099237, 5.687377736669391, 4.940828739540212, 4.3742366577232, 3.1729919800950097, 2.95697002609741, 2.2888374463188206, 1.0532775549958533, 0.0], \"y\": [0.0, 1.9023534680376608, 2.7453145438503785, 2.7693718910176877, 2.78061202393153, 4.347236824246154, 5.224934788815689, 5.297926126156044, 5.9576230214489, 6.058875769885431, 6.058875769885431, 6.42168859050172, 6.5082525074287725, 6.573264711106771, 6.573264711106771, 7.754361025426629, 8.224100233558303, 8.529340453965386, 8.64428915940205, 8.79875811473882, 9.518703000199134, 9.650917956417763, 9.789976727862, 9.789976727862], \"type\": \"scatter\"}, {\"mode\": \"lines+markers\", \"name\": \"tentative pareto\", \"x\": [12.742614047309527, 12.742614047309527, 12.742614047309527, 12.461762067766028, 11.676586235310296, 11.379151463637687, 11.100114611446175, 10.6716677698503, 9.252810054726751, 8.063859823115207, 8.048768439608198, 6.253343013417904, 2.6453225142424612, 2.5695169278537735, 2.5653407842953335, 0.0], \"y\": [0.0, 2.2137463317079944, -0.7320555402709563, 5.1647296954917, 5.713449977713226, 6.265244074612848, 7.210277957519331, 8.843712139658866, 9.418718903793593, 9.418718903793593, 9.662586240452416, 9.662586240452416, 10.70016603904781, 11.057670321647823, 12.732001921197341, 12.732001921197341], \"type\": \"scatter\"}]}, {\"data\": [{\"mode\": \"lines+markers\", \"name\": \"estimated pareto\", \"x\": [9.733697726262688, 9.733697726262688, 9.611509800108182, 9.549246573538461, 8.672984108531022, 8.299795536593425, 8.258313370734408, 7.8682097531198165, 7.513077861098761, 7.3281214834165525, 7.3281214834165525, 7.093950619297406, 6.580794336195245, 6.307403877865244, 6.307403877865244, 6.292141507099237, 5.687377736669391, 4.940828739540212, 4.3742366577232, 3.1729919800950097, 2.95697002609741, 2.2888374463188206, 1.0532775549958533, 0.0], \"y\": [0.0, 1.9023534680376608, 2.7453145438503785, 2.7693718910176877, 2.78061202393153, 4.347236824246154, 5.224934788815689, 5.297926126156044, 5.9576230214489, 6.058875769885431, 6.058875769885431, 6.42168859050172, 6.5082525074287725, 6.573264711106771, 6.573264711106771, 7.754361025426629, 8.224100233558303, 8.529340453965386, 8.64428915940205, 8.79875811473882, 9.518703000199134, 9.650917956417763, 9.789976727862, 9.789976727862], \"type\": \"scatter\"}, {\"mode\": \"lines+markers\", \"name\": \"tentative pareto\", \"x\": [12.742614047309527, 12.742614047309527, 11.94604164758486, 11.100114611446175, 10.979591989152839, 8.836875668284803, 7.787644636081494, 2.739836963288665, 2.413154170309612, 1.80112172511003, 1.7342029873555256, 1.678422268126089, 1.2372975770170649, 0.7311723023007802, 0.0], \"y\": [0.0, 2.1071414054283286, 7.456334621602421, 7.90564391796751, 9.418718903793593, 9.662586240452416, 9.662586240452416, 10.383124492638101, 12.732001921197341, 12.732001921197341, 12.732001921197341, 12.732001921197341, 12.732001921197341, 12.732001921197341, 12.732001921197341], \"type\": \"scatter\"}]}, {\"data\": [{\"mode\": \"lines+markers\", \"name\": \"estimated pareto\", \"x\": [9.733697726262688, 9.733697726262688, 9.723876810265544, 9.611509800108182, 9.549246573538461, 8.672984108531022, 8.299795536593425, 8.258313370734408, 7.8682097531198165, 7.513077861098761, 7.3281214834165525, 7.3281214834165525, 7.093950619297406, 6.580794336195245, 6.307403877865244, 6.307403877865244, 6.292141507099237, 5.687377736669391, 4.940828739540212, 4.3742366577232, 3.1729919800950097, 2.95697002609741, 2.2888374463188206, 1.0532775549958533, 0.0], \"y\": [0.0, 1.9023534680376608, 2.008390726155333, 2.7453145438503785, 2.7693718910176877, 2.78061202393153, 4.347236824246154, 5.224934788815689, 5.297926126156044, 5.9576230214489, 6.058875769885431, 6.058875769885431, 6.42168859050172, 6.5082525074287725, 6.573264711106771, 6.573264711106771, 7.754361025426629, 8.224100233558303, 8.529340453965386, 8.64428915940205, 8.79875811473882, 9.518703000199134, 9.650917956417763, 9.789976727862, 9.789976727862], \"type\": \"scatter\"}, {\"mode\": \"lines+markers\", \"name\": \"tentative pareto\", \"x\": [12.742614047309527, 12.742614047309527, 12.194127700797882, 11.100114611446175, 11.100114611446175, 2.95697002609741, 2.739836963288665, 1.7128809555866376, 0.0], \"y\": [0.0, 3.7810683444393587, 5.068249177831177, 9.418718903793593, 9.418718903793593, 9.518703000199134, 11.239535044872586, 12.732001921197341, 12.732001921197341], \"type\": \"scatter\"}]}, {\"data\": [{\"mode\": \"lines+markers\", \"name\": \"estimated pareto\", \"x\": [9.733697726262688, 9.733697726262688, 9.723876810265544, 9.611509800108182, 9.549246573538461, 8.672984108531022, 8.299795536593425, 8.258313370734408, 7.8682097531198165, 7.513077861098761, 7.3281214834165525, 7.3281214834165525, 7.093950619297406, 6.580794336195245, 6.307403877865244, 6.307403877865244, 6.292141507099237, 5.687377736669391, 4.940828739540212, 4.3742366577232, 3.1729919800950097, 2.95697002609741, 2.2888374463188206, 1.0532775549958533, 0.0], \"y\": [0.0, 1.9023534680376608, 2.008390726155333, 2.7453145438503785, 2.7693718910176877, 2.78061202393153, 4.347236824246154, 5.224934788815689, 5.297926126156044, 5.9576230214489, 6.058875769885431, 6.058875769885431, 6.42168859050172, 6.5082525074287725, 6.573264711106771, 6.573264711106771, 7.754361025426629, 8.224100233558303, 8.529340453965386, 8.64428915940205, 8.79875811473882, 9.518703000199134, 9.650917956417763, 9.789976727862, 9.789976727862], \"type\": \"scatter\"}, {\"mode\": \"lines+markers\", \"name\": \"tentative pareto\", \"x\": [12.742614047309527, 12.742614047309527, 12.742614047309527, 12.522759651437113, 11.539657743550094, 11.100114611446175, 10.30365225876637, 8.141870428734697, 2.1858024631201514, 1.827193998168536, 1.5942804894749563, 0.0], \"y\": [0.0, 5.09060148423861, 5.059875638363381, 6.07729205740935, 7.559284025843538, 9.418718903793593, 9.418718903793593, 10.345724406931074, 12.732001921197341, 12.732001921197341, 12.732001921197341, 12.732001921197341], \"type\": \"scatter\"}]}, {\"data\": [{\"mode\": \"lines+markers\", \"name\": \"estimated pareto\", \"x\": [9.733697726262688, 9.733697726262688, 9.723876810265544, 9.611509800108182, 9.549246573538461, 8.672984108531022, 8.299795536593425, 8.258313370734408, 7.8682097531198165, 7.513077861098761, 7.3281214834165525, 7.3281214834165525, 7.093950619297406, 6.580794336195245, 6.307403877865244, 6.307403877865244, 6.292141507099237, 5.687377736669391, 4.940828739540212, 4.3742366577232, 3.1729919800950097, 2.95697002609741, 2.2888374463188206, 1.0532775549958533, 0.0], \"y\": [0.0, 1.9023534680376608, 2.008390726155333, 2.7453145438503785, 2.7693718910176877, 2.78061202393153, 4.347236824246154, 5.224934788815689, 5.297926126156044, 5.9576230214489, 6.058875769885431, 6.058875769885431, 6.42168859050172, 6.5082525074287725, 6.573264711106771, 6.573264711106771, 7.754361025426629, 8.224100233558303, 8.529340453965386, 8.64428915940205, 8.79875811473882, 9.518703000199134, 9.650917956417763, 9.789976727862, 9.789976727862], \"type\": \"scatter\"}, {\"mode\": \"lines+markers\", \"name\": \"tentative pareto\", \"x\": [12.742614047309527, 12.742614047309527, 12.742614047309527, 11.100114611446175, 10.626573285412139, 10.55507275958722, 9.7849663799003, 8.924561102059691, 8.427063856648227, 8.141870428734697, 3.5572018680707096, 1.9792685776147143, 1.2940406549959986, 1.2858021890261964, 0.0], \"y\": [0.0, 5.311266336262432, 3.6521988470488305, 6.032209480288483, 6.057257864176327, 7.243649251321772, 9.418718903793593, 9.418718903793593, 9.418718903793593, 9.677338523546664, 11.439990286516537, 12.732001921197341, 12.732001921197341, 12.732001921197341, 12.732001921197341], \"type\": \"scatter\"}]}, {\"data\": [{\"mode\": \"lines+markers\", \"name\": \"estimated pareto\", \"x\": [9.733697726262688, 9.733697726262688, 9.723876810265544, 9.611509800108182, 9.549246573538461, 8.672984108531022, 8.299795536593425, 8.258313370734408, 7.8682097531198165, 7.513077861098761, 7.3281214834165525, 7.3281214834165525, 7.093950619297406, 6.580794336195245, 6.307403877865244, 6.307403877865244, 6.292141507099237, 5.687377736669391, 4.940828739540212, 4.3742366577232, 3.1729919800950097, 2.95697002609741, 2.2888374463188206, 1.0532775549958533, 0.0], \"y\": [0.0, 1.9023534680376608, 2.008390726155333, 2.7453145438503785, 2.7693718910176877, 2.78061202393153, 4.347236824246154, 5.224934788815689, 5.297926126156044, 5.9576230214489, 6.058875769885431, 6.058875769885431, 6.42168859050172, 6.5082525074287725, 6.573264711106771, 6.573264711106771, 7.754361025426629, 8.224100233558303, 8.529340453965386, 8.64428915940205, 8.79875811473882, 9.518703000199134, 9.650917956417763, 9.789976727862, 9.789976727862], \"type\": \"scatter\"}, {\"mode\": \"lines+markers\", \"name\": \"tentative pareto\", \"x\": [12.742614047309527, 12.742614047309527, 11.100114611446175, 11.100114611446175, 10.563943039414035, 10.198593391686973, 7.261242905835212, 6.8171893003702095, 6.444856614261541, 5.052511079500377, 2.0810711012282557, 1.8443321628586116, 1.2658077814990334, 0.0], \"y\": [0.0, 5.339215906612218, 6.345683416804226, 5.906935005935662, 6.7219695074434105, 7.270032573415199, 9.775328112684557, 9.817424355852408, 11.314217075595916, 11.439990286516537, 12.732001921197341, 12.732001921197341, 12.732001921197341, 12.732001921197341], \"type\": \"scatter\"}]}, {\"data\": [{\"mode\": \"lines+markers\", \"name\": \"estimated pareto\", \"x\": [9.733697726262688, 9.733697726262688, 9.723876810265544, 9.611509800108182, 9.549246573538461, 8.672984108531022, 8.299795536593425, 8.258313370734408, 7.8682097531198165, 7.513077861098761, 7.3281214834165525, 7.3281214834165525, 7.093950619297406, 6.580794336195245, 6.307403877865244, 6.307403877865244, 6.292141507099237, 5.687377736669391, 4.940828739540212, 4.3742366577232, 3.1729919800950097, 2.95697002609741, 2.2888374463188206, 1.0532775549958533, 0.0], \"y\": [0.0, 1.9023534680376608, 2.008390726155333, 2.7453145438503785, 2.7693718910176877, 2.78061202393153, 4.347236824246154, 5.224934788815689, 5.297926126156044, 5.9576230214489, 6.058875769885431, 6.058875769885431, 6.42168859050172, 6.5082525074287725, 6.573264711106771, 6.573264711106771, 7.754361025426629, 8.224100233558303, 8.529340453965386, 8.64428915940205, 8.79875811473882, 9.518703000199134, 9.650917956417763, 9.789976727862, 9.789976727862], \"type\": \"scatter\"}, {\"mode\": \"lines+markers\", \"name\": \"tentative pareto\", \"x\": [12.038714818520319, 12.038714818520319, 11.818840686471917, 9.199276848921102, 8.141870428734697, 5.385069677637489, 2.376684833911101, 1.746947551985805, 0.9968409484540383, 0.0], \"y\": [0.0, 5.823584745777646, 7.069072542623998, 7.51656473702636, 11.439990286516537, 11.439990286516537, 11.439990286516537, 12.732001921197341, 12.732001921197341, 12.732001921197341], \"type\": \"scatter\"}]}, {\"data\": [{\"mode\": \"lines+markers\", \"name\": \"estimated pareto\", \"x\": [9.733697726262688, 9.733697726262688, 9.723876810265544, 9.611509800108182, 9.549246573538461, 8.672984108531022, 8.299795536593425, 8.258313370734408, 7.8682097531198165, 7.513077861098761, 7.3281214834165525, 7.3281214834165525, 7.093950619297406, 6.580794336195245, 6.307403877865244, 6.307403877865244, 6.292141507099237, 5.687377736669391, 4.940828739540212, 4.3742366577232, 3.1729919800950097, 2.95697002609741, 2.2888374463188206, 1.0532775549958533, 0.0], \"y\": [0.0, 1.9023534680376608, 2.008390726155333, 2.7453145438503785, 2.7693718910176877, 2.78061202393153, 4.347236824246154, 5.224934788815689, 5.297926126156044, 5.9576230214489, 6.058875769885431, 6.058875769885431, 6.42168859050172, 6.5082525074287725, 6.573264711106771, 6.573264711106771, 7.754361025426629, 8.224100233558303, 8.529340453965386, 8.64428915940205, 8.79875811473882, 9.518703000199134, 9.650917956417763, 9.789976727862, 9.789976727862], \"type\": \"scatter\"}, {\"mode\": \"lines+markers\", \"name\": \"tentative pareto\", \"x\": [9.733697726262688, 9.733697726262688, 9.723876810265544, 9.611509800108182, 9.549246573538461, 8.672984108531022, 8.299795536593425, 8.258313370734408, 7.8682097531198165, 7.513077861098761, 7.3281214834165525, 7.3281214834165525, 7.093950619297406, 6.580794336195245, 6.307403877865244, 6.307403877865244, 6.292141507099237, 5.687377736669391, 4.940828739540212, 4.3742366577232, 3.1729919800950097, 2.95697002609741, 2.739836963288665, 0.0], \"y\": [0.0, 1.9023534680376608, 2.008390726155333, 2.7453145438503785, 2.7693718910176877, 2.78061202393153, 4.347236824246154, 5.224934788815689, 5.297926126156044, 5.9576230214489, 6.058875769885431, 6.058875769885431, 6.42168859050172, 6.5082525074287725, 6.573264711106771, 6.573264711106771, 7.754361025426629, 8.224100233558303, 8.529340453965386, 8.64428915940205, 8.79875811473882, 9.518703000199134, 12.732001921197341, 12.732001921197341], \"type\": \"scatter\"}]}, {\"data\": [{\"mode\": \"lines+markers\", \"name\": \"estimated pareto\", \"x\": [9.733697726262688, 9.733697726262688, 9.723876810265544, 9.611509800108182, 9.549246573538461, 8.672984108531022, 8.299795536593425, 8.258313370734408, 7.8682097531198165, 7.513077861098761, 7.3281214834165525, 7.3281214834165525, 7.093950619297406, 6.580794336195245, 6.307403877865244, 6.307403877865244, 6.292141507099237, 5.687377736669391, 4.940828739540212, 4.3742366577232, 3.1729919800950097, 2.95697002609741, 2.2888374463188206, 1.0532775549958533, 0.0], \"y\": [0.0, 1.9023534680376608, 2.008390726155333, 2.7453145438503785, 2.7693718910176877, 2.78061202393153, 4.347236824246154, 5.224934788815689, 5.297926126156044, 5.9576230214489, 6.058875769885431, 6.058875769885431, 6.42168859050172, 6.5082525074287725, 6.573264711106771, 6.573264711106771, 7.754361025426629, 8.224100233558303, 8.529340453965386, 8.64428915940205, 8.79875811473882, 9.518703000199134, 9.650917956417763, 9.789976727862, 9.789976727862], \"type\": \"scatter\"}, {\"mode\": \"lines+markers\", \"name\": \"tentative pareto\", \"x\": [9.733697726262688, 9.733697726262688, 9.723876810265544, 9.611509800108182, 9.549246573538461, 8.672984108531022, 8.299795536593425, 8.258313370734408, 8.141870428734697, 8.141870428734697, 8.141870428734697, 4.950323708222557, 4.619750356667767, 3.340443588963296, 1.9720666021300413, 1.9151193963931814, 1.9045786956067619, 1.468464639131834, 0.0], \"y\": [0.0, 1.9023534680376608, 2.008390726155333, 2.7453145438503785, 2.7693718910176877, 2.78061202393153, 4.347236824246154, 5.224934788815689, 10.062244377115151, 8.67473436057523, 5.256597623892505, 10.223193021057646, 11.439990286516537, 11.439990286516537, 12.732001921197341, 12.732001921197341, 12.732001921197341, 12.732001921197341, 12.732001921197341], \"type\": \"scatter\"}]}, {\"data\": [{\"mode\": \"lines+markers\", \"name\": \"estimated pareto\", \"x\": [9.733697726262688, 9.733697726262688, 9.723876810265544, 9.611509800108182, 9.549246573538461, 8.672984108531022, 8.299795536593425, 8.258313370734408, 7.8682097531198165, 7.513077861098761, 7.3281214834165525, 7.3281214834165525, 7.093950619297406, 6.580794336195245, 6.307403877865244, 6.307403877865244, 6.292141507099237, 5.687377736669391, 4.940828739540212, 4.3742366577232, 3.1729919800950097, 2.95697002609741, 2.2888374463188206, 1.0532775549958533, 0.0], \"y\": [0.0, 1.9023534680376608, 2.008390726155333, 2.7453145438503785, 2.7693718910176877, 2.78061202393153, 4.347236824246154, 5.224934788815689, 5.297926126156044, 5.9576230214489, 6.058875769885431, 6.058875769885431, 6.42168859050172, 6.5082525074287725, 6.573264711106771, 6.573264711106771, 7.754361025426629, 8.224100233558303, 8.529340453965386, 8.64428915940205, 8.79875811473882, 9.518703000199134, 9.650917956417763, 9.789976727862, 9.789976727862], \"type\": \"scatter\"}, {\"mode\": \"lines+markers\", \"name\": \"tentative pareto\", \"x\": [9.733697726262688, 9.733697726262688, 9.723876810265544, 9.611509800108182, 9.549246573538461, 8.672984108531022, 8.299795536593425, 8.258313370734408, 8.141870428734697, 8.141870428734697, 8.141870428734697, 8.037701080085156, 5.39785195744566, 3.7366285226827767, 2.791775002171601, 0.0], \"y\": [0.0, 1.9023534680376608, 2.008390726155333, 2.7453145438503785, 2.7693718910176877, 2.78061202393153, 4.347236824246154, 5.224934788815689, 9.820030379600393, 8.544292412764488, 7.141633616118953, 11.439990286516537, 11.439990286516537, 11.439990286516537, 11.439990286516537, 11.439990286516537], \"type\": \"scatter\"}]}, {\"data\": [{\"mode\": \"lines+markers\", \"name\": \"estimated pareto\", \"x\": [9.733697726262688, 9.733697726262688, 9.723876810265544, 9.611509800108182, 9.549246573538461, 8.672984108531022, 8.299795536593425, 8.258313370734408, 7.8682097531198165, 7.513077861098761, 7.3281214834165525, 7.3281214834165525, 7.093950619297406, 6.580794336195245, 6.307403877865244, 6.307403877865244, 6.292141507099237, 5.687377736669391, 4.940828739540212, 4.3742366577232, 3.1729919800950097, 2.95697002609741, 2.2888374463188206, 1.0532775549958533, 0.0], \"y\": [0.0, 1.9023534680376608, 2.008390726155333, 2.7453145438503785, 2.7693718910176877, 2.78061202393153, 4.347236824246154, 5.224934788815689, 5.297926126156044, 5.9576230214489, 6.058875769885431, 6.058875769885431, 6.42168859050172, 6.5082525074287725, 6.573264711106771, 6.573264711106771, 7.754361025426629, 8.224100233558303, 8.529340453965386, 8.64428915940205, 8.79875811473882, 9.518703000199134, 9.650917956417763, 9.789976727862, 9.789976727862], \"type\": \"scatter\"}, {\"mode\": \"lines+markers\", \"name\": \"tentative pareto\", \"x\": [9.733697726262688, 9.733697726262688, 9.723876810265544, 9.611509800108182, 9.549246573538461, 8.672984108531022, 8.299795536593425, 8.258313370734408, 8.141870428734697, 8.141870428734697, 8.141870428734697, 4.803618297470055, 4.663035092740198, 0.7176816824169769, 0.0], \"y\": [0.0, 1.9023534680376608, 2.008390726155333, 2.7453145438503785, 2.7693718910176877, 2.78061202393153, 4.347236824246154, 5.224934788815689, 11.439990286516537, 10.993482361204984, 7.743709030066924, 11.439990286516537, 11.439990286516537, 11.439990286516537, 11.439990286516537], \"type\": \"scatter\"}]}, {\"data\": [{\"mode\": \"lines+markers\", \"name\": \"estimated pareto\", \"x\": [9.733697726262688, 9.733697726262688, 9.723876810265544, 9.611509800108182, 9.549246573538461, 8.672984108531022, 8.299795536593425, 8.258313370734408, 7.8682097531198165, 7.513077861098761, 7.3281214834165525, 7.3281214834165525, 7.093950619297406, 6.580794336195245, 6.307403877865244, 6.307403877865244, 6.292141507099237, 5.687377736669391, 4.940828739540212, 4.3742366577232, 3.1729919800950097, 2.95697002609741, 2.2888374463188206, 1.0532775549958533, 0.0], \"y\": [0.0, 1.9023534680376608, 2.008390726155333, 2.7453145438503785, 2.7693718910176877, 2.78061202393153, 4.347236824246154, 5.224934788815689, 5.297926126156044, 5.9576230214489, 6.058875769885431, 6.058875769885431, 6.42168859050172, 6.5082525074287725, 6.573264711106771, 6.573264711106771, 7.754361025426629, 8.224100233558303, 8.529340453965386, 8.64428915940205, 8.79875811473882, 9.518703000199134, 9.650917956417763, 9.789976727862, 9.789976727862], \"type\": \"scatter\"}, {\"mode\": \"lines+markers\", \"name\": \"tentative pareto\", \"x\": [9.733697726262688, 9.733697726262688, 9.723876810265544, 9.611509800108182, 9.549246573538461, 8.672984108531022, 8.299795536593425, 8.258313370734408, 7.8682097531198165, 7.513077861098761, 7.3281214834165525, 7.3281214834165525, 7.093950619297406, 6.580794336195245, 6.307403877865244, 6.307403877865244, 6.292141507099237, 5.687377736669391, 4.940828739540212, 4.3742366577232, 3.1729919800950097, 2.95697002609741, 2.2888374463188206, 1.0532775549958533, 0.0], \"y\": [0.0, 1.9023534680376608, 2.008390726155333, 2.7453145438503785, 2.7693718910176877, 2.78061202393153, 4.347236824246154, 5.224934788815689, 5.297926126156044, 5.9576230214489, 6.058875769885431, 6.058875769885431, 6.42168859050172, 6.5082525074287725, 6.573264711106771, 6.573264711106771, 7.754361025426629, 8.224100233558303, 8.529340453965386, 8.64428915940205, 8.79875811473882, 9.518703000199134, 9.650917956417763, 9.789976727862, 9.789976727862], \"type\": \"scatter\"}]}, {\"data\": [{\"mode\": \"lines+markers\", \"name\": \"estimated pareto\", \"x\": [9.733697726262688, 9.733697726262688, 9.723876810265544, 9.611509800108182, 9.549246573538461, 8.672984108531022, 8.299795536593425, 8.258313370734408, 7.8682097531198165, 7.513077861098761, 7.3281214834165525, 7.3281214834165525, 7.093950619297406, 6.580794336195245, 6.307403877865244, 6.307403877865244, 6.292141507099237, 5.687377736669391, 4.940828739540212, 4.3742366577232, 3.1729919800950097, 2.95697002609741, 2.2888374463188206, 1.0532775549958533, 0.0], \"y\": [0.0, 1.9023534680376608, 2.008390726155333, 2.7453145438503785, 2.7693718910176877, 2.78061202393153, 4.347236824246154, 5.224934788815689, 5.297926126156044, 5.9576230214489, 6.058875769885431, 6.058875769885431, 6.42168859050172, 6.5082525074287725, 6.573264711106771, 6.573264711106771, 7.754361025426629, 8.224100233558303, 8.529340453965386, 8.64428915940205, 8.79875811473882, 9.518703000199134, 9.650917956417763, 9.789976727862, 9.789976727862], \"type\": \"scatter\"}, {\"mode\": \"lines+markers\", \"name\": \"tentative pareto\", \"x\": [9.733697726262688, 9.733697726262688, 9.723876810265544, 9.611509800108182, 9.549246573538461, 8.672984108531022, 8.299795536593425, 8.258313370734408, 7.8682097531198165, 7.513077861098761, 7.3281214834165525, 7.3281214834165525, 7.093950619297406, 6.580794336195245, 6.307403877865244, 6.307403877865244, 6.292141507099237, 5.687377736669391, 4.940828739540212, 4.3742366577232, 3.1729919800950097, 2.95697002609741, 2.2888374463188206, 1.0532775549958533, 0.0], \"y\": [0.0, 1.9023534680376608, 2.008390726155333, 2.7453145438503785, 2.7693718910176877, 2.78061202393153, 4.347236824246154, 5.224934788815689, 5.297926126156044, 5.9576230214489, 6.058875769885431, 6.058875769885431, 6.42168859050172, 6.5082525074287725, 6.573264711106771, 6.573264711106771, 7.754361025426629, 8.224100233558303, 8.529340453965386, 8.64428915940205, 8.79875811473882, 9.518703000199134, 9.650917956417763, 9.789976727862, 9.789976727862], \"type\": \"scatter\"}]}]);\n",
       "                        }).then(function(){\n",
       "                            \n",
       "var gd = document.getElementById('a0e8ed2a-20ef-40eb-9756-6588d8ebddaa');\n",
       "var x = new MutationObserver(function (mutations, observer) {{\n",
       "        var display = window.getComputedStyle(gd).display;\n",
       "        if (!display || display === 'none') {{\n",
       "            console.log([gd, 'removed!']);\n",
       "            Plotly.purge(gd);\n",
       "            observer.disconnect();\n",
       "        }}\n",
       "}});\n",
       "\n",
       "// Listen for the removal of the full notebook cells\n",
       "var notebookContainer = gd.closest('#notebook-container');\n",
       "if (notebookContainer) {{\n",
       "    x.observe(notebookContainer, {childList: true});\n",
       "}}\n",
       "\n",
       "// Listen for the clearing of the current output cell\n",
       "var outputEl = gd.closest('.output');\n",
       "if (outputEl) {{\n",
       "    x.observe(outputEl, {childList: true});\n",
       "}}\n",
       "\n",
       "                        })                };                });            </script>        </div>"
      ]
     },
     "metadata": {},
     "output_type": "display_data"
    }
   ],
   "source": [
    "for config in pending_suggestions:\n",
    "    value = objective_function.evaluate_point(config)\n",
    "    optimizer.register(config.to_dataframe(), value.to_dataframe())\n",
    "    tentative_pareto_dfs_over_time.append(optimizer.experiment_designer._tentative_pareto_frontier.pareto_df)\n",
    "    pareto_dfs_over_time.append(optimizer.pareto_frontier.pareto_df)\n",
    "\n",
    "params_df, objectives_df, context_df = optimizer.get_all_observations()\n",
    "objectives_over_time = [objectives_df[:i] for i in objectives_df.index]\n",
    "\n",
    "# Let's add a leading and trailing row to the frontier to make the volume clearer.\n",
    "#\n",
    "augmented_pareto_dfs_over_time = []\n",
    "for pareto_df in pareto_dfs_over_time:\n",
    "    max_y0 = pareto_df['y0'].max()\n",
    "    max_y1 = pareto_df['y1'].max()\n",
    "    last_row = pd.DataFrame({'y0': [0], 'y1': [pareto_df['y1'].max()]})\n",
    "    first_row = pd.DataFrame({'y0': [pareto_df['y0'].max()], 'y1': [0]})\n",
    "    augmented_pareto_df = pd.concat([first_row, pareto_df, last_row], ignore_index=True)\n",
    "    augmented_pareto_dfs_over_time.append(augmented_pareto_df)\n",
    "\n",
    "pareto_dfs_over_time = augmented_pareto_dfs_over_time\n",
    "\n",
    "augmented_pareto_dfs_over_time = []\n",
    "for pareto_df in tentative_pareto_dfs_over_time:\n",
    "    max_y0 = pareto_df['y0'].max()\n",
    "    max_y1 = pareto_df['y1'].max()\n",
    "    last_row = pd.DataFrame({'y0': [0], 'y1': [pareto_df['y1'].max()]})\n",
    "    first_row = pd.DataFrame({'y0': [pareto_df['y0'].max()], 'y1': [0]})\n",
    "    augmented_pareto_df = pd.concat([first_row, pareto_df, last_row], ignore_index=True)\n",
    "    augmented_pareto_dfs_over_time.append(augmented_pareto_df)\n",
    "\n",
    "tentative_pareto_dfs_over_time = augmented_pareto_dfs_over_time\n",
    "\n",
    "import plotly.graph_objects as go\n",
    "\n",
    "\n",
    "\n",
    "# Create figure\n",
    "fig = go.Figure(\n",
    "    data=[\n",
    "        go.Scatter(\n",
    "            x=objectives_over_time[0]['y0'],\n",
    "            y=objectives_over_time[0]['y1'],\n",
    "            mode=\"markers\",\n",
    "            marker=dict(color=\"blue\", size=10),\n",
    "            name='observed objectives'\n",
    "        ),\n",
    "        go.Scatter(\n",
    "            x=true_pareto_df['y0'],\n",
    "            y=true_pareto_df['y1'],\n",
    "            name='true pareto'\n",
    "            #mode=\"markers\",\n",
    "            #marker=dict(color=\"red\", size=10)\n",
    "        )\n",
    "    ],\n",
    "    layout=go.Layout(\n",
    "        xaxis=dict(range=[0, 30], autorange=False, zeroline=False),\n",
    "        yaxis=dict(range=[0, 30], autorange=False, zeroline=False),\n",
    "        title_text=\"Pareto over time\",\n",
    "        hovermode=\"closest\",\n",
    "        updatemenus=[dict(type=\"buttons\", buttons=[dict(label=\"Play\", method=\"animate\", args=[None])])],\n",
    "        width=700,\n",
    "        height=600\n",
    "    ),\n",
    "    frames=[\n",
    "        go.Frame(\n",
    "            data=[\n",
    "                #go.Scatter(\n",
    "                #    x=true_pareto_df['y0'],\n",
    "                #    y=true_pareto_df['y1'],\n",
    "                #    name='true pareto',\n",
    "                #    mode=\"lines\",\n",
    "                #    #marker=dict(color=\"red\", size=10)\n",
    "                #),\n",
    "                go.Scatter(\n",
    "                    x=pareto_dfs_over_time[i]['y0'],\n",
    "                    y=pareto_dfs_over_time[i]['y1'],\n",
    "                    name='estimated pareto',\n",
    "                    mode='lines+markers'\n",
    "                ),\n",
    "                go.Scatter(\n",
    "                    x=tentative_pareto_dfs_over_time[i]['y0'],\n",
    "                    y=tentative_pareto_dfs_over_time[i]['y1'],\n",
    "                    name='tentative pareto',\n",
    "                    mode='lines+markers'\n",
    "                )\n",
    "            ]\n",
    "        )\n",
    "        for i in range(len(tentative_pareto_dfs_over_time))\n",
    "    ]\n",
    ")\n",
    "\n",
    "fig.show()"
   ]
  }
 ],
 "metadata": {
  "kernelspec": {
   "display_name": "Python 3",
   "language": "python",
   "name": "python3"
  },
  "language_info": {
   "codemirror_mode": {
    "name": "ipython",
    "version": 3
   },
   "file_extension": ".py",
   "mimetype": "text/x-python",
   "name": "python",
   "nbconvert_exporter": "python",
   "pygments_lexer": "ipython3",
   "version": "3.8.6"
  }
 },
 "nbformat": 4,
 "nbformat_minor": 4
}
