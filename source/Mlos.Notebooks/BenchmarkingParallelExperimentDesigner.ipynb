{
 "cells": [
  {
   "cell_type": "markdown",
   "metadata": {},
   "source": [
    "# Goal\n",
    "\n",
    "The objective of this notebook is to analyze the impact of maintaining and using a tentative pareto.\n",
    "\n",
    "# Method\n",
    "We will start simple: optimizing a 2D and 5D hypersphere 10 times each with and without tentative pareto. Then I'll plot pareto volume as a function of number of iterations. "
   ]
  },
  {
   "cell_type": "code",
   "execution_count": 1,
   "metadata": {},
   "outputs": [
    {
     "data": {
      "text/html": [
       "<style>.container { width:100% !important; }</style>"
      ],
      "text/plain": [
       "<IPython.core.display.HTML object>"
      ]
     },
     "metadata": {},
     "output_type": "display_data"
    }
   ],
   "source": [
    "from IPython.core.display import display, HTML\n",
    "display(HTML(\"<style>.container { width:100% !important; }</style>\"))"
   ]
  },
  {
   "cell_type": "code",
   "execution_count": null,
   "metadata": {},
   "outputs": [],
   "source": [
    "import concurrent.futures\n",
    "\n",
    "from run_optimization import run_optimization\n",
    "\n",
    "num_runs = 10\n",
    "volume_estimators_over_time_by_strategy = {True:[], False:[]}\n",
    "\n",
    "with concurrent.futures.ProcessPoolExecutor(max_workers=10) as executor:\n",
    "    outstanding_futures = set()\n",
    "    \n",
    "    for i in range(num_runs):\n",
    "        add_pending_suggestions = (i % 2 == 0)\n",
    "        future = executor.submit(run_optimization, i, 10, 200, add_pending_suggestions)\n",
    "        outstanding_futures.add(future)\n",
    "        \n",
    "    done_futures, outstanding_futures = concurrent.futures.wait(outstanding_futures, return_when=concurrent.futures.ALL_COMPLETED)\n",
    "    for future in done_futures:\n",
    "        add_pending_suggestions, pareto_volume_estimators_over_time = future.result()\n",
    "        volume_estimators = volume_estimators_over_time_by_strategy[add_pending_suggestions]\n",
    "        volume_estimators.append(pareto_volume_estimators_over_time)\n",
    "        "
   ]
  },
  {
   "cell_type": "code",
   "execution_count": null,
   "metadata": {},
   "outputs": [],
   "source": [
    "import plotly.graph_objs as go\n",
    "fig = go.Figure()\n",
    "\n",
    "runs = volume_estimators_over_time_by_strategy[True]\n",
    "num_runs = len(runs)\n",
    "num_data_points_per_run = len(runs[0])\n",
    "total_volume_over_time_with_tentative_pareto = [0 for run in range(num_data_points_per_run)]\n",
    "for run in runs:\n",
    "    current_run = []\n",
    "    for i, estimator in enumerate(run):\n",
    "        lower_bound, upper_bound = estimator.get_two_sided_confidence_interval_on_pareto_volume()\n",
    "        center = (lower_bound + upper_bound) / 2\n",
    "        current_run.append(center)\n",
    "        total_volume_over_time_with_tentative_pareto[i] += center\n",
    "    \n",
    "    fig.add_trace(go.Scatter(\n",
    "        y=current_run,\n",
    "        name=f'run_{i}_with_tentative_pareto',\n",
    "        marker={'color':'red'}\n",
    "    ))\n",
    "        \n",
    "average_volume_over_time_with_tentative_pareto = [total / num_runs for total in total_volume_over_time_with_tentative_pareto]\n",
    "\n",
    "fig.add_trace(go.Scatter(\n",
    "    y=average_volume_over_time_with_tentative_pareto,\n",
    "    name='average_volume_over_time_with_tentative_pareto',\n",
    "    marker={'color':'red'}\n",
    "))\n",
    "\n",
    "runs = volume_estimators_over_time_by_strategy[False]\n",
    "num_runs = len(runs)\n",
    "num_data_points_per_run = len(runs[0])\n",
    "total_volume_over_time_without_tentative_pareto = [0 for run in range(num_data_points_per_run)]\n",
    "for run in runs:\n",
    "    current_run = []\n",
    "    for i, estimator in enumerate(run):\n",
    "        lower_bound, upper_bound = estimator.get_two_sided_confidence_interval_on_pareto_volume()\n",
    "        center = (lower_bound + upper_bound) / 2\n",
    "        current_run.append(center)\n",
    "        total_volume_over_time_without_tentative_pareto[i] += center\n",
    "    \n",
    "    fig.add_trace(go.Scatter(\n",
    "        y=current_run,\n",
    "        name=f'run_{i}_without_tentative_pareto',\n",
    "        marker={'color':'blue'}\n",
    "    ))\n",
    "        \n",
    "average_volume_over_time_without_tentative_pareto = [total / num_runs for total in total_volume_over_time_without_tentative_pareto]\n",
    "\n",
    "fig.add_trace(go.Scatter(\n",
    "    y=average_volume_over_time_without_tentative_pareto,\n",
    "    name='average_volume_over_time_without_tentative_pareto',\n",
    "    marker={'color':'blue'}\n",
    "))\n",
    "\n",
    "fig.show()"
   ]
  }
 ],
 "metadata": {
  "kernelspec": {
   "display_name": "Python 3",
   "language": "python",
   "name": "python3"
  },
  "language_info": {
   "codemirror_mode": {
    "name": "ipython",
    "version": 3
   },
   "file_extension": ".py",
   "mimetype": "text/x-python",
   "name": "python",
   "nbconvert_exporter": "python",
   "pygments_lexer": "ipython3",
   "version": "3.8.3"
  }
 },
 "nbformat": 4,
 "nbformat_minor": 4
}
