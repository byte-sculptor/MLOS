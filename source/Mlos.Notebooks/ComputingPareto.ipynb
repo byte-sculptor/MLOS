{
 "cells": [
  {
   "cell_type": "markdown",
   "metadata": {},
   "source": [
    "# Goal\n",
    "\n",
    "The objective of this notebook is to demonstrate and visualize the computation of the pareto frontier."
   ]
  },
  {
   "cell_type": "code",
   "execution_count": 1,
   "metadata": {},
   "outputs": [
    {
     "data": {
      "text/html": [
       "<style>.container { width:100% !important; }</style>"
      ],
      "text/plain": [
       "<IPython.core.display.HTML object>"
      ]
     },
     "metadata": {},
     "output_type": "display_data"
    }
   ],
   "source": [
    "from IPython.core.display import display, HTML\n",
    "display(HTML(\"<style>.container { width:100% !important; }</style>\"))"
   ]
  },
  {
   "cell_type": "code",
   "execution_count": 2,
   "metadata": {},
   "outputs": [],
   "source": [
    "import matplotlib.pyplot as plt\n",
    "import pandas as pd\n",
    "\n",
    "from mlos.Optimizers.OptimizationProblem import OptimizationProblem, Objective\n",
    "from mlos.Optimizers.ParetoFrontier import ParetoFrontier\n",
    "from mlos.Spaces import SimpleHypergrid, ContinuousDimension\n"
   ]
  },
  {
   "cell_type": "markdown",
   "metadata": {},
   "source": [
    "Let's put toghether a very simple set of points, two of which are on the frontier, one is technically on the frontier, but is dominated by the first two, and several other points are strictly dominated.\n",
    "\n",
    "Assuming we are trying to maximize both y1 and y2:\n",
    "* Pareto efficient points (y1,y2): (1,2), (2,1)\n",
    "* Points on the frontier line but dominated: (0.5, 2), (1,1), (2, 0.5)\n",
    "* Strictly dominated points: (0.5, 0.5), (0.5, 1), (0.5, 1.5), (1, 0.5), (1.5, 0.5)"
   ]
  },
  {
   "cell_type": "code",
   "execution_count": 12,
   "metadata": {},
   "outputs": [
    {
     "data": {
      "text/plain": [
       "Text(0.5, 0, 'y1')"
      ]
     },
     "execution_count": 12,
     "metadata": {},
     "output_type": "execute_result"
    },
    {
     "data": {
      "image/png": "[encoded data removed]",
      "text/plain": [
       "<Figure size 360x360 with 1 Axes>"
      ]
     },
     "metadata": {
      "needs_background": "light"
     },
     "output_type": "display_data"
    }
   ],
   "source": [
    "optimization_problem = OptimizationProblem(\n",
    "    parameter_space=None,\n",
    "    objective_space=SimpleHypergrid(\n",
    "        name=\"objectives\",\n",
    "        dimensions=[\n",
    "            ContinuousDimension(name='y1', min=0, max=5),\n",
    "            ContinuousDimension(name='y2', min=0, max=5)\n",
    "        ]\n",
    "    ),\n",
    "    objectives=[\n",
    "        Objective(name='y1', minimize=False),\n",
    "        Objective(name='y2', minimize=False)\n",
    "    ]\n",
    ")\n",
    "\n",
    "objectives_df = pd.DataFrame(\n",
    "    [\n",
    "        [1, 2],\n",
    "        [2, 1],\n",
    "        [0.5, 2],\n",
    "        [1, 1],\n",
    "        [2, 0.5],\n",
    "        [0.5, 0.5],\n",
    "        [0.5, 1],\n",
    "        [0.5, 1.5],\n",
    "        [1, 0.5],\n",
    "        [1.5, 0.5]\n",
    "    ],\n",
    "    columns=['y1', 'y2']\n",
    ")\n",
    "\n",
    "pareto_line = pd.DataFrame(\n",
    "    [\n",
    "        [0.5, 2],\n",
    "        [1, 2],\n",
    "        [1, 1],\n",
    "        [2, 1],\n",
    "        [2, 0.5],\n",
    "    ],\n",
    "    columns=['y1', 'y2']\n",
    ")\n",
    "\n",
    "pareto_frontier = ParetoFrontier(optimization_problem, objectives_df)\n",
    "pareto_df = pareto_frontier.pareto_df\n",
    "\n",
    "plt.figure(figsize=(5, 5))\n",
    "plt.scatter(objectives_df['y1'], objectives_df['y2'], label=\"objectives\")\n",
    "plt.scatter(pareto_df['y1'], pareto_df['y2'], label=\"pareto\")\n",
    "plt.plot(pareto_line['y1'], pareto_line['y2'], label=\"frontier line\")\n",
    "plt.legend()\n",
    "plt.ylabel('y2')\n",
    "plt.xlabel('y1')"
   ]
  },
  {
   "cell_type": "code",
   "execution_count": 13,
   "metadata": {},
   "outputs": [
    {
     "data": {
      "text/plain": [
       "Text(0.5, 0, 'y1')"
      ]
     },
     "execution_count": 13,
     "metadata": {},
     "output_type": "execute_result"
    },
    {
     "data": {
      "image/png": "[encoded data removed]",
      "text/plain": [
       "<Figure size 360x360 with 1 Axes>"
      ]
     },
     "metadata": {
      "needs_background": "light"
     },
     "output_type": "display_data"
    }
   ],
   "source": [
    "# Let's see if we can determine if a point is dominated or not.\n",
    "#\n",
    "dominated_points_df = pd.DataFrame({\n",
    "    'y1': [0.8, 0.8, 1.6],\n",
    "    'y2': [0.8, 1.6, 0.8]\n",
    "})\n",
    "\n",
    "non_dominated_points_df = pd.DataFrame({\n",
    "    'y1': [0.8, 1.6, 2.6],\n",
    "    'y2': [2.6, 1.6, 0.8]\n",
    "})\n",
    "\n",
    "plt.figure(figsize=(5, 5))\n",
    "plt.scatter(objectives_df['y1'], objectives_df['y2'], label=\"objectives\")\n",
    "plt.scatter(pareto_df['y1'], pareto_df['y2'], label=\"pareto\")\n",
    "plt.scatter(dominated_points_df['y1'], dominated_points_df['y2'], label='dominated')\n",
    "plt.scatter(non_dominated_points_df['y1'], non_dominated_points_df['y2'], label='non dominated')\n",
    "plt.plot(pareto_line['y1'], pareto_line['y2'], label=\"frontier line\")\n",
    "plt.legend()\n",
    "plt.ylabel('y2')\n",
    "plt.xlabel('y1')"
   ]
  },
  {
   "cell_type": "code",
   "execution_count": 14,
   "metadata": {},
   "outputs": [
    {
     "data": {
      "text/plain": [
       "1    False\n",
       "4    False\n",
       "0    False\n",
       "3    False\n",
       "2    False\n",
       "dtype: bool"
      ]
     },
     "execution_count": 14,
     "metadata": {},
     "output_type": "execute_result"
    }
   ],
   "source": [
    "dominated_points_df.apply(lambda row: (row >= pareto_df).any(axis=1)).any(axis=1)\n"
   ]
  },
  {
   "cell_type": "code",
   "execution_count": 15,
   "metadata": {},
   "outputs": [
    {
     "data": {
      "text/html": [
       "<div>\n",
       "<style scoped>\n",
       "    .dataframe tbody tr th:only-of-type {\n",
       "        vertical-align: middle;\n",
       "    }\n",
       "\n",
       "    .dataframe tbody tr th {\n",
       "        vertical-align: top;\n",
       "    }\n",
       "\n",
       "    .dataframe thead th {\n",
       "        text-align: right;\n",
       "    }\n",
       "</style>\n",
       "<table border=\"1\" class=\"dataframe\">\n",
       "  <thead>\n",
       "    <tr style=\"text-align: right;\">\n",
       "      <th></th>\n",
       "      <th>y1</th>\n",
       "      <th>y2</th>\n",
       "    </tr>\n",
       "  </thead>\n",
       "  <tbody>\n",
       "    <tr>\n",
       "      <th>y1</th>\n",
       "      <td>False</td>\n",
       "      <td>False</td>\n",
       "    </tr>\n",
       "    <tr>\n",
       "      <th>y2</th>\n",
       "      <td>False</td>\n",
       "      <td>False</td>\n",
       "    </tr>\n",
       "    <tr>\n",
       "      <th>0</th>\n",
       "      <td>False</td>\n",
       "      <td>False</td>\n",
       "    </tr>\n",
       "    <tr>\n",
       "      <th>1</th>\n",
       "      <td>False</td>\n",
       "      <td>False</td>\n",
       "    </tr>\n",
       "    <tr>\n",
       "      <th>2</th>\n",
       "      <td>False</td>\n",
       "      <td>False</td>\n",
       "    </tr>\n",
       "  </tbody>\n",
       "</table>\n",
       "</div>"
      ],
      "text/plain": [
       "       y1     y2\n",
       "y1  False  False\n",
       "y2  False  False\n",
       "0   False  False\n",
       "1   False  False\n",
       "2   False  False"
      ]
     },
     "execution_count": 15,
     "metadata": {},
     "output_type": "execute_result"
    }
   ],
   "source": [
    "non_dominated_points_df.apply(lambda row: (row >= pareto_df).any(axis=0))"
   ]
  },
  {
   "cell_type": "code",
   "execution_count": 16,
   "metadata": {},
   "outputs": [
    {
     "data": {
      "text/plain": [
       "0    True\n",
       "1    True\n",
       "2    True\n",
       "dtype: bool"
      ]
     },
     "execution_count": 16,
     "metadata": {},
     "output_type": "execute_result"
    }
   ],
   "source": [
    "# dominated means that at least one point in the pareto is larger than the candidate point in every way.\n",
    "def is_not_dominated(objectives_df, pareto_df):\n",
    "    is_not_dominated = pd.Series([True for i in range(len(objectives_df.index))])\n",
    "    for idx, pareto_row in pareto_df.iterrows():\n",
    "        is_not_dominated = is_not_dominated & (objectives_df >= pareto_row).any(axis=1)\n",
    "    return is_not_dominated\n",
    "\n",
    "is_not_dominated(non_dominated_points_df, pareto_df)"
   ]
  },
  {
   "cell_type": "code",
   "execution_count": 17,
   "metadata": {},
   "outputs": [
    {
     "data": {
      "text/plain": [
       "0    False\n",
       "1    False\n",
       "2    False\n",
       "dtype: bool"
      ]
     },
     "execution_count": 17,
     "metadata": {},
     "output_type": "execute_result"
    }
   ],
   "source": [
    "is_not_dominated(dominated_points_df, pareto_df)"
   ]
  },
  {
   "cell_type": "code",
   "execution_count": 18,
   "metadata": {},
   "outputs": [
    {
     "data": {
      "text/html": [
       "<div>\n",
       "<style scoped>\n",
       "    .dataframe tbody tr th:only-of-type {\n",
       "        vertical-align: middle;\n",
       "    }\n",
       "\n",
       "    .dataframe tbody tr th {\n",
       "        vertical-align: top;\n",
       "    }\n",
       "\n",
       "    .dataframe thead th {\n",
       "        text-align: right;\n",
       "    }\n",
       "</style>\n",
       "<table border=\"1\" class=\"dataframe\">\n",
       "  <thead>\n",
       "    <tr style=\"text-align: right;\">\n",
       "      <th></th>\n",
       "      <th>y1</th>\n",
       "      <th>y2</th>\n",
       "    </tr>\n",
       "  </thead>\n",
       "  <tbody>\n",
       "    <tr>\n",
       "      <th>0</th>\n",
       "      <td>0.8</td>\n",
       "      <td>0.8</td>\n",
       "    </tr>\n",
       "    <tr>\n",
       "      <th>1</th>\n",
       "      <td>0.8</td>\n",
       "      <td>1.6</td>\n",
       "    </tr>\n",
       "    <tr>\n",
       "      <th>2</th>\n",
       "      <td>1.6</td>\n",
       "      <td>0.8</td>\n",
       "    </tr>\n",
       "    <tr>\n",
       "      <th>3</th>\n",
       "      <td>0.8</td>\n",
       "      <td>2.6</td>\n",
       "    </tr>\n",
       "    <tr>\n",
       "      <th>4</th>\n",
       "      <td>1.6</td>\n",
       "      <td>1.6</td>\n",
       "    </tr>\n",
       "    <tr>\n",
       "      <th>5</th>\n",
       "      <td>2.6</td>\n",
       "      <td>0.8</td>\n",
       "    </tr>\n",
       "  </tbody>\n",
       "</table>\n",
       "</div>"
      ],
      "text/plain": [
       "    y1   y2\n",
       "0  0.8  0.8\n",
       "1  0.8  1.6\n",
       "2  1.6  0.8\n",
       "3  0.8  2.6\n",
       "4  1.6  1.6\n",
       "5  2.6  0.8"
      ]
     },
     "execution_count": 18,
     "metadata": {},
     "output_type": "execute_result"
    }
   ],
   "source": [
    "mixed = pd.concat([dominated_points_df, non_dominated_points_df], axis=0, ignore_index=True)\n",
    "mixed"
   ]
  },
  {
   "cell_type": "code",
   "execution_count": 20,
   "metadata": {},
   "outputs": [],
   "source": [
    "assert not pareto_frontier.is_dominated(non_dominated_points_df).any()"
   ]
  },
  {
   "cell_type": "code",
   "execution_count": 22,
   "metadata": {},
   "outputs": [],
   "source": [
    "assert pareto_frontier.is_dominated(dominated_points_df).all()"
   ]
  },
  {
   "cell_type": "code",
   "execution_count": 25,
   "metadata": {},
   "outputs": [],
   "source": [
    "assert pareto_frontier.is_dominated(mixed).sum() == 3"
   ]
  },
  {
   "cell_type": "code",
   "execution_count": 27,
   "metadata": {},
   "outputs": [],
   "source": [
    "from mlos.Optimizers.BayesianOptimizerFactory import BayesianOptimizerFactory, bayesian_optimizer_config_store\n",
    "from mlos.OptimizerEvaluationTools.ObjectiveFunctionFactory import ObjectiveFunctionFactory\n",
    "from mlos.OptimizerEvaluationTools.SyntheticFunctions.Hypersphere import Hypersphere\n",
    "from mlos.Spaces import ContinuousDimension, DiscreteDimension, Point, SimpleHypergrid\n",
    "\n",
    "hypersphere_radius = 10\n",
    "\n",
    "objective_function_config = Point(\n",
    "    implementation=Hypersphere.__name__,\n",
    "    hypersphere_config=Point(\n",
    "        num_objectives=2,\n",
    "        minimize='none',\n",
    "        radius=hypersphere_radius\n",
    "    )\n",
    ")\n",
    "\n",
    "objective_function = ObjectiveFunctionFactory.create_objective_function(objective_function_config=objective_function_config)\n",
    "optimization_problem = objective_function.default_optimization_problem\n",
    "random_params_df = optimization_problem.parameter_space.random_dataframe(100)\n",
    "\n",
    "# Let's randomly subsample 10% of points in random_params_df and make those points pareto optimal.\n",
    "#\n",
    "optimal_points_index = random_params_df.sample(\n",
    "    frac=0.1,\n",
    "    replace=False,\n",
    "    axis='index'\n",
    ").index\n",
    "\n",
    "random_params_df.loc[optimal_points_index, ['radius']] = hypersphere_radius\n",
    "\n",
    "\n",
    "dominated_params_df = random_params_df.loc[optimal_points_index].copy()\n",
    "dominated_params_df['radius'] = 1\n",
    "dominated_points_df = objective_function.evaluate_dataframe(dataframe=dominated_params_df)\n",
    "\n",
    "non_dominated_params_df = random_params_df.loc[optimal_points_index].copy()\n",
    "non_dominated_params_df['radius'] = 11\n",
    "non_dominated_points_df = objective_function.evaluate_dataframe(dataframe=non_dominated_params_df)\n",
    "\n",
    "\n",
    "objectives_df = objective_function.evaluate_dataframe(dataframe=random_params_df)\n",
    "pareto_frontier = ParetoFrontier(\n",
    "    optimization_problem=optimization_problem,\n",
    "    objectives_df=objectives_df\n",
    ")\n",
    "pareto_df = pareto_frontier.pareto_df"
   ]
  },
  {
   "cell_type": "code",
   "execution_count": 29,
   "metadata": {},
   "outputs": [],
   "source": [
    "assert pareto_frontier.is_dominated(dominated_points_df).all()"
   ]
  },
  {
   "cell_type": "code",
   "execution_count": 28,
   "metadata": {},
   "outputs": [],
   "source": [
    "assert not pareto_frontier.is_dominated(non_dominated_points_df).any()"
   ]
  },
  {
   "cell_type": "code",
   "execution_count": 30,
   "metadata": {},
   "outputs": [
    {
     "data": {
      "text/plain": [
       "Text(0.5, 0, 'y0')"
      ]
     },
     "execution_count": 30,
     "metadata": {},
     "output_type": "execute_result"
    },
    {
     "data": {
      "image/png": "[encoded data removed]",
      "text/plain": [
       "<Figure size 360x360 with 1 Axes>"
      ]
     },
     "metadata": {
      "needs_background": "light"
     },
     "output_type": "display_data"
    }
   ],
   "source": [
    "plt.figure(figsize=(5, 5))\n",
    "#plt.scatter(objectives_df['y0'], objectives_df['y1'], label=\"objectives\")\n",
    "plt.scatter(pareto_df['y0'], pareto_df['y1'], label=\"pareto\")\n",
    "plt.scatter(dominated_points_df['y0'], dominated_points_df['y1'], label='dominated')\n",
    "plt.scatter(non_dominated_points_df['y0'], non_dominated_points_df['y1'], label='non dominated')\n",
    "plt.legend()\n",
    "plt.ylabel('y1')\n",
    "plt.xlabel('y0')"
   ]
  },
  {
   "cell_type": "code",
   "execution_count": 31,
   "metadata": {},
   "outputs": [
    {
     "name": "stderr",
     "output_type": "stream",
     "text": [
      "01/22/2021 01:47:54 -   BayesianOptimizerFactory -    INFO - [BayesianOptimizerFactory.py:  37 -    create_local_optimizer() ] Optimizer config not specified. Using default.\n"
     ]
    }
   ],
   "source": [
    "# So we have an optimization problem and some data. Let's create an optimizer, then hijack it's surrogate model to test the \n",
    "# MultiObjectivePrediction class.\n",
    "optimizer = BayesianOptimizerFactory().create_local_optimizer(\n",
    "    optimization_problem=optimization_problem\n",
    ")"
   ]
  },
  {
   "cell_type": "code",
   "execution_count": 32,
   "metadata": {},
   "outputs": [],
   "source": [
    "# Let's give it some data to train on.\n",
    "#\n",
    "params_df = objective_function.parameter_space.random_dataframe(100)\n",
    "objectives_df = objective_function.evaluate_dataframe(params_df)\n",
    "optimizer.register(params_df, objectives_df)"
   ]
  },
  {
   "cell_type": "code",
   "execution_count": 34,
   "metadata": {},
   "outputs": [],
   "source": [
    "# Now let's plot the existing pareto frontier, along with some predictions.\n",
    "#\n",
    "params_df, objectives_df, context_df = optimizer.get_all_observations()\n",
    "pareto_frontier = ParetoFrontier(optimization_problem, objectives_df)\n",
    "pareto_df = pareto_frontier.pareto_df\n",
    "objectives_df['is_pareto'] = False\n",
    "objectives_df.loc[pareto_df.index, 'is_pareto'] = True\n",
    "\n",
    "multi_objective_random_forest = optimizer.surrogate_model\n",
    "\n",
    "\n"
   ]
  },
  {
   "cell_type": "code",
   "execution_count": 36,
   "metadata": {},
   "outputs": [],
   "source": [
    "# Now let's generate some monte carlo samples from the predictive distribution. For that, we need our MultiObjectivePoiFunction\n",
    "#\n",
    "from mlos.Optimizers.ExperimentDesigner.UtilityFunctions.MultiObjectiveProbabilityOfImprovementUtilityFunction import MultiObjectiveProbabilityOfImprovementUtilityFunction, multi_objective_probability_of_improvement_utility_function_config_store\n",
    "mo_poi_utility_function = MultiObjectiveProbabilityOfImprovementUtilityFunction(\n",
    "    function_config = multi_objective_probability_of_improvement_utility_function_config_store.default,\n",
    "    pareto_frontier=pareto_frontier,\n",
    "    surrogate_model = multi_objective_random_forest\n",
    ")"
   ]
  },
  {
   "cell_type": "code",
   "execution_count": 37,
   "metadata": {},
   "outputs": [],
   "source": [
    "random_params_df = objective_function.parameter_space.random_dataframe(20)"
   ]
  },
  {
   "cell_type": "code",
   "execution_count": 38,
   "metadata": {},
   "outputs": [
    {
     "data": {
      "text/plain": [
       "871100"
      ]
     },
     "execution_count": 38,
     "metadata": {},
     "output_type": "execute_result"
    }
   ],
   "source": [
    "import os\n",
    "os.getpid()"
   ]
  },
  {
   "cell_type": "code",
   "execution_count": 46,
   "metadata": {},
   "outputs": [],
   "source": [
    "model_features_df = optimization_problem.construct_feature_dataframe(random_params_df)\n",
    "multi_objective_predictions = multi_objective_random_forest.predict(model_features_df)\n",
    "\n",
    "prediction_df = pd.DataFrame()\n",
    "for objective_name, prediction in multi_objective_predictions:\n",
    "    prediction_df[objective_name] = prediction.get_dataframe()['predicted_value']\n",
    "\n",
    "# Let's prepare the data for monte carlo by making sure all predictions have a standard deviation available.\n",
    "#\n",
    "for _, objective_prediction in multi_objective_predictions:\n",
    "    std_dev_column_name = objective_prediction.add_standard_deviation_column()\n",
    "\n",
    "monte_carlo_samples_df = mo_poi_utility_function.create_monte_carlo_samples_df(multi_objective_predictions, 0, std_dev_column_name)\n",
    "monte_carlo_samples_df['dominated'] = pareto_frontier.is_dominated(monte_carlo_samples_df)\n",
    "dominated_samples_df = monte_carlo_samples_df[monte_carlo_samples_df['dominated']]\n",
    "non_dominated_samples_df = monte_carlo_samples_df[~monte_carlo_samples_df['dominated']]"
   ]
  },
  {
   "cell_type": "code",
   "execution_count": 47,
   "metadata": {
    "scrolled": false
   },
   "outputs": [
    {
     "data": {
      "application/vnd.plotly.v1+json": {
       "config": {
        "plotlyServerURL": "https://plot.ly"
       },
       "data": [
        {
         "mode": "markers",
         "name": "pareto",
         "type": "scatter",
         "x": [
          9.478758273403965,
          8.824684257830054,
          8.274531838761671,
          7.4633832536995355,
          6.309040429924362,
          6.290875237401588,
          5.835770340328314,
          5.820201805045496,
          4.267225706154463,
          1.3418316556981664
         ],
         "y": [
          3.0449919152704257,
          3.3659224721152845,
          3.498899568789978,
          5.070483067072261,
          5.4923786104668695,
          5.840909227145752,
          6.3974110524053565,
          7.013376500871576,
          8.8082751879552,
          9.203147048855953
         ]
        },
        {
         "mode": "markers",
         "name": "prediction",
         "type": "scatter",
         "x": [
          6.06397195317494,
          0.6323635441813856,
          5.584737780952048,
          3.446124973127339,
          4.560950281292688,
          8.00226462880588,
          0.6323635441813856,
          3.446124973127339,
          2.003180858551569,
          6.125990748997454,
          0.9672257708302899,
          3.446124973127339,
          3.446124973127339,
          1.623365580533696,
          1.7187494256014595,
          0.9030894959632482,
          1.9848002618319796,
          0.3489422815949186,
          0.5872351069128002,
          1.0572189294729082
         ],
         "y": [
          8.938500269811588,
          3.5426066674231755,
          3.3169610334059376,
          2.6020408647619364,
          0.49624606154253836,
          1.7702455751184814,
          1.4961542475337077,
          2.6020408647619364,
          0.49624606154253836,
          1.6881928736156222,
          1.4961542475337077,
          0.2586054205896873,
          1.3064217743478692,
          0.6781650050748546,
          8.421558758185515,
          0.6768634508787434,
          1.976506195622004,
          5.752407457757924,
          5.752407457757924,
          5.093645208101202
         ]
        },
        {
         "mode": "markers",
         "name": "dominated",
         "type": "scatter",
         "x": [],
         "y": []
        },
        {
         "mode": "markers",
         "name": "non dominated",
         "type": "scatter",
         "x": [
          6.1142617867320785,
          6.155352449364633,
          6.190562927491728,
          5.967176478324202,
          6.155908743432871,
          6.03049223181216,
          5.8183706976197564,
          6.003041496412241,
          6.116113636198997,
          5.986673293034463,
          5.979442566305163,
          5.899114910944513,
          5.876582954633305,
          6.255205710384402,
          6.175126303316073,
          6.061677743174477,
          6.109613500809671,
          6.315448277682673,
          5.967293480810806,
          6.000752487023883,
          5.93734475764862,
          6.044250991891876,
          6.04658912524745,
          6.04786603736724,
          5.795878485097075,
          6.053725474446633,
          6.167667940670377,
          6.035721125743606,
          5.961924965983965,
          5.9848019015283835,
          6.108440428474468,
          6.037088681233933,
          6.0975941861015075,
          6.143131379870929,
          5.843921947365868,
          6.002842201211899,
          6.003049347188819,
          6.006478145223641,
          6.214170596514097,
          6.005703471850323,
          5.885055067867937,
          6.05933533250143,
          5.984249986891499,
          6.333909075149561,
          6.280138392246905,
          6.022288789344385,
          6.371019154803759,
          6.24270341019311,
          5.893083070550905,
          6.023750848229852,
          6.113001348412144,
          5.8008795033683445,
          5.924097834990448,
          5.765447734673341,
          6.0829567239612565,
          6.149842246226405,
          5.911740521612161,
          6.269161048383275,
          5.72614099828234,
          5.891306850631854,
          5.973611778153019,
          5.893009444559467,
          6.066602037424384,
          6.005347018474698,
          6.442236532956482,
          6.257092733069052,
          5.853033627638433,
          6.149818663778501,
          5.941317795103372,
          6.130144999333144,
          5.824401386207868,
          6.094712963300406,
          6.114062900897049,
          5.954549147322652,
          5.977265531852347,
          5.961192481175858,
          5.980234201821509,
          6.1780872974960515,
          6.0264993135801825,
          6.081506080473765,
          6.177333544001636,
          5.8651215777765735,
          5.923500651472171,
          6.2056630042120196,
          6.032269578221131,
          6.232970512963178,
          5.9810072792483355,
          5.993951172428028,
          6.125689125442048,
          6.341937125653837,
          5.924668471489365,
          6.021795773100353,
          5.912003394400643,
          6.029130846969048,
          5.936827750781235,
          6.100761542944312,
          6.106340040806311,
          5.939509412924473,
          5.9019279585454685,
          6.101108963637828
         ],
         "y": [
          8.968906856449001,
          8.769446197925346,
          8.96955043921673,
          9.10039733911197,
          8.945090064930543,
          9.050493093991632,
          8.842349911503764,
          8.752273371914315,
          9.264053316462338,
          8.959597338035428,
          8.79730973719652,
          8.968273431846217,
          9.026164941801492,
          8.861635029192264,
          9.131373430237197,
          8.902897162393327,
          8.918189128706667,
          9.104225162197523,
          8.862618288149756,
          8.986051415987532,
          8.930183964765213,
          9.120749483033073,
          8.963376444425394,
          8.95289606867505,
          8.743177240184513,
          9.35965393552661,
          8.783226890611052,
          8.921330532973943,
          8.855742750015407,
          9.025918770661216,
          9.047106775830127,
          8.62520300239221,
          9.080767394906038,
          8.871699802067399,
          8.792801620454705,
          8.972402406333961,
          8.982511365636629,
          8.869474759793157,
          8.822168046742236,
          8.857336531023602,
          8.903048039790216,
          8.942648093362108,
          9.093400420849607,
          8.905218293827817,
          8.835685557780604,
          8.809130080639397,
          8.726372863765295,
          8.685839143495256,
          9.127095126652229,
          8.753846762769644,
          8.992535397381475,
          9.119287729988532,
          8.977660118571627,
          8.70239600075399,
          8.829016655115636,
          8.720164033301776,
          9.166386669650164,
          9.00401893338346,
          9.190503366882586,
          8.907989689226607,
          9.110340309443098,
          9.138001024207169,
          9.099450476564645,
          8.867156318582964,
          9.021414208624682,
          8.691194051853593,
          8.972793589097542,
          8.705093083228018,
          8.8857489066362,
          8.73389857496626,
          8.726164861135286,
          8.849432535029601,
          9.185096735634726,
          9.078627456805345,
          9.213042199356254,
          8.542950143275487,
          8.83886112269904,
          8.907356678755372,
          9.033331519951954,
          9.06721520097946,
          9.069260720627604,
          9.02934316991294,
          9.016371248178459,
          9.032775965281433,
          8.851140033600418,
          8.857656530614113,
          9.090968199625472,
          8.754760500022849,
          9.024087486730206,
          8.891209024111328,
          8.82041205876504,
          9.036791924213256,
          9.060407325942734,
          8.913984076745987,
          9.1270386001069,
          8.923589600112658,
          8.873530935170228,
          9.112224504214941,
          9.049345988181972,
          8.780053236601997
         ]
        }
       ],
       "layout": {
        "template": {
         "data": {
          "bar": [
           {
            "error_x": {
             "color": "#2a3f5f"
            },
            "error_y": {
             "color": "#2a3f5f"
            },
            "marker": {
             "line": {
              "color": "#E5ECF6",
              "width": 0.5
             }
            },
            "type": "bar"
           }
          ],
          "barpolar": [
           {
            "marker": {
             "line": {
              "color": "#E5ECF6",
              "width": 0.5
             }
            },
            "type": "barpolar"
           }
          ],
          "carpet": [
           {
            "aaxis": {
             "endlinecolor": "#2a3f5f",
             "gridcolor": "white",
             "linecolor": "white",
             "minorgridcolor": "white",
             "startlinecolor": "#2a3f5f"
            },
            "baxis": {
             "endlinecolor": "#2a3f5f",
             "gridcolor": "white",
             "linecolor": "white",
             "minorgridcolor": "white",
             "startlinecolor": "#2a3f5f"
            },
            "type": "carpet"
           }
          ],
          "choropleth": [
           {
            "colorbar": {
             "outlinewidth": 0,
             "ticks": ""
            },
            "type": "choropleth"
           }
          ],
          "contour": [
           {
            "colorbar": {
             "outlinewidth": 0,
             "ticks": ""
            },
            "colorscale": [
             [
              0,
              "#0d0887"
             ],
             [
              0.1111111111111111,
              "#46039f"
             ],
             [
              0.2222222222222222,
              "#7201a8"
             ],
             [
              0.3333333333333333,
              "#9c179e"
             ],
             [
              0.4444444444444444,
              "#bd3786"
             ],
             [
              0.5555555555555556,
              "#d8576b"
             ],
             [
              0.6666666666666666,
              "#ed7953"
             ],
             [
              0.7777777777777778,
              "#fb9f3a"
             ],
             [
              0.8888888888888888,
              "#fdca26"
             ],
             [
              1,
              "#f0f921"
             ]
            ],
            "type": "contour"
           }
          ],
          "contourcarpet": [
           {
            "colorbar": {
             "outlinewidth": 0,
             "ticks": ""
            },
            "type": "contourcarpet"
           }
          ],
          "heatmap": [
           {
            "colorbar": {
             "outlinewidth": 0,
             "ticks": ""
            },
            "colorscale": [
             [
              0,
              "#0d0887"
             ],
             [
              0.1111111111111111,
              "#46039f"
             ],
             [
              0.2222222222222222,
              "#7201a8"
             ],
             [
              0.3333333333333333,
              "#9c179e"
             ],
             [
              0.4444444444444444,
              "#bd3786"
             ],
             [
              0.5555555555555556,
              "#d8576b"
             ],
             [
              0.6666666666666666,
              "#ed7953"
             ],
             [
              0.7777777777777778,
              "#fb9f3a"
             ],
             [
              0.8888888888888888,
              "#fdca26"
             ],
             [
              1,
              "#f0f921"
             ]
            ],
            "type": "heatmap"
           }
          ],
          "heatmapgl": [
           {
            "colorbar": {
             "outlinewidth": 0,
             "ticks": ""
            },
            "colorscale": [
             [
              0,
              "#0d0887"
             ],
             [
              0.1111111111111111,
              "#46039f"
             ],
             [
              0.2222222222222222,
              "#7201a8"
             ],
             [
              0.3333333333333333,
              "#9c179e"
             ],
             [
              0.4444444444444444,
              "#bd3786"
             ],
             [
              0.5555555555555556,
              "#d8576b"
             ],
             [
              0.6666666666666666,
              "#ed7953"
             ],
             [
              0.7777777777777778,
              "#fb9f3a"
             ],
             [
              0.8888888888888888,
              "#fdca26"
             ],
             [
              1,
              "#f0f921"
             ]
            ],
            "type": "heatmapgl"
           }
          ],
          "histogram": [
           {
            "marker": {
             "colorbar": {
              "outlinewidth": 0,
              "ticks": ""
             }
            },
            "type": "histogram"
           }
          ],
          "histogram2d": [
           {
            "colorbar": {
             "outlinewidth": 0,
             "ticks": ""
            },
            "colorscale": [
             [
              0,
              "#0d0887"
             ],
             [
              0.1111111111111111,
              "#46039f"
             ],
             [
              0.2222222222222222,
              "#7201a8"
             ],
             [
              0.3333333333333333,
              "#9c179e"
             ],
             [
              0.4444444444444444,
              "#bd3786"
             ],
             [
              0.5555555555555556,
              "#d8576b"
             ],
             [
              0.6666666666666666,
              "#ed7953"
             ],
             [
              0.7777777777777778,
              "#fb9f3a"
             ],
             [
              0.8888888888888888,
              "#fdca26"
             ],
             [
              1,
              "#f0f921"
             ]
            ],
            "type": "histogram2d"
           }
          ],
          "histogram2dcontour": [
           {
            "colorbar": {
             "outlinewidth": 0,
             "ticks": ""
            },
            "colorscale": [
             [
              0,
              "#0d0887"
             ],
             [
              0.1111111111111111,
              "#46039f"
             ],
             [
              0.2222222222222222,
              "#7201a8"
             ],
             [
              0.3333333333333333,
              "#9c179e"
             ],
             [
              0.4444444444444444,
              "#bd3786"
             ],
             [
              0.5555555555555556,
              "#d8576b"
             ],
             [
              0.6666666666666666,
              "#ed7953"
             ],
             [
              0.7777777777777778,
              "#fb9f3a"
             ],
             [
              0.8888888888888888,
              "#fdca26"
             ],
             [
              1,
              "#f0f921"
             ]
            ],
            "type": "histogram2dcontour"
           }
          ],
          "mesh3d": [
           {
            "colorbar": {
             "outlinewidth": 0,
             "ticks": ""
            },
            "type": "mesh3d"
           }
          ],
          "parcoords": [
           {
            "line": {
             "colorbar": {
              "outlinewidth": 0,
              "ticks": ""
             }
            },
            "type": "parcoords"
           }
          ],
          "pie": [
           {
            "automargin": true,
            "type": "pie"
           }
          ],
          "scatter": [
           {
            "marker": {
             "colorbar": {
              "outlinewidth": 0,
              "ticks": ""
             }
            },
            "type": "scatter"
           }
          ],
          "scatter3d": [
           {
            "line": {
             "colorbar": {
              "outlinewidth": 0,
              "ticks": ""
             }
            },
            "marker": {
             "colorbar": {
              "outlinewidth": 0,
              "ticks": ""
             }
            },
            "type": "scatter3d"
           }
          ],
          "scattercarpet": [
           {
            "marker": {
             "colorbar": {
              "outlinewidth": 0,
              "ticks": ""
             }
            },
            "type": "scattercarpet"
           }
          ],
          "scattergeo": [
           {
            "marker": {
             "colorbar": {
              "outlinewidth": 0,
              "ticks": ""
             }
            },
            "type": "scattergeo"
           }
          ],
          "scattergl": [
           {
            "marker": {
             "colorbar": {
              "outlinewidth": 0,
              "ticks": ""
             }
            },
            "type": "scattergl"
           }
          ],
          "scattermapbox": [
           {
            "marker": {
             "colorbar": {
              "outlinewidth": 0,
              "ticks": ""
             }
            },
            "type": "scattermapbox"
           }
          ],
          "scatterpolar": [
           {
            "marker": {
             "colorbar": {
              "outlinewidth": 0,
              "ticks": ""
             }
            },
            "type": "scatterpolar"
           }
          ],
          "scatterpolargl": [
           {
            "marker": {
             "colorbar": {
              "outlinewidth": 0,
              "ticks": ""
             }
            },
            "type": "scatterpolargl"
           }
          ],
          "scatterternary": [
           {
            "marker": {
             "colorbar": {
              "outlinewidth": 0,
              "ticks": ""
             }
            },
            "type": "scatterternary"
           }
          ],
          "surface": [
           {
            "colorbar": {
             "outlinewidth": 0,
             "ticks": ""
            },
            "colorscale": [
             [
              0,
              "#0d0887"
             ],
             [
              0.1111111111111111,
              "#46039f"
             ],
             [
              0.2222222222222222,
              "#7201a8"
             ],
             [
              0.3333333333333333,
              "#9c179e"
             ],
             [
              0.4444444444444444,
              "#bd3786"
             ],
             [
              0.5555555555555556,
              "#d8576b"
             ],
             [
              0.6666666666666666,
              "#ed7953"
             ],
             [
              0.7777777777777778,
              "#fb9f3a"
             ],
             [
              0.8888888888888888,
              "#fdca26"
             ],
             [
              1,
              "#f0f921"
             ]
            ],
            "type": "surface"
           }
          ],
          "table": [
           {
            "cells": {
             "fill": {
              "color": "#EBF0F8"
             },
             "line": {
              "color": "white"
             }
            },
            "header": {
             "fill": {
              "color": "#C8D4E3"
             },
             "line": {
              "color": "white"
             }
            },
            "type": "table"
           }
          ]
         },
         "layout": {
          "annotationdefaults": {
           "arrowcolor": "#2a3f5f",
           "arrowhead": 0,
           "arrowwidth": 1
          },
          "autotypenumbers": "strict",
          "coloraxis": {
           "colorbar": {
            "outlinewidth": 0,
            "ticks": ""
           }
          },
          "colorscale": {
           "diverging": [
            [
             0,
             "#8e0152"
            ],
            [
             0.1,
             "#c51b7d"
            ],
            [
             0.2,
             "#de77ae"
            ],
            [
             0.3,
             "#f1b6da"
            ],
            [
             0.4,
             "#fde0ef"
            ],
            [
             0.5,
             "#f7f7f7"
            ],
            [
             0.6,
             "#e6f5d0"
            ],
            [
             0.7,
             "#b8e186"
            ],
            [
             0.8,
             "#7fbc41"
            ],
            [
             0.9,
             "#4d9221"
            ],
            [
             1,
             "#276419"
            ]
           ],
           "sequential": [
            [
             0,
             "#0d0887"
            ],
            [
             0.1111111111111111,
             "#46039f"
            ],
            [
             0.2222222222222222,
             "#7201a8"
            ],
            [
             0.3333333333333333,
             "#9c179e"
            ],
            [
             0.4444444444444444,
             "#bd3786"
            ],
            [
             0.5555555555555556,
             "#d8576b"
            ],
            [
             0.6666666666666666,
             "#ed7953"
            ],
            [
             0.7777777777777778,
             "#fb9f3a"
            ],
            [
             0.8888888888888888,
             "#fdca26"
            ],
            [
             1,
             "#f0f921"
            ]
           ],
           "sequentialminus": [
            [
             0,
             "#0d0887"
            ],
            [
             0.1111111111111111,
             "#46039f"
            ],
            [
             0.2222222222222222,
             "#7201a8"
            ],
            [
             0.3333333333333333,
             "#9c179e"
            ],
            [
             0.4444444444444444,
             "#bd3786"
            ],
            [
             0.5555555555555556,
             "#d8576b"
            ],
            [
             0.6666666666666666,
             "#ed7953"
            ],
            [
             0.7777777777777778,
             "#fb9f3a"
            ],
            [
             0.8888888888888888,
             "#fdca26"
            ],
            [
             1,
             "#f0f921"
            ]
           ]
          },
          "colorway": [
           "#636efa",
           "#EF553B",
           "#00cc96",
           "#ab63fa",
           "#FFA15A",
           "#19d3f3",
           "#FF6692",
           "#B6E880",
           "#FF97FF",
           "#FECB52"
          ],
          "font": {
           "color": "#2a3f5f"
          },
          "geo": {
           "bgcolor": "white",
           "lakecolor": "white",
           "landcolor": "#E5ECF6",
           "showlakes": true,
           "showland": true,
           "subunitcolor": "white"
          },
          "hoverlabel": {
           "align": "left"
          },
          "hovermode": "closest",
          "mapbox": {
           "style": "light"
          },
          "paper_bgcolor": "white",
          "plot_bgcolor": "#E5ECF6",
          "polar": {
           "angularaxis": {
            "gridcolor": "white",
            "linecolor": "white",
            "ticks": ""
           },
           "bgcolor": "#E5ECF6",
           "radialaxis": {
            "gridcolor": "white",
            "linecolor": "white",
            "ticks": ""
           }
          },
          "scene": {
           "xaxis": {
            "backgroundcolor": "#E5ECF6",
            "gridcolor": "white",
            "gridwidth": 2,
            "linecolor": "white",
            "showbackground": true,
            "ticks": "",
            "zerolinecolor": "white"
           },
           "yaxis": {
            "backgroundcolor": "#E5ECF6",
            "gridcolor": "white",
            "gridwidth": 2,
            "linecolor": "white",
            "showbackground": true,
            "ticks": "",
            "zerolinecolor": "white"
           },
           "zaxis": {
            "backgroundcolor": "#E5ECF6",
            "gridcolor": "white",
            "gridwidth": 2,
            "linecolor": "white",
            "showbackground": true,
            "ticks": "",
            "zerolinecolor": "white"
           }
          },
          "shapedefaults": {
           "line": {
            "color": "#2a3f5f"
           }
          },
          "ternary": {
           "aaxis": {
            "gridcolor": "white",
            "linecolor": "white",
            "ticks": ""
           },
           "baxis": {
            "gridcolor": "white",
            "linecolor": "white",
            "ticks": ""
           },
           "bgcolor": "#E5ECF6",
           "caxis": {
            "gridcolor": "white",
            "linecolor": "white",
            "ticks": ""
           }
          },
          "title": {
           "x": 0.05
          },
          "xaxis": {
           "automargin": true,
           "gridcolor": "white",
           "linecolor": "white",
           "ticks": "",
           "title": {
            "standoff": 15
           },
           "zerolinecolor": "white",
           "zerolinewidth": 2
          },
          "yaxis": {
           "automargin": true,
           "gridcolor": "white",
           "linecolor": "white",
           "ticks": "",
           "title": {
            "standoff": 15
           },
           "zerolinecolor": "white",
           "zerolinewidth": 2
          }
         }
        }
       }
      },
      "text/html": [
       "<div>                            <div id=\"6e2589ab-b916-4517-bcb2-efd98861d6cf\" class=\"plotly-graph-div\" style=\"height:525px; width:100%;\"></div>            <script type=\"text/javascript\">                require([\"plotly\"], function(Plotly) {                    window.PLOTLYENV=window.PLOTLYENV || {};                                    if (document.getElementById(\"6e2589ab-b916-4517-bcb2-efd98861d6cf\")) {                    Plotly.newPlot(                        \"6e2589ab-b916-4517-bcb2-efd98861d6cf\",                        [{\"mode\": \"markers\", \"name\": \"pareto\", \"type\": \"scatter\", \"x\": [9.478758273403965, 8.824684257830054, 8.274531838761671, 7.4633832536995355, 6.309040429924362, 6.290875237401588, 5.835770340328314, 5.820201805045496, 4.267225706154463, 1.3418316556981664], \"y\": [3.0449919152704257, 3.3659224721152845, 3.498899568789978, 5.070483067072261, 5.4923786104668695, 5.840909227145752, 6.3974110524053565, 7.013376500871576, 8.8082751879552, 9.203147048855953]}, {\"mode\": \"markers\", \"name\": \"prediction\", \"type\": \"scatter\", \"x\": [6.06397195317494, 0.6323635441813856, 5.584737780952048, 3.446124973127339, 4.560950281292688, 8.00226462880588, 0.6323635441813856, 3.446124973127339, 2.003180858551569, 6.125990748997454, 0.9672257708302899, 3.446124973127339, 3.446124973127339, 1.623365580533696, 1.7187494256014595, 0.9030894959632482, 1.9848002618319796, 0.3489422815949186, 0.5872351069128002, 1.0572189294729082], \"y\": [8.938500269811588, 3.5426066674231755, 3.3169610334059376, 2.6020408647619364, 0.49624606154253836, 1.7702455751184814, 1.4961542475337077, 2.6020408647619364, 0.49624606154253836, 1.6881928736156222, 1.4961542475337077, 0.2586054205896873, 1.3064217743478692, 0.6781650050748546, 8.421558758185515, 0.6768634508787434, 1.976506195622004, 5.752407457757924, 5.752407457757924, 5.093645208101202]}, {\"mode\": \"markers\", \"name\": \"dominated\", \"type\": \"scatter\", \"x\": [], \"y\": []}, {\"mode\": \"markers\", \"name\": \"non dominated\", \"type\": \"scatter\", \"x\": [6.1142617867320785, 6.155352449364633, 6.190562927491728, 5.967176478324202, 6.155908743432871, 6.03049223181216, 5.8183706976197564, 6.003041496412241, 6.116113636198997, 5.986673293034463, 5.979442566305163, 5.899114910944513, 5.876582954633305, 6.255205710384402, 6.175126303316073, 6.061677743174477, 6.109613500809671, 6.315448277682673, 5.967293480810806, 6.000752487023883, 5.93734475764862, 6.044250991891876, 6.04658912524745, 6.04786603736724, 5.795878485097075, 6.053725474446633, 6.167667940670377, 6.035721125743606, 5.961924965983965, 5.9848019015283835, 6.108440428474468, 6.037088681233933, 6.0975941861015075, 6.143131379870929, 5.843921947365868, 6.002842201211899, 6.003049347188819, 6.006478145223641, 6.214170596514097, 6.005703471850323, 5.885055067867937, 6.05933533250143, 5.984249986891499, 6.333909075149561, 6.280138392246905, 6.022288789344385, 6.371019154803759, 6.24270341019311, 5.893083070550905, 6.023750848229852, 6.113001348412144, 5.8008795033683445, 5.924097834990448, 5.765447734673341, 6.0829567239612565, 6.149842246226405, 5.911740521612161, 6.269161048383275, 5.72614099828234, 5.891306850631854, 5.973611778153019, 5.893009444559467, 6.066602037424384, 6.005347018474698, 6.442236532956482, 6.257092733069052, 5.853033627638433, 6.149818663778501, 5.941317795103372, 6.130144999333144, 5.824401386207868, 6.094712963300406, 6.114062900897049, 5.954549147322652, 5.977265531852347, 5.961192481175858, 5.980234201821509, 6.1780872974960515, 6.0264993135801825, 6.081506080473765, 6.177333544001636, 5.8651215777765735, 5.923500651472171, 6.2056630042120196, 6.032269578221131, 6.232970512963178, 5.9810072792483355, 5.993951172428028, 6.125689125442048, 6.341937125653837, 5.924668471489365, 6.021795773100353, 5.912003394400643, 6.029130846969048, 5.936827750781235, 6.100761542944312, 6.106340040806311, 5.939509412924473, 5.9019279585454685, 6.101108963637828], \"y\": [8.968906856449001, 8.769446197925346, 8.96955043921673, 9.10039733911197, 8.945090064930543, 9.050493093991632, 8.842349911503764, 8.752273371914315, 9.264053316462338, 8.959597338035428, 8.79730973719652, 8.968273431846217, 9.026164941801492, 8.861635029192264, 9.131373430237197, 8.902897162393327, 8.918189128706667, 9.104225162197523, 8.862618288149756, 8.986051415987532, 8.930183964765213, 9.120749483033073, 8.963376444425394, 8.95289606867505, 8.743177240184513, 9.35965393552661, 8.783226890611052, 8.921330532973943, 8.855742750015407, 9.025918770661216, 9.047106775830127, 8.62520300239221, 9.080767394906038, 8.871699802067399, 8.792801620454705, 8.972402406333961, 8.982511365636629, 8.869474759793157, 8.822168046742236, 8.857336531023602, 8.903048039790216, 8.942648093362108, 9.093400420849607, 8.905218293827817, 8.835685557780604, 8.809130080639397, 8.726372863765295, 8.685839143495256, 9.127095126652229, 8.753846762769644, 8.992535397381475, 9.119287729988532, 8.977660118571627, 8.70239600075399, 8.829016655115636, 8.720164033301776, 9.166386669650164, 9.00401893338346, 9.190503366882586, 8.907989689226607, 9.110340309443098, 9.138001024207169, 9.099450476564645, 8.867156318582964, 9.021414208624682, 8.691194051853593, 8.972793589097542, 8.705093083228018, 8.8857489066362, 8.73389857496626, 8.726164861135286, 8.849432535029601, 9.185096735634726, 9.078627456805345, 9.213042199356254, 8.542950143275487, 8.83886112269904, 8.907356678755372, 9.033331519951954, 9.06721520097946, 9.069260720627604, 9.02934316991294, 9.016371248178459, 9.032775965281433, 8.851140033600418, 8.857656530614113, 9.090968199625472, 8.754760500022849, 9.024087486730206, 8.891209024111328, 8.82041205876504, 9.036791924213256, 9.060407325942734, 8.913984076745987, 9.1270386001069, 8.923589600112658, 8.873530935170228, 9.112224504214941, 9.049345988181972, 8.780053236601997]}],                        {\"template\": {\"data\": {\"bar\": [{\"error_x\": {\"color\": \"#2a3f5f\"}, \"error_y\": {\"color\": \"#2a3f5f\"}, \"marker\": {\"line\": {\"color\": \"#E5ECF6\", \"width\": 0.5}}, \"type\": \"bar\"}], \"barpolar\": [{\"marker\": {\"line\": {\"color\": \"#E5ECF6\", \"width\": 0.5}}, \"type\": \"barpolar\"}], \"carpet\": [{\"aaxis\": {\"endlinecolor\": \"#2a3f5f\", \"gridcolor\": \"white\", \"linecolor\": \"white\", \"minorgridcolor\": \"white\", \"startlinecolor\": \"#2a3f5f\"}, \"baxis\": {\"endlinecolor\": \"#2a3f5f\", \"gridcolor\": \"white\", \"linecolor\": \"white\", \"minorgridcolor\": \"white\", \"startlinecolor\": \"#2a3f5f\"}, \"type\": \"carpet\"}], \"choropleth\": [{\"colorbar\": {\"outlinewidth\": 0, \"ticks\": \"\"}, \"type\": \"choropleth\"}], \"contour\": [{\"colorbar\": {\"outlinewidth\": 0, \"ticks\": \"\"}, \"colorscale\": [[0.0, \"#0d0887\"], [0.1111111111111111, \"#46039f\"], [0.2222222222222222, \"#7201a8\"], [0.3333333333333333, \"#9c179e\"], [0.4444444444444444, \"#bd3786\"], [0.5555555555555556, \"#d8576b\"], [0.6666666666666666, \"#ed7953\"], [0.7777777777777778, \"#fb9f3a\"], [0.8888888888888888, \"#fdca26\"], [1.0, \"#f0f921\"]], \"type\": \"contour\"}], \"contourcarpet\": [{\"colorbar\": {\"outlinewidth\": 0, \"ticks\": \"\"}, \"type\": \"contourcarpet\"}], \"heatmap\": [{\"colorbar\": {\"outlinewidth\": 0, \"ticks\": \"\"}, \"colorscale\": [[0.0, \"#0d0887\"], [0.1111111111111111, \"#46039f\"], [0.2222222222222222, \"#7201a8\"], [0.3333333333333333, \"#9c179e\"], [0.4444444444444444, \"#bd3786\"], [0.5555555555555556, \"#d8576b\"], [0.6666666666666666, \"#ed7953\"], [0.7777777777777778, \"#fb9f3a\"], [0.8888888888888888, \"#fdca26\"], [1.0, \"#f0f921\"]], \"type\": \"heatmap\"}], \"heatmapgl\": [{\"colorbar\": {\"outlinewidth\": 0, \"ticks\": \"\"}, \"colorscale\": [[0.0, \"#0d0887\"], [0.1111111111111111, \"#46039f\"], [0.2222222222222222, \"#7201a8\"], [0.3333333333333333, \"#9c179e\"], [0.4444444444444444, \"#bd3786\"], [0.5555555555555556, \"#d8576b\"], [0.6666666666666666, \"#ed7953\"], [0.7777777777777778, \"#fb9f3a\"], [0.8888888888888888, \"#fdca26\"], [1.0, \"#f0f921\"]], \"type\": \"heatmapgl\"}], \"histogram\": [{\"marker\": {\"colorbar\": {\"outlinewidth\": 0, \"ticks\": \"\"}}, \"type\": \"histogram\"}], \"histogram2d\": [{\"colorbar\": {\"outlinewidth\": 0, \"ticks\": \"\"}, \"colorscale\": [[0.0, \"#0d0887\"], [0.1111111111111111, \"#46039f\"], [0.2222222222222222, \"#7201a8\"], [0.3333333333333333, \"#9c179e\"], [0.4444444444444444, \"#bd3786\"], [0.5555555555555556, \"#d8576b\"], [0.6666666666666666, \"#ed7953\"], [0.7777777777777778, \"#fb9f3a\"], [0.8888888888888888, \"#fdca26\"], [1.0, \"#f0f921\"]], \"type\": \"histogram2d\"}], \"histogram2dcontour\": [{\"colorbar\": {\"outlinewidth\": 0, \"ticks\": \"\"}, \"colorscale\": [[0.0, \"#0d0887\"], [0.1111111111111111, \"#46039f\"], [0.2222222222222222, \"#7201a8\"], [0.3333333333333333, \"#9c179e\"], [0.4444444444444444, \"#bd3786\"], [0.5555555555555556, \"#d8576b\"], [0.6666666666666666, \"#ed7953\"], [0.7777777777777778, \"#fb9f3a\"], [0.8888888888888888, \"#fdca26\"], [1.0, \"#f0f921\"]], \"type\": \"histogram2dcontour\"}], \"mesh3d\": [{\"colorbar\": {\"outlinewidth\": 0, \"ticks\": \"\"}, \"type\": \"mesh3d\"}], \"parcoords\": [{\"line\": {\"colorbar\": {\"outlinewidth\": 0, \"ticks\": \"\"}}, \"type\": \"parcoords\"}], \"pie\": [{\"automargin\": true, \"type\": \"pie\"}], \"scatter\": [{\"marker\": {\"colorbar\": {\"outlinewidth\": 0, \"ticks\": \"\"}}, \"type\": \"scatter\"}], \"scatter3d\": [{\"line\": {\"colorbar\": {\"outlinewidth\": 0, \"ticks\": \"\"}}, \"marker\": {\"colorbar\": {\"outlinewidth\": 0, \"ticks\": \"\"}}, \"type\": \"scatter3d\"}], \"scattercarpet\": [{\"marker\": {\"colorbar\": {\"outlinewidth\": 0, \"ticks\": \"\"}}, \"type\": \"scattercarpet\"}], \"scattergeo\": [{\"marker\": {\"colorbar\": {\"outlinewidth\": 0, \"ticks\": \"\"}}, \"type\": \"scattergeo\"}], \"scattergl\": [{\"marker\": {\"colorbar\": {\"outlinewidth\": 0, \"ticks\": \"\"}}, \"type\": \"scattergl\"}], \"scattermapbox\": [{\"marker\": {\"colorbar\": {\"outlinewidth\": 0, \"ticks\": \"\"}}, \"type\": \"scattermapbox\"}], \"scatterpolar\": [{\"marker\": {\"colorbar\": {\"outlinewidth\": 0, \"ticks\": \"\"}}, \"type\": \"scatterpolar\"}], \"scatterpolargl\": [{\"marker\": {\"colorbar\": {\"outlinewidth\": 0, \"ticks\": \"\"}}, \"type\": \"scatterpolargl\"}], \"scatterternary\": [{\"marker\": {\"colorbar\": {\"outlinewidth\": 0, \"ticks\": \"\"}}, \"type\": \"scatterternary\"}], \"surface\": [{\"colorbar\": {\"outlinewidth\": 0, \"ticks\": \"\"}, \"colorscale\": [[0.0, \"#0d0887\"], [0.1111111111111111, \"#46039f\"], [0.2222222222222222, \"#7201a8\"], [0.3333333333333333, \"#9c179e\"], [0.4444444444444444, \"#bd3786\"], [0.5555555555555556, \"#d8576b\"], [0.6666666666666666, \"#ed7953\"], [0.7777777777777778, \"#fb9f3a\"], [0.8888888888888888, \"#fdca26\"], [1.0, \"#f0f921\"]], \"type\": \"surface\"}], \"table\": [{\"cells\": {\"fill\": {\"color\": \"#EBF0F8\"}, \"line\": {\"color\": \"white\"}}, \"header\": {\"fill\": {\"color\": \"#C8D4E3\"}, \"line\": {\"color\": \"white\"}}, \"type\": \"table\"}]}, \"layout\": {\"annotationdefaults\": {\"arrowcolor\": \"#2a3f5f\", \"arrowhead\": 0, \"arrowwidth\": 1}, \"autotypenumbers\": \"strict\", \"coloraxis\": {\"colorbar\": {\"outlinewidth\": 0, \"ticks\": \"\"}}, \"colorscale\": {\"diverging\": [[0, \"#8e0152\"], [0.1, \"#c51b7d\"], [0.2, \"#de77ae\"], [0.3, \"#f1b6da\"], [0.4, \"#fde0ef\"], [0.5, \"#f7f7f7\"], [0.6, \"#e6f5d0\"], [0.7, \"#b8e186\"], [0.8, \"#7fbc41\"], [0.9, \"#4d9221\"], [1, \"#276419\"]], \"sequential\": [[0.0, \"#0d0887\"], [0.1111111111111111, \"#46039f\"], [0.2222222222222222, \"#7201a8\"], [0.3333333333333333, \"#9c179e\"], [0.4444444444444444, \"#bd3786\"], [0.5555555555555556, \"#d8576b\"], [0.6666666666666666, \"#ed7953\"], [0.7777777777777778, \"#fb9f3a\"], [0.8888888888888888, \"#fdca26\"], [1.0, \"#f0f921\"]], \"sequentialminus\": [[0.0, \"#0d0887\"], [0.1111111111111111, \"#46039f\"], [0.2222222222222222, \"#7201a8\"], [0.3333333333333333, \"#9c179e\"], [0.4444444444444444, \"#bd3786\"], [0.5555555555555556, \"#d8576b\"], [0.6666666666666666, \"#ed7953\"], [0.7777777777777778, \"#fb9f3a\"], [0.8888888888888888, \"#fdca26\"], [1.0, \"#f0f921\"]]}, \"colorway\": [\"#636efa\", \"#EF553B\", \"#00cc96\", \"#ab63fa\", \"#FFA15A\", \"#19d3f3\", \"#FF6692\", \"#B6E880\", \"#FF97FF\", \"#FECB52\"], \"font\": {\"color\": \"#2a3f5f\"}, \"geo\": {\"bgcolor\": \"white\", \"lakecolor\": \"white\", \"landcolor\": \"#E5ECF6\", \"showlakes\": true, \"showland\": true, \"subunitcolor\": \"white\"}, \"hoverlabel\": {\"align\": \"left\"}, \"hovermode\": \"closest\", \"mapbox\": {\"style\": \"light\"}, \"paper_bgcolor\": \"white\", \"plot_bgcolor\": \"#E5ECF6\", \"polar\": {\"angularaxis\": {\"gridcolor\": \"white\", \"linecolor\": \"white\", \"ticks\": \"\"}, \"bgcolor\": \"#E5ECF6\", \"radialaxis\": {\"gridcolor\": \"white\", \"linecolor\": \"white\", \"ticks\": \"\"}}, \"scene\": {\"xaxis\": {\"backgroundcolor\": \"#E5ECF6\", \"gridcolor\": \"white\", \"gridwidth\": 2, \"linecolor\": \"white\", \"showbackground\": true, \"ticks\": \"\", \"zerolinecolor\": \"white\"}, \"yaxis\": {\"backgroundcolor\": \"#E5ECF6\", \"gridcolor\": \"white\", \"gridwidth\": 2, \"linecolor\": \"white\", \"showbackground\": true, \"ticks\": \"\", \"zerolinecolor\": \"white\"}, \"zaxis\": {\"backgroundcolor\": \"#E5ECF6\", \"gridcolor\": \"white\", \"gridwidth\": 2, \"linecolor\": \"white\", \"showbackground\": true, \"ticks\": \"\", \"zerolinecolor\": \"white\"}}, \"shapedefaults\": {\"line\": {\"color\": \"#2a3f5f\"}}, \"ternary\": {\"aaxis\": {\"gridcolor\": \"white\", \"linecolor\": \"white\", \"ticks\": \"\"}, \"baxis\": {\"gridcolor\": \"white\", \"linecolor\": \"white\", \"ticks\": \"\"}, \"bgcolor\": \"#E5ECF6\", \"caxis\": {\"gridcolor\": \"white\", \"linecolor\": \"white\", \"ticks\": \"\"}}, \"title\": {\"x\": 0.05}, \"xaxis\": {\"automargin\": true, \"gridcolor\": \"white\", \"linecolor\": \"white\", \"ticks\": \"\", \"title\": {\"standoff\": 15}, \"zerolinecolor\": \"white\", \"zerolinewidth\": 2}, \"yaxis\": {\"automargin\": true, \"gridcolor\": \"white\", \"linecolor\": \"white\", \"ticks\": \"\", \"title\": {\"standoff\": 15}, \"zerolinecolor\": \"white\", \"zerolinewidth\": 2}}}},                        {\"responsive\": true}                    ).then(function(){\n",
       "                            \n",
       "var gd = document.getElementById('6e2589ab-b916-4517-bcb2-efd98861d6cf');\n",
       "var x = new MutationObserver(function (mutations, observer) {{\n",
       "        var display = window.getComputedStyle(gd).display;\n",
       "        if (!display || display === 'none') {{\n",
       "            console.log([gd, 'removed!']);\n",
       "            Plotly.purge(gd);\n",
       "            observer.disconnect();\n",
       "        }}\n",
       "}});\n",
       "\n",
       "// Listen for the removal of the full notebook cells\n",
       "var notebookContainer = gd.closest('#notebook-container');\n",
       "if (notebookContainer) {{\n",
       "    x.observe(notebookContainer, {childList: true});\n",
       "}}\n",
       "\n",
       "// Listen for the clearing of the current output cell\n",
       "var outputEl = gd.closest('.output');\n",
       "if (outputEl) {{\n",
       "    x.observe(outputEl, {childList: true});\n",
       "}}\n",
       "\n",
       "                        })                };                });            </script>        </div>"
      ]
     },
     "metadata": {},
     "output_type": "display_data"
    }
   ],
   "source": [
    "import plotly.express as px\n",
    "import plotly.graph_objects as go\n",
    "\n",
    "fig = go.Figure()\n",
    "fig.add_trace(go.Scatter(x=pareto_df['y0'], y=pareto_df['y1'], name='pareto', mode='markers'))\n",
    "fig.add_trace(go.Scatter(x=prediction_df['y0'], y=prediction_df['y1'], name='prediction', mode='markers'))\n",
    "fig.add_trace(go.Scatter(x=dominated_samples_df['y0'], y=dominated_samples_df['y1'], name='dominated', mode='markers'))\n",
    "fig.add_trace(go.Scatter(x=non_dominated_samples_df['y0'], y=non_dominated_samples_df['y1'], name='non dominated', mode='markers'))\n",
    "fig.show()"
   ]
  },
  {
   "cell_type": "code",
   "execution_count": null,
   "metadata": {},
   "outputs": [],
   "source": []
  }
 ],
 "metadata": {
  "kernelspec": {
   "display_name": "Python 3",
   "language": "python",
   "name": "python3"
  },
  "language_info": {
   "codemirror_mode": {
    "name": "ipython",
    "version": 3
   },
   "file_extension": ".py",
   "mimetype": "text/x-python",
   "name": "python",
   "nbconvert_exporter": "python",
   "pygments_lexer": "ipython3",
   "version": "3.8.6"
  }
 },
 "nbformat": 4,
 "nbformat_minor": 4
}
