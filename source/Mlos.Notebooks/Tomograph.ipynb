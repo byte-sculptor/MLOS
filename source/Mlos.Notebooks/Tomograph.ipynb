{
 "cells": [
  {
   "cell_type": "markdown",
   "metadata": {},
   "source": [
    "# Goal\n",
    "\n",
    "The goal of this notebook is to help in interactively developing the new multi-objective version of the Tomograph.\n",
    "\n",
    "## Goals for the Tomograph\n",
    "\n",
    "1. Move away from matplotlib to either plotly, or bokeh. \n",
    "2. Make sure that:\n",
    "    1. All scales are the same so that they are comparable.\n",
    "    2. We should be able to plot not just predictions but also individual observations as a scatterplot. \n",
    "    3. We should be able to link the points across multiple charts to investigate them more deeply (bokeh seems to be the winner here)\n",
    "    4. We should be able to connect multiple tomographs to the same optimizer, as any given analysis might focus on different aspects and each aspect should have it's own graphs.\n",
    "3. The Tomograph produces a set of heatmaps that belong to 2D cross-sections of the higher-dimensional hypercube. All these cross-sections share a single point (often the optimum). The user should be able to:\n",
    "    1. Select one of the predefined points (different types of optima, maybe optima for different contexts)\n",
    "    2. View the resulting cross sections and sensitivity analysis for such a point\n",
    "    3. Be able to use sliders to adjust the point so that they can easily \"walk the hypercube\"\n",
    "    \n",
    "\n",
    "Plotly has the advantage of also enabling 3D visualizations of the pareto frontier and generates surface plots etc. But bokeh has built-in support for linking data. \n",
    "\n",
    "Given what we need, I would start with bokeh, for dabl-style and tomograph plots, and then switch to plotly for parameter interactions, and 3D pareto visualizations."
   ]
  }
 ],
 "metadata": {
  "kernelspec": {
   "display_name": "Python 3",
   "language": "python",
   "name": "python3"
  },
  "language_info": {
   "codemirror_mode": {
    "name": "ipython",
    "version": 3
   },
   "file_extension": ".py",
   "mimetype": "text/x-python",
   "name": "python",
   "nbconvert_exporter": "python",
   "pygments_lexer": "ipython3",
   "version": "3.8.6"
  }
 },
 "nbformat": 4,
 "nbformat_minor": 4
}
