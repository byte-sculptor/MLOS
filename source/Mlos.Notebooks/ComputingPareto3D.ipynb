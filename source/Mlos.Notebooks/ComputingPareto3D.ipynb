{
 "cells": [
  {
   "cell_type": "markdown",
   "metadata": {},
   "source": [
    "# Goal\n",
    "\n",
    "The objective of this notebook is to demonstrate and visualize the computation of the pareto frontier."
   ]
  },
  {
   "cell_type": "code",
   "execution_count": 1,
   "metadata": {},
   "outputs": [
    {
     "data": {
      "text/html": [
       "<style>.container { width:100% !important; }</style>"
      ],
      "text/plain": [
       "<IPython.core.display.HTML object>"
      ]
     },
     "metadata": {},
     "output_type": "display_data"
    }
   ],
   "source": [
    "from IPython.core.display import display, HTML\n",
    "display(HTML(\"<style>.container { width:100% !important; }</style>\"))"
   ]
  },
  {
   "cell_type": "code",
   "execution_count": 2,
   "metadata": {},
   "outputs": [
    {
     "name": "stderr",
     "output_type": "stream",
     "text": [
      "01/16/2021 00:51:06 -   BayesianOptimizerFactory -    INFO - [BayesianOptimizerFactory.py:  37 -    create_local_optimizer() ] Optimizer config not specified. Using default.\n"
     ]
    }
   ],
   "source": [
    "import pandas as pd\n",
    "\n",
    "\n",
    "from mlos.OptimizerEvaluationTools.ObjectiveFunctionFactory import ObjectiveFunctionFactory\n",
    "from mlos.OptimizerEvaluationTools.SyntheticFunctions.Hypersphere import Hypersphere\n",
    "\n",
    "from mlos.Optimizers.BayesianOptimizerFactory import BayesianOptimizerFactory, bayesian_optimizer_config_store\n",
    "from mlos.Optimizers.OptimizationProblem import OptimizationProblem, Objective\n",
    "from mlos.Optimizers.ParetoFrontier import ParetoFrontier\n",
    "\n",
    "from mlos.Spaces import ContinuousDimension, DiscreteDimension, Point, SimpleHypergrid\n",
    "\n",
    "hypersphere_radius = 10\n",
    "\n",
    "objective_function_config = Point(\n",
    "    implementation=Hypersphere.__name__,\n",
    "    hypersphere_config=Point(\n",
    "        num_objectives=3,\n",
    "        minimize='none',\n",
    "        radius=hypersphere_radius\n",
    "    )\n",
    ")\n",
    "\n",
    "objective_function = ObjectiveFunctionFactory.create_objective_function(objective_function_config=objective_function_config)\n",
    "optimization_problem = objective_function.default_optimization_problem\n",
    "optimizer = BayesianOptimizerFactory().create_local_optimizer(\n",
    "    optimization_problem=optimization_problem\n",
    ")"
   ]
  },
  {
   "cell_type": "code",
   "execution_count": 3,
   "metadata": {},
   "outputs": [
    {
     "data": {
      "text/plain": [
       "{\n",
       "  \"surrogate_model_implementation\": \"HomogeneousRandomForestRegressionModel\",\n",
       "  \"experiment_designer_implementation\": \"ExperimentDesigner\",\n",
       "  \"min_samples_required_for_guided_design_of_experiments\": 10,\n",
       "  \"homogeneous_random_forest_regression_model_config.n_estimators\": 10,\n",
       "  \"homogeneous_random_forest_regression_model_config.features_fraction_per_estimator\": 1,\n",
       "  \"homogeneous_random_forest_regression_model_config.samples_fraction_per_estimator\": 1,\n",
       "  \"homogeneous_random_forest_regression_model_config.regressor_implementation\": \"DecisionTreeRegressionModel\",\n",
       "  \"homogeneous_random_forest_regression_model_config.decision_tree_regression_model_config.criterion\": \"mse\",\n",
       "  \"homogeneous_random_forest_regression_model_config.decision_tree_regression_model_config.splitter\": \"best\",\n",
       "  \"homogeneous_random_forest_regression_model_config.decision_tree_regression_model_config.max_depth\": 0,\n",
       "  \"homogeneous_random_forest_regression_model_config.decision_tree_regression_model_config.min_samples_split\": 2,\n",
       "  \"homogeneous_random_forest_regression_model_config.decision_tree_regression_model_config.min_samples_leaf\": 3,\n",
       "  \"homogeneous_random_forest_regression_model_config.decision_tree_regression_model_config.min_weight_fraction_leaf\": 0,\n",
       "  \"homogeneous_random_forest_regression_model_config.decision_tree_regression_model_config.max_features\": \"auto\",\n",
       "  \"homogeneous_random_forest_regression_model_config.decision_tree_regression_model_config.max_leaf_nodes\": 0,\n",
       "  \"homogeneous_random_forest_regression_model_config.decision_tree_regression_model_config.min_impurity_decrease\": 0,\n",
       "  \"homogeneous_random_forest_regression_model_config.decision_tree_regression_model_config.ccp_alpha\": 0,\n",
       "  \"homogeneous_random_forest_regression_model_config.decision_tree_regression_model_config.min_samples_to_fit\": 10,\n",
       "  \"homogeneous_random_forest_regression_model_config.decision_tree_regression_model_config.n_new_samples_before_refit\": 10,\n",
       "  \"homogeneous_random_forest_regression_model_config.bootstrap\": true,\n",
       "  \"experiment_designer_config.utility_function_implementation\": \"MultiObjectiveProbabilityOfImprovementUtilityFunction\",\n",
       "  \"experiment_designer_config.numeric_optimizer_implementation\": \"RandomSearchOptimizer\",\n",
       "  \"experiment_designer_config.multi_objective_probability_of_improvement_config.utility_function_name\": \"multi_objective_probability_of_improvement\",\n",
       "  \"experiment_designer_config.multi_objective_probability_of_improvement_config.num_monte_carlo_samples\": 100,\n",
       "  \"experiment_designer_config.random_search_optimizer_config.num_samples_per_iteration\": 1000,\n",
       "  \"experiment_designer_config.fraction_random_suggestions\": 0.5\n",
       "}"
      ]
     },
     "execution_count": 3,
     "metadata": {},
     "output_type": "execute_result"
    }
   ],
   "source": [
    "optimizer.optimizer_config"
   ]
  },
  {
   "cell_type": "code",
   "execution_count": 4,
   "metadata": {
    "scrolled": true
   },
   "outputs": [
    {
     "name": "stdout",
     "output_type": "stream",
     "text": [
      "0\n",
      "1\n",
      "2\n",
      "3\n",
      "4\n",
      "5\n",
      "6\n",
      "7\n",
      "8\n",
      "9\n",
      "10\n",
      "11\n",
      "12\n",
      "13\n",
      "14\n",
      "15\n",
      "16\n",
      "17\n",
      "18\n",
      "19\n",
      "20\n",
      "21\n",
      "22\n",
      "23\n",
      "24\n",
      "25\n",
      "26\n",
      "27\n",
      "28\n",
      "29\n",
      "30\n",
      "31\n",
      "32\n",
      "33\n",
      "34\n",
      "35\n",
      "36\n"
     ]
    },
    {
     "ename": "KeyboardInterrupt",
     "evalue": "",
     "output_type": "error",
     "traceback": [
      "\u001b[1;31m---------------------------------------------------------------------------\u001b[0m",
      "\u001b[1;31mKeyboardInterrupt\u001b[0m                         Traceback (most recent call last)",
      "\u001b[1;32m<ipython-input-4-591f7f087fe6>\u001b[0m in \u001b[0;36m<module>\u001b[1;34m\u001b[0m\n\u001b[0;32m      2\u001b[0m \u001b[1;32mfor\u001b[0m \u001b[0mi\u001b[0m \u001b[1;32min\u001b[0m \u001b[0mrange\u001b[0m\u001b[1;33m(\u001b[0m\u001b[0mnum_iterations\u001b[0m\u001b[1;33m)\u001b[0m\u001b[1;33m:\u001b[0m\u001b[1;33m\u001b[0m\u001b[1;33m\u001b[0m\u001b[0m\n\u001b[0;32m      3\u001b[0m     \u001b[0mprint\u001b[0m\u001b[1;33m(\u001b[0m\u001b[0mi\u001b[0m\u001b[1;33m)\u001b[0m\u001b[1;33m\u001b[0m\u001b[1;33m\u001b[0m\u001b[0m\n\u001b[1;32m----> 4\u001b[1;33m     \u001b[0mconfig\u001b[0m \u001b[1;33m=\u001b[0m \u001b[0moptimizer\u001b[0m\u001b[1;33m.\u001b[0m\u001b[0msuggest\u001b[0m\u001b[1;33m(\u001b[0m\u001b[1;33m)\u001b[0m\u001b[1;33m\u001b[0m\u001b[1;33m\u001b[0m\u001b[0m\n\u001b[0m\u001b[0;32m      5\u001b[0m     \u001b[0mvalue\u001b[0m \u001b[1;33m=\u001b[0m \u001b[0mobjective_function\u001b[0m\u001b[1;33m.\u001b[0m\u001b[0mevaluate_point\u001b[0m\u001b[1;33m(\u001b[0m\u001b[0mconfig\u001b[0m\u001b[1;33m)\u001b[0m\u001b[1;33m\u001b[0m\u001b[1;33m\u001b[0m\u001b[0m\n\u001b[0;32m      6\u001b[0m     \u001b[0moptimizer\u001b[0m\u001b[1;33m.\u001b[0m\u001b[0mregister\u001b[0m\u001b[1;33m(\u001b[0m\u001b[0mconfig\u001b[0m\u001b[1;33m.\u001b[0m\u001b[0mto_dataframe\u001b[0m\u001b[1;33m(\u001b[0m\u001b[1;33m)\u001b[0m\u001b[1;33m,\u001b[0m \u001b[0mvalue\u001b[0m\u001b[1;33m.\u001b[0m\u001b[0mto_dataframe\u001b[0m\u001b[1;33m(\u001b[0m\u001b[1;33m)\u001b[0m\u001b[1;33m)\u001b[0m\u001b[1;33m\u001b[0m\u001b[1;33m\u001b[0m\u001b[0m\n",
      "\u001b[1;32me:\\code\\github_mlos\\source\\mlos.python\\mlos\\Tracer.py\u001b[0m in \u001b[0;36mwrapper\u001b[1;34m(*args, **kwargs)\u001b[0m\n\u001b[0;32m     57\u001b[0m \u001b[1;33m\u001b[0m\u001b[0m\n\u001b[0;32m     58\u001b[0m             \u001b[1;32melse\u001b[0m\u001b[1;33m:\u001b[0m\u001b[1;33m\u001b[0m\u001b[1;33m\u001b[0m\u001b[0m\n\u001b[1;32m---> 59\u001b[1;33m                 \u001b[0mresult\u001b[0m \u001b[1;33m=\u001b[0m \u001b[0mwrapped_function\u001b[0m\u001b[1;33m(\u001b[0m\u001b[1;33m*\u001b[0m\u001b[0margs\u001b[0m\u001b[1;33m,\u001b[0m \u001b[1;33m**\u001b[0m\u001b[0mkwargs\u001b[0m\u001b[1;33m)\u001b[0m\u001b[1;33m\u001b[0m\u001b[1;33m\u001b[0m\u001b[0m\n\u001b[0m\u001b[0;32m     60\u001b[0m \u001b[1;33m\u001b[0m\u001b[0m\n\u001b[0;32m     61\u001b[0m             \u001b[1;32mreturn\u001b[0m \u001b[0mresult\u001b[0m\u001b[1;33m\u001b[0m\u001b[1;33m\u001b[0m\u001b[0m\n",
      "\u001b[1;32me:\\code\\github_mlos\\source\\mlos.python\\mlos\\Optimizers\\BayesianOptimizer.py\u001b[0m in \u001b[0;36msuggest\u001b[1;34m(self, random, context)\u001b[0m\n\u001b[0;32m    138\u001b[0m         \u001b[0mcontext_values\u001b[0m \u001b[1;33m=\u001b[0m \u001b[0mcontext\u001b[0m\u001b[1;33m.\u001b[0m\u001b[0mto_dataframe\u001b[0m\u001b[1;33m(\u001b[0m\u001b[1;33m)\u001b[0m \u001b[1;32mif\u001b[0m \u001b[0mcontext\u001b[0m \u001b[1;32mis\u001b[0m \u001b[1;32mnot\u001b[0m \u001b[1;32mNone\u001b[0m \u001b[1;32melse\u001b[0m \u001b[1;32mNone\u001b[0m\u001b[1;33m\u001b[0m\u001b[1;33m\u001b[0m\u001b[0m\n\u001b[0;32m    139\u001b[0m         \u001b[0mpareto_df\u001b[0m \u001b[1;33m=\u001b[0m \u001b[0mParetoFrontier\u001b[0m\u001b[1;33m.\u001b[0m\u001b[0mcompute_pareto\u001b[0m\u001b[1;33m(\u001b[0m\u001b[0mself\u001b[0m\u001b[1;33m.\u001b[0m\u001b[0moptimization_problem\u001b[0m\u001b[1;33m,\u001b[0m \u001b[0mself\u001b[0m\u001b[1;33m.\u001b[0m\u001b[0m_target_values_df\u001b[0m\u001b[1;33m)\u001b[0m\u001b[1;33m\u001b[0m\u001b[1;33m\u001b[0m\u001b[0m\n\u001b[1;32m--> 140\u001b[1;33m         \u001b[0msuggested_config\u001b[0m \u001b[1;33m=\u001b[0m \u001b[0mself\u001b[0m\u001b[1;33m.\u001b[0m\u001b[0mexperiment_designer\u001b[0m\u001b[1;33m.\u001b[0m\u001b[0msuggest\u001b[0m\u001b[1;33m(\u001b[0m\u001b[0mrandom\u001b[0m\u001b[1;33m=\u001b[0m\u001b[0mrandom\u001b[0m\u001b[1;33m,\u001b[0m \u001b[0mcontext_values_dataframe\u001b[0m\u001b[1;33m=\u001b[0m\u001b[0mcontext_values\u001b[0m\u001b[1;33m,\u001b[0m \u001b[0mpareto_df\u001b[0m\u001b[1;33m=\u001b[0m\u001b[0mpareto_df\u001b[0m\u001b[1;33m)\u001b[0m\u001b[1;33m\u001b[0m\u001b[1;33m\u001b[0m\u001b[0m\n\u001b[0m\u001b[0;32m    141\u001b[0m         \u001b[1;32massert\u001b[0m \u001b[0msuggested_config\u001b[0m \u001b[1;32min\u001b[0m \u001b[0mself\u001b[0m\u001b[1;33m.\u001b[0m\u001b[0moptimization_problem\u001b[0m\u001b[1;33m.\u001b[0m\u001b[0mparameter_space\u001b[0m\u001b[1;33m\u001b[0m\u001b[1;33m\u001b[0m\u001b[0m\n\u001b[0;32m    142\u001b[0m         \u001b[1;32mreturn\u001b[0m \u001b[0msuggested_config\u001b[0m\u001b[1;33m\u001b[0m\u001b[1;33m\u001b[0m\u001b[0m\n",
      "\u001b[1;32me:\\code\\github_mlos\\source\\mlos.python\\mlos\\Optimizers\\ExperimentDesigner\\ExperimentDesigner.py\u001b[0m in \u001b[0;36msuggest\u001b[1;34m(self, context_values_dataframe, random, pareto_df)\u001b[0m\n\u001b[0;32m    138\u001b[0m         \u001b[1;32mif\u001b[0m \u001b[0mrandom\u001b[0m\u001b[1;33m:\u001b[0m\u001b[1;33m\u001b[0m\u001b[1;33m\u001b[0m\u001b[0m\n\u001b[0;32m    139\u001b[0m             \u001b[1;32mreturn\u001b[0m \u001b[0mself\u001b[0m\u001b[1;33m.\u001b[0m\u001b[0moptimization_problem\u001b[0m\u001b[1;33m.\u001b[0m\u001b[0mparameter_space\u001b[0m\u001b[1;33m.\u001b[0m\u001b[0mrandom\u001b[0m\u001b[1;33m(\u001b[0m\u001b[1;33m)\u001b[0m\u001b[1;33m\u001b[0m\u001b[1;33m\u001b[0m\u001b[0m\n\u001b[1;32m--> 140\u001b[1;33m         \u001b[1;32mreturn\u001b[0m \u001b[0mself\u001b[0m\u001b[1;33m.\u001b[0m\u001b[0mnumeric_optimizer\u001b[0m\u001b[1;33m.\u001b[0m\u001b[0msuggest\u001b[0m\u001b[1;33m(\u001b[0m\u001b[0mcontext_values_dataframe\u001b[0m\u001b[1;33m,\u001b[0m \u001b[0mpareto_df\u001b[0m\u001b[1;33m=\u001b[0m\u001b[0mpareto_df\u001b[0m\u001b[1;33m)\u001b[0m\u001b[1;33m\u001b[0m\u001b[1;33m\u001b[0m\u001b[0m\n\u001b[0m",
      "\u001b[1;32me:\\code\\github_mlos\\source\\mlos.python\\mlos\\Tracer.py\u001b[0m in \u001b[0;36mwrapper\u001b[1;34m(*args, **kwargs)\u001b[0m\n\u001b[0;32m     57\u001b[0m \u001b[1;33m\u001b[0m\u001b[0m\n\u001b[0;32m     58\u001b[0m             \u001b[1;32melse\u001b[0m\u001b[1;33m:\u001b[0m\u001b[1;33m\u001b[0m\u001b[1;33m\u001b[0m\u001b[0m\n\u001b[1;32m---> 59\u001b[1;33m                 \u001b[0mresult\u001b[0m \u001b[1;33m=\u001b[0m \u001b[0mwrapped_function\u001b[0m\u001b[1;33m(\u001b[0m\u001b[1;33m*\u001b[0m\u001b[0margs\u001b[0m\u001b[1;33m,\u001b[0m \u001b[1;33m**\u001b[0m\u001b[0mkwargs\u001b[0m\u001b[1;33m)\u001b[0m\u001b[1;33m\u001b[0m\u001b[1;33m\u001b[0m\u001b[0m\n\u001b[0m\u001b[0;32m     60\u001b[0m \u001b[1;33m\u001b[0m\u001b[0m\n\u001b[0;32m     61\u001b[0m             \u001b[1;32mreturn\u001b[0m \u001b[0mresult\u001b[0m\u001b[1;33m\u001b[0m\u001b[1;33m\u001b[0m\u001b[0m\n",
      "\u001b[1;32me:\\code\\github_mlos\\source\\mlos.python\\mlos\\Optimizers\\ExperimentDesigner\\UtilityFunctionOptimizers\\RandomSearchOptimizer.py\u001b[0m in \u001b[0;36msuggest\u001b[1;34m(self, context_values_dataframe, pareto_df)\u001b[0m\n\u001b[0;32m     59\u001b[0m             \u001b[0mproduct\u001b[0m\u001b[1;33m=\u001b[0m\u001b[1;32mTrue\u001b[0m\u001b[1;33m\u001b[0m\u001b[1;33m\u001b[0m\u001b[0m\n\u001b[0;32m     60\u001b[0m         )\n\u001b[1;32m---> 61\u001b[1;33m         \u001b[0mutility_function_values\u001b[0m \u001b[1;33m=\u001b[0m \u001b[0mself\u001b[0m\u001b[1;33m.\u001b[0m\u001b[0mutility_function\u001b[0m\u001b[1;33m(\u001b[0m\u001b[0mfeature_values_pandas_frame\u001b[0m\u001b[1;33m=\u001b[0m\u001b[0mfeature_values_dataframe\u001b[0m\u001b[1;33m.\u001b[0m\u001b[0mcopy\u001b[0m\u001b[1;33m(\u001b[0m\u001b[0mdeep\u001b[0m\u001b[1;33m=\u001b[0m\u001b[1;32mFalse\u001b[0m\u001b[1;33m)\u001b[0m\u001b[1;33m,\u001b[0m \u001b[0mpareto_df\u001b[0m\u001b[1;33m=\u001b[0m\u001b[0mpareto_df\u001b[0m\u001b[1;33m)\u001b[0m\u001b[1;33m\u001b[0m\u001b[1;33m\u001b[0m\u001b[0m\n\u001b[0m\u001b[0;32m     62\u001b[0m         \u001b[0mnum_utility_function_values\u001b[0m \u001b[1;33m=\u001b[0m \u001b[0mlen\u001b[0m\u001b[1;33m(\u001b[0m\u001b[0mutility_function_values\u001b[0m\u001b[1;33m.\u001b[0m\u001b[0mindex\u001b[0m\u001b[1;33m)\u001b[0m\u001b[1;33m\u001b[0m\u001b[1;33m\u001b[0m\u001b[0m\n\u001b[0;32m     63\u001b[0m         \u001b[0mindex_of_max_value\u001b[0m \u001b[1;33m=\u001b[0m \u001b[0mutility_function_values\u001b[0m\u001b[1;33m[\u001b[0m\u001b[1;33m[\u001b[0m\u001b[1;34m'utility'\u001b[0m\u001b[1;33m]\u001b[0m\u001b[1;33m]\u001b[0m\u001b[1;33m.\u001b[0m\u001b[0midxmax\u001b[0m\u001b[1;33m(\u001b[0m\u001b[1;33m)\u001b[0m\u001b[1;33m[\u001b[0m\u001b[1;34m'utility'\u001b[0m\u001b[1;33m]\u001b[0m \u001b[1;32mif\u001b[0m \u001b[0mnum_utility_function_values\u001b[0m \u001b[1;33m>\u001b[0m \u001b[1;36m0\u001b[0m \u001b[1;32melse\u001b[0m \u001b[1;36m0\u001b[0m\u001b[1;33m\u001b[0m\u001b[1;33m\u001b[0m\u001b[0m\n",
      "\u001b[1;32me:\\code\\github_mlos\\source\\mlos.python\\mlos\\Tracer.py\u001b[0m in \u001b[0;36mwrapper\u001b[1;34m(*args, **kwargs)\u001b[0m\n\u001b[0;32m     57\u001b[0m \u001b[1;33m\u001b[0m\u001b[0m\n\u001b[0;32m     58\u001b[0m             \u001b[1;32melse\u001b[0m\u001b[1;33m:\u001b[0m\u001b[1;33m\u001b[0m\u001b[1;33m\u001b[0m\u001b[0m\n\u001b[1;32m---> 59\u001b[1;33m                 \u001b[0mresult\u001b[0m \u001b[1;33m=\u001b[0m \u001b[0mwrapped_function\u001b[0m\u001b[1;33m(\u001b[0m\u001b[1;33m*\u001b[0m\u001b[0margs\u001b[0m\u001b[1;33m,\u001b[0m \u001b[1;33m**\u001b[0m\u001b[0mkwargs\u001b[0m\u001b[1;33m)\u001b[0m\u001b[1;33m\u001b[0m\u001b[1;33m\u001b[0m\u001b[0m\n\u001b[0m\u001b[0;32m     60\u001b[0m \u001b[1;33m\u001b[0m\u001b[0m\n\u001b[0;32m     61\u001b[0m             \u001b[1;32mreturn\u001b[0m \u001b[0mresult\u001b[0m\u001b[1;33m\u001b[0m\u001b[1;33m\u001b[0m\u001b[0m\n",
      "\u001b[1;32me:\\code\\github_mlos\\source\\mlos.python\\mlos\\Optimizers\\ExperimentDesigner\\UtilityFunctions\\MultiObjectiveProbabilityOfImprovementUtilityFunction.py\u001b[0m in \u001b[0;36m__call__\u001b[1;34m(self, feature_values_pandas_frame, pareto_df)\u001b[0m\n\u001b[0;32m     93\u001b[0m \u001b[1;33m\u001b[0m\u001b[0m\n\u001b[0;32m     94\u001b[0m         \u001b[0mfeature_values_pandas_frame\u001b[0m \u001b[1;33m=\u001b[0m \u001b[0mself\u001b[0m\u001b[1;33m.\u001b[0m\u001b[0msurrogate_model\u001b[0m\u001b[1;33m.\u001b[0m\u001b[0minput_space\u001b[0m\u001b[1;33m.\u001b[0m\u001b[0mfilter_out_invalid_rows\u001b[0m\u001b[1;33m(\u001b[0m\u001b[0moriginal_dataframe\u001b[0m\u001b[1;33m=\u001b[0m\u001b[0mfeature_values_pandas_frame\u001b[0m\u001b[1;33m)\u001b[0m\u001b[1;33m\u001b[0m\u001b[1;33m\u001b[0m\u001b[0m\n\u001b[1;32m---> 95\u001b[1;33m         \u001b[0mmulti_objective_predictions\u001b[0m\u001b[1;33m:\u001b[0m \u001b[0mMultiObjectivePrediction\u001b[0m \u001b[1;33m=\u001b[0m \u001b[0mself\u001b[0m\u001b[1;33m.\u001b[0m\u001b[0msurrogate_model\u001b[0m\u001b[1;33m.\u001b[0m\u001b[0mpredict\u001b[0m\u001b[1;33m(\u001b[0m\u001b[0mfeatures_df\u001b[0m\u001b[1;33m=\u001b[0m\u001b[0mfeature_values_pandas_frame\u001b[0m\u001b[1;33m)\u001b[0m\u001b[1;33m\u001b[0m\u001b[1;33m\u001b[0m\u001b[0m\n\u001b[0m\u001b[0;32m     96\u001b[0m \u001b[1;33m\u001b[0m\u001b[0m\n\u001b[0;32m     97\u001b[0m \u001b[1;33m\u001b[0m\u001b[0m\n",
      "\u001b[1;32me:\\code\\github_mlos\\source\\mlos.python\\mlos\\Optimizers\\RegressionModels\\MultiObjectiveHomogeneousRandomForest.py\u001b[0m in \u001b[0;36mpredict\u001b[1;34m(self, features_df, include_only_valid_rows)\u001b[0m\n\u001b[0;32m     83\u001b[0m         \u001b[0mmulti_objective_predicitons\u001b[0m \u001b[1;33m=\u001b[0m \u001b[0mMultiObjectivePrediction\u001b[0m\u001b[1;33m(\u001b[0m\u001b[0mobjective_names\u001b[0m\u001b[1;33m=\u001b[0m\u001b[0mself\u001b[0m\u001b[1;33m.\u001b[0m\u001b[0moutput_dimension_names\u001b[0m\u001b[1;33m)\u001b[0m\u001b[1;33m\u001b[0m\u001b[1;33m\u001b[0m\u001b[0m\n\u001b[0;32m     84\u001b[0m         \u001b[1;32mfor\u001b[0m \u001b[0mobjective_name\u001b[0m\u001b[1;33m,\u001b[0m \u001b[0mrandom_forest\u001b[0m \u001b[1;32min\u001b[0m \u001b[0mself\u001b[0m\u001b[1;33m.\u001b[0m\u001b[0m_regressors_by_objective_name\u001b[0m\u001b[1;33m:\u001b[0m\u001b[1;33m\u001b[0m\u001b[1;33m\u001b[0m\u001b[0m\n\u001b[1;32m---> 85\u001b[1;33m             \u001b[0mprediction\u001b[0m \u001b[1;33m=\u001b[0m \u001b[0mrandom_forest\u001b[0m\u001b[1;33m.\u001b[0m\u001b[0mpredict\u001b[0m\u001b[1;33m(\u001b[0m\u001b[0mfeatures_df\u001b[0m\u001b[1;33m,\u001b[0m \u001b[0minclude_only_valid_rows\u001b[0m\u001b[1;33m=\u001b[0m\u001b[0minclude_only_valid_rows\u001b[0m\u001b[1;33m)\u001b[0m\u001b[1;33m\u001b[0m\u001b[1;33m\u001b[0m\u001b[0m\n\u001b[0m\u001b[0;32m     86\u001b[0m             \u001b[0mmulti_objective_predicitons\u001b[0m\u001b[1;33m[\u001b[0m\u001b[0mobjective_name\u001b[0m\u001b[1;33m]\u001b[0m \u001b[1;33m=\u001b[0m \u001b[0mprediction\u001b[0m\u001b[1;33m\u001b[0m\u001b[1;33m\u001b[0m\u001b[0m\n\u001b[0;32m     87\u001b[0m         \u001b[1;32mreturn\u001b[0m \u001b[0mmulti_objective_predicitons\u001b[0m\u001b[1;33m\u001b[0m\u001b[1;33m\u001b[0m\u001b[0m\n",
      "\u001b[1;32me:\\code\\github_mlos\\source\\mlos.python\\mlos\\Tracer.py\u001b[0m in \u001b[0;36mwrapper\u001b[1;34m(*args, **kwargs)\u001b[0m\n\u001b[0;32m     57\u001b[0m \u001b[1;33m\u001b[0m\u001b[0m\n\u001b[0;32m     58\u001b[0m             \u001b[1;32melse\u001b[0m\u001b[1;33m:\u001b[0m\u001b[1;33m\u001b[0m\u001b[1;33m\u001b[0m\u001b[0m\n\u001b[1;32m---> 59\u001b[1;33m                 \u001b[0mresult\u001b[0m \u001b[1;33m=\u001b[0m \u001b[0mwrapped_function\u001b[0m\u001b[1;33m(\u001b[0m\u001b[1;33m*\u001b[0m\u001b[0margs\u001b[0m\u001b[1;33m,\u001b[0m \u001b[1;33m**\u001b[0m\u001b[0mkwargs\u001b[0m\u001b[1;33m)\u001b[0m\u001b[1;33m\u001b[0m\u001b[1;33m\u001b[0m\u001b[0m\n\u001b[0m\u001b[0;32m     60\u001b[0m \u001b[1;33m\u001b[0m\u001b[0m\n\u001b[0;32m     61\u001b[0m             \u001b[1;32mreturn\u001b[0m \u001b[0mresult\u001b[0m\u001b[1;33m\u001b[0m\u001b[1;33m\u001b[0m\u001b[0m\n",
      "\u001b[1;32me:\\code\\github_mlos\\source\\mlos.python\\mlos\\Optimizers\\RegressionModels\\HomogeneousRandomForestRegressionModel.py\u001b[0m in \u001b[0;36mpredict\u001b[1;34m(self, feature_values_pandas_frame, include_only_valid_rows)\u001b[0m\n\u001b[0;32m    227\u001b[0m \u001b[1;33m\u001b[0m\u001b[0m\n\u001b[0;32m    228\u001b[0m         \u001b[1;31m# collect predictions from ensemble constituent models\u001b[0m\u001b[1;33m\u001b[0m\u001b[1;33m\u001b[0m\u001b[1;33m\u001b[0m\u001b[0m\n\u001b[1;32m--> 229\u001b[1;33m         predictions_per_tree = [\n\u001b[0m\u001b[0;32m    230\u001b[0m             \u001b[0mestimator\u001b[0m\u001b[1;33m.\u001b[0m\u001b[0mpredict\u001b[0m\u001b[1;33m(\u001b[0m\u001b[0mfeature_values_pandas_frame\u001b[0m\u001b[1;33m=\u001b[0m\u001b[0mfeature_values_pandas_frame\u001b[0m\u001b[1;33m,\u001b[0m \u001b[0minclude_only_valid_rows\u001b[0m\u001b[1;33m=\u001b[0m\u001b[1;32mTrue\u001b[0m\u001b[1;33m)\u001b[0m\u001b[1;33m\u001b[0m\u001b[1;33m\u001b[0m\u001b[0m\n\u001b[0;32m    231\u001b[0m             \u001b[1;32mfor\u001b[0m \u001b[0mestimator\u001b[0m \u001b[1;32min\u001b[0m \u001b[0mself\u001b[0m\u001b[1;33m.\u001b[0m\u001b[0m_decision_trees\u001b[0m\u001b[1;33m\u001b[0m\u001b[1;33m\u001b[0m\u001b[0m\n",
      "\u001b[1;32me:\\code\\github_mlos\\source\\mlos.python\\mlos\\Optimizers\\RegressionModels\\HomogeneousRandomForestRegressionModel.py\u001b[0m in \u001b[0;36m<listcomp>\u001b[1;34m(.0)\u001b[0m\n\u001b[0;32m    228\u001b[0m         \u001b[1;31m# collect predictions from ensemble constituent models\u001b[0m\u001b[1;33m\u001b[0m\u001b[1;33m\u001b[0m\u001b[1;33m\u001b[0m\u001b[0m\n\u001b[0;32m    229\u001b[0m         predictions_per_tree = [\n\u001b[1;32m--> 230\u001b[1;33m             \u001b[0mestimator\u001b[0m\u001b[1;33m.\u001b[0m\u001b[0mpredict\u001b[0m\u001b[1;33m(\u001b[0m\u001b[0mfeature_values_pandas_frame\u001b[0m\u001b[1;33m=\u001b[0m\u001b[0mfeature_values_pandas_frame\u001b[0m\u001b[1;33m,\u001b[0m \u001b[0minclude_only_valid_rows\u001b[0m\u001b[1;33m=\u001b[0m\u001b[1;32mTrue\u001b[0m\u001b[1;33m)\u001b[0m\u001b[1;33m\u001b[0m\u001b[1;33m\u001b[0m\u001b[0m\n\u001b[0m\u001b[0;32m    231\u001b[0m             \u001b[1;32mfor\u001b[0m \u001b[0mestimator\u001b[0m \u001b[1;32min\u001b[0m \u001b[0mself\u001b[0m\u001b[1;33m.\u001b[0m\u001b[0m_decision_trees\u001b[0m\u001b[1;33m\u001b[0m\u001b[1;33m\u001b[0m\u001b[0m\n\u001b[0;32m    232\u001b[0m         ]\n",
      "\u001b[1;32me:\\code\\github_mlos\\source\\mlos.python\\mlos\\Tracer.py\u001b[0m in \u001b[0;36mwrapper\u001b[1;34m(*args, **kwargs)\u001b[0m\n\u001b[0;32m     57\u001b[0m \u001b[1;33m\u001b[0m\u001b[0m\n\u001b[0;32m     58\u001b[0m             \u001b[1;32melse\u001b[0m\u001b[1;33m:\u001b[0m\u001b[1;33m\u001b[0m\u001b[1;33m\u001b[0m\u001b[0m\n\u001b[1;32m---> 59\u001b[1;33m                 \u001b[0mresult\u001b[0m \u001b[1;33m=\u001b[0m \u001b[0mwrapped_function\u001b[0m\u001b[1;33m(\u001b[0m\u001b[1;33m*\u001b[0m\u001b[0margs\u001b[0m\u001b[1;33m,\u001b[0m \u001b[1;33m**\u001b[0m\u001b[0mkwargs\u001b[0m\u001b[1;33m)\u001b[0m\u001b[1;33m\u001b[0m\u001b[1;33m\u001b[0m\u001b[0m\n\u001b[0m\u001b[0;32m     60\u001b[0m \u001b[1;33m\u001b[0m\u001b[0m\n\u001b[0;32m     61\u001b[0m             \u001b[1;32mreturn\u001b[0m \u001b[0mresult\u001b[0m\u001b[1;33m\u001b[0m\u001b[1;33m\u001b[0m\u001b[0m\n",
      "\u001b[1;32me:\\code\\github_mlos\\source\\mlos.python\\mlos\\Optimizers\\RegressionModels\\DecisionTreeRegressionModel.py\u001b[0m in \u001b[0;36mpredict\u001b[1;34m(self, feature_values_pandas_frame, include_only_valid_rows)\u001b[0m\n\u001b[0;32m    168\u001b[0m         \u001b[1;32mif\u001b[0m \u001b[0mself\u001b[0m\u001b[1;33m.\u001b[0m\u001b[0mtrained\u001b[0m\u001b[1;33m:\u001b[0m\u001b[1;33m\u001b[0m\u001b[1;33m\u001b[0m\u001b[0m\n\u001b[0;32m    169\u001b[0m             \u001b[0mfeatures_df\u001b[0m \u001b[1;33m=\u001b[0m \u001b[0mself\u001b[0m\u001b[1;33m.\u001b[0m\u001b[0m_input_space_adapter\u001b[0m\u001b[1;33m.\u001b[0m\u001b[0mproject_dataframe\u001b[0m\u001b[1;33m(\u001b[0m\u001b[0mfeature_values_pandas_frame\u001b[0m\u001b[1;33m,\u001b[0m \u001b[0min_place\u001b[0m\u001b[1;33m=\u001b[0m\u001b[1;32mFalse\u001b[0m\u001b[1;33m)\u001b[0m\u001b[1;33m\u001b[0m\u001b[1;33m\u001b[0m\u001b[0m\n\u001b[1;32m--> 170\u001b[1;33m             \u001b[0mfeatures_df\u001b[0m \u001b[1;33m=\u001b[0m \u001b[0mself\u001b[0m\u001b[1;33m.\u001b[0m\u001b[0m_input_space_adapter\u001b[0m\u001b[1;33m.\u001b[0m\u001b[0mfilter_out_invalid_rows\u001b[0m\u001b[1;33m(\u001b[0m\u001b[0moriginal_dataframe\u001b[0m\u001b[1;33m=\u001b[0m\u001b[0mfeatures_df\u001b[0m\u001b[1;33m,\u001b[0m \u001b[0mexclude_extra_columns\u001b[0m\u001b[1;33m=\u001b[0m\u001b[1;32mTrue\u001b[0m\u001b[1;33m)\u001b[0m\u001b[1;33m\u001b[0m\u001b[1;33m\u001b[0m\u001b[0m\n\u001b[0m\u001b[0;32m    171\u001b[0m             \u001b[0mvalid_rows_index\u001b[0m \u001b[1;33m=\u001b[0m \u001b[0mfeatures_df\u001b[0m\u001b[1;33m.\u001b[0m\u001b[0mindex\u001b[0m\u001b[1;33m\u001b[0m\u001b[1;33m\u001b[0m\u001b[0m\n\u001b[0;32m    172\u001b[0m \u001b[1;33m\u001b[0m\u001b[0m\n",
      "\u001b[1;32me:\\code\\github_mlos\\source\\mlos.python\\mlos\\Tracer.py\u001b[0m in \u001b[0;36mwrapper\u001b[1;34m(*args, **kwargs)\u001b[0m\n\u001b[0;32m     57\u001b[0m \u001b[1;33m\u001b[0m\u001b[0m\n\u001b[0;32m     58\u001b[0m             \u001b[1;32melse\u001b[0m\u001b[1;33m:\u001b[0m\u001b[1;33m\u001b[0m\u001b[1;33m\u001b[0m\u001b[0m\n\u001b[1;32m---> 59\u001b[1;33m                 \u001b[0mresult\u001b[0m \u001b[1;33m=\u001b[0m \u001b[0mwrapped_function\u001b[0m\u001b[1;33m(\u001b[0m\u001b[1;33m*\u001b[0m\u001b[0margs\u001b[0m\u001b[1;33m,\u001b[0m \u001b[1;33m**\u001b[0m\u001b[0mkwargs\u001b[0m\u001b[1;33m)\u001b[0m\u001b[1;33m\u001b[0m\u001b[1;33m\u001b[0m\u001b[0m\n\u001b[0m\u001b[0;32m     60\u001b[0m \u001b[1;33m\u001b[0m\u001b[0m\n\u001b[0;32m     61\u001b[0m             \u001b[1;32mreturn\u001b[0m \u001b[0mresult\u001b[0m\u001b[1;33m\u001b[0m\u001b[1;33m\u001b[0m\u001b[0m\n",
      "\u001b[1;32me:\\code\\github_mlos\\source\\mlos.python\\mlos\\Spaces\\Hypergrid.py\u001b[0m in \u001b[0;36mfilter_out_invalid_rows\u001b[1;34m(self, original_dataframe, exclude_extra_columns)\u001b[0m\n\u001b[0;32m    129\u001b[0m         \u001b[0mIf\u001b[0m \u001b[0mthere\u001b[0m \u001b[0mare\u001b[0m \u001b[0madditional\u001b[0m \u001b[0mcolumns\u001b[0m\u001b[1;33m,\u001b[0m \u001b[0mthey\u001b[0m \u001b[0mwill\u001b[0m \u001b[0mbe\u001b[0m \u001b[0mdropped\u001b[0m \u001b[0munless\u001b[0m \u001b[0mexclude_extra_columns\u001b[0m \u001b[1;33m==\u001b[0m \u001b[1;32mFalse\u001b[0m\u001b[1;33m.\u001b[0m\u001b[1;33m\u001b[0m\u001b[1;33m\u001b[0m\u001b[0m\n\u001b[0;32m    130\u001b[0m         \"\"\"\n\u001b[1;32m--> 131\u001b[1;33m         \u001b[0mvalid_rows_index\u001b[0m \u001b[1;33m=\u001b[0m \u001b[0mself\u001b[0m\u001b[1;33m.\u001b[0m\u001b[0mget_valid_rows_index\u001b[0m\u001b[1;33m(\u001b[0m\u001b[0moriginal_dataframe\u001b[0m\u001b[1;33m)\u001b[0m\u001b[1;33m\u001b[0m\u001b[1;33m\u001b[0m\u001b[0m\n\u001b[0m\u001b[0;32m    132\u001b[0m \u001b[1;33m\u001b[0m\u001b[0m\n\u001b[0;32m    133\u001b[0m         \u001b[1;32mif\u001b[0m \u001b[0mexclude_extra_columns\u001b[0m\u001b[1;33m:\u001b[0m\u001b[1;33m\u001b[0m\u001b[1;33m\u001b[0m\u001b[0m\n",
      "\u001b[1;32me:\\code\\github_mlos\\source\\mlos.python\\mlos\\Tracer.py\u001b[0m in \u001b[0;36mwrapper\u001b[1;34m(*args, **kwargs)\u001b[0m\n\u001b[0;32m     57\u001b[0m \u001b[1;33m\u001b[0m\u001b[0m\n\u001b[0;32m     58\u001b[0m             \u001b[1;32melse\u001b[0m\u001b[1;33m:\u001b[0m\u001b[1;33m\u001b[0m\u001b[1;33m\u001b[0m\u001b[0m\n\u001b[1;32m---> 59\u001b[1;33m                 \u001b[0mresult\u001b[0m \u001b[1;33m=\u001b[0m \u001b[0mwrapped_function\u001b[0m\u001b[1;33m(\u001b[0m\u001b[1;33m*\u001b[0m\u001b[0margs\u001b[0m\u001b[1;33m,\u001b[0m \u001b[1;33m**\u001b[0m\u001b[0mkwargs\u001b[0m\u001b[1;33m)\u001b[0m\u001b[1;33m\u001b[0m\u001b[1;33m\u001b[0m\u001b[0m\n\u001b[0m\u001b[0;32m     60\u001b[0m \u001b[1;33m\u001b[0m\u001b[0m\n\u001b[0;32m     61\u001b[0m             \u001b[1;32mreturn\u001b[0m \u001b[0mresult\u001b[0m\u001b[1;33m\u001b[0m\u001b[1;33m\u001b[0m\u001b[0m\n",
      "\u001b[1;32me:\\code\\github_mlos\\source\\mlos.python\\mlos\\Spaces\\Hypergrid.py\u001b[0m in \u001b[0;36mget_valid_rows_index\u001b[1;34m(self, original_dataframe)\u001b[0m\n\u001b[0;32m     93\u001b[0m                 \u001b[1;32mif\u001b[0m \u001b[0misinstance\u001b[0m\u001b[1;33m(\u001b[0m\u001b[0mdimension\u001b[0m\u001b[1;33m,\u001b[0m \u001b[0mContinuousDimension\u001b[0m\u001b[1;33m)\u001b[0m\u001b[1;33m:\u001b[0m\u001b[1;33m\u001b[0m\u001b[1;33m\u001b[0m\u001b[0m\n\u001b[0;32m     94\u001b[0m                     \u001b[1;32mif\u001b[0m \u001b[0mdimension\u001b[0m\u001b[1;33m.\u001b[0m\u001b[0minclude_min\u001b[0m\u001b[1;33m:\u001b[0m\u001b[1;33m\u001b[0m\u001b[1;33m\u001b[0m\u001b[0m\n\u001b[1;32m---> 95\u001b[1;33m                         \u001b[0mvalid_rows_index\u001b[0m \u001b[1;33m=\u001b[0m \u001b[0mvalid_rows_index\u001b[0m\u001b[1;33m.\u001b[0m\u001b[0mintersection\u001b[0m\u001b[1;33m(\u001b[0m\u001b[0mdataframe\u001b[0m\u001b[1;33m[\u001b[0m\u001b[0mdataframe\u001b[0m\u001b[1;33m[\u001b[0m\u001b[0mdimension\u001b[0m\u001b[1;33m.\u001b[0m\u001b[0mname\u001b[0m\u001b[1;33m]\u001b[0m \u001b[1;33m>=\u001b[0m \u001b[0mdimension\u001b[0m\u001b[1;33m.\u001b[0m\u001b[0mmin\u001b[0m\u001b[1;33m]\u001b[0m\u001b[1;33m.\u001b[0m\u001b[0mindex\u001b[0m\u001b[1;33m)\u001b[0m\u001b[1;33m\u001b[0m\u001b[1;33m\u001b[0m\u001b[0m\n\u001b[0m\u001b[0;32m     96\u001b[0m                     \u001b[1;32melse\u001b[0m\u001b[1;33m:\u001b[0m\u001b[1;33m\u001b[0m\u001b[1;33m\u001b[0m\u001b[0m\n\u001b[0;32m     97\u001b[0m                         \u001b[0mvalid_rows_index\u001b[0m \u001b[1;33m=\u001b[0m \u001b[0mvalid_rows_index\u001b[0m\u001b[1;33m.\u001b[0m\u001b[0mintersection\u001b[0m\u001b[1;33m(\u001b[0m\u001b[0mdataframe\u001b[0m\u001b[1;33m[\u001b[0m\u001b[0mdataframe\u001b[0m\u001b[1;33m[\u001b[0m\u001b[0mdimension\u001b[0m\u001b[1;33m.\u001b[0m\u001b[0mname\u001b[0m\u001b[1;33m]\u001b[0m \u001b[1;33m>\u001b[0m \u001b[0mdimension\u001b[0m\u001b[1;33m.\u001b[0m\u001b[0mmin\u001b[0m\u001b[1;33m]\u001b[0m\u001b[1;33m.\u001b[0m\u001b[0mindex\u001b[0m\u001b[1;33m)\u001b[0m\u001b[1;33m\u001b[0m\u001b[1;33m\u001b[0m\u001b[0m\n",
      "\u001b[1;32mc:\\users\\adsmiech\\appdata\\local\\programs\\python\\python38-32\\lib\\site-packages\\pandas\\core\\frame.py\u001b[0m in \u001b[0;36m__getitem__\u001b[1;34m(self, key)\u001b[0m\n\u001b[0;32m   2895\u001b[0m         \u001b[1;31m# Do we have a (boolean) 1d indexer?\u001b[0m\u001b[1;33m\u001b[0m\u001b[1;33m\u001b[0m\u001b[1;33m\u001b[0m\u001b[0m\n\u001b[0;32m   2896\u001b[0m         \u001b[1;32mif\u001b[0m \u001b[0mcom\u001b[0m\u001b[1;33m.\u001b[0m\u001b[0mis_bool_indexer\u001b[0m\u001b[1;33m(\u001b[0m\u001b[0mkey\u001b[0m\u001b[1;33m)\u001b[0m\u001b[1;33m:\u001b[0m\u001b[1;33m\u001b[0m\u001b[1;33m\u001b[0m\u001b[0m\n\u001b[1;32m-> 2897\u001b[1;33m             \u001b[1;32mreturn\u001b[0m \u001b[0mself\u001b[0m\u001b[1;33m.\u001b[0m\u001b[0m_getitem_bool_array\u001b[0m\u001b[1;33m(\u001b[0m\u001b[0mkey\u001b[0m\u001b[1;33m)\u001b[0m\u001b[1;33m\u001b[0m\u001b[1;33m\u001b[0m\u001b[0m\n\u001b[0m\u001b[0;32m   2898\u001b[0m \u001b[1;33m\u001b[0m\u001b[0m\n\u001b[0;32m   2899\u001b[0m         \u001b[1;31m# We are left with two options: a single key, and a collection of keys,\u001b[0m\u001b[1;33m\u001b[0m\u001b[1;33m\u001b[0m\u001b[1;33m\u001b[0m\u001b[0m\n",
      "\u001b[1;32mc:\\users\\adsmiech\\appdata\\local\\programs\\python\\python38-32\\lib\\site-packages\\pandas\\core\\frame.py\u001b[0m in \u001b[0;36m_getitem_bool_array\u001b[1;34m(self, key)\u001b[0m\n\u001b[0;32m   2949\u001b[0m         \u001b[0mkey\u001b[0m \u001b[1;33m=\u001b[0m \u001b[0mcheck_bool_indexer\u001b[0m\u001b[1;33m(\u001b[0m\u001b[0mself\u001b[0m\u001b[1;33m.\u001b[0m\u001b[0mindex\u001b[0m\u001b[1;33m,\u001b[0m \u001b[0mkey\u001b[0m\u001b[1;33m)\u001b[0m\u001b[1;33m\u001b[0m\u001b[1;33m\u001b[0m\u001b[0m\n\u001b[0;32m   2950\u001b[0m         \u001b[0mindexer\u001b[0m \u001b[1;33m=\u001b[0m \u001b[0mkey\u001b[0m\u001b[1;33m.\u001b[0m\u001b[0mnonzero\u001b[0m\u001b[1;33m(\u001b[0m\u001b[1;33m)\u001b[0m\u001b[1;33m[\u001b[0m\u001b[1;36m0\u001b[0m\u001b[1;33m]\u001b[0m\u001b[1;33m\u001b[0m\u001b[1;33m\u001b[0m\u001b[0m\n\u001b[1;32m-> 2951\u001b[1;33m         \u001b[1;32mreturn\u001b[0m \u001b[0mself\u001b[0m\u001b[1;33m.\u001b[0m\u001b[0m_take_with_is_copy\u001b[0m\u001b[1;33m(\u001b[0m\u001b[0mindexer\u001b[0m\u001b[1;33m,\u001b[0m \u001b[0maxis\u001b[0m\u001b[1;33m=\u001b[0m\u001b[1;36m0\u001b[0m\u001b[1;33m)\u001b[0m\u001b[1;33m\u001b[0m\u001b[1;33m\u001b[0m\u001b[0m\n\u001b[0m\u001b[0;32m   2952\u001b[0m \u001b[1;33m\u001b[0m\u001b[0m\n\u001b[0;32m   2953\u001b[0m     \u001b[1;32mdef\u001b[0m \u001b[0m_getitem_multilevel\u001b[0m\u001b[1;33m(\u001b[0m\u001b[0mself\u001b[0m\u001b[1;33m,\u001b[0m \u001b[0mkey\u001b[0m\u001b[1;33m)\u001b[0m\u001b[1;33m:\u001b[0m\u001b[1;33m\u001b[0m\u001b[1;33m\u001b[0m\u001b[0m\n",
      "\u001b[1;32mc:\\users\\adsmiech\\appdata\\local\\programs\\python\\python38-32\\lib\\site-packages\\pandas\\core\\generic.py\u001b[0m in \u001b[0;36m_take_with_is_copy\u001b[1;34m(self, indices, axis)\u001b[0m\n\u001b[0;32m   3361\u001b[0m         \u001b[0mSee\u001b[0m \u001b[0mthe\u001b[0m \u001b[0mdocstring\u001b[0m \u001b[0mof\u001b[0m\u001b[0;31m \u001b[0m\u001b[0;31m`\u001b[0m\u001b[0mtake\u001b[0m\u001b[0;31m`\u001b[0m \u001b[1;32mfor\u001b[0m \u001b[0mfull\u001b[0m \u001b[0mexplanation\u001b[0m \u001b[0mof\u001b[0m \u001b[0mthe\u001b[0m \u001b[0mparameters\u001b[0m\u001b[1;33m.\u001b[0m\u001b[1;33m\u001b[0m\u001b[1;33m\u001b[0m\u001b[0m\n\u001b[0;32m   3362\u001b[0m         \"\"\"\n\u001b[1;32m-> 3363\u001b[1;33m         \u001b[0mresult\u001b[0m \u001b[1;33m=\u001b[0m \u001b[0mself\u001b[0m\u001b[1;33m.\u001b[0m\u001b[0mtake\u001b[0m\u001b[1;33m(\u001b[0m\u001b[0mindices\u001b[0m\u001b[1;33m=\u001b[0m\u001b[0mindices\u001b[0m\u001b[1;33m,\u001b[0m \u001b[0maxis\u001b[0m\u001b[1;33m=\u001b[0m\u001b[0maxis\u001b[0m\u001b[1;33m)\u001b[0m\u001b[1;33m\u001b[0m\u001b[1;33m\u001b[0m\u001b[0m\n\u001b[0m\u001b[0;32m   3364\u001b[0m         \u001b[1;31m# Maybe set copy if we didn't actually change the index.\u001b[0m\u001b[1;33m\u001b[0m\u001b[1;33m\u001b[0m\u001b[1;33m\u001b[0m\u001b[0m\n\u001b[0;32m   3365\u001b[0m         \u001b[1;32mif\u001b[0m \u001b[1;32mnot\u001b[0m \u001b[0mresult\u001b[0m\u001b[1;33m.\u001b[0m\u001b[0m_get_axis\u001b[0m\u001b[1;33m(\u001b[0m\u001b[0maxis\u001b[0m\u001b[1;33m)\u001b[0m\u001b[1;33m.\u001b[0m\u001b[0mequals\u001b[0m\u001b[1;33m(\u001b[0m\u001b[0mself\u001b[0m\u001b[1;33m.\u001b[0m\u001b[0m_get_axis\u001b[0m\u001b[1;33m(\u001b[0m\u001b[0maxis\u001b[0m\u001b[1;33m)\u001b[0m\u001b[1;33m)\u001b[0m\u001b[1;33m:\u001b[0m\u001b[1;33m\u001b[0m\u001b[1;33m\u001b[0m\u001b[0m\n",
      "\u001b[1;32mc:\\users\\adsmiech\\appdata\\local\\programs\\python\\python38-32\\lib\\site-packages\\pandas\\core\\generic.py\u001b[0m in \u001b[0;36mtake\u001b[1;34m(self, indices, axis, is_copy, **kwargs)\u001b[0m\n\u001b[0;32m   3348\u001b[0m         \u001b[0mself\u001b[0m\u001b[1;33m.\u001b[0m\u001b[0m_consolidate_inplace\u001b[0m\u001b[1;33m(\u001b[0m\u001b[1;33m)\u001b[0m\u001b[1;33m\u001b[0m\u001b[1;33m\u001b[0m\u001b[0m\n\u001b[0;32m   3349\u001b[0m \u001b[1;33m\u001b[0m\u001b[0m\n\u001b[1;32m-> 3350\u001b[1;33m         new_data = self._mgr.take(\n\u001b[0m\u001b[0;32m   3351\u001b[0m             \u001b[0mindices\u001b[0m\u001b[1;33m,\u001b[0m \u001b[0maxis\u001b[0m\u001b[1;33m=\u001b[0m\u001b[0mself\u001b[0m\u001b[1;33m.\u001b[0m\u001b[0m_get_block_manager_axis\u001b[0m\u001b[1;33m(\u001b[0m\u001b[0maxis\u001b[0m\u001b[1;33m)\u001b[0m\u001b[1;33m,\u001b[0m \u001b[0mverify\u001b[0m\u001b[1;33m=\u001b[0m\u001b[1;32mTrue\u001b[0m\u001b[1;33m\u001b[0m\u001b[1;33m\u001b[0m\u001b[0m\n\u001b[0;32m   3352\u001b[0m         )\n",
      "\u001b[1;32mc:\\users\\adsmiech\\appdata\\local\\programs\\python\\python38-32\\lib\\site-packages\\pandas\\core\\internals\\managers.py\u001b[0m in \u001b[0;36mtake\u001b[1;34m(self, indexer, axis, verify, convert)\u001b[0m\n\u001b[0;32m   1438\u001b[0m         \u001b[0mn\u001b[0m \u001b[1;33m=\u001b[0m \u001b[0mself\u001b[0m\u001b[1;33m.\u001b[0m\u001b[0mshape\u001b[0m\u001b[1;33m[\u001b[0m\u001b[0maxis\u001b[0m\u001b[1;33m]\u001b[0m\u001b[1;33m\u001b[0m\u001b[1;33m\u001b[0m\u001b[0m\n\u001b[0;32m   1439\u001b[0m         \u001b[1;32mif\u001b[0m \u001b[0mconvert\u001b[0m\u001b[1;33m:\u001b[0m\u001b[1;33m\u001b[0m\u001b[1;33m\u001b[0m\u001b[0m\n\u001b[1;32m-> 1440\u001b[1;33m             \u001b[0mindexer\u001b[0m \u001b[1;33m=\u001b[0m \u001b[0mmaybe_convert_indices\u001b[0m\u001b[1;33m(\u001b[0m\u001b[0mindexer\u001b[0m\u001b[1;33m,\u001b[0m \u001b[0mn\u001b[0m\u001b[1;33m)\u001b[0m\u001b[1;33m\u001b[0m\u001b[1;33m\u001b[0m\u001b[0m\n\u001b[0m\u001b[0;32m   1441\u001b[0m \u001b[1;33m\u001b[0m\u001b[0m\n\u001b[0;32m   1442\u001b[0m         \u001b[1;32mif\u001b[0m \u001b[0mverify\u001b[0m\u001b[1;33m:\u001b[0m\u001b[1;33m\u001b[0m\u001b[1;33m\u001b[0m\u001b[0m\n",
      "\u001b[1;32mc:\\users\\adsmiech\\appdata\\local\\programs\\python\\python38-32\\lib\\site-packages\\pandas\\core\\indexers.py\u001b[0m in \u001b[0;36mmaybe_convert_indices\u001b[1;34m(indices, n)\u001b[0m\n\u001b[0;32m    242\u001b[0m \u001b[1;33m\u001b[0m\u001b[0m\n\u001b[0;32m    243\u001b[0m     \u001b[0mmask\u001b[0m \u001b[1;33m=\u001b[0m \u001b[0mindices\u001b[0m \u001b[1;33m<\u001b[0m \u001b[1;36m0\u001b[0m\u001b[1;33m\u001b[0m\u001b[1;33m\u001b[0m\u001b[0m\n\u001b[1;32m--> 244\u001b[1;33m     \u001b[1;32mif\u001b[0m \u001b[0mmask\u001b[0m\u001b[1;33m.\u001b[0m\u001b[0many\u001b[0m\u001b[1;33m(\u001b[0m\u001b[1;33m)\u001b[0m\u001b[1;33m:\u001b[0m\u001b[1;33m\u001b[0m\u001b[1;33m\u001b[0m\u001b[0m\n\u001b[0m\u001b[0;32m    245\u001b[0m         \u001b[0mindices\u001b[0m \u001b[1;33m=\u001b[0m \u001b[0mindices\u001b[0m\u001b[1;33m.\u001b[0m\u001b[0mcopy\u001b[0m\u001b[1;33m(\u001b[0m\u001b[1;33m)\u001b[0m\u001b[1;33m\u001b[0m\u001b[1;33m\u001b[0m\u001b[0m\n\u001b[0;32m    246\u001b[0m         \u001b[0mindices\u001b[0m\u001b[1;33m[\u001b[0m\u001b[0mmask\u001b[0m\u001b[1;33m]\u001b[0m \u001b[1;33m+=\u001b[0m \u001b[0mn\u001b[0m\u001b[1;33m\u001b[0m\u001b[1;33m\u001b[0m\u001b[0m\n",
      "\u001b[1;32mc:\\users\\adsmiech\\appdata\\local\\programs\\python\\python38-32\\lib\\site-packages\\numpy\\core\\_methods.py\u001b[0m in \u001b[0;36m_any\u001b[1;34m(a, axis, dtype, out, keepdims)\u001b[0m\n\u001b[0;32m     52\u001b[0m \u001b[1;33m\u001b[0m\u001b[0m\n\u001b[0;32m     53\u001b[0m \u001b[1;32mdef\u001b[0m \u001b[0m_any\u001b[0m\u001b[1;33m(\u001b[0m\u001b[0ma\u001b[0m\u001b[1;33m,\u001b[0m \u001b[0maxis\u001b[0m\u001b[1;33m=\u001b[0m\u001b[1;32mNone\u001b[0m\u001b[1;33m,\u001b[0m \u001b[0mdtype\u001b[0m\u001b[1;33m=\u001b[0m\u001b[1;32mNone\u001b[0m\u001b[1;33m,\u001b[0m \u001b[0mout\u001b[0m\u001b[1;33m=\u001b[0m\u001b[1;32mNone\u001b[0m\u001b[1;33m,\u001b[0m \u001b[0mkeepdims\u001b[0m\u001b[1;33m=\u001b[0m\u001b[1;32mFalse\u001b[0m\u001b[1;33m)\u001b[0m\u001b[1;33m:\u001b[0m\u001b[1;33m\u001b[0m\u001b[1;33m\u001b[0m\u001b[0m\n\u001b[1;32m---> 54\u001b[1;33m     \u001b[1;32mreturn\u001b[0m \u001b[0mumr_any\u001b[0m\u001b[1;33m(\u001b[0m\u001b[0ma\u001b[0m\u001b[1;33m,\u001b[0m \u001b[0maxis\u001b[0m\u001b[1;33m,\u001b[0m \u001b[0mdtype\u001b[0m\u001b[1;33m,\u001b[0m \u001b[0mout\u001b[0m\u001b[1;33m,\u001b[0m \u001b[0mkeepdims\u001b[0m\u001b[1;33m)\u001b[0m\u001b[1;33m\u001b[0m\u001b[1;33m\u001b[0m\u001b[0m\n\u001b[0m\u001b[0;32m     55\u001b[0m \u001b[1;33m\u001b[0m\u001b[0m\n\u001b[0;32m     56\u001b[0m \u001b[1;32mdef\u001b[0m \u001b[0m_all\u001b[0m\u001b[1;33m(\u001b[0m\u001b[0ma\u001b[0m\u001b[1;33m,\u001b[0m \u001b[0maxis\u001b[0m\u001b[1;33m=\u001b[0m\u001b[1;32mNone\u001b[0m\u001b[1;33m,\u001b[0m \u001b[0mdtype\u001b[0m\u001b[1;33m=\u001b[0m\u001b[1;32mNone\u001b[0m\u001b[1;33m,\u001b[0m \u001b[0mout\u001b[0m\u001b[1;33m=\u001b[0m\u001b[1;32mNone\u001b[0m\u001b[1;33m,\u001b[0m \u001b[0mkeepdims\u001b[0m\u001b[1;33m=\u001b[0m\u001b[1;32mFalse\u001b[0m\u001b[1;33m)\u001b[0m\u001b[1;33m:\u001b[0m\u001b[1;33m\u001b[0m\u001b[1;33m\u001b[0m\u001b[0m\n",
      "\u001b[1;31mKeyboardInterrupt\u001b[0m: "
     ]
    }
   ],
   "source": [
    "num_iterations = 100\n",
    "for i in range(num_iterations):\n",
    "    print(i)\n",
    "    config = optimizer.suggest()\n",
    "    value = objective_function.evaluate_point(config)\n",
    "    optimizer.register(config.to_dataframe(), value.to_dataframe())"
   ]
  },
  {
   "cell_type": "code",
   "execution_count": 5,
   "metadata": {},
   "outputs": [],
   "source": [
    "# Now let's plot the existing pareto frontier, along with some predictions.\n",
    "#\n",
    "params_df, objectives_df, context_df = optimizer.get_all_observations()\n",
    "\n",
    "# Let's create pareto frontiers over time so that we can plot them.\n",
    "#\n",
    "pareto_dfs_over_time = [ParetoFrontier.compute_pareto(optimization_problem, objectives_df[:i]) for i in objectives_df.index]\n",
    "objectives_over_time = [objectives_df[:i] for i in objectives_df.index]"
   ]
  },
  {
   "cell_type": "code",
   "execution_count": 13,
   "metadata": {},
   "outputs": [
    {
     "data": {
      "application/vnd.plotly.v1+json": {
       "config": {
        "plotlyServerURL": "https://plot.ly"
       },
       "data": [
        {
         "marker": {
          "color": "blue",
          "size": 10
         },
         "mode": "markers",
         "name": "observed objectives",
         "type": "scatter3d",
         "x": [],
         "y": [],
         "z": []
        },
        {
         "name": "pareto-ish",
         "type": "scatter3d",
         "x": [],
         "y": [],
         "z": []
        }
       ],
       "frames": [
        {
         "data": [
          {
           "marker": {
            "color": "blue",
            "size": 10
           },
           "mode": "markers",
           "name": "observed objectives",
           "type": "scatter3d",
           "x": [],
           "y": [],
           "z": []
          },
          {
           "name": "pareto-ish",
           "type": "scatter3d",
           "x": [],
           "y": [],
           "z": []
          }
         ]
        },
        {
         "data": [
          {
           "marker": {
            "color": "blue",
            "size": 10
           },
           "mode": "markers",
           "name": "observed objectives",
           "type": "scatter3d",
           "x": [
            4.533330662181171
           ],
           "y": [
            6.023129299002695
           ],
           "z": [
            2.4410084433391384
           ]
          },
          {
           "name": "pareto-ish",
           "type": "scatter3d",
           "x": [
            4.533330662181171
           ],
           "y": [
            6.023129299002695
           ],
           "z": [
            2.4410084433391384
           ]
          }
         ]
        },
        {
         "data": [
          {
           "marker": {
            "color": "blue",
            "size": 10
           },
           "mode": "markers",
           "name": "observed objectives",
           "type": "scatter3d",
           "x": [
            4.533330662181171,
            2.4151583196525395
           ],
           "y": [
            6.023129299002695,
            0.7671039178360047
           ],
           "z": [
            2.4410084433391384,
            0.5541846302305486
           ]
          },
          {
           "name": "pareto-ish",
           "type": "scatter3d",
           "x": [
            4.533330662181171
           ],
           "y": [
            6.023129299002695
           ],
           "z": [
            2.4410084433391384
           ]
          }
         ]
        },
        {
         "data": [
          {
           "marker": {
            "color": "blue",
            "size": 10
           },
           "mode": "markers",
           "name": "observed objectives",
           "type": "scatter3d",
           "x": [
            4.533330662181171,
            2.4151583196525395,
            2.1283255170892517
           ],
           "y": [
            6.023129299002695,
            0.7671039178360047,
            1.5607918967456855
           ],
           "z": [
            2.4410084433391384,
            0.5541846302305486,
            0.002048308879315178
           ]
          },
          {
           "name": "pareto-ish",
           "type": "scatter3d",
           "x": [
            4.533330662181171
           ],
           "y": [
            6.023129299002695
           ],
           "z": [
            2.4410084433391384
           ]
          }
         ]
        },
        {
         "data": [
          {
           "marker": {
            "color": "blue",
            "size": 10
           },
           "mode": "markers",
           "name": "observed objectives",
           "type": "scatter3d",
           "x": [
            4.533330662181171,
            2.4151583196525395,
            2.1283255170892517,
            1.4815800626711841
           ],
           "y": [
            6.023129299002695,
            0.7671039178360047,
            1.5607918967456855,
            1.2445939474149117
           ],
           "z": [
            2.4410084433391384,
            0.5541846302305486,
            0.002048308879315178,
            2.8933867142398544
           ]
          },
          {
           "name": "pareto-ish",
           "type": "scatter3d",
           "x": [
            4.533330662181171,
            1.4815800626711841
           ],
           "y": [
            6.023129299002695,
            1.2445939474149117
           ],
           "z": [
            2.4410084433391384,
            2.8933867142398544
           ]
          }
         ]
        },
        {
         "data": [
          {
           "marker": {
            "color": "blue",
            "size": 10
           },
           "mode": "markers",
           "name": "observed objectives",
           "type": "scatter3d",
           "x": [
            4.533330662181171,
            2.4151583196525395,
            2.1283255170892517,
            1.4815800626711841,
            9.196227973487561
           ],
           "y": [
            6.023129299002695,
            0.7671039178360047,
            1.5607918967456855,
            1.2445939474149117,
            0.08289372870921259
           ],
           "z": [
            2.4410084433391384,
            0.5541846302305486,
            0.002048308879315178,
            2.8933867142398544,
            0.0736510078221581
           ]
          },
          {
           "name": "pareto-ish",
           "type": "scatter3d",
           "x": [
            9.196227973487561,
            4.533330662181171,
            1.4815800626711841
           ],
           "y": [
            0.08289372870921259,
            6.023129299002695,
            1.2445939474149117
           ],
           "z": [
            0.0736510078221581,
            2.4410084433391384,
            2.8933867142398544
           ]
          }
         ]
        },
        {
         "data": [
          {
           "marker": {
            "color": "blue",
            "size": 10
           },
           "mode": "markers",
           "name": "observed objectives",
           "type": "scatter3d",
           "x": [
            4.533330662181171,
            2.4151583196525395,
            2.1283255170892517,
            1.4815800626711841,
            9.196227973487561,
            4.301625713847673
           ],
           "y": [
            6.023129299002695,
            0.7671039178360047,
            1.5607918967456855,
            1.2445939474149117,
            0.08289372870921259,
            2.0088825008593743
           ],
           "z": [
            2.4410084433391384,
            0.5541846302305486,
            0.002048308879315178,
            2.8933867142398544,
            0.0736510078221581,
            3.267182273602211
           ]
          },
          {
           "name": "pareto-ish",
           "type": "scatter3d",
           "x": [
            9.196227973487561,
            4.533330662181171,
            4.301625713847673
           ],
           "y": [
            0.08289372870921259,
            6.023129299002695,
            2.0088825008593743
           ],
           "z": [
            0.0736510078221581,
            2.4410084433391384,
            3.267182273602211
           ]
          }
         ]
        },
        {
         "data": [
          {
           "marker": {
            "color": "blue",
            "size": 10
           },
           "mode": "markers",
           "name": "observed objectives",
           "type": "scatter3d",
           "x": [
            4.533330662181171,
            2.4151583196525395,
            2.1283255170892517,
            1.4815800626711841,
            9.196227973487561,
            4.301625713847673,
            7.554935235370545
           ],
           "y": [
            6.023129299002695,
            0.7671039178360047,
            1.5607918967456855,
            1.2445939474149117,
            0.08289372870921259,
            2.0088825008593743,
            0.32192845619985583
           ],
           "z": [
            2.4410084433391384,
            0.5541846302305486,
            0.002048308879315178,
            2.8933867142398544,
            0.0736510078221581,
            3.267182273602211,
            1.3511700219364273
           ]
          },
          {
           "name": "pareto-ish",
           "type": "scatter3d",
           "x": [
            9.196227973487561,
            7.554935235370545,
            4.533330662181171,
            4.301625713847673
           ],
           "y": [
            0.08289372870921259,
            0.32192845619985583,
            6.023129299002695,
            2.0088825008593743
           ],
           "z": [
            0.0736510078221581,
            1.3511700219364273,
            2.4410084433391384,
            3.267182273602211
           ]
          }
         ]
        },
        {
         "data": [
          {
           "marker": {
            "color": "blue",
            "size": 10
           },
           "mode": "markers",
           "name": "observed objectives",
           "type": "scatter3d",
           "x": [
            4.533330662181171,
            2.4151583196525395,
            2.1283255170892517,
            1.4815800626711841,
            9.196227973487561,
            4.301625713847673,
            7.554935235370545,
            3.2016532566805473
           ],
           "y": [
            6.023129299002695,
            0.7671039178360047,
            1.5607918967456855,
            1.2445939474149117,
            0.08289372870921259,
            2.0088825008593743,
            0.32192845619985583,
            6.354340022178383
           ],
           "z": [
            2.4410084433391384,
            0.5541846302305486,
            0.002048308879315178,
            2.8933867142398544,
            0.0736510078221581,
            3.267182273602211,
            1.3511700219364273,
            0.23598974769576486
           ]
          },
          {
           "name": "pareto-ish",
           "type": "scatter3d",
           "x": [
            9.196227973487561,
            7.554935235370545,
            4.533330662181171,
            4.301625713847673,
            3.2016532566805473
           ],
           "y": [
            0.08289372870921259,
            0.32192845619985583,
            6.023129299002695,
            2.0088825008593743,
            6.354340022178383
           ],
           "z": [
            0.0736510078221581,
            1.3511700219364273,
            2.4410084433391384,
            3.267182273602211,
            0.23598974769576486
           ]
          }
         ]
        },
        {
         "data": [
          {
           "marker": {
            "color": "blue",
            "size": 10
           },
           "mode": "markers",
           "name": "observed objectives",
           "type": "scatter3d",
           "x": [
            4.533330662181171,
            2.4151583196525395,
            2.1283255170892517,
            1.4815800626711841,
            9.196227973487561,
            4.301625713847673,
            7.554935235370545,
            3.2016532566805473,
            2.669605486548057
           ],
           "y": [
            6.023129299002695,
            0.7671039178360047,
            1.5607918967456855,
            1.2445939474149117,
            0.08289372870921259,
            2.0088825008593743,
            0.32192845619985583,
            6.354340022178383,
            4.02360950987
           ],
           "z": [
            2.4410084433391384,
            0.5541846302305486,
            0.002048308879315178,
            2.8933867142398544,
            0.0736510078221581,
            3.267182273602211,
            1.3511700219364273,
            0.23598974769576486,
            4.229708860198898
           ]
          },
          {
           "name": "pareto-ish",
           "type": "scatter3d",
           "x": [
            9.196227973487561,
            7.554935235370545,
            4.533330662181171,
            4.301625713847673,
            3.2016532566805473,
            2.669605486548057
           ],
           "y": [
            0.08289372870921259,
            0.32192845619985583,
            6.023129299002695,
            2.0088825008593743,
            6.354340022178383,
            4.02360950987
           ],
           "z": [
            0.0736510078221581,
            1.3511700219364273,
            2.4410084433391384,
            3.267182273602211,
            0.23598974769576486,
            4.229708860198898
           ]
          }
         ]
        },
        {
         "data": [
          {
           "marker": {
            "color": "blue",
            "size": 10
           },
           "mode": "markers",
           "name": "observed objectives",
           "type": "scatter3d",
           "x": [
            4.533330662181171,
            2.4151583196525395,
            2.1283255170892517,
            1.4815800626711841,
            9.196227973487561,
            4.301625713847673,
            7.554935235370545,
            3.2016532566805473,
            2.669605486548057,
            3.290226454059422
           ],
           "y": [
            6.023129299002695,
            0.7671039178360047,
            1.5607918967456855,
            1.2445939474149117,
            0.08289372870921259,
            2.0088825008593743,
            0.32192845619985583,
            6.354340022178383,
            4.02360950987,
            1.4550368992431406
           ],
           "z": [
            2.4410084433391384,
            0.5541846302305486,
            0.002048308879315178,
            2.8933867142398544,
            0.0736510078221581,
            3.267182273602211,
            1.3511700219364273,
            0.23598974769576486,
            4.229708860198898,
            0.8663738910873127
           ]
          },
          {
           "name": "pareto-ish",
           "type": "scatter3d",
           "x": [
            9.196227973487561,
            7.554935235370545,
            4.533330662181171,
            4.301625713847673,
            3.2016532566805473,
            2.669605486548057
           ],
           "y": [
            0.08289372870921259,
            0.32192845619985583,
            6.023129299002695,
            2.0088825008593743,
            6.354340022178383,
            4.02360950987
           ],
           "z": [
            0.0736510078221581,
            1.3511700219364273,
            2.4410084433391384,
            3.267182273602211,
            0.23598974769576486,
            4.229708860198898
           ]
          }
         ]
        },
        {
         "data": [
          {
           "marker": {
            "color": "blue",
            "size": 10
           },
           "mode": "markers",
           "name": "observed objectives",
           "type": "scatter3d",
           "x": [
            4.533330662181171,
            2.4151583196525395,
            2.1283255170892517,
            1.4815800626711841,
            9.196227973487561,
            4.301625713847673,
            7.554935235370545,
            3.2016532566805473,
            2.669605486548057,
            3.290226454059422,
            0.23062815717408705
           ],
           "y": [
            6.023129299002695,
            0.7671039178360047,
            1.5607918967456855,
            1.2445939474149117,
            0.08289372870921259,
            2.0088825008593743,
            0.32192845619985583,
            6.354340022178383,
            4.02360950987,
            1.4550368992431406,
            3.1432018210843973
           ],
           "z": [
            2.4410084433391384,
            0.5541846302305486,
            0.002048308879315178,
            2.8933867142398544,
            0.0736510078221581,
            3.267182273602211,
            1.3511700219364273,
            0.23598974769576486,
            4.229708860198898,
            0.8663738910873127,
            1.4940621756311803
           ]
          },
          {
           "name": "pareto-ish",
           "type": "scatter3d",
           "x": [
            9.196227973487561,
            7.554935235370545,
            4.533330662181171,
            4.301625713847673,
            3.2016532566805473,
            2.669605486548057
           ],
           "y": [
            0.08289372870921259,
            0.32192845619985583,
            6.023129299002695,
            2.0088825008593743,
            6.354340022178383,
            4.02360950987
           ],
           "z": [
            0.0736510078221581,
            1.3511700219364273,
            2.4410084433391384,
            3.267182273602211,
            0.23598974769576486,
            4.229708860198898
           ]
          }
         ]
        },
        {
         "data": [
          {
           "marker": {
            "color": "blue",
            "size": 10
           },
           "mode": "markers",
           "name": "observed objectives",
           "type": "scatter3d",
           "x": [
            4.533330662181171,
            2.4151583196525395,
            2.1283255170892517,
            1.4815800626711841,
            9.196227973487561,
            4.301625713847673,
            7.554935235370545,
            3.2016532566805473,
            2.669605486548057,
            3.290226454059422,
            0.23062815717408705,
            2.6668070079912902
           ],
           "y": [
            6.023129299002695,
            0.7671039178360047,
            1.5607918967456855,
            1.2445939474149117,
            0.08289372870921259,
            2.0088825008593743,
            0.32192845619985583,
            6.354340022178383,
            4.02360950987,
            1.4550368992431406,
            3.1432018210843973,
            0.01859628617041176
           ],
           "z": [
            2.4410084433391384,
            0.5541846302305486,
            0.002048308879315178,
            2.8933867142398544,
            0.0736510078221581,
            3.267182273602211,
            1.3511700219364273,
            0.23598974769576486,
            4.229708860198898,
            0.8663738910873127,
            1.4940621756311803,
            0.03694410376614173
           ]
          },
          {
           "name": "pareto-ish",
           "type": "scatter3d",
           "x": [
            9.196227973487561,
            7.554935235370545,
            4.533330662181171,
            4.301625713847673,
            3.2016532566805473,
            2.669605486548057
           ],
           "y": [
            0.08289372870921259,
            0.32192845619985583,
            6.023129299002695,
            2.0088825008593743,
            6.354340022178383,
            4.02360950987
           ],
           "z": [
            0.0736510078221581,
            1.3511700219364273,
            2.4410084433391384,
            3.267182273602211,
            0.23598974769576486,
            4.229708860198898
           ]
          }
         ]
        },
        {
         "data": [
          {
           "marker": {
            "color": "blue",
            "size": 10
           },
           "mode": "markers",
           "name": "observed objectives",
           "type": "scatter3d",
           "x": [
            4.533330662181171,
            2.4151583196525395,
            2.1283255170892517,
            1.4815800626711841,
            9.196227973487561,
            4.301625713847673,
            7.554935235370545,
            3.2016532566805473,
            2.669605486548057,
            3.290226454059422,
            0.23062815717408705,
            2.6668070079912902,
            3.477417321572958
           ],
           "y": [
            6.023129299002695,
            0.7671039178360047,
            1.5607918967456855,
            1.2445939474149117,
            0.08289372870921259,
            2.0088825008593743,
            0.32192845619985583,
            6.354340022178383,
            4.02360950987,
            1.4550368992431406,
            3.1432018210843973,
            0.01859628617041176,
            2.35776294472259
           ],
           "z": [
            2.4410084433391384,
            0.5541846302305486,
            0.002048308879315178,
            2.8933867142398544,
            0.0736510078221581,
            3.267182273602211,
            1.3511700219364273,
            0.23598974769576486,
            4.229708860198898,
            0.8663738910873127,
            1.4940621756311803,
            0.03694410376614173,
            6.728549997827893
           ]
          },
          {
           "name": "pareto-ish",
           "type": "scatter3d",
           "x": [
            9.196227973487561,
            7.554935235370545,
            4.533330662181171,
            4.301625713847673,
            3.477417321572958,
            3.2016532566805473,
            2.669605486548057
           ],
           "y": [
            0.08289372870921259,
            0.32192845619985583,
            6.023129299002695,
            2.0088825008593743,
            2.35776294472259,
            6.354340022178383,
            4.02360950987
           ],
           "z": [
            0.0736510078221581,
            1.3511700219364273,
            2.4410084433391384,
            3.267182273602211,
            6.728549997827893,
            0.23598974769576486,
            4.229708860198898
           ]
          }
         ]
        },
        {
         "data": [
          {
           "marker": {
            "color": "blue",
            "size": 10
           },
           "mode": "markers",
           "name": "observed objectives",
           "type": "scatter3d",
           "x": [
            4.533330662181171,
            2.4151583196525395,
            2.1283255170892517,
            1.4815800626711841,
            9.196227973487561,
            4.301625713847673,
            7.554935235370545,
            3.2016532566805473,
            2.669605486548057,
            3.290226454059422,
            0.23062815717408705,
            2.6668070079912902,
            3.477417321572958,
            2.1570506668428604
           ],
           "y": [
            6.023129299002695,
            0.7671039178360047,
            1.5607918967456855,
            1.2445939474149117,
            0.08289372870921259,
            2.0088825008593743,
            0.32192845619985583,
            6.354340022178383,
            4.02360950987,
            1.4550368992431406,
            3.1432018210843973,
            0.01859628617041176,
            2.35776294472259,
            4.030939822007416
           ],
           "z": [
            2.4410084433391384,
            0.5541846302305486,
            0.002048308879315178,
            2.8933867142398544,
            0.0736510078221581,
            3.267182273602211,
            1.3511700219364273,
            0.23598974769576486,
            4.229708860198898,
            0.8663738910873127,
            1.4940621756311803,
            0.03694410376614173,
            6.728549997827893,
            6.911151465673739
           ]
          },
          {
           "name": "pareto-ish",
           "type": "scatter3d",
           "x": [
            9.196227973487561,
            7.554935235370545,
            4.533330662181171,
            4.301625713847673,
            3.477417321572958,
            3.2016532566805473,
            2.669605486548057,
            2.1570506668428604
           ],
           "y": [
            0.08289372870921259,
            0.32192845619985583,
            6.023129299002695,
            2.0088825008593743,
            2.35776294472259,
            6.354340022178383,
            4.02360950987,
            4.030939822007416
           ],
           "z": [
            0.0736510078221581,
            1.3511700219364273,
            2.4410084433391384,
            3.267182273602211,
            6.728549997827893,
            0.23598974769576486,
            4.229708860198898,
            6.911151465673739
           ]
          }
         ]
        },
        {
         "data": [
          {
           "marker": {
            "color": "blue",
            "size": 10
           },
           "mode": "markers",
           "name": "observed objectives",
           "type": "scatter3d",
           "x": [
            4.533330662181171,
            2.4151583196525395,
            2.1283255170892517,
            1.4815800626711841,
            9.196227973487561,
            4.301625713847673,
            7.554935235370545,
            3.2016532566805473,
            2.669605486548057,
            3.290226454059422,
            0.23062815717408705,
            2.6668070079912902,
            3.477417321572958,
            2.1570506668428604,
            4.220754459010385
           ],
           "y": [
            6.023129299002695,
            0.7671039178360047,
            1.5607918967456855,
            1.2445939474149117,
            0.08289372870921259,
            2.0088825008593743,
            0.32192845619985583,
            6.354340022178383,
            4.02360950987,
            1.4550368992431406,
            3.1432018210843973,
            0.01859628617041176,
            2.35776294472259,
            4.030939822007416,
            1.8940032221219165
           ],
           "z": [
            2.4410084433391384,
            0.5541846302305486,
            0.002048308879315178,
            2.8933867142398544,
            0.0736510078221581,
            3.267182273602211,
            1.3511700219364273,
            0.23598974769576486,
            4.229708860198898,
            0.8663738910873127,
            1.4940621756311803,
            0.03694410376614173,
            6.728549997827893,
            6.911151465673739,
            6.694415141752299
           ]
          },
          {
           "name": "pareto-ish",
           "type": "scatter3d",
           "x": [
            9.196227973487561,
            7.554935235370545,
            4.533330662181171,
            4.301625713847673,
            4.220754459010385,
            3.477417321572958,
            3.2016532566805473,
            2.669605486548057,
            2.1570506668428604
           ],
           "y": [
            0.08289372870921259,
            0.32192845619985583,
            6.023129299002695,
            2.0088825008593743,
            1.8940032221219165,
            2.35776294472259,
            6.354340022178383,
            4.02360950987,
            4.030939822007416
           ],
           "z": [
            0.0736510078221581,
            1.3511700219364273,
            2.4410084433391384,
            3.267182273602211,
            6.694415141752299,
            6.728549997827893,
            0.23598974769576486,
            4.229708860198898,
            6.911151465673739
           ]
          }
         ]
        },
        {
         "data": [
          {
           "marker": {
            "color": "blue",
            "size": 10
           },
           "mode": "markers",
           "name": "observed objectives",
           "type": "scatter3d",
           "x": [
            4.533330662181171,
            2.4151583196525395,
            2.1283255170892517,
            1.4815800626711841,
            9.196227973487561,
            4.301625713847673,
            7.554935235370545,
            3.2016532566805473,
            2.669605486548057,
            3.290226454059422,
            0.23062815717408705,
            2.6668070079912902,
            3.477417321572958,
            2.1570506668428604,
            4.220754459010385,
            3.7522644895974606
           ],
           "y": [
            6.023129299002695,
            0.7671039178360047,
            1.5607918967456855,
            1.2445939474149117,
            0.08289372870921259,
            2.0088825008593743,
            0.32192845619985583,
            6.354340022178383,
            4.02360950987,
            1.4550368992431406,
            3.1432018210843973,
            0.01859628617041176,
            2.35776294472259,
            4.030939822007416,
            1.8940032221219165,
            5.418401033601961
           ],
           "z": [
            2.4410084433391384,
            0.5541846302305486,
            0.002048308879315178,
            2.8933867142398544,
            0.0736510078221581,
            3.267182273602211,
            1.3511700219364273,
            0.23598974769576486,
            4.229708860198898,
            0.8663738910873127,
            1.4940621756311803,
            0.03694410376614173,
            6.728549997827893,
            6.911151465673739,
            6.694415141752299,
            6.349678942286682
           ]
          },
          {
           "name": "pareto-ish",
           "type": "scatter3d",
           "x": [
            9.196227973487561,
            7.554935235370545,
            4.533330662181171,
            4.301625713847673,
            4.220754459010385,
            3.7522644895974606,
            3.477417321572958,
            3.2016532566805473,
            2.1570506668428604
           ],
           "y": [
            0.08289372870921259,
            0.32192845619985583,
            6.023129299002695,
            2.0088825008593743,
            1.8940032221219165,
            5.418401033601961,
            2.35776294472259,
            6.354340022178383,
            4.030939822007416
           ],
           "z": [
            0.0736510078221581,
            1.3511700219364273,
            2.4410084433391384,
            3.267182273602211,
            6.694415141752299,
            6.349678942286682,
            6.728549997827893,
            0.23598974769576486,
            6.911151465673739
           ]
          }
         ]
        },
        {
         "data": [
          {
           "marker": {
            "color": "blue",
            "size": 10
           },
           "mode": "markers",
           "name": "observed objectives",
           "type": "scatter3d",
           "x": [
            4.533330662181171,
            2.4151583196525395,
            2.1283255170892517,
            1.4815800626711841,
            9.196227973487561,
            4.301625713847673,
            7.554935235370545,
            3.2016532566805473,
            2.669605486548057,
            3.290226454059422,
            0.23062815717408705,
            2.6668070079912902,
            3.477417321572958,
            2.1570506668428604,
            4.220754459010385,
            3.7522644895974606,
            6.81541844603797
           ],
           "y": [
            6.023129299002695,
            0.7671039178360047,
            1.5607918967456855,
            1.2445939474149117,
            0.08289372870921259,
            2.0088825008593743,
            0.32192845619985583,
            6.354340022178383,
            4.02360950987,
            1.4550368992431406,
            3.1432018210843973,
            0.01859628617041176,
            2.35776294472259,
            4.030939822007416,
            1.8940032221219165,
            5.418401033601961,
            2.841776305584818
           ],
           "z": [
            2.4410084433391384,
            0.5541846302305486,
            0.002048308879315178,
            2.8933867142398544,
            0.0736510078221581,
            3.267182273602211,
            1.3511700219364273,
            0.23598974769576486,
            4.229708860198898,
            0.8663738910873127,
            1.4940621756311803,
            0.03694410376614173,
            6.728549997827893,
            6.911151465673739,
            6.694415141752299,
            6.349678942286682,
            2.7645283935594986
           ]
          },
          {
           "name": "pareto-ish",
           "type": "scatter3d",
           "x": [
            9.196227973487561,
            7.554935235370545,
            6.81541844603797,
            4.533330662181171,
            4.301625713847673,
            4.220754459010385,
            3.7522644895974606,
            3.477417321572958,
            3.2016532566805473,
            2.1570506668428604
           ],
           "y": [
            0.08289372870921259,
            0.32192845619985583,
            2.841776305584818,
            6.023129299002695,
            2.0088825008593743,
            1.8940032221219165,
            5.418401033601961,
            2.35776294472259,
            6.354340022178383,
            4.030939822007416
           ],
           "z": [
            0.0736510078221581,
            1.3511700219364273,
            2.7645283935594986,
            2.4410084433391384,
            3.267182273602211,
            6.694415141752299,
            6.349678942286682,
            6.728549997827893,
            0.23598974769576486,
            6.911151465673739
           ]
          }
         ]
        },
        {
         "data": [
          {
           "marker": {
            "color": "blue",
            "size": 10
           },
           "mode": "markers",
           "name": "observed objectives",
           "type": "scatter3d",
           "x": [
            4.533330662181171,
            2.4151583196525395,
            2.1283255170892517,
            1.4815800626711841,
            9.196227973487561,
            4.301625713847673,
            7.554935235370545,
            3.2016532566805473,
            2.669605486548057,
            3.290226454059422,
            0.23062815717408705,
            2.6668070079912902,
            3.477417321572958,
            2.1570506668428604,
            4.220754459010385,
            3.7522644895974606,
            6.81541844603797,
            8.599624691401939
           ],
           "y": [
            6.023129299002695,
            0.7671039178360047,
            1.5607918967456855,
            1.2445939474149117,
            0.08289372870921259,
            2.0088825008593743,
            0.32192845619985583,
            6.354340022178383,
            4.02360950987,
            1.4550368992431406,
            3.1432018210843973,
            0.01859628617041176,
            2.35776294472259,
            4.030939822007416,
            1.8940032221219165,
            5.418401033601961,
            2.841776305584818,
            1.3257708655322125
           ],
           "z": [
            2.4410084433391384,
            0.5541846302305486,
            0.002048308879315178,
            2.8933867142398544,
            0.0736510078221581,
            3.267182273602211,
            1.3511700219364273,
            0.23598974769576486,
            4.229708860198898,
            0.8663738910873127,
            1.4940621756311803,
            0.03694410376614173,
            6.728549997827893,
            6.911151465673739,
            6.694415141752299,
            6.349678942286682,
            2.7645283935594986,
            0.46079265848178746
           ]
          },
          {
           "name": "pareto-ish",
           "type": "scatter3d",
           "x": [
            9.196227973487561,
            8.599624691401939,
            7.554935235370545,
            6.81541844603797,
            4.533330662181171,
            4.301625713847673,
            4.220754459010385,
            3.7522644895974606,
            3.477417321572958,
            3.2016532566805473,
            2.1570506668428604
           ],
           "y": [
            0.08289372870921259,
            1.3257708655322125,
            0.32192845619985583,
            2.841776305584818,
            6.023129299002695,
            2.0088825008593743,
            1.8940032221219165,
            5.418401033601961,
            2.35776294472259,
            6.354340022178383,
            4.030939822007416
           ],
           "z": [
            0.0736510078221581,
            0.46079265848178746,
            1.3511700219364273,
            2.7645283935594986,
            2.4410084433391384,
            3.267182273602211,
            6.694415141752299,
            6.349678942286682,
            6.728549997827893,
            0.23598974769576486,
            6.911151465673739
           ]
          }
         ]
        },
        {
         "data": [
          {
           "marker": {
            "color": "blue",
            "size": 10
           },
           "mode": "markers",
           "name": "observed objectives",
           "type": "scatter3d",
           "x": [
            4.533330662181171,
            2.4151583196525395,
            2.1283255170892517,
            1.4815800626711841,
            9.196227973487561,
            4.301625713847673,
            7.554935235370545,
            3.2016532566805473,
            2.669605486548057,
            3.290226454059422,
            0.23062815717408705,
            2.6668070079912902,
            3.477417321572958,
            2.1570506668428604,
            4.220754459010385,
            3.7522644895974606,
            6.81541844603797,
            8.599624691401939,
            0.622673432467017
           ],
           "y": [
            6.023129299002695,
            0.7671039178360047,
            1.5607918967456855,
            1.2445939474149117,
            0.08289372870921259,
            2.0088825008593743,
            0.32192845619985583,
            6.354340022178383,
            4.02360950987,
            1.4550368992431406,
            3.1432018210843973,
            0.01859628617041176,
            2.35776294472259,
            4.030939822007416,
            1.8940032221219165,
            5.418401033601961,
            2.841776305584818,
            1.3257708655322125,
            0.2778062499877374
           ],
           "z": [
            2.4410084433391384,
            0.5541846302305486,
            0.002048308879315178,
            2.8933867142398544,
            0.0736510078221581,
            3.267182273602211,
            1.3511700219364273,
            0.23598974769576486,
            4.229708860198898,
            0.8663738910873127,
            1.4940621756311803,
            0.03694410376614173,
            6.728549997827893,
            6.911151465673739,
            6.694415141752299,
            6.349678942286682,
            2.7645283935594986,
            0.46079265848178746,
            0.51826935741091
           ]
          },
          {
           "name": "pareto-ish",
           "type": "scatter3d",
           "x": [
            9.196227973487561,
            8.599624691401939,
            7.554935235370545,
            6.81541844603797,
            4.533330662181171,
            4.301625713847673,
            4.220754459010385,
            3.7522644895974606,
            3.477417321572958,
            3.2016532566805473,
            2.1570506668428604
           ],
           "y": [
            0.08289372870921259,
            1.3257708655322125,
            0.32192845619985583,
            2.841776305584818,
            6.023129299002695,
            2.0088825008593743,
            1.8940032221219165,
            5.418401033601961,
            2.35776294472259,
            6.354340022178383,
            4.030939822007416
           ],
           "z": [
            0.0736510078221581,
            0.46079265848178746,
            1.3511700219364273,
            2.7645283935594986,
            2.4410084433391384,
            3.267182273602211,
            6.694415141752299,
            6.349678942286682,
            6.728549997827893,
            0.23598974769576486,
            6.911151465673739
           ]
          }
         ]
        },
        {
         "data": [
          {
           "marker": {
            "color": "blue",
            "size": 10
           },
           "mode": "markers",
           "name": "observed objectives",
           "type": "scatter3d",
           "x": [
            4.533330662181171,
            2.4151583196525395,
            2.1283255170892517,
            1.4815800626711841,
            9.196227973487561,
            4.301625713847673,
            7.554935235370545,
            3.2016532566805473,
            2.669605486548057,
            3.290226454059422,
            0.23062815717408705,
            2.6668070079912902,
            3.477417321572958,
            2.1570506668428604,
            4.220754459010385,
            3.7522644895974606,
            6.81541844603797,
            8.599624691401939,
            0.622673432467017,
            2.1962236775542685
           ],
           "y": [
            6.023129299002695,
            0.7671039178360047,
            1.5607918967456855,
            1.2445939474149117,
            0.08289372870921259,
            2.0088825008593743,
            0.32192845619985583,
            6.354340022178383,
            4.02360950987,
            1.4550368992431406,
            3.1432018210843973,
            0.01859628617041176,
            2.35776294472259,
            4.030939822007416,
            1.8940032221219165,
            5.418401033601961,
            2.841776305584818,
            1.3257708655322125,
            0.2778062499877374,
            2.9317772131818844
           ],
           "z": [
            2.4410084433391384,
            0.5541846302305486,
            0.002048308879315178,
            2.8933867142398544,
            0.0736510078221581,
            3.267182273602211,
            1.3511700219364273,
            0.23598974769576486,
            4.229708860198898,
            0.8663738910873127,
            1.4940621756311803,
            0.03694410376614173,
            6.728549997827893,
            6.911151465673739,
            6.694415141752299,
            6.349678942286682,
            2.7645283935594986,
            0.46079265848178746,
            0.51826935741091,
            6.915297296223086
           ]
          },
          {
           "name": "pareto-ish",
           "type": "scatter3d",
           "x": [
            9.196227973487561,
            8.599624691401939,
            7.554935235370545,
            6.81541844603797,
            4.533330662181171,
            4.301625713847673,
            4.220754459010385,
            3.7522644895974606,
            3.477417321572958,
            3.2016532566805473,
            2.1962236775542685,
            2.1570506668428604
           ],
           "y": [
            0.08289372870921259,
            1.3257708655322125,
            0.32192845619985583,
            2.841776305584818,
            6.023129299002695,
            2.0088825008593743,
            1.8940032221219165,
            5.418401033601961,
            2.35776294472259,
            6.354340022178383,
            2.9317772131818844,
            4.030939822007416
           ],
           "z": [
            0.0736510078221581,
            0.46079265848178746,
            1.3511700219364273,
            2.7645283935594986,
            2.4410084433391384,
            3.267182273602211,
            6.694415141752299,
            6.349678942286682,
            6.728549997827893,
            0.23598974769576486,
            6.915297296223086,
            6.911151465673739
           ]
          }
         ]
        },
        {
         "data": [
          {
           "marker": {
            "color": "blue",
            "size": 10
           },
           "mode": "markers",
           "name": "observed objectives",
           "type": "scatter3d",
           "x": [
            4.533330662181171,
            2.4151583196525395,
            2.1283255170892517,
            1.4815800626711841,
            9.196227973487561,
            4.301625713847673,
            7.554935235370545,
            3.2016532566805473,
            2.669605486548057,
            3.290226454059422,
            0.23062815717408705,
            2.6668070079912902,
            3.477417321572958,
            2.1570506668428604,
            4.220754459010385,
            3.7522644895974606,
            6.81541844603797,
            8.599624691401939,
            0.622673432467017,
            2.1962236775542685,
            0.47562868592402335
           ],
           "y": [
            6.023129299002695,
            0.7671039178360047,
            1.5607918967456855,
            1.2445939474149117,
            0.08289372870921259,
            2.0088825008593743,
            0.32192845619985583,
            6.354340022178383,
            4.02360950987,
            1.4550368992431406,
            3.1432018210843973,
            0.01859628617041176,
            2.35776294472259,
            4.030939822007416,
            1.8940032221219165,
            5.418401033601961,
            2.841776305584818,
            1.3257708655322125,
            0.2778062499877374,
            2.9317772131818844,
            6.541486299713317
           ],
           "z": [
            2.4410084433391384,
            0.5541846302305486,
            0.002048308879315178,
            2.8933867142398544,
            0.0736510078221581,
            3.267182273602211,
            1.3511700219364273,
            0.23598974769576486,
            4.229708860198898,
            0.8663738910873127,
            1.4940621756311803,
            0.03694410376614173,
            6.728549997827893,
            6.911151465673739,
            6.694415141752299,
            6.349678942286682,
            2.7645283935594986,
            0.46079265848178746,
            0.51826935741091,
            6.915297296223086,
            1.817024894002964
           ]
          },
          {
           "name": "pareto-ish",
           "type": "scatter3d",
           "x": [
            9.196227973487561,
            8.599624691401939,
            7.554935235370545,
            6.81541844603797,
            4.533330662181171,
            4.301625713847673,
            4.220754459010385,
            3.7522644895974606,
            3.477417321572958,
            3.2016532566805473,
            2.1962236775542685,
            2.1570506668428604,
            0.47562868592402335
           ],
           "y": [
            0.08289372870921259,
            1.3257708655322125,
            0.32192845619985583,
            2.841776305584818,
            6.023129299002695,
            2.0088825008593743,
            1.8940032221219165,
            5.418401033601961,
            2.35776294472259,
            6.354340022178383,
            2.9317772131818844,
            4.030939822007416,
            6.541486299713317
           ],
           "z": [
            0.0736510078221581,
            0.46079265848178746,
            1.3511700219364273,
            2.7645283935594986,
            2.4410084433391384,
            3.267182273602211,
            6.694415141752299,
            6.349678942286682,
            6.728549997827893,
            0.23598974769576486,
            6.915297296223086,
            6.911151465673739,
            1.817024894002964
           ]
          }
         ]
        },
        {
         "data": [
          {
           "marker": {
            "color": "blue",
            "size": 10
           },
           "mode": "markers",
           "name": "observed objectives",
           "type": "scatter3d",
           "x": [
            4.533330662181171,
            2.4151583196525395,
            2.1283255170892517,
            1.4815800626711841,
            9.196227973487561,
            4.301625713847673,
            7.554935235370545,
            3.2016532566805473,
            2.669605486548057,
            3.290226454059422,
            0.23062815717408705,
            2.6668070079912902,
            3.477417321572958,
            2.1570506668428604,
            4.220754459010385,
            3.7522644895974606,
            6.81541844603797,
            8.599624691401939,
            0.622673432467017,
            2.1962236775542685,
            0.47562868592402335,
            5.975238918598476
           ],
           "y": [
            6.023129299002695,
            0.7671039178360047,
            1.5607918967456855,
            1.2445939474149117,
            0.08289372870921259,
            2.0088825008593743,
            0.32192845619985583,
            6.354340022178383,
            4.02360950987,
            1.4550368992431406,
            3.1432018210843973,
            0.01859628617041176,
            2.35776294472259,
            4.030939822007416,
            1.8940032221219165,
            5.418401033601961,
            2.841776305584818,
            1.3257708655322125,
            0.2778062499877374,
            2.9317772131818844,
            6.541486299713317,
            2.3825939650012837
           ],
           "z": [
            2.4410084433391384,
            0.5541846302305486,
            0.002048308879315178,
            2.8933867142398544,
            0.0736510078221581,
            3.267182273602211,
            1.3511700219364273,
            0.23598974769576486,
            4.229708860198898,
            0.8663738910873127,
            1.4940621756311803,
            0.03694410376614173,
            6.728549997827893,
            6.911151465673739,
            6.694415141752299,
            6.349678942286682,
            2.7645283935594986,
            0.46079265848178746,
            0.51826935741091,
            6.915297296223086,
            1.817024894002964,
            2.1449031543310646
           ]
          },
          {
           "name": "pareto-ish",
           "type": "scatter3d",
           "x": [
            9.196227973487561,
            8.599624691401939,
            7.554935235370545,
            6.81541844603797,
            4.533330662181171,
            4.301625713847673,
            4.220754459010385,
            3.7522644895974606,
            3.477417321572958,
            3.2016532566805473,
            2.1962236775542685,
            2.1570506668428604,
            0.47562868592402335
           ],
           "y": [
            0.08289372870921259,
            1.3257708655322125,
            0.32192845619985583,
            2.841776305584818,
            6.023129299002695,
            2.0088825008593743,
            1.8940032221219165,
            5.418401033601961,
            2.35776294472259,
            6.354340022178383,
            2.9317772131818844,
            4.030939822007416,
            6.541486299713317
           ],
           "z": [
            0.0736510078221581,
            0.46079265848178746,
            1.3511700219364273,
            2.7645283935594986,
            2.4410084433391384,
            3.267182273602211,
            6.694415141752299,
            6.349678942286682,
            6.728549997827893,
            0.23598974769576486,
            6.915297296223086,
            6.911151465673739,
            1.817024894002964
           ]
          }
         ]
        },
        {
         "data": [
          {
           "marker": {
            "color": "blue",
            "size": 10
           },
           "mode": "markers",
           "name": "observed objectives",
           "type": "scatter3d",
           "x": [
            4.533330662181171,
            2.4151583196525395,
            2.1283255170892517,
            1.4815800626711841,
            9.196227973487561,
            4.301625713847673,
            7.554935235370545,
            3.2016532566805473,
            2.669605486548057,
            3.290226454059422,
            0.23062815717408705,
            2.6668070079912902,
            3.477417321572958,
            2.1570506668428604,
            4.220754459010385,
            3.7522644895974606,
            6.81541844603797,
            8.599624691401939,
            0.622673432467017,
            2.1962236775542685,
            0.47562868592402335,
            5.975238918598476,
            0.16693252839402903
           ],
           "y": [
            6.023129299002695,
            0.7671039178360047,
            1.5607918967456855,
            1.2445939474149117,
            0.08289372870921259,
            2.0088825008593743,
            0.32192845619985583,
            6.354340022178383,
            4.02360950987,
            1.4550368992431406,
            3.1432018210843973,
            0.01859628617041176,
            2.35776294472259,
            4.030939822007416,
            1.8940032221219165,
            5.418401033601961,
            2.841776305584818,
            1.3257708655322125,
            0.2778062499877374,
            2.9317772131818844,
            6.541486299713317,
            2.3825939650012837,
            1.8236198181456764
           ],
           "z": [
            2.4410084433391384,
            0.5541846302305486,
            0.002048308879315178,
            2.8933867142398544,
            0.0736510078221581,
            3.267182273602211,
            1.3511700219364273,
            0.23598974769576486,
            4.229708860198898,
            0.8663738910873127,
            1.4940621756311803,
            0.03694410376614173,
            6.728549997827893,
            6.911151465673739,
            6.694415141752299,
            6.349678942286682,
            2.7645283935594986,
            0.46079265848178746,
            0.51826935741091,
            6.915297296223086,
            1.817024894002964,
            2.1449031543310646,
            2.4375961439955227
           ]
          },
          {
           "name": "pareto-ish",
           "type": "scatter3d",
           "x": [
            9.196227973487561,
            8.599624691401939,
            7.554935235370545,
            6.81541844603797,
            4.533330662181171,
            4.301625713847673,
            4.220754459010385,
            3.7522644895974606,
            3.477417321572958,
            3.2016532566805473,
            2.1962236775542685,
            2.1570506668428604,
            0.47562868592402335
           ],
           "y": [
            0.08289372870921259,
            1.3257708655322125,
            0.32192845619985583,
            2.841776305584818,
            6.023129299002695,
            2.0088825008593743,
            1.8940032221219165,
            5.418401033601961,
            2.35776294472259,
            6.354340022178383,
            2.9317772131818844,
            4.030939822007416,
            6.541486299713317
           ],
           "z": [
            0.0736510078221581,
            0.46079265848178746,
            1.3511700219364273,
            2.7645283935594986,
            2.4410084433391384,
            3.267182273602211,
            6.694415141752299,
            6.349678942286682,
            6.728549997827893,
            0.23598974769576486,
            6.915297296223086,
            6.911151465673739,
            1.817024894002964
           ]
          }
         ]
        },
        {
         "data": [
          {
           "marker": {
            "color": "blue",
            "size": 10
           },
           "mode": "markers",
           "name": "observed objectives",
           "type": "scatter3d",
           "x": [
            4.533330662181171,
            2.4151583196525395,
            2.1283255170892517,
            1.4815800626711841,
            9.196227973487561,
            4.301625713847673,
            7.554935235370545,
            3.2016532566805473,
            2.669605486548057,
            3.290226454059422,
            0.23062815717408705,
            2.6668070079912902,
            3.477417321572958,
            2.1570506668428604,
            4.220754459010385,
            3.7522644895974606,
            6.81541844603797,
            8.599624691401939,
            0.622673432467017,
            2.1962236775542685,
            0.47562868592402335,
            5.975238918598476,
            0.16693252839402903,
            0.3010093942557814
           ],
           "y": [
            6.023129299002695,
            0.7671039178360047,
            1.5607918967456855,
            1.2445939474149117,
            0.08289372870921259,
            2.0088825008593743,
            0.32192845619985583,
            6.354340022178383,
            4.02360950987,
            1.4550368992431406,
            3.1432018210843973,
            0.01859628617041176,
            2.35776294472259,
            4.030939822007416,
            1.8940032221219165,
            5.418401033601961,
            2.841776305584818,
            1.3257708655322125,
            0.2778062499877374,
            2.9317772131818844,
            6.541486299713317,
            2.3825939650012837,
            1.8236198181456764,
            8.28230528118895
           ],
           "z": [
            2.4410084433391384,
            0.5541846302305486,
            0.002048308879315178,
            2.8933867142398544,
            0.0736510078221581,
            3.267182273602211,
            1.3511700219364273,
            0.23598974769576486,
            4.229708860198898,
            0.8663738910873127,
            1.4940621756311803,
            0.03694410376614173,
            6.728549997827893,
            6.911151465673739,
            6.694415141752299,
            6.349678942286682,
            2.7645283935594986,
            0.46079265848178746,
            0.51826935741091,
            6.915297296223086,
            1.817024894002964,
            2.1449031543310646,
            2.4375961439955227,
            5.399726859580242
           ]
          },
          {
           "name": "pareto-ish",
           "type": "scatter3d",
           "x": [
            9.196227973487561,
            8.599624691401939,
            7.554935235370545,
            6.81541844603797,
            4.533330662181171,
            4.301625713847673,
            4.220754459010385,
            3.7522644895974606,
            3.477417321572958,
            3.2016532566805473,
            2.1962236775542685,
            2.1570506668428604,
            0.47562868592402335,
            0.3010093942557814
           ],
           "y": [
            0.08289372870921259,
            1.3257708655322125,
            0.32192845619985583,
            2.841776305584818,
            6.023129299002695,
            2.0088825008593743,
            1.8940032221219165,
            5.418401033601961,
            2.35776294472259,
            6.354340022178383,
            2.9317772131818844,
            4.030939822007416,
            6.541486299713317,
            8.28230528118895
           ],
           "z": [
            0.0736510078221581,
            0.46079265848178746,
            1.3511700219364273,
            2.7645283935594986,
            2.4410084433391384,
            3.267182273602211,
            6.694415141752299,
            6.349678942286682,
            6.728549997827893,
            0.23598974769576486,
            6.915297296223086,
            6.911151465673739,
            1.817024894002964,
            5.399726859580242
           ]
          }
         ]
        },
        {
         "data": [
          {
           "marker": {
            "color": "blue",
            "size": 10
           },
           "mode": "markers",
           "name": "observed objectives",
           "type": "scatter3d",
           "x": [
            4.533330662181171,
            2.4151583196525395,
            2.1283255170892517,
            1.4815800626711841,
            9.196227973487561,
            4.301625713847673,
            7.554935235370545,
            3.2016532566805473,
            2.669605486548057,
            3.290226454059422,
            0.23062815717408705,
            2.6668070079912902,
            3.477417321572958,
            2.1570506668428604,
            4.220754459010385,
            3.7522644895974606,
            6.81541844603797,
            8.599624691401939,
            0.622673432467017,
            2.1962236775542685,
            0.47562868592402335,
            5.975238918598476,
            0.16693252839402903,
            0.3010093942557814,
            1.479890373082284
           ],
           "y": [
            6.023129299002695,
            0.7671039178360047,
            1.5607918967456855,
            1.2445939474149117,
            0.08289372870921259,
            2.0088825008593743,
            0.32192845619985583,
            6.354340022178383,
            4.02360950987,
            1.4550368992431406,
            3.1432018210843973,
            0.01859628617041176,
            2.35776294472259,
            4.030939822007416,
            1.8940032221219165,
            5.418401033601961,
            2.841776305584818,
            1.3257708655322125,
            0.2778062499877374,
            2.9317772131818844,
            6.541486299713317,
            2.3825939650012837,
            1.8236198181456764,
            8.28230528118895,
            6.9881516963852945
           ],
           "z": [
            2.4410084433391384,
            0.5541846302305486,
            0.002048308879315178,
            2.8933867142398544,
            0.0736510078221581,
            3.267182273602211,
            1.3511700219364273,
            0.23598974769576486,
            4.229708860198898,
            0.8663738910873127,
            1.4940621756311803,
            0.03694410376614173,
            6.728549997827893,
            6.911151465673739,
            6.694415141752299,
            6.349678942286682,
            2.7645283935594986,
            0.46079265848178746,
            0.51826935741091,
            6.915297296223086,
            1.817024894002964,
            2.1449031543310646,
            2.4375961439955227,
            5.399726859580242,
            2.5026337132831546
           ]
          },
          {
           "name": "pareto-ish",
           "type": "scatter3d",
           "x": [
            9.196227973487561,
            8.599624691401939,
            7.554935235370545,
            6.81541844603797,
            4.533330662181171,
            4.301625713847673,
            4.220754459010385,
            3.7522644895974606,
            3.477417321572958,
            3.2016532566805473,
            2.1962236775542685,
            2.1570506668428604,
            1.479890373082284,
            0.3010093942557814
           ],
           "y": [
            0.08289372870921259,
            1.3257708655322125,
            0.32192845619985583,
            2.841776305584818,
            6.023129299002695,
            2.0088825008593743,
            1.8940032221219165,
            5.418401033601961,
            2.35776294472259,
            6.354340022178383,
            2.9317772131818844,
            4.030939822007416,
            6.9881516963852945,
            8.28230528118895
           ],
           "z": [
            0.0736510078221581,
            0.46079265848178746,
            1.3511700219364273,
            2.7645283935594986,
            2.4410084433391384,
            3.267182273602211,
            6.694415141752299,
            6.349678942286682,
            6.728549997827893,
            0.23598974769576486,
            6.915297296223086,
            6.911151465673739,
            2.5026337132831546,
            5.399726859580242
           ]
          }
         ]
        },
        {
         "data": [
          {
           "marker": {
            "color": "blue",
            "size": 10
           },
           "mode": "markers",
           "name": "observed objectives",
           "type": "scatter3d",
           "x": [
            4.533330662181171,
            2.4151583196525395,
            2.1283255170892517,
            1.4815800626711841,
            9.196227973487561,
            4.301625713847673,
            7.554935235370545,
            3.2016532566805473,
            2.669605486548057,
            3.290226454059422,
            0.23062815717408705,
            2.6668070079912902,
            3.477417321572958,
            2.1570506668428604,
            4.220754459010385,
            3.7522644895974606,
            6.81541844603797,
            8.599624691401939,
            0.622673432467017,
            2.1962236775542685,
            0.47562868592402335,
            5.975238918598476,
            0.16693252839402903,
            0.3010093942557814,
            1.479890373082284,
            0.9411187080604859
           ],
           "y": [
            6.023129299002695,
            0.7671039178360047,
            1.5607918967456855,
            1.2445939474149117,
            0.08289372870921259,
            2.0088825008593743,
            0.32192845619985583,
            6.354340022178383,
            4.02360950987,
            1.4550368992431406,
            3.1432018210843973,
            0.01859628617041176,
            2.35776294472259,
            4.030939822007416,
            1.8940032221219165,
            5.418401033601961,
            2.841776305584818,
            1.3257708655322125,
            0.2778062499877374,
            2.9317772131818844,
            6.541486299713317,
            2.3825939650012837,
            1.8236198181456764,
            8.28230528118895,
            6.9881516963852945,
            0.07202157111747888
           ],
           "z": [
            2.4410084433391384,
            0.5541846302305486,
            0.002048308879315178,
            2.8933867142398544,
            0.0736510078221581,
            3.267182273602211,
            1.3511700219364273,
            0.23598974769576486,
            4.229708860198898,
            0.8663738910873127,
            1.4940621756311803,
            0.03694410376614173,
            6.728549997827893,
            6.911151465673739,
            6.694415141752299,
            6.349678942286682,
            2.7645283935594986,
            0.46079265848178746,
            0.51826935741091,
            6.915297296223086,
            1.817024894002964,
            2.1449031543310646,
            2.4375961439955227,
            5.399726859580242,
            2.5026337132831546,
            0.6274897434812922
           ]
          },
          {
           "name": "pareto-ish",
           "type": "scatter3d",
           "x": [
            9.196227973487561,
            8.599624691401939,
            7.554935235370545,
            6.81541844603797,
            4.533330662181171,
            4.301625713847673,
            4.220754459010385,
            3.7522644895974606,
            3.477417321572958,
            3.2016532566805473,
            2.1962236775542685,
            2.1570506668428604,
            1.479890373082284,
            0.3010093942557814
           ],
           "y": [
            0.08289372870921259,
            1.3257708655322125,
            0.32192845619985583,
            2.841776305584818,
            6.023129299002695,
            2.0088825008593743,
            1.8940032221219165,
            5.418401033601961,
            2.35776294472259,
            6.354340022178383,
            2.9317772131818844,
            4.030939822007416,
            6.9881516963852945,
            8.28230528118895
           ],
           "z": [
            0.0736510078221581,
            0.46079265848178746,
            1.3511700219364273,
            2.7645283935594986,
            2.4410084433391384,
            3.267182273602211,
            6.694415141752299,
            6.349678942286682,
            6.728549997827893,
            0.23598974769576486,
            6.915297296223086,
            6.911151465673739,
            2.5026337132831546,
            5.399726859580242
           ]
          }
         ]
        },
        {
         "data": [
          {
           "marker": {
            "color": "blue",
            "size": 10
           },
           "mode": "markers",
           "name": "observed objectives",
           "type": "scatter3d",
           "x": [
            4.533330662181171,
            2.4151583196525395,
            2.1283255170892517,
            1.4815800626711841,
            9.196227973487561,
            4.301625713847673,
            7.554935235370545,
            3.2016532566805473,
            2.669605486548057,
            3.290226454059422,
            0.23062815717408705,
            2.6668070079912902,
            3.477417321572958,
            2.1570506668428604,
            4.220754459010385,
            3.7522644895974606,
            6.81541844603797,
            8.599624691401939,
            0.622673432467017,
            2.1962236775542685,
            0.47562868592402335,
            5.975238918598476,
            0.16693252839402903,
            0.3010093942557814,
            1.479890373082284,
            0.9411187080604859,
            0.5911236177696302
           ],
           "y": [
            6.023129299002695,
            0.7671039178360047,
            1.5607918967456855,
            1.2445939474149117,
            0.08289372870921259,
            2.0088825008593743,
            0.32192845619985583,
            6.354340022178383,
            4.02360950987,
            1.4550368992431406,
            3.1432018210843973,
            0.01859628617041176,
            2.35776294472259,
            4.030939822007416,
            1.8940032221219165,
            5.418401033601961,
            2.841776305584818,
            1.3257708655322125,
            0.2778062499877374,
            2.9317772131818844,
            6.541486299713317,
            2.3825939650012837,
            1.8236198181456764,
            8.28230528118895,
            6.9881516963852945,
            0.07202157111747888,
            2.7157293114400294
           ],
           "z": [
            2.4410084433391384,
            0.5541846302305486,
            0.002048308879315178,
            2.8933867142398544,
            0.0736510078221581,
            3.267182273602211,
            1.3511700219364273,
            0.23598974769576486,
            4.229708860198898,
            0.8663738910873127,
            1.4940621756311803,
            0.03694410376614173,
            6.728549997827893,
            6.911151465673739,
            6.694415141752299,
            6.349678942286682,
            2.7645283935594986,
            0.46079265848178746,
            0.51826935741091,
            6.915297296223086,
            1.817024894002964,
            2.1449031543310646,
            2.4375961439955227,
            5.399726859580242,
            2.5026337132831546,
            0.6274897434812922,
            1.225415016933717
           ]
          },
          {
           "name": "pareto-ish",
           "type": "scatter3d",
           "x": [
            9.196227973487561,
            8.599624691401939,
            7.554935235370545,
            6.81541844603797,
            4.533330662181171,
            4.301625713847673,
            4.220754459010385,
            3.7522644895974606,
            3.477417321572958,
            3.2016532566805473,
            2.1962236775542685,
            2.1570506668428604,
            1.479890373082284,
            0.3010093942557814
           ],
           "y": [
            0.08289372870921259,
            1.3257708655322125,
            0.32192845619985583,
            2.841776305584818,
            6.023129299002695,
            2.0088825008593743,
            1.8940032221219165,
            5.418401033601961,
            2.35776294472259,
            6.354340022178383,
            2.9317772131818844,
            4.030939822007416,
            6.9881516963852945,
            8.28230528118895
           ],
           "z": [
            0.0736510078221581,
            0.46079265848178746,
            1.3511700219364273,
            2.7645283935594986,
            2.4410084433391384,
            3.267182273602211,
            6.694415141752299,
            6.349678942286682,
            6.728549997827893,
            0.23598974769576486,
            6.915297296223086,
            6.911151465673739,
            2.5026337132831546,
            5.399726859580242
           ]
          }
         ]
        },
        {
         "data": [
          {
           "marker": {
            "color": "blue",
            "size": 10
           },
           "mode": "markers",
           "name": "observed objectives",
           "type": "scatter3d",
           "x": [
            4.533330662181171,
            2.4151583196525395,
            2.1283255170892517,
            1.4815800626711841,
            9.196227973487561,
            4.301625713847673,
            7.554935235370545,
            3.2016532566805473,
            2.669605486548057,
            3.290226454059422,
            0.23062815717408705,
            2.6668070079912902,
            3.477417321572958,
            2.1570506668428604,
            4.220754459010385,
            3.7522644895974606,
            6.81541844603797,
            8.599624691401939,
            0.622673432467017,
            2.1962236775542685,
            0.47562868592402335,
            5.975238918598476,
            0.16693252839402903,
            0.3010093942557814,
            1.479890373082284,
            0.9411187080604859,
            0.5911236177696302,
            2.1703750680962006
           ],
           "y": [
            6.023129299002695,
            0.7671039178360047,
            1.5607918967456855,
            1.2445939474149117,
            0.08289372870921259,
            2.0088825008593743,
            0.32192845619985583,
            6.354340022178383,
            4.02360950987,
            1.4550368992431406,
            3.1432018210843973,
            0.01859628617041176,
            2.35776294472259,
            4.030939822007416,
            1.8940032221219165,
            5.418401033601961,
            2.841776305584818,
            1.3257708655322125,
            0.2778062499877374,
            2.9317772131818844,
            6.541486299713317,
            2.3825939650012837,
            1.8236198181456764,
            8.28230528118895,
            6.9881516963852945,
            0.07202157111747888,
            2.7157293114400294,
            7.765957579808052
           ],
           "z": [
            2.4410084433391384,
            0.5541846302305486,
            0.002048308879315178,
            2.8933867142398544,
            0.0736510078221581,
            3.267182273602211,
            1.3511700219364273,
            0.23598974769576486,
            4.229708860198898,
            0.8663738910873127,
            1.4940621756311803,
            0.03694410376614173,
            6.728549997827893,
            6.911151465673739,
            6.694415141752299,
            6.349678942286682,
            2.7645283935594986,
            0.46079265848178746,
            0.51826935741091,
            6.915297296223086,
            1.817024894002964,
            2.1449031543310646,
            2.4375961439955227,
            5.399726859580242,
            2.5026337132831546,
            0.6274897434812922,
            1.225415016933717,
            2.6594195140127512
           ]
          },
          {
           "name": "pareto-ish",
           "type": "scatter3d",
           "x": [
            9.196227973487561,
            8.599624691401939,
            7.554935235370545,
            6.81541844603797,
            4.533330662181171,
            4.301625713847673,
            4.220754459010385,
            3.7522644895974606,
            3.477417321572958,
            3.2016532566805473,
            2.1962236775542685,
            2.1703750680962006,
            2.1570506668428604,
            0.3010093942557814
           ],
           "y": [
            0.08289372870921259,
            1.3257708655322125,
            0.32192845619985583,
            2.841776305584818,
            6.023129299002695,
            2.0088825008593743,
            1.8940032221219165,
            5.418401033601961,
            2.35776294472259,
            6.354340022178383,
            2.9317772131818844,
            7.765957579808052,
            4.030939822007416,
            8.28230528118895
           ],
           "z": [
            0.0736510078221581,
            0.46079265848178746,
            1.3511700219364273,
            2.7645283935594986,
            2.4410084433391384,
            3.267182273602211,
            6.694415141752299,
            6.349678942286682,
            6.728549997827893,
            0.23598974769576486,
            6.915297296223086,
            2.6594195140127512,
            6.911151465673739,
            5.399726859580242
           ]
          }
         ]
        },
        {
         "data": [
          {
           "marker": {
            "color": "blue",
            "size": 10
           },
           "mode": "markers",
           "name": "observed objectives",
           "type": "scatter3d",
           "x": [
            4.533330662181171,
            2.4151583196525395,
            2.1283255170892517,
            1.4815800626711841,
            9.196227973487561,
            4.301625713847673,
            7.554935235370545,
            3.2016532566805473,
            2.669605486548057,
            3.290226454059422,
            0.23062815717408705,
            2.6668070079912902,
            3.477417321572958,
            2.1570506668428604,
            4.220754459010385,
            3.7522644895974606,
            6.81541844603797,
            8.599624691401939,
            0.622673432467017,
            2.1962236775542685,
            0.47562868592402335,
            5.975238918598476,
            0.16693252839402903,
            0.3010093942557814,
            1.479890373082284,
            0.9411187080604859,
            0.5911236177696302,
            2.1703750680962006,
            1.4869815809793518
           ],
           "y": [
            6.023129299002695,
            0.7671039178360047,
            1.5607918967456855,
            1.2445939474149117,
            0.08289372870921259,
            2.0088825008593743,
            0.32192845619985583,
            6.354340022178383,
            4.02360950987,
            1.4550368992431406,
            3.1432018210843973,
            0.01859628617041176,
            2.35776294472259,
            4.030939822007416,
            1.8940032221219165,
            5.418401033601961,
            2.841776305584818,
            1.3257708655322125,
            0.2778062499877374,
            2.9317772131818844,
            6.541486299713317,
            2.3825939650012837,
            1.8236198181456764,
            8.28230528118895,
            6.9881516963852945,
            0.07202157111747888,
            2.7157293114400294,
            7.765957579808052,
            4.407139135868046
           ],
           "z": [
            2.4410084433391384,
            0.5541846302305486,
            0.002048308879315178,
            2.8933867142398544,
            0.0736510078221581,
            3.267182273602211,
            1.3511700219364273,
            0.23598974769576486,
            4.229708860198898,
            0.8663738910873127,
            1.4940621756311803,
            0.03694410376614173,
            6.728549997827893,
            6.911151465673739,
            6.694415141752299,
            6.349678942286682,
            2.7645283935594986,
            0.46079265848178746,
            0.51826935741091,
            6.915297296223086,
            1.817024894002964,
            2.1449031543310646,
            2.4375961439955227,
            5.399726859580242,
            2.5026337132831546,
            0.6274897434812922,
            1.225415016933717,
            2.6594195140127512,
            2.3827768360554407
           ]
          },
          {
           "name": "pareto-ish",
           "type": "scatter3d",
           "x": [
            9.196227973487561,
            8.599624691401939,
            7.554935235370545,
            6.81541844603797,
            4.533330662181171,
            4.301625713847673,
            4.220754459010385,
            3.7522644895974606,
            3.477417321572958,
            3.2016532566805473,
            2.1962236775542685,
            2.1703750680962006,
            2.1570506668428604,
            0.3010093942557814
           ],
           "y": [
            0.08289372870921259,
            1.3257708655322125,
            0.32192845619985583,
            2.841776305584818,
            6.023129299002695,
            2.0088825008593743,
            1.8940032221219165,
            5.418401033601961,
            2.35776294472259,
            6.354340022178383,
            2.9317772131818844,
            7.765957579808052,
            4.030939822007416,
            8.28230528118895
           ],
           "z": [
            0.0736510078221581,
            0.46079265848178746,
            1.3511700219364273,
            2.7645283935594986,
            2.4410084433391384,
            3.267182273602211,
            6.694415141752299,
            6.349678942286682,
            6.728549997827893,
            0.23598974769576486,
            6.915297296223086,
            2.6594195140127512,
            6.911151465673739,
            5.399726859580242
           ]
          }
         ]
        },
        {
         "data": [
          {
           "marker": {
            "color": "blue",
            "size": 10
           },
           "mode": "markers",
           "name": "observed objectives",
           "type": "scatter3d",
           "x": [
            4.533330662181171,
            2.4151583196525395,
            2.1283255170892517,
            1.4815800626711841,
            9.196227973487561,
            4.301625713847673,
            7.554935235370545,
            3.2016532566805473,
            2.669605486548057,
            3.290226454059422,
            0.23062815717408705,
            2.6668070079912902,
            3.477417321572958,
            2.1570506668428604,
            4.220754459010385,
            3.7522644895974606,
            6.81541844603797,
            8.599624691401939,
            0.622673432467017,
            2.1962236775542685,
            0.47562868592402335,
            5.975238918598476,
            0.16693252839402903,
            0.3010093942557814,
            1.479890373082284,
            0.9411187080604859,
            0.5911236177696302,
            2.1703750680962006,
            1.4869815809793518,
            0.7391131187837279
           ],
           "y": [
            6.023129299002695,
            0.7671039178360047,
            1.5607918967456855,
            1.2445939474149117,
            0.08289372870921259,
            2.0088825008593743,
            0.32192845619985583,
            6.354340022178383,
            4.02360950987,
            1.4550368992431406,
            3.1432018210843973,
            0.01859628617041176,
            2.35776294472259,
            4.030939822007416,
            1.8940032221219165,
            5.418401033601961,
            2.841776305584818,
            1.3257708655322125,
            0.2778062499877374,
            2.9317772131818844,
            6.541486299713317,
            2.3825939650012837,
            1.8236198181456764,
            8.28230528118895,
            6.9881516963852945,
            0.07202157111747888,
            2.7157293114400294,
            7.765957579808052,
            4.407139135868046,
            7.599499055787875
           ],
           "z": [
            2.4410084433391384,
            0.5541846302305486,
            0.002048308879315178,
            2.8933867142398544,
            0.0736510078221581,
            3.267182273602211,
            1.3511700219364273,
            0.23598974769576486,
            4.229708860198898,
            0.8663738910873127,
            1.4940621756311803,
            0.03694410376614173,
            6.728549997827893,
            6.911151465673739,
            6.694415141752299,
            6.349678942286682,
            2.7645283935594986,
            0.46079265848178746,
            0.51826935741091,
            6.915297296223086,
            1.817024894002964,
            2.1449031543310646,
            2.4375961439955227,
            5.399726859580242,
            2.5026337132831546,
            0.6274897434812922,
            1.225415016933717,
            2.6594195140127512,
            2.3827768360554407,
            1.026657935099257
           ]
          },
          {
           "name": "pareto-ish",
           "type": "scatter3d",
           "x": [
            9.196227973487561,
            8.599624691401939,
            7.554935235370545,
            6.81541844603797,
            4.533330662181171,
            4.301625713847673,
            4.220754459010385,
            3.7522644895974606,
            3.477417321572958,
            3.2016532566805473,
            2.1962236775542685,
            2.1703750680962006,
            2.1570506668428604,
            0.3010093942557814
           ],
           "y": [
            0.08289372870921259,
            1.3257708655322125,
            0.32192845619985583,
            2.841776305584818,
            6.023129299002695,
            2.0088825008593743,
            1.8940032221219165,
            5.418401033601961,
            2.35776294472259,
            6.354340022178383,
            2.9317772131818844,
            7.765957579808052,
            4.030939822007416,
            8.28230528118895
           ],
           "z": [
            0.0736510078221581,
            0.46079265848178746,
            1.3511700219364273,
            2.7645283935594986,
            2.4410084433391384,
            3.267182273602211,
            6.694415141752299,
            6.349678942286682,
            6.728549997827893,
            0.23598974769576486,
            6.915297296223086,
            2.6594195140127512,
            6.911151465673739,
            5.399726859580242
           ]
          }
         ]
        },
        {
         "data": [
          {
           "marker": {
            "color": "blue",
            "size": 10
           },
           "mode": "markers",
           "name": "observed objectives",
           "type": "scatter3d",
           "x": [
            4.533330662181171,
            2.4151583196525395,
            2.1283255170892517,
            1.4815800626711841,
            9.196227973487561,
            4.301625713847673,
            7.554935235370545,
            3.2016532566805473,
            2.669605486548057,
            3.290226454059422,
            0.23062815717408705,
            2.6668070079912902,
            3.477417321572958,
            2.1570506668428604,
            4.220754459010385,
            3.7522644895974606,
            6.81541844603797,
            8.599624691401939,
            0.622673432467017,
            2.1962236775542685,
            0.47562868592402335,
            5.975238918598476,
            0.16693252839402903,
            0.3010093942557814,
            1.479890373082284,
            0.9411187080604859,
            0.5911236177696302,
            2.1703750680962006,
            1.4869815809793518,
            0.7391131187837279,
            3.956091427763704
           ],
           "y": [
            6.023129299002695,
            0.7671039178360047,
            1.5607918967456855,
            1.2445939474149117,
            0.08289372870921259,
            2.0088825008593743,
            0.32192845619985583,
            6.354340022178383,
            4.02360950987,
            1.4550368992431406,
            3.1432018210843973,
            0.01859628617041176,
            2.35776294472259,
            4.030939822007416,
            1.8940032221219165,
            5.418401033601961,
            2.841776305584818,
            1.3257708655322125,
            0.2778062499877374,
            2.9317772131818844,
            6.541486299713317,
            2.3825939650012837,
            1.8236198181456764,
            8.28230528118895,
            6.9881516963852945,
            0.07202157111747888,
            2.7157293114400294,
            7.765957579808052,
            4.407139135868046,
            7.599499055787875,
            6.52665548461633
           ],
           "z": [
            2.4410084433391384,
            0.5541846302305486,
            0.002048308879315178,
            2.8933867142398544,
            0.0736510078221581,
            3.267182273602211,
            1.3511700219364273,
            0.23598974769576486,
            4.229708860198898,
            0.8663738910873127,
            1.4940621756311803,
            0.03694410376614173,
            6.728549997827893,
            6.911151465673739,
            6.694415141752299,
            6.349678942286682,
            2.7645283935594986,
            0.46079265848178746,
            0.51826935741091,
            6.915297296223086,
            1.817024894002964,
            2.1449031543310646,
            2.4375961439955227,
            5.399726859580242,
            2.5026337132831546,
            0.6274897434812922,
            1.225415016933717,
            2.6594195140127512,
            2.3827768360554407,
            1.026657935099257,
            1.3995893683183054
           ]
          },
          {
           "name": "pareto-ish",
           "type": "scatter3d",
           "x": [
            9.196227973487561,
            8.599624691401939,
            7.554935235370545,
            6.81541844603797,
            4.533330662181171,
            4.301625713847673,
            4.220754459010385,
            3.956091427763704,
            3.7522644895974606,
            3.477417321572958,
            2.1962236775542685,
            2.1703750680962006,
            2.1570506668428604,
            0.3010093942557814
           ],
           "y": [
            0.08289372870921259,
            1.3257708655322125,
            0.32192845619985583,
            2.841776305584818,
            6.023129299002695,
            2.0088825008593743,
            1.8940032221219165,
            6.52665548461633,
            5.418401033601961,
            2.35776294472259,
            2.9317772131818844,
            7.765957579808052,
            4.030939822007416,
            8.28230528118895
           ],
           "z": [
            0.0736510078221581,
            0.46079265848178746,
            1.3511700219364273,
            2.7645283935594986,
            2.4410084433391384,
            3.267182273602211,
            6.694415141752299,
            1.3995893683183054,
            6.349678942286682,
            6.728549997827893,
            6.915297296223086,
            2.6594195140127512,
            6.911151465673739,
            5.399726859580242
           ]
          }
         ]
        },
        {
         "data": [
          {
           "marker": {
            "color": "blue",
            "size": 10
           },
           "mode": "markers",
           "name": "observed objectives",
           "type": "scatter3d",
           "x": [
            4.533330662181171,
            2.4151583196525395,
            2.1283255170892517,
            1.4815800626711841,
            9.196227973487561,
            4.301625713847673,
            7.554935235370545,
            3.2016532566805473,
            2.669605486548057,
            3.290226454059422,
            0.23062815717408705,
            2.6668070079912902,
            3.477417321572958,
            2.1570506668428604,
            4.220754459010385,
            3.7522644895974606,
            6.81541844603797,
            8.599624691401939,
            0.622673432467017,
            2.1962236775542685,
            0.47562868592402335,
            5.975238918598476,
            0.16693252839402903,
            0.3010093942557814,
            1.479890373082284,
            0.9411187080604859,
            0.5911236177696302,
            2.1703750680962006,
            1.4869815809793518,
            0.7391131187837279,
            3.956091427763704,
            5.88185064000466
           ],
           "y": [
            6.023129299002695,
            0.7671039178360047,
            1.5607918967456855,
            1.2445939474149117,
            0.08289372870921259,
            2.0088825008593743,
            0.32192845619985583,
            6.354340022178383,
            4.02360950987,
            1.4550368992431406,
            3.1432018210843973,
            0.01859628617041176,
            2.35776294472259,
            4.030939822007416,
            1.8940032221219165,
            5.418401033601961,
            2.841776305584818,
            1.3257708655322125,
            0.2778062499877374,
            2.9317772131818844,
            6.541486299713317,
            2.3825939650012837,
            1.8236198181456764,
            8.28230528118895,
            6.9881516963852945,
            0.07202157111747888,
            2.7157293114400294,
            7.765957579808052,
            4.407139135868046,
            7.599499055787875,
            6.52665548461633,
            3.339924003935272
           ],
           "z": [
            2.4410084433391384,
            0.5541846302305486,
            0.002048308879315178,
            2.8933867142398544,
            0.0736510078221581,
            3.267182273602211,
            1.3511700219364273,
            0.23598974769576486,
            4.229708860198898,
            0.8663738910873127,
            1.4940621756311803,
            0.03694410376614173,
            6.728549997827893,
            6.911151465673739,
            6.694415141752299,
            6.349678942286682,
            2.7645283935594986,
            0.46079265848178746,
            0.51826935741091,
            6.915297296223086,
            1.817024894002964,
            2.1449031543310646,
            2.4375961439955227,
            5.399726859580242,
            2.5026337132831546,
            0.6274897434812922,
            1.225415016933717,
            2.6594195140127512,
            2.3827768360554407,
            1.026657935099257,
            1.3995893683183054,
            5.361679328383294
           ]
          },
          {
           "name": "pareto-ish",
           "type": "scatter3d",
           "x": [
            9.196227973487561,
            8.599624691401939,
            7.554935235370545,
            6.81541844603797,
            5.88185064000466,
            4.533330662181171,
            4.220754459010385,
            3.956091427763704,
            3.7522644895974606,
            3.477417321572958,
            2.1962236775542685,
            2.1703750680962006,
            2.1570506668428604,
            0.3010093942557814
           ],
           "y": [
            0.08289372870921259,
            1.3257708655322125,
            0.32192845619985583,
            2.841776305584818,
            3.339924003935272,
            6.023129299002695,
            1.8940032221219165,
            6.52665548461633,
            5.418401033601961,
            2.35776294472259,
            2.9317772131818844,
            7.765957579808052,
            4.030939822007416,
            8.28230528118895
           ],
           "z": [
            0.0736510078221581,
            0.46079265848178746,
            1.3511700219364273,
            2.7645283935594986,
            5.361679328383294,
            2.4410084433391384,
            6.694415141752299,
            1.3995893683183054,
            6.349678942286682,
            6.728549997827893,
            6.915297296223086,
            2.6594195140127512,
            6.911151465673739,
            5.399726859580242
           ]
          }
         ]
        },
        {
         "data": [
          {
           "marker": {
            "color": "blue",
            "size": 10
           },
           "mode": "markers",
           "name": "observed objectives",
           "type": "scatter3d",
           "x": [
            4.533330662181171,
            2.4151583196525395,
            2.1283255170892517,
            1.4815800626711841,
            9.196227973487561,
            4.301625713847673,
            7.554935235370545,
            3.2016532566805473,
            2.669605486548057,
            3.290226454059422,
            0.23062815717408705,
            2.6668070079912902,
            3.477417321572958,
            2.1570506668428604,
            4.220754459010385,
            3.7522644895974606,
            6.81541844603797,
            8.599624691401939,
            0.622673432467017,
            2.1962236775542685,
            0.47562868592402335,
            5.975238918598476,
            0.16693252839402903,
            0.3010093942557814,
            1.479890373082284,
            0.9411187080604859,
            0.5911236177696302,
            2.1703750680962006,
            1.4869815809793518,
            0.7391131187837279,
            3.956091427763704,
            5.88185064000466,
            2.1156055688314845
           ],
           "y": [
            6.023129299002695,
            0.7671039178360047,
            1.5607918967456855,
            1.2445939474149117,
            0.08289372870921259,
            2.0088825008593743,
            0.32192845619985583,
            6.354340022178383,
            4.02360950987,
            1.4550368992431406,
            3.1432018210843973,
            0.01859628617041176,
            2.35776294472259,
            4.030939822007416,
            1.8940032221219165,
            5.418401033601961,
            2.841776305584818,
            1.3257708655322125,
            0.2778062499877374,
            2.9317772131818844,
            6.541486299713317,
            2.3825939650012837,
            1.8236198181456764,
            8.28230528118895,
            6.9881516963852945,
            0.07202157111747888,
            2.7157293114400294,
            7.765957579808052,
            4.407139135868046,
            7.599499055787875,
            6.52665548461633,
            3.339924003935272,
            0.4629683941323652
           ],
           "z": [
            2.4410084433391384,
            0.5541846302305486,
            0.002048308879315178,
            2.8933867142398544,
            0.0736510078221581,
            3.267182273602211,
            1.3511700219364273,
            0.23598974769576486,
            4.229708860198898,
            0.8663738910873127,
            1.4940621756311803,
            0.03694410376614173,
            6.728549997827893,
            6.911151465673739,
            6.694415141752299,
            6.349678942286682,
            2.7645283935594986,
            0.46079265848178746,
            0.51826935741091,
            6.915297296223086,
            1.817024894002964,
            2.1449031543310646,
            2.4375961439955227,
            5.399726859580242,
            2.5026337132831546,
            0.6274897434812922,
            1.225415016933717,
            2.6594195140127512,
            2.3827768360554407,
            1.026657935099257,
            1.3995893683183054,
            5.361679328383294,
            1.2466942337609477
           ]
          },
          {
           "name": "pareto-ish",
           "type": "scatter3d",
           "x": [
            9.196227973487561,
            8.599624691401939,
            7.554935235370545,
            6.81541844603797,
            5.88185064000466,
            4.533330662181171,
            4.220754459010385,
            3.956091427763704,
            3.7522644895974606,
            3.477417321572958,
            2.1962236775542685,
            2.1703750680962006,
            2.1570506668428604,
            0.3010093942557814
           ],
           "y": [
            0.08289372870921259,
            1.3257708655322125,
            0.32192845619985583,
            2.841776305584818,
            3.339924003935272,
            6.023129299002695,
            1.8940032221219165,
            6.52665548461633,
            5.418401033601961,
            2.35776294472259,
            2.9317772131818844,
            7.765957579808052,
            4.030939822007416,
            8.28230528118895
           ],
           "z": [
            0.0736510078221581,
            0.46079265848178746,
            1.3511700219364273,
            2.7645283935594986,
            5.361679328383294,
            2.4410084433391384,
            6.694415141752299,
            1.3995893683183054,
            6.349678942286682,
            6.728549997827893,
            6.915297296223086,
            2.6594195140127512,
            6.911151465673739,
            5.399726859580242
           ]
          }
         ]
        },
        {
         "data": [
          {
           "marker": {
            "color": "blue",
            "size": 10
           },
           "mode": "markers",
           "name": "observed objectives",
           "type": "scatter3d",
           "x": [
            4.533330662181171,
            2.4151583196525395,
            2.1283255170892517,
            1.4815800626711841,
            9.196227973487561,
            4.301625713847673,
            7.554935235370545,
            3.2016532566805473,
            2.669605486548057,
            3.290226454059422,
            0.23062815717408705,
            2.6668070079912902,
            3.477417321572958,
            2.1570506668428604,
            4.220754459010385,
            3.7522644895974606,
            6.81541844603797,
            8.599624691401939,
            0.622673432467017,
            2.1962236775542685,
            0.47562868592402335,
            5.975238918598476,
            0.16693252839402903,
            0.3010093942557814,
            1.479890373082284,
            0.9411187080604859,
            0.5911236177696302,
            2.1703750680962006,
            1.4869815809793518,
            0.7391131187837279,
            3.956091427763704,
            5.88185064000466,
            2.1156055688314845,
            1.4103226344002648
           ],
           "y": [
            6.023129299002695,
            0.7671039178360047,
            1.5607918967456855,
            1.2445939474149117,
            0.08289372870921259,
            2.0088825008593743,
            0.32192845619985583,
            6.354340022178383,
            4.02360950987,
            1.4550368992431406,
            3.1432018210843973,
            0.01859628617041176,
            2.35776294472259,
            4.030939822007416,
            1.8940032221219165,
            5.418401033601961,
            2.841776305584818,
            1.3257708655322125,
            0.2778062499877374,
            2.9317772131818844,
            6.541486299713317,
            2.3825939650012837,
            1.8236198181456764,
            8.28230528118895,
            6.9881516963852945,
            0.07202157111747888,
            2.7157293114400294,
            7.765957579808052,
            4.407139135868046,
            7.599499055787875,
            6.52665548461633,
            3.339924003935272,
            0.4629683941323652,
            4.320661428876639
           ],
           "z": [
            2.4410084433391384,
            0.5541846302305486,
            0.002048308879315178,
            2.8933867142398544,
            0.0736510078221581,
            3.267182273602211,
            1.3511700219364273,
            0.23598974769576486,
            4.229708860198898,
            0.8663738910873127,
            1.4940621756311803,
            0.03694410376614173,
            6.728549997827893,
            6.911151465673739,
            6.694415141752299,
            6.349678942286682,
            2.7645283935594986,
            0.46079265848178746,
            0.51826935741091,
            6.915297296223086,
            1.817024894002964,
            2.1449031543310646,
            2.4375961439955227,
            5.399726859580242,
            2.5026337132831546,
            0.6274897434812922,
            1.225415016933717,
            2.6594195140127512,
            2.3827768360554407,
            1.026657935099257,
            1.3995893683183054,
            5.361679328383294,
            1.2466942337609477,
            8.141110678146072
           ]
          },
          {
           "name": "pareto-ish",
           "type": "scatter3d",
           "x": [
            9.196227973487561,
            8.599624691401939,
            7.554935235370545,
            6.81541844603797,
            5.88185064000466,
            4.533330662181171,
            4.220754459010385,
            3.956091427763704,
            3.7522644895974606,
            3.477417321572958,
            2.1962236775542685,
            2.1703750680962006,
            2.1570506668428604,
            1.4103226344002648,
            0.3010093942557814
           ],
           "y": [
            0.08289372870921259,
            1.3257708655322125,
            0.32192845619985583,
            2.841776305584818,
            3.339924003935272,
            6.023129299002695,
            1.8940032221219165,
            6.52665548461633,
            5.418401033601961,
            2.35776294472259,
            2.9317772131818844,
            7.765957579808052,
            4.030939822007416,
            4.320661428876639,
            8.28230528118895
           ],
           "z": [
            0.0736510078221581,
            0.46079265848178746,
            1.3511700219364273,
            2.7645283935594986,
            5.361679328383294,
            2.4410084433391384,
            6.694415141752299,
            1.3995893683183054,
            6.349678942286682,
            6.728549997827893,
            6.915297296223086,
            2.6594195140127512,
            6.911151465673739,
            8.141110678146072,
            5.399726859580242
           ]
          }
         ]
        },
        {
         "data": [
          {
           "marker": {
            "color": "blue",
            "size": 10
           },
           "mode": "markers",
           "name": "observed objectives",
           "type": "scatter3d",
           "x": [
            4.533330662181171,
            2.4151583196525395,
            2.1283255170892517,
            1.4815800626711841,
            9.196227973487561,
            4.301625713847673,
            7.554935235370545,
            3.2016532566805473,
            2.669605486548057,
            3.290226454059422,
            0.23062815717408705,
            2.6668070079912902,
            3.477417321572958,
            2.1570506668428604,
            4.220754459010385,
            3.7522644895974606,
            6.81541844603797,
            8.599624691401939,
            0.622673432467017,
            2.1962236775542685,
            0.47562868592402335,
            5.975238918598476,
            0.16693252839402903,
            0.3010093942557814,
            1.479890373082284,
            0.9411187080604859,
            0.5911236177696302,
            2.1703750680962006,
            1.4869815809793518,
            0.7391131187837279,
            3.956091427763704,
            5.88185064000466,
            2.1156055688314845,
            1.4103226344002648,
            8.465013596283738
           ],
           "y": [
            6.023129299002695,
            0.7671039178360047,
            1.5607918967456855,
            1.2445939474149117,
            0.08289372870921259,
            2.0088825008593743,
            0.32192845619985583,
            6.354340022178383,
            4.02360950987,
            1.4550368992431406,
            3.1432018210843973,
            0.01859628617041176,
            2.35776294472259,
            4.030939822007416,
            1.8940032221219165,
            5.418401033601961,
            2.841776305584818,
            1.3257708655322125,
            0.2778062499877374,
            2.9317772131818844,
            6.541486299713317,
            2.3825939650012837,
            1.8236198181456764,
            8.28230528118895,
            6.9881516963852945,
            0.07202157111747888,
            2.7157293114400294,
            7.765957579808052,
            4.407139135868046,
            7.599499055787875,
            6.52665548461633,
            3.339924003935272,
            0.4629683941323652,
            4.320661428876639,
            1.1364112418633838
           ],
           "z": [
            2.4410084433391384,
            0.5541846302305486,
            0.002048308879315178,
            2.8933867142398544,
            0.0736510078221581,
            3.267182273602211,
            1.3511700219364273,
            0.23598974769576486,
            4.229708860198898,
            0.8663738910873127,
            1.4940621756311803,
            0.03694410376614173,
            6.728549997827893,
            6.911151465673739,
            6.694415141752299,
            6.349678942286682,
            2.7645283935594986,
            0.46079265848178746,
            0.51826935741091,
            6.915297296223086,
            1.817024894002964,
            2.1449031543310646,
            2.4375961439955227,
            5.399726859580242,
            2.5026337132831546,
            0.6274897434812922,
            1.225415016933717,
            2.6594195140127512,
            2.3827768360554407,
            1.026657935099257,
            1.3995893683183054,
            5.361679328383294,
            1.2466942337609477,
            8.141110678146072,
            3.880888992520467
           ]
          },
          {
           "name": "pareto-ish",
           "type": "scatter3d",
           "x": [
            9.196227973487561,
            8.599624691401939,
            8.465013596283738,
            6.81541844603797,
            5.88185064000466,
            4.533330662181171,
            4.220754459010385,
            3.956091427763704,
            3.7522644895974606,
            3.477417321572958,
            2.1962236775542685,
            2.1703750680962006,
            2.1570506668428604,
            1.4103226344002648,
            0.3010093942557814
           ],
           "y": [
            0.08289372870921259,
            1.3257708655322125,
            1.1364112418633838,
            2.841776305584818,
            3.339924003935272,
            6.023129299002695,
            1.8940032221219165,
            6.52665548461633,
            5.418401033601961,
            2.35776294472259,
            2.9317772131818844,
            7.765957579808052,
            4.030939822007416,
            4.320661428876639,
            8.28230528118895
           ],
           "z": [
            0.0736510078221581,
            0.46079265848178746,
            3.880888992520467,
            2.7645283935594986,
            5.361679328383294,
            2.4410084433391384,
            6.694415141752299,
            1.3995893683183054,
            6.349678942286682,
            6.728549997827893,
            6.915297296223086,
            2.6594195140127512,
            6.911151465673739,
            8.141110678146072,
            5.399726859580242
           ]
          }
         ]
        }
       ],
       "layout": {
        "height": 600,
        "hovermode": "closest",
        "scene": {
         "xaxis": {
          "nticks": 4,
          "range": [
           0,
           10
          ]
         },
         "yaxis": {
          "nticks": 4,
          "range": [
           0,
           10
          ]
         },
         "zaxis": {
          "nticks": 4,
          "range": [
           0,
           10
          ]
         }
        },
        "template": {
         "data": {
          "bar": [
           {
            "error_x": {
             "color": "#2a3f5f"
            },
            "error_y": {
             "color": "#2a3f5f"
            },
            "marker": {
             "line": {
              "color": "#E5ECF6",
              "width": 0.5
             }
            },
            "type": "bar"
           }
          ],
          "barpolar": [
           {
            "marker": {
             "line": {
              "color": "#E5ECF6",
              "width": 0.5
             }
            },
            "type": "barpolar"
           }
          ],
          "carpet": [
           {
            "aaxis": {
             "endlinecolor": "#2a3f5f",
             "gridcolor": "white",
             "linecolor": "white",
             "minorgridcolor": "white",
             "startlinecolor": "#2a3f5f"
            },
            "baxis": {
             "endlinecolor": "#2a3f5f",
             "gridcolor": "white",
             "linecolor": "white",
             "minorgridcolor": "white",
             "startlinecolor": "#2a3f5f"
            },
            "type": "carpet"
           }
          ],
          "choropleth": [
           {
            "colorbar": {
             "outlinewidth": 0,
             "ticks": ""
            },
            "type": "choropleth"
           }
          ],
          "contour": [
           {
            "colorbar": {
             "outlinewidth": 0,
             "ticks": ""
            },
            "colorscale": [
             [
              0,
              "#0d0887"
             ],
             [
              0.1111111111111111,
              "#46039f"
             ],
             [
              0.2222222222222222,
              "#7201a8"
             ],
             [
              0.3333333333333333,
              "#9c179e"
             ],
             [
              0.4444444444444444,
              "#bd3786"
             ],
             [
              0.5555555555555556,
              "#d8576b"
             ],
             [
              0.6666666666666666,
              "#ed7953"
             ],
             [
              0.7777777777777778,
              "#fb9f3a"
             ],
             [
              0.8888888888888888,
              "#fdca26"
             ],
             [
              1,
              "#f0f921"
             ]
            ],
            "type": "contour"
           }
          ],
          "contourcarpet": [
           {
            "colorbar": {
             "outlinewidth": 0,
             "ticks": ""
            },
            "type": "contourcarpet"
           }
          ],
          "heatmap": [
           {
            "colorbar": {
             "outlinewidth": 0,
             "ticks": ""
            },
            "colorscale": [
             [
              0,
              "#0d0887"
             ],
             [
              0.1111111111111111,
              "#46039f"
             ],
             [
              0.2222222222222222,
              "#7201a8"
             ],
             [
              0.3333333333333333,
              "#9c179e"
             ],
             [
              0.4444444444444444,
              "#bd3786"
             ],
             [
              0.5555555555555556,
              "#d8576b"
             ],
             [
              0.6666666666666666,
              "#ed7953"
             ],
             [
              0.7777777777777778,
              "#fb9f3a"
             ],
             [
              0.8888888888888888,
              "#fdca26"
             ],
             [
              1,
              "#f0f921"
             ]
            ],
            "type": "heatmap"
           }
          ],
          "heatmapgl": [
           {
            "colorbar": {
             "outlinewidth": 0,
             "ticks": ""
            },
            "colorscale": [
             [
              0,
              "#0d0887"
             ],
             [
              0.1111111111111111,
              "#46039f"
             ],
             [
              0.2222222222222222,
              "#7201a8"
             ],
             [
              0.3333333333333333,
              "#9c179e"
             ],
             [
              0.4444444444444444,
              "#bd3786"
             ],
             [
              0.5555555555555556,
              "#d8576b"
             ],
             [
              0.6666666666666666,
              "#ed7953"
             ],
             [
              0.7777777777777778,
              "#fb9f3a"
             ],
             [
              0.8888888888888888,
              "#fdca26"
             ],
             [
              1,
              "#f0f921"
             ]
            ],
            "type": "heatmapgl"
           }
          ],
          "histogram": [
           {
            "marker": {
             "colorbar": {
              "outlinewidth": 0,
              "ticks": ""
             }
            },
            "type": "histogram"
           }
          ],
          "histogram2d": [
           {
            "colorbar": {
             "outlinewidth": 0,
             "ticks": ""
            },
            "colorscale": [
             [
              0,
              "#0d0887"
             ],
             [
              0.1111111111111111,
              "#46039f"
             ],
             [
              0.2222222222222222,
              "#7201a8"
             ],
             [
              0.3333333333333333,
              "#9c179e"
             ],
             [
              0.4444444444444444,
              "#bd3786"
             ],
             [
              0.5555555555555556,
              "#d8576b"
             ],
             [
              0.6666666666666666,
              "#ed7953"
             ],
             [
              0.7777777777777778,
              "#fb9f3a"
             ],
             [
              0.8888888888888888,
              "#fdca26"
             ],
             [
              1,
              "#f0f921"
             ]
            ],
            "type": "histogram2d"
           }
          ],
          "histogram2dcontour": [
           {
            "colorbar": {
             "outlinewidth": 0,
             "ticks": ""
            },
            "colorscale": [
             [
              0,
              "#0d0887"
             ],
             [
              0.1111111111111111,
              "#46039f"
             ],
             [
              0.2222222222222222,
              "#7201a8"
             ],
             [
              0.3333333333333333,
              "#9c179e"
             ],
             [
              0.4444444444444444,
              "#bd3786"
             ],
             [
              0.5555555555555556,
              "#d8576b"
             ],
             [
              0.6666666666666666,
              "#ed7953"
             ],
             [
              0.7777777777777778,
              "#fb9f3a"
             ],
             [
              0.8888888888888888,
              "#fdca26"
             ],
             [
              1,
              "#f0f921"
             ]
            ],
            "type": "histogram2dcontour"
           }
          ],
          "mesh3d": [
           {
            "colorbar": {
             "outlinewidth": 0,
             "ticks": ""
            },
            "type": "mesh3d"
           }
          ],
          "parcoords": [
           {
            "line": {
             "colorbar": {
              "outlinewidth": 0,
              "ticks": ""
             }
            },
            "type": "parcoords"
           }
          ],
          "pie": [
           {
            "automargin": true,
            "type": "pie"
           }
          ],
          "scatter": [
           {
            "marker": {
             "colorbar": {
              "outlinewidth": 0,
              "ticks": ""
             }
            },
            "type": "scatter"
           }
          ],
          "scatter3d": [
           {
            "line": {
             "colorbar": {
              "outlinewidth": 0,
              "ticks": ""
             }
            },
            "marker": {
             "colorbar": {
              "outlinewidth": 0,
              "ticks": ""
             }
            },
            "type": "scatter3d"
           }
          ],
          "scattercarpet": [
           {
            "marker": {
             "colorbar": {
              "outlinewidth": 0,
              "ticks": ""
             }
            },
            "type": "scattercarpet"
           }
          ],
          "scattergeo": [
           {
            "marker": {
             "colorbar": {
              "outlinewidth": 0,
              "ticks": ""
             }
            },
            "type": "scattergeo"
           }
          ],
          "scattergl": [
           {
            "marker": {
             "colorbar": {
              "outlinewidth": 0,
              "ticks": ""
             }
            },
            "type": "scattergl"
           }
          ],
          "scattermapbox": [
           {
            "marker": {
             "colorbar": {
              "outlinewidth": 0,
              "ticks": ""
             }
            },
            "type": "scattermapbox"
           }
          ],
          "scatterpolar": [
           {
            "marker": {
             "colorbar": {
              "outlinewidth": 0,
              "ticks": ""
             }
            },
            "type": "scatterpolar"
           }
          ],
          "scatterpolargl": [
           {
            "marker": {
             "colorbar": {
              "outlinewidth": 0,
              "ticks": ""
             }
            },
            "type": "scatterpolargl"
           }
          ],
          "scatterternary": [
           {
            "marker": {
             "colorbar": {
              "outlinewidth": 0,
              "ticks": ""
             }
            },
            "type": "scatterternary"
           }
          ],
          "surface": [
           {
            "colorbar": {
             "outlinewidth": 0,
             "ticks": ""
            },
            "colorscale": [
             [
              0,
              "#0d0887"
             ],
             [
              0.1111111111111111,
              "#46039f"
             ],
             [
              0.2222222222222222,
              "#7201a8"
             ],
             [
              0.3333333333333333,
              "#9c179e"
             ],
             [
              0.4444444444444444,
              "#bd3786"
             ],
             [
              0.5555555555555556,
              "#d8576b"
             ],
             [
              0.6666666666666666,
              "#ed7953"
             ],
             [
              0.7777777777777778,
              "#fb9f3a"
             ],
             [
              0.8888888888888888,
              "#fdca26"
             ],
             [
              1,
              "#f0f921"
             ]
            ],
            "type": "surface"
           }
          ],
          "table": [
           {
            "cells": {
             "fill": {
              "color": "#EBF0F8"
             },
             "line": {
              "color": "white"
             }
            },
            "header": {
             "fill": {
              "color": "#C8D4E3"
             },
             "line": {
              "color": "white"
             }
            },
            "type": "table"
           }
          ]
         },
         "layout": {
          "annotationdefaults": {
           "arrowcolor": "#2a3f5f",
           "arrowhead": 0,
           "arrowwidth": 1
          },
          "autotypenumbers": "strict",
          "coloraxis": {
           "colorbar": {
            "outlinewidth": 0,
            "ticks": ""
           }
          },
          "colorscale": {
           "diverging": [
            [
             0,
             "#8e0152"
            ],
            [
             0.1,
             "#c51b7d"
            ],
            [
             0.2,
             "#de77ae"
            ],
            [
             0.3,
             "#f1b6da"
            ],
            [
             0.4,
             "#fde0ef"
            ],
            [
             0.5,
             "#f7f7f7"
            ],
            [
             0.6,
             "#e6f5d0"
            ],
            [
             0.7,
             "#b8e186"
            ],
            [
             0.8,
             "#7fbc41"
            ],
            [
             0.9,
             "#4d9221"
            ],
            [
             1,
             "#276419"
            ]
           ],
           "sequential": [
            [
             0,
             "#0d0887"
            ],
            [
             0.1111111111111111,
             "#46039f"
            ],
            [
             0.2222222222222222,
             "#7201a8"
            ],
            [
             0.3333333333333333,
             "#9c179e"
            ],
            [
             0.4444444444444444,
             "#bd3786"
            ],
            [
             0.5555555555555556,
             "#d8576b"
            ],
            [
             0.6666666666666666,
             "#ed7953"
            ],
            [
             0.7777777777777778,
             "#fb9f3a"
            ],
            [
             0.8888888888888888,
             "#fdca26"
            ],
            [
             1,
             "#f0f921"
            ]
           ],
           "sequentialminus": [
            [
             0,
             "#0d0887"
            ],
            [
             0.1111111111111111,
             "#46039f"
            ],
            [
             0.2222222222222222,
             "#7201a8"
            ],
            [
             0.3333333333333333,
             "#9c179e"
            ],
            [
             0.4444444444444444,
             "#bd3786"
            ],
            [
             0.5555555555555556,
             "#d8576b"
            ],
            [
             0.6666666666666666,
             "#ed7953"
            ],
            [
             0.7777777777777778,
             "#fb9f3a"
            ],
            [
             0.8888888888888888,
             "#fdca26"
            ],
            [
             1,
             "#f0f921"
            ]
           ]
          },
          "colorway": [
           "#636efa",
           "#EF553B",
           "#00cc96",
           "#ab63fa",
           "#FFA15A",
           "#19d3f3",
           "#FF6692",
           "#B6E880",
           "#FF97FF",
           "#FECB52"
          ],
          "font": {
           "color": "#2a3f5f"
          },
          "geo": {
           "bgcolor": "white",
           "lakecolor": "white",
           "landcolor": "#E5ECF6",
           "showlakes": true,
           "showland": true,
           "subunitcolor": "white"
          },
          "hoverlabel": {
           "align": "left"
          },
          "hovermode": "closest",
          "mapbox": {
           "style": "light"
          },
          "paper_bgcolor": "white",
          "plot_bgcolor": "#E5ECF6",
          "polar": {
           "angularaxis": {
            "gridcolor": "white",
            "linecolor": "white",
            "ticks": ""
           },
           "bgcolor": "#E5ECF6",
           "radialaxis": {
            "gridcolor": "white",
            "linecolor": "white",
            "ticks": ""
           }
          },
          "scene": {
           "xaxis": {
            "backgroundcolor": "#E5ECF6",
            "gridcolor": "white",
            "gridwidth": 2,
            "linecolor": "white",
            "showbackground": true,
            "ticks": "",
            "zerolinecolor": "white"
           },
           "yaxis": {
            "backgroundcolor": "#E5ECF6",
            "gridcolor": "white",
            "gridwidth": 2,
            "linecolor": "white",
            "showbackground": true,
            "ticks": "",
            "zerolinecolor": "white"
           },
           "zaxis": {
            "backgroundcolor": "#E5ECF6",
            "gridcolor": "white",
            "gridwidth": 2,
            "linecolor": "white",
            "showbackground": true,
            "ticks": "",
            "zerolinecolor": "white"
           }
          },
          "shapedefaults": {
           "line": {
            "color": "#2a3f5f"
           }
          },
          "ternary": {
           "aaxis": {
            "gridcolor": "white",
            "linecolor": "white",
            "ticks": ""
           },
           "baxis": {
            "gridcolor": "white",
            "linecolor": "white",
            "ticks": ""
           },
           "bgcolor": "#E5ECF6",
           "caxis": {
            "gridcolor": "white",
            "linecolor": "white",
            "ticks": ""
           }
          },
          "title": {
           "x": 0.05
          },
          "xaxis": {
           "automargin": true,
           "gridcolor": "white",
           "linecolor": "white",
           "ticks": "",
           "title": {
            "standoff": 15
           },
           "zerolinecolor": "white",
           "zerolinewidth": 2
          },
          "yaxis": {
           "automargin": true,
           "gridcolor": "white",
           "linecolor": "white",
           "ticks": "",
           "title": {
            "standoff": 15
           },
           "zerolinecolor": "white",
           "zerolinewidth": 2
          }
         }
        },
        "title": {
         "text": "Pareto over time"
        },
        "updatemenus": [
         {
          "buttons": [
           {
            "args": [
             null
            ],
            "label": "Play",
            "method": "animate"
           }
          ],
          "type": "buttons"
         }
        ],
        "width": 600
       }
      },
      "text/html": [
       "<div>                            <div id=\"fa27b0ad-6ffa-46ad-9ea5-08032a22c82f\" class=\"plotly-graph-div\" style=\"height:600px; width:600px;\"></div>            <script type=\"text/javascript\">                require([\"plotly\"], function(Plotly) {                    window.PLOTLYENV=window.PLOTLYENV || {};                                    if (document.getElementById(\"fa27b0ad-6ffa-46ad-9ea5-08032a22c82f\")) {                    Plotly.newPlot(                        \"fa27b0ad-6ffa-46ad-9ea5-08032a22c82f\",                        [{\"marker\": {\"color\": \"blue\", \"size\": 10}, \"mode\": \"markers\", \"name\": \"observed objectives\", \"type\": \"scatter3d\", \"x\": [], \"y\": [], \"z\": []}, {\"name\": \"pareto-ish\", \"type\": \"scatter3d\", \"x\": [], \"y\": [], \"z\": []}],                        {\"height\": 600, \"hovermode\": \"closest\", \"scene\": {\"xaxis\": {\"nticks\": 4, \"range\": [0, 10]}, \"yaxis\": {\"nticks\": 4, \"range\": [0, 10]}, \"zaxis\": {\"nticks\": 4, \"range\": [0, 10]}}, \"template\": {\"data\": {\"bar\": [{\"error_x\": {\"color\": \"#2a3f5f\"}, \"error_y\": {\"color\": \"#2a3f5f\"}, \"marker\": {\"line\": {\"color\": \"#E5ECF6\", \"width\": 0.5}}, \"type\": \"bar\"}], \"barpolar\": [{\"marker\": {\"line\": {\"color\": \"#E5ECF6\", \"width\": 0.5}}, \"type\": \"barpolar\"}], \"carpet\": [{\"aaxis\": {\"endlinecolor\": \"#2a3f5f\", \"gridcolor\": \"white\", \"linecolor\": \"white\", \"minorgridcolor\": \"white\", \"startlinecolor\": \"#2a3f5f\"}, \"baxis\": {\"endlinecolor\": \"#2a3f5f\", \"gridcolor\": \"white\", \"linecolor\": \"white\", \"minorgridcolor\": \"white\", \"startlinecolor\": \"#2a3f5f\"}, \"type\": \"carpet\"}], \"choropleth\": [{\"colorbar\": {\"outlinewidth\": 0, \"ticks\": \"\"}, \"type\": \"choropleth\"}], \"contour\": [{\"colorbar\": {\"outlinewidth\": 0, \"ticks\": \"\"}, \"colorscale\": [[0.0, \"#0d0887\"], [0.1111111111111111, \"#46039f\"], [0.2222222222222222, \"#7201a8\"], [0.3333333333333333, \"#9c179e\"], [0.4444444444444444, \"#bd3786\"], [0.5555555555555556, \"#d8576b\"], [0.6666666666666666, \"#ed7953\"], [0.7777777777777778, \"#fb9f3a\"], [0.8888888888888888, \"#fdca26\"], [1.0, \"#f0f921\"]], \"type\": \"contour\"}], \"contourcarpet\": [{\"colorbar\": {\"outlinewidth\": 0, \"ticks\": \"\"}, \"type\": \"contourcarpet\"}], \"heatmap\": [{\"colorbar\": {\"outlinewidth\": 0, \"ticks\": \"\"}, \"colorscale\": [[0.0, \"#0d0887\"], [0.1111111111111111, \"#46039f\"], [0.2222222222222222, \"#7201a8\"], [0.3333333333333333, \"#9c179e\"], [0.4444444444444444, \"#bd3786\"], [0.5555555555555556, \"#d8576b\"], [0.6666666666666666, \"#ed7953\"], [0.7777777777777778, \"#fb9f3a\"], [0.8888888888888888, \"#fdca26\"], [1.0, \"#f0f921\"]], \"type\": \"heatmap\"}], \"heatmapgl\": [{\"colorbar\": {\"outlinewidth\": 0, \"ticks\": \"\"}, \"colorscale\": [[0.0, \"#0d0887\"], [0.1111111111111111, \"#46039f\"], [0.2222222222222222, \"#7201a8\"], [0.3333333333333333, \"#9c179e\"], [0.4444444444444444, \"#bd3786\"], [0.5555555555555556, \"#d8576b\"], [0.6666666666666666, \"#ed7953\"], [0.7777777777777778, \"#fb9f3a\"], [0.8888888888888888, \"#fdca26\"], [1.0, \"#f0f921\"]], \"type\": \"heatmapgl\"}], \"histogram\": [{\"marker\": {\"colorbar\": {\"outlinewidth\": 0, \"ticks\": \"\"}}, \"type\": \"histogram\"}], \"histogram2d\": [{\"colorbar\": {\"outlinewidth\": 0, \"ticks\": \"\"}, \"colorscale\": [[0.0, \"#0d0887\"], [0.1111111111111111, \"#46039f\"], [0.2222222222222222, \"#7201a8\"], [0.3333333333333333, \"#9c179e\"], [0.4444444444444444, \"#bd3786\"], [0.5555555555555556, \"#d8576b\"], [0.6666666666666666, \"#ed7953\"], [0.7777777777777778, \"#fb9f3a\"], [0.8888888888888888, \"#fdca26\"], [1.0, \"#f0f921\"]], \"type\": \"histogram2d\"}], \"histogram2dcontour\": [{\"colorbar\": {\"outlinewidth\": 0, \"ticks\": \"\"}, \"colorscale\": [[0.0, \"#0d0887\"], [0.1111111111111111, \"#46039f\"], [0.2222222222222222, \"#7201a8\"], [0.3333333333333333, \"#9c179e\"], [0.4444444444444444, \"#bd3786\"], [0.5555555555555556, \"#d8576b\"], [0.6666666666666666, \"#ed7953\"], [0.7777777777777778, \"#fb9f3a\"], [0.8888888888888888, \"#fdca26\"], [1.0, \"#f0f921\"]], \"type\": \"histogram2dcontour\"}], \"mesh3d\": [{\"colorbar\": {\"outlinewidth\": 0, \"ticks\": \"\"}, \"type\": \"mesh3d\"}], \"parcoords\": [{\"line\": {\"colorbar\": {\"outlinewidth\": 0, \"ticks\": \"\"}}, \"type\": \"parcoords\"}], \"pie\": [{\"automargin\": true, \"type\": \"pie\"}], \"scatter\": [{\"marker\": {\"colorbar\": {\"outlinewidth\": 0, \"ticks\": \"\"}}, \"type\": \"scatter\"}], \"scatter3d\": [{\"line\": {\"colorbar\": {\"outlinewidth\": 0, \"ticks\": \"\"}}, \"marker\": {\"colorbar\": {\"outlinewidth\": 0, \"ticks\": \"\"}}, \"type\": \"scatter3d\"}], \"scattercarpet\": [{\"marker\": {\"colorbar\": {\"outlinewidth\": 0, \"ticks\": \"\"}}, \"type\": \"scattercarpet\"}], \"scattergeo\": [{\"marker\": {\"colorbar\": {\"outlinewidth\": 0, \"ticks\": \"\"}}, \"type\": \"scattergeo\"}], \"scattergl\": [{\"marker\": {\"colorbar\": {\"outlinewidth\": 0, \"ticks\": \"\"}}, \"type\": \"scattergl\"}], \"scattermapbox\": [{\"marker\": {\"colorbar\": {\"outlinewidth\": 0, \"ticks\": \"\"}}, \"type\": \"scattermapbox\"}], \"scatterpolar\": [{\"marker\": {\"colorbar\": {\"outlinewidth\": 0, \"ticks\": \"\"}}, \"type\": \"scatterpolar\"}], \"scatterpolargl\": [{\"marker\": {\"colorbar\": {\"outlinewidth\": 0, \"ticks\": \"\"}}, \"type\": \"scatterpolargl\"}], \"scatterternary\": [{\"marker\": {\"colorbar\": {\"outlinewidth\": 0, \"ticks\": \"\"}}, \"type\": \"scatterternary\"}], \"surface\": [{\"colorbar\": {\"outlinewidth\": 0, \"ticks\": \"\"}, \"colorscale\": [[0.0, \"#0d0887\"], [0.1111111111111111, \"#46039f\"], [0.2222222222222222, \"#7201a8\"], [0.3333333333333333, \"#9c179e\"], [0.4444444444444444, \"#bd3786\"], [0.5555555555555556, \"#d8576b\"], [0.6666666666666666, \"#ed7953\"], [0.7777777777777778, \"#fb9f3a\"], [0.8888888888888888, \"#fdca26\"], [1.0, \"#f0f921\"]], \"type\": \"surface\"}], \"table\": [{\"cells\": {\"fill\": {\"color\": \"#EBF0F8\"}, \"line\": {\"color\": \"white\"}}, \"header\": {\"fill\": {\"color\": \"#C8D4E3\"}, \"line\": {\"color\": \"white\"}}, \"type\": \"table\"}]}, \"layout\": {\"annotationdefaults\": {\"arrowcolor\": \"#2a3f5f\", \"arrowhead\": 0, \"arrowwidth\": 1}, \"autotypenumbers\": \"strict\", \"coloraxis\": {\"colorbar\": {\"outlinewidth\": 0, \"ticks\": \"\"}}, \"colorscale\": {\"diverging\": [[0, \"#8e0152\"], [0.1, \"#c51b7d\"], [0.2, \"#de77ae\"], [0.3, \"#f1b6da\"], [0.4, \"#fde0ef\"], [0.5, \"#f7f7f7\"], [0.6, \"#e6f5d0\"], [0.7, \"#b8e186\"], [0.8, \"#7fbc41\"], [0.9, \"#4d9221\"], [1, \"#276419\"]], \"sequential\": [[0.0, \"#0d0887\"], [0.1111111111111111, \"#46039f\"], [0.2222222222222222, \"#7201a8\"], [0.3333333333333333, \"#9c179e\"], [0.4444444444444444, \"#bd3786\"], [0.5555555555555556, \"#d8576b\"], [0.6666666666666666, \"#ed7953\"], [0.7777777777777778, \"#fb9f3a\"], [0.8888888888888888, \"#fdca26\"], [1.0, \"#f0f921\"]], \"sequentialminus\": [[0.0, \"#0d0887\"], [0.1111111111111111, \"#46039f\"], [0.2222222222222222, \"#7201a8\"], [0.3333333333333333, \"#9c179e\"], [0.4444444444444444, \"#bd3786\"], [0.5555555555555556, \"#d8576b\"], [0.6666666666666666, \"#ed7953\"], [0.7777777777777778, \"#fb9f3a\"], [0.8888888888888888, \"#fdca26\"], [1.0, \"#f0f921\"]]}, \"colorway\": [\"#636efa\", \"#EF553B\", \"#00cc96\", \"#ab63fa\", \"#FFA15A\", \"#19d3f3\", \"#FF6692\", \"#B6E880\", \"#FF97FF\", \"#FECB52\"], \"font\": {\"color\": \"#2a3f5f\"}, \"geo\": {\"bgcolor\": \"white\", \"lakecolor\": \"white\", \"landcolor\": \"#E5ECF6\", \"showlakes\": true, \"showland\": true, \"subunitcolor\": \"white\"}, \"hoverlabel\": {\"align\": \"left\"}, \"hovermode\": \"closest\", \"mapbox\": {\"style\": \"light\"}, \"paper_bgcolor\": \"white\", \"plot_bgcolor\": \"#E5ECF6\", \"polar\": {\"angularaxis\": {\"gridcolor\": \"white\", \"linecolor\": \"white\", \"ticks\": \"\"}, \"bgcolor\": \"#E5ECF6\", \"radialaxis\": {\"gridcolor\": \"white\", \"linecolor\": \"white\", \"ticks\": \"\"}}, \"scene\": {\"xaxis\": {\"backgroundcolor\": \"#E5ECF6\", \"gridcolor\": \"white\", \"gridwidth\": 2, \"linecolor\": \"white\", \"showbackground\": true, \"ticks\": \"\", \"zerolinecolor\": \"white\"}, \"yaxis\": {\"backgroundcolor\": \"#E5ECF6\", \"gridcolor\": \"white\", \"gridwidth\": 2, \"linecolor\": \"white\", \"showbackground\": true, \"ticks\": \"\", \"zerolinecolor\": \"white\"}, \"zaxis\": {\"backgroundcolor\": \"#E5ECF6\", \"gridcolor\": \"white\", \"gridwidth\": 2, \"linecolor\": \"white\", \"showbackground\": true, \"ticks\": \"\", \"zerolinecolor\": \"white\"}}, \"shapedefaults\": {\"line\": {\"color\": \"#2a3f5f\"}}, \"ternary\": {\"aaxis\": {\"gridcolor\": \"white\", \"linecolor\": \"white\", \"ticks\": \"\"}, \"baxis\": {\"gridcolor\": \"white\", \"linecolor\": \"white\", \"ticks\": \"\"}, \"bgcolor\": \"#E5ECF6\", \"caxis\": {\"gridcolor\": \"white\", \"linecolor\": \"white\", \"ticks\": \"\"}}, \"title\": {\"x\": 0.05}, \"xaxis\": {\"automargin\": true, \"gridcolor\": \"white\", \"linecolor\": \"white\", \"ticks\": \"\", \"title\": {\"standoff\": 15}, \"zerolinecolor\": \"white\", \"zerolinewidth\": 2}, \"yaxis\": {\"automargin\": true, \"gridcolor\": \"white\", \"linecolor\": \"white\", \"ticks\": \"\", \"title\": {\"standoff\": 15}, \"zerolinecolor\": \"white\", \"zerolinewidth\": 2}}}, \"title\": {\"text\": \"Pareto over time\"}, \"updatemenus\": [{\"buttons\": [{\"args\": [null], \"label\": \"Play\", \"method\": \"animate\"}], \"type\": \"buttons\"}], \"width\": 600},                        {\"responsive\": true}                    ).then(function(){\n",
       "                            Plotly.addFrames('fa27b0ad-6ffa-46ad-9ea5-08032a22c82f', [{\"data\": [{\"marker\": {\"color\": \"blue\", \"size\": 10}, \"mode\": \"markers\", \"name\": \"observed objectives\", \"x\": [], \"y\": [], \"z\": [], \"type\": \"scatter3d\"}, {\"name\": \"pareto-ish\", \"x\": [], \"y\": [], \"z\": [], \"type\": \"scatter3d\"}]}, {\"data\": [{\"marker\": {\"color\": \"blue\", \"size\": 10}, \"mode\": \"markers\", \"name\": \"observed objectives\", \"x\": [4.533330662181171], \"y\": [6.023129299002695], \"z\": [2.4410084433391384], \"type\": \"scatter3d\"}, {\"name\": \"pareto-ish\", \"x\": [4.533330662181171], \"y\": [6.023129299002695], \"z\": [2.4410084433391384], \"type\": \"scatter3d\"}]}, {\"data\": [{\"marker\": {\"color\": \"blue\", \"size\": 10}, \"mode\": \"markers\", \"name\": \"observed objectives\", \"x\": [4.533330662181171, 2.4151583196525395], \"y\": [6.023129299002695, 0.7671039178360047], \"z\": [2.4410084433391384, 0.5541846302305486], \"type\": \"scatter3d\"}, {\"name\": \"pareto-ish\", \"x\": [4.533330662181171], \"y\": [6.023129299002695], \"z\": [2.4410084433391384], \"type\": \"scatter3d\"}]}, {\"data\": [{\"marker\": {\"color\": \"blue\", \"size\": 10}, \"mode\": \"markers\", \"name\": \"observed objectives\", \"x\": [4.533330662181171, 2.4151583196525395, 2.1283255170892517], \"y\": [6.023129299002695, 0.7671039178360047, 1.5607918967456855], \"z\": [2.4410084433391384, 0.5541846302305486, 0.002048308879315178], \"type\": \"scatter3d\"}, {\"name\": \"pareto-ish\", \"x\": [4.533330662181171], \"y\": [6.023129299002695], \"z\": [2.4410084433391384], \"type\": \"scatter3d\"}]}, {\"data\": [{\"marker\": {\"color\": \"blue\", \"size\": 10}, \"mode\": \"markers\", \"name\": \"observed objectives\", \"x\": [4.533330662181171, 2.4151583196525395, 2.1283255170892517, 1.4815800626711841], \"y\": [6.023129299002695, 0.7671039178360047, 1.5607918967456855, 1.2445939474149117], \"z\": [2.4410084433391384, 0.5541846302305486, 0.002048308879315178, 2.8933867142398544], \"type\": \"scatter3d\"}, {\"name\": \"pareto-ish\", \"x\": [4.533330662181171, 1.4815800626711841], \"y\": [6.023129299002695, 1.2445939474149117], \"z\": [2.4410084433391384, 2.8933867142398544], \"type\": \"scatter3d\"}]}, {\"data\": [{\"marker\": {\"color\": \"blue\", \"size\": 10}, \"mode\": \"markers\", \"name\": \"observed objectives\", \"x\": [4.533330662181171, 2.4151583196525395, 2.1283255170892517, 1.4815800626711841, 9.196227973487561], \"y\": [6.023129299002695, 0.7671039178360047, 1.5607918967456855, 1.2445939474149117, 0.08289372870921259], \"z\": [2.4410084433391384, 0.5541846302305486, 0.002048308879315178, 2.8933867142398544, 0.0736510078221581], \"type\": \"scatter3d\"}, {\"name\": \"pareto-ish\", \"x\": [9.196227973487561, 4.533330662181171, 1.4815800626711841], \"y\": [0.08289372870921259, 6.023129299002695, 1.2445939474149117], \"z\": [0.0736510078221581, 2.4410084433391384, 2.8933867142398544], \"type\": \"scatter3d\"}]}, {\"data\": [{\"marker\": {\"color\": \"blue\", \"size\": 10}, \"mode\": \"markers\", \"name\": \"observed objectives\", \"x\": [4.533330662181171, 2.4151583196525395, 2.1283255170892517, 1.4815800626711841, 9.196227973487561, 4.301625713847673], \"y\": [6.023129299002695, 0.7671039178360047, 1.5607918967456855, 1.2445939474149117, 0.08289372870921259, 2.0088825008593743], \"z\": [2.4410084433391384, 0.5541846302305486, 0.002048308879315178, 2.8933867142398544, 0.0736510078221581, 3.267182273602211], \"type\": \"scatter3d\"}, {\"name\": \"pareto-ish\", \"x\": [9.196227973487561, 4.533330662181171, 4.301625713847673], \"y\": [0.08289372870921259, 6.023129299002695, 2.0088825008593743], \"z\": [0.0736510078221581, 2.4410084433391384, 3.267182273602211], \"type\": \"scatter3d\"}]}, {\"data\": [{\"marker\": {\"color\": \"blue\", \"size\": 10}, \"mode\": \"markers\", \"name\": \"observed objectives\", \"x\": [4.533330662181171, 2.4151583196525395, 2.1283255170892517, 1.4815800626711841, 9.196227973487561, 4.301625713847673, 7.554935235370545], \"y\": [6.023129299002695, 0.7671039178360047, 1.5607918967456855, 1.2445939474149117, 0.08289372870921259, 2.0088825008593743, 0.32192845619985583], \"z\": [2.4410084433391384, 0.5541846302305486, 0.002048308879315178, 2.8933867142398544, 0.0736510078221581, 3.267182273602211, 1.3511700219364273], \"type\": \"scatter3d\"}, {\"name\": \"pareto-ish\", \"x\": [9.196227973487561, 7.554935235370545, 4.533330662181171, 4.301625713847673], \"y\": [0.08289372870921259, 0.32192845619985583, 6.023129299002695, 2.0088825008593743], \"z\": [0.0736510078221581, 1.3511700219364273, 2.4410084433391384, 3.267182273602211], \"type\": \"scatter3d\"}]}, {\"data\": [{\"marker\": {\"color\": \"blue\", \"size\": 10}, \"mode\": \"markers\", \"name\": \"observed objectives\", \"x\": [4.533330662181171, 2.4151583196525395, 2.1283255170892517, 1.4815800626711841, 9.196227973487561, 4.301625713847673, 7.554935235370545, 3.2016532566805473], \"y\": [6.023129299002695, 0.7671039178360047, 1.5607918967456855, 1.2445939474149117, 0.08289372870921259, 2.0088825008593743, 0.32192845619985583, 6.354340022178383], \"z\": [2.4410084433391384, 0.5541846302305486, 0.002048308879315178, 2.8933867142398544, 0.0736510078221581, 3.267182273602211, 1.3511700219364273, 0.23598974769576486], \"type\": \"scatter3d\"}, {\"name\": \"pareto-ish\", \"x\": [9.196227973487561, 7.554935235370545, 4.533330662181171, 4.301625713847673, 3.2016532566805473], \"y\": [0.08289372870921259, 0.32192845619985583, 6.023129299002695, 2.0088825008593743, 6.354340022178383], \"z\": [0.0736510078221581, 1.3511700219364273, 2.4410084433391384, 3.267182273602211, 0.23598974769576486], \"type\": \"scatter3d\"}]}, {\"data\": [{\"marker\": {\"color\": \"blue\", \"size\": 10}, \"mode\": \"markers\", \"name\": \"observed objectives\", \"x\": [4.533330662181171, 2.4151583196525395, 2.1283255170892517, 1.4815800626711841, 9.196227973487561, 4.301625713847673, 7.554935235370545, 3.2016532566805473, 2.669605486548057], \"y\": [6.023129299002695, 0.7671039178360047, 1.5607918967456855, 1.2445939474149117, 0.08289372870921259, 2.0088825008593743, 0.32192845619985583, 6.354340022178383, 4.02360950987], \"z\": [2.4410084433391384, 0.5541846302305486, 0.002048308879315178, 2.8933867142398544, 0.0736510078221581, 3.267182273602211, 1.3511700219364273, 0.23598974769576486, 4.229708860198898], \"type\": \"scatter3d\"}, {\"name\": \"pareto-ish\", \"x\": [9.196227973487561, 7.554935235370545, 4.533330662181171, 4.301625713847673, 3.2016532566805473, 2.669605486548057], \"y\": [0.08289372870921259, 0.32192845619985583, 6.023129299002695, 2.0088825008593743, 6.354340022178383, 4.02360950987], \"z\": [0.0736510078221581, 1.3511700219364273, 2.4410084433391384, 3.267182273602211, 0.23598974769576486, 4.229708860198898], \"type\": \"scatter3d\"}]}, {\"data\": [{\"marker\": {\"color\": \"blue\", \"size\": 10}, \"mode\": \"markers\", \"name\": \"observed objectives\", \"x\": [4.533330662181171, 2.4151583196525395, 2.1283255170892517, 1.4815800626711841, 9.196227973487561, 4.301625713847673, 7.554935235370545, 3.2016532566805473, 2.669605486548057, 3.290226454059422], \"y\": [6.023129299002695, 0.7671039178360047, 1.5607918967456855, 1.2445939474149117, 0.08289372870921259, 2.0088825008593743, 0.32192845619985583, 6.354340022178383, 4.02360950987, 1.4550368992431406], \"z\": [2.4410084433391384, 0.5541846302305486, 0.002048308879315178, 2.8933867142398544, 0.0736510078221581, 3.267182273602211, 1.3511700219364273, 0.23598974769576486, 4.229708860198898, 0.8663738910873127], \"type\": \"scatter3d\"}, {\"name\": \"pareto-ish\", \"x\": [9.196227973487561, 7.554935235370545, 4.533330662181171, 4.301625713847673, 3.2016532566805473, 2.669605486548057], \"y\": [0.08289372870921259, 0.32192845619985583, 6.023129299002695, 2.0088825008593743, 6.354340022178383, 4.02360950987], \"z\": [0.0736510078221581, 1.3511700219364273, 2.4410084433391384, 3.267182273602211, 0.23598974769576486, 4.229708860198898], \"type\": \"scatter3d\"}]}, {\"data\": [{\"marker\": {\"color\": \"blue\", \"size\": 10}, \"mode\": \"markers\", \"name\": \"observed objectives\", \"x\": [4.533330662181171, 2.4151583196525395, 2.1283255170892517, 1.4815800626711841, 9.196227973487561, 4.301625713847673, 7.554935235370545, 3.2016532566805473, 2.669605486548057, 3.290226454059422, 0.23062815717408705], \"y\": [6.023129299002695, 0.7671039178360047, 1.5607918967456855, 1.2445939474149117, 0.08289372870921259, 2.0088825008593743, 0.32192845619985583, 6.354340022178383, 4.02360950987, 1.4550368992431406, 3.1432018210843973], \"z\": [2.4410084433391384, 0.5541846302305486, 0.002048308879315178, 2.8933867142398544, 0.0736510078221581, 3.267182273602211, 1.3511700219364273, 0.23598974769576486, 4.229708860198898, 0.8663738910873127, 1.4940621756311803], \"type\": \"scatter3d\"}, {\"name\": \"pareto-ish\", \"x\": [9.196227973487561, 7.554935235370545, 4.533330662181171, 4.301625713847673, 3.2016532566805473, 2.669605486548057], \"y\": [0.08289372870921259, 0.32192845619985583, 6.023129299002695, 2.0088825008593743, 6.354340022178383, 4.02360950987], \"z\": [0.0736510078221581, 1.3511700219364273, 2.4410084433391384, 3.267182273602211, 0.23598974769576486, 4.229708860198898], \"type\": \"scatter3d\"}]}, {\"data\": [{\"marker\": {\"color\": \"blue\", \"size\": 10}, \"mode\": \"markers\", \"name\": \"observed objectives\", \"x\": [4.533330662181171, 2.4151583196525395, 2.1283255170892517, 1.4815800626711841, 9.196227973487561, 4.301625713847673, 7.554935235370545, 3.2016532566805473, 2.669605486548057, 3.290226454059422, 0.23062815717408705, 2.6668070079912902], \"y\": [6.023129299002695, 0.7671039178360047, 1.5607918967456855, 1.2445939474149117, 0.08289372870921259, 2.0088825008593743, 0.32192845619985583, 6.354340022178383, 4.02360950987, 1.4550368992431406, 3.1432018210843973, 0.01859628617041176], \"z\": [2.4410084433391384, 0.5541846302305486, 0.002048308879315178, 2.8933867142398544, 0.0736510078221581, 3.267182273602211, 1.3511700219364273, 0.23598974769576486, 4.229708860198898, 0.8663738910873127, 1.4940621756311803, 0.03694410376614173], \"type\": \"scatter3d\"}, {\"name\": \"pareto-ish\", \"x\": [9.196227973487561, 7.554935235370545, 4.533330662181171, 4.301625713847673, 3.2016532566805473, 2.669605486548057], \"y\": [0.08289372870921259, 0.32192845619985583, 6.023129299002695, 2.0088825008593743, 6.354340022178383, 4.02360950987], \"z\": [0.0736510078221581, 1.3511700219364273, 2.4410084433391384, 3.267182273602211, 0.23598974769576486, 4.229708860198898], \"type\": \"scatter3d\"}]}, {\"data\": [{\"marker\": {\"color\": \"blue\", \"size\": 10}, \"mode\": \"markers\", \"name\": \"observed objectives\", \"x\": [4.533330662181171, 2.4151583196525395, 2.1283255170892517, 1.4815800626711841, 9.196227973487561, 4.301625713847673, 7.554935235370545, 3.2016532566805473, 2.669605486548057, 3.290226454059422, 0.23062815717408705, 2.6668070079912902, 3.477417321572958], \"y\": [6.023129299002695, 0.7671039178360047, 1.5607918967456855, 1.2445939474149117, 0.08289372870921259, 2.0088825008593743, 0.32192845619985583, 6.354340022178383, 4.02360950987, 1.4550368992431406, 3.1432018210843973, 0.01859628617041176, 2.35776294472259], \"z\": [2.4410084433391384, 0.5541846302305486, 0.002048308879315178, 2.8933867142398544, 0.0736510078221581, 3.267182273602211, 1.3511700219364273, 0.23598974769576486, 4.229708860198898, 0.8663738910873127, 1.4940621756311803, 0.03694410376614173, 6.728549997827893], \"type\": \"scatter3d\"}, {\"name\": \"pareto-ish\", \"x\": [9.196227973487561, 7.554935235370545, 4.533330662181171, 4.301625713847673, 3.477417321572958, 3.2016532566805473, 2.669605486548057], \"y\": [0.08289372870921259, 0.32192845619985583, 6.023129299002695, 2.0088825008593743, 2.35776294472259, 6.354340022178383, 4.02360950987], \"z\": [0.0736510078221581, 1.3511700219364273, 2.4410084433391384, 3.267182273602211, 6.728549997827893, 0.23598974769576486, 4.229708860198898], \"type\": \"scatter3d\"}]}, {\"data\": [{\"marker\": {\"color\": \"blue\", \"size\": 10}, \"mode\": \"markers\", \"name\": \"observed objectives\", \"x\": [4.533330662181171, 2.4151583196525395, 2.1283255170892517, 1.4815800626711841, 9.196227973487561, 4.301625713847673, 7.554935235370545, 3.2016532566805473, 2.669605486548057, 3.290226454059422, 0.23062815717408705, 2.6668070079912902, 3.477417321572958, 2.1570506668428604], \"y\": [6.023129299002695, 0.7671039178360047, 1.5607918967456855, 1.2445939474149117, 0.08289372870921259, 2.0088825008593743, 0.32192845619985583, 6.354340022178383, 4.02360950987, 1.4550368992431406, 3.1432018210843973, 0.01859628617041176, 2.35776294472259, 4.030939822007416], \"z\": [2.4410084433391384, 0.5541846302305486, 0.002048308879315178, 2.8933867142398544, 0.0736510078221581, 3.267182273602211, 1.3511700219364273, 0.23598974769576486, 4.229708860198898, 0.8663738910873127, 1.4940621756311803, 0.03694410376614173, 6.728549997827893, 6.911151465673739], \"type\": \"scatter3d\"}, {\"name\": \"pareto-ish\", \"x\": [9.196227973487561, 7.554935235370545, 4.533330662181171, 4.301625713847673, 3.477417321572958, 3.2016532566805473, 2.669605486548057, 2.1570506668428604], \"y\": [0.08289372870921259, 0.32192845619985583, 6.023129299002695, 2.0088825008593743, 2.35776294472259, 6.354340022178383, 4.02360950987, 4.030939822007416], \"z\": [0.0736510078221581, 1.3511700219364273, 2.4410084433391384, 3.267182273602211, 6.728549997827893, 0.23598974769576486, 4.229708860198898, 6.911151465673739], \"type\": \"scatter3d\"}]}, {\"data\": [{\"marker\": {\"color\": \"blue\", \"size\": 10}, \"mode\": \"markers\", \"name\": \"observed objectives\", \"x\": [4.533330662181171, 2.4151583196525395, 2.1283255170892517, 1.4815800626711841, 9.196227973487561, 4.301625713847673, 7.554935235370545, 3.2016532566805473, 2.669605486548057, 3.290226454059422, 0.23062815717408705, 2.6668070079912902, 3.477417321572958, 2.1570506668428604, 4.220754459010385], \"y\": [6.023129299002695, 0.7671039178360047, 1.5607918967456855, 1.2445939474149117, 0.08289372870921259, 2.0088825008593743, 0.32192845619985583, 6.354340022178383, 4.02360950987, 1.4550368992431406, 3.1432018210843973, 0.01859628617041176, 2.35776294472259, 4.030939822007416, 1.8940032221219165], \"z\": [2.4410084433391384, 0.5541846302305486, 0.002048308879315178, 2.8933867142398544, 0.0736510078221581, 3.267182273602211, 1.3511700219364273, 0.23598974769576486, 4.229708860198898, 0.8663738910873127, 1.4940621756311803, 0.03694410376614173, 6.728549997827893, 6.911151465673739, 6.694415141752299], \"type\": \"scatter3d\"}, {\"name\": \"pareto-ish\", \"x\": [9.196227973487561, 7.554935235370545, 4.533330662181171, 4.301625713847673, 4.220754459010385, 3.477417321572958, 3.2016532566805473, 2.669605486548057, 2.1570506668428604], \"y\": [0.08289372870921259, 0.32192845619985583, 6.023129299002695, 2.0088825008593743, 1.8940032221219165, 2.35776294472259, 6.354340022178383, 4.02360950987, 4.030939822007416], \"z\": [0.0736510078221581, 1.3511700219364273, 2.4410084433391384, 3.267182273602211, 6.694415141752299, 6.728549997827893, 0.23598974769576486, 4.229708860198898, 6.911151465673739], \"type\": \"scatter3d\"}]}, {\"data\": [{\"marker\": {\"color\": \"blue\", \"size\": 10}, \"mode\": \"markers\", \"name\": \"observed objectives\", \"x\": [4.533330662181171, 2.4151583196525395, 2.1283255170892517, 1.4815800626711841, 9.196227973487561, 4.301625713847673, 7.554935235370545, 3.2016532566805473, 2.669605486548057, 3.290226454059422, 0.23062815717408705, 2.6668070079912902, 3.477417321572958, 2.1570506668428604, 4.220754459010385, 3.7522644895974606], \"y\": [6.023129299002695, 0.7671039178360047, 1.5607918967456855, 1.2445939474149117, 0.08289372870921259, 2.0088825008593743, 0.32192845619985583, 6.354340022178383, 4.02360950987, 1.4550368992431406, 3.1432018210843973, 0.01859628617041176, 2.35776294472259, 4.030939822007416, 1.8940032221219165, 5.418401033601961], \"z\": [2.4410084433391384, 0.5541846302305486, 0.002048308879315178, 2.8933867142398544, 0.0736510078221581, 3.267182273602211, 1.3511700219364273, 0.23598974769576486, 4.229708860198898, 0.8663738910873127, 1.4940621756311803, 0.03694410376614173, 6.728549997827893, 6.911151465673739, 6.694415141752299, 6.349678942286682], \"type\": \"scatter3d\"}, {\"name\": \"pareto-ish\", \"x\": [9.196227973487561, 7.554935235370545, 4.533330662181171, 4.301625713847673, 4.220754459010385, 3.7522644895974606, 3.477417321572958, 3.2016532566805473, 2.1570506668428604], \"y\": [0.08289372870921259, 0.32192845619985583, 6.023129299002695, 2.0088825008593743, 1.8940032221219165, 5.418401033601961, 2.35776294472259, 6.354340022178383, 4.030939822007416], \"z\": [0.0736510078221581, 1.3511700219364273, 2.4410084433391384, 3.267182273602211, 6.694415141752299, 6.349678942286682, 6.728549997827893, 0.23598974769576486, 6.911151465673739], \"type\": \"scatter3d\"}]}, {\"data\": [{\"marker\": {\"color\": \"blue\", \"size\": 10}, \"mode\": \"markers\", \"name\": \"observed objectives\", \"x\": [4.533330662181171, 2.4151583196525395, 2.1283255170892517, 1.4815800626711841, 9.196227973487561, 4.301625713847673, 7.554935235370545, 3.2016532566805473, 2.669605486548057, 3.290226454059422, 0.23062815717408705, 2.6668070079912902, 3.477417321572958, 2.1570506668428604, 4.220754459010385, 3.7522644895974606, 6.81541844603797], \"y\": [6.023129299002695, 0.7671039178360047, 1.5607918967456855, 1.2445939474149117, 0.08289372870921259, 2.0088825008593743, 0.32192845619985583, 6.354340022178383, 4.02360950987, 1.4550368992431406, 3.1432018210843973, 0.01859628617041176, 2.35776294472259, 4.030939822007416, 1.8940032221219165, 5.418401033601961, 2.841776305584818], \"z\": [2.4410084433391384, 0.5541846302305486, 0.002048308879315178, 2.8933867142398544, 0.0736510078221581, 3.267182273602211, 1.3511700219364273, 0.23598974769576486, 4.229708860198898, 0.8663738910873127, 1.4940621756311803, 0.03694410376614173, 6.728549997827893, 6.911151465673739, 6.694415141752299, 6.349678942286682, 2.7645283935594986], \"type\": \"scatter3d\"}, {\"name\": \"pareto-ish\", \"x\": [9.196227973487561, 7.554935235370545, 6.81541844603797, 4.533330662181171, 4.301625713847673, 4.220754459010385, 3.7522644895974606, 3.477417321572958, 3.2016532566805473, 2.1570506668428604], \"y\": [0.08289372870921259, 0.32192845619985583, 2.841776305584818, 6.023129299002695, 2.0088825008593743, 1.8940032221219165, 5.418401033601961, 2.35776294472259, 6.354340022178383, 4.030939822007416], \"z\": [0.0736510078221581, 1.3511700219364273, 2.7645283935594986, 2.4410084433391384, 3.267182273602211, 6.694415141752299, 6.349678942286682, 6.728549997827893, 0.23598974769576486, 6.911151465673739], \"type\": \"scatter3d\"}]}, {\"data\": [{\"marker\": {\"color\": \"blue\", \"size\": 10}, \"mode\": \"markers\", \"name\": \"observed objectives\", \"x\": [4.533330662181171, 2.4151583196525395, 2.1283255170892517, 1.4815800626711841, 9.196227973487561, 4.301625713847673, 7.554935235370545, 3.2016532566805473, 2.669605486548057, 3.290226454059422, 0.23062815717408705, 2.6668070079912902, 3.477417321572958, 2.1570506668428604, 4.220754459010385, 3.7522644895974606, 6.81541844603797, 8.599624691401939], \"y\": [6.023129299002695, 0.7671039178360047, 1.5607918967456855, 1.2445939474149117, 0.08289372870921259, 2.0088825008593743, 0.32192845619985583, 6.354340022178383, 4.02360950987, 1.4550368992431406, 3.1432018210843973, 0.01859628617041176, 2.35776294472259, 4.030939822007416, 1.8940032221219165, 5.418401033601961, 2.841776305584818, 1.3257708655322125], \"z\": [2.4410084433391384, 0.5541846302305486, 0.002048308879315178, 2.8933867142398544, 0.0736510078221581, 3.267182273602211, 1.3511700219364273, 0.23598974769576486, 4.229708860198898, 0.8663738910873127, 1.4940621756311803, 0.03694410376614173, 6.728549997827893, 6.911151465673739, 6.694415141752299, 6.349678942286682, 2.7645283935594986, 0.46079265848178746], \"type\": \"scatter3d\"}, {\"name\": \"pareto-ish\", \"x\": [9.196227973487561, 8.599624691401939, 7.554935235370545, 6.81541844603797, 4.533330662181171, 4.301625713847673, 4.220754459010385, 3.7522644895974606, 3.477417321572958, 3.2016532566805473, 2.1570506668428604], \"y\": [0.08289372870921259, 1.3257708655322125, 0.32192845619985583, 2.841776305584818, 6.023129299002695, 2.0088825008593743, 1.8940032221219165, 5.418401033601961, 2.35776294472259, 6.354340022178383, 4.030939822007416], \"z\": [0.0736510078221581, 0.46079265848178746, 1.3511700219364273, 2.7645283935594986, 2.4410084433391384, 3.267182273602211, 6.694415141752299, 6.349678942286682, 6.728549997827893, 0.23598974769576486, 6.911151465673739], \"type\": \"scatter3d\"}]}, {\"data\": [{\"marker\": {\"color\": \"blue\", \"size\": 10}, \"mode\": \"markers\", \"name\": \"observed objectives\", \"x\": [4.533330662181171, 2.4151583196525395, 2.1283255170892517, 1.4815800626711841, 9.196227973487561, 4.301625713847673, 7.554935235370545, 3.2016532566805473, 2.669605486548057, 3.290226454059422, 0.23062815717408705, 2.6668070079912902, 3.477417321572958, 2.1570506668428604, 4.220754459010385, 3.7522644895974606, 6.81541844603797, 8.599624691401939, 0.622673432467017], \"y\": [6.023129299002695, 0.7671039178360047, 1.5607918967456855, 1.2445939474149117, 0.08289372870921259, 2.0088825008593743, 0.32192845619985583, 6.354340022178383, 4.02360950987, 1.4550368992431406, 3.1432018210843973, 0.01859628617041176, 2.35776294472259, 4.030939822007416, 1.8940032221219165, 5.418401033601961, 2.841776305584818, 1.3257708655322125, 0.2778062499877374], \"z\": [2.4410084433391384, 0.5541846302305486, 0.002048308879315178, 2.8933867142398544, 0.0736510078221581, 3.267182273602211, 1.3511700219364273, 0.23598974769576486, 4.229708860198898, 0.8663738910873127, 1.4940621756311803, 0.03694410376614173, 6.728549997827893, 6.911151465673739, 6.694415141752299, 6.349678942286682, 2.7645283935594986, 0.46079265848178746, 0.51826935741091], \"type\": \"scatter3d\"}, {\"name\": \"pareto-ish\", \"x\": [9.196227973487561, 8.599624691401939, 7.554935235370545, 6.81541844603797, 4.533330662181171, 4.301625713847673, 4.220754459010385, 3.7522644895974606, 3.477417321572958, 3.2016532566805473, 2.1570506668428604], \"y\": [0.08289372870921259, 1.3257708655322125, 0.32192845619985583, 2.841776305584818, 6.023129299002695, 2.0088825008593743, 1.8940032221219165, 5.418401033601961, 2.35776294472259, 6.354340022178383, 4.030939822007416], \"z\": [0.0736510078221581, 0.46079265848178746, 1.3511700219364273, 2.7645283935594986, 2.4410084433391384, 3.267182273602211, 6.694415141752299, 6.349678942286682, 6.728549997827893, 0.23598974769576486, 6.911151465673739], \"type\": \"scatter3d\"}]}, {\"data\": [{\"marker\": {\"color\": \"blue\", \"size\": 10}, \"mode\": \"markers\", \"name\": \"observed objectives\", \"x\": [4.533330662181171, 2.4151583196525395, 2.1283255170892517, 1.4815800626711841, 9.196227973487561, 4.301625713847673, 7.554935235370545, 3.2016532566805473, 2.669605486548057, 3.290226454059422, 0.23062815717408705, 2.6668070079912902, 3.477417321572958, 2.1570506668428604, 4.220754459010385, 3.7522644895974606, 6.81541844603797, 8.599624691401939, 0.622673432467017, 2.1962236775542685], \"y\": [6.023129299002695, 0.7671039178360047, 1.5607918967456855, 1.2445939474149117, 0.08289372870921259, 2.0088825008593743, 0.32192845619985583, 6.354340022178383, 4.02360950987, 1.4550368992431406, 3.1432018210843973, 0.01859628617041176, 2.35776294472259, 4.030939822007416, 1.8940032221219165, 5.418401033601961, 2.841776305584818, 1.3257708655322125, 0.2778062499877374, 2.9317772131818844], \"z\": [2.4410084433391384, 0.5541846302305486, 0.002048308879315178, 2.8933867142398544, 0.0736510078221581, 3.267182273602211, 1.3511700219364273, 0.23598974769576486, 4.229708860198898, 0.8663738910873127, 1.4940621756311803, 0.03694410376614173, 6.728549997827893, 6.911151465673739, 6.694415141752299, 6.349678942286682, 2.7645283935594986, 0.46079265848178746, 0.51826935741091, 6.915297296223086], \"type\": \"scatter3d\"}, {\"name\": \"pareto-ish\", \"x\": [9.196227973487561, 8.599624691401939, 7.554935235370545, 6.81541844603797, 4.533330662181171, 4.301625713847673, 4.220754459010385, 3.7522644895974606, 3.477417321572958, 3.2016532566805473, 2.1962236775542685, 2.1570506668428604], \"y\": [0.08289372870921259, 1.3257708655322125, 0.32192845619985583, 2.841776305584818, 6.023129299002695, 2.0088825008593743, 1.8940032221219165, 5.418401033601961, 2.35776294472259, 6.354340022178383, 2.9317772131818844, 4.030939822007416], \"z\": [0.0736510078221581, 0.46079265848178746, 1.3511700219364273, 2.7645283935594986, 2.4410084433391384, 3.267182273602211, 6.694415141752299, 6.349678942286682, 6.728549997827893, 0.23598974769576486, 6.915297296223086, 6.911151465673739], \"type\": \"scatter3d\"}]}, {\"data\": [{\"marker\": {\"color\": \"blue\", \"size\": 10}, \"mode\": \"markers\", \"name\": \"observed objectives\", \"x\": [4.533330662181171, 2.4151583196525395, 2.1283255170892517, 1.4815800626711841, 9.196227973487561, 4.301625713847673, 7.554935235370545, 3.2016532566805473, 2.669605486548057, 3.290226454059422, 0.23062815717408705, 2.6668070079912902, 3.477417321572958, 2.1570506668428604, 4.220754459010385, 3.7522644895974606, 6.81541844603797, 8.599624691401939, 0.622673432467017, 2.1962236775542685, 0.47562868592402335], \"y\": [6.023129299002695, 0.7671039178360047, 1.5607918967456855, 1.2445939474149117, 0.08289372870921259, 2.0088825008593743, 0.32192845619985583, 6.354340022178383, 4.02360950987, 1.4550368992431406, 3.1432018210843973, 0.01859628617041176, 2.35776294472259, 4.030939822007416, 1.8940032221219165, 5.418401033601961, 2.841776305584818, 1.3257708655322125, 0.2778062499877374, 2.9317772131818844, 6.541486299713317], \"z\": [2.4410084433391384, 0.5541846302305486, 0.002048308879315178, 2.8933867142398544, 0.0736510078221581, 3.267182273602211, 1.3511700219364273, 0.23598974769576486, 4.229708860198898, 0.8663738910873127, 1.4940621756311803, 0.03694410376614173, 6.728549997827893, 6.911151465673739, 6.694415141752299, 6.349678942286682, 2.7645283935594986, 0.46079265848178746, 0.51826935741091, 6.915297296223086, 1.817024894002964], \"type\": \"scatter3d\"}, {\"name\": \"pareto-ish\", \"x\": [9.196227973487561, 8.599624691401939, 7.554935235370545, 6.81541844603797, 4.533330662181171, 4.301625713847673, 4.220754459010385, 3.7522644895974606, 3.477417321572958, 3.2016532566805473, 2.1962236775542685, 2.1570506668428604, 0.47562868592402335], \"y\": [0.08289372870921259, 1.3257708655322125, 0.32192845619985583, 2.841776305584818, 6.023129299002695, 2.0088825008593743, 1.8940032221219165, 5.418401033601961, 2.35776294472259, 6.354340022178383, 2.9317772131818844, 4.030939822007416, 6.541486299713317], \"z\": [0.0736510078221581, 0.46079265848178746, 1.3511700219364273, 2.7645283935594986, 2.4410084433391384, 3.267182273602211, 6.694415141752299, 6.349678942286682, 6.728549997827893, 0.23598974769576486, 6.915297296223086, 6.911151465673739, 1.817024894002964], \"type\": \"scatter3d\"}]}, {\"data\": [{\"marker\": {\"color\": \"blue\", \"size\": 10}, \"mode\": \"markers\", \"name\": \"observed objectives\", \"x\": [4.533330662181171, 2.4151583196525395, 2.1283255170892517, 1.4815800626711841, 9.196227973487561, 4.301625713847673, 7.554935235370545, 3.2016532566805473, 2.669605486548057, 3.290226454059422, 0.23062815717408705, 2.6668070079912902, 3.477417321572958, 2.1570506668428604, 4.220754459010385, 3.7522644895974606, 6.81541844603797, 8.599624691401939, 0.622673432467017, 2.1962236775542685, 0.47562868592402335, 5.975238918598476], \"y\": [6.023129299002695, 0.7671039178360047, 1.5607918967456855, 1.2445939474149117, 0.08289372870921259, 2.0088825008593743, 0.32192845619985583, 6.354340022178383, 4.02360950987, 1.4550368992431406, 3.1432018210843973, 0.01859628617041176, 2.35776294472259, 4.030939822007416, 1.8940032221219165, 5.418401033601961, 2.841776305584818, 1.3257708655322125, 0.2778062499877374, 2.9317772131818844, 6.541486299713317, 2.3825939650012837], \"z\": [2.4410084433391384, 0.5541846302305486, 0.002048308879315178, 2.8933867142398544, 0.0736510078221581, 3.267182273602211, 1.3511700219364273, 0.23598974769576486, 4.229708860198898, 0.8663738910873127, 1.4940621756311803, 0.03694410376614173, 6.728549997827893, 6.911151465673739, 6.694415141752299, 6.349678942286682, 2.7645283935594986, 0.46079265848178746, 0.51826935741091, 6.915297296223086, 1.817024894002964, 2.1449031543310646], \"type\": \"scatter3d\"}, {\"name\": \"pareto-ish\", \"x\": [9.196227973487561, 8.599624691401939, 7.554935235370545, 6.81541844603797, 4.533330662181171, 4.301625713847673, 4.220754459010385, 3.7522644895974606, 3.477417321572958, 3.2016532566805473, 2.1962236775542685, 2.1570506668428604, 0.47562868592402335], \"y\": [0.08289372870921259, 1.3257708655322125, 0.32192845619985583, 2.841776305584818, 6.023129299002695, 2.0088825008593743, 1.8940032221219165, 5.418401033601961, 2.35776294472259, 6.354340022178383, 2.9317772131818844, 4.030939822007416, 6.541486299713317], \"z\": [0.0736510078221581, 0.46079265848178746, 1.3511700219364273, 2.7645283935594986, 2.4410084433391384, 3.267182273602211, 6.694415141752299, 6.349678942286682, 6.728549997827893, 0.23598974769576486, 6.915297296223086, 6.911151465673739, 1.817024894002964], \"type\": \"scatter3d\"}]}, {\"data\": [{\"marker\": {\"color\": \"blue\", \"size\": 10}, \"mode\": \"markers\", \"name\": \"observed objectives\", \"x\": [4.533330662181171, 2.4151583196525395, 2.1283255170892517, 1.4815800626711841, 9.196227973487561, 4.301625713847673, 7.554935235370545, 3.2016532566805473, 2.669605486548057, 3.290226454059422, 0.23062815717408705, 2.6668070079912902, 3.477417321572958, 2.1570506668428604, 4.220754459010385, 3.7522644895974606, 6.81541844603797, 8.599624691401939, 0.622673432467017, 2.1962236775542685, 0.47562868592402335, 5.975238918598476, 0.16693252839402903], \"y\": [6.023129299002695, 0.7671039178360047, 1.5607918967456855, 1.2445939474149117, 0.08289372870921259, 2.0088825008593743, 0.32192845619985583, 6.354340022178383, 4.02360950987, 1.4550368992431406, 3.1432018210843973, 0.01859628617041176, 2.35776294472259, 4.030939822007416, 1.8940032221219165, 5.418401033601961, 2.841776305584818, 1.3257708655322125, 0.2778062499877374, 2.9317772131818844, 6.541486299713317, 2.3825939650012837, 1.8236198181456764], \"z\": [2.4410084433391384, 0.5541846302305486, 0.002048308879315178, 2.8933867142398544, 0.0736510078221581, 3.267182273602211, 1.3511700219364273, 0.23598974769576486, 4.229708860198898, 0.8663738910873127, 1.4940621756311803, 0.03694410376614173, 6.728549997827893, 6.911151465673739, 6.694415141752299, 6.349678942286682, 2.7645283935594986, 0.46079265848178746, 0.51826935741091, 6.915297296223086, 1.817024894002964, 2.1449031543310646, 2.4375961439955227], \"type\": \"scatter3d\"}, {\"name\": \"pareto-ish\", \"x\": [9.196227973487561, 8.599624691401939, 7.554935235370545, 6.81541844603797, 4.533330662181171, 4.301625713847673, 4.220754459010385, 3.7522644895974606, 3.477417321572958, 3.2016532566805473, 2.1962236775542685, 2.1570506668428604, 0.47562868592402335], \"y\": [0.08289372870921259, 1.3257708655322125, 0.32192845619985583, 2.841776305584818, 6.023129299002695, 2.0088825008593743, 1.8940032221219165, 5.418401033601961, 2.35776294472259, 6.354340022178383, 2.9317772131818844, 4.030939822007416, 6.541486299713317], \"z\": [0.0736510078221581, 0.46079265848178746, 1.3511700219364273, 2.7645283935594986, 2.4410084433391384, 3.267182273602211, 6.694415141752299, 6.349678942286682, 6.728549997827893, 0.23598974769576486, 6.915297296223086, 6.911151465673739, 1.817024894002964], \"type\": \"scatter3d\"}]}, {\"data\": [{\"marker\": {\"color\": \"blue\", \"size\": 10}, \"mode\": \"markers\", \"name\": \"observed objectives\", \"x\": [4.533330662181171, 2.4151583196525395, 2.1283255170892517, 1.4815800626711841, 9.196227973487561, 4.301625713847673, 7.554935235370545, 3.2016532566805473, 2.669605486548057, 3.290226454059422, 0.23062815717408705, 2.6668070079912902, 3.477417321572958, 2.1570506668428604, 4.220754459010385, 3.7522644895974606, 6.81541844603797, 8.599624691401939, 0.622673432467017, 2.1962236775542685, 0.47562868592402335, 5.975238918598476, 0.16693252839402903, 0.3010093942557814], \"y\": [6.023129299002695, 0.7671039178360047, 1.5607918967456855, 1.2445939474149117, 0.08289372870921259, 2.0088825008593743, 0.32192845619985583, 6.354340022178383, 4.02360950987, 1.4550368992431406, 3.1432018210843973, 0.01859628617041176, 2.35776294472259, 4.030939822007416, 1.8940032221219165, 5.418401033601961, 2.841776305584818, 1.3257708655322125, 0.2778062499877374, 2.9317772131818844, 6.541486299713317, 2.3825939650012837, 1.8236198181456764, 8.28230528118895], \"z\": [2.4410084433391384, 0.5541846302305486, 0.002048308879315178, 2.8933867142398544, 0.0736510078221581, 3.267182273602211, 1.3511700219364273, 0.23598974769576486, 4.229708860198898, 0.8663738910873127, 1.4940621756311803, 0.03694410376614173, 6.728549997827893, 6.911151465673739, 6.694415141752299, 6.349678942286682, 2.7645283935594986, 0.46079265848178746, 0.51826935741091, 6.915297296223086, 1.817024894002964, 2.1449031543310646, 2.4375961439955227, 5.399726859580242], \"type\": \"scatter3d\"}, {\"name\": \"pareto-ish\", \"x\": [9.196227973487561, 8.599624691401939, 7.554935235370545, 6.81541844603797, 4.533330662181171, 4.301625713847673, 4.220754459010385, 3.7522644895974606, 3.477417321572958, 3.2016532566805473, 2.1962236775542685, 2.1570506668428604, 0.47562868592402335, 0.3010093942557814], \"y\": [0.08289372870921259, 1.3257708655322125, 0.32192845619985583, 2.841776305584818, 6.023129299002695, 2.0088825008593743, 1.8940032221219165, 5.418401033601961, 2.35776294472259, 6.354340022178383, 2.9317772131818844, 4.030939822007416, 6.541486299713317, 8.28230528118895], \"z\": [0.0736510078221581, 0.46079265848178746, 1.3511700219364273, 2.7645283935594986, 2.4410084433391384, 3.267182273602211, 6.694415141752299, 6.349678942286682, 6.728549997827893, 0.23598974769576486, 6.915297296223086, 6.911151465673739, 1.817024894002964, 5.399726859580242], \"type\": \"scatter3d\"}]}, {\"data\": [{\"marker\": {\"color\": \"blue\", \"size\": 10}, \"mode\": \"markers\", \"name\": \"observed objectives\", \"x\": [4.533330662181171, 2.4151583196525395, 2.1283255170892517, 1.4815800626711841, 9.196227973487561, 4.301625713847673, 7.554935235370545, 3.2016532566805473, 2.669605486548057, 3.290226454059422, 0.23062815717408705, 2.6668070079912902, 3.477417321572958, 2.1570506668428604, 4.220754459010385, 3.7522644895974606, 6.81541844603797, 8.599624691401939, 0.622673432467017, 2.1962236775542685, 0.47562868592402335, 5.975238918598476, 0.16693252839402903, 0.3010093942557814, 1.479890373082284], \"y\": [6.023129299002695, 0.7671039178360047, 1.5607918967456855, 1.2445939474149117, 0.08289372870921259, 2.0088825008593743, 0.32192845619985583, 6.354340022178383, 4.02360950987, 1.4550368992431406, 3.1432018210843973, 0.01859628617041176, 2.35776294472259, 4.030939822007416, 1.8940032221219165, 5.418401033601961, 2.841776305584818, 1.3257708655322125, 0.2778062499877374, 2.9317772131818844, 6.541486299713317, 2.3825939650012837, 1.8236198181456764, 8.28230528118895, 6.9881516963852945], \"z\": [2.4410084433391384, 0.5541846302305486, 0.002048308879315178, 2.8933867142398544, 0.0736510078221581, 3.267182273602211, 1.3511700219364273, 0.23598974769576486, 4.229708860198898, 0.8663738910873127, 1.4940621756311803, 0.03694410376614173, 6.728549997827893, 6.911151465673739, 6.694415141752299, 6.349678942286682, 2.7645283935594986, 0.46079265848178746, 0.51826935741091, 6.915297296223086, 1.817024894002964, 2.1449031543310646, 2.4375961439955227, 5.399726859580242, 2.5026337132831546], \"type\": \"scatter3d\"}, {\"name\": \"pareto-ish\", \"x\": [9.196227973487561, 8.599624691401939, 7.554935235370545, 6.81541844603797, 4.533330662181171, 4.301625713847673, 4.220754459010385, 3.7522644895974606, 3.477417321572958, 3.2016532566805473, 2.1962236775542685, 2.1570506668428604, 1.479890373082284, 0.3010093942557814], \"y\": [0.08289372870921259, 1.3257708655322125, 0.32192845619985583, 2.841776305584818, 6.023129299002695, 2.0088825008593743, 1.8940032221219165, 5.418401033601961, 2.35776294472259, 6.354340022178383, 2.9317772131818844, 4.030939822007416, 6.9881516963852945, 8.28230528118895], \"z\": [0.0736510078221581, 0.46079265848178746, 1.3511700219364273, 2.7645283935594986, 2.4410084433391384, 3.267182273602211, 6.694415141752299, 6.349678942286682, 6.728549997827893, 0.23598974769576486, 6.915297296223086, 6.911151465673739, 2.5026337132831546, 5.399726859580242], \"type\": \"scatter3d\"}]}, {\"data\": [{\"marker\": {\"color\": \"blue\", \"size\": 10}, \"mode\": \"markers\", \"name\": \"observed objectives\", \"x\": [4.533330662181171, 2.4151583196525395, 2.1283255170892517, 1.4815800626711841, 9.196227973487561, 4.301625713847673, 7.554935235370545, 3.2016532566805473, 2.669605486548057, 3.290226454059422, 0.23062815717408705, 2.6668070079912902, 3.477417321572958, 2.1570506668428604, 4.220754459010385, 3.7522644895974606, 6.81541844603797, 8.599624691401939, 0.622673432467017, 2.1962236775542685, 0.47562868592402335, 5.975238918598476, 0.16693252839402903, 0.3010093942557814, 1.479890373082284, 0.9411187080604859], \"y\": [6.023129299002695, 0.7671039178360047, 1.5607918967456855, 1.2445939474149117, 0.08289372870921259, 2.0088825008593743, 0.32192845619985583, 6.354340022178383, 4.02360950987, 1.4550368992431406, 3.1432018210843973, 0.01859628617041176, 2.35776294472259, 4.030939822007416, 1.8940032221219165, 5.418401033601961, 2.841776305584818, 1.3257708655322125, 0.2778062499877374, 2.9317772131818844, 6.541486299713317, 2.3825939650012837, 1.8236198181456764, 8.28230528118895, 6.9881516963852945, 0.07202157111747888], \"z\": [2.4410084433391384, 0.5541846302305486, 0.002048308879315178, 2.8933867142398544, 0.0736510078221581, 3.267182273602211, 1.3511700219364273, 0.23598974769576486, 4.229708860198898, 0.8663738910873127, 1.4940621756311803, 0.03694410376614173, 6.728549997827893, 6.911151465673739, 6.694415141752299, 6.349678942286682, 2.7645283935594986, 0.46079265848178746, 0.51826935741091, 6.915297296223086, 1.817024894002964, 2.1449031543310646, 2.4375961439955227, 5.399726859580242, 2.5026337132831546, 0.6274897434812922], \"type\": \"scatter3d\"}, {\"name\": \"pareto-ish\", \"x\": [9.196227973487561, 8.599624691401939, 7.554935235370545, 6.81541844603797, 4.533330662181171, 4.301625713847673, 4.220754459010385, 3.7522644895974606, 3.477417321572958, 3.2016532566805473, 2.1962236775542685, 2.1570506668428604, 1.479890373082284, 0.3010093942557814], \"y\": [0.08289372870921259, 1.3257708655322125, 0.32192845619985583, 2.841776305584818, 6.023129299002695, 2.0088825008593743, 1.8940032221219165, 5.418401033601961, 2.35776294472259, 6.354340022178383, 2.9317772131818844, 4.030939822007416, 6.9881516963852945, 8.28230528118895], \"z\": [0.0736510078221581, 0.46079265848178746, 1.3511700219364273, 2.7645283935594986, 2.4410084433391384, 3.267182273602211, 6.694415141752299, 6.349678942286682, 6.728549997827893, 0.23598974769576486, 6.915297296223086, 6.911151465673739, 2.5026337132831546, 5.399726859580242], \"type\": \"scatter3d\"}]}, {\"data\": [{\"marker\": {\"color\": \"blue\", \"size\": 10}, \"mode\": \"markers\", \"name\": \"observed objectives\", \"x\": [4.533330662181171, 2.4151583196525395, 2.1283255170892517, 1.4815800626711841, 9.196227973487561, 4.301625713847673, 7.554935235370545, 3.2016532566805473, 2.669605486548057, 3.290226454059422, 0.23062815717408705, 2.6668070079912902, 3.477417321572958, 2.1570506668428604, 4.220754459010385, 3.7522644895974606, 6.81541844603797, 8.599624691401939, 0.622673432467017, 2.1962236775542685, 0.47562868592402335, 5.975238918598476, 0.16693252839402903, 0.3010093942557814, 1.479890373082284, 0.9411187080604859, 0.5911236177696302], \"y\": [6.023129299002695, 0.7671039178360047, 1.5607918967456855, 1.2445939474149117, 0.08289372870921259, 2.0088825008593743, 0.32192845619985583, 6.354340022178383, 4.02360950987, 1.4550368992431406, 3.1432018210843973, 0.01859628617041176, 2.35776294472259, 4.030939822007416, 1.8940032221219165, 5.418401033601961, 2.841776305584818, 1.3257708655322125, 0.2778062499877374, 2.9317772131818844, 6.541486299713317, 2.3825939650012837, 1.8236198181456764, 8.28230528118895, 6.9881516963852945, 0.07202157111747888, 2.7157293114400294], \"z\": [2.4410084433391384, 0.5541846302305486, 0.002048308879315178, 2.8933867142398544, 0.0736510078221581, 3.267182273602211, 1.3511700219364273, 0.23598974769576486, 4.229708860198898, 0.8663738910873127, 1.4940621756311803, 0.03694410376614173, 6.728549997827893, 6.911151465673739, 6.694415141752299, 6.349678942286682, 2.7645283935594986, 0.46079265848178746, 0.51826935741091, 6.915297296223086, 1.817024894002964, 2.1449031543310646, 2.4375961439955227, 5.399726859580242, 2.5026337132831546, 0.6274897434812922, 1.225415016933717], \"type\": \"scatter3d\"}, {\"name\": \"pareto-ish\", \"x\": [9.196227973487561, 8.599624691401939, 7.554935235370545, 6.81541844603797, 4.533330662181171, 4.301625713847673, 4.220754459010385, 3.7522644895974606, 3.477417321572958, 3.2016532566805473, 2.1962236775542685, 2.1570506668428604, 1.479890373082284, 0.3010093942557814], \"y\": [0.08289372870921259, 1.3257708655322125, 0.32192845619985583, 2.841776305584818, 6.023129299002695, 2.0088825008593743, 1.8940032221219165, 5.418401033601961, 2.35776294472259, 6.354340022178383, 2.9317772131818844, 4.030939822007416, 6.9881516963852945, 8.28230528118895], \"z\": [0.0736510078221581, 0.46079265848178746, 1.3511700219364273, 2.7645283935594986, 2.4410084433391384, 3.267182273602211, 6.694415141752299, 6.349678942286682, 6.728549997827893, 0.23598974769576486, 6.915297296223086, 6.911151465673739, 2.5026337132831546, 5.399726859580242], \"type\": \"scatter3d\"}]}, {\"data\": [{\"marker\": {\"color\": \"blue\", \"size\": 10}, \"mode\": \"markers\", \"name\": \"observed objectives\", \"x\": [4.533330662181171, 2.4151583196525395, 2.1283255170892517, 1.4815800626711841, 9.196227973487561, 4.301625713847673, 7.554935235370545, 3.2016532566805473, 2.669605486548057, 3.290226454059422, 0.23062815717408705, 2.6668070079912902, 3.477417321572958, 2.1570506668428604, 4.220754459010385, 3.7522644895974606, 6.81541844603797, 8.599624691401939, 0.622673432467017, 2.1962236775542685, 0.47562868592402335, 5.975238918598476, 0.16693252839402903, 0.3010093942557814, 1.479890373082284, 0.9411187080604859, 0.5911236177696302, 2.1703750680962006], \"y\": [6.023129299002695, 0.7671039178360047, 1.5607918967456855, 1.2445939474149117, 0.08289372870921259, 2.0088825008593743, 0.32192845619985583, 6.354340022178383, 4.02360950987, 1.4550368992431406, 3.1432018210843973, 0.01859628617041176, 2.35776294472259, 4.030939822007416, 1.8940032221219165, 5.418401033601961, 2.841776305584818, 1.3257708655322125, 0.2778062499877374, 2.9317772131818844, 6.541486299713317, 2.3825939650012837, 1.8236198181456764, 8.28230528118895, 6.9881516963852945, 0.07202157111747888, 2.7157293114400294, 7.765957579808052], \"z\": [2.4410084433391384, 0.5541846302305486, 0.002048308879315178, 2.8933867142398544, 0.0736510078221581, 3.267182273602211, 1.3511700219364273, 0.23598974769576486, 4.229708860198898, 0.8663738910873127, 1.4940621756311803, 0.03694410376614173, 6.728549997827893, 6.911151465673739, 6.694415141752299, 6.349678942286682, 2.7645283935594986, 0.46079265848178746, 0.51826935741091, 6.915297296223086, 1.817024894002964, 2.1449031543310646, 2.4375961439955227, 5.399726859580242, 2.5026337132831546, 0.6274897434812922, 1.225415016933717, 2.6594195140127512], \"type\": \"scatter3d\"}, {\"name\": \"pareto-ish\", \"x\": [9.196227973487561, 8.599624691401939, 7.554935235370545, 6.81541844603797, 4.533330662181171, 4.301625713847673, 4.220754459010385, 3.7522644895974606, 3.477417321572958, 3.2016532566805473, 2.1962236775542685, 2.1703750680962006, 2.1570506668428604, 0.3010093942557814], \"y\": [0.08289372870921259, 1.3257708655322125, 0.32192845619985583, 2.841776305584818, 6.023129299002695, 2.0088825008593743, 1.8940032221219165, 5.418401033601961, 2.35776294472259, 6.354340022178383, 2.9317772131818844, 7.765957579808052, 4.030939822007416, 8.28230528118895], \"z\": [0.0736510078221581, 0.46079265848178746, 1.3511700219364273, 2.7645283935594986, 2.4410084433391384, 3.267182273602211, 6.694415141752299, 6.349678942286682, 6.728549997827893, 0.23598974769576486, 6.915297296223086, 2.6594195140127512, 6.911151465673739, 5.399726859580242], \"type\": \"scatter3d\"}]}, {\"data\": [{\"marker\": {\"color\": \"blue\", \"size\": 10}, \"mode\": \"markers\", \"name\": \"observed objectives\", \"x\": [4.533330662181171, 2.4151583196525395, 2.1283255170892517, 1.4815800626711841, 9.196227973487561, 4.301625713847673, 7.554935235370545, 3.2016532566805473, 2.669605486548057, 3.290226454059422, 0.23062815717408705, 2.6668070079912902, 3.477417321572958, 2.1570506668428604, 4.220754459010385, 3.7522644895974606, 6.81541844603797, 8.599624691401939, 0.622673432467017, 2.1962236775542685, 0.47562868592402335, 5.975238918598476, 0.16693252839402903, 0.3010093942557814, 1.479890373082284, 0.9411187080604859, 0.5911236177696302, 2.1703750680962006, 1.4869815809793518], \"y\": [6.023129299002695, 0.7671039178360047, 1.5607918967456855, 1.2445939474149117, 0.08289372870921259, 2.0088825008593743, 0.32192845619985583, 6.354340022178383, 4.02360950987, 1.4550368992431406, 3.1432018210843973, 0.01859628617041176, 2.35776294472259, 4.030939822007416, 1.8940032221219165, 5.418401033601961, 2.841776305584818, 1.3257708655322125, 0.2778062499877374, 2.9317772131818844, 6.541486299713317, 2.3825939650012837, 1.8236198181456764, 8.28230528118895, 6.9881516963852945, 0.07202157111747888, 2.7157293114400294, 7.765957579808052, 4.407139135868046], \"z\": [2.4410084433391384, 0.5541846302305486, 0.002048308879315178, 2.8933867142398544, 0.0736510078221581, 3.267182273602211, 1.3511700219364273, 0.23598974769576486, 4.229708860198898, 0.8663738910873127, 1.4940621756311803, 0.03694410376614173, 6.728549997827893, 6.911151465673739, 6.694415141752299, 6.349678942286682, 2.7645283935594986, 0.46079265848178746, 0.51826935741091, 6.915297296223086, 1.817024894002964, 2.1449031543310646, 2.4375961439955227, 5.399726859580242, 2.5026337132831546, 0.6274897434812922, 1.225415016933717, 2.6594195140127512, 2.3827768360554407], \"type\": \"scatter3d\"}, {\"name\": \"pareto-ish\", \"x\": [9.196227973487561, 8.599624691401939, 7.554935235370545, 6.81541844603797, 4.533330662181171, 4.301625713847673, 4.220754459010385, 3.7522644895974606, 3.477417321572958, 3.2016532566805473, 2.1962236775542685, 2.1703750680962006, 2.1570506668428604, 0.3010093942557814], \"y\": [0.08289372870921259, 1.3257708655322125, 0.32192845619985583, 2.841776305584818, 6.023129299002695, 2.0088825008593743, 1.8940032221219165, 5.418401033601961, 2.35776294472259, 6.354340022178383, 2.9317772131818844, 7.765957579808052, 4.030939822007416, 8.28230528118895], \"z\": [0.0736510078221581, 0.46079265848178746, 1.3511700219364273, 2.7645283935594986, 2.4410084433391384, 3.267182273602211, 6.694415141752299, 6.349678942286682, 6.728549997827893, 0.23598974769576486, 6.915297296223086, 2.6594195140127512, 6.911151465673739, 5.399726859580242], \"type\": \"scatter3d\"}]}, {\"data\": [{\"marker\": {\"color\": \"blue\", \"size\": 10}, \"mode\": \"markers\", \"name\": \"observed objectives\", \"x\": [4.533330662181171, 2.4151583196525395, 2.1283255170892517, 1.4815800626711841, 9.196227973487561, 4.301625713847673, 7.554935235370545, 3.2016532566805473, 2.669605486548057, 3.290226454059422, 0.23062815717408705, 2.6668070079912902, 3.477417321572958, 2.1570506668428604, 4.220754459010385, 3.7522644895974606, 6.81541844603797, 8.599624691401939, 0.622673432467017, 2.1962236775542685, 0.47562868592402335, 5.975238918598476, 0.16693252839402903, 0.3010093942557814, 1.479890373082284, 0.9411187080604859, 0.5911236177696302, 2.1703750680962006, 1.4869815809793518, 0.7391131187837279], \"y\": [6.023129299002695, 0.7671039178360047, 1.5607918967456855, 1.2445939474149117, 0.08289372870921259, 2.0088825008593743, 0.32192845619985583, 6.354340022178383, 4.02360950987, 1.4550368992431406, 3.1432018210843973, 0.01859628617041176, 2.35776294472259, 4.030939822007416, 1.8940032221219165, 5.418401033601961, 2.841776305584818, 1.3257708655322125, 0.2778062499877374, 2.9317772131818844, 6.541486299713317, 2.3825939650012837, 1.8236198181456764, 8.28230528118895, 6.9881516963852945, 0.07202157111747888, 2.7157293114400294, 7.765957579808052, 4.407139135868046, 7.599499055787875], \"z\": [2.4410084433391384, 0.5541846302305486, 0.002048308879315178, 2.8933867142398544, 0.0736510078221581, 3.267182273602211, 1.3511700219364273, 0.23598974769576486, 4.229708860198898, 0.8663738910873127, 1.4940621756311803, 0.03694410376614173, 6.728549997827893, 6.911151465673739, 6.694415141752299, 6.349678942286682, 2.7645283935594986, 0.46079265848178746, 0.51826935741091, 6.915297296223086, 1.817024894002964, 2.1449031543310646, 2.4375961439955227, 5.399726859580242, 2.5026337132831546, 0.6274897434812922, 1.225415016933717, 2.6594195140127512, 2.3827768360554407, 1.026657935099257], \"type\": \"scatter3d\"}, {\"name\": \"pareto-ish\", \"x\": [9.196227973487561, 8.599624691401939, 7.554935235370545, 6.81541844603797, 4.533330662181171, 4.301625713847673, 4.220754459010385, 3.7522644895974606, 3.477417321572958, 3.2016532566805473, 2.1962236775542685, 2.1703750680962006, 2.1570506668428604, 0.3010093942557814], \"y\": [0.08289372870921259, 1.3257708655322125, 0.32192845619985583, 2.841776305584818, 6.023129299002695, 2.0088825008593743, 1.8940032221219165, 5.418401033601961, 2.35776294472259, 6.354340022178383, 2.9317772131818844, 7.765957579808052, 4.030939822007416, 8.28230528118895], \"z\": [0.0736510078221581, 0.46079265848178746, 1.3511700219364273, 2.7645283935594986, 2.4410084433391384, 3.267182273602211, 6.694415141752299, 6.349678942286682, 6.728549997827893, 0.23598974769576486, 6.915297296223086, 2.6594195140127512, 6.911151465673739, 5.399726859580242], \"type\": \"scatter3d\"}]}, {\"data\": [{\"marker\": {\"color\": \"blue\", \"size\": 10}, \"mode\": \"markers\", \"name\": \"observed objectives\", \"x\": [4.533330662181171, 2.4151583196525395, 2.1283255170892517, 1.4815800626711841, 9.196227973487561, 4.301625713847673, 7.554935235370545, 3.2016532566805473, 2.669605486548057, 3.290226454059422, 0.23062815717408705, 2.6668070079912902, 3.477417321572958, 2.1570506668428604, 4.220754459010385, 3.7522644895974606, 6.81541844603797, 8.599624691401939, 0.622673432467017, 2.1962236775542685, 0.47562868592402335, 5.975238918598476, 0.16693252839402903, 0.3010093942557814, 1.479890373082284, 0.9411187080604859, 0.5911236177696302, 2.1703750680962006, 1.4869815809793518, 0.7391131187837279, 3.956091427763704], \"y\": [6.023129299002695, 0.7671039178360047, 1.5607918967456855, 1.2445939474149117, 0.08289372870921259, 2.0088825008593743, 0.32192845619985583, 6.354340022178383, 4.02360950987, 1.4550368992431406, 3.1432018210843973, 0.01859628617041176, 2.35776294472259, 4.030939822007416, 1.8940032221219165, 5.418401033601961, 2.841776305584818, 1.3257708655322125, 0.2778062499877374, 2.9317772131818844, 6.541486299713317, 2.3825939650012837, 1.8236198181456764, 8.28230528118895, 6.9881516963852945, 0.07202157111747888, 2.7157293114400294, 7.765957579808052, 4.407139135868046, 7.599499055787875, 6.52665548461633], \"z\": [2.4410084433391384, 0.5541846302305486, 0.002048308879315178, 2.8933867142398544, 0.0736510078221581, 3.267182273602211, 1.3511700219364273, 0.23598974769576486, 4.229708860198898, 0.8663738910873127, 1.4940621756311803, 0.03694410376614173, 6.728549997827893, 6.911151465673739, 6.694415141752299, 6.349678942286682, 2.7645283935594986, 0.46079265848178746, 0.51826935741091, 6.915297296223086, 1.817024894002964, 2.1449031543310646, 2.4375961439955227, 5.399726859580242, 2.5026337132831546, 0.6274897434812922, 1.225415016933717, 2.6594195140127512, 2.3827768360554407, 1.026657935099257, 1.3995893683183054], \"type\": \"scatter3d\"}, {\"name\": \"pareto-ish\", \"x\": [9.196227973487561, 8.599624691401939, 7.554935235370545, 6.81541844603797, 4.533330662181171, 4.301625713847673, 4.220754459010385, 3.956091427763704, 3.7522644895974606, 3.477417321572958, 2.1962236775542685, 2.1703750680962006, 2.1570506668428604, 0.3010093942557814], \"y\": [0.08289372870921259, 1.3257708655322125, 0.32192845619985583, 2.841776305584818, 6.023129299002695, 2.0088825008593743, 1.8940032221219165, 6.52665548461633, 5.418401033601961, 2.35776294472259, 2.9317772131818844, 7.765957579808052, 4.030939822007416, 8.28230528118895], \"z\": [0.0736510078221581, 0.46079265848178746, 1.3511700219364273, 2.7645283935594986, 2.4410084433391384, 3.267182273602211, 6.694415141752299, 1.3995893683183054, 6.349678942286682, 6.728549997827893, 6.915297296223086, 2.6594195140127512, 6.911151465673739, 5.399726859580242], \"type\": \"scatter3d\"}]}, {\"data\": [{\"marker\": {\"color\": \"blue\", \"size\": 10}, \"mode\": \"markers\", \"name\": \"observed objectives\", \"x\": [4.533330662181171, 2.4151583196525395, 2.1283255170892517, 1.4815800626711841, 9.196227973487561, 4.301625713847673, 7.554935235370545, 3.2016532566805473, 2.669605486548057, 3.290226454059422, 0.23062815717408705, 2.6668070079912902, 3.477417321572958, 2.1570506668428604, 4.220754459010385, 3.7522644895974606, 6.81541844603797, 8.599624691401939, 0.622673432467017, 2.1962236775542685, 0.47562868592402335, 5.975238918598476, 0.16693252839402903, 0.3010093942557814, 1.479890373082284, 0.9411187080604859, 0.5911236177696302, 2.1703750680962006, 1.4869815809793518, 0.7391131187837279, 3.956091427763704, 5.88185064000466], \"y\": [6.023129299002695, 0.7671039178360047, 1.5607918967456855, 1.2445939474149117, 0.08289372870921259, 2.0088825008593743, 0.32192845619985583, 6.354340022178383, 4.02360950987, 1.4550368992431406, 3.1432018210843973, 0.01859628617041176, 2.35776294472259, 4.030939822007416, 1.8940032221219165, 5.418401033601961, 2.841776305584818, 1.3257708655322125, 0.2778062499877374, 2.9317772131818844, 6.541486299713317, 2.3825939650012837, 1.8236198181456764, 8.28230528118895, 6.9881516963852945, 0.07202157111747888, 2.7157293114400294, 7.765957579808052, 4.407139135868046, 7.599499055787875, 6.52665548461633, 3.339924003935272], \"z\": [2.4410084433391384, 0.5541846302305486, 0.002048308879315178, 2.8933867142398544, 0.0736510078221581, 3.267182273602211, 1.3511700219364273, 0.23598974769576486, 4.229708860198898, 0.8663738910873127, 1.4940621756311803, 0.03694410376614173, 6.728549997827893, 6.911151465673739, 6.694415141752299, 6.349678942286682, 2.7645283935594986, 0.46079265848178746, 0.51826935741091, 6.915297296223086, 1.817024894002964, 2.1449031543310646, 2.4375961439955227, 5.399726859580242, 2.5026337132831546, 0.6274897434812922, 1.225415016933717, 2.6594195140127512, 2.3827768360554407, 1.026657935099257, 1.3995893683183054, 5.361679328383294], \"type\": \"scatter3d\"}, {\"name\": \"pareto-ish\", \"x\": [9.196227973487561, 8.599624691401939, 7.554935235370545, 6.81541844603797, 5.88185064000466, 4.533330662181171, 4.220754459010385, 3.956091427763704, 3.7522644895974606, 3.477417321572958, 2.1962236775542685, 2.1703750680962006, 2.1570506668428604, 0.3010093942557814], \"y\": [0.08289372870921259, 1.3257708655322125, 0.32192845619985583, 2.841776305584818, 3.339924003935272, 6.023129299002695, 1.8940032221219165, 6.52665548461633, 5.418401033601961, 2.35776294472259, 2.9317772131818844, 7.765957579808052, 4.030939822007416, 8.28230528118895], \"z\": [0.0736510078221581, 0.46079265848178746, 1.3511700219364273, 2.7645283935594986, 5.361679328383294, 2.4410084433391384, 6.694415141752299, 1.3995893683183054, 6.349678942286682, 6.728549997827893, 6.915297296223086, 2.6594195140127512, 6.911151465673739, 5.399726859580242], \"type\": \"scatter3d\"}]}, {\"data\": [{\"marker\": {\"color\": \"blue\", \"size\": 10}, \"mode\": \"markers\", \"name\": \"observed objectives\", \"x\": [4.533330662181171, 2.4151583196525395, 2.1283255170892517, 1.4815800626711841, 9.196227973487561, 4.301625713847673, 7.554935235370545, 3.2016532566805473, 2.669605486548057, 3.290226454059422, 0.23062815717408705, 2.6668070079912902, 3.477417321572958, 2.1570506668428604, 4.220754459010385, 3.7522644895974606, 6.81541844603797, 8.599624691401939, 0.622673432467017, 2.1962236775542685, 0.47562868592402335, 5.975238918598476, 0.16693252839402903, 0.3010093942557814, 1.479890373082284, 0.9411187080604859, 0.5911236177696302, 2.1703750680962006, 1.4869815809793518, 0.7391131187837279, 3.956091427763704, 5.88185064000466, 2.1156055688314845], \"y\": [6.023129299002695, 0.7671039178360047, 1.5607918967456855, 1.2445939474149117, 0.08289372870921259, 2.0088825008593743, 0.32192845619985583, 6.354340022178383, 4.02360950987, 1.4550368992431406, 3.1432018210843973, 0.01859628617041176, 2.35776294472259, 4.030939822007416, 1.8940032221219165, 5.418401033601961, 2.841776305584818, 1.3257708655322125, 0.2778062499877374, 2.9317772131818844, 6.541486299713317, 2.3825939650012837, 1.8236198181456764, 8.28230528118895, 6.9881516963852945, 0.07202157111747888, 2.7157293114400294, 7.765957579808052, 4.407139135868046, 7.599499055787875, 6.52665548461633, 3.339924003935272, 0.4629683941323652], \"z\": [2.4410084433391384, 0.5541846302305486, 0.002048308879315178, 2.8933867142398544, 0.0736510078221581, 3.267182273602211, 1.3511700219364273, 0.23598974769576486, 4.229708860198898, 0.8663738910873127, 1.4940621756311803, 0.03694410376614173, 6.728549997827893, 6.911151465673739, 6.694415141752299, 6.349678942286682, 2.7645283935594986, 0.46079265848178746, 0.51826935741091, 6.915297296223086, 1.817024894002964, 2.1449031543310646, 2.4375961439955227, 5.399726859580242, 2.5026337132831546, 0.6274897434812922, 1.225415016933717, 2.6594195140127512, 2.3827768360554407, 1.026657935099257, 1.3995893683183054, 5.361679328383294, 1.2466942337609477], \"type\": \"scatter3d\"}, {\"name\": \"pareto-ish\", \"x\": [9.196227973487561, 8.599624691401939, 7.554935235370545, 6.81541844603797, 5.88185064000466, 4.533330662181171, 4.220754459010385, 3.956091427763704, 3.7522644895974606, 3.477417321572958, 2.1962236775542685, 2.1703750680962006, 2.1570506668428604, 0.3010093942557814], \"y\": [0.08289372870921259, 1.3257708655322125, 0.32192845619985583, 2.841776305584818, 3.339924003935272, 6.023129299002695, 1.8940032221219165, 6.52665548461633, 5.418401033601961, 2.35776294472259, 2.9317772131818844, 7.765957579808052, 4.030939822007416, 8.28230528118895], \"z\": [0.0736510078221581, 0.46079265848178746, 1.3511700219364273, 2.7645283935594986, 5.361679328383294, 2.4410084433391384, 6.694415141752299, 1.3995893683183054, 6.349678942286682, 6.728549997827893, 6.915297296223086, 2.6594195140127512, 6.911151465673739, 5.399726859580242], \"type\": \"scatter3d\"}]}, {\"data\": [{\"marker\": {\"color\": \"blue\", \"size\": 10}, \"mode\": \"markers\", \"name\": \"observed objectives\", \"x\": [4.533330662181171, 2.4151583196525395, 2.1283255170892517, 1.4815800626711841, 9.196227973487561, 4.301625713847673, 7.554935235370545, 3.2016532566805473, 2.669605486548057, 3.290226454059422, 0.23062815717408705, 2.6668070079912902, 3.477417321572958, 2.1570506668428604, 4.220754459010385, 3.7522644895974606, 6.81541844603797, 8.599624691401939, 0.622673432467017, 2.1962236775542685, 0.47562868592402335, 5.975238918598476, 0.16693252839402903, 0.3010093942557814, 1.479890373082284, 0.9411187080604859, 0.5911236177696302, 2.1703750680962006, 1.4869815809793518, 0.7391131187837279, 3.956091427763704, 5.88185064000466, 2.1156055688314845, 1.4103226344002648], \"y\": [6.023129299002695, 0.7671039178360047, 1.5607918967456855, 1.2445939474149117, 0.08289372870921259, 2.0088825008593743, 0.32192845619985583, 6.354340022178383, 4.02360950987, 1.4550368992431406, 3.1432018210843973, 0.01859628617041176, 2.35776294472259, 4.030939822007416, 1.8940032221219165, 5.418401033601961, 2.841776305584818, 1.3257708655322125, 0.2778062499877374, 2.9317772131818844, 6.541486299713317, 2.3825939650012837, 1.8236198181456764, 8.28230528118895, 6.9881516963852945, 0.07202157111747888, 2.7157293114400294, 7.765957579808052, 4.407139135868046, 7.599499055787875, 6.52665548461633, 3.339924003935272, 0.4629683941323652, 4.320661428876639], \"z\": [2.4410084433391384, 0.5541846302305486, 0.002048308879315178, 2.8933867142398544, 0.0736510078221581, 3.267182273602211, 1.3511700219364273, 0.23598974769576486, 4.229708860198898, 0.8663738910873127, 1.4940621756311803, 0.03694410376614173, 6.728549997827893, 6.911151465673739, 6.694415141752299, 6.349678942286682, 2.7645283935594986, 0.46079265848178746, 0.51826935741091, 6.915297296223086, 1.817024894002964, 2.1449031543310646, 2.4375961439955227, 5.399726859580242, 2.5026337132831546, 0.6274897434812922, 1.225415016933717, 2.6594195140127512, 2.3827768360554407, 1.026657935099257, 1.3995893683183054, 5.361679328383294, 1.2466942337609477, 8.141110678146072], \"type\": \"scatter3d\"}, {\"name\": \"pareto-ish\", \"x\": [9.196227973487561, 8.599624691401939, 7.554935235370545, 6.81541844603797, 5.88185064000466, 4.533330662181171, 4.220754459010385, 3.956091427763704, 3.7522644895974606, 3.477417321572958, 2.1962236775542685, 2.1703750680962006, 2.1570506668428604, 1.4103226344002648, 0.3010093942557814], \"y\": [0.08289372870921259, 1.3257708655322125, 0.32192845619985583, 2.841776305584818, 3.339924003935272, 6.023129299002695, 1.8940032221219165, 6.52665548461633, 5.418401033601961, 2.35776294472259, 2.9317772131818844, 7.765957579808052, 4.030939822007416, 4.320661428876639, 8.28230528118895], \"z\": [0.0736510078221581, 0.46079265848178746, 1.3511700219364273, 2.7645283935594986, 5.361679328383294, 2.4410084433391384, 6.694415141752299, 1.3995893683183054, 6.349678942286682, 6.728549997827893, 6.915297296223086, 2.6594195140127512, 6.911151465673739, 8.141110678146072, 5.399726859580242], \"type\": \"scatter3d\"}]}, {\"data\": [{\"marker\": {\"color\": \"blue\", \"size\": 10}, \"mode\": \"markers\", \"name\": \"observed objectives\", \"x\": [4.533330662181171, 2.4151583196525395, 2.1283255170892517, 1.4815800626711841, 9.196227973487561, 4.301625713847673, 7.554935235370545, 3.2016532566805473, 2.669605486548057, 3.290226454059422, 0.23062815717408705, 2.6668070079912902, 3.477417321572958, 2.1570506668428604, 4.220754459010385, 3.7522644895974606, 6.81541844603797, 8.599624691401939, 0.622673432467017, 2.1962236775542685, 0.47562868592402335, 5.975238918598476, 0.16693252839402903, 0.3010093942557814, 1.479890373082284, 0.9411187080604859, 0.5911236177696302, 2.1703750680962006, 1.4869815809793518, 0.7391131187837279, 3.956091427763704, 5.88185064000466, 2.1156055688314845, 1.4103226344002648, 8.465013596283738], \"y\": [6.023129299002695, 0.7671039178360047, 1.5607918967456855, 1.2445939474149117, 0.08289372870921259, 2.0088825008593743, 0.32192845619985583, 6.354340022178383, 4.02360950987, 1.4550368992431406, 3.1432018210843973, 0.01859628617041176, 2.35776294472259, 4.030939822007416, 1.8940032221219165, 5.418401033601961, 2.841776305584818, 1.3257708655322125, 0.2778062499877374, 2.9317772131818844, 6.541486299713317, 2.3825939650012837, 1.8236198181456764, 8.28230528118895, 6.9881516963852945, 0.07202157111747888, 2.7157293114400294, 7.765957579808052, 4.407139135868046, 7.599499055787875, 6.52665548461633, 3.339924003935272, 0.4629683941323652, 4.320661428876639, 1.1364112418633838], \"z\": [2.4410084433391384, 0.5541846302305486, 0.002048308879315178, 2.8933867142398544, 0.0736510078221581, 3.267182273602211, 1.3511700219364273, 0.23598974769576486, 4.229708860198898, 0.8663738910873127, 1.4940621756311803, 0.03694410376614173, 6.728549997827893, 6.911151465673739, 6.694415141752299, 6.349678942286682, 2.7645283935594986, 0.46079265848178746, 0.51826935741091, 6.915297296223086, 1.817024894002964, 2.1449031543310646, 2.4375961439955227, 5.399726859580242, 2.5026337132831546, 0.6274897434812922, 1.225415016933717, 2.6594195140127512, 2.3827768360554407, 1.026657935099257, 1.3995893683183054, 5.361679328383294, 1.2466942337609477, 8.141110678146072, 3.880888992520467], \"type\": \"scatter3d\"}, {\"name\": \"pareto-ish\", \"x\": [9.196227973487561, 8.599624691401939, 8.465013596283738, 6.81541844603797, 5.88185064000466, 4.533330662181171, 4.220754459010385, 3.956091427763704, 3.7522644895974606, 3.477417321572958, 2.1962236775542685, 2.1703750680962006, 2.1570506668428604, 1.4103226344002648, 0.3010093942557814], \"y\": [0.08289372870921259, 1.3257708655322125, 1.1364112418633838, 2.841776305584818, 3.339924003935272, 6.023129299002695, 1.8940032221219165, 6.52665548461633, 5.418401033601961, 2.35776294472259, 2.9317772131818844, 7.765957579808052, 4.030939822007416, 4.320661428876639, 8.28230528118895], \"z\": [0.0736510078221581, 0.46079265848178746, 3.880888992520467, 2.7645283935594986, 5.361679328383294, 2.4410084433391384, 6.694415141752299, 1.3995893683183054, 6.349678942286682, 6.728549997827893, 6.915297296223086, 2.6594195140127512, 6.911151465673739, 8.141110678146072, 5.399726859580242], \"type\": \"scatter3d\"}]}]);\n",
       "                        }).then(function(){\n",
       "                            \n",
       "var gd = document.getElementById('fa27b0ad-6ffa-46ad-9ea5-08032a22c82f');\n",
       "var x = new MutationObserver(function (mutations, observer) {{\n",
       "        var display = window.getComputedStyle(gd).display;\n",
       "        if (!display || display === 'none') {{\n",
       "            console.log([gd, 'removed!']);\n",
       "            Plotly.purge(gd);\n",
       "            observer.disconnect();\n",
       "        }}\n",
       "}});\n",
       "\n",
       "// Listen for the removal of the full notebook cells\n",
       "var notebookContainer = gd.closest('#notebook-container');\n",
       "if (notebookContainer) {{\n",
       "    x.observe(notebookContainer, {childList: true});\n",
       "}}\n",
       "\n",
       "// Listen for the clearing of the current output cell\n",
       "var outputEl = gd.closest('.output');\n",
       "if (outputEl) {{\n",
       "    x.observe(outputEl, {childList: true});\n",
       "}}\n",
       "\n",
       "                        })                };                });            </script>        </div>"
      ]
     },
     "metadata": {},
     "output_type": "display_data"
    }
   ],
   "source": [
    "import plotly.graph_objects as go\n",
    "\n",
    "\n",
    "# Create figure\n",
    "fig = go.Figure(\n",
    "    data=[\n",
    "        go.Scatter3d(\n",
    "            x=objectives_over_time[0]['y0'],\n",
    "            y=objectives_over_time[0]['y1'],\n",
    "            z=objectives_over_time[0]['y2'],\n",
    "            mode=\"markers\",\n",
    "            marker=dict(color=\"blue\", size=10),\n",
    "            name='observed objectives'\n",
    "        ),\n",
    "        go.Scatter3d(\n",
    "            x=pareto_dfs_over_time[0]['y0'],\n",
    "            y=pareto_dfs_over_time[0]['y1'],\n",
    "            z=objectives_over_time[0]['y2'],\n",
    "            name='pareto-ish'\n",
    "            #mode=\"markers\",\n",
    "            #marker=dict(color=\"red\", size=10)\n",
    "        )\n",
    "    ],\n",
    "    layout=go.Layout(\n",
    "        scene = dict(\n",
    "            xaxis=dict(nticks=4, range=[0,10]),\n",
    "            yaxis=dict(nticks=4, range=[0,10]),\n",
    "            zaxis=dict(nticks=4, range=[0,10]),\n",
    "        ),\n",
    "        title_text=\"Pareto over time\",\n",
    "        hovermode=\"closest\",\n",
    "        updatemenus=[dict(type=\"buttons\", buttons=[dict(label=\"Play\", method=\"animate\", args=[None])])],\n",
    "        width=600,\n",
    "        height=600\n",
    "    ),\n",
    "    frames=[\n",
    "        go.Frame(\n",
    "            data=[\n",
    "                go.Scatter3d(\n",
    "                    x=objectives_over_time[i]['y0'],\n",
    "                    y=objectives_over_time[i]['y1'],\n",
    "                    z=objectives_over_time[i]['y2'],\n",
    "                    mode=\"markers\",\n",
    "                    marker=dict(color=\"blue\", size=10),\n",
    "                    name='observed objectives'\n",
    "                ),\n",
    "                go.Scatter3d(\n",
    "                    x=pareto_dfs_over_time[i]['y0'],\n",
    "                    y=pareto_dfs_over_time[i]['y1'],\n",
    "                    z=pareto_dfs_over_time[i]['y2'],\n",
    "                    name='pareto-ish'\n",
    "                    #mode=\"markers\",\n",
    "                    #marker=dict(color=\"red\", size=10)\n",
    "                )\n",
    "            ]\n",
    "        )\n",
    "        for i in objectives_df.index\n",
    "    ]\n",
    ")\n",
    "\n",
    "camera = dict(\n",
    "    up=dict(x=0, y=0, z=1),\n",
    "    center=dict(x=0, y=0, z=0),\n",
    "    eye=dict(x=10, y=10, z=10)\n",
    ")\n",
    "\n",
    "#fig.update_layout(scene_camera=camera, title='Pareto over time')\n",
    "\n",
    "fig.show()"
   ]
  },
  {
   "cell_type": "code",
   "execution_count": null,
   "metadata": {},
   "outputs": [],
   "source": []
  }
 ],
 "metadata": {
  "kernelspec": {
   "display_name": "Python 3",
   "language": "python",
   "name": "python3"
  },
  "language_info": {
   "codemirror_mode": {
    "name": "ipython",
    "version": 3
   },
   "file_extension": ".py",
   "mimetype": "text/x-python",
   "name": "python",
   "nbconvert_exporter": "python",
   "pygments_lexer": "ipython3",
   "version": "3.8.6"
  }
 },
 "nbformat": 4,
 "nbformat_minor": 4
}
